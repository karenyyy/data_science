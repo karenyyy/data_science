{
 "cells": [
  {
   "cell_type": "markdown",
   "metadata": {
    "collapsed": true
   },
   "source": [
    "## Exploration: Synsets"
   ]
  },
  {
   "cell_type": "markdown",
   "metadata": {
    "collapsed": true
   },
   "source": [
    "This notebook explores the image metadata of each synset, and finally selects the synsets we want to use."
   ]
  },
  {
   "cell_type": "code",
   "execution_count": 4,
   "metadata": {
    "collapsed": false
   },
   "outputs": [
    {
     "name": "stdout",
     "output_type": "stream",
     "text": [
      "265\n",
      "{'n07874780': 611, 'n04067472': 663, 'n03360622': 728, 'n02948072': 621, 'n02002724': 654, 'n04317175': 602, 'n09436708': 3691, 'n07935504': 1261, 'n03207941': 678, 'n02802426': 1327, 'n03636649': 1095, 'n03042490': 602, 'n03017168': 653, 'n03089624': 600, 'n03649909': 610, 'n01641391': 642, 'n03814906': 757, 'n03773035': 683, 'n02231487': 615, 'n02958343': 1586, 'n04149813': 627, 'n02699494': 615, 'n03770439': 610, 'n04325704': 600, 'n02403003': 622, 'n04019541': 604, 'n03599486': 703, 'n02259212': 657, 'n03759954': 799, 'n09835506': 735, 'n01950731': 639, 'n03733281': 791, 'n04179913': 631, 'n02077923': 625, 'n04562935': 666, 'n02395406': 614, 'n02849154': 1229, 'n03761084': 689, 'n04275548': 669, 'n04532670': 617, 'n01986214': 630, 'n04465501': 699, 'n01774384': 652, 'n04370048': 608, 'n02841315': 616, 'n04435653': 627, 'n04102406': 660, 'n03497657': 603, 'n01644373': 660, 'n02013706': 744, 'n03992509': 612, 'n02730930': 604, 'n03001627': 1330, 'n07875152': 639, 'n02508021': 1427, 'n04107743': 1674, 'n04296562': 754, 'n03085013': 671, 'n04613696': 613, 'n04350905': 669, 'n04070727': 624, 'n06794110': 1311, 'n01629819': 644, 'n03325088': 918, 'n03416489': 946, 'n03781244': 627, 'n02415577': 611, 'n02113799': 828, 'n02472293': 910, 'n04487081': 619, 'n03447721': 651, 'n04467665': 1184, 'n02277742': 637, 'n02999410': 646, 'n01855032': 699, 'n03179701': 1009, 'n04209239': 674, 'n03513137': 731, 'n02226429': 692, 'n10565667': 689, 'n04152593': 649, 'n07920052': 601, 'n04118538': 689, 'n07579787': 636, 'n07942152': 3311, 'n04069434': 603, 'n04398044': 639, 'n03658185': 611, 'n03837869': 652, 'n04328186': 685, 'n06793231': 1524, 'n02132136': 808, 'n01503061': 1607, 'n09450163': 711, 'n02990373': 676, 'n01917289': 663, 'n09421951': 703, 'n04004767': 732, 'n02802544': 1296, 'n04008634': 694, 'n09246464': 658, 'n03207743': 622, 'n03619890': 1052, 'n09282208': 1348, 'n03995372': 616, 'n03505667': 639, 'n03530642': 600, 'n04254777': 600, 'n04243546': 685, 'n02281787': 672, 'n04256520': 820, 'n04099969': 672, 'n03680355': 656, 'n04525038': 630, 'n09874725': 645, 'n03868863': 826, 'n09217230': 742, 'n03665366': 1727, 'n04335886': 893, 'n03844815': 610, 'n06874185': 948, 'n09393605': 702, 'n01871265': 694, 'n04118021': 1004, 'n04429376': 658, 'n02909870': 648, 'n04592741': 846, 'n03982430': 952, 'n01770393': 625, 'n03874599': 768, 'n03637318': 881, 'n03532672': 616, 'n03793489': 729, 'n03327234': 1074, 'n03197337': 625, 'n02879087': 615, 'n04025508': 825, 'n04311004': 660, 'n03803284': 624, 'n02236044': 712, 'n04366367': 621, 'n03180011': 771, 'n04546855': 885, 'n02815834': 604, 'n04326547': 833, 'n04215402': 811, 'n04587648': 1918, 'n02084071': 609, 'n01983481': 644, 'n03642806': 679, 'n02913152': 2083, 'n03221720': 1771, 'n02430045': 691, 'n03706229': 679, 'n03733131': 677, 'n02169497': 606, 'n06277280': 1394, 'n04018667': 733, 'n03485407': 622, 'n04540053': 600, 'n03255030': 646, 'n02799071': 614, 'n03838899': 799, 'n04560804': 619, 'n04313503': 644, 'n02892201': 666, 'n09247410': 1015, 'n02165456': 700, 'n04209133': 854, 'n03273913': 1181, 'n03930313': 624, 'n02963159': 682, 'n02691156': 980, 'n07711569': 625, 'n04133789': 647, 'n03998194': 631, 'n14844693': 677, 'n10599806': 604, 'n03329302': 729, 'n01632458': 718, 'n03792972': 728, 'n04265275': 674, 'n02769748': 600, 'n02484322': 662, 'n03388043': 632, 'n03250847': 613, 'n03041632': 695, 'n09376198': 1032, 'n02074367': 675, 'n02410509': 604, 'n02791270': 664, 'n04405762': 733, 'n02443484': 644, 'n10148035': 722, 'n04456115': 631, 'n02802215': 1199, 'n07248320': 622, 'n02788148': 605, 'n01853498': 665, 'n02281406': 632, 'n03636248': 913, 'n04201297': 625, 'n03614007': 1502, 'n03691459': 776, 'n04447861': 654, 'n02268853': 601, 'n04021028': 659, 'n02731629': 624, 'n03903868': 614, 'n03505504': 617, 'n03814639': 699, 'n04023962': 645, 'n03902125': 890, 'n03980874': 631, 'n04379243': 1659, 'n04459362': 763, 'n02666196': 638, 'n02321529': 625, 'n02998563': 808, 'n04428191': 602, 'n09428293': 1255, 'n01855672': 678, 'n03854065': 603, 'n03692522': 646, 'n02374451': 693, 'n07584110': 691, 'n02108089': 939, 'n04608329': 872, 'n02846511': 634, 'n03931044': 697, 'n03938244': 613, 'n03314780': 625, 'n04194289': 1026, 'n02879718': 681, 'n02950826': 605, 'n02906734': 685, 'n03498962': 653, 'n09332890': 696, 'n06359193': 815, 'n02843684': 602, 'n04404412': 1041, 'n01641577': 647, 'n04330267': 1459, 'n13104059': 1229, 'n01605630': 652, 'n02280649': 697, 'n04479046': 663, 'n09288635': 795, 'n02808440': 758, 'n06277135': 662, 'n02165105': 637, 'n03502200': 605, 'n07836838': 658, 'n02768226': 607, 'n04251791': 630, 'n12102133': 1844, 'n03874293': 663, 'n09468604': 661, 'n01784675': 641, 'n03657121': 669, 'n02279972': 709, 'n00017222': 641, 'n03187595': 834, 'n02256656': 624, 'n07873807': 622}\n"
     ]
    }
   ],
   "source": [
    "## Get number of synsets which have bounding box annotations, which also contain >= 600 images\n",
    "\n",
    "import os, os.path\n",
    "from pprint import pprint\n",
    "import json\n",
    "import numpy as np\n",
    "\n",
    "bbox_annotations_path = 'data/bbox/Annotation'\n",
    "MIN_NO_OF_IMAGES = 600\n",
    "counts = {}\n",
    "\n",
    "synsets = [f for f in os.listdir(bbox_annotations_path)\n",
    "                if not os.path.isfile(os.path.join(bbox_annotations_path, f))]\n",
    "\n",
    "for synset in synsets:\n",
    "    path = bbox_annotations_path + '/' + synset\n",
    "    count = len([f for f in os.listdir(path) if os.path.isfile(os.path.join(path, f))])\n",
    "    counts[synset] = count\n",
    "\n",
    "populated_synsets = {k: v for k, v in counts.items() if v >= MIN_NO_OF_IMAGES}\n",
    "\n",
    "print(len(populated_synsets.items()))\n",
    "print(populated_synsets)\n"
   ]
  },
  {
   "cell_type": "code",
   "execution_count": 5,
   "metadata": {
    "collapsed": false,
    "scrolled": true
   },
   "outputs": [
    {
     "name": "stdout",
     "output_type": "stream",
     "text": [
      "{'n04067472': 'reel', 'n03360622': 'flat bench', 'n02948072': 'candle', 'n02002724': 'black stork', 'n04317175': 'stethoscope', 'n02374451': 'horse', 'n04265275': 'space heater', 'n03207941': 'dishwasher', 'n03179701': 'desk', 'n03042490': 'cliff dwelling', 'n03017168': 'chime', 'n03089624': 'confectionery', 'n03874599': 'padlock', 'n01641391': 'leopard frog', 'n03814906': 'necklace', 'n03773035': 'mirror', 'n03692522': 'loupe', 'n04149813': 'scoreboard', 'n02699494': 'altar', 'n04325704': 'stole', 'n02403003': 'ox', 'n04019541': 'puck', 'n03599486': 'jinrikisha', 'n02259212': 'leafhopper', 'n02231487': 'walking stick', 'n01950731': 'sea slug', 'n03733281': 'maze', 'n02841315': 'binoculars', 'n02077923': 'sea lion', 'n04562935': 'water tower', 'n02395406': 'hog', 'n03761084': 'microwave', 'n02990373': 'ceiling', 'n04532670': 'viaduct', 'n04465501': 'tractor', 'n01774384': 'black widow', 'n04370048': 'sweater', 'n07873807': 'pizza', 'n04435653': 'tile roof', 'n03498962': 'hatchet', 'n03691459': 'loudspeaker', 'n04102406': 'roller coaster', 'n02013706': 'limpkin', 'n03992509': \"potter's wheel\", 'n02730930': 'apron', 'n02113799': 'standard poodle', 'n07875152': 'potpie', 'n02508021': 'raccoon', 'n04107743': 'room light', 'n03085013': 'computer keyboard', 'n04613696': 'yurt', 'n04350905': 'suit', 'n04070727': 'refrigerator', 'n04366367': 'suspension bridge', 'n01629819': 'European fire salamander', 'n03325088': 'faucet', 'n03781244': 'monastery', 'n02415577': 'bighorn', 'n03001627': 'chair', 'n02472293': 'homo', 'n03637318': 'lampshade', 'n03447721': 'gong', 'n04467665': 'trailer truck', 'n02277742': 'ringlet', 'n02999410': 'chain', 'n01855032': 'red-breasted merganser', 'n07584110': 'consomme', 'n03314780': 'face powder', 'n02226429': 'grasshopper', 'n09288635': 'geyser', 'n02074367': 'dugong', 'n03197337': 'digital watch', 'n07920052': 'espresso', 'n04118538': 'rugby ball', 'n07579787': 'plate', 'n04069434': 'reflex camera', 'n04398044': 'teapot', 'n03658185': 'letter opener', 'n03837869': 'obelisk', 'n04328186': 'stopwatch', 'n02132136': 'brown bear', 'n01503061': 'bird', 'n09450163': 'sun', 'n01917289': 'brain coral', 'n03505667': 'headset', 'n02802544': 'basketball court', 'n04008634': 'projectile', 'n09246464': 'cliff', 'n01983481': 'American lobster', 'n03619890': 'kitchen', 'n06359193': 'web site', 'n02256656': 'cicada', 'n03995372': 'power drill', 'n02843684': 'birdhouse', 'n03530642': 'honeycomb', 'n04254777': 'sock', 'n04243546': 'slot', 'n02281787': 'lycaenid', 'n04256520': 'sofa', 'n04099969': 'rocking chair', 'n03680355': 'Loafer', 'n09874725': 'bride', 'n03868863': 'oxygen mask', 'n03665366': 'light', 'n03844815': 'oilskin', 'n01871265': 'tusker', 'n04429376': 'throne', 'n02484322': 'monkey', 'n04592741': 'wing', 'n03982430': 'pool table', 'n01770393': 'scorpion', 'n03649909': 'lawn mower', 'n03532672': 'hook', 'n03327234': 'fence', 'n03759954': 'microphone', 'n04025508': 'pup tent', 'n04311004': 'steel arch bridge', 'n03803284': 'muzzle', 'n02236044': 'mantis', 'n01644373': 'tree frog', 'n03180011': 'desktop computer', 'n03416489': 'garage', 'n04326547': 'stone wall', 'n04251791': 'snowboard', 'n02084071': 'dog', 'n03207743': 'dishrag', 'n03642806': 'laptop', 'n03792972': 'mountain tent', 'n02430045': 'deer', 'n03706229': 'magnetic compass', 'n03733131': 'maypole', 'n02169497': 'leaf beetle', 'n03485407': 'hand-held computer', 'n04540053': 'volleyball', 'n03255030': 'dumbbell', 'n02799071': 'baseball', 'n03770439': 'miniskirt', 'n04560804': 'water jug', 'n04313503': 'steering wheel', 'n02165456': 'ladybug', 'n04209133': 'shower cap', 'n02909870': 'bucket', 'n04487081': 'trolleybus', 'n03273913': 'electric refrigerator', 'n03930313': 'picket fence', 'n02963159': 'cardigan', 'n02691156': 'airplane', 'n07711569': 'mashed potato', 'n04133789': 'sandal', 'n03998194': 'prayer rug', 'n03838899': 'oboe', 'n04525038': 'velvet', 'n03329302': 'Ferris wheel', 'n01632458': 'spotted salamander', 'n07874780': 'porridge', 'n02769748': 'backpack', 'n02958343': 'car', 'n03388043': 'fountain', 'n03250847': 'drumstick', 'n03041632': 'cleaver', 'n01986214': 'hermit crab', 'n04335886': 'streetlight', 'n02410509': 'bison', 'n02791270': 'barbershop', 'n04405762': 'television monitor', 'n02443484': 'black-footed ferret', 'n07836838': 'chocolate sauce', 'n04023962': 'punching bag', 'n07248320': 'book jacket', 'n02788148': 'bannister', 'n01853498': 'scoter', 'n02768226': 'backboard', 'n03636248': 'lamp', 'n04201297': 'shoji', 'n03614007': 'keyboard', 'n02892201': 'brass', 'n04447861': 'toilet seat', 'n02268853': 'damselfly', 'n04021028': 'pullover', 'n02731629': 'aqualung', 'n03903868': 'pedestal', 'n03505504': 'headscarf', 'n03814639': 'neck brace', 'n02815834': 'beaker', 'n03902125': 'pay-phone', 'n03980874': 'poncho', 'n04379243': 'table', 'n02666196': 'abacus', 'n02321529': 'sea cucumber', 'n04428191': 'thresher', 'n09428293': 'seashore', 'n01855672': 'goose', 'n03854065': 'organ', 'n04179913': 'sewing machine', 'n09217230': 'beach', 'n03636649': 'lamp', 'n09421951': 'sandbar', 'n04608329': 'writing desk', 'n06277135': 'radio', 'n03513137': 'helmet', 'n04194289': 'ship', 'n02950826': 'cannon', 'n02906734': 'broom', 'n04004767': 'printer', 'n09332890': 'lakeside', 'n03793489': 'mouse', 'n04275548': 'spider web', 'n01641577': 'bullfrog', 'n04330267': 'stove', 'n13104059': 'tree', 'n01605630': 'hawk', 'n02280649': 'cabbage butterfly', 'n04479046': 'trench coat', 'n02108089': 'boxer', 'n02165105': 'tiger beetle', 'n04456115': 'torch', 'n02281406': 'sulphur butterfly', 'n02879718': 'bow', 'n12102133': 'grass', 'n03874293': 'paddlewheel', 'n09468604': 'valley', 'n01784675': 'centipede', 'n03657121': 'lens cap', 'n02279972': 'monarch', 'n00017222': 'plant', 'n03187595': 'dial telephone', 'n04152593': 'screen'}\n"
     ]
    }
   ],
   "source": [
    "## Now make sure those synsets have names so they are interpretable -- because some do not\n",
    "## Discard the unnamed synsets\n",
    "\n",
    "synset_names = None\n",
    "NAMES_FILE_PATH = 'data/synset_names.json'\n",
    "with open(NAMES_FILE_PATH) as f:\n",
    "    synset_names = json.load(f)\n",
    "    \n",
    "named_populated_synsets = {}\n",
    "discarded_count = 0\n",
    "\n",
    "for synset in populated_synsets:\n",
    "    if synset in synset_names.keys():\n",
    "        synset_name = synset_names[synset].split(',')[0] # Only take the first of comma-separated alternative names\n",
    "        named_populated_synsets[synset] = synset_name\n",
    "    else:\n",
    "        discarded_count += 1\n",
    "        \n",
    "print(named_populated_synsets)\n"
   ]
  },
  {
   "cell_type": "code",
   "execution_count": 6,
   "metadata": {
    "collapsed": false,
    "scrolled": false
   },
   "outputs": [
    {
     "name": "stdout",
     "output_type": "stream",
     "text": [
      "Remaining: 227\n",
      "Discarded: 38\n"
     ]
    }
   ],
   "source": [
    "print(\"Remaining: \" + str(len(named_populated_synsets.items())))\n",
    "print(\"Discarded: \" + str(discarded_count))"
   ]
  },
  {
   "cell_type": "code",
   "execution_count": 10,
   "metadata": {
    "collapsed": false
   },
   "outputs": [
    {
     "name": "stdout",
     "output_type": "stream",
     "text": [
      "227\n",
      "All done.\n"
     ]
    }
   ],
   "source": [
    "\n",
    "# Write to file\n",
    "FILE_PATH = 'data/named_populated_synsets.json'\n",
    "data = json.dumps(named_populated_synsets)\n",
    "with open(FILE_PATH, 'w') as f:\n",
    "    f.write(data)\n",
    "\n",
    "\n",
    "final_synsets_counts = {}\n",
    "final_synsets_names = {}\n",
    "synsets_sorted = sorted(named_populated_synsets.items(), key=lambda x: x[1], reverse=True)\n",
    "print(len(synsets_sorted))\n",
    "# for i in range(200):\n",
    "for i in range(len(synsets_sorted)):\n",
    "    synset = synsets_sorted[i][0]\n",
    "    if synset in named_populated_synsets:\n",
    "        final_synsets_names[synset] = named_populated_synsets[synset]\n",
    "        final_synsets_counts[synset] = synsets_sorted[i][1]\n",
    "\n",
    "        \n",
    "FILE_PATH_1 = 'data/final_synsets_counts.json'\n",
    "FILE_PATH_2 = 'data/final_synsets_names.json'\n",
    "data1 = json.dumps(final_synsets_counts)\n",
    "data2 = json.dumps(final_synsets_names)\n",
    "with open(FILE_PATH_1, 'w') as f:\n",
    "    f.write(data1)\n",
    "with open(FILE_PATH_2, 'w') as f:\n",
    "    f.write(data2)\n",
    "\n",
    "print(\"All done.\")"
   ]
  },
  {
   "cell_type": "code",
   "execution_count": null,
   "metadata": {
    "collapsed": true
   },
   "outputs": [],
   "source": []
  }
 ],
 "metadata": {
  "kernelspec": {
   "display_name": "Python 3",
   "language": "python",
   "name": "python3"
  },
  "language_info": {
   "codemirror_mode": {
    "name": "ipython",
    "version": 3
   },
   "file_extension": ".py",
   "mimetype": "text/x-python",
   "name": "python",
   "nbconvert_exporter": "python",
   "pygments_lexer": "ipython3",
   "version": "3.5.2"
  }
 },
 "nbformat": 4,
 "nbformat_minor": 0
}
