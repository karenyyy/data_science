{
 "cells": [
  {
   "cell_type": "markdown",
   "metadata": {},
   "source": [
    "# Training a ConvNet PyTorch\n",
    "\n",
    "In this notebook, you'll learn how to use the powerful PyTorch framework to specify a conv net architecture and train it on the CIFAR-10 dataset."
   ]
  },
  {
   "cell_type": "code",
   "execution_count": 1,
   "metadata": {
    "collapsed": false
   },
   "outputs": [],
   "source": [
    "import torch\n",
    "import torch.nn as nn\n",
    "import torch.optim as optim\n",
    "from torch.autograd import Variable\n",
    "from torch.utils.data import DataLoader\n",
    "from torch.utils.data import sampler\n",
    "\n",
    "import torchvision.datasets as dset\n",
    "import torchvision.transforms as T\n",
    "\n",
    "import numpy as np\n",
    "\n",
    "import timeit"
   ]
  },
  {
   "cell_type": "markdown",
   "metadata": {},
   "source": [
    "## What's this PyTorch business?\n",
    "\n",
    "You've written a lot of code in this assignment to provide a whole host of neural network functionality. Dropout, Batch Norm, and 2D convolutions are some of the workhorses of deep learning in computer vision. You've also worked hard to make your code efficient and vectorized.\n",
    "\n",
    "For the last part of this assignment, though, we're going to leave behind your beautiful codebase and instead migrate to one of two popular deep learning frameworks: in this instance, PyTorch (or TensorFlow, if you switch over to that notebook). \n",
    "\n",
    "Why?\n",
    "\n",
    "* Our code will now run on GPUs! Much faster training. When using a framework like PyTorch or TensorFlow you can harness the power of the GPU for your own custom neural network architectures without having to write CUDA code directly (which is beyond the scope of this class).\n",
    "* We want you to be ready to use one of these frameworks for your project so you can experiment more efficiently than if you were writing every feature you want to use by hand. \n",
    "* We want you to stand on the shoulders of giants! TensorFlow and PyTorch are both excellent frameworks that will make your lives a lot easier, and now that you understand their guts, you are free to use them :) \n",
    "* We want you to be exposed to the sort of deep learning code you might run into in academia or industry. "
   ]
  },
  {
   "cell_type": "markdown",
   "metadata": {},
   "source": [
    "## How will I learn PyTorch?\n",
    "\n",
    "If you've used Torch before, but are new to PyTorch, this tutorial might be of use: http://pytorch.org/tutorials/beginner/former_torchies_tutorial.html\n",
    "\n",
    "Otherwise, this notebook will walk you through much of what you need to do to train models in Torch. See the end of the notebook for some links to helpful tutorials if you want to learn more or need further clarification on topics that aren't fully explained here."
   ]
  },
  {
   "cell_type": "markdown",
   "metadata": {},
   "source": [
    "## Load Datasets\n",
    "\n",
    "We load the CIFAR-10 dataset. This might take a couple minutes the first time you do it, but the files should stay cached after that."
   ]
  },
  {
   "cell_type": "code",
   "execution_count": 2,
   "metadata": {
    "collapsed": false
   },
   "outputs": [
    {
     "name": "stdout",
     "output_type": "stream",
     "text": [
      "Files already downloaded and verified\n",
      "Files already downloaded and verified\n",
      "Files already downloaded and verified\n"
     ]
    }
   ],
   "source": [
    "class ChunkSampler(sampler.Sampler):\n",
    "    \"\"\"Samples elements sequentially from some offset. \n",
    "    Arguments:\n",
    "        num_samples: # of desired datapoints\n",
    "        start: offset where we should start selecting from\n",
    "    \"\"\"\n",
    "    def __init__(self, num_samples, start = 0):\n",
    "        self.num_samples = num_samples\n",
    "        self.start = start\n",
    "\n",
    "    def __iter__(self):\n",
    "        return iter(range(self.start, self.start + self.num_samples))\n",
    "\n",
    "    def __len__(self):\n",
    "        return self.num_samples\n",
    "\n",
    "NUM_TRAIN = 49000\n",
    "NUM_VAL = 1000\n",
    "\n",
    "cifar10_train = dset.CIFAR10('./cs231n/datasets', train=True, download=True,\n",
    "                           transform=T.ToTensor())\n",
    "loader_train = DataLoader(cifar10_train, batch_size=64, sampler=ChunkSampler(NUM_TRAIN, 0))\n",
    "\n",
    "cifar10_val = dset.CIFAR10('./cs231n/datasets', train=True, download=True,\n",
    "                           transform=T.ToTensor())\n",
    "loader_val = DataLoader(cifar10_val, batch_size=64, sampler=ChunkSampler(NUM_VAL, NUM_TRAIN))\n",
    "\n",
    "cifar10_test = dset.CIFAR10('./cs231n/datasets', train=False, download=True,\n",
    "                          transform=T.ToTensor())\n",
    "loader_test = DataLoader(cifar10_test, batch_size=64)\n"
   ]
  },
  {
   "cell_type": "markdown",
   "metadata": {},
   "source": [
    "For now, we're going to use a CPU-friendly datatype. Later, we'll switch to a datatype that will move all our computations to the GPU and measure the speedup."
   ]
  },
  {
   "cell_type": "code",
   "execution_count": 3,
   "metadata": {
    "collapsed": true
   },
   "outputs": [],
   "source": [
    "dtype = torch.FloatTensor # the CPU datatype\n",
    "\n",
    "# Constant to control how frequently we print train loss\n",
    "print_every = 100\n",
    "\n",
    "# This is a little utility that we'll use to reset the model\n",
    "# if we want to re-initialize all our parameters\n",
    "def reset(m):\n",
    "    if hasattr(m, 'reset_parameters'):\n",
    "        m.reset_parameters()"
   ]
  },
  {
   "cell_type": "markdown",
   "metadata": {},
   "source": [
    "## Example Model\n",
    "\n",
    "### Some assorted tidbits\n",
    "\n",
    "Let's start by looking at a simple model. First, note that PyTorch operates on Tensors, which are n-dimensional arrays functionally analogous to numpy's ndarrays, with the additional feature that they can be used for computations on GPUs.\n",
    "\n",
    "We'll provide you with a Flatten function, which we explain here. Remember that our image data (and more relevantly, our intermediate feature maps) are initially N x C x H x W, where:\n",
    "* N is the number of datapoints\n",
    "* C is the number of channels\n",
    "* H is the height of the intermediate feature map in pixels\n",
    "* W is the height of the intermediate feature map in pixels\n",
    "\n",
    "This is the right way to represent the data when we are doing something like a 2D convolution, that needs spatial understanding of where the intermediate features are relative to each other. When we input  data into fully connected affine layers, however, we want each datapoint to be represented by a single vector -- it's no longer useful to segregate the different channels, rows, and columns of the data. So, we use a \"Flatten\" operation to collapse the C x H x W values per representation into a single long vector. The Flatten function below first reads in the N, C, H, and W values from a given batch of data, and then returns a \"view\" of that data. \"View\" is analogous to numpy's \"reshape\" method: it reshapes x's dimensions to be N x ??, where ?? is allowed to be anything (in this case, it will be C x H x W, but we don't need to specify that explicitly). "
   ]
  },
  {
   "cell_type": "code",
   "execution_count": 8,
   "metadata": {
    "collapsed": true
   },
   "outputs": [],
   "source": [
    "class Flatten(nn.Module):\n",
    "    def forward(self, x):\n",
    "        N, C, H, W = x.size() # read in N, C, H, W\n",
    "        return x.view(N, -1)  # \"flatten\" the C * H * W values into a single vector per image"
   ]
  },
  {
   "cell_type": "markdown",
   "metadata": {},
   "source": [
    "### The example model itself\n",
    "\n",
    "The first step to training your own model is defining its architecture.\n",
    "\n",
    "Here's an example of a convolutional neural network defined in PyTorch -- try to understand what each line is doing, remembering that each layer is composed upon the previous layer. We haven't trained anything yet - that'll come next - for now, we want you to understand how everything gets set up.  nn.Sequential is a container which applies each layer\n",
    "one after the other.\n",
    "\n",
    "In that example, you see 2D convolutional layers (Conv2d), ReLU activations, and fully-connected layers (Linear). You also see the Cross-Entropy loss function, and the Adam optimizer being used. \n",
    "\n",
    "Make sure you understand why the parameters of the Linear layer are 5408 and 10.\n"
   ]
  },
  {
   "cell_type": "code",
   "execution_count": 5,
   "metadata": {
    "collapsed": false
   },
   "outputs": [],
   "source": [
    "# Here's where we define the architecture of the model... \n",
    "simple_model = nn.Sequential(\n",
    "                nn.Conv2d(3, 32, kernel_size=7, stride=2), # 3 channels, 32 filters, 7x7 receptive field\n",
    "                nn.ReLU(inplace=True),\n",
    "                Flatten(), # see above for explanation\n",
    "                nn.Linear(5408, 10), # affine layer\n",
    "                # 5408 is from the fact that:\n",
    "                # CIFAR-10 input is 32x32. Conv output size is:\n",
    "                #   1 + (32 - 7 + 0) / 2 --> 13 (integer division)\n",
    "                # 32 filters (specified by no. of conv output channels)\n",
    "                # 32 * 13 * 13 = 5408 after flatten\n",
    "              )\n",
    "\n",
    "# Set the type of all data in this model to be FloatTensor \n",
    "simple_model.type(dtype)\n",
    "\n",
    "loss_fn = nn.CrossEntropyLoss().type(dtype)\n",
    "optimizer = optim.Adam(simple_model.parameters(), lr=1e-2) # lr sets the learning rate of the optimizer"
   ]
  },
  {
   "cell_type": "markdown",
   "metadata": {},
   "source": [
    "PyTorch supports many other layer types, loss functions, and optimizers - you will experiment with these next. Here's the official API documentation for these (if any of the parameters used above were unclear, this resource will also be helpful). One note: what we call in the class \"spatial batch norm\" is called \"BatchNorm2D\" in PyTorch.\n",
    "\n",
    "* Layers: http://pytorch.org/docs/nn.html\n",
    "* Activations: http://pytorch.org/docs/nn.html#non-linear-activations\n",
    "* Loss functions: http://pytorch.org/docs/nn.html#loss-functions\n",
    "* Optimizers: http://pytorch.org/docs/optim.html#algorithms"
   ]
  },
  {
   "cell_type": "markdown",
   "metadata": {},
   "source": [
    "## Training a specific model\n",
    "\n",
    "In this section, we're going to specify a model for you to construct. The goal here isn't to get good performance (that'll be next), but instead to get comfortable with understanding the PyTorch documentation and configuring your own model. \n",
    "\n",
    "Using the code provided above as guidance, and using the following PyTorch documentation, specify a model with the following architecture:\n",
    "\n",
    "* 7x7 Convolutional Layer with 32 filters and stride of 1\n",
    "* ReLU Activation Layer\n",
    "* Spatial Batch Normalization Layer\n",
    "* 2x2 Max Pooling layer with a stride of 2\n",
    "* Affine layer with 1024 output units\n",
    "* ReLU Activation Layer\n",
    "* Affine layer from 1024 input units to 10 outputs\n",
    "\n",
    "And finally, set up a **cross-entropy** loss function and the **RMSprop** learning rule."
   ]
  },
  {
   "cell_type": "code",
   "execution_count": 6,
   "metadata": {
    "collapsed": false
   },
   "outputs": [],
   "source": [
    "fixed_model_base = nn.Sequential( # You fill this in!\n",
    "            # input: [N x 3 x 32 x 32]\n",
    "            nn.Conv2d(3, 32, kernel_size=7, stride=1), # output: [N x 32 x 26 x 26] -- 26 = 1+(32-7+0)/1\n",
    "            nn.ReLU(inplace=True),\n",
    "            nn.BatchNorm2d(32),\n",
    "            nn.MaxPool2d(2, stride=2), # output: [N x 32 x 13 x 13] -- 13 = 1+(26-2)/2\n",
    "            Flatten(), # output: [N x 5408]\n",
    "            nn.Linear(5408, 1024), # output: [N x 1024]\n",
    "            nn.ReLU(inplace=True),\n",
    "            nn.Linear(1024, 10) # output: [N x 10]\n",
    "            )\n",
    "\n",
    "fixed_model = fixed_model_base.type(dtype)"
   ]
  },
  {
   "cell_type": "markdown",
   "metadata": {},
   "source": [
    "To make sure you're doing the right thing, use the following tool to check the dimensionality of your output (it should be 64 x 10, since our batches have size 64 and the output of the final affine layer should be 10, corresponding to our 10 classes):"
   ]
  },
  {
   "cell_type": "code",
   "execution_count": 7,
   "metadata": {
    "collapsed": false
   },
   "outputs": [
    {
     "data": {
      "text/plain": [
       "True"
      ]
     },
     "execution_count": 7,
     "metadata": {},
     "output_type": "execute_result"
    }
   ],
   "source": [
    "## Now we're going to feed a random batch into the model you defined and make sure the output is the right size\n",
    "x = torch.randn(64, 3, 32, 32).type(dtype)\n",
    "x_var = Variable(x.type(dtype)) # Construct a PyTorch Variable out of your input data\n",
    "ans = fixed_model(x_var)        # Feed it through the model! \n",
    "\n",
    "# Check to make sure what comes out of your model\n",
    "# is the right dimensionality... this should be True\n",
    "# if you've done everything correctly\n",
    "np.array_equal(np.array(ans.size()), np.array([64, 10]))       "
   ]
  },
  {
   "cell_type": "markdown",
   "metadata": {},
   "source": [
    "### GPU!\n",
    "\n",
    "Now, we're going to switch the dtype of the model and our data to the GPU-friendly tensors, and see what happens... everything is the same, except we are casting our model and input tensors as this new dtype instead of the old one.\n",
    "\n",
    "If this returns false, or otherwise fails in a not-graceful way (i.e., with some error message), you may not have an NVIDIA GPU available on your machine. If you're running locally, we recommend you switch to Google Cloud and follow the instructions to set up a GPU there. If you're already on Google Cloud, something is wrong -- make sure you followed the instructions on how to request and use a GPU on your instance. If you did, post on Piazza or come to Office Hours so we can help you debug."
   ]
  },
  {
   "cell_type": "code",
   "execution_count": 4,
   "metadata": {
    "collapsed": false
   },
   "outputs": [
    {
     "data": {
      "text/plain": [
       "True"
      ]
     },
     "execution_count": 4,
     "metadata": {},
     "output_type": "execute_result"
    }
   ],
   "source": [
    "# Verify that CUDA is properly configured and you have a GPU available\n",
    "\n",
    "torch.cuda.is_available()"
   ]
  },
  {
   "cell_type": "code",
   "execution_count": 11,
   "metadata": {
    "collapsed": false
   },
   "outputs": [
    {
     "data": {
      "text/plain": [
       "True"
      ]
     },
     "execution_count": 11,
     "metadata": {},
     "output_type": "execute_result"
    }
   ],
   "source": [
    "import copy\n",
    "gpu_dtype = torch.cuda.FloatTensor\n",
    "\n",
    "fixed_model_gpu = copy.deepcopy(fixed_model_base).type(gpu_dtype)\n",
    "\n",
    "x_gpu = torch.randn(64, 3, 32, 32).type(gpu_dtype)\n",
    "x_var_gpu = Variable(x.type(gpu_dtype)) # Construct a PyTorch Variable out of your input data\n",
    "ans = fixed_model_gpu(x_var_gpu)        # Feed it through the model! \n",
    "\n",
    "# Check to make sure what comes out of your model\n",
    "# is the right dimensionality... this should be True\n",
    "# if you've done everything correctly\n",
    "np.array_equal(np.array(ans.size()), np.array([64, 10]))"
   ]
  },
  {
   "cell_type": "markdown",
   "metadata": {},
   "source": [
    "Run the following cell to evaluate the performance of the forward pass running on the CPU:"
   ]
  },
  {
   "cell_type": "code",
   "execution_count": 9,
   "metadata": {
    "collapsed": false
   },
   "outputs": [
    {
     "name": "stdout",
     "output_type": "stream",
     "text": [
      "10 loops, best of 3: 25.9 ms per loop\n"
     ]
    }
   ],
   "source": [
    "%%timeit \n",
    "ans = fixed_model(x_var)"
   ]
  },
  {
   "cell_type": "markdown",
   "metadata": {},
   "source": [
    "... and now the GPU:"
   ]
  },
  {
   "cell_type": "code",
   "execution_count": 12,
   "metadata": {
    "collapsed": false
   },
   "outputs": [
    {
     "name": "stdout",
     "output_type": "stream",
     "text": [
      "100 loops, best of 3: 1.95 ms per loop\n"
     ]
    }
   ],
   "source": [
    "%%timeit \n",
    "torch.cuda.synchronize() # Make sure there are no pending GPU computations\n",
    "ans = fixed_model_gpu(x_var_gpu)        # Feed it through the model! \n",
    "torch.cuda.synchronize() # Make sure there are no pending GPU computations"
   ]
  },
  {
   "cell_type": "markdown",
   "metadata": {},
   "source": [
    "You should observe that even a simple forward pass like this is significantly faster on the GPU. So for the rest of the assignment (and when you go train your models in assignment 3 and your project!), you should use the GPU datatype for your model and your tensors: as a reminder that is *torch.cuda.FloatTensor* (in our notebook here as *gpu_dtype*)"
   ]
  },
  {
   "cell_type": "markdown",
   "metadata": {},
   "source": [
    "### Train the model.\n",
    "\n",
    "Now that you've seen how to define a model and do a single forward pass of some data through it, let's  walk through how you'd actually train one whole epoch over your training data (using the simple_model we provided above).\n",
    "\n",
    "Make sure you understand how each PyTorch function used below corresponds to what you implemented in your custom neural network implementation.\n",
    "\n",
    "Note that because we are not resetting the weights anywhere below, if you run the cell multiple times, you are effectively training multiple epochs (so your performance should improve).\n",
    "\n",
    "First, set up an RMSprop optimizer (using a 1e-3 learning rate) and a cross-entropy loss function:"
   ]
  },
  {
   "cell_type": "code",
   "execution_count": 13,
   "metadata": {
    "collapsed": false
   },
   "outputs": [],
   "source": [
    "loss_fn = torch.nn.CrossEntropyLoss()\n",
    "optimizer = torch.optim.RMSprop(fixed_model_gpu.parameters(), lr=1e-3)\n",
    "pass\n"
   ]
  },
  {
   "cell_type": "code",
   "execution_count": 24,
   "metadata": {
    "collapsed": false
   },
   "outputs": [
    {
     "name": "stdout",
     "output_type": "stream",
     "text": [
      "t = 100, loss = 2.3021\n",
      "t = 200, loss = 2.3018\n",
      "t = 300, loss = 2.3035\n",
      "t = 400, loss = 2.3024\n",
      "t = 500, loss = 2.3025\n",
      "t = 600, loss = 2.3022\n",
      "t = 700, loss = 2.3012\n"
     ]
    }
   ],
   "source": [
    "# This sets the model in \"training\" mode. This is relevant for some layers that may have different behavior\n",
    "# in training mode vs testing mode, such as Dropout and BatchNorm. \n",
    "fixed_model_gpu.train()\n",
    "\n",
    "# Load one batch at a time.\n",
    "for t, (x, y) in enumerate(loader_train):\n",
    "    x_var = Variable(x.type(gpu_dtype))\n",
    "    y_var = Variable(y.type(gpu_dtype).long())\n",
    "\n",
    "    # This is the forward pass: predict the scores for each class, for each x in the batch.\n",
    "    scores = fixed_model_gpu(x_var)\n",
    "    \n",
    "    # Use the correct y values and the predicted y values to compute the loss.\n",
    "    loss = loss_fn(scores, y_var)\n",
    "    \n",
    "    if (t + 1) % print_every == 0:\n",
    "        print('t = %d, loss = %.4f' % (t + 1, loss.data[0]))\n",
    "\n",
    "    # Zero out all of the gradients for the variables which the optimizer will update.\n",
    "    optimizer.zero_grad()\n",
    "    \n",
    "    # This is the backwards pass: compute the gradient of the loss with respect to each \n",
    "    # parameter of the model.\n",
    "    loss.backward()\n",
    "    \n",
    "    # Actually update the parameters of the model using the gradients computed by the backwards pass.\n",
    "    optimizer.step()"
   ]
  },
  {
   "cell_type": "markdown",
   "metadata": {},
   "source": [
    "Now you've seen how the training process works in PyTorch. To save you writing boilerplate code, we're providing the following helper functions to help you train for multiple epochs and check the accuracy of your model:"
   ]
  },
  {
   "cell_type": "code",
   "execution_count": 5,
   "metadata": {
    "collapsed": true
   },
   "outputs": [],
   "source": [
    "def train(model, loss_fn, optimizer, num_epochs = 1):\n",
    "    for epoch in range(num_epochs):\n",
    "        print('Starting epoch %d / %d' % (epoch + 1, num_epochs))\n",
    "        model.train()\n",
    "        for t, (x, y) in enumerate(loader_train):\n",
    "            x_var = Variable(x.type(gpu_dtype))\n",
    "            y_var = Variable(y.type(gpu_dtype).long())\n",
    "\n",
    "            scores = model(x_var)\n",
    "            \n",
    "            loss = loss_fn(scores, y_var)\n",
    "            if (t + 1) % print_every == 0:\n",
    "                print('t = %d, loss = %.4f' % (t + 1, loss.data[0]))\n",
    "\n",
    "            optimizer.zero_grad()\n",
    "            loss.backward()\n",
    "            optimizer.step()\n",
    "\n",
    "def check_accuracy(model, loader):\n",
    "    if loader.dataset.train:\n",
    "        print('Checking accuracy on validation set')\n",
    "    else:\n",
    "        print('Checking accuracy on test set')\n",
    "    num_correct = 0\n",
    "    num_samples = 0\n",
    "    model.eval() # Put the model in test mode (the opposite of model.train(), essentially)\n",
    "    for x, y in loader:\n",
    "        x_var = Variable(x.type(gpu_dtype), volatile=True)\n",
    "\n",
    "        scores = model(x_var)\n",
    "        _, preds = scores.data.cpu().max(1)\n",
    "        num_correct += (preds == y).sum()\n",
    "        num_samples += preds.size(0)\n",
    "    acc = float(num_correct) / num_samples\n",
    "    print('Got %d / %d correct (%.2f)' % (num_correct, num_samples, 100 * acc))\n",
    "    return acc"
   ]
  },
  {
   "cell_type": "markdown",
   "metadata": {},
   "source": [
    "### Check the accuracy of the model.\n",
    "\n",
    "Let's see the train and check_accuracy code in action -- feel free to use these methods when evaluating the models you develop below.\n",
    "\n",
    "You should get a training loss of around 1.2-1.4, and a validation accuracy of around 50-60%. As mentioned above, if you re-run the cells, you'll be training more epochs, so your performance will improve past these numbers.\n",
    "\n",
    "But don't worry about getting these numbers better -- this was just practice before you tackle designing your own model."
   ]
  },
  {
   "cell_type": "code",
   "execution_count": 39,
   "metadata": {
    "collapsed": false
   },
   "outputs": [
    {
     "name": "stdout",
     "output_type": "stream",
     "text": [
      "Starting epoch 1 / 1\n",
      "t = 100, loss = 1.3496\n",
      "t = 200, loss = 1.5180\n",
      "t = 300, loss = 1.4822\n",
      "t = 400, loss = 1.1575\n",
      "t = 500, loss = 1.1525\n",
      "t = 600, loss = 1.2852\n",
      "t = 700, loss = 1.2027\n",
      "Checking accuracy on validation set\n",
      "Got 606 / 1000 correct (60.60)\n"
     ]
    },
    {
     "data": {
      "text/plain": [
       "0.606"
      ]
     },
     "execution_count": 39,
     "metadata": {},
     "output_type": "execute_result"
    }
   ],
   "source": [
    "torch.cuda.random.manual_seed(12345)\n",
    "fixed_model_gpu.apply(reset)\n",
    "train(fixed_model_gpu, loss_fn, optimizer, num_epochs=1)\n",
    "check_accuracy(fixed_model_gpu, loader_val)"
   ]
  },
  {
   "cell_type": "markdown",
   "metadata": {},
   "source": [
    "### Don't forget the validation set!\n",
    "\n",
    "And note that you can use the check_accuracy function to evaluate on either the test set or the validation set, by passing either **loader_test** or **loader_val** as the second argument to check_accuracy. You should not touch the test set until you have finished your architecture and hyperparameter tuning, and only run the test set once at the end to report a final value. "
   ]
  },
  {
   "cell_type": "markdown",
   "metadata": {},
   "source": [
    "## Train a _great_ model on CIFAR-10!\n",
    "\n",
    "Now it's your job to experiment with architectures, hyperparameters, loss functions, and optimizers to train a model that achieves **>=70%** accuracy on the CIFAR-10 **validation** set. You can use the check_accuracy and train functions from above."
   ]
  },
  {
   "cell_type": "markdown",
   "metadata": {},
   "source": [
    "### Things you should try:\n",
    "- **Filter size**: Above we used 7x7; this makes pretty pictures but smaller filters may be more efficient\n",
    "- **Number of filters**: Above we used 32 filters. Do more or fewer do better?\n",
    "- **Pooling vs Strided Convolution**: Do you use max pooling or just stride convolutions?\n",
    "- **Batch normalization**: Try adding spatial batch normalization after convolution layers and vanilla batch normalization after affine layers. Do your networks train faster?\n",
    "- **Network architecture**: The network above has two layers of trainable parameters. Can you do better with a deep network? Good architectures to try include:\n",
    "    - [conv-relu-pool]xN -> [affine]xM -> [softmax or SVM]\n",
    "    - [conv-relu-conv-relu-pool]xN -> [affine]xM -> [softmax or SVM]\n",
    "    - [batchnorm-relu-conv]xN -> [affine]xM -> [softmax or SVM]\n",
    "- **Global Average Pooling**: Instead of flattening and then having multiple affine layers, perform convolutions until your image gets small (7x7 or so) and then perform an average pooling operation to get to a 1x1 image picture (1, 1 , Filter#), which is then reshaped into a (Filter#) vector. This is used in [Google's Inception Network](https://arxiv.org/abs/1512.00567) (See Table 1 for their architecture).\n",
    "- **Regularization**: Add l2 weight regularization, or perhaps use Dropout.\n",
    "\n",
    "### Tips for training\n",
    "For each network architecture that you try, you should tune the learning rate and regularization strength. When doing this there are a couple important things to keep in mind:\n",
    "\n",
    "- If the parameters are working well, you should see improvement within a few hundred iterations\n",
    "- Remember the coarse-to-fine approach for hyperparameter tuning: start by testing a large range of hyperparameters for just a few training iterations to find the combinations of parameters that are working at all.\n",
    "- Once you have found some sets of parameters that seem to work, search more finely around these parameters. You may need to train for more epochs.\n",
    "- You should use the validation set for hyperparameter search, and save your test set for evaluating your architecture on the best parameters as selected by the validation set.\n",
    "\n",
    "### Going above and beyond\n",
    "If you are feeling adventurous there are many other features you can implement to try and improve your performance. You are **not required** to implement any of these; however they would be good things to try for extra credit.\n",
    "\n",
    "- Alternative update steps: For the assignment we implemented SGD+momentum, RMSprop, and Adam; you could try alternatives like AdaGrad or AdaDelta.\n",
    "- Alternative activation functions such as leaky ReLU, parametric ReLU, ELU, or MaxOut.\n",
    "- Model ensembles\n",
    "- Data augmentation\n",
    "- New Architectures\n",
    "  - [ResNets](https://arxiv.org/abs/1512.03385) where the input from the previous layer is added to the output.\n",
    "  - [DenseNets](https://arxiv.org/abs/1608.06993) where inputs into previous layers are concatenated together.\n",
    "  - [This blog has an in-depth overview](https://chatbotslife.com/resnets-highwaynets-and-densenets-oh-my-9bb15918ee32)\n",
    "\n",
    "If you do decide to implement something extra, clearly describe it in the \"Extra Credit Description\" cell below.\n",
    "\n",
    "### What we expect\n",
    "At the very least, you should be able to train a ConvNet that gets at least 70% accuracy on the validation set. This is just a lower bound - if you are careful it should be possible to get accuracies much higher than that! Extra credit points will be awarded for particularly high-scoring models or unique approaches.\n",
    "\n",
    "You should use the space below to experiment and train your network. \n",
    "\n",
    "Have fun and happy training!"
   ]
  },
  {
   "cell_type": "code",
   "execution_count": 6,
   "metadata": {
    "collapsed": false
   },
   "outputs": [
    {
     "name": "stdout",
     "output_type": "stream",
     "text": [
      "(64, 3, 32, 32)\n",
      "(64, 64, 28, 28)\n",
      "(64, 64, 28, 28)\n",
      "(64, 64, 14, 14)\n",
      "(64, 12544)\n",
      "(64, 1024)\n",
      "(64, 10)\n"
     ]
    }
   ],
   "source": [
    "from functools import reduce\n",
    "\n",
    "def convOutShape(input_shape, F, K, P, S):\n",
    "    HW = input_shape[2]\n",
    "    spatial_size = 1+(HW-K+2*P)//S\n",
    "    return (input_shape[0], F, spatial_size, spatial_size)\n",
    "\n",
    "def maxPoolOutShape(input_shape, K, S):\n",
    "    HW = input_shape[2]\n",
    "    spatial_size = 1+(HW-K)//S\n",
    "    return (input_shape[0], input_shape[1], spatial_size, spatial_size)\n",
    "\n",
    "def flattenOutShape(input_shape):\n",
    "    return (input_shape[0], reduce(lambda x,y: x*y, (input_shape[1:])))\n",
    "\n",
    "def linearOutShape(input_shape, N):\n",
    "    return (input_shape[0], N)\n",
    "    \n",
    "\n",
    "# Parameter config\n",
    "N = 64 # Minibatch size\n",
    "input_shape = (N, 3, 32, 32) # X\n",
    "F1, K1, P1, S1 = 64, 5, 0, 1 # Conv1\n",
    "F2, K2, P2, S2 = 64, 5, 2, 1 # Conv2\n",
    "K3, Pl3        = 2, 2         # Pool 3\n",
    "N4             = 1024         # Affine 4\n",
    "N5             = 10           # Affine 5\n",
    "\n",
    "# Output sizes\n",
    "out1_shape = convOutShape(input_shape, F1, K1, P1, S1)\n",
    "out2_shape = convOutShape(out1_shape, F2, K2, P2, S2)\n",
    "out3_shape = maxPoolOutShape(out2_shape, K3, Pl3)\n",
    "flatten_shape = flattenOutShape(out3_shape)\n",
    "linear4_shape = linearOutShape(out3_shape, N4)\n",
    "linear5_shape = linearOutShape(linear4_shape, N5)\n",
    "\n",
    "print(input_shape)\n",
    "print(out1_shape)\n",
    "print(out2_shape)\n",
    "print(out3_shape)\n",
    "print(flatten_shape)\n",
    "print(linear4_shape)\n",
    "print(linear5_shape)\n"
   ]
  },
  {
   "cell_type": "code",
   "execution_count": 31,
   "metadata": {
    "collapsed": false,
    "scrolled": true
   },
   "outputs": [
    {
     "name": "stdout",
     "output_type": "stream",
     "text": [
      "Trial: 0 lr: 1.084726e-04 reg: 5.764286e-05\n",
      "Starting epoch 1 / 10\n",
      "t = 100, loss = 1.2364\n",
      "t = 200, loss = 1.3438\n",
      "t = 300, loss = 1.1728\n",
      "t = 400, loss = 0.9713\n",
      "t = 500, loss = 0.9438\n",
      "t = 600, loss = 1.0969\n",
      "t = 700, loss = 1.0776\n",
      "Starting epoch 2 / 10\n",
      "t = 100, loss = 0.6521\n",
      "t = 200, loss = 0.8385\n",
      "t = 300, loss = 0.7426\n",
      "t = 400, loss = 0.6113\n",
      "t = 500, loss = 0.6121\n",
      "t = 600, loss = 0.6778\n",
      "t = 700, loss = 0.6994\n",
      "Starting epoch 3 / 10\n",
      "t = 100, loss = 0.3685\n",
      "t = 200, loss = 0.4907\n",
      "t = 300, loss = 0.4557\n",
      "t = 400, loss = 0.3906\n",
      "t = 500, loss = 0.3466\n",
      "t = 600, loss = 0.3042\n",
      "t = 700, loss = 0.3526\n",
      "Starting epoch 4 / 10\n",
      "t = 100, loss = 0.1531\n",
      "t = 200, loss = 0.1785\n",
      "t = 300, loss = 0.1921\n",
      "t = 400, loss = 0.1817\n",
      "t = 500, loss = 0.1799\n",
      "t = 600, loss = 0.1064\n",
      "t = 700, loss = 0.1007\n",
      "Starting epoch 5 / 10\n",
      "t = 100, loss = 0.0919\n",
      "t = 200, loss = 0.0859\n",
      "t = 300, loss = 0.1276\n",
      "t = 400, loss = 0.0627\n",
      "t = 500, loss = 0.0484\n",
      "t = 600, loss = 0.0386\n",
      "t = 700, loss = 0.0153\n",
      "Starting epoch 6 / 10\n",
      "t = 100, loss = 0.0696\n",
      "t = 200, loss = 0.0605\n",
      "t = 300, loss = 0.0915\n",
      "t = 400, loss = 0.0491\n",
      "t = 500, loss = 0.0427\n",
      "t = 600, loss = 0.0310\n",
      "t = 700, loss = 0.0152\n",
      "Starting epoch 7 / 10\n",
      "t = 100, loss = 0.0563\n",
      "t = 200, loss = 0.0503\n",
      "t = 300, loss = 0.0704\n",
      "t = 400, loss = 0.0428\n",
      "t = 500, loss = 0.0379\n",
      "t = 600, loss = 0.0266\n",
      "t = 700, loss = 0.0156\n",
      "Starting epoch 8 / 10\n",
      "t = 100, loss = 0.0472\n",
      "t = 200, loss = 0.0442\n",
      "t = 300, loss = 0.0578\n",
      "t = 400, loss = 0.0387\n",
      "t = 500, loss = 0.0343\n",
      "t = 600, loss = 0.0237\n",
      "t = 700, loss = 0.0161\n",
      "Starting epoch 9 / 10\n",
      "t = 100, loss = 0.0409\n",
      "t = 200, loss = 0.0396\n",
      "t = 300, loss = 0.0515\n",
      "t = 400, loss = 0.0368\n",
      "t = 500, loss = 0.0320\n",
      "t = 600, loss = 0.0223\n",
      "t = 700, loss = 0.0153\n",
      "Starting epoch 10 / 10\n",
      "t = 100, loss = 0.0408\n",
      "t = 200, loss = 0.0395\n",
      "t = 300, loss = 0.0514\n",
      "t = 400, loss = 0.0367\n",
      "t = 500, loss = 0.0320\n",
      "t = 600, loss = 0.0223\n",
      "t = 700, loss = 0.0153\n",
      "Checking accuracy on validation set\n",
      "Got 747 / 1000 correct (74.70)\n",
      "Trial: 1 lr: 1.488468e-04 reg: 3.465918e-07\n",
      "Starting epoch 1 / 10\n",
      "t = 100, loss = 1.3211\n",
      "t = 200, loss = 1.3039\n",
      "t = 300, loss = 1.1516\n",
      "t = 400, loss = 0.9391\n",
      "t = 500, loss = 0.8965\n",
      "t = 600, loss = 1.0348\n",
      "t = 700, loss = 1.0483\n",
      "Starting epoch 2 / 10\n",
      "t = 100, loss = 0.6561\n",
      "t = 200, loss = 0.7549\n",
      "t = 300, loss = 0.6878\n",
      "t = 400, loss = 0.5420\n",
      "t = 500, loss = 0.6335\n",
      "t = 600, loss = 0.6417\n",
      "t = 700, loss = 0.6443\n",
      "Starting epoch 3 / 10\n",
      "t = 100, loss = 0.3357\n",
      "t = 200, loss = 0.3460\n",
      "t = 300, loss = 0.3708\n",
      "t = 400, loss = 0.3621\n",
      "t = 500, loss = 0.3335\n",
      "t = 600, loss = 0.2588\n",
      "t = 700, loss = 0.3042\n",
      "Starting epoch 4 / 10\n",
      "t = 100, loss = 0.1803\n",
      "t = 200, loss = 0.1137\n",
      "t = 300, loss = 0.1077\n",
      "t = 400, loss = 0.1360\n",
      "t = 500, loss = 0.1148\n",
      "t = 600, loss = 0.0684\n",
      "t = 700, loss = 0.0870\n",
      "Starting epoch 5 / 10\n",
      "t = 100, loss = 0.0583\n",
      "t = 200, loss = 0.0505\n",
      "t = 300, loss = 0.0903\n",
      "t = 400, loss = 0.0342\n",
      "t = 500, loss = 0.0407\n",
      "t = 600, loss = 0.0129\n",
      "t = 700, loss = 0.0085\n",
      "Starting epoch 6 / 10\n",
      "t = 100, loss = 0.0375\n",
      "t = 200, loss = 0.0432\n",
      "t = 300, loss = 0.0663\n",
      "t = 400, loss = 0.0267\n",
      "t = 500, loss = 0.0335\n",
      "t = 600, loss = 0.0110\n",
      "t = 700, loss = 0.0078\n",
      "Starting epoch 7 / 10\n",
      "t = 100, loss = 0.0265\n",
      "t = 200, loss = 0.0393\n",
      "t = 300, loss = 0.0530\n",
      "t = 400, loss = 0.0224\n",
      "t = 500, loss = 0.0277\n",
      "t = 600, loss = 0.0097\n",
      "t = 700, loss = 0.0076\n",
      "Starting epoch 8 / 10\n",
      "t = 100, loss = 0.0210\n",
      "t = 200, loss = 0.0357\n",
      "t = 300, loss = 0.0441\n",
      "t = 400, loss = 0.0193\n",
      "t = 500, loss = 0.0234\n",
      "t = 600, loss = 0.0089\n",
      "t = 700, loss = 0.0076\n",
      "Starting epoch 9 / 10\n",
      "t = 100, loss = 0.0193\n",
      "t = 200, loss = 0.0332\n",
      "t = 300, loss = 0.0381\n",
      "t = 400, loss = 0.0175\n",
      "t = 500, loss = 0.0201\n",
      "t = 600, loss = 0.0082\n",
      "t = 700, loss = 0.0071\n",
      "Starting epoch 10 / 10\n",
      "t = 100, loss = 0.0193\n",
      "t = 200, loss = 0.0331\n",
      "t = 300, loss = 0.0381\n",
      "t = 400, loss = 0.0175\n",
      "t = 500, loss = 0.0201\n",
      "t = 600, loss = 0.0082\n",
      "t = 700, loss = 0.0071\n",
      "Checking accuracy on validation set\n",
      "Got 757 / 1000 correct (75.70)\n",
      "Trial: 2 lr: 8.684214e-05 reg: 8.189994e-05\n",
      "Starting epoch 1 / 10\n",
      "t = 100, loss = 1.2563\n",
      "t = 200, loss = 1.3539\n",
      "t = 300, loss = 1.0920\n",
      "t = 400, loss = 0.9797\n",
      "t = 500, loss = 0.9236\n",
      "t = 600, loss = 1.0353\n",
      "t = 700, loss = 1.0779\n",
      "Starting epoch 2 / 10\n",
      "t = 100, loss = 0.6179\n",
      "t = 200, loss = 0.8624\n",
      "t = 300, loss = 0.7022\n",
      "t = 400, loss = 0.6260\n",
      "t = 500, loss = 0.5935\n",
      "t = 600, loss = 0.6851\n",
      "t = 700, loss = 0.7890\n",
      "Starting epoch 3 / 10\n",
      "t = 100, loss = 0.4005\n",
      "t = 200, loss = 0.4933\n",
      "t = 300, loss = 0.4533\n",
      "t = 400, loss = 0.4344\n",
      "t = 500, loss = 0.3625\n",
      "t = 600, loss = 0.3194\n",
      "t = 700, loss = 0.4508\n",
      "Starting epoch 4 / 10\n",
      "t = 100, loss = 0.2261\n",
      "t = 200, loss = 0.2447\n",
      "t = 300, loss = 0.2313\n",
      "t = 400, loss = 0.2603\n",
      "t = 500, loss = 0.1830\n",
      "t = 600, loss = 0.1222\n",
      "t = 700, loss = 0.2206\n",
      "Starting epoch 5 / 10\n",
      "t = 100, loss = 0.0947\n",
      "t = 200, loss = 0.1337\n",
      "t = 300, loss = 0.1180\n",
      "t = 400, loss = 0.0898\n",
      "t = 500, loss = 0.1031\n",
      "t = 600, loss = 0.0413\n",
      "t = 700, loss = 0.0282\n",
      "Starting epoch 6 / 10\n",
      "t = 100, loss = 0.0879\n",
      "t = 200, loss = 0.1115\n",
      "t = 300, loss = 0.0929\n",
      "t = 400, loss = 0.0725\n",
      "t = 500, loss = 0.0773\n",
      "t = 600, loss = 0.0352\n",
      "t = 700, loss = 0.0259\n",
      "Starting epoch 7 / 10\n",
      "t = 100, loss = 0.0808\n",
      "t = 200, loss = 0.0987\n",
      "t = 300, loss = 0.0802\n",
      "t = 400, loss = 0.0651\n",
      "t = 500, loss = 0.0641\n",
      "t = 600, loss = 0.0315\n",
      "t = 700, loss = 0.0246\n",
      "Starting epoch 8 / 10\n",
      "t = 100, loss = 0.0733\n",
      "t = 200, loss = 0.0891\n",
      "t = 300, loss = 0.0723\n",
      "t = 400, loss = 0.0599\n",
      "t = 500, loss = 0.0564\n",
      "t = 600, loss = 0.0291\n",
      "t = 700, loss = 0.0240\n",
      "Starting epoch 9 / 10\n",
      "t = 100, loss = 0.0693\n",
      "t = 200, loss = 0.0815\n",
      "t = 300, loss = 0.0663\n",
      "t = 400, loss = 0.0552\n",
      "t = 500, loss = 0.0515\n",
      "t = 600, loss = 0.0277\n",
      "t = 700, loss = 0.0233\n",
      "Starting epoch 10 / 10\n",
      "t = 100, loss = 0.0692\n",
      "t = 200, loss = 0.0814\n",
      "t = 300, loss = 0.0663\n",
      "t = 400, loss = 0.0552\n",
      "t = 500, loss = 0.0514\n",
      "t = 600, loss = 0.0277\n",
      "t = 700, loss = 0.0233\n",
      "Checking accuracy on validation set\n",
      "Got 746 / 1000 correct (74.60)\n",
      "Trial: 3 lr: 1.626580e-04 reg: 2.954354e-07\n",
      "Starting epoch 1 / 10\n",
      "t = 100, loss = 1.2691\n",
      "t = 200, loss = 1.3315\n",
      "t = 300, loss = 1.1621\n",
      "t = 400, loss = 0.9251\n",
      "t = 500, loss = 0.8788\n",
      "t = 600, loss = 0.9654\n",
      "t = 700, loss = 1.0482\n",
      "Starting epoch 2 / 10\n",
      "t = 100, loss = 0.5963\n",
      "t = 200, loss = 0.7661\n",
      "t = 300, loss = 0.6962\n",
      "t = 400, loss = 0.6044\n",
      "t = 500, loss = 0.5846\n",
      "t = 600, loss = 0.6059\n",
      "t = 700, loss = 0.5803\n",
      "Starting epoch 3 / 10\n",
      "t = 100, loss = 0.2800\n",
      "t = 200, loss = 0.3826\n",
      "t = 300, loss = 0.2879\n",
      "t = 400, loss = 0.3638\n",
      "t = 500, loss = 0.2900\n",
      "t = 600, loss = 0.2145\n",
      "t = 700, loss = 0.2136\n",
      "Starting epoch 4 / 10\n",
      "t = 100, loss = 0.0924\n",
      "t = 200, loss = 0.0876\n",
      "t = 300, loss = 0.0636\n",
      "t = 400, loss = 0.1055\n",
      "t = 500, loss = 0.1018\n",
      "t = 600, loss = 0.0429\n",
      "t = 700, loss = 0.0488\n",
      "Starting epoch 5 / 10\n",
      "t = 100, loss = 0.0401\n",
      "t = 200, loss = 0.0871\n",
      "t = 300, loss = 0.1003\n",
      "t = 400, loss = 0.0118\n",
      "t = 500, loss = 0.0397\n",
      "t = 600, loss = 0.0127\n",
      "t = 700, loss = 0.0099\n",
      "Starting epoch 6 / 10\n",
      "t = 100, loss = 0.0299\n",
      "t = 200, loss = 0.0628\n",
      "t = 300, loss = 0.0701\n",
      "t = 400, loss = 0.0103\n",
      "t = 500, loss = 0.0252\n",
      "t = 600, loss = 0.0098\n",
      "t = 700, loss = 0.0103\n",
      "Starting epoch 7 / 10\n",
      "t = 100, loss = 0.0258\n",
      "t = 200, loss = 0.0473\n",
      "t = 300, loss = 0.0531\n",
      "t = 400, loss = 0.0095\n",
      "t = 500, loss = 0.0199\n",
      "t = 600, loss = 0.0084\n",
      "t = 700, loss = 0.0102\n",
      "Starting epoch 8 / 10\n",
      "t = 100, loss = 0.0221\n",
      "t = 200, loss = 0.0352\n",
      "t = 300, loss = 0.0408\n",
      "t = 400, loss = 0.0089\n",
      "t = 500, loss = 0.0171\n",
      "t = 600, loss = 0.0075\n",
      "t = 700, loss = 0.0098\n",
      "Starting epoch 9 / 10\n",
      "t = 100, loss = 0.0207\n",
      "t = 200, loss = 0.0278\n",
      "t = 300, loss = 0.0321\n",
      "t = 400, loss = 0.0087\n",
      "t = 500, loss = 0.0143\n",
      "t = 600, loss = 0.0069\n",
      "t = 700, loss = 0.0088\n",
      "Starting epoch 10 / 10\n",
      "t = 100, loss = 0.0207\n",
      "t = 200, loss = 0.0278\n",
      "t = 300, loss = 0.0320\n",
      "t = 400, loss = 0.0087\n",
      "t = 500, loss = 0.0143\n",
      "t = 600, loss = 0.0069\n",
      "t = 700, loss = 0.0088\n",
      "Checking accuracy on validation set\n",
      "Got 752 / 1000 correct (75.20)\n",
      "Trial: 4 lr: 1.141151e-04 reg: 1.145361e-06\n",
      "Starting epoch 1 / 10\n",
      "t = 100, loss = 1.3172\n",
      "t = 200, loss = 1.3303\n",
      "t = 300, loss = 1.1479\n",
      "t = 400, loss = 1.0274\n",
      "t = 500, loss = 0.9561\n",
      "t = 600, loss = 1.0327\n",
      "t = 700, loss = 1.0574\n",
      "Starting epoch 2 / 10\n",
      "t = 100, loss = 0.6559\n",
      "t = 200, loss = 0.7956\n",
      "t = 300, loss = 0.6546\n",
      "t = 400, loss = 0.6537\n",
      "t = 500, loss = 0.6262\n",
      "t = 600, loss = 0.6376\n",
      "t = 700, loss = 0.6990\n",
      "Starting epoch 3 / 10\n",
      "t = 100, loss = 0.3485\n",
      "t = 200, loss = 0.4052\n",
      "t = 300, loss = 0.3158\n",
      "t = 400, loss = 0.4167\n",
      "t = 500, loss = 0.3645\n",
      "t = 600, loss = 0.2698\n",
      "t = 700, loss = 0.3423\n",
      "Starting epoch 4 / 10\n",
      "t = 100, loss = 0.1330\n",
      "t = 200, loss = 0.1678\n",
      "t = 300, loss = 0.0893\n",
      "t = 400, loss = 0.1958\n",
      "t = 500, loss = 0.1273\n",
      "t = 600, loss = 0.0603\n",
      "t = 700, loss = 0.1270\n",
      "Starting epoch 5 / 10\n",
      "t = 100, loss = 0.0854\n",
      "t = 200, loss = 0.0903\n",
      "t = 300, loss = 0.1915\n",
      "t = 400, loss = 0.0475\n",
      "t = 500, loss = 0.0477\n",
      "t = 600, loss = 0.0269\n",
      "t = 700, loss = 0.0136\n",
      "Starting epoch 6 / 10\n",
      "t = 100, loss = 0.0524\n",
      "t = 200, loss = 0.0687\n",
      "t = 300, loss = 0.1423\n",
      "t = 400, loss = 0.0381\n",
      "t = 500, loss = 0.0349\n",
      "t = 600, loss = 0.0211\n",
      "t = 700, loss = 0.0129\n",
      "Starting epoch 7 / 10\n",
      "t = 100, loss = 0.0423\n",
      "t = 200, loss = 0.0568\n",
      "t = 300, loss = 0.1112\n",
      "t = 400, loss = 0.0330\n",
      "t = 500, loss = 0.0281\n",
      "t = 600, loss = 0.0182\n",
      "t = 700, loss = 0.0129\n",
      "Starting epoch 8 / 10\n",
      "t = 100, loss = 0.0362\n",
      "t = 200, loss = 0.0478\n",
      "t = 300, loss = 0.0904\n",
      "t = 400, loss = 0.0293\n",
      "t = 500, loss = 0.0242\n",
      "t = 600, loss = 0.0166\n",
      "t = 700, loss = 0.0128\n",
      "Starting epoch 9 / 10\n",
      "t = 100, loss = 0.0337\n",
      "t = 200, loss = 0.0446\n",
      "t = 300, loss = 0.0788\n",
      "t = 400, loss = 0.0263\n",
      "t = 500, loss = 0.0210\n",
      "t = 600, loss = 0.0158\n",
      "t = 700, loss = 0.0123\n",
      "Starting epoch 10 / 10\n",
      "t = 100, loss = 0.0336\n",
      "t = 200, loss = 0.0445\n",
      "t = 300, loss = 0.0786\n",
      "t = 400, loss = 0.0262\n",
      "t = 500, loss = 0.0210\n",
      "t = 600, loss = 0.0158\n",
      "t = 700, loss = 0.0123\n",
      "Checking accuracy on validation set\n",
      "Got 745 / 1000 correct (74.50)\n",
      "lr 0.000087 reg 0.000082 val accuracy: 0.746000\n",
      "lr 0.000108 reg 0.000058 val accuracy: 0.747000\n",
      "lr 0.000114 reg 0.000001 val accuracy: 0.745000\n",
      "lr 0.000149 reg 0.000000 val accuracy: 0.757000\n",
      "lr 0.000163 reg 0.000000 val accuracy: 0.752000\n"
     ]
    }
   ],
   "source": [
    "# Train your model here, and make sure the output of this cell is the accuracy of your best model on the \n",
    "# train, val, and test sets. Here's some code to get you started. The output of this cell should be the training\n",
    "# and validation accuracy on your best model (measured by validation accuracy).\n",
    "\n",
    "learning_rates = [7e-5, 3e-4]\n",
    "reg_strengths = [1e-7, 5e-4]\n",
    "NUM_TRIALS = 5\n",
    "NUM_EPOCHS = 10\n",
    "learning_rate_samples = np.exp(np.random.uniform(\n",
    "                            np.log(learning_rates[0]), \n",
    "                            np.log(learning_rates[1]),\n",
    "                            NUM_TRIALS\n",
    "                        ))\n",
    "\n",
    "reg_strength_samples = np.exp(np.random.uniform(\n",
    "                            np.log(reg_strengths[0]), \n",
    "                            np.log(reg_strengths[1]),\n",
    "                            NUM_TRIALS\n",
    "                        ))\n",
    "\n",
    "results = {}\n",
    "best_val_acc = -1\n",
    "best_model = None\n",
    "\n",
    "gpu_dtype = torch.cuda.FloatTensor\n",
    "for trial in range(NUM_TRIALS):\n",
    "    \n",
    "    learning_rate = learning_rate_samples[trial]\n",
    "    reg_strength = reg_strength_samples[trial]\n",
    "    print(\"Trial: %i lr: %e reg: %e\" % (trial, learning_rate, reg_strength))\n",
    "    # print(\"Trial: \" + str(trial) + \" lr: \" + str(learning_rate))\n",
    "\n",
    "    model = nn.Sequential(\n",
    "        \n",
    "                # in: (N, 3, 32, 32)\n",
    "                # Conv - Relu - Conv - Relu - Pool\n",
    "                nn.Conv2d(3, F1, kernel_size=K1, padding=P1, stride=S1),\n",
    "                nn.ReLU(inplace=True),\n",
    "                nn.BatchNorm2d(F1),\n",
    "                nn.Conv2d(F1, F2, kernel_size=K2, padding=P2, stride=S2),\n",
    "                nn.ReLU(inplace=True),\n",
    "                nn.BatchNorm2d(F2),\n",
    "                nn.MaxPool2d(K3, stride=Pl3),\n",
    "\n",
    "                # Linear - Relu - Linear - Loss\n",
    "                Flatten(),\n",
    "                nn.Linear(flatten_shape[1], N4),\n",
    "                nn.ReLU(inplace=True),\n",
    "                nn.Linear(N4, N5)\n",
    "\n",
    "                ).type(gpu_dtype)\n",
    "\n",
    "    loss_fn = torch.nn.CrossEntropyLoss()\n",
    "    \n",
    "    # train(model, loss_fn, optimizer, num_epochs=NUM_EPOCHS)\n",
    "    \n",
    "    decay_coeff = 0.01\n",
    "    decay_every = 4 # Decay every 4 epochs\n",
    "    \n",
    "    # Train. Implement learning rate decay\n",
    "    for epoch in range(NUM_EPOCHS):\n",
    "        \n",
    "        if decay_every is not None:\n",
    "            actual_learning_rate = learning_rate * (decay_coeff**(epoch // decay_every))\n",
    "        else:\n",
    "            actual_learning_rate = learning_rate\n",
    "        \n",
    "        optimizer = torch.optim.RMSprop(model.parameters(), lr=actual_learning_rate, weight_decay=reg_strength)\n",
    "        \n",
    "        print('Starting epoch %d / %d' % (epoch + 1, NUM_EPOCHS))\n",
    "        model.train()\n",
    "        for t, (x, y) in enumerate(loader_train):\n",
    "            x_var = Variable(x.type(gpu_dtype))\n",
    "            y_var = Variable(y.type(gpu_dtype).long())\n",
    "\n",
    "            scores = model(x_var)\n",
    "            loss = loss_fn(scores, y_var)\n",
    "            if (t + 1) % print_every == 0:\n",
    "                print('t = %d, loss = %.4f' % (t + 1, loss.data[0]))\n",
    "\n",
    "            optimizer.zero_grad()\n",
    "            loss.backward()\n",
    "            optimizer.step()\n",
    "    \n",
    "    \n",
    "    train_acc = None\n",
    "    val_acc = check_accuracy(model, loader_val)\n",
    "    \n",
    "    results[(learning_rate, reg_strength)] = (val_acc)\n",
    "    \n",
    "    if val_acc > best_val_acc:\n",
    "        best_val_acc = val_acc\n",
    "        best_model = model\n",
    "\n",
    "for lr, reg in sorted(results):\n",
    "    val_acc = results[(lr, reg)]\n",
    "    train_acc = results[(lr, reg)]\n",
    "    print('lr %f reg %f val accuracy: %f'  % (lr, reg, val_acc))\n"
   ]
  },
  {
   "cell_type": "markdown",
   "metadata": {},
   "source": [
    "### Describe what you did \n",
    "\n",
    "In the cell below you should write an explanation of what you did, any additional features that you implemented, and any visualizations or graphs that you make in the process of training and evaluating your network."
   ]
  },
  {
   "cell_type": "markdown",
   "metadata": {},
   "source": [
    "Essentially I started with the basic sequential architecture:\n",
    "\n",
    "[Conv - relu] - [Conv - relu - pool] - [affine - relu] - [affine --> loss]\n",
    "\n",
    "I started with 256 filters for each conv, with a repeated set of [conv-relu] and [conv-relu-pool], but that proved to be slow-running, so I switched to 64 filters and dropped the second set of conv layer pairs. It turned out to work quite well to exceed 70% validation accuracy, so I did not revert back to the larger architecture.\n",
    "\n",
    "During tuning, I did the usual random hyperparameter search, by first fixing regularization to zero. Once I found the learning rate, I tuned L2 regularization strength, but it was found to be not really important in this case, although over-regularization had a negative effect on validation accuracy, which is expected.\n",
    "\n",
    "After that, I implemented learning rate decay, by a factor of .01 after every 4 epochs. I found that it really helped push the validation accuracy up a few percentage points on average.\n",
    "\n",
    "Finally, I locked in the ranges of both hyperparameters and set the network to train for 10 epochs, to produce the final result.\n"
   ]
  },
  {
   "cell_type": "markdown",
   "metadata": {},
   "source": [
    "## Test set -- run this only once\n",
    "\n",
    "Now that we've gotten a result we're happy with, we test our final model on the test set (which you should store in best_model).  This would be the score we would achieve on a competition. Think about how this compares to your validation set accuracy."
   ]
  },
  {
   "cell_type": "code",
   "execution_count": 32,
   "metadata": {
    "collapsed": false
   },
   "outputs": [
    {
     "name": "stdout",
     "output_type": "stream",
     "text": [
      "Checking accuracy on test set\n",
      "Got 7446 / 10000 correct (74.46)\n"
     ]
    },
    {
     "data": {
      "text/plain": [
       "0.7446"
      ]
     },
     "execution_count": 32,
     "metadata": {},
     "output_type": "execute_result"
    }
   ],
   "source": [
    "check_accuracy(best_model, loader_test)"
   ]
  },
  {
   "cell_type": "markdown",
   "metadata": {},
   "source": [
    "## Going further with PyTorch\n",
    "\n",
    "The next assignment will make heavy use of PyTorch. You might also find it useful for your projects. \n",
    "\n",
    "Here's a nice tutorial by Justin Johnson that shows off some of PyTorch's features, like dynamic graphs and custom NN modules: http://pytorch.org/tutorials/beginner/pytorch_with_examples.html\n",
    "\n",
    "If you're interested in reinforcement learning for your final project, this is a good (more advanced) DQN tutorial in PyTorch: http://pytorch.org/tutorials/intermediate/reinforcement_q_learning.html"
   ]
  }
 ],
 "metadata": {
  "kernelspec": {
   "display_name": "Python 3",
   "language": "python",
   "name": "python3"
  },
  "language_info": {
   "codemirror_mode": {
    "name": "ipython",
    "version": 3
   },
   "file_extension": ".py",
   "mimetype": "text/x-python",
   "name": "python",
   "nbconvert_exporter": "python",
   "pygments_lexer": "ipython3",
   "version": "3.5.2"
  }
 },
 "nbformat": 4,
 "nbformat_minor": 0
}
