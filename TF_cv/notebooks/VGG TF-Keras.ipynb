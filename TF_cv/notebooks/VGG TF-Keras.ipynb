{
 "cells": [
  {
   "cell_type": "markdown",
   "metadata": {},
   "source": [
    "# VGG (tf-keras)\n"
   ]
  },
  {
   "cell_type": "code",
   "execution_count": 1,
   "metadata": {},
   "outputs": [],
   "source": [
    "import tensorflow as tf\n",
    "import matplotlib.pyplot as plt\n",
    "%matplotlib inline\n",
    "import h5py\n",
    "\n",
    "tf_keras = tf.contrib.keras"
   ]
  },
  {
   "cell_type": "markdown",
   "metadata": {},
   "source": [
    "# Model Hyperparameters"
   ]
  },
  {
   "cell_type": "code",
   "execution_count": 2,
   "metadata": {},
   "outputs": [],
   "source": [
    "model_params = {\n",
    "    \"num_classes\": 10, \n",
    "    \"input_shape\": (32, 32, 3), \n",
    "    \"conv_kernel\": (3,3), \n",
    "    \"pool_kernel\": (2,2), \n",
    "    \"batch_size\": 32 \n",
    "}\n",
    "hyper_params = {\n",
    "    \"l2_regularization\": 0.0005,\n",
    "    \"dropout\": 0.5, \n",
    "    \"learning_rate\": 0.0001  \n",
    "}"
   ]
  },
  {
   "cell_type": "code",
   "execution_count": 3,
   "metadata": {},
   "outputs": [],
   "source": [
    "# convolutional layer\n",
    "def conv2d(filters):\n",
    "    return tf_keras.layers.Conv2D(filters, # number of filters\n",
    "                                  model_params[\"conv_kernel\"], # kernel height and weight\n",
    "                                  padding='same', \n",
    "                                  activation=tf.nn.relu,\n",
    "                                  kernel_regularizer=\n",
    "                                  tf.contrib.layers.l2_regularizer(hyper_params[\"l2_regularization\"]))\n"
   ]
  },
  {
   "cell_type": "code",
   "execution_count": 4,
   "metadata": {},
   "outputs": [],
   "source": [
    "# convLayer: conv - BN - conv - maxpool - dropout\n",
    "def convLayer(filters, inputs):\n",
    "    net = conv2d(filters)(inputs)\n",
    "    net = tf_keras.layers.BatchNormalization()(net)\n",
    "    net = conv2d(filters)(net)\n",
    "    net = tf_keras.layers.MaxPool2D(model_params[\"pool_kernel\"])(net)\n",
    "    return tf_keras.layers.Dropout(0.25)(net)"
   ]
  },
  {
   "cell_type": "code",
   "execution_count": 5,
   "metadata": {},
   "outputs": [],
   "source": [
    "# dense block\n",
    "def denseLayer(units, inputs):\n",
    "    net = tf_keras.layers.Dense(units)(inputs)\n",
    "    return tf_keras.layers.Dropout(hyper_params[\"dropout\"])(net)\n"
   ]
  },
  {
   "cell_type": "markdown",
   "metadata": {},
   "source": [
    "# VGG Implementation"
   ]
  },
  {
   "cell_type": "code",
   "execution_count": 6,
   "metadata": {},
   "outputs": [],
   "source": [
    "def VGG():\n",
    "\n",
    "    # TensorFlow default graph\n",
    "    tf.reset_default_graph()\n",
    "\n",
    "    # input image tensor\n",
    "    inputs = tf_keras.layers.Input(shape=model_params[\"input_shape\"])\n",
    "\n",
    "    # convolutional blocks\n",
    "    # Block: conv - BN - conv - maxpool - dropout\n",
    "    net = convLayer(64, inputs)\n",
    "    net = convLayer(128, net)\n",
    "    net = convLayer(256, net)\n",
    "\n",
    "    net = tf_keras.layers.Flatten()(net)\n",
    "\n",
    "    # fully connected blocks\n",
    "    net = denseLayer(1024, net)\n",
    "    net = denseLayer(512, net)\n",
    "\n",
    "    # final layer\n",
    "    outputs = tf_keras.layers.Dense(model_params[\"num_classes\"],\n",
    "                                    activation = tf.nn.softmax)(net)\n",
    "    \n",
    "    # model\n",
    "    model = tf_keras.models.Model(inputs=inputs, outputs=outputs)\n",
    "    \n",
    "    return model"
   ]
  },
  {
   "cell_type": "markdown",
   "metadata": {},
   "source": [
    "# Compile Model\n",
    "\n",
    "### Add the loss function, the optimizer, and the metrics to the model."
   ]
  },
  {
   "cell_type": "code",
   "execution_count": 7,
   "metadata": {},
   "outputs": [],
   "source": [
    "def compile_model(model):\n",
    "    \n",
    "    # loss\n",
    "    loss = tf_keras.losses.categorical_crossentropy\n",
    "\n",
    "    # Adam optimizer\n",
    "    optimizer = tf_keras.optimizers.Adam(lr=hyper_params[\"learning_rate\"])\n",
    "    \n",
    "    # metrics\n",
    "    metrics = [tf_keras.metrics.categorical_accuracy,\n",
    "               tf_keras.metrics.top_k_categorical_accuracy]\n",
    "    \n",
    "\n",
    "    # compile the model with loss, optimizer and evaluation metrics\n",
    "    model.compile(loss = loss,\n",
    "                  optimizer = optimizer,\n",
    "                  metrics = metrics)\n",
    "\n",
    "    print(model.summary())\n",
    "    \n",
    "    return model"
   ]
  },
  {
   "cell_type": "code",
   "execution_count": 8,
   "metadata": {},
   "outputs": [
    {
     "name": "stdout",
     "output_type": "stream",
     "text": [
      "_________________________________________________________________\n",
      "Layer (type)                 Output Shape              Param #   \n",
      "=================================================================\n",
      "input_1 (InputLayer)         (None, 32, 32, 3)         0         \n",
      "_________________________________________________________________\n",
      "conv2d_1 (Conv2D)            (None, 32, 32, 64)        1792      \n",
      "_________________________________________________________________\n",
      "batch_normalization_1 (Batch (None, 32, 32, 64)        256       \n",
      "_________________________________________________________________\n",
      "conv2d_2 (Conv2D)            (None, 32, 32, 64)        36928     \n",
      "_________________________________________________________________\n",
      "max_pooling2d_1 (MaxPooling2 (None, 16, 16, 64)        0         \n",
      "_________________________________________________________________\n",
      "dropout_1 (Dropout)          (None, 16, 16, 64)        0         \n",
      "_________________________________________________________________\n",
      "conv2d_3 (Conv2D)            (None, 16, 16, 128)       73856     \n",
      "_________________________________________________________________\n",
      "batch_normalization_2 (Batch (None, 16, 16, 128)       512       \n",
      "_________________________________________________________________\n",
      "conv2d_4 (Conv2D)            (None, 16, 16, 128)       147584    \n",
      "_________________________________________________________________\n",
      "max_pooling2d_2 (MaxPooling2 (None, 8, 8, 128)         0         \n",
      "_________________________________________________________________\n",
      "dropout_2 (Dropout)          (None, 8, 8, 128)         0         \n",
      "_________________________________________________________________\n",
      "conv2d_5 (Conv2D)            (None, 8, 8, 256)         295168    \n",
      "_________________________________________________________________\n",
      "batch_normalization_3 (Batch (None, 8, 8, 256)         1024      \n",
      "_________________________________________________________________\n",
      "conv2d_6 (Conv2D)            (None, 8, 8, 256)         590080    \n",
      "_________________________________________________________________\n",
      "max_pooling2d_3 (MaxPooling2 (None, 4, 4, 256)         0         \n",
      "_________________________________________________________________\n",
      "dropout_3 (Dropout)          (None, 4, 4, 256)         0         \n",
      "_________________________________________________________________\n",
      "flatten_1 (Flatten)          (None, 4096)              0         \n",
      "_________________________________________________________________\n",
      "dense_1 (Dense)              (None, 1024)              4195328   \n",
      "_________________________________________________________________\n",
      "dropout_4 (Dropout)          (None, 1024)              0         \n",
      "_________________________________________________________________\n",
      "dense_2 (Dense)              (None, 512)               524800    \n",
      "_________________________________________________________________\n",
      "dropout_5 (Dropout)          (None, 512)               0         \n",
      "_________________________________________________________________\n",
      "dense_3 (Dense)              (None, 10)                5130      \n",
      "=================================================================\n",
      "Total params: 5,872,458\n",
      "Trainable params: 5,871,562\n",
      "Non-trainable params: 896\n",
      "_________________________________________________________________\n",
      "None\n"
     ]
    }
   ],
   "source": [
    "vgg = VGG()\n",
    "vgg = compile_model(vgg)"
   ]
  },
  {
   "cell_type": "markdown",
   "metadata": {},
   "source": [
    "# Load and Vectorize Cifar10 Dataset"
   ]
  },
  {
   "cell_type": "code",
   "execution_count": 9,
   "metadata": {},
   "outputs": [],
   "source": [
    "# load Cifar dataset\n",
    "(x_train, y_train), (x_test, y_test) = tf_keras.datasets.cifar10.load_data()\n",
    "\n",
    "# Turn target values into one-hot encoded vectors\n",
    "y_train = tf_keras.utils.to_categorical(y_train, model_params[\"num_classes\"])\n",
    "y_test = tf_keras.utils.to_categorical(y_test, model_params[\"num_classes\"])"
   ]
  },
  {
   "cell_type": "markdown",
   "metadata": {},
   "source": [
    "# Data Augmentation"
   ]
  },
  {
   "cell_type": "code",
   "execution_count": 10,
   "metadata": {},
   "outputs": [],
   "source": [
    "# data generator augmentation configuration for training\n",
    "train_datagen = tf_keras.preprocessing.image.ImageDataGenerator(\n",
    "        rescale=1./255,\n",
    "        shear_range=0.2,\n",
    "        zoom_range=0.2,\n",
    "        horizontal_flip=True)\n",
    "\n",
    "# data generator augmentation configuration for testing\n",
    "# only rescaling\n",
    "test_datagen = tf_keras.preprocessing.image.ImageDataGenerator(\n",
    "    rescale=1./255)"
   ]
  },
  {
   "cell_type": "markdown",
   "metadata": {},
   "source": [
    "# Data Generators"
   ]
  },
  {
   "cell_type": "code",
   "execution_count": 11,
   "metadata": {},
   "outputs": [],
   "source": [
    "# Training generator\n",
    "train_generator = train_datagen.flow(x=x_train, y=y_train,\n",
    "                                     batch_size=model_params[\"batch_size\"])\n",
    "\n",
    "# Testing generator\n",
    "validation_generator = test_datagen.flow(x=x_test, y=y_test,\n",
    "                                         batch_size=model_params[\"batch_size\"])"
   ]
  },
  {
   "cell_type": "markdown",
   "metadata": {},
   "source": [
    "# Train VGG on Cifar10"
   ]
  },
  {
   "cell_type": "code",
   "execution_count": 12,
   "metadata": {},
   "outputs": [
    {
     "name": "stdout",
     "output_type": "stream",
     "text": [
      "Epoch 1/10\n",
      "300/300 [==============================] - 11s - loss: 5.4328 - categorical_accuracy: 0.2080 - top_k_categorical_accuracy: 0.7010 - val_loss: 3.7603 - val_categorical_accuracy: 0.1153 - val_top_k_categorical_accuracy: 0.5869\n",
      "Epoch 2/10\n",
      "300/300 [==============================] - 13s - loss: 3.4022 - categorical_accuracy: 0.2594 - top_k_categorical_accuracy: 0.7712 - val_loss: 2.1970 - val_categorical_accuracy: 0.3000 - val_top_k_categorical_accuracy: 0.7828\n",
      "Epoch 3/10\n",
      "300/300 [==============================] - 13s - loss: 2.6392 - categorical_accuracy: 0.2818 - top_k_categorical_accuracy: 0.8086 - val_loss: 1.8888 - val_categorical_accuracy: 0.3571 - val_top_k_categorical_accuracy: 0.8775\n",
      "Epoch 4/10\n",
      "300/300 [==============================] - 13s - loss: 2.2890 - categorical_accuracy: 0.3168 - top_k_categorical_accuracy: 0.8347 - val_loss: 1.7337 - val_categorical_accuracy: 0.4197 - val_top_k_categorical_accuracy: 0.9141\n",
      "Epoch 5/10\n",
      "300/300 [==============================] - 13s - loss: 2.0968 - categorical_accuracy: 0.3409 - top_k_categorical_accuracy: 0.8594 - val_loss: 1.6836 - val_categorical_accuracy: 0.4544 - val_top_k_categorical_accuracy: 0.9172\n",
      "Epoch 6/10\n",
      "300/300 [==============================] - 13s - loss: 1.9609 - categorical_accuracy: 0.3729 - top_k_categorical_accuracy: 0.8775 - val_loss: 1.9025 - val_categorical_accuracy: 0.3807 - val_top_k_categorical_accuracy: 0.9023\n",
      "Epoch 7/10\n",
      "300/300 [==============================] - 13s - loss: 1.8948 - categorical_accuracy: 0.3903 - top_k_categorical_accuracy: 0.8868 - val_loss: 1.6356 - val_categorical_accuracy: 0.4662 - val_top_k_categorical_accuracy: 0.9291\n",
      "Epoch 8/10\n",
      "300/300 [==============================] - 14s - loss: 1.8194 - categorical_accuracy: 0.4107 - top_k_categorical_accuracy: 0.8967 - val_loss: 1.7345 - val_categorical_accuracy: 0.4512 - val_top_k_categorical_accuracy: 0.9128\n",
      "Epoch 9/10\n",
      "300/300 [==============================] - 13s - loss: 1.7710 - categorical_accuracy: 0.4248 - top_k_categorical_accuracy: 0.9036 - val_loss: 1.6182 - val_categorical_accuracy: 0.4793 - val_top_k_categorical_accuracy: 0.9190\n",
      "Epoch 10/10\n",
      "300/300 [==============================] - 13s - loss: 1.6884 - categorical_accuracy: 0.4567 - top_k_categorical_accuracy: 0.9156 - val_loss: 1.5919 - val_categorical_accuracy: 0.4966 - val_top_k_categorical_accuracy: 0.9263\n"
     ]
    }
   ],
   "source": [
    "# fits the model on batches with real-time data augmentation\n",
    "history = vgg.fit_generator(train_generator,\n",
    "                            steps_per_epoch=300,#x_train.shape[0]//batch_size\n",
    "                            epochs=10,\n",
    "                            validation_data=validation_generator,\n",
    "                            validation_steps=100)"
   ]
  },
  {
   "cell_type": "markdown",
   "metadata": {},
   "source": [
    "# Evaluate Model Peformance"
   ]
  },
  {
   "cell_type": "code",
   "execution_count": 13,
   "metadata": {},
   "outputs": [
    {
     "name": "stdout",
     "output_type": "stream",
     "text": [
      "loss: 1.597713085045492\n",
      "accuracy: 0.4956140350877193\n",
      "top 5 accuracy: 0.9199561403508771\n"
     ]
    }
   ],
   "source": [
    "# evaluate the model on batches with real-time data augmentation\n",
    "loss, acc, top_k_acc= vgg.evaluate_generator(validation_generator,\n",
    "                                             steps = 200)\n",
    "print(\"loss: {}\".format(loss))\n",
    "print(\"accuracy: {}\".format(acc))\n",
    "print(\"top 5 accuracy: {}\".format(top_k_acc))"
   ]
  },
  {
   "cell_type": "code",
   "execution_count": 21,
   "metadata": {},
   "outputs": [],
   "source": [
    "predictions = vgg.predict_generator(validation_generator, steps = 100)"
   ]
  },
  {
   "cell_type": "code",
   "execution_count": 15,
   "metadata": {},
   "outputs": [],
   "source": [
    "def plot_accuracy_and_loss(history):\n",
    "    plt.figure(1, figsize= (15, 10))\n",
    "    \n",
    "    # plot train and test accuracy\n",
    "    plt.subplot(221)\n",
    "    plt.plot(history.history['categorical_accuracy'])\n",
    "    plt.plot(history.history['val_categorical_accuracy'])\n",
    "    plt.title('vgg accuracy')\n",
    "    plt.ylabel('accuracy')\n",
    "    plt.xlabel('epoch')\n",
    "    plt.legend(['train', 'test'], loc='upper left')\n",
    "\n",
    "    # plot train and test loss\n",
    "    plt.subplot(222)\n",
    "    plt.plot(history.history['loss'])\n",
    "    plt.plot(history.history['val_loss'])\n",
    "    plt.title('vgg loss')\n",
    "    plt.ylabel('loss')\n",
    "    plt.xlabel('epoch')\n",
    "    plt.legend(['train', 'test'], loc='upper right')\n",
    "    \n",
    "    plt.show()"
   ]
  },
  {
   "cell_type": "code",
   "execution_count": 16,
   "metadata": {},
   "outputs": [
    {
     "data": {
      "image/png": "[encoded data removed]",
      "text/plain": [
       "<matplotlib.figure.Figure at 0x7f703c3badd8>"
      ]
     },
     "metadata": {},
     "output_type": "display_data"
    }
   ],
   "source": [
    "plot_accuracy_and_loss(history)"
   ]
  },
  {
   "cell_type": "markdown",
   "metadata": {},
   "source": [
    "# Save Model Parameters"
   ]
  },
  {
   "cell_type": "code",
   "execution_count": 20,
   "metadata": {},
   "outputs": [],
   "source": [
    "#save model\n",
    "vgg_json = vgg.to_json()\n",
    "open('cifar10_vgg.json', 'w').write(vgg_json)\n",
    "vgg.save_weights('cifar10.h5', overwrite=True)"
   ]
  }
 ],
 "metadata": {
  "anaconda-cloud": {},
  "kernelspec": {
   "display_name": "Python 3",
   "language": "python",
   "name": "python3"
  },
  "language_info": {
   "codemirror_mode": {
    "name": "ipython",
    "version": 3
   },
   "file_extension": ".py",
   "mimetype": "text/x-python",
   "name": "python",
   "nbconvert_exporter": "python",
   "pygments_lexer": "ipython3",
   "version": "3.5.2"
  }
 },
 "nbformat": 4,
 "nbformat_minor": 1
}
