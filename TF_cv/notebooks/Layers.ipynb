{
 "cells": [
  {
   "cell_type": "markdown",
   "metadata": {},
   "source": [
    "#  Layers\n",
    "\n",
    "Each layer represents a high-level operation in the computational graph. These can be **visualized as lego blocks** can that be combined together and repeated across the architecture to form the neural network.\n",
    "\n",
    "### Google's Inception model\n",
    "\n",
    "<img src=\"images/googlenet.png\" width=\"1500\">\n",
    "\n",
    "\n",
    "Common layers provided the TF-Keras `layers` module:\n",
    "\n",
    "** Convolutional Layers**\n",
    "```\n",
    "tf_keras.layers.Conv1D\n",
    "tf_keras.layers.Conv2D\n",
    "tf_keras.layers.Conv3D\n",
    "```\n",
    "\n",
    "** Max-Pooling Layers**\n",
    "```\n",
    "tf_keras.layers.MaxPool1D\n",
    "tf_keras.layers.MaxPool2D\n",
    "tf_keras.layers.MaxPool3D\n",
    "```\n",
    "\n",
    "** Avergae Pooling Layers**\n",
    "```\n",
    "tf_keras.layers.AvgPool1D\n",
    "tf_keras.layers.AvgPool2D\n",
    "tf_keras.layers.AvgPool3D\n",
    "```\n",
    "\n",
    "** Fully-Connected layer**\n",
    "```\n",
    "tf_keras.layers.Dense\n",
    "```\n",
    "\n",
    "** Other Layers**\n",
    "```\n",
    "tf_keras.layers.Flatten\n",
    "tf_keras.layers.Dropout\n",
    "tf_keras.layers.BatchNormalization\n",
    "```\n",
    "\n",
    "** Activation Layers**\n",
    "```\n",
    "tf_keras.activations.relu\n",
    "tf_keras.activations.sigmoid\n",
    "tf_keras.activations.softmax\n",
    "tf_keras.activations.tanh\n",
    "tf_keras.activations.elu\n",
    "tf_keras.activations.hard_sigmoid\n",
    "tf_keras.activations.softplus\n",
    "tf_keras.activations.softsign\n",
    "tf_keras.activations.linear\n",
    "```"
   ]
  },
  {
   "cell_type": "code",
   "execution_count": null,
   "metadata": {
    "collapsed": true
   },
   "outputs": [],
   "source": [
    "# output filter size\n",
    "filters = 10\n",
    "\n",
    "# feature map size\n",
    "kernel_size = (3,3)\n",
    "\n",
    "# conv1D - temporal convolution\n",
    "tf_keras.layers.Conv1D(filters, kernel_size, strides=(1, 1), padding='valid',\n",
    "                       activation= tf.nn.relu, use_bias=True,\n",
    "                       kernel_initializer='glorot_uniform', bias_initializer='zeros')\n",
    "\n",
    "# conv2D - spatial convolution over images\n",
    "tf_keras.layers.Conv2D(filters, kernel_size, strides=(1, 1), padding='valid',\n",
    "                       activation= tf.nn.relu, use_bias=True,\n",
    "                       kernel_initializer='glorot_uniform', bias_initializer='zeros')\n",
    "\n",
    "# conv3D - spatial convolution over volumes\n",
    "tf_keras.layers.Conv3D(filters, kernel_size, strides=(1, 1), padding='valid',\n",
    "                       activation= tf.nn.relu, use_bias=True,\n",
    "                       kernel_initializer='glorot_uniform', bias_initializer='zeros')"
   ]
  },
  {
   "cell_type": "markdown",
   "metadata": {},
   "source": [
    "- filters: the number output of filters in the convolution\n",
    "\n",
    "- kernel_size: width and height of the 2D convolution window\n",
    "\n",
    "- strides: the strides of the convolution along the width and height\n",
    "\n",
    "- padding: `\"valid\"` or `\"same\"`.\n",
    "    \n",
    "- activation: Activation function to use.\n",
    "        \n",
    "- use_bias: Boolean, whether the layer uses a bias vector.\n"
   ]
  },
  {
   "cell_type": "markdown",
   "metadata": {},
   "source": [
    "## Max-Pooling Layer\n"
   ]
  },
  {
   "cell_type": "code",
   "execution_count": null,
   "metadata": {
    "collapsed": true
   },
   "outputs": [],
   "source": [
    "# max-pooling 2D - spatial data\n",
    "tf_keras.layers.MaxPool2D(pool_size=(2, 2), strides=(2,2), padding='valid', data_format=\"channels_last\")\n",
    "\n",
    "# max-pooling 1D - temporal data\n",
    "tf_keras.layers.MaxPool1D(pool_size=(2, 2), strides=(2,2), padding='valid', data_format=\"channels_last\")\n",
    "\n",
    "# max-pooling 3D - spatial or spatio-temporal\n",
    "tf_keras.layers.MaxPool3D(pool_size=(2, 2), strides=(2,2), padding='valid', data_format=\"channels_last\")"
   ]
  },
  {
   "cell_type": "markdown",
   "metadata": {},
   "source": [
    "## Average Pooling Layer"
   ]
  },
  {
   "cell_type": "code",
   "execution_count": null,
   "metadata": {
    "collapsed": true
   },
   "outputs": [],
   "source": [
    "tf_keras.layers.AvgPool1D\n",
    "tf_keras.layers.AvgPool2D\n",
    "tf_keras.layers.AvgPool3D"
   ]
  },
  {
   "cell_type": "markdown",
   "metadata": {},
   "source": [
    "## Dropout\n",
    "Dropout consists in randomly setting\n",
    "a fraction `p` of input units at each update during training to prevent overfitting.\n",
    "\n",
    "- rate: float between 0 and 1. Fraction of the input units to drop.\n",
    "   "
   ]
  },
  {
   "cell_type": "code",
   "execution_count": null,
   "metadata": {
    "collapsed": true
   },
   "outputs": [],
   "source": [
    "# dropout\n",
    "tf_keras.layers.Dropout(rate = 0.5)"
   ]
  },
  {
   "cell_type": "markdown",
   "metadata": {
    "collapsed": true
   },
   "source": [
    "## Batch normalization layer\n",
    "\n",
    "Normalize the activations of the previous layer at each batch\n",
    "\n",
    "- axis: Integer, the axis that should be normalized (typically the features axis).\n",
    "        For instance, after a `Conv2D` layer with\n",
    "        `data_format=\"channels_first\"`,\n",
    "        set `axis=1` in `BatchNormalization`.\n",
    "- momentum: Momentum for the moving average.\n",
    "- epsilon: Small float added to variance to **avoid dividing by zero**.\n",
    "- center: If True, add offset of `beta` to normalized tensor.\n",
    "        If False, `beta` is ignored.\n",
    "- scale: If True, multiply by `gamma`.\n",
    "        If False, `gamma` is not used.\n",
    "        When the next layer is linear (also e.g. `nn.relu`),\n",
    "        this can be disabled since the scaling\n",
    "        will be done by the next layer.\n",
    "- beta_initializer: Initializer for the beta weight.\n",
    "- gamma_initializer: Initializer for the gamma weight.\n",
    "- moving_mean_initializer: Initializer for the moving mean.\n",
    "- moving_variance_initializer: Initializer for the moving variance.\n"
   ]
  },
  {
   "cell_type": "code",
   "execution_count": 4,
   "metadata": {},
   "outputs": [],
   "source": [
    "f_keras.layers.BatchNormalization(axis=-1, momentum=0.99, epsilon=0.001, center=True,\n",
    "                                  scale=True, beta_initializer='zeros', gamma_initializer='ones',\n",
    "                                  moving_mean_initializer='zeros', moving_variance_initializer='ones')\n"
   ]
  },
  {
   "cell_type": "markdown",
   "metadata": {},
   "source": [
    "## Fully Connected (Dense) Layer\n",
    "\n",
    "Fully-connected layer computes:\n",
    "\n",
    "`output = activation(dot(input, kernel) + bias)`\n",
    "where:\n",
    "- `activation` is the element-wise activation function\n",
    "- `kernel` is a weights matrix created by the layer\n",
    "- `bias` is a bias vector created by the layer\n"
   ]
  },
  {
   "cell_type": "code",
   "execution_count": null,
   "metadata": {
    "collapsed": true
   },
   "outputs": [],
   "source": [
    "# fully connected layer\n",
    "tf_keras.layers.Dense(units, activation=None, use_bias=True,\n",
    "                      kernel_initializer='glorot_uniform', bias_initializer='zeros')\n",
    "\n",
    "# flatten to vector\n",
    "tf_keras.layers.Flatten()"
   ]
  },
  {
   "cell_type": "markdown",
   "metadata": {
    "collapsed": true
   },
   "source": [
    "## Activation Layer (increases the nonlinear properties of the decision function)"
   ]
  },
  {
   "cell_type": "code",
   "execution_count": null,
   "metadata": {
    "collapsed": true
   },
   "outputs": [],
   "source": [
    "tf_keras.activations.relu(inputs)\n",
    "tf_keras.activations.sigmoid(inputs)\n",
    "tf_keras.activations.softmax(inputs)\n",
    "tf_keras.activations.tanh(inputs)\n",
    "tf_keras.activations.elu(inputs)\n",
    "tf_keras.activations.hard_sigmoid(inputs)\n",
    "tf_keras.activations.softplus(inputs)\n",
    "tf_keras.activations.softsign(inputs)\n",
    "tf_keras.activations.linear(inputs)"
   ]
  }
 ],
 "metadata": {
  "anaconda-cloud": {},
  "kernelspec": {
   "display_name": "Python 3",
   "language": "python",
   "name": "python3"
  },
  "language_info": {
   "codemirror_mode": {
    "name": "ipython",
    "version": 3
   },
   "file_extension": ".py",
   "mimetype": "text/x-python",
   "name": "python",
   "nbconvert_exporter": "python",
   "pygments_lexer": "ipython3",
   "version": "3.5.2"
  }
 },
 "nbformat": 4,
 "nbformat_minor": 1
}
