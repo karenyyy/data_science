{
 "cells": [
  {
   "cell_type": "code",
   "execution_count": 1,
   "metadata": {},
   "outputs": [],
   "source": [
    "import matplotlib.pyplot as plt\n",
    "import numpy as np\n",
    "import tensorflow as tf\n",
    "from tensorflow.python.framework import ops\n",
    "ops.reset_default_graph()\n",
    "\n",
    "# Open graph session\n",
    "sess = tf.Session()"
   ]
  },
  {
   "cell_type": "code",
   "execution_count": 4,
   "metadata": {},
   "outputs": [],
   "source": [
    "# X range\n",
    "x_vals = np.linspace(start=-10., stop=10., num=100)\n"
   ]
  },
  {
   "cell_type": "code",
   "execution_count": 13,
   "metadata": {},
   "outputs": [
    {
     "data": {
      "text/plain": [
       "array([  0.        ,   0.        ,   0.        ,   0.        ,\n",
       "         0.        ,   0.        ,   0.        ,   0.        ,\n",
       "         0.        ,   0.        ,   0.        ,   0.        ,\n",
       "         0.        ,   0.        ,   0.        ,   0.        ,\n",
       "         0.        ,   0.        ,   0.        ,   0.        ,\n",
       "         0.        ,   0.        ,   0.        ,   0.        ,\n",
       "         0.        ,   0.        ,   0.        ,   0.        ,\n",
       "         0.        ,   0.        ,   0.        ,   0.        ,\n",
       "         0.        ,   0.        ,   0.        ,   0.        ,\n",
       "         0.        ,   0.        ,   0.        ,   0.        ,\n",
       "         0.        ,   0.        ,   0.        ,   0.        ,\n",
       "         0.        ,   0.        ,   0.        ,   0.        ,\n",
       "         0.        ,   0.        ,   0.1010101 ,   0.3030303 ,\n",
       "         0.50505051,   0.70707071,   0.90909091,   1.11111111,\n",
       "         1.31313131,   1.51515152,   1.71717172,   1.91919192,\n",
       "         2.12121212,   2.32323232,   2.52525253,   2.72727273,\n",
       "         2.92929293,   3.13131313,   3.33333333,   3.53535354,\n",
       "         3.73737374,   3.93939394,   4.14141414,   4.34343434,\n",
       "         4.54545455,   4.74747475,   4.94949495,   5.15151515,\n",
       "         5.35353535,   5.55555556,   5.75757576,   5.95959596,\n",
       "         6.16161616,   6.36363636,   6.56565657,   6.76767677,\n",
       "         6.96969697,   7.17171717,   7.37373737,   7.57575758,\n",
       "         7.77777778,   7.97979798,   8.18181818,   8.38383838,\n",
       "         8.58585859,   8.78787879,   8.98989899,   9.19191919,\n",
       "         9.39393939,   9.5959596 ,   9.7979798 ,  10.        ])"
      ]
     },
     "execution_count": 13,
     "metadata": {},
     "output_type": "execute_result"
    }
   ],
   "source": [
    "# ReLU activation\n",
    "# max(0, x)\n",
    "y_relu = sess.run(tf.nn.relu(x_vals))\n",
    "y_relu"
   ]
  },
  {
   "cell_type": "code",
   "execution_count": 14,
   "metadata": {},
   "outputs": [
    {
     "data": {
      "text/plain": [
       "array([ 0.        ,  0.        ,  0.        ,  0.        ,  0.        ,\n",
       "        0.        ,  0.        ,  0.        ,  0.        ,  0.        ,\n",
       "        0.        ,  0.        ,  0.        ,  0.        ,  0.        ,\n",
       "        0.        ,  0.        ,  0.        ,  0.        ,  0.        ,\n",
       "        0.        ,  0.        ,  0.        ,  0.        ,  0.        ,\n",
       "        0.        ,  0.        ,  0.        ,  0.        ,  0.        ,\n",
       "        0.        ,  0.        ,  0.        ,  0.        ,  0.        ,\n",
       "        0.        ,  0.        ,  0.        ,  0.        ,  0.        ,\n",
       "        0.        ,  0.        ,  0.        ,  0.        ,  0.        ,\n",
       "        0.        ,  0.        ,  0.        ,  0.        ,  0.        ,\n",
       "        0.1010101 ,  0.3030303 ,  0.50505051,  0.70707071,  0.90909091,\n",
       "        1.11111111,  1.31313131,  1.51515152,  1.71717172,  1.91919192,\n",
       "        2.12121212,  2.32323232,  2.52525253,  2.72727273,  2.92929293,\n",
       "        3.13131313,  3.33333333,  3.53535354,  3.73737374,  3.93939394,\n",
       "        4.14141414,  4.34343434,  4.54545455,  4.74747475,  4.94949495,\n",
       "        5.15151515,  5.35353535,  5.55555556,  5.75757576,  5.95959596,\n",
       "        6.        ,  6.        ,  6.        ,  6.        ,  6.        ,\n",
       "        6.        ,  6.        ,  6.        ,  6.        ,  6.        ,\n",
       "        6.        ,  6.        ,  6.        ,  6.        ,  6.        ,\n",
       "        6.        ,  6.        ,  6.        ,  6.        ,  6.        ])"
      ]
     },
     "execution_count": 14,
     "metadata": {},
     "output_type": "execute_result"
    }
   ],
   "source": [
    "# ReLU-6 activation\n",
    "y_relu6 = sess.run(tf.nn.relu6(x_vals))\n",
    "y_relu6"
   ]
  },
  {
   "cell_type": "code",
   "execution_count": 16,
   "metadata": {},
   "outputs": [
    {
     "data": {
      "text/plain": [
       "array([  4.53978687e-05,   5.55606489e-05,   6.79983174e-05,\n",
       "         8.32200197e-05,   1.01848815e-04,   1.24647146e-04,\n",
       "         1.52547986e-04,   1.86692945e-04,   2.28478855e-04,\n",
       "         2.79614739e-04,   3.42191434e-04,   4.18766684e-04,\n",
       "         5.12469082e-04,   6.27124987e-04,   7.67413430e-04,\n",
       "         9.39055039e-04,   1.14904229e-03,   1.40591988e-03,\n",
       "         1.72012560e-03,   2.10440443e-03,   2.57431039e-03,\n",
       "         3.14881358e-03,   3.85103236e-03,   4.70911357e-03,\n",
       "         5.75728612e-03,   7.03711536e-03,   8.59898661e-03,\n",
       "         1.05038445e-02,   1.28252101e-02,   1.56514861e-02,\n",
       "         1.90885420e-02,   2.32625358e-02,   2.83228820e-02,\n",
       "         3.44451957e-02,   4.18339400e-02,   5.07243606e-02,\n",
       "         6.13831074e-02,   7.41067363e-02,   8.92170603e-02,\n",
       "         1.07052146e-01,   1.27951705e-01,   1.52235823e-01,\n",
       "         1.80176593e-01,   2.11963334e-01,   2.47663801e-01,\n",
       "         2.87185901e-01,   3.30246430e-01,   3.76354517e-01,\n",
       "         4.24816868e-01,   4.74768924e-01,   5.25231076e-01,\n",
       "         5.75183132e-01,   6.23645483e-01,   6.69753570e-01,\n",
       "         7.12814099e-01,   7.52336199e-01,   7.88036666e-01,\n",
       "         8.19823407e-01,   8.47764177e-01,   8.72048295e-01,\n",
       "         8.92947854e-01,   9.10782940e-01,   9.25893264e-01,\n",
       "         9.38616893e-01,   9.49275639e-01,   9.58166060e-01,\n",
       "         9.65554804e-01,   9.71677118e-01,   9.76737464e-01,\n",
       "         9.80911458e-01,   9.84348514e-01,   9.87174790e-01,\n",
       "         9.89496155e-01,   9.91401013e-01,   9.92962885e-01,\n",
       "         9.94242714e-01,   9.95290886e-01,   9.96148968e-01,\n",
       "         9.96851186e-01,   9.97425690e-01,   9.97895596e-01,\n",
       "         9.98279874e-01,   9.98594080e-01,   9.98850958e-01,\n",
       "         9.99060945e-01,   9.99232587e-01,   9.99372875e-01,\n",
       "         9.99487531e-01,   9.99581233e-01,   9.99657809e-01,\n",
       "         9.99720385e-01,   9.99771521e-01,   9.99813307e-01,\n",
       "         9.99847452e-01,   9.99875353e-01,   9.99898151e-01,\n",
       "         9.99916780e-01,   9.99932002e-01,   9.99944439e-01,\n",
       "         9.99954602e-01])"
      ]
     },
     "execution_count": 16,
     "metadata": {},
     "output_type": "execute_result"
    }
   ],
   "source": [
    "# Sigmoid activation\n",
    "y_sigmoid = sess.run(tf.nn.sigmoid(x_vals))\n",
    "y_sigmoid"
   ]
  },
  {
   "cell_type": "code",
   "execution_count": 17,
   "metadata": {},
   "outputs": [
    {
     "data": {
      "text/plain": [
       "array([-1.        , -0.99999999, -0.99999999, -0.99999999, -0.99999998,\n",
       "       -0.99999997, -0.99999995, -0.99999993, -0.9999999 , -0.99999984,\n",
       "       -0.99999977, -0.99999965, -0.99999947, -0.99999921, -0.99999882,\n",
       "       -0.99999823, -0.99999735, -0.99999604, -0.99999406, -0.99999111,\n",
       "       -0.99998668, -0.99998004, -0.99997011, -0.99995523, -0.99993294,\n",
       "       -0.99989955, -0.99984955, -0.99977465, -0.99966248, -0.99949449,\n",
       "       -0.9992429 , -0.99886619, -0.99830218, -0.99745797, -0.99619479,\n",
       "       -0.9943057 , -0.99148279, -0.98726936, -0.98099146, -0.97166188,\n",
       "       -0.95785067, -0.93752157, -0.90784899, -0.86506558, -0.8044548 ,\n",
       "       -0.72069563, -0.60883666, -0.46607983, -0.2940833 , -0.10066796,\n",
       "        0.10066796,  0.2940833 ,  0.46607983,  0.60883666,  0.72069563,\n",
       "        0.8044548 ,  0.86506558,  0.90784899,  0.93752157,  0.95785067,\n",
       "        0.97166188,  0.98099146,  0.98726936,  0.99148279,  0.9943057 ,\n",
       "        0.99619479,  0.99745797,  0.99830218,  0.99886619,  0.9992429 ,\n",
       "        0.99949449,  0.99966248,  0.99977465,  0.99984955,  0.99989955,\n",
       "        0.99993294,  0.99995523,  0.99997011,  0.99998004,  0.99998668,\n",
       "        0.99999111,  0.99999406,  0.99999604,  0.99999735,  0.99999823,\n",
       "        0.99999882,  0.99999921,  0.99999947,  0.99999965,  0.99999977,\n",
       "        0.99999984,  0.9999999 ,  0.99999993,  0.99999995,  0.99999997,\n",
       "        0.99999998,  0.99999999,  0.99999999,  0.99999999,  1.        ])"
      ]
     },
     "execution_count": 17,
     "metadata": {},
     "output_type": "execute_result"
    }
   ],
   "source": [
    "y_tanh = sess.run(tf.nn.tanh(x_vals))\n",
    "y_tanh"
   ]
  },
  {
   "cell_type": "code",
   "execution_count": 18,
   "metadata": {},
   "outputs": [
    {
     "data": {
      "text/plain": [
       "array([-0.90909091, -0.90739008, -0.9056244 , -0.90379009, -0.90188305,\n",
       "       -0.89989889, -0.89783282, -0.89567966, -0.8934338 , -0.89108911,\n",
       "       -0.88863892, -0.88607595, -0.88339223, -0.88057901, -0.8776267 ,\n",
       "       -0.87452471, -0.87126138, -0.86782377, -0.86419753, -0.86036671,\n",
       "       -0.8563135 , -0.85201794, -0.84745763, -0.84260731, -0.83743842,\n",
       "       -0.83191851, -0.82601054, -0.81967213, -0.81285444, -0.80550098,\n",
       "       -0.79754601, -0.78891258, -0.77951002, -0.76923077, -0.75794621,\n",
       "       -0.74550129, -0.73170732, -0.71633238, -0.69908815, -0.67961165,\n",
       "       -0.65743945, -0.63197026, -0.60240964, -0.56768559, -0.52631579,\n",
       "       -0.47619048, -0.41420118, -0.33557047, -0.23255814, -0.09174312,\n",
       "        0.09174312,  0.23255814,  0.33557047,  0.41420118,  0.47619048,\n",
       "        0.52631579,  0.56768559,  0.60240964,  0.63197026,  0.65743945,\n",
       "        0.67961165,  0.69908815,  0.71633238,  0.73170732,  0.74550129,\n",
       "        0.75794621,  0.76923077,  0.77951002,  0.78891258,  0.79754601,\n",
       "        0.80550098,  0.81285444,  0.81967213,  0.82601054,  0.83191851,\n",
       "        0.83743842,  0.84260731,  0.84745763,  0.85201794,  0.8563135 ,\n",
       "        0.86036671,  0.86419753,  0.86782377,  0.87126138,  0.87452471,\n",
       "        0.8776267 ,  0.88057901,  0.88339223,  0.88607595,  0.88863892,\n",
       "        0.89108911,  0.8934338 ,  0.89567966,  0.89783282,  0.89989889,\n",
       "        0.90188305,  0.90379009,  0.9056244 ,  0.90739008,  0.90909091])"
      ]
     },
     "execution_count": 18,
     "metadata": {},
     "output_type": "execute_result"
    }
   ],
   "source": [
    "y_softsign = sess.run(tf.nn.softsign(x_vals))\n",
    "y_softsign"
   ]
  },
  {
   "cell_type": "code",
   "execution_count": 26,
   "metadata": {},
   "outputs": [
    {
     "data": {
      "text/plain": [
       "array([  4.53988992e-05,   5.55621925e-05,   6.80006294e-05,\n",
       "         8.32234827e-05,   1.01854002e-04,   1.24654915e-04,\n",
       "         1.52559623e-04,   1.86710374e-04,   2.28504961e-04,\n",
       "         2.79653838e-04,   3.42249995e-04,   4.18854392e-04,\n",
       "         5.12600439e-04,   6.27321712e-04,   7.67708042e-04,\n",
       "         9.39496227e-04,   1.14970295e-03,   1.40690911e-03,\n",
       "         1.72160671e-03,   2.10662180e-03,   2.57762963e-03,\n",
       "         3.15378152e-03,   3.85846667e-03,   4.72023638e-03,\n",
       "         5.77392318e-03,   7.06199264e-03,   8.63617122e-03,\n",
       "         1.05593993e-02,   1.29081631e-02,   1.57752639e-02,\n",
       "         1.92730804e-02,   2.35373794e-02,   2.87317129e-02,\n",
       "         3.50524161e-02,   4.27341757e-02,   5.20560700e-02,\n",
       "         6.33478781e-02,   7.69963170e-02,   9.34506760e-02,\n",
       "         1.13227094e-01,   1.36910472e-01,   1.65152775e-01,\n",
       "         1.98666320e-01,   2.38210660e-01,   2.84571982e-01,\n",
       "         3.38534624e-01,   4.00845440e-01,   4.72173209e-01,\n",
       "         5.53066799e-01,   6.43916968e-01,   7.44927069e-01,\n",
       "         8.56097102e-01,   9.77223714e-01,   1.10791615e+00,\n",
       "         1.24762553e+00,   1.39568309e+00,   1.55134197e+00,\n",
       "         1.71381783e+00,   1.88232449e+00,   2.05610239e+00,\n",
       "         2.23443922e+00,   2.41668300e+00,   2.60224884e+00,\n",
       "         2.79062061e+00,   2.98134900e+00,   3.17404731e+00,\n",
       "         3.36838575e+00,   3.56408525e+00,   3.76091112e+00,\n",
       "         3.95866702e+00,   4.15718941e+00,   4.35634251e+00,\n",
       "         4.55601394e+00,   4.75611092e+00,   4.95655694e+00,\n",
       "         5.15728907e+00,   5.35825559e+00,   5.55941402e+00,\n",
       "         5.76072954e+00,   5.96217359e+00,   6.16372278e+00,\n",
       "         6.36535797e+00,   6.56706347e+00,   6.76882647e+00,\n",
       "         6.97063647e+00,   7.17248488e+00,   7.37436470e+00,\n",
       "         7.57627018e+00,   7.77819663e+00,   7.98014023e+00,\n",
       "         8.18209784e+00,   8.38406689e+00,   8.58604530e+00,\n",
       "         8.78803135e+00,   8.99002364e+00,   9.19202105e+00,\n",
       "         9.39402262e+00,   9.59602760e+00,   9.79803536e+00,\n",
       "         1.00000454e+01])"
      ]
     },
     "execution_count": 26,
     "metadata": {},
     "output_type": "execute_result"
    }
   ],
   "source": [
    "y_softplus = sess.run(tf.nn.softplus(x_vals))\n",
    "y_softplus"
   ]
  },
  {
   "cell_type": "code",
   "execution_count": 27,
   "metadata": {},
   "outputs": [
    {
     "data": {
      "text/plain": [
       "array([ -0.9999546 ,  -0.99994444,  -0.999932  ,  -0.99991677,\n",
       "        -0.99989814,  -0.99987534,  -0.99984743,  -0.99981327,\n",
       "        -0.99977147,  -0.99972031,  -0.99965769,  -0.99958106,\n",
       "        -0.99948727,  -0.99937248,  -0.999232  ,  -0.99906006,\n",
       "        -0.99884964,  -0.9985921 ,  -0.99827691,  -0.99789116,\n",
       "        -0.99741905,  -0.99684124,  -0.99613408,  -0.99526861,\n",
       "        -0.99420938,  -0.99291301,  -0.99132643,  -0.98938465,\n",
       "        -0.98700817,  -0.98409965,  -0.98053999,  -0.97618343,\n",
       "        -0.97085155,  -0.96432601,  -0.95633957,  -0.94656519,\n",
       "        -0.9346026 ,  -0.9199619 ,  -0.90204355,  -0.88011378,\n",
       "        -0.85327452,  -0.82042669,  -0.78022512,  -0.73102351,\n",
       "        -0.67080701,  -0.59710968,  -0.50691352,  -0.3965249 ,\n",
       "        -0.26142329,  -0.0960761 ,   0.1010101 ,   0.3030303 ,\n",
       "         0.50505051,   0.70707071,   0.90909091,   1.11111111,\n",
       "         1.31313131,   1.51515152,   1.71717172,   1.91919192,\n",
       "         2.12121212,   2.32323232,   2.52525253,   2.72727273,\n",
       "         2.92929293,   3.13131313,   3.33333333,   3.53535354,\n",
       "         3.73737374,   3.93939394,   4.14141414,   4.34343434,\n",
       "         4.54545455,   4.74747475,   4.94949495,   5.15151515,\n",
       "         5.35353535,   5.55555556,   5.75757576,   5.95959596,\n",
       "         6.16161616,   6.36363636,   6.56565657,   6.76767677,\n",
       "         6.96969697,   7.17171717,   7.37373737,   7.57575758,\n",
       "         7.77777778,   7.97979798,   8.18181818,   8.38383838,\n",
       "         8.58585859,   8.78787879,   8.98989899,   9.19191919,\n",
       "         9.39393939,   9.5959596 ,   9.7979798 ,  10.        ])"
      ]
     },
     "execution_count": 27,
     "metadata": {},
     "output_type": "execute_result"
    }
   ],
   "source": [
    "y_elu = sess.run(tf.nn.elu(x_vals))\n",
    "y_elu"
   ]
  },
  {
   "cell_type": "code",
   "execution_count": 25,
   "metadata": {},
   "outputs": [
    {
     "data": {
      "image/png": "[encoded data removed]",
      "text/plain": [
       "<matplotlib.figure.Figure at 0x7f7e94299978>"
      ]
     },
     "metadata": {},
     "output_type": "display_data"
    },
    {
     "data": {
      "image/png": "[encoded data removed]",
      "text/plain": [
       "<matplotlib.figure.Figure at 0x7f7e941ac710>"
      ]
     },
     "metadata": {},
     "output_type": "display_data"
    }
   ],
   "source": [
    "# Plot the different functions\n",
    "plt.plot(x_vals, y_softplus, 'r--', label='Softplus', linewidth=2)\n",
    "plt.plot(x_vals, y_relu, 'b:', label='ReLU', linewidth=2)\n",
    "plt.plot(x_vals, y_relu6, 'g-.', label='ReLU6', linewidth=2)\n",
    "plt.plot(x_vals, y_elu, 'k-', label='ExpLU', linewidth=0.5)\n",
    "plt.ylim([-1.5,7])\n",
    "plt.legend(loc='upper left')\n",
    "plt.show()\n",
    "\n",
    "plt.plot(x_vals, y_sigmoid, 'r--', label='Sigmoid', linewidth=2)\n",
    "plt.plot(x_vals, y_tanh, 'b:', label='Tanh', linewidth=2)\n",
    "plt.plot(x_vals, y_softsign, 'g-.', label='Softsign', linewidth=2)\n",
    "plt.ylim([-2,2])\n",
    "plt.legend(loc='upper left')\n",
    "plt.show()"
   ]
  },
  {
   "cell_type": "markdown",
   "metadata": {},
   "source": [
    "## stochastic and batch"
   ]
  },
  {
   "cell_type": "code",
   "execution_count": 31,
   "metadata": {},
   "outputs": [
    {
     "name": "stdout",
     "output_type": "stream",
     "text": [
      "WARNING:tensorflow:From /usr/local/lib/python3.5/dist-packages/tensorflow/python/util/tf_should_use.py:107: initialize_all_variables (from tensorflow.python.ops.variables) is deprecated and will be removed after 2017-03-02.\n",
      "Instructions for updating:\n",
      "Use `tf.global_variables_initializer` instead.\n",
      "Step #5 A = [ 2.66767526]\n",
      "Loss = [ 45.27990341]\n",
      "Step #10 A = [ 4.04451752]\n",
      "Loss = [ 33.35755539]\n",
      "Step #15 A = [ 5.14790964]\n",
      "Loss = [ 20.67477036]\n",
      "Step #20 A = [ 6.0365262]\n",
      "Loss = [ 16.10942078]\n",
      "Step #25 A = [ 6.74331284]\n",
      "Loss = [ 10.8330183]\n",
      "Step #30 A = [ 7.36572456]\n",
      "Loss = [ 5.32077122]\n",
      "Step #35 A = [ 7.79378986]\n",
      "Loss = [ 6.68340111]\n",
      "Step #40 A = [ 8.04745293]\n",
      "Loss = [ 0.74672562]\n",
      "Step #45 A = [ 8.37819386]\n",
      "Loss = [ 3.20141006]\n",
      "Step #50 A = [ 8.62679482]\n",
      "Loss = [ 2.49285388]\n",
      "Step #55 A = [ 8.77800369]\n",
      "Loss = [ 0.78439903]\n",
      "Step #60 A = [ 8.89340496]\n",
      "Loss = [ 0.91097051]\n",
      "Step #65 A = [ 9.0594511]\n",
      "Loss = [ 6.32604694]\n",
      "Step #70 A = [ 9.08229923]\n",
      "Loss = [ 0.36035645]\n",
      "Step #75 A = [ 9.22158146]\n",
      "Loss = [ 0.30781153]\n",
      "Step #80 A = [ 9.38477707]\n",
      "Loss = [ 1.95809281]\n",
      "Step #85 A = [ 9.40574551]\n",
      "Loss = [ 0.0705151]\n",
      "Step #90 A = [ 9.38861847]\n",
      "Loss = [ 0.69758666]\n",
      "Step #95 A = [ 9.40103436]\n",
      "Loss = [ 2.33192253]\n",
      "Step #100 A = [ 9.47697544]\n",
      "Loss = [ 0.00481978]\n",
      "Step #5 A = [[ 2.01450682]]\n",
      "Loss = 62.5247\n",
      "Step #10 A = [[ 3.47348428]]\n",
      "Loss = 43.2359\n",
      "Step #15 A = [[ 4.66957808]]\n",
      "Loss = 31.0311\n",
      "Step #20 A = [[ 5.64675474]]\n",
      "Loss = 19.7675\n",
      "Step #25 A = [[ 6.43259525]]\n",
      "Loss = 11.3786\n",
      "Step #30 A = [[ 7.06861162]]\n",
      "Loss = 8.03161\n",
      "Step #35 A = [[ 7.59326077]]\n",
      "Loss = 5.78363\n",
      "Step #40 A = [[ 8.01422024]]\n",
      "Loss = 3.96057\n",
      "Step #45 A = [[ 8.35351849]]\n",
      "Loss = 2.59294\n",
      "Step #50 A = [[ 8.63518238]]\n",
      "Loss = 2.79149\n",
      "Step #55 A = [[ 8.86727238]]\n",
      "Loss = 1.55035\n",
      "Step #60 A = [[ 9.06909847]]\n",
      "Loss = 2.09133\n",
      "Step #65 A = [[ 9.22556591]]\n",
      "Loss = 2.27654\n",
      "Step #70 A = [[ 9.31794262]]\n",
      "Loss = 1.46922\n",
      "Step #75 A = [[ 9.43575573]]\n",
      "Loss = 0.883017\n",
      "Step #80 A = [[ 9.52741051]]\n",
      "Loss = 1.52513\n",
      "Step #85 A = [[ 9.57954597]]\n",
      "Loss = 0.915257\n",
      "Step #90 A = [[ 9.64702129]]\n",
      "Loss = 1.24858\n",
      "Step #95 A = [[ 9.68455029]]\n",
      "Loss = 1.14179\n",
      "Step #100 A = [[ 9.74326324]]\n",
      "Loss = 1.61321\n"
     ]
    },
    {
     "data": {
      "image/png": "[encoded data removed]",
      "text/plain": [
       "<matplotlib.figure.Figure at 0x7f7e746a4fd0>"
      ]
     },
     "metadata": {},
     "output_type": "display_data"
    }
   ],
   "source": [
    "ops.reset_default_graph()\n",
    "sess = tf.Session()\n",
    "\n",
    "x_vals = np.random.normal(1, 0.1, 100)\n",
    "y_vals = np.repeat(10., 100)\n",
    "x_data = tf.placeholder(shape=[1], dtype=tf.float32)\n",
    "y_target = tf.placeholder(shape=[1], dtype=tf.float32)\n",
    "\n",
    "\n",
    "A = tf.Variable(tf.random_normal(shape=[1]))\n",
    "\n",
    "\n",
    "my_output = tf.multiply(x_data, A)\n",
    "\n",
    "\n",
    "loss = tf.square(my_output - y_target)\n",
    "\n",
    "\n",
    "init = tf.global_variables_initializer()\n",
    "sess.run(init)\n",
    "\n",
    "\n",
    "my_opt = tf.train.GradientDescentOptimizer(0.02)\n",
    "train_step = my_opt.minimize(loss)\n",
    "\n",
    "loss_stochastic = []\n",
    "\n",
    "for i in range(100):\n",
    "    rand_index = np.random.choice(100)\n",
    "    rand_x = [x_vals[rand_index]]\n",
    "    rand_y = [y_vals[rand_index]]\n",
    "    sess.run(train_step, feed_dict={x_data: rand_x, y_target: rand_y})\n",
    "    if (i+1)%5==0:\n",
    "        print('Step #' + str(i+1) + ' A = ' + str(sess.run(A)))\n",
    "        temp_loss = sess.run(loss, feed_dict={x_data: rand_x, y_target: rand_y})\n",
    "        print('Loss = ' + str(temp_loss))\n",
    "        loss_stochastic.append(temp_loss)\n",
    "        \n",
    "ops.reset_default_graph()\n",
    "sess = tf.Session()\n",
    "\n",
    "\n",
    "batch_size = 20\n",
    "\n",
    "\n",
    "x_vals = np.random.normal(1, 0.1, 100)\n",
    "y_vals = np.repeat(10., 100)\n",
    "x_data = tf.placeholder(shape=[None, 1], dtype=tf.float32)\n",
    "y_target = tf.placeholder(shape=[None, 1], dtype=tf.float32)\n",
    "\n",
    "\n",
    "A = tf.Variable(tf.random_normal(shape=[1,1]))\n",
    "\n",
    "\n",
    "my_output = tf.matmul(x_data, A)\n",
    "\n",
    "\n",
    "loss = tf.reduce_mean(tf.square(my_output - y_target))\n",
    "\n",
    "\n",
    "init = tf.initialize_all_variables()\n",
    "sess.run(init)\n",
    "\n",
    "\n",
    "my_opt = tf.train.GradientDescentOptimizer(0.02)\n",
    "train_step = my_opt.minimize(loss)\n",
    "\n",
    "loss_batch = []\n",
    "\n",
    "for i in range(100):\n",
    "    rand_index = np.random.choice(100, size=batch_size)\n",
    "    rand_x = np.transpose([x_vals[rand_index]])\n",
    "    rand_y = np.transpose([y_vals[rand_index]])\n",
    "    sess.run(train_step, feed_dict={x_data: rand_x, y_target: rand_y})\n",
    "    if (i+1)%5==0:\n",
    "        print('Step #' + str(i+1) + ' A = ' + str(sess.run(A)))\n",
    "        temp_loss = sess.run(loss, feed_dict={x_data: rand_x, y_target: rand_y})\n",
    "        print('Loss = ' + str(temp_loss))\n",
    "        loss_batch.append(temp_loss)\n",
    "        \n",
    "plt.plot(range(0, 100, 5), loss_stochastic, 'b-', label='Stochastic Loss')\n",
    "plt.plot(range(0, 100, 5), loss_batch, 'r--', label='Batch Loss, size=20')\n",
    "plt.legend(loc='upper right', prop={'size': 11})\n",
    "plt.show()"
   ]
  },
  {
   "cell_type": "code",
   "execution_count": 43,
   "metadata": {},
   "outputs": [
    {
     "name": "stdout",
     "output_type": "stream",
     "text": [
      "Step #200 A = [[ 9.5654068]], b = [[-4.16619349]]\n",
      "Step #400 A = [[ 11.13176346]], b = [[-5.43304253]]\n",
      "Step #600 A = [[ 12.13070202]], b = [[-6.1565733]]\n",
      "Step #800 A = [[ 12.85172558]], b = [[-6.71501589]]\n",
      "Step #1000 A = [[ 13.45248032]], b = [[-7.11656761]]\n",
      "Step #1200 A = [[ 13.93664742]], b = [[-7.53286743]]\n",
      "Step #1400 A = [[ 14.36703968]], b = [[-7.83148956]]\n",
      "Step #1600 A = [[ 14.69137859]], b = [[-8.20452976]]\n",
      "Step #1800 A = [[ 15.01606846]], b = [[-8.46839905]]\n",
      "Step #2000 A = [[ 15.38657475]], b = [[-8.59908199]]\n",
      "Step #2200 A = [[ 15.61929035]], b = [[-8.88712406]]\n",
      "Step #2400 A = [[ 15.87792587]], b = [[-9.12852764]]\n",
      "Step #2600 A = [[ 16.15214348]], b = [[-9.28725815]]\n",
      "Step #2800 A = [[ 16.4081974]], b = [[-9.41417027]]\n",
      "Step #3000 A = [[ 16.61316299]], b = [[-9.57156658]]\n",
      "Step #3200 A = [[ 16.77507591]], b = [[-9.77481842]]\n",
      "Step #3400 A = [[ 16.98060799]], b = [[-9.89183617]]\n",
      "Step #3600 A = [[ 17.14765549]], b = [[-10.05817699]]\n",
      "Step #3800 A = [[ 17.31838989]], b = [[-10.19491196]]\n",
      "Step #4000 A = [[ 17.49396133]], b = [[-10.3051815]]\n",
      "Step #4200 A = [[ 17.6315155]], b = [[-10.4808588]]\n",
      "Step #4400 A = [[ 17.79338837]], b = [[-10.57168102]]\n",
      "Step #4600 A = [[ 17.94075966]], b = [[-10.68766975]]\n",
      "Step #4800 A = [[ 18.06276894]], b = [[-10.83133793]]\n",
      "Step #5000 A = [[ 18.21230125]], b = [[-10.92374897]]\n",
      "Step #5200 A = [[ 18.37508011]], b = [[-11.00341797]]\n",
      "Step #5400 A = [[ 18.48331642]], b = [[-11.11959457]]\n",
      "Step #5600 A = [[ 18.61370277]], b = [[-11.20094872]]\n",
      "Step #5800 A = [[ 18.72337914]], b = [[-11.31021976]]\n",
      "Step #6000 A = [[ 18.83922386]], b = [[-11.42883015]]\n",
      "Step #6200 A = [[ 18.96154213]], b = [[-11.52042198]]\n",
      "Step #6400 A = [[ 19.09752655]], b = [[-11.57239342]]\n",
      "Step #6600 A = [[ 19.18073654]], b = [[-11.68698406]]\n",
      "Step #6800 A = [[ 19.27828598]], b = [[-11.77995014]]\n",
      "Step #7000 A = [[ 19.37105942]], b = [[-11.87356281]]\n",
      "Step #7200 A = [[ 19.47558403]], b = [[-11.94091892]]\n",
      "Step #7400 A = [[ 19.58164215]], b = [[-12.00231075]]\n",
      "Step #7600 A = [[ 19.67705917]], b = [[-12.0710535]]\n",
      "Step #7800 A = [[ 19.78583717]], b = [[-12.11831665]]\n",
      "Step #8000 A = [[ 19.84992981]], b = [[-12.24666691]]\n",
      "Step #8200 A = [[ 19.94518661]], b = [[-12.30907917]]\n",
      "Step #8400 A = [[ 20.05734825]], b = [[-12.33923149]]\n",
      "Step #8600 A = [[ 20.12962723]], b = [[-12.42591667]]\n",
      "Step #8800 A = [[ 20.21600342]], b = [[-12.49249268]]\n",
      "Step #9000 A = [[ 20.28125381]], b = [[-12.57737827]]\n",
      "Step #9200 A = [[ 20.35159492]], b = [[-12.6481123]]\n",
      "Step #9400 A = [[ 20.43737793]], b = [[-12.69010162]]\n",
      "Step #9600 A = [[ 20.50647545]], b = [[-12.77280807]]\n",
      "Step #9800 A = [[ 20.62725639]], b = [[-12.76305676]]\n",
      "Step #10000 A = [[ 20.67684555]], b = [[-12.85753727]]\n"
     ]
    },
    {
     "data": {
      "image/png": "[encoded data removed]",
      "text/plain": [
       "<matplotlib.figure.Figure at 0x7f7e44044a90>"
      ]
     },
     "metadata": {},
     "output_type": "display_data"
    }
   ],
   "source": [
    "import numpy as np\n",
    "from sklearn import datasets\n",
    "\n",
    "ops.reset_default_graph()\n",
    "\n",
    "iris = datasets.load_iris()\n",
    "binary_target = np.array([1. if x==0 else 0. for x in iris.target])\n",
    "iris_2d = np.array([[x[2], x[3]] for x in iris.data])\n",
    "\n",
    "batch_size = 50\n",
    "\n",
    "\n",
    "sess = tf.Session()\n",
    "\n",
    "\n",
    "x1_data = tf.placeholder(shape=[None, 1], dtype=tf.float32)\n",
    "x2_data = tf.placeholder(shape=[None, 1], dtype=tf.float32)\n",
    "y_target = tf.placeholder(shape=[None, 1], dtype=tf.float32)\n",
    "\n",
    "\n",
    "A = tf.Variable(tf.random_normal(shape=[1, 1]))\n",
    "b = tf.Variable(tf.random_normal(shape=[1, 1]))\n",
    "\n",
    "\n",
    "\n",
    "my_output = tf.subtract(x1_data, tf.add(tf.matmul(x2_data, A), b))\n",
    "\n",
    "\n",
    "xentropy = tf.nn.sigmoid_cross_entropy_with_logits(logits=my_output, labels=y_target)\n",
    "\n",
    "\n",
    "my_opt = tf.train.GradientDescentOptimizer(0.03)\n",
    "train_step = my_opt.minimize(xentropy)\n",
    "\n",
    "\n",
    "init = tf.initialize_all_variables()\n",
    "sess.run(init)\n",
    "\n",
    "\n",
    "for i in range(10000):\n",
    "    rand_index = np.random.choice(len(iris_2d), size=batch_size)\n",
    "    #rand_x = np.transpose([iris_2d[rand_index]])\n",
    "    rand_x = iris_2d[rand_index]\n",
    "    rand_x1 = np.array([[x[0]] for x in rand_x])\n",
    "    rand_x2 = np.array([[x[1]] for x in rand_x])\n",
    "    #rand_y = np.transpose([binary_target[rand_index]])\n",
    "    rand_y = np.array([[y] for y in binary_target[rand_index]])\n",
    "    sess.run(train_step, feed_dict={x1_data: rand_x1, x2_data: rand_x2, y_target: rand_y})\n",
    "    if (i+1)%200==0:\n",
    "        print('Step #' + str(i+1) + ' A = ' + str(sess.run(A)) + ', b = ' + str(sess.run(b)))\n",
    "        \n",
    "\n",
    "\n",
    "\n",
    "[[slope]] = sess.run(A)\n",
    "[[intercept]] = sess.run(b)\n",
    "\n",
    "\n",
    "x = np.linspace(0, 3, num=50)\n",
    "ablineValues = []\n",
    "for i in x:\n",
    "    ablineValues.append(slope*i+intercept)\n",
    "\n",
    "\n",
    "setosa_x = [a[1] for i,a in enumerate(iris_2d) if binary_target[i]==1]\n",
    "setosa_y = [a[0] for i,a in enumerate(iris_2d) if binary_target[i]==1]\n",
    "non_setosa_x = [a[1] for i,a in enumerate(iris_2d) if binary_target[i]==0]\n",
    "non_setosa_y = [a[0] for i,a in enumerate(iris_2d) if binary_target[i]==0]\n",
    "plt.plot(setosa_x, setosa_y, 'rx', ms=10, mew=2, label='setosa')\n",
    "plt.plot(non_setosa_x, non_setosa_y, 'ro', label='Non-setosa')\n",
    "plt.plot(x, ablineValues, 'b-')\n",
    "plt.xlim([0.0, 2.7])\n",
    "plt.ylim([0.0, 7.1])\n",
    "plt.suptitle('Linear Separator For I.setosa', fontsize=20)\n",
    "plt.xlabel('Petal Length')\n",
    "plt.ylabel('Petal Width')\n",
    "plt.legend(loc='lower right')\n",
    "plt.show()"
   ]
  }
 ],
 "metadata": {
  "kernelspec": {
   "display_name": "Python 3",
   "language": "python",
   "name": "python3"
  },
  "language_info": {
   "codemirror_mode": {
    "name": "ipython",
    "version": 3
   },
   "file_extension": ".py",
   "mimetype": "text/x-python",
   "name": "python",
   "nbconvert_exporter": "python",
   "pygments_lexer": "ipython3",
   "version": "3.5.2"
  }
 },
 "nbformat": 4,
 "nbformat_minor": 2
}
