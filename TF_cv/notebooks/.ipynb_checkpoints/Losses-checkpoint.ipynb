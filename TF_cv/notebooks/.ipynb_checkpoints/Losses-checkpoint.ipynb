{
 "cells": [
  {
   "cell_type": "markdown",
   "metadata": {},
   "source": [
    "# TensorFlow Loss Functions"
   ]
  },
  {
   "cell_type": "markdown",
   "metadata": {},
   "source": [
    "**Losses Functions**\n",
    "\n",
    "\n",
    "TensorFlow loss module **`tf.losses`**\n",
    "    \n",
    "    tf.losses.sigmoid_cross_entropy\n",
    "    tf.losses.softmax_cross_entropy\n",
    "    tf.losses.sparse_softmax_cross_entropy\n",
    "    tf.losses.cosine_distance\n",
    "    tf.losses.hinge_loss\n",
    "    tf.losses.log_loss\n",
    "    tf.losses.mean_squared_error\n",
    "    tf.losses.mean_pairwise_squared_error\n",
    "    \n",
    "TF-Keras loss module **`tf.contrib.keras.losses`**\n",
    "\n",
    "    tf_keras_losses.mean_squared_error\n",
    "    tf_keras_losses.mean_absolute_error\n",
    "    tf_keras_losses.binary_crossentropy\n",
    "    tf_keras_losses.categorical_crossentropy\n",
    "    tf_keras_losses.sparse_categorical_crossentropy\n",
    "    tf_keras_losses.cosine_proximity\n",
    "    tf_keras_losses.hinge\n",
    "    tf_keras_losses.squared_hinge\n",
    "\n",
    "All of the loss functions take a pair of predictions and ground truth labels, from which the loss is computed.\n",
    "\n",
    "$$LossScore = Loss(y_{true}, y_{pred})$$ "
   ]
  },
  {
   "cell_type": "markdown",
   "metadata": {},
   "source": [
    "## Binary Classification\n",
    "\n",
    "\n",
    "**Sigmoid cross-entropy loss** measures the probability error of the correct class.\n",
    "\n",
    "**Sigmoid function** or logistic function only ouputs a single value (between 0 and 1), which represent the prediction probability of the positive class. It is often used as an activation function with saturation points at both extremes. It is also used for binary classification.\n",
    "\n",
    "<img src=\"../../images/sigmoid.jpg\" width=\"200\">\n",
    "\n",
    "$$sigmoid(z)=\\frac {1}{1+e^{-z_j}}$$\n",
    "\n",
    "**Sigmoid function** can be thought of has a special case of softmax where the number of class equals to 2.  Sigmoid functions takes in a single output neuron and the prediction is defined by an arbitrary threshold (often 0.5).\n",
    "\n",
    "**Cross Entropy Loss** for binary classification is equivalent to the negative log-likelihood of the true labels given a probabilistic classifier’s predictions. It is also refered as **log-loss**.\n",
    "\n",
    "$$sigmoidCrossEntropyLoss(z)=-\\log\\left(\\frac {1}{1+e^{-z_j}}\\right)$$\n",
    "\n",
    "Both core TensorFlow and TF-Keras provide their version of a binary loss:"
   ]
  },
  {
   "cell_type": "code",
   "execution_count": 13,
   "metadata": {
    "collapsed": true
   },
   "outputs": [],
   "source": [
    "# your binary model predictions\n",
    "class_score = BinaryClassificationModel(inputs)\n",
    "\n",
    "# TensorFlow Core loss\n",
    "cross_entropy_loss = tf.losses.sigmoid_cross_entropy(binary_labels, class_score)\n",
    " \n",
    "# Or TF-Keras loss\n",
    "cross_entropy_loss = tf_keras_losses.binary_crossentropy(binary_labels, class_score)\n",
    "\n",
    "# Or custom TensorFlow operation\n",
    "class_probability = tf.nn.sigmoid(class_score)\n",
    "cross_entropy_loss = - tf.losses.log_loss(binary_labels, class_probability)\n",
    "\n",
    "# model's loss plus any regularization losses.\n",
    "total_loss = tf.losses.get_total_loss(add_regularization_losses=True)"
   ]
  },
  {
   "cell_type": "markdown",
   "metadata": {},
   "source": [
    "# Multi-Class Classification\n",
    "\n",
    "\n",
    "**Softmax Cross-Entropy loss** measures the probability error for discrete multi-classification tasks.\n",
    "\n",
    "A common classfier choice for multi-class task is the **Softmax classifier**.\n",
    "The softmax classifier is a generalization of a binary classifier to multiple classes.\n",
    "The softmax classifier has an interpretable output of normalized class probabilities.\n",
    "\n"
   ]
  },
  {
   "cell_type": "markdown",
   "metadata": {},
   "source": [
    "**Softmax function**\n",
    "$$softmax(z) = \\frac{e^{z_j}}{\\sum_k e^{z_k}}$$\n",
    "\n",
    "**Softmax function** takes a vector of arbitrary real-valued scores and squashes it to a vector of values between zero and one that sum to one. Therefore, it guarantees that the sum of all class probabilities is 1.That's why it's used for multi-class classification **because you expect your samples to belong to a single class at the time.**\n",
    "\n"
   ]
  },
  {
   "cell_type": "markdown",
   "metadata": {},
   "source": [
    "**Cross-Entropy Loss**\n",
    "$$CrossEntropyLoss = -\\log\\left(\\frac{e^{z_j}}{\\sum_k e^{z_k}}\\right)$$\n",
    "\n",
    "The Softmax classifier minimizes the **cross-entropy between the estimated class probabilities and the “true” distribution**, which can be a **soft class distribution or a one-hot encoding of the target labels**.\n",
    "\n",
    "If the true distribution is **one-hot encoding** then the loss simplifies to the **sparse cross-entropy** because the probability of a given label is considered exclusive.\n",
    "\n",
    "This loss is **equivalent to minimizing the KL divergence** (distance) between the two distributions.\n",
    "\n",
    "$$H(p,q) = - \\sum_x p(x) \\log q(x)$$\n",
    "\n"
   ]
  },
  {
   "cell_type": "markdown",
   "metadata": {},
   "source": [
    "\n",
    "**Probabilistic interpretation**\n",
    "given the image $x_i$ and parameterized by $W$, softmax classifier gives the probability assigned to the correct label $y_i$ .\n",
    "\n",
    "$$P(y_i \\mid x_i; W) = \\frac{e^{f_{y_i}}}{\\sum_j e^{f_j} }$$\n",
    "\n",
    "We are therefore minimizing the negative log likelihood of the correct class, which can be interpreted as performing **Maximum Likelihood Estimation (MLE)**. With added L2 regularization (which equates to a Gaussian prior over the weight matrix $W$), we are instead performing the **Maximum a posteriori (MAP)** estimation."
   ]
  },
  {
   "cell_type": "code",
   "execution_count": null,
   "metadata": {},
   "outputs": [],
   "source": [
    "# your multi-class model predictions\n",
    "class_scores = MultiClassificationModel(inputs) # vector of class scores\n",
    "\n",
    "# TensorFlow Core loss\n",
    "cross_entropy_loss = tf.losses.softmax_cross_entropy(one_hot_labels, class_scores)\n",
    "\n",
    "# sparse implementation\n",
    "cross_entropy_loss = tf.losses.sparse_softmax_cross_entropy(one_hot_labels, class_scores)\n",
    "\n",
    "# TF-Keras loss\n",
    "cross_entropy_loss = tf_keras_losses.categorical_crossentropy(one_hot_labels, class_scores)\n",
    "\n",
    "# sparse implementation\n",
    "cross_entropy_loss = tf_keras_losses.sparse_categorical_crossentropy(one_hot_labels, class_scores)\n",
    "\n",
    "# Or custom TensorFlow operation\n",
    "class_probabilities = tf.nn.softmax(class_scores)\n",
    "cross_entropy_loss = tf.losses.log_loss(one_hot_labels, class_probabilities)\n",
    "\n",
    "# model's loss plus any regularization losses.\n",
    "total_loss = tf.losses.get_total_loss(add_regularization_losses=True)"
   ]
  },
  {
   "cell_type": "markdown",
   "metadata": {},
   "source": [
    "## Multi-Label Classification\n",
    "\n",
    "**Multi-Label Classification is when a sample observation can belong to multiple classes at the same time**.\n",
    "\n",
    "We can rephrase multi-label learning as the problem of finding a model that **maps inputs x to binary vectors y, rather than scalar outputs as in the ordinary classification problem.**\n",
    "With this interpretation, the solution is to apply an independent sigmoid function for each label.\n",
    "\n",
    "\n",
    "**Multi-Label Sigmoid Cross-Entropy** measures the probability error in discrete classification tasks in which each class is independent and not mutually exclusive."
   ]
  },
  {
   "cell_type": "code",
   "execution_count": 15,
   "metadata": {
    "collapsed": true
   },
   "outputs": [],
   "source": [
    "# your multi-label model predictions\n",
    "class_scores = MultiLabelClassificationModel(inputs) # vector of class scores\n",
    "\n",
    "# TensorFlow core loss\n",
    "loss = tf.losses.sigmoid_cross_entropy(multi_class_labels, class_scores)\n",
    "\n",
    "# model's loss plus any regularization losses.\n",
    "total_loss = tf.losses.get_total_loss(add_regularization_losses=True)"
   ]
  },
  {
   "cell_type": "markdown",
   "metadata": {},
   "source": [
    "## Hinge Loss\n",
    "**Hinge Loss is used in Multiclass Support Vector Machine (SVM) loss. The SVM loss is set up so that the SVM “wants” the correct class for each image to a have a score higher than the incorrect classes by some fixed margin $\\Delta$.**\n",
    "\n",
    "For the score function $s_j = f(x_i, W)_j$. The Multiclass SVM loss for the i-th example is then formalized as follows:\n",
    "\n",
    "$$HingeLoss = \\sum_{j\\neq y_i} \\max(0, s_j - s_{y_i} + \\Delta)$$\n",
    "\n",
    "**Squared Hinge Loss** SVM (or L2-SVM), which simply squares the margin error. It penalizes the violated margins more strongly (quadratically instead of linearly). The unsquared version is more standard, but in some datasets the squared hinge loss can work better. This can be determined during cross-validation.\n",
    "\n",
    "$$SquaredHingeLoss = \\sum_{j\\neq y_i} \\max(0, s_j - s_{y_i} + \\Delta)^2$$"
   ]
  },
  {
   "cell_type": "code",
   "execution_count": null,
   "metadata": {
    "collapsed": true
   },
   "outputs": [],
   "source": [
    "# your multi-class model predictions\n",
    "class_scores = MultiClassificationModel(inputs) # vector of class scores\n",
    "\n",
    "# TensorFlow core loss\n",
    "loss = tf.losses.hinge_loss(one_hot_labels, class_scores)\n",
    "\n",
    "# TF-Keras loss\n",
    "loss = tf_keras_losses.hinge(one_hot_labels, class_scores)\n",
    "\n",
    "# TF-Keras square hinge loss\n",
    "loss = tf_keras_losses.squared_hinge(one_hot_labels, class_scores)\n",
    "\n",
    "# model's loss plus any regularization losses.\n",
    "total_loss = tf.losses.get_total_loss(add_regularization_losses=True)"
   ]
  },
  {
   "cell_type": "markdown",
   "metadata": {
    "collapsed": true
   },
   "source": [
    "## Regression Loss\n",
    "\n",
    "**Not all predictive tasks involve outputing distinct labels, sometimes need to predict a continuous variable**\n",
    "\n",
    "**Mean squared error (MSE)** measures the average of the squares of the errors or deviations. In the context of regression analysis, it measures the quality of an estimator—it is always non-negative, and values closer to zero are better.\n",
    "\n",
    "$$\\operatorname {MSE}={\\frac  {1}{n}}\\sum _{{i=1}}^{n}({\\hat  {Y_{i}}}-Y_{i})^{2}$$\n",
    "\n",
    "**Mean absolute error (MAE)** measures the average absolute errors. This loss is used to measure how close forecasts or predictions are to the eventual outcomes.\n",
    "\n",
    "$$\\operatorname {MAE}={\\frac  {1}{n}}\\sum _{{i=1}}^{n}|{\\hat  {Y_{i}}}-Y_{i}| $$\n",
    "\n",
    "**Mean pairwise squared error(MPSE)** Unlike `mean_squared_error`, which is a measure of the differences between\n",
    "corresponding elements of `predictions` and `labels`,\n",
    "`mean_pairwise_squared_error` is a measure of the differences between pairs of\n",
    "corresponding elements of `predictions` and `labels`.\n",
    "\n",
    "For example:\n",
    "if `labels = [a, b, c]` and `predictions = [x, y, z]`, there are\n",
    "three pairs of differences are summed to compute the loss:\n",
    " \n",
    "$$\\operatorname {MPSE} = \\frac{((a-b) - (x-y))^2 + ((a-c) - (x-z))^2 + ((b-c) - (y-z))^2}{3}$$"
   ]
  },
  {
   "cell_type": "code",
   "execution_count": null,
   "metadata": {
    "collapsed": true
   },
   "outputs": [],
   "source": [
    "# your multi-class model predictions\n",
    "y_pred = RegressionModel(inputs)\n",
    "\n",
    "# TensorFlow core loss\n",
    "loss = tf.losses.mean_squared_error(y_true, y_pred)\n",
    "\n",
    "# TF-Keras loss\n",
    "loss = tf_keras_losses.mean_squared_error(y_true, y_pred)\n",
    "\n",
    "# Mean absolute error\n",
    "loss = tf_keras_losses.mean_absolute_error(y_true, y_pred)\n",
    "\n",
    "# Main pairwise squared error\n",
    "loss = tf.losses.mean_pairwise_squared_error(y_true, y_pred)\n",
    "\n",
    "# model's loss plus any regularization losses.\n",
    "total_loss = tf.losses.get_total_loss(add_regularization_losses=True)"
   ]
  },
  {
   "cell_type": "code",
   "execution_count": 7,
   "metadata": {},
   "outputs": [
    {
     "data": {
      "image/png": "[encoded data removed]",
      "text/plain": [
       "<matplotlib.figure.Figure at 0x7f40086f3cf8>"
      ]
     },
     "metadata": {},
     "output_type": "display_data"
    }
   ],
   "source": [
    "import matplotlib.pyplot as plt\n",
    "import tensorflow as tf\n",
    "from tensorflow.python.framework import ops\n",
    "\n",
    "ops.reset_default_graph()\n",
    "\n",
    "sess = tf.Session()\n",
    "x_vals = tf.linspace(-1., 1., 500)\n",
    "target = tf.constant(0.)\n",
    "\n",
    "\n",
    "l2_y_vals = tf.square(target - x_vals)\n",
    "l2_y_out = sess.run(l2_y_vals)\n",
    "\n",
    "l1_y_vals = tf.abs(target - x_vals)\n",
    "l1_y_out = sess.run(l1_y_vals)\n",
    "\n",
    "\n",
    "delta1 = tf.constant(0.25)\n",
    "phuber1_y_vals = tf.multiply(tf.square(delta1), tf.sqrt(1. + tf.square((target - x_vals)/delta1)) - 1.)\n",
    "phuber1_y_out = sess.run(phuber1_y_vals)\n",
    "\n",
    "delta2 = tf.constant(5.)\n",
    "phuber2_y_vals = tf.multiply(tf.square(delta2), tf.sqrt(1. + tf.square((target - x_vals)/delta2)) - 1.)\n",
    "phuber2_y_out = sess.run(phuber2_y_vals)\n",
    "\n",
    "\n",
    "x_array = sess.run(x_vals)\n",
    "plt.plot(x_array, l2_y_out, 'b-', label='L2 Loss')\n",
    "plt.plot(x_array, l1_y_out, 'r--', label='L1 Loss')\n",
    "plt.plot(x_array, phuber1_y_out, 'k-.', label='P-Huber Loss (0.25)')\n",
    "plt.plot(x_array, phuber2_y_out, 'g:', label='P-Huber Loss (5.0)')\n",
    "plt.ylim(-0.2, 0.4)\n",
    "plt.legend(loc='lower right', prop={'size': 11})\n",
    "plt.show()\n"
   ]
  },
  {
   "cell_type": "code",
   "execution_count": 12,
   "metadata": {},
   "outputs": [
    {
     "data": {
      "image/png": "[encoded data removed]",
      "text/plain": [
       "<matplotlib.figure.Figure at 0x7f40084b6780>"
      ]
     },
     "metadata": {},
     "output_type": "display_data"
    }
   ],
   "source": [
    "x_vals = tf.linspace(-3., 5., 500)\n",
    "target = tf.constant(1.)\n",
    "targets = tf.fill([500,], 1.)\n",
    "\n",
    "hinge_y_vals = tf.maximum(0., 1. - tf.multiply(target, x_vals))\n",
    "hinge_y_out = sess.run(hinge_y_vals)\n",
    "\n",
    "\n",
    "xentropy_y_vals = - tf.multiply(target, tf.log(x_vals)) - tf.multiply((1. - target), tf.log(1. - x_vals))\n",
    "xentropy_y_out = sess.run(xentropy_y_vals)\n",
    "\n",
    "\n",
    "xentropy_sigmoid_y_vals = tf.nn.sigmoid_cross_entropy_with_logits(logits=x_vals, labels=targets)\n",
    "xentropy_sigmoid_y_out = sess.run(xentropy_sigmoid_y_vals)\n",
    "\n",
    "\n",
    "weight = tf.constant(0.5)\n",
    "xentropy_weighted_y_vals = tf.nn.weighted_cross_entropy_with_logits(x_vals, targets, weight)\n",
    "xentropy_weighted_y_out = sess.run(xentropy_weighted_y_vals)\n",
    "\n",
    "\n",
    "x_array = sess.run(x_vals)\n",
    "plt.plot(x_array, hinge_y_out, 'b-', label='Hinge Loss')\n",
    "plt.plot(x_array, xentropy_y_out, 'r--', label='Cross Entropy Loss')\n",
    "plt.plot(x_array, xentropy_sigmoid_y_out, 'k-.', label='Cross Entropy Sigmoid Loss')\n",
    "plt.plot(x_array, xentropy_weighted_y_out, 'g:', label='Weighted Cross Entropy Loss (x0.5)')\n",
    "plt.ylim(-1.5, 3)\n",
    "#plt.xlim(-1, 3)\n",
    "plt.legend(loc='lower right', prop={'size': 11})\n",
    "plt.show()\n"
   ]
  },
  {
   "cell_type": "code",
   "execution_count": 28,
   "metadata": {},
   "outputs": [
    {
     "name": "stdout",
     "output_type": "stream",
     "text": [
      "[ 1.16012561]\n",
      "[ 0.40760595  1.40760589  0.40760595]\n",
      "[ 0.00012564]\n",
      "[ 2.40760589  1.40760601  2.40760589]\n"
     ]
    }
   ],
   "source": [
    "unscaled_logits = tf.constant([[1., -3., 10.]])\n",
    "target_dist = tf.constant([[0.1, 0.02, 0.88]])\n",
    "softmax_xentropy = tf.nn.softmax_cross_entropy_with_logits(logits=unscaled_logits, labels=target_dist)\n",
    "print(sess.run(softmax_xentropy))\n",
    "\n",
    "unscaled_logits=tf.constant([[1.0,2.0,3.0],[1.0,2.0,3.0],[1.0,2.0,3.0]])\n",
    "target_dist=tf.constant([[0.0,0.0,1.0],[0.0,1.0,0.0],[0.0,0.0,1.0]])\n",
    "softmax_xentropy = tf.nn.softmax_cross_entropy_with_logits(logits=unscaled_logits, labels=target_dist)\n",
    "print(sess.run(softmax_xentropy))\n",
    "\n",
    "unscaled_logits = tf.constant([[1., -3., 10.]])\n",
    "sparse_target_dist = tf.constant([2])\n",
    "sparse_xentropy = tf.nn.sparse_softmax_cross_entropy_with_logits(logits=unscaled_logits, labels=sparse_target_dist)\n",
    "print(sess.run(sparse_xentropy))\n",
    "\n",
    "unscaled_logits=tf.constant([[1.0,2.0,3.0],[1.0,2.0,3.0],[1.0,2.0,3.0]])\n",
    "target_dist=tf.constant([0,1,0])\n",
    "sparse_xentropy = tf.nn.sparse_softmax_cross_entropy_with_logits(logits=unscaled_logits, labels=target_dist)\n",
    "print(sess.run(sparse_xentropy))"
   ]
  }
 ],
 "metadata": {
  "anaconda-cloud": {},
  "kernelspec": {
   "display_name": "Python 3",
   "language": "python",
   "name": "python3"
  },
  "language_info": {
   "codemirror_mode": {
    "name": "ipython",
    "version": 3
   },
   "file_extension": ".py",
   "mimetype": "text/x-python",
   "name": "python",
   "nbconvert_exporter": "python",
   "pygments_lexer": "ipython3",
   "version": "3.5.2"
  }
 },
 "nbformat": 4,
 "nbformat_minor": 1
}
