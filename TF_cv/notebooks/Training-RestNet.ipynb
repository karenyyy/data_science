{
 "cells": [
  {
   "cell_type": "code",
   "execution_count": 1,
   "metadata": {},
   "outputs": [],
   "source": [
    "import tensorflow as tf\n",
    "import numpy as np\n",
    "import matplotlib\n",
    "import matplotlib.pyplot as plt\n",
    "import os"
   ]
  },
  {
   "cell_type": "code",
   "execution_count": 2,
   "metadata": {},
   "outputs": [],
   "source": [
    "models = tf.contrib.keras.models\n",
    "layers = tf.contrib.keras.layers\n",
    "initializers = tf.contrib.keras.initializers\n",
    "regularizers = tf.contrib.keras.regularizers\n",
    "losses = tf.contrib.keras.losses\n",
    "optimizers = tf.contrib.keras.optimizers \n",
    "metrics = tf.contrib.keras.metrics\n",
    "preprocessing_image = tf.contrib.keras.preprocessing.image"
   ]
  },
  {
   "cell_type": "markdown",
   "metadata": {},
   "source": [
    "# ResNet Model"
   ]
  },
  {
   "cell_type": "code",
   "execution_count": 5,
   "metadata": {},
   "outputs": [],
   "source": [
    "def residual_block(input_tensor, \n",
    "                   filters, \n",
    "                   stage, \n",
    "                   reg=0.0, \n",
    "                   use_shortcuts=True):\n",
    "\n",
    "    bn_name = 'bn' + str(stage)\n",
    "    conv_name = 'conv' + str(stage)\n",
    "    relu_name = 'relu' + str(stage)\n",
    "    merge_name = 'merge' + str(stage)\n",
    "    \n",
    "    # sandwich model\n",
    "        # 1x1\n",
    "        # 3x3\n",
    "        # 1x1\n",
    "\n",
    "    # 1x1 conv\n",
    "    # batchnorm-relu-conv\n",
    "    # from input_filters to bottleneck_filters\n",
    "    \n",
    "    if stage>1: \n",
    "        # first activation is just after conv1\n",
    "        x = layers.BatchNormalization(name=bn_name+'a')(input_tensor)\n",
    "        x = layers.Activation('relu', name=relu_name+'a')(x)\n",
    "    else:\n",
    "        x = input_tensor\n",
    "\n",
    "    x = layers.Convolution2D(\n",
    "            filters[0], (1,1),\n",
    "            kernel_regularizer=regularizers.l2(reg),\n",
    "            use_bias=False, # since we use BN layer, thus no need for bias\n",
    "            name=conv_name+'a'\n",
    "        )(x)\n",
    "\n",
    "    # 3x3 conv\n",
    "    # batchnorm-relu-conv\n",
    "    # from bottleneck_filters to bottleneck_filters\n",
    "    x = layers.BatchNormalization(name=bn_name+'b')(x)\n",
    "    x = layers.Activation('relu', name=relu_name+'b')(x)\n",
    "    x = layers.Convolution2D(\n",
    "            filters[1], (3,3),\n",
    "            padding='same',\n",
    "            kernel_regularizer=regularizers.l2(reg),\n",
    "            use_bias = False,\n",
    "            name=conv_name+'b'\n",
    "        )(x)\n",
    "\n",
    "    # 1x1 conv\n",
    "    # batchnorm-relu-conv\n",
    "    # from bottleneck_filters  to input_filters\n",
    "    x = layers.BatchNormalization(name=bn_name+'c')(x)\n",
    "    x = layers.Activation('relu', name=relu_name+'c')(x)\n",
    "    x = layers.Convolution2D(\n",
    "            filters[2], (1,1),\n",
    "            kernel_regularizer=regularizers.l2(reg),\n",
    "            name=conv_name+'c'\n",
    "        )(x)\n",
    "\n",
    "    # merge output with input layer (residual connection)\n",
    "    if use_shortcuts:\n",
    "        x = layers.add([x, input_tensor], name=merge_name)\n",
    "\n",
    "    return x"
   ]
  },
  {
   "cell_type": "code",
   "execution_count": 6,
   "metadata": {},
   "outputs": [],
   "source": [
    "def ResNetPreAct(input_shape=(32,32,3), nb_classes=5, num_stages=5,\n",
    "                 use_final_conv=False, reg=0.0):\n",
    "\n",
    "\n",
    "    # Input\n",
    "    img_input = layers.Input(shape=input_shape)\n",
    "\n",
    "    #### Input stream ####\n",
    "    # conv-BN-relu-(pool)\n",
    "    x = layers.Convolution2D(\n",
    "            128, (3,3), strides=(2, 2),\n",
    "            padding='same',\n",
    "            kernel_regularizer=regularizers.l2(reg),\n",
    "            use_bias=False,\n",
    "            name='conv0'\n",
    "        )(img_input)\n",
    "    x = layers.BatchNormalization(name='bn0')(x)\n",
    "    x = layers.Activation('relu', name='relu0')(x)\n",
    "    # x = layers.MaxPooling2D((3, 3), strides=(2, 2), padding='same', name='pool0')(x)\n",
    "\n",
    "    #### Residual Blocks ####\n",
    "    # pre activation\n",
    "    # 1x1 conv: batchnorm-relu-conv\n",
    "    # 3x3 conv: batchnorm-relu-conv\n",
    "    # 1x1 conv: batchnorm-relu-conv\n",
    "    for stage in range(1,num_stages+1):\n",
    "        x = residual_block(x, [32,32,128], stage=stage, reg=reg)\n",
    "\n",
    "\n",
    "    #### Output stream ####\n",
    "    # BN-relu-(conv)-avgPool-softmax\n",
    "    x = layers.BatchNormalization(name='bnF')(x)\n",
    "    x = layers.Activation('relu', name='reluF')(x)\n",
    "\n",
    "    # Optional final conv layer\n",
    "    if use_final_conv:\n",
    "        x = layers.Convolution2D(\n",
    "                64, (3,3),\n",
    "                padding='same',\n",
    "                kernel_regularizer=regularizers.l2(reg),\n",
    "                name='convF'\n",
    "            )(x)\n",
    "    \n",
    "    pool_size = input_shape[0] / 2\n",
    "    x = layers.AveragePooling2D((pool_size,pool_size),name='avg_pool')(x)\n",
    "\n",
    "    x = layers.Flatten(name='flat')(x)\n",
    "    x = layers.Dense(nb_classes, activation='softmax', name='fc10')(x)\n",
    "\n",
    "    return models.Model(img_input, x, name='rnpa')"
   ]
  },
  {
   "cell_type": "markdown",
   "metadata": {},
   "source": [
    "# Compile Model"
   ]
  },
  {
   "cell_type": "code",
   "execution_count": 8,
   "metadata": {},
   "outputs": [],
   "source": [
    "def compile_model(model):\n",
    "    \n",
    "    # loss\n",
    "    loss = losses.categorical_crossentropy\n",
    "    \n",
    "    # optimizer\n",
    "    # using Adam optimizer would need some time to warm up and then boost \n",
    "    # accuracy later in testing\n",
    "    optimizer = optimizers.Adam(lr=0.0001)\n",
    "    \n",
    "    # metrics\n",
    "    metric = [metrics.categorical_accuracy, metrics.top_k_categorical_accuracy]\n",
    "    \n",
    "    # compile model with loss, optimizer, and evaluation metrics\n",
    "    model.compile(optimizer, loss, metric)\n",
    "    \n",
    "    return model"
   ]
  },
  {
   "cell_type": "markdown",
   "metadata": {},
   "source": [
    "# Image Preprocessing And Augmentation"
   ]
  },
  {
   "cell_type": "code",
   "execution_count": 9,
   "metadata": {},
   "outputs": [],
   "source": [
    "train_datagen = preprocessing_image.ImageDataGenerator(\n",
    "    rescale=1./255,\n",
    "    shear_range=0.1,\n",
    "    zoom_range=0.1,\n",
    "    horizontal_flip=True)\n",
    "\n",
    "test_datagen = preprocessing_image.ImageDataGenerator(rescale=1./255)"
   ]
  },
  {
   "cell_type": "code",
   "execution_count": 10,
   "metadata": {},
   "outputs": [
    {
     "name": "stdout",
     "output_type": "stream",
     "text": [
      "Found 3599 images belonging to 5 classes.\n",
      "Found 2215 images belonging to 5 classes.\n"
     ]
    }
   ],
   "source": [
    "BASE_DIR = \"/home/karen/Downloads/data\"\n",
    "\n",
    "train_generator = train_datagen.flow_from_directory(\n",
    "    os.path.join(BASE_DIR, \"flower_dataset/train\"),\n",
    "    target_size=(32, 32),\n",
    "    batch_size=32,\n",
    "    class_mode='categorical')\n",
    "\n",
    "validation_generator = test_datagen.flow_from_directory(\n",
    "    os.path.join(BASE_DIR, \"flower_dataset/validation\"),\n",
    "    target_size=(32, 32),\n",
    "    batch_size=32,\n",
    "    class_mode='categorical')"
   ]
  },
  {
   "cell_type": "code",
   "execution_count": 11,
   "metadata": {},
   "outputs": [],
   "source": [
    "model = ResNetPreAct(input_shape=(32, 32, 3), nb_classes=5, num_stages=5,\n",
    "                     use_final_conv=False, reg=0.005)\n",
    "\n",
    "model = compile_model(model)"
   ]
  },
  {
   "cell_type": "markdown",
   "metadata": {},
   "source": [
    "# Train Model on Flower Dataset"
   ]
  },
  {
   "cell_type": "code",
   "execution_count": 12,
   "metadata": {},
   "outputs": [
    {
     "name": "stdout",
     "output_type": "stream",
     "text": [
      "Epoch 1/10\n",
      "100/100 [==============================] - 78s - loss: 4.7769 - categorical_accuracy: 0.3256 - top_k_categorical_accuracy: 1.0000 - val_loss: 4.7822 - val_categorical_accuracy: 0.2125 - val_top_k_categorical_accuracy: 1.0000\n",
      "Epoch 2/10\n",
      "100/100 [==============================] - 15s - loss: 4.2739 - categorical_accuracy: 0.5361 - top_k_categorical_accuracy: 1.0000 - val_loss: 4.6659 - val_categorical_accuracy: 0.2453 - val_top_k_categorical_accuracy: 1.0000\n",
      "Epoch 3/10\n",
      "100/100 [==============================] - 14s - loss: 3.9687 - categorical_accuracy: 0.5786 - top_k_categorical_accuracy: 1.0000 - val_loss: 4.6114 - val_categorical_accuracy: 0.2453 - val_top_k_categorical_accuracy: 1.0000\n",
      "Epoch 4/10\n",
      "100/100 [==============================] - 9s - loss: 3.7126 - categorical_accuracy: 0.5953 - top_k_categorical_accuracy: 1.0000 - val_loss: 4.5023 - val_categorical_accuracy: 0.2472 - val_top_k_categorical_accuracy: 1.0000\n",
      "Epoch 5/10\n",
      "100/100 [==============================] - 6s - loss: 3.4834 - categorical_accuracy: 0.6207 - top_k_categorical_accuracy: 1.0000 - val_loss: 4.0888 - val_categorical_accuracy: 0.3094 - val_top_k_categorical_accuracy: 1.0000\n",
      "Epoch 6/10\n",
      "100/100 [==============================] - 6s - loss: 3.3051 - categorical_accuracy: 0.6364 - top_k_categorical_accuracy: 1.0000 - val_loss: 3.5559 - val_categorical_accuracy: 0.4266 - val_top_k_categorical_accuracy: 1.0000- top_k_categorical_accuracy: 1\n",
      "Epoch 7/10\n",
      "100/100 [==============================] - 6s - loss: 3.1182 - categorical_accuracy: 0.6582 - top_k_categorical_accuracy: 1.0000 - val_loss: 3.1706 - val_categorical_accuracy: 0.5707 - val_top_k_categorical_accuracy: 1.0000\n",
      "Epoch 8/10\n",
      "100/100 [==============================] - 6s - loss: 2.9684 - categorical_accuracy: 0.6529 - top_k_categorical_accuracy: 1.0000 - val_loss: 2.9655 - val_categorical_accuracy: 0.6141 - val_top_k_categorical_accuracy: 1.0000\n",
      "Epoch 9/10\n",
      "100/100 [==============================] - 6s - loss: 2.8323 - categorical_accuracy: 0.6669 - top_k_categorical_accuracy: 1.0000 - val_loss: 2.8300 - val_categorical_accuracy: 0.6359 - val_top_k_categorical_accuracy: 1.0000\n",
      "Epoch 10/10\n",
      "100/100 [==============================] - 7s - loss: 2.7167 - categorical_accuracy: 0.6785 - top_k_categorical_accuracy: 1.0000 - val_loss: 2.7049 - val_categorical_accuracy: 0.6734 - val_top_k_categorical_accuracy: 1.0000\n"
     ]
    }
   ],
   "source": [
    "history = model.fit_generator(\n",
    "    train_generator,\n",
    "    steps_per_epoch=100,\n",
    "    epochs=10,\n",
    "    validation_data=validation_generator,\n",
    "    validation_steps=20)"
   ]
  },
  {
   "cell_type": "markdown",
   "metadata": {},
   "source": [
    "# Plot Accuracy And Loss Over Time"
   ]
  },
  {
   "cell_type": "code",
   "execution_count": 16,
   "metadata": {},
   "outputs": [],
   "source": [
    "def plot_accuracy_and_loss(history):\n",
    "    plt.figure(1, figsize= (15, 10))\n",
    "    \n",
    "    # plot train and test accuracy\n",
    "    plt.subplot(221)\n",
    "    plt.plot(history.history['categorical_accuracy'])\n",
    "    plt.plot(history.history['val_categorical_accuracy'])\n",
    "    plt.title('ResNet accuracy')\n",
    "    plt.ylabel('accuracy')\n",
    "    plt.xlabel('epoch')\n",
    "    plt.legend(['train', 'test'], loc='upper left')\n",
    "\n",
    "    # plot train and test loss\n",
    "    plt.subplot(222)\n",
    "    plt.plot(history.history['loss'])\n",
    "    plt.plot(history.history['val_loss'])\n",
    "    plt.title('ResNet loss')\n",
    "    plt.ylabel('loss')\n",
    "    plt.xlabel('epoch')\n",
    "    plt.legend(['train', 'test'], loc='upper right')\n",
    "    \n",
    "    plt.show()"
   ]
  },
  {
   "cell_type": "code",
   "execution_count": 17,
   "metadata": {},
   "outputs": [
    {
     "data": {
      "image/png": "[encoded data removed]",
      "text/plain": [
       "<matplotlib.figure.Figure at 0x7f48cc19aeb8>"
      ]
     },
     "metadata": {},
     "output_type": "display_data"
    }
   ],
   "source": [
    "plot_accuracy_and_loss(history)"
   ]
  },
  {
   "cell_type": "markdown",
   "metadata": {},
   "source": [
    "# Save Model Weights And Configuration"
   ]
  },
  {
   "cell_type": "code",
   "execution_count": 15,
   "metadata": {},
   "outputs": [],
   "source": [
    "# save model architecture\n",
    "model_json = model.to_json()\n",
    "open('resnet_model.json', 'w').write(model_json)\n",
    "\n",
    "# save model's learned weights\n",
    "model.save_weights('image_classifier_resnet.h5', overwrite=True)"
   ]
  }
 ],
 "metadata": {
  "anaconda-cloud": {},
  "kernelspec": {
   "display_name": "Python 3",
   "language": "python",
   "name": "python3"
  },
  "language_info": {
   "codemirror_mode": {
    "name": "ipython",
    "version": 3
   },
   "file_extension": ".py",
   "mimetype": "text/x-python",
   "name": "python",
   "nbconvert_exporter": "python",
   "pygments_lexer": "ipython3",
   "version": "3.5.2"
  }
 },
 "nbformat": 4,
 "nbformat_minor": 2
}
