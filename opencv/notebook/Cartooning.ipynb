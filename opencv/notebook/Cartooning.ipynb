{
 "cells": [
  {
   "cell_type": "code",
   "execution_count": 1,
   "metadata": {},
   "outputs": [],
   "source": [
    "import cv2\n",
    "cap=cv2.VideoCapture(0)\n",
    "if not cap.isOpened():\n",
    "    raise IOError('')\n",
    "while True:\n",
    "    ret, frame = cap.read()\n",
    "    frame=cv2.resize(frame, None, fx=0.5, fy=0.5, interpolation=cv2.INTER_AREA)\n",
    "    cv2.imshow('Input', frame)\n",
    "    \n",
    "    c=cv2.waitKey(0)\n",
    "    \n",
    "    if c==30:\n",
    "        break\n",
    "cap.release()\n",
    "cv2.destroyAllWindows()"
   ]
  },
  {
   "cell_type": "code",
   "execution_count": 2,
   "metadata": {},
   "outputs": [],
   "source": [
    "import cv2 \n",
    "import numpy as np \n",
    "\n",
    "def update_pts(params, x, y):\n",
    "    global x_init, y_init\n",
    "    params[\"top_left_pt\"] = (min(x_init, x), min(y_init, y))\n",
    "    params[\"bottom_right_pt\"] = (max(x_init, x), max(y_init, y))\n",
    "    img[y_init:y, x_init:x] = 255 - img[y_init:y, x_init:x]\n",
    " \n",
    "def draw_rectangle(event, x, y, flags, params): \n",
    "    global x_init, y_init, drawing\n",
    "    # First click initialize the init rectangle point \n",
    "    if event == cv2.EVENT_LBUTTONDOWN:\n",
    "        drawing = True \n",
    "        x_init, y_init = x, y \n",
    "    # Meanwhile mouse button is pressed, update diagonal rectangle point \n",
    "    elif event == cv2.EVENT_MOUSEMOVE and drawing:\n",
    "        update_pts(params, x, y) \n",
    "    # Once mouse botton is release\n",
    "    elif event == cv2.EVENT_LBUTTONUP: \n",
    "        drawing = False \n",
    "        update_pts(params, x, y) \n"
   ]
  },
  {
   "cell_type": "code",
   "execution_count": 3,
   "metadata": {},
   "outputs": [
    {
     "ename": "NameError",
     "evalue": "name 'CV_CAP_PROP_FRAME_WIDTH' is not defined",
     "output_type": "error",
     "traceback": [
      "\u001b[0;31m---------------------------------------------------------------------------\u001b[0m",
      "\u001b[0;31mNameError\u001b[0m                                 Traceback (most recent call last)",
      "\u001b[0;32m<ipython-input-3-56afe6dd70bd>\u001b[0m in \u001b[0;36m<module>\u001b[0;34m()\u001b[0m\n\u001b[1;32m      3\u001b[0m \u001b[0;34m\u001b[0m\u001b[0m\n\u001b[1;32m      4\u001b[0m \u001b[0mcap\u001b[0m \u001b[0;34m=\u001b[0m \u001b[0mcv2\u001b[0m\u001b[0;34m.\u001b[0m\u001b[0mVideoCapture\u001b[0m\u001b[0;34m(\u001b[0m\u001b[0;36m0\u001b[0m\u001b[0;34m)\u001b[0m\u001b[0;34m\u001b[0m\u001b[0m\n\u001b[0;32m----> 5\u001b[0;31m \u001b[0mcap\u001b[0m\u001b[0;34m.\u001b[0m\u001b[0mset\u001b[0m\u001b[0;34m(\u001b[0m\u001b[0mCV_CAP_PROP_FRAME_WIDTH\u001b[0m\u001b[0;34m,\u001b[0m\u001b[0;36m640\u001b[0m\u001b[0;34m)\u001b[0m\u001b[0;34m;\u001b[0m\u001b[0;34m\u001b[0m\u001b[0m\n\u001b[0m\u001b[1;32m      6\u001b[0m \u001b[0mcap\u001b[0m\u001b[0;34m.\u001b[0m\u001b[0mset\u001b[0m\u001b[0;34m(\u001b[0m\u001b[0mCV_CAP_PROP_FRAME_HEIGHT\u001b[0m\u001b[0;34m,\u001b[0m\u001b[0;36m480\u001b[0m\u001b[0;34m)\u001b[0m\u001b[0;34m;\u001b[0m\u001b[0;34m\u001b[0m\u001b[0m\n\u001b[1;32m      7\u001b[0m \u001b[0;34m\u001b[0m\u001b[0m\n",
      "\u001b[0;31mNameError\u001b[0m: name 'CV_CAP_PROP_FRAME_WIDTH' is not defined"
     ]
    }
   ],
   "source": [
    "    drawing = False \n",
    "    event_params = {\"top_left_pt\": (-1, -1), \"bottom_right_pt\": (-1, -1)}\n",
    " \n",
    "    cap = cv2.VideoCapture(0) \n",
    "    cap.set(CV_CAP_PROP_FRAME_WIDTH,640);\n",
    "    cap.set(CV_CAP_PROP_FRAME_HEIGHT,480);\n",
    " \n",
    "    # Check if the webcam is opened correctly \n",
    "    if not cap.isOpened(): \n",
    "        raise IOError(\"Cannot open webcam\") \n",
    " \n",
    "    cv2.namedWindow('Webcam')\n",
    "    # Bind draw_rectangle function to every mouse event\n",
    "    cv2.setMouseCallback('Webcam', draw_rectangle, event_params) \n",
    " \n",
    "    while True: \n",
    "        ret, frame = cap.read() \n",
    "        img = cv2.resize(frame, None, fx=0.5, fy=0.5, interpolation=cv2.INTER_AREA) \n",
    "        (x0,y0), (x1,y1) = event_params[\"top_left_pt\"], event_params[\"bottom_right_pt\"]\n",
    "        img[y0:y1, x0:x1] = 255 - img[y0:y1, x0:x1] \n",
    "        cv2.imshow('Webcam', img) \n",
    " \n",
    "        c = cv2.waitKey(1) \n",
    "        if c == 27: \n",
    "            break \n",
    " \n",
    "    cap.release() \n",
    "    cv2.destroyAllWindows() "
   ]
  },
  {
   "cell_type": "code",
   "execution_count": 4,
   "metadata": {},
   "outputs": [],
   "source": [
    "import cv2 \n",
    "import numpy as np \n",
    "\n",
    "def cartoonize_image(img, ksize=5, sketch_mode=False):\n",
    "    num_repetitions, sigma_color, sigma_space, ds_factor = 10, 5, 7, 4 \n",
    "    # Convert image to grayscale \n",
    "    img_gray = cv2.cvtColor(img, cv2.COLOR_BGR2GRAY) \n",
    "\n",
    "    # Apply median filter to the grayscale image \n",
    "    img_gray = cv2.medianBlur(img_gray, 7) \n",
    "\n",
    "    # Detect edges in the image and threshold it \n",
    "    edges = cv2.Laplacian(img_gray, cv2.CV_8U, ksize=ksize) \n",
    "    ret, mask = cv2.threshold(edges, 100, 255, cv2.THRESH_BINARY_INV) \n",
    "\n",
    "    # 'mask' is the sketch of the image \n",
    "    if sketch_mode: \n",
    "        return cv2.cvtColor(mask, cv2.COLOR_GRAY2BGR) \n",
    "\n",
    "    # Resize the image to a smaller size for faster computation \n",
    "    img_small = cv2.resize(img, None, fx=1.0/ds_factor, fy=1.0/ds_factor, interpolation=cv2.INTER_AREA)\n",
    "\n",
    "    # Apply bilateral filter the image multiple times \n",
    "    for i in range(num_repetitions): \n",
    "        img_small = cv2.bilateralFilter(img_small, ksize, sigma_color, sigma_space) \n",
    "\n",
    "    img_output = cv2.resize(img_small, None, fx=ds_factor, fy=ds_factor, interpolation=cv2.INTER_LINEAR) \n",
    "\n",
    "    dst = np.zeros(img_gray.shape) \n",
    "\n",
    "    # Add the thick boundary lines to the image using 'AND' operator \n",
    "    dst = cv2.bitwise_and(img_output, img_output, mask=mask) \n",
    "    return dst \n"
   ]
  },
  {
   "cell_type": "code",
   "execution_count": 5,
   "metadata": {},
   "outputs": [
    {
     "ename": "KeyboardInterrupt",
     "evalue": "",
     "output_type": "error",
     "traceback": [
      "\u001b[0;31m---------------------------------------------------------------------------\u001b[0m",
      "\u001b[0;31mKeyboardInterrupt\u001b[0m                         Traceback (most recent call last)",
      "\u001b[0;32m<ipython-input-5-84b4481f9b06>\u001b[0m in \u001b[0;36m<module>\u001b[0;34m()\u001b[0m\n\u001b[1;32m      3\u001b[0m \u001b[0mcur_mode\u001b[0m \u001b[0;34m=\u001b[0m \u001b[0;32mNone\u001b[0m\u001b[0;34m\u001b[0m\u001b[0m\n\u001b[1;32m      4\u001b[0m \u001b[0;32mwhile\u001b[0m \u001b[0;32mTrue\u001b[0m\u001b[0;34m:\u001b[0m\u001b[0;34m\u001b[0m\u001b[0m\n\u001b[0;32m----> 5\u001b[0;31m     \u001b[0mret\u001b[0m\u001b[0;34m,\u001b[0m \u001b[0mframe\u001b[0m \u001b[0;34m=\u001b[0m \u001b[0mcap\u001b[0m\u001b[0;34m.\u001b[0m\u001b[0mread\u001b[0m\u001b[0;34m(\u001b[0m\u001b[0;34m)\u001b[0m\u001b[0;34m\u001b[0m\u001b[0m\n\u001b[0m\u001b[1;32m      6\u001b[0m     \u001b[0mframe\u001b[0m \u001b[0;34m=\u001b[0m \u001b[0mcv2\u001b[0m\u001b[0;34m.\u001b[0m\u001b[0mresize\u001b[0m\u001b[0;34m(\u001b[0m\u001b[0mframe\u001b[0m\u001b[0;34m,\u001b[0m \u001b[0;32mNone\u001b[0m\u001b[0;34m,\u001b[0m \u001b[0mfx\u001b[0m\u001b[0;34m=\u001b[0m\u001b[0;36m0.5\u001b[0m\u001b[0;34m,\u001b[0m \u001b[0mfy\u001b[0m\u001b[0;34m=\u001b[0m\u001b[0;36m0.5\u001b[0m\u001b[0;34m,\u001b[0m \u001b[0minterpolation\u001b[0m\u001b[0;34m=\u001b[0m\u001b[0mcv2\u001b[0m\u001b[0;34m.\u001b[0m\u001b[0mINTER_AREA\u001b[0m\u001b[0;34m)\u001b[0m\u001b[0;34m\u001b[0m\u001b[0m\n\u001b[1;32m      7\u001b[0m \u001b[0;34m\u001b[0m\u001b[0m\n",
      "\u001b[0;31mKeyboardInterrupt\u001b[0m: "
     ]
    }
   ],
   "source": [
    "    cap = cv2.VideoCapture(0) \n",
    "\n",
    "    cur_mode = None\n",
    "    while True: \n",
    "        ret, frame = cap.read() \n",
    "        frame = cv2.resize(frame, None, fx=0.5, fy=0.5, interpolation=cv2.INTER_AREA) \n",
    "\n",
    "        c = cv2.waitKey(1) \n",
    "        if c == 27: \n",
    "            break \n",
    "\n",
    "        if c != -1 and c != 255 and c != cur_mode: \n",
    "            cur_mode = c \n",
    "\n",
    "        if cur_mode == ord('s'): \n",
    "            cv2.imshow('Cartoonize', cartoonize_image(frame, ksize=5, sketch_mode=True)) \n",
    "        elif cur_mode == ord('c'): \n",
    "            cv2.imshow('Cartoonize', cartoonize_image(frame, ksize=5, sketch_mode=False)) \n",
    "        else: \n",
    "            cv2.imshow('Cartoonize', frame) \n",
    "\n",
    "    cap.release() \n",
    "    cv2.destroyAllWindows()"
   ]
  },
  {
   "cell_type": "code",
   "execution_count": 2,
   "metadata": {},
   "outputs": [
    {
     "ename": "error",
     "evalue": "/io/opencv/modules/imgproc/src/resize.cpp:4044: error: (-215) ssize.width > 0 && ssize.height > 0 in function resize\n",
     "output_type": "error",
     "traceback": [
      "\u001b[0;31m---------------------------------------------------------------------------\u001b[0m",
      "\u001b[0;31merror\u001b[0m                                     Traceback (most recent call last)",
      "\u001b[0;32m<ipython-input-2-4114361d7b79>\u001b[0m in \u001b[0;36m<module>\u001b[0;34m()\u001b[0m\n\u001b[1;32m     10\u001b[0m     \u001b[0mret\u001b[0m\u001b[0;34m,\u001b[0m \u001b[0mframe\u001b[0m \u001b[0;34m=\u001b[0m \u001b[0mcap\u001b[0m\u001b[0;34m.\u001b[0m\u001b[0mread\u001b[0m\u001b[0;34m(\u001b[0m\u001b[0;34m)\u001b[0m\u001b[0;34m\u001b[0m\u001b[0m\n\u001b[1;32m     11\u001b[0m     frame = cv2.resize(frame, None, fx=scaling_factor, \n\u001b[0;32m---> 12\u001b[0;31m  fy=scaling_factor, interpolation=cv2.INTER_AREA)\n\u001b[0m\u001b[1;32m     13\u001b[0m \u001b[0;34m\u001b[0m\u001b[0m\n\u001b[1;32m     14\u001b[0m     \u001b[0mface_rects\u001b[0m \u001b[0;34m=\u001b[0m \u001b[0mface_cascade\u001b[0m\u001b[0;34m.\u001b[0m\u001b[0mdetectMultiScale\u001b[0m\u001b[0;34m(\u001b[0m\u001b[0mframe\u001b[0m\u001b[0;34m,\u001b[0m \u001b[0mscaleFactor\u001b[0m\u001b[0;34m=\u001b[0m\u001b[0;36m1.3\u001b[0m\u001b[0;34m,\u001b[0m \u001b[0mminNeighbors\u001b[0m\u001b[0;34m=\u001b[0m\u001b[0;36m3\u001b[0m\u001b[0;34m)\u001b[0m\u001b[0;34m\u001b[0m\u001b[0m\n",
      "\u001b[0;31merror\u001b[0m: /io/opencv/modules/imgproc/src/resize.cpp:4044: error: (-215) ssize.width > 0 && ssize.height > 0 in function resize\n"
     ]
    }
   ],
   "source": [
    "import cv2 \n",
    "import numpy as np \n",
    " \n",
    "face_cascade = cv2.CascadeClassifier('../cascade_files/haarcascade_frontalface_alt.xml') \n",
    " \n",
    "cap = cv2.VideoCapture(0) \n",
    "scaling_factor = 0.5 \n",
    " \n",
    "while True: \n",
    "    ret, frame = cap.read() \n",
    "    frame = cv2.resize(frame, None, fx=scaling_factor, \n",
    " fy=scaling_factor, interpolation=cv2.INTER_AREA)\n",
    " \n",
    "    face_rects = face_cascade.detectMultiScale(frame, scaleFactor=1.3, minNeighbors=3) \n",
    "    for (x,y,w,h) in face_rects: \n",
    "        cv2.rectangle(frame, (x,y), (x+w,y+h), (0,255,0), 3) \n",
    " \n",
    "    cv2.imshow('Face Detector', frame) \n",
    " \n",
    "    c = cv2.waitKey(1) \n",
    "    if c == 27: \n",
    "        break \n",
    " \n",
    "cap.release() \n",
    "cv2.destroyAllWindows()"
   ]
  },
  {
   "cell_type": "code",
   "execution_count": 5,
   "metadata": {},
   "outputs": [
    {
     "ename": "error",
     "evalue": "/io/opencv/modules/imgproc/src/resize.cpp:4044: error: (-215) ssize.width > 0 && ssize.height > 0 in function resize\n",
     "output_type": "error",
     "traceback": [
      "\u001b[0;31m---------------------------------------------------------------------------\u001b[0m",
      "\u001b[0;31merror\u001b[0m                                     Traceback (most recent call last)",
      "\u001b[0;32m<ipython-input-5-951b2d5ea087>\u001b[0m in \u001b[0;36m<module>\u001b[0;34m()\u001b[0m\n\u001b[1;32m     15\u001b[0m \u001b[0;32mwhile\u001b[0m \u001b[0;32mTrue\u001b[0m\u001b[0;34m:\u001b[0m\u001b[0;34m\u001b[0m\u001b[0m\n\u001b[1;32m     16\u001b[0m     \u001b[0mret\u001b[0m\u001b[0;34m,\u001b[0m \u001b[0mframe\u001b[0m \u001b[0;34m=\u001b[0m \u001b[0mcap\u001b[0m\u001b[0;34m.\u001b[0m\u001b[0mread\u001b[0m\u001b[0;34m(\u001b[0m\u001b[0;34m)\u001b[0m\u001b[0;34m\u001b[0m\u001b[0m\n\u001b[0;32m---> 17\u001b[0;31m     \u001b[0mframe\u001b[0m \u001b[0;34m=\u001b[0m \u001b[0mcv2\u001b[0m\u001b[0;34m.\u001b[0m\u001b[0mresize\u001b[0m\u001b[0;34m(\u001b[0m\u001b[0mframe\u001b[0m\u001b[0;34m,\u001b[0m \u001b[0;32mNone\u001b[0m\u001b[0;34m,\u001b[0m \u001b[0mfx\u001b[0m\u001b[0;34m=\u001b[0m\u001b[0mscaling_factor\u001b[0m\u001b[0;34m,\u001b[0m \u001b[0mfy\u001b[0m\u001b[0;34m=\u001b[0m\u001b[0mscaling_factor\u001b[0m\u001b[0;34m,\u001b[0m \u001b[0minterpolation\u001b[0m\u001b[0;34m=\u001b[0m\u001b[0mcv2\u001b[0m\u001b[0;34m.\u001b[0m\u001b[0mINTER_AREA\u001b[0m\u001b[0;34m)\u001b[0m\u001b[0;34m\u001b[0m\u001b[0m\n\u001b[0m\u001b[1;32m     18\u001b[0m     \u001b[0mgray\u001b[0m \u001b[0;34m=\u001b[0m \u001b[0mcv2\u001b[0m\u001b[0;34m.\u001b[0m\u001b[0mcvtColor\u001b[0m\u001b[0;34m(\u001b[0m\u001b[0mframe\u001b[0m\u001b[0;34m,\u001b[0m \u001b[0mcv2\u001b[0m\u001b[0;34m.\u001b[0m\u001b[0mCOLOR_BGR2GRAY\u001b[0m\u001b[0;34m)\u001b[0m\u001b[0;34m\u001b[0m\u001b[0m\n\u001b[1;32m     19\u001b[0m \u001b[0;34m\u001b[0m\u001b[0m\n",
      "\u001b[0;31merror\u001b[0m: /io/opencv/modules/imgproc/src/resize.cpp:4044: error: (-215) ssize.width > 0 && ssize.height > 0 in function resize\n"
     ]
    }
   ],
   "source": [
    "import cv2 \n",
    "import numpy as np \n",
    "\n",
    "mouth_cascade = cv2.CascadeClassifier('../cascade_files/haarcascade_mcs_mouth.xml') \n",
    "\n",
    "moustache_mask = cv2.imread('../images/moustache.png')\n",
    "h_mask, w_mask = moustache_mask.shape[:2] \n",
    "\n",
    "if mouth_cascade.empty(): \n",
    "  raise IOError('Unable to load the mouth cascade classifier xml file') \n",
    "\n",
    "cap = cv2.VideoCapture(0) \n",
    "scaling_factor = 0.5 \n",
    "\n",
    "while True: \n",
    "    ret, frame = cap.read() \n",
    "    frame = cv2.resize(frame, None, fx=scaling_factor, fy=scaling_factor, interpolation=cv2.INTER_AREA) \n",
    "    gray = cv2.cvtColor(frame, cv2.COLOR_BGR2GRAY) \n",
    "\n",
    "    mouth_rects = mouth_cascade.detectMultiScale(gray, 1.3, 5) \n",
    "    if len(mouth_rects) > 0: \n",
    "        (x,y,w,h) = mouth_rects[0] \n",
    "        h, w = int(0.6*h), int(1.2*w) \n",
    "        x -= int(0.05*w)\n",
    "        y -= int(0.55*h)\n",
    "        frame_roi = frame[y:y+h, x:x+w] \n",
    "        moustache_mask_small = cv2.resize(moustache_mask, (w, h), interpolation=cv2.INTER_AREA) \n",
    "\n",
    "        gray_mask = cv2.cvtColor(moustache_mask_small, cv2.COLOR_BGR2GRAY) \n",
    "        ret, mask = cv2.threshold(gray_mask, 50, 255, cv2.THRESH_BINARY_INV) \n",
    "        mask_inv = cv2.bitwise_not(mask) \n",
    "        masked_mouth = cv2.bitwise_and(moustache_mask_small, moustache_mask_small, mask=mask) \n",
    "        masked_frame = cv2.bitwise_and(frame_roi, frame_roi, mask=mask_inv) \n",
    "        frame[y:y+h, x:x+w] = cv2.add(masked_mouth, masked_frame) \n",
    "\n",
    "    cv2.imshow('Moustache', frame)\n",
    "    c = cv2.waitKey(1) \n",
    "    if c == 27: \n",
    "        break \n",
    "\n",
    "cap.release() \n",
    "cv2.destroyAllWindows()"
   ]
  },
  {
   "cell_type": "code",
   "execution_count": null,
   "metadata": {},
   "outputs": [],
   "source": []
  }
 ],
 "metadata": {
  "kernelspec": {
   "display_name": "Python 3",
   "language": "python",
   "name": "python3"
  },
  "language_info": {
   "codemirror_mode": {
    "name": "ipython",
    "version": 3
   },
   "file_extension": ".py",
   "mimetype": "text/x-python",
   "name": "python",
   "nbconvert_exporter": "python",
   "pygments_lexer": "ipython3",
   "version": "3.5.2"
  },
  "latex_envs": {
   "LaTeX_envs_menu_present": true,
   "autoclose": false,
   "autocomplete": true,
   "bibliofile": "biblio.bib",
   "cite_by": "apalike",
   "current_citInitial": 1,
   "eqLabelWithNumbers": true,
   "eqNumInitial": 1,
   "hotkeys": {
    "equation": "Ctrl-E",
    "itemize": "Ctrl-I"
   },
   "labels_anchors": false,
   "latex_user_defs": false,
   "report_style_numbering": false,
   "user_envs_cfg": false
  }
 },
 "nbformat": 4,
 "nbformat_minor": 2
}
