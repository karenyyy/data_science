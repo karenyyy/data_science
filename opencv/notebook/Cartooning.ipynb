{
 "cells": [
  {
   "cell_type": "code",
   "execution_count": 1,
   "metadata": {},
   "outputs": [],
   "source": [
    "import cv2\n",
    "cap=cv2.VideoCapture(0)\n",
    "if not cap.isOpened():\n",
    "    raise IOError('')\n",
    "while True:\n",
    "    ret, frame = cap.read()\n",
    "    frame=cv2.resize(frame, None, fx=0.5, fy=0.5, interpolation=cv2.INTER_AREA)\n",
    "    cv2.imshow('Input', frame)\n",
    "    \n",
    "    c=cv2.waitKey(0)\n",
    "    \n",
    "    if c==30:\n",
    "        break\n",
    "cap.release()\n",
    "cv2.destroyAllWindows()"
   ]
  },
  {
   "cell_type": "code",
   "execution_count": 9,
   "metadata": {},
   "outputs": [
    {
     "ename": "KeyboardInterrupt",
     "evalue": "",
     "output_type": "error",
     "traceback": [
      "\u001b[0;31m---------------------------------------------------------------------------\u001b[0m",
      "\u001b[0;31mKeyboardInterrupt\u001b[0m                         Traceback (most recent call last)",
      "\u001b[0;32m<ipython-input-9-c97ae8d3733a>\u001b[0m in \u001b[0;36m<module>\u001b[0;34m()\u001b[0m\n\u001b[1;32m     37\u001b[0m \u001b[0;34m\u001b[0m\u001b[0m\n\u001b[1;32m     38\u001b[0m     \u001b[0;32mwhile\u001b[0m \u001b[0;32mTrue\u001b[0m\u001b[0;34m:\u001b[0m\u001b[0;34m\u001b[0m\u001b[0m\n\u001b[0;32m---> 39\u001b[0;31m         \u001b[0mret\u001b[0m\u001b[0;34m,\u001b[0m \u001b[0mframe\u001b[0m \u001b[0;34m=\u001b[0m \u001b[0mcap\u001b[0m\u001b[0;34m.\u001b[0m\u001b[0mread\u001b[0m\u001b[0;34m(\u001b[0m\u001b[0;34m)\u001b[0m\u001b[0;34m\u001b[0m\u001b[0m\n\u001b[0m\u001b[1;32m     40\u001b[0m         \u001b[0mimg\u001b[0m \u001b[0;34m=\u001b[0m \u001b[0mcv2\u001b[0m\u001b[0;34m.\u001b[0m\u001b[0mresize\u001b[0m\u001b[0;34m(\u001b[0m\u001b[0mframe\u001b[0m\u001b[0;34m,\u001b[0m \u001b[0;32mNone\u001b[0m\u001b[0;34m,\u001b[0m \u001b[0mfx\u001b[0m\u001b[0;34m=\u001b[0m\u001b[0;36m0.5\u001b[0m\u001b[0;34m,\u001b[0m \u001b[0mfy\u001b[0m\u001b[0;34m=\u001b[0m\u001b[0;36m0.5\u001b[0m\u001b[0;34m,\u001b[0m \u001b[0minterpolation\u001b[0m\u001b[0;34m=\u001b[0m\u001b[0mcv2\u001b[0m\u001b[0;34m.\u001b[0m\u001b[0mINTER_AREA\u001b[0m\u001b[0;34m)\u001b[0m\u001b[0;34m\u001b[0m\u001b[0m\n\u001b[1;32m     41\u001b[0m         \u001b[0;34m(\u001b[0m\u001b[0mx0\u001b[0m\u001b[0;34m,\u001b[0m\u001b[0my0\u001b[0m\u001b[0;34m)\u001b[0m\u001b[0;34m,\u001b[0m \u001b[0;34m(\u001b[0m\u001b[0mx1\u001b[0m\u001b[0;34m,\u001b[0m\u001b[0my1\u001b[0m\u001b[0;34m)\u001b[0m \u001b[0;34m=\u001b[0m \u001b[0mevent_params\u001b[0m\u001b[0;34m[\u001b[0m\u001b[0;34m\"top_left_pt\"\u001b[0m\u001b[0;34m]\u001b[0m\u001b[0;34m,\u001b[0m \u001b[0mevent_params\u001b[0m\u001b[0;34m[\u001b[0m\u001b[0;34m\"bottom_right_pt\"\u001b[0m\u001b[0;34m]\u001b[0m\u001b[0;34m\u001b[0m\u001b[0m\n",
      "\u001b[0;31mKeyboardInterrupt\u001b[0m: "
     ]
    }
   ],
   "source": [
    "import cv2 \n",
    "import numpy as np \n",
    "\n",
    "def update_pts(params, x, y):\n",
    "    global x_init, y_init\n",
    "    params[\"top_left_pt\"] = (min(x_init, x), min(y_init, y))\n",
    "    params[\"bottom_right_pt\"] = (max(x_init, x), max(y_init, y))\n",
    "    img[y_init:y, x_init:x] = 255 - img[y_init:y, x_init:x]\n",
    " \n",
    "def draw_rectangle(event, x, y, flags, params): \n",
    "    global x_init, y_init, drawing\n",
    "    # First click initialize the init rectangle point \n",
    "    if event == cv2.EVENT_LBUTTONDOWN:\n",
    "        drawing = True \n",
    "        x_init, y_init = x, y \n",
    "    # Meanwhile mouse button is pressed, update diagonal rectangle point \n",
    "    elif event == cv2.EVENT_MOUSEMOVE and drawing:\n",
    "        update_pts(params, x, y) \n",
    "    # Once mouse botton is release\n",
    "    elif event == cv2.EVENT_LBUTTONUP: \n",
    "        drawing = False \n",
    "        update_pts(params, x, y) \n",
    " \n",
    "if __name__=='__main__': \n",
    "    drawing = False \n",
    "    event_params = {\"top_left_pt\": (-1, -1), \"bottom_right_pt\": (-1, -1)}\n",
    " \n",
    "    cap = cv2.VideoCapture(0) \n",
    " \n",
    "    # Check if the webcam is opened correctly \n",
    "    if not cap.isOpened(): \n",
    "        raise IOError(\"Cannot open webcam\") \n",
    " \n",
    "    cv2.namedWindow('Webcam')\n",
    "    # Bind draw_rectangle function to every mouse event\n",
    "    cv2.setMouseCallback('Webcam', draw_rectangle, event_params) \n",
    " \n",
    "    while True: \n",
    "        ret, frame = cap.read() \n",
    "        img = cv2.resize(frame, None, fx=0.5, fy=0.5, interpolation=cv2.INTER_AREA) \n",
    "        (x0,y0), (x1,y1) = event_params[\"top_left_pt\"], event_params[\"bottom_right_pt\"]\n",
    "        img[y0:y1, x0:x1] = 255 - img[y0:y1, x0:x1] \n",
    "        cv2.imshow('Webcam', img) \n",
    " \n",
    "        c = cv2.waitKey(1) \n",
    "        if c == 27: \n",
    "            break \n",
    " \n",
    "    cap.release() \n",
    "    cv2.destroyAllWindows() "
   ]
  },
  {
   "cell_type": "code",
   "execution_count": null,
   "metadata": {},
   "outputs": [],
   "source": []
  }
 ],
 "metadata": {
  "kernelspec": {
   "display_name": "Python 3",
   "language": "python",
   "name": "python3"
  },
  "language_info": {
   "codemirror_mode": {
    "name": "ipython",
    "version": 3
   },
   "file_extension": ".py",
   "mimetype": "text/x-python",
   "name": "python",
   "nbconvert_exporter": "python",
   "pygments_lexer": "ipython3",
   "version": "3.5.2"
  },
  "latex_envs": {
   "LaTeX_envs_menu_present": true,
   "autoclose": false,
   "autocomplete": true,
   "bibliofile": "biblio.bib",
   "cite_by": "apalike",
   "current_citInitial": 1,
   "eqLabelWithNumbers": true,
   "eqNumInitial": 1,
   "hotkeys": {
    "equation": "Ctrl-E",
    "itemize": "Ctrl-I"
   },
   "labels_anchors": false,
   "latex_user_defs": false,
   "report_style_numbering": false,
   "user_envs_cfg": false
  }
 },
 "nbformat": 4,
 "nbformat_minor": 2
}
