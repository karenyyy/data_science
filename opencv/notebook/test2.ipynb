{
 "cells": [
  {
   "cell_type": "code",
   "execution_count": 3,
   "metadata": {},
   "outputs": [
    {
     "name": "stderr",
     "output_type": "stream",
     "text": [
      "Using raw input\n"
     ]
    },
    {
     "data": {
      "text/plain": []
     },
     "execution_count": 3,
     "metadata": {},
     "output_type": "execute_result"
    }
   ],
   "source": [
    ".rawInput"
   ]
  },
  {
   "cell_type": "code",
   "execution_count": 11,
   "metadata": {},
   "outputs": [
    {
     "name": "stderr",
     "output_type": "stream",
     "text": [
      "\u001b[1minput_line_13:1:10: \u001b[0m\u001b[0;1;31mfatal error: \u001b[0m\u001b[1m'/usr/lib/libopencv_highgui.so.2.4' file not found\u001b[0m\n",
      "#include \"/usr/lib/libopencv_highgui.so.2.4\"\n",
      "\u001b[0;1;32m         ^~~~~~~~~~~~~~~~~~~~~~~~~~~~~~~~~~~\n",
      "\u001b[0m"
     ]
    },
    {
     "ename": "ename",
     "evalue": "evalue",
     "output_type": "error",
     "traceback": []
    }
   ],
   "source": []
  },
  {
   "cell_type": "code",
   "execution_count": 8,
   "metadata": {},
   "outputs": [
    {
     "name": "stderr",
     "output_type": "stream",
     "text": [
      "\u001b[1minput_line_10:2:1: \u001b[0m\u001b[0;1;31merror: \u001b[0m\u001b[1mcannot use dot operator on a type\u001b[0m\n",
      ".L /usr/lib/libopencv_highgui.so\n",
      "\u001b[0;1;32m^\n",
      "\u001b[0m\u001b[1minput_line_10:21:1: \u001b[0m\u001b[0;1;31merror: \u001b[0m\u001b[1munknown type name 'cvSetZero'\u001b[0m\n",
      "cvZero(img);\n",
      "\u001b[0;1;32m^\n",
      "\u001b[0m\u001b[1m/usr/local/include/opencv2/core/core_c.h:980:17: \u001b[0m\u001b[0;1;30mnote: \u001b[0mexpanded from macro 'cvZero'\u001b[0m\n",
      "#define cvZero  cvSetZero\n",
      "\u001b[0;1;32m                ^\n",
      "\u001b[0m\u001b[1minput_line_10:27:1: \u001b[0m\u001b[0;1;31merror: \u001b[0m\u001b[1munknown type name 'clog'\u001b[0m\n",
      "clog << arcStart << \" \" << arcEnd << endl;\n",
      "\u001b[0;1;32m^\n",
      "\u001b[0m\u001b[1minput_line_10:27:6: \u001b[0m\u001b[0;1;31merror: \u001b[0m\u001b[1mexpected unqualified-id\u001b[0m\n",
      "clog << arcStart << \" \" << arcEnd << endl;\n",
      "\u001b[0;1;32m     ^\n",
      "\u001b[0m\u001b[1minput_line_10:29:1: \u001b[0m\u001b[0;1;31merror: \u001b[0m\u001b[1mC++ requires a type specifier for all declarations\u001b[0m\n",
      "cvEllipse(img, center, size, angle, 0, 360, cvRealScalar(128), 1);\n",
      "\u001b[0;1;32m^\n",
      "\u001b[0m\u001b[1minput_line_10:30:1: \u001b[0m\u001b[0;1;31merror: \u001b[0m\u001b[1mC++ requires a type specifier for all declarations\u001b[0m\n",
      "cvEllipse(img, center, size, angle, 0, 90,  cvRealScalar(255), 2);\n",
      "\u001b[0;1;32m^\n",
      "\u001b[0m\u001b[1minput_line_10:31:1: \u001b[0m\u001b[0;1;31merror: \u001b[0m\u001b[1mC++ requires a type specifier for all declarations\u001b[0m\n",
      "cvEllipse(img, center, size, angle, arcStart, arcEnd, cvRealScalar(128), 2);\n",
      "\u001b[0;1;32m^\n",
      "\u001b[0m\u001b[1minput_line_10:32:1: \u001b[0m\u001b[0;1;31merror: \u001b[0m\u001b[1mC++ requires a type specifier for all declarations\u001b[0m\n",
      "cvLine(img, center, cvPoint(1*m, 3*m), cvRealScalar(255), 1);\n",
      "\u001b[0;1;32m^\n",
      "\u001b[0m\u001b[1minput_line_10:33:1: \u001b[0m\u001b[0;1;31merror: \u001b[0m\u001b[1mC++ requires a type specifier for all declarations\u001b[0m\n",
      "cvLine(img, center, cvPoint(3*m, 9*m), cvRealScalar(255), 1);\n",
      "\u001b[0;1;32m^\n",
      "\u001b[0m\u001b[1minput_line_10:34:1: \u001b[0m\u001b[0;1;31merror: \u001b[0m\u001b[1mC++ requires a type specifier for all declarations\u001b[0m\n",
      "cvShowImage(\"test\", img);\n",
      "\u001b[0;1;32m^\n",
      "\u001b[0m\u001b[1minput_line_10:35:1: \u001b[0m\u001b[0;1;31merror: \u001b[0m\u001b[1mC++ requires a type specifier for all declarations\u001b[0m\n",
      "cvWaitKey(0);\n",
      "\u001b[0;1;32m^\n",
      "\u001b[0m\u001b[1minput_line_10:36:1: \u001b[0m\u001b[0;1;31merror: \u001b[0m\u001b[1munknown type name 'cvReleaseImage'\u001b[0m\n",
      "cvReleaseImage(&img);\n",
      "\u001b[0;1;32m^\n",
      "\u001b[0m\u001b[1minput_line_10:36:17: \u001b[0m\u001b[0;1;31merror: \u001b[0m\u001b[1mdeclaration of reference variable 'img' requires an initializer\u001b[0m\n",
      "cvReleaseImage(&img);\n",
      "\u001b[0;1;32m                ^~~\n",
      "\u001b[0m"
     ]
    },
    {
     "ename": "ename",
     "evalue": "evalue",
     "output_type": "error",
     "traceback": []
    }
   ],
   "source": [
    ".L /usr/lib/x86_64-linux-gnu/libopencv_highgui.so\n",
    ".L /usr/lib/x86_64-linux-gnu/libopencv_imgproc.so\n",
    "\n",
    "    \n",
    "#include <opencv2/opencv.hpp>\n",
    "#include <opencv/highgui.h>\n",
    "#include <math.h>\n",
    "#include <iostream>\n",
    "\n",
    "using namespace cv;\n",
    "using namespace std;\n",
    "\n",
    "\n",
    "int main( int argc, char** argv )\n",
    "{\n",
    "\n",
    "\t// Read image\n",
    "\tMat im = imread( \"blob.jpg\", IMREAD_GRAYSCALE );\n",
    "\n",
    "\t// Setup SimpleBlobDetector parameters.\n",
    "\tSimpleBlobDetector::Params params;\n",
    "\n",
    "\t// Change thresholds\n",
    "\tparams.minThreshold = 10;\n",
    "\tparams.maxThreshold = 200;\n",
    "\n",
    "\t// Filter by Area.\n",
    "\tparams.filterByArea = true;\n",
    "\tparams.minArea = 1500;\n",
    "\n",
    "\t// Filter by Circularity\n",
    "\tparams.filterByCircularity = true;\n",
    "\tparams.minCircularity = 0.1;\n",
    "\n",
    "\t// Filter by Convexity\n",
    "\tparams.filterByConvexity = true;\n",
    "\tparams.minConvexity = 0.87;\n",
    "\n",
    "\t// Filter by Inertia\n",
    "\tparams.filterByInertia = true;\n",
    "\tparams.minInertiaRatio = 0.01;\n",
    "\n",
    "\n",
    "\t// Storage for blobs\n",
    "\tvector<KeyPoint> keypoints;\n",
    "\n",
    "\n",
    "#if CV_MAJOR_VERSION < 3   // If you are using OpenCV 2\n",
    "\n",
    "\t// Set up detector with params\n",
    "\tSimpleBlobDetector detector(params);\n",
    "\n",
    "\t// Detect blobs\n",
    "\tdetector.detect( im, keypoints);\n",
    "#else \n",
    "\n",
    "\t// Set up detector with params\n",
    "\tPtr<SimpleBlobDetector> detector = SimpleBlobDetector::create(params);   \n",
    "\n",
    "\t// Detect blobs\n",
    "\tdetector->detect( im, keypoints);\n",
    "#endif \n",
    "\n",
    "\t// Draw detected blobs as red circles.\n",
    "\t// DrawMatchesFlags::DRAW_RICH_KEYPOINTS flag ensures\n",
    "\t// the size of the circle corresponds to the size of blob\n",
    "\n",
    "\tMat im_with_keypoints;\n",
    "\tdrawKeypoints( im, keypoints, im_with_keypoints, Scalar(0,0,255), DrawMatchesFlags::DRAW_RICH_KEYPOINTS );\n",
    "\n",
    "\t// Show blobs\n",
    "\timshow(\"keypoints\", im_with_keypoints );\n",
    "\twaitKey(0);\n",
    "\n",
    "}\n"
   ]
  },
  {
   "cell_type": "code",
   "execution_count": null,
   "metadata": {},
   "outputs": [],
   "source": []
  }
 ],
 "metadata": {
  "kernelspec": {
   "display_name": "C++14",
   "language": "C++",
   "name": "cling-cpp14"
  },
  "language_info": {
   "codemirror_mode": "c++",
   "file_extension": ".c++",
   "mimetype": "text/x-c++src",
   "name": "c++"
  }
 },
 "nbformat": 4,
 "nbformat_minor": 2
}
