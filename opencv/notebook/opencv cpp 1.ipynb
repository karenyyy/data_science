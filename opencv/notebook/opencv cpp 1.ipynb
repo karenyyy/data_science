{
 "cells": [
  {
   "cell_type": "code",
   "execution_count": 1,
   "metadata": {},
   "outputs": [
    {
     "data": {
      "text/plain": []
     },
     "execution_count": 1,
     "metadata": {},
     "output_type": "execute_result"
    }
   ],
   "source": [
    ".L /usr/lib/x86_64-linux-gnu/libopencv_highgui.so.2.4"
   ]
  },
  {
   "cell_type": "code",
   "execution_count": 2,
   "metadata": {},
   "outputs": [
    {
     "data": {
      "text/plain": []
     },
     "execution_count": 2,
     "metadata": {},
     "output_type": "execute_result"
    }
   ],
   "source": [
    "#include <opencv/highgui.h>\n",
    "#include <math.h>\n",
    "#include <iostream>"
   ]
  },
  {
   "cell_type": "code",
   "execution_count": 3,
   "metadata": {},
   "outputs": [
    {
     "data": {
      "text/plain": []
     },
     "execution_count": 3,
     "metadata": {},
     "output_type": "execute_result"
    }
   ],
   "source": [
    "using namespace std;"
   ]
  },
  {
   "cell_type": "code",
   "execution_count": 4,
   "metadata": {},
   "outputs": [
    {
     "data": {
      "text/plain": []
     },
     "execution_count": 4,
     "metadata": {},
     "output_type": "execute_result"
    }
   ],
   "source": [
    "template <typename T> T deg2rad(T deg) { return deg*M_PI/180.0; }\n",
    "template <typename T> T rad2deg(T rad) { return rad*180.0/M_PI; }\n",
    "template <typename T> T toCircleAngle(T angleOnEllipse, cv::Size_<T> axis) {\n",
    "  return atan(axis.width*tan(angleOnEllipse)/axis.height);\n",
    "}\n",
    "template <> int toCircleAngle(int angleOnEllipse, cv::Size axis) {\n",
    "  return rad2deg(toCircleAngle<double>(deg2rad((double)angleOnEllipse), cv::Size2d(axis.width, axis.height)));\n",
    "}"
   ]
  },
  {
   "cell_type": "code",
   "execution_count": 5,
   "metadata": {},
   "outputs": [
    {
     "name": "stderr",
     "output_type": "stream",
     "text": [
      "19 78\n"
     ]
    },
    {
     "data": {
      "text/plain": [
       "(std::basic_ostream<char, std::char_traits<char> >::__ostream_type &) @0x7f37bfa5bd00\n"
      ]
     },
     "execution_count": 5,
     "metadata": {},
     "output_type": "execute_result"
    }
   ],
   "source": [
    "int m = 50;\n",
    "IplImage* img = cvCreateImage(cvSize(16*m, 15*m), IPL_DEPTH_8U, 1);\n",
    "cvZero(img);\n",
    "CvPoint center = cvPoint(8*m, 7*m);\n",
    "CvSize size = cvSize(5*m, 8*m);\n",
    "double angle = 126.0;\n",
    "double arcStart = toCircleAngle<int>(30, size);\n",
    "double arcEnd = toCircleAngle<int>(83, size);\n",
    "clog << arcStart << \" \" << arcEnd << endl;"
   ]
  },
  {
   "cell_type": "code",
   "execution_count": 6,
   "metadata": {},
   "outputs": [
    {
     "data": {
      "text/plain": [
       "(void) nullptr\n"
      ]
     },
     "execution_count": 6,
     "metadata": {},
     "output_type": "execute_result"
    }
   ],
   "source": [
    "cvEllipse(img, center, size, angle, 0, 360, cvRealScalar(128), 1);\n",
    "cvEllipse(img, center, size, angle, 0, 90,  cvRealScalar(255), 2);\n",
    "cvEllipse(img, center, size, angle, arcStart, arcEnd, cvRealScalar(128), 2);\n",
    "cvLine(img, center, cvPoint(1*m, 3*m), cvRealScalar(255), 1);\n",
    "cvLine(img, center, cvPoint(3*m, 9*m), cvRealScalar(255), 1);\n",
    "cvShowImage(\"test\", img);\n",
    "cvWaitKey(0);\n",
    "cvReleaseImage(&img);"
   ]
  },
  {
   "cell_type": "code",
   "execution_count": 7,
   "metadata": {},
   "outputs": [
    {
     "data": {
      "text/plain": [
       "(void) nullptr\n"
      ]
     },
     "execution_count": 7,
     "metadata": {},
     "output_type": "execute_result"
    }
   ],
   "source": [
    "IplImage * test;\n",
    "test = cvLoadImage(\"blob.jpg\");\n",
    "cvNamedWindow(\"test_demo\", 1);\n",
    "cvShowImage(\"test_demo\", test);\n",
    "cvWaitKey(0);\n",
    "cvDestroyWindow(\"test_demo\");\n",
    "cvReleaseImage(&test);"
   ]
  },
  {
   "cell_type": "code",
   "execution_count": 8,
   "metadata": {},
   "outputs": [
    {
     "name": "stderr",
     "output_type": "stream",
     "text": [
      "IncrementalExecutor::executeFunction: symbol '_ZN2cv6String10deallocateEv' unresolved while linking function '__cxx_global_var_initcling_module_10_'!\n",
      "You are probably missing the definition of cv::String::deallocate()\n",
      "Maybe you need to load the corresponding shared library?\n"
     ]
    },
    {
     "data": {
      "text/plain": []
     },
     "execution_count": 8,
     "metadata": {},
     "output_type": "execute_result"
    }
   ],
   "source": [
    "#include <opencv2/opencv.hpp>\n",
    "#include <iostream>"
   ]
  },
  {
   "cell_type": "code",
   "execution_count": 9,
   "metadata": {},
   "outputs": [
    {
     "name": "stderr",
     "output_type": "stream",
     "text": [
      "Using raw input\n"
     ]
    },
    {
     "data": {
      "text/plain": []
     },
     "execution_count": 9,
     "metadata": {},
     "output_type": "execute_result"
    }
   ],
   "source": [
    ".rawInput"
   ]
  },
  {
   "cell_type": "code",
   "execution_count": 10,
   "metadata": {},
   "outputs": [
    {
     "data": {
      "text/plain": []
     },
     "execution_count": 10,
     "metadata": {},
     "output_type": "execute_result"
    }
   ],
   "source": [
    "using namespace std;\n",
    "\n",
    "string type2str(int type) {\n",
    "    string r;\n",
    "    \n",
    "    uchar depth = type & CV_MAT_DEPTH_MASK;\n",
    "    \n",
    "    switch ( depth ) {\n",
    "        case CV_8U:  r = \"8U\"; break;\n",
    "        case CV_8S:  r = \"8S\"; break;\n",
    "        case CV_16U: r = \"16U\"; break;\n",
    "        case CV_16S: r = \"16S\"; break;\n",
    "        case CV_32S: r = \"32S\"; break;\n",
    "        case CV_32F: r = \"32F\"; break;\n",
    "        case CV_64F: r = \"64F\"; break;\n",
    "        default:     r = \"User\"; break;\n",
    "    }\n",
    "    \n",
    "    return r;\n",
    "}\n"
   ]
  },
  {
   "cell_type": "code",
   "execution_count": 11,
   "metadata": {
    "scrolled": true
   },
   "outputs": [
    {
     "data": {
      "text/plain": []
     },
     "execution_count": 11,
     "metadata": {},
     "output_type": "execute_result"
    }
   ],
   "source": [
    "using namespace cv;"
   ]
  },
  {
   "cell_type": "code",
   "execution_count": 12,
   "metadata": {},
   "outputs": [
    {
     "name": "stderr",
     "output_type": "stream",
     "text": [
      "IncrementalExecutor::executeFunction: symbol '_ZN2cv6imreadERKNS_6StringEi' unresolved while linking function '_GLOBAL__sub_I_cling_module_13'!\n",
      "You are probably missing the definition of cv::imread(cv::String const&, int)\n",
      "Maybe you need to load the corresponding shared library?\n",
      "IncrementalExecutor::executeFunction: symbol '_ZN2cv6String8allocateEm' unresolved while linking function '_GLOBAL__sub_I_cling_module_13'!\n",
      "You are probably missing the definition of cv::String::allocate(unsigned long)\n",
      "Maybe you need to load the corresponding shared library?\n",
      "IncrementalExecutor::executeFunction: symbol '_ZN2cv6String10deallocateEv' unresolved while linking function '_GLOBAL__sub_I_cling_module_13'!\n",
      "You are probably missing the definition of cv::String::deallocate()\n",
      "Maybe you need to load the corresponding shared library?\n"
     ]
    },
    {
     "data": {
      "text/plain": []
     },
     "execution_count": 12,
     "metadata": {},
     "output_type": "execute_result"
    }
   ],
   "source": [
    "Mat im = imread(\"blob.jpg\", IMREAD_GRAYSCALE);"
   ]
  },
  {
   "cell_type": "code",
   "execution_count": 13,
   "metadata": {},
   "outputs": [
    {
     "name": "stderr",
     "output_type": "stream",
     "text": [
      "\u001b[1minput_line_16:2:6: \u001b[0m\u001b[0;1;31merror: \u001b[0m\u001b[1mno type named 'cout' in namespace 'std'\u001b[0m\n",
      "std::cout << \"flags : IMREAD_GRAYSCALE\" << std::endl;\n",
      "\u001b[0;1;32m~~~~~^\n",
      "\u001b[0m\u001b[1minput_line_16:2:11: \u001b[0m\u001b[0;1;31merror: \u001b[0m\u001b[1mexpected unqualified-id\u001b[0m\n",
      "std::cout << \"flags : IMREAD_GRAYSCALE\" << std::endl;\n",
      "\u001b[0;1;32m          ^\n",
      "\u001b[0m\u001b[1minput_line_16:3:6: \u001b[0m\u001b[0;1;31merror: \u001b[0m\u001b[1mno type named 'cout' in namespace 'std'\u001b[0m\n",
      "std::cout << \"Number of Channels : \" << im.channels() << \", depth : \" << type2str(im.depth()) << std::endl;\n",
      "\u001b[0;1;32m~~~~~^\n",
      "\u001b[0m\u001b[1minput_line_16:3:11: \u001b[0m\u001b[0;1;31merror: \u001b[0m\u001b[1mexpected unqualified-id\u001b[0m\n",
      "std::cout << \"Number of Channels : \" << im.channels() << \", depth : \" << type2str(im.depth()) << std::endl;\n",
      "\u001b[0;1;32m          ^\n",
      "\u001b[0m"
     ]
    },
    {
     "ename": "ename",
     "evalue": "evalue",
     "output_type": "error",
     "traceback": []
    }
   ],
   "source": [
    "\n",
    "std::cout << \"flags : IMREAD_GRAYSCALE\" << std::endl;\n",
    "std::cout << \"Number of Channels : \" << im.channels() << \", depth : \" << type2str(im.depth()) << std::endl;"
   ]
  }
 ],
 "metadata": {
  "kernelspec": {
   "display_name": "C++11",
   "language": "C++",
   "name": "cling-cpp11"
  },
  "language_info": {
   "codemirror_mode": "c++",
   "file_extension": ".c++",
   "mimetype": "text/x-c++src",
   "name": "c++"
  }
 },
 "nbformat": 4,
 "nbformat_minor": 2
}
