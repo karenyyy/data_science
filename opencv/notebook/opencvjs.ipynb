{
 "cells": [
  {
   "cell_type": "code",
   "execution_count": 4,
   "metadata": {},
   "outputs": [
    {
     "ename": "SyntaxError",
     "evalue": "Unexpected token <",
     "output_type": "error",
     "traceback": [
      "evalmachine.<anonymous>:1",
      " <video width=\"320\" height=\"240\" controls>",
      " ^",
      "",
      "SyntaxError: Unexpected token <",
      "    at createScript (vm.js:80:10)",
      "    at Object.runInThisContext (vm.js:139:10)",
      "    at run ([eval]:1002:15)",
      "    at onRunRequest ([eval]:829:18)",
      "    at onMessage ([eval]:789:13)",
      "    at emitTwo (events.js:126:13)",
      "    at process.emit (events.js:214:7)",
      "    at emit (internal/child_process.js:772:12)",
      "    at _combinedTickCallback (internal/process/next_tick.js:141:11)",
      "    at process._tickCallback (internal/process/next_tick.js:180:9)"
     ]
    }
   ],
   "source": [
    " <video width=\"320\" height=\"240\" controls>\n",
    "  <source src=\"movie.mp4\" type=\"video/mp4\">\n",
    "  <source src=\"movie.ogg\" type=\"video/ogg\">\n",
    "Your browser does not support the video tag.\n",
    "</video> "
   ]
  },
  {
   "cell_type": "code",
   "execution_count": null,
   "metadata": {},
   "outputs": [],
   "source": [
    "let video = document.getElementById('videoInput');\n",
    "let cap = new cv.VideoCapture(video);\n",
    "\n",
    "let frame = new cv.Mat(video.height, video.width, cv.CV_8UC4);\n",
    "let fgmask = new cv.Mat(video.height, video.width, cv.CV_8UC1);\n",
    "let fgbg = new cv.BackgroundSubtractorMOG2(500, 16, true);\n",
    "\n",
    "const FPS = 30;\n",
    "function processVideo() {\n",
    "    try {\n",
    "        if (!streaming) {\n",
    "            // clean and stop.\n",
    "            frame.delete(); fgmask.delete(); fgbg.delete();\n",
    "            return;\n",
    "        }\n",
    "        let begin = Date.now();\n",
    "        // start processing.\n",
    "        cap.read(frame);\n",
    "        fgbg.apply(frame, fgmask);\n",
    "        cv.imshow('canvasOutput', fgmask);\n",
    "        // schedule the next one.\n",
    "        let delay = 1000/FPS - (Date.now() - begin);\n",
    "        setTimeout(processVideo, delay);\n",
    "    } catch (err) {\n",
    "        utils.printError(err);\n",
    "    }\n",
    "};\n",
    "\n",
    "// schedule the first one.\n",
    "setTimeout(processVideo, 0);"
   ]
  }
 ],
 "metadata": {
  "kernelspec": {
   "display_name": "Javascript (Node.js)",
   "language": "javascript",
   "name": "javascript"
  },
  "language_info": {
   "file_extension": ".js",
   "mimetype": "application/javascript",
   "name": "javascript",
   "version": "8.9.1"
  },
  "latex_envs": {
   "LaTeX_envs_menu_present": true,
   "autoclose": false,
   "autocomplete": true,
   "bibliofile": "biblio.bib",
   "cite_by": "apalike",
   "current_citInitial": 1,
   "eqLabelWithNumbers": true,
   "eqNumInitial": 1,
   "hotkeys": {
    "equation": "Ctrl-E",
    "itemize": "Ctrl-I"
   },
   "labels_anchors": false,
   "latex_user_defs": false,
   "report_style_numbering": false,
   "user_envs_cfg": false
  }
 },
 "nbformat": 4,
 "nbformat_minor": 2
}
