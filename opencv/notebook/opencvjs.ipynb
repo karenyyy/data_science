{
 "cells": [
  {
   "cell_type": "code",
   "execution_count": 1,
   "metadata": {},
   "outputs": [
    {
     "ename": "Javascript Error",
     "evalue": "document is not defined",
     "output_type": "error",
     "traceback": [
      "evalmachine.<anonymous>:1\nlet video = document.getElementById('videoInput');\n            ^\n\nReferenceError: document is not defined\n    at evalmachine.<anonymous>:1:13\n    at ContextifyScript.Script.runInContext (vm.js:59:29)\n    at Object.runInContext (vm.js:120:6)\n    at Context.rawRun (/home/karen/jupyter-nodejs/build/context.js:184:30)\n    at Domain.<anonymous> (/home/karen/jupyter-nodejs/build/context.js:204:27)\n    at Domain.run (domain.js:242:14)\n    at Context.rawEvaluate (/home/karen/jupyter-nodejs/build/context.js:202:9)\n    at Context.execute (/home/karen/jupyter-nodejs/build/context.js:354:21)\n    at Kernel.executeRequest (/home/karen/jupyter-nodejs/build/kernel.js:224:16)\n    at Kernel.onShell (/home/karen/jupyter-nodejs/build/kernel.js:126:14)"
     ]
    }
   ],
   "source": [
    "let video = document.getElementById('videoInput');\n",
    "let cap = new cv.VideoCapture(video);\n",
    "\n",
    "let frame = new cv.Mat(video.height, video.width, cv.CV_8UC4);\n",
    "let fgmask = new cv.Mat(video.height, video.width, cv.CV_8UC1);\n",
    "let fgbg = new cv.BackgroundSubtractorMOG2(500, 16, true);\n",
    "\n",
    "const FPS = 30;\n",
    "function processVideo() {\n",
    "    try {\n",
    "        if (!streaming) {\n",
    "            // clean and stop.\n",
    "            frame.delete(); fgmask.delete(); fgbg.delete();\n",
    "            return;\n",
    "        }\n",
    "        let begin = Date.now();\n",
    "        // start processing.\n",
    "        cap.read(frame);\n",
    "        fgbg.apply(frame, fgmask);\n",
    "        cv.imshow('canvasOutput', fgmask);\n",
    "        // schedule the next one.\n",
    "        let delay = 1000/FPS - (Date.now() - begin);\n",
    "        setTimeout(processVideo, delay);\n",
    "    } catch (err) {\n",
    "        utils.printError(err);\n",
    "    }\n",
    "};\n",
    "\n",
    "// schedule the first one.\n",
    "setTimeout(processVideo, 0);"
   ]
  },
  {
   "cell_type": "code",
   "execution_count": null,
   "metadata": {},
   "outputs": [],
   "source": []
  }
 ],
 "metadata": {
  "kernelspec": {
   "display_name": "NodeJS",
   "language": "javascript",
   "name": "nodejs"
  },
  "language_info": {
   "codemirror_mode": "javascript",
   "file_extension": ".js",
   "mimetype": "text/javascript",
   "name": "nodejs",
   "pygments_lexer": "javascript",
   "version": "0.10"
  },
  "latex_envs": {
   "LaTeX_envs_menu_present": true,
   "autoclose": false,
   "autocomplete": true,
   "bibliofile": "biblio.bib",
   "cite_by": "apalike",
   "current_citInitial": 1,
   "eqLabelWithNumbers": true,
   "eqNumInitial": 1,
   "hotkeys": {
    "equation": "Ctrl-E",
    "itemize": "Ctrl-I"
   },
   "labels_anchors": false,
   "latex_user_defs": false,
   "report_style_numbering": false,
   "user_envs_cfg": false
  }
 },
 "nbformat": 4,
 "nbformat_minor": 2
}
