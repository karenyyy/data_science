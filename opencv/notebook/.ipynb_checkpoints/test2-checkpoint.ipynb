{
 "cells": [
  {
   "cell_type": "code",
   "execution_count": 3,
   "metadata": {},
   "outputs": [
    {
     "name": "stderr",
     "output_type": "stream",
     "text": [
      "Using raw input\n"
     ]
    },
    {
     "data": {
      "text/plain": []
     },
     "execution_count": 3,
     "metadata": {},
     "output_type": "execute_result"
    }
   ],
   "source": [
    ".rawInput"
   ]
  },
  {
   "cell_type": "code",
   "execution_count": 8,
   "metadata": {},
   "outputs": [
    {
     "name": "stderr",
     "output_type": "stream",
     "text": [
      "\u001b[1minput_line_10:2:1: \u001b[0m\u001b[0;1;31merror: \u001b[0m\u001b[1mcannot use dot operator on a type\u001b[0m\n",
      ".L /usr/lib/libopencv_highgui.so\n",
      "\u001b[0;1;32m^\n",
      "\u001b[0m\u001b[1minput_line_10:21:1: \u001b[0m\u001b[0;1;31merror: \u001b[0m\u001b[1munknown type name 'cvSetZero'\u001b[0m\n",
      "cvZero(img);\n",
      "\u001b[0;1;32m^\n",
      "\u001b[0m\u001b[1m/usr/local/include/opencv2/core/core_c.h:980:17: \u001b[0m\u001b[0;1;30mnote: \u001b[0mexpanded from macro 'cvZero'\u001b[0m\n",
      "#define cvZero  cvSetZero\n",
      "\u001b[0;1;32m                ^\n",
      "\u001b[0m\u001b[1minput_line_10:27:1: \u001b[0m\u001b[0;1;31merror: \u001b[0m\u001b[1munknown type name 'clog'\u001b[0m\n",
      "clog << arcStart << \" \" << arcEnd << endl;\n",
      "\u001b[0;1;32m^\n",
      "\u001b[0m\u001b[1minput_line_10:27:6: \u001b[0m\u001b[0;1;31merror: \u001b[0m\u001b[1mexpected unqualified-id\u001b[0m\n",
      "clog << arcStart << \" \" << arcEnd << endl;\n",
      "\u001b[0;1;32m     ^\n",
      "\u001b[0m\u001b[1minput_line_10:29:1: \u001b[0m\u001b[0;1;31merror: \u001b[0m\u001b[1mC++ requires a type specifier for all declarations\u001b[0m\n",
      "cvEllipse(img, center, size, angle, 0, 360, cvRealScalar(128), 1);\n",
      "\u001b[0;1;32m^\n",
      "\u001b[0m\u001b[1minput_line_10:30:1: \u001b[0m\u001b[0;1;31merror: \u001b[0m\u001b[1mC++ requires a type specifier for all declarations\u001b[0m\n",
      "cvEllipse(img, center, size, angle, 0, 90,  cvRealScalar(255), 2);\n",
      "\u001b[0;1;32m^\n",
      "\u001b[0m\u001b[1minput_line_10:31:1: \u001b[0m\u001b[0;1;31merror: \u001b[0m\u001b[1mC++ requires a type specifier for all declarations\u001b[0m\n",
      "cvEllipse(img, center, size, angle, arcStart, arcEnd, cvRealScalar(128), 2);\n",
      "\u001b[0;1;32m^\n",
      "\u001b[0m\u001b[1minput_line_10:32:1: \u001b[0m\u001b[0;1;31merror: \u001b[0m\u001b[1mC++ requires a type specifier for all declarations\u001b[0m\n",
      "cvLine(img, center, cvPoint(1*m, 3*m), cvRealScalar(255), 1);\n",
      "\u001b[0;1;32m^\n",
      "\u001b[0m\u001b[1minput_line_10:33:1: \u001b[0m\u001b[0;1;31merror: \u001b[0m\u001b[1mC++ requires a type specifier for all declarations\u001b[0m\n",
      "cvLine(img, center, cvPoint(3*m, 9*m), cvRealScalar(255), 1);\n",
      "\u001b[0;1;32m^\n",
      "\u001b[0m\u001b[1minput_line_10:34:1: \u001b[0m\u001b[0;1;31merror: \u001b[0m\u001b[1mC++ requires a type specifier for all declarations\u001b[0m\n",
      "cvShowImage(\"test\", img);\n",
      "\u001b[0;1;32m^\n",
      "\u001b[0m\u001b[1minput_line_10:35:1: \u001b[0m\u001b[0;1;31merror: \u001b[0m\u001b[1mC++ requires a type specifier for all declarations\u001b[0m\n",
      "cvWaitKey(0);\n",
      "\u001b[0;1;32m^\n",
      "\u001b[0m\u001b[1minput_line_10:36:1: \u001b[0m\u001b[0;1;31merror: \u001b[0m\u001b[1munknown type name 'cvReleaseImage'\u001b[0m\n",
      "cvReleaseImage(&img);\n",
      "\u001b[0;1;32m^\n",
      "\u001b[0m\u001b[1minput_line_10:36:17: \u001b[0m\u001b[0;1;31merror: \u001b[0m\u001b[1mdeclaration of reference variable 'img' requires an initializer\u001b[0m\n",
      "cvReleaseImage(&img);\n",
      "\u001b[0;1;32m                ^~~\n",
      "\u001b[0m"
     ]
    },
    {
     "ename": "ename",
     "evalue": "evalue",
     "output_type": "error",
     "traceback": []
    }
   ],
   "source": [
    "\n",
    "#include <opencv/highgui.h>\n",
    "#include <math.h>\n",
    "#include <iostream>\n",
    "\n",
    "using namespace std;\n",
    "\n",
    "template <typename T> T deg2rad(T deg) { return deg*M_PI/180.0; }\n",
    "template <typename T> T rad2deg(T rad) { return rad*180.0/M_PI; }\n",
    "template <typename T> T toCircleAngle(T angleOnEllipse, cv::Size_<T> axis) {\n",
    "  return atan(axis.width*tan(angleOnEllipse)/axis.height);\n",
    "}\n",
    "template <> int toCircleAngle(int angleOnEllipse, cv::Size axis) {\n",
    "  return rad2deg(toCircleAngle<double>(deg2rad((double)angleOnEllipse), cv::Size2d(axis.width, axis.height)));\n",
    "}\n",
    "\n",
    "int m = 50;\n",
    "IplImage* img = cvCreateImage(cvSize(16*m, 15*m), IPL_DEPTH_8U, 1);\n",
    "cvZero(img);\n",
    "CvPoint center = cvPoint(8*m, 7*m);\n",
    "CvSize size = cvSize(5*m, 8*m);\n",
    "double angle = 126.0;\n",
    "double arcStart = toCircleAngle<int>(30, size);\n",
    "double arcEnd = toCircleAngle<int>(83, size);\n",
    "clog << arcStart << \" \" << arcEnd << endl;\n",
    "\n",
    "cvEllipse(img, center, size, angle, 0, 360, cvRealScalar(128), 1);\n",
    "cvEllipse(img, center, size, angle, 0, 90,  cvRealScalar(255), 2);\n",
    "cvEllipse(img, center, size, angle, arcStart, arcEnd, cvRealScalar(128), 2);\n",
    "cvLine(img, center, cvPoint(1*m, 3*m), cvRealScalar(255), 1);\n",
    "cvLine(img, center, cvPoint(3*m, 9*m), cvRealScalar(255), 1);\n",
    "cvShowImage(\"test\", img);\n",
    "cvWaitKey(0);\n",
    "cvReleaseImage(&img);"
   ]
  },
  {
   "cell_type": "code",
   "execution_count": null,
   "metadata": {},
   "outputs": [],
   "source": []
  }
 ],
 "metadata": {
  "kernelspec": {
   "display_name": "C++14",
   "language": "C++",
   "name": "cling-cpp14"
  },
  "language_info": {
   "codemirror_mode": "c++",
   "file_extension": ".c++",
   "mimetype": "text/x-c++src",
   "name": "c++"
  }
 },
 "nbformat": 4,
 "nbformat_minor": 2
}
