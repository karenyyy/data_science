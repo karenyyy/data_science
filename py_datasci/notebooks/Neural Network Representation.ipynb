{
 "cells": [
  {
   "cell_type": "markdown",
   "metadata": {},
   "source": [
    "## Non Linear Hypothesis\n",
    "\n",
    "![](../images/22924.png)\n",
    "\n",
    "\n",
    "\n",
    "$$\\text{Thus quadratic features  } (x_i \\times x_j) \\approx \\text{  3 million features}$$\n",
    "\n",
    "### =================================================\n",
    "![](../images/22925.png)\n",
    "\n",
    "### Example: practice NN with logical relations:\n",
    "\n",
    "### AND\n",
    "![](../images/22926.png)\n",
    "\n",
    "\n",
    "\n",
    "### OR\n",
    "\n",
    "![](../images/22927.png)\n",
    "\n",
    "\n",
    "### XNOR\n",
    "\n",
    "![](../images/22928.png)\n",
    "\n",
    "\n",
    "\n",
    "## Multiple class prediction\n",
    "![](../images/22930.png)\n",
    "\n",
    "\n"
   ]
  }
 ],
 "metadata": {
  "kernelspec": {
   "display_name": "Python 3",
   "language": "python",
   "name": "python3"
  },
  "language_info": {
   "codemirror_mode": {
    "name": "ipython",
    "version": 3
   },
   "file_extension": ".py",
   "mimetype": "text/x-python",
   "name": "python",
   "nbconvert_exporter": "python",
   "pygments_lexer": "ipython3",
   "version": "3.5.2"
  }
 },
 "nbformat": 4,
 "nbformat_minor": 2
}
