{
 "cells": [
  {
   "cell_type": "code",
   "execution_count": 26,
   "metadata": {},
   "outputs": [
    {
     "name": "stdout",
     "output_type": "stream",
     "text": [
      "Enter url: https://indico.io/blog/visualizing-with-t-sne/\n",
      "Enter save path: /home/karen/Desktop/test.html\n"
     ]
    }
   ],
   "source": [
    "from selenium import webdriver\n",
    "from bs4 import BeautifulSoup\n",
    "\n",
    "PATH=input(\"Enter url: \")\n",
    "SAVE_PATH=input(\"Enter save path: \")\n",
    "driver=webdriver.Chrome()\n",
    "driver.get(PATH)\n",
    "html_src=driver.page_source\n",
    "soup=BeautifulSoup(html_src, 'lxml')\n",
    "\n",
    "with open(SAVE_PATH, 'w') as file:\n",
    "    file.write(soup.prettify())\n",
    "driver.quit()"
   ]
  },
  {
   "cell_type": "code",
   "execution_count": 10,
   "metadata": {},
   "outputs": [],
   "source": []
  },
  {
   "cell_type": "code",
   "execution_count": null,
   "metadata": {},
   "outputs": [],
   "source": []
  }
 ],
 "metadata": {
  "kernelspec": {
   "display_name": "Python 3",
   "language": "python",
   "name": "python3"
  },
  "language_info": {
   "codemirror_mode": {
    "name": "ipython",
    "version": 3
   },
   "file_extension": ".py",
   "mimetype": "text/x-python",
   "name": "python",
   "nbconvert_exporter": "python",
   "pygments_lexer": "ipython3",
   "version": "3.5.2"
  }
 },
 "nbformat": 4,
 "nbformat_minor": 2
}
