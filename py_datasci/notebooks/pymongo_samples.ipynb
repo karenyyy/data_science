{
 "cells": [
  {
   "cell_type": "code",
   "execution_count": 82,
   "metadata": {},
   "outputs": [],
   "source": [
    "import pymongo\n",
    "import datetime\n",
    "from pymongo import MongoClient\n",
    "from pprint import pprint"
   ]
  },
  {
   "cell_type": "code",
   "execution_count": 83,
   "metadata": {},
   "outputs": [],
   "source": [
    "client = MongoClient(\"localhost\", 27017)\n",
    "db = client.mydb2"
   ]
  },
  {
   "cell_type": "code",
   "execution_count": 101,
   "metadata": {},
   "outputs": [
    {
     "name": "stdout",
     "output_type": "stream",
     "text": [
      "{'_id': ObjectId('5a8b2beb11b3f0fe16ce5f58'),\n",
      " 'dob': datetime.datetime(1992, 3, 13, 12, 47),\n",
      " 'gender': 'm',\n",
      " 'loves': ['carrot', 'papaya'],\n",
      " 'name': 'Horny',\n",
      " 'vaccinated': True,\n",
      " 'vampires': 63.0,\n",
      " 'weight': 600.0}\n",
      "{'_id': ObjectId('5a8b2c0511b3f0fe16ce5f59'),\n",
      " 'dob': datetime.datetime(1991, 1, 24, 18, 0),\n",
      " 'gender': 'f',\n",
      " 'loves': ['carrot', 'grape'],\n",
      " 'name': 'Aurora',\n",
      " 'vaccinated': True,\n",
      " 'vampires': 43.0,\n",
      " 'weight': 450.0}\n",
      "{'_id': ObjectId('5a8b2c2811b3f0fe16ce5f5a'),\n",
      " 'dob': datetime.datetime(1973, 2, 10, 3, 10),\n",
      " 'gender': 'm',\n",
      " 'loves': ['energon', 'redbull'],\n",
      " 'name': 'Unicrom',\n",
      " 'vaccinated': True,\n",
      " 'vampires': 182.0,\n",
      " 'weight': 984.0}\n",
      "{'_id': ObjectId('5a8b2ddf2662b8ba6ebba3ea'),\n",
      " 'dob': datetime.datetime(1992, 3, 13, 12, 47),\n",
      " 'gender': 'm',\n",
      " 'loves': ['carrot', 'papaya'],\n",
      " 'name': 'Horny',\n",
      " 'vaccinated': True,\n",
      " 'vampires': 63.0,\n",
      " 'weight': 600.0}\n",
      "{'_id': ObjectId('5a8b2e6c5f41dbf57f959605'),\n",
      " 'dob': datetime.datetime(1992, 3, 13, 12, 47),\n",
      " 'gender': 'm',\n",
      " 'loves': ['carrot', 'papaya'],\n",
      " 'name': 'Horny',\n",
      " 'vaccinated': True,\n",
      " 'vampires': 63.0,\n",
      " 'weight': 600.0}\n",
      "{'_id': ObjectId('5a8b2e6c5f41dbf57f959606'),\n",
      " 'dob': datetime.datetime(1991, 1, 24, 18, 0),\n",
      " 'gender': 'f',\n",
      " 'loves': ['carrot', 'grape'],\n",
      " 'name': 'Aurora',\n",
      " 'vaccinated': True,\n",
      " 'vampires': 43.0,\n",
      " 'weight': 450.0}\n",
      "{'_id': ObjectId('5a8b2e6c5f41dbf57f959607'),\n",
      " 'dob': datetime.datetime(1973, 2, 10, 3, 10),\n",
      " 'gender': 'm',\n",
      " 'loves': ['energon', 'redbull'],\n",
      " 'name': 'Unicrom',\n",
      " 'vaccinated': True,\n",
      " 'vampires': 182.0,\n",
      " 'weight': 984.0}\n",
      "{'_id': ObjectId('5a8b2e6c5f41dbf57f959608'),\n",
      " 'dob': datetime.datetime(1979, 7, 18, 18, 44),\n",
      " 'eggs': 1,\n",
      " 'gender': 'm',\n",
      " 'loves': ['apple', 'carrot', 'apple', 'durian'],\n",
      " 'name': 'Roooooodles',\n",
      " 'vaccinated': True,\n",
      " 'vampires': 103.0,\n",
      " 'weight': 590.0}\n",
      "{'_id': ObjectId('5a8b2e6c5f41dbf57f959609'),\n",
      " 'dob': datetime.datetime(1985, 7, 4, 6, 1),\n",
      " 'gender': 'f',\n",
      " 'loves': ['apple', 'carrot', 'chocolate'],\n",
      " 'name': 'Solnara',\n",
      " 'vaccinated': True,\n",
      " 'vampires': 80.0,\n",
      " 'weight': 550.0}\n",
      "{'_id': ObjectId('5a8b2e6c5f41dbf57f95960a'),\n",
      " 'dob': datetime.datetime(1998, 3, 7, 13, 30),\n",
      " 'gender': 'f',\n",
      " 'loves': ['strawberry', 'lemon'],\n",
      " 'name': 'Ayna',\n",
      " 'vaccinated': True,\n",
      " 'vampires': 40.0,\n",
      " 'weight': 733.0}\n",
      "{'_id': ObjectId('5a8b2e6c5f41dbf57f95960b'),\n",
      " 'dob': datetime.datetime(1997, 7, 1, 14, 42),\n",
      " 'gender': 'm',\n",
      " 'loves': ['grape', 'lemon'],\n",
      " 'name': 'Kenny',\n",
      " 'vaccinated': True,\n",
      " 'vampires': 39.0,\n",
      " 'weight': 690.0}\n",
      "{'_id': ObjectId('5a8b2e6c5f41dbf57f95960c'),\n",
      " 'dob': datetime.datetime(2005, 5, 3, 4, 57),\n",
      " 'gender': 'm',\n",
      " 'loves': ['apple', 'sugar'],\n",
      " 'name': 'Raleigh',\n",
      " 'vaccinated': True,\n",
      " 'vampires': 2.0,\n",
      " 'weight': 421.0}\n",
      "{'_id': ObjectId('5a8b2e6c5f41dbf57f95960d'),\n",
      " 'dob': datetime.datetime(2001, 10, 8, 18, 53),\n",
      " 'gender': 'f',\n",
      " 'loves': ['apple', 'watermelon'],\n",
      " 'name': 'Leia',\n",
      " 'vaccinated': True,\n",
      " 'vampires': 33.0,\n",
      " 'weight': 601.0}\n",
      "{'_id': ObjectId('5a8b2e6c5f41dbf57f95960e'),\n",
      " 'dob': datetime.datetime(1997, 3, 1, 10, 3),\n",
      " 'gender': 'm',\n",
      " 'loves': ['apple', 'watermelon'],\n",
      " 'name': 'Pilot',\n",
      " 'vaccinated': True,\n",
      " 'vampires': 54.0,\n",
      " 'weight': 650.0}\n",
      "{'_id': ObjectId('5a8b2e6c5f41dbf57f95960f'),\n",
      " 'dob': datetime.datetime(1999, 12, 20, 21, 15),\n",
      " 'gender': 'f',\n",
      " 'loves': ['grape', 'carrot'],\n",
      " 'name': 'Nimue',\n",
      " 'vaccinated': True,\n",
      " 'weight': 540.0}\n",
      "{'_id': ObjectId('5a8b2e6c5f41dbf57f959610'),\n",
      " 'dob': datetime.datetime(1976, 7, 18, 22, 18),\n",
      " 'gender': 'm',\n",
      " 'loves': ['grape', 'watermelon'],\n",
      " 'name': 'Dunx',\n",
      " 'vaccinated': True,\n",
      " 'vampires': 165.0,\n",
      " 'weight': 704.0}\n"
     ]
    }
   ],
   "source": [
    "db.collection_names(include_system_collections=False)\n",
    "for i in db.mydb2.find():\n",
    "    pprint(i)"
   ]
  },
  {
   "cell_type": "code",
   "execution_count": 85,
   "metadata": {},
   "outputs": [
    {
     "name": "stdout",
     "output_type": "stream",
     "text": [
      "{'_id': ObjectId('5a8b2beb11b3f0fe16ce5f58'),\n",
      " 'dob': datetime.datetime(1992, 3, 13, 12, 47),\n",
      " 'gender': 'm',\n",
      " 'loves': ['carrot', 'papaya'],\n",
      " 'name': 'Horny',\n",
      " 'vaccinated': True,\n",
      " 'vampires': 63.0,\n",
      " 'weight': 600.0}\n",
      "{'_id': ObjectId('5a8b2c2811b3f0fe16ce5f5a'),\n",
      " 'dob': datetime.datetime(1973, 2, 10, 3, 10),\n",
      " 'gender': 'm',\n",
      " 'loves': ['energon', 'redbull'],\n",
      " 'name': 'Unicrom',\n",
      " 'vaccinated': True,\n",
      " 'vampires': 182.0,\n",
      " 'weight': 984.0}\n",
      "{'_id': ObjectId('5a8b2ddf2662b8ba6ebba3ea'),\n",
      " 'dob': datetime.datetime(1992, 3, 13, 12, 47),\n",
      " 'gender': 'm',\n",
      " 'loves': ['carrot', 'papaya'],\n",
      " 'name': 'Horny',\n",
      " 'vaccinated': True,\n",
      " 'vampires': 63.0,\n",
      " 'weight': 600.0}\n",
      "{'_id': ObjectId('5a8b2e6c5f41dbf57f959605'),\n",
      " 'dob': datetime.datetime(1992, 3, 13, 12, 47),\n",
      " 'gender': 'm',\n",
      " 'loves': ['carrot', 'papaya'],\n",
      " 'name': 'Horny',\n",
      " 'vaccinated': True,\n",
      " 'vampires': 63.0,\n",
      " 'weight': 600.0}\n",
      "{'_id': ObjectId('5a8b2e6c5f41dbf57f959607'),\n",
      " 'dob': datetime.datetime(1973, 2, 10, 3, 10),\n",
      " 'gender': 'm',\n",
      " 'loves': ['energon', 'redbull'],\n",
      " 'name': 'Unicrom',\n",
      " 'vaccinated': True,\n",
      " 'vampires': 182.0,\n",
      " 'weight': 984.0}\n",
      "{'_id': ObjectId('5a8b2e6c5f41dbf57f959608'),\n",
      " 'dob': datetime.datetime(1979, 7, 18, 18, 44),\n",
      " 'eggs': 1,\n",
      " 'gender': 'm',\n",
      " 'loves': ['apple', 'apple', 'durian'],\n",
      " 'name': 'Roooooodles',\n",
      " 'vaccinated': True,\n",
      " 'vampires': 105.0,\n",
      " 'weight': 590.0}\n",
      "{'_id': ObjectId('5a8b2e6c5f41dbf57f95960b'),\n",
      " 'dob': datetime.datetime(1997, 7, 1, 14, 42),\n",
      " 'gender': 'm',\n",
      " 'loves': ['grape', 'lemon'],\n",
      " 'name': 'Kenny',\n",
      " 'vaccinated': True,\n",
      " 'vampires': 39.0,\n",
      " 'weight': 690.0}\n",
      "{'_id': ObjectId('5a8b2e6c5f41dbf57f95960c'),\n",
      " 'dob': datetime.datetime(2005, 5, 3, 4, 57),\n",
      " 'gender': 'm',\n",
      " 'loves': ['apple', 'sugar'],\n",
      " 'name': 'Raleigh',\n",
      " 'vaccinated': True,\n",
      " 'vampires': 2.0,\n",
      " 'weight': 421.0}\n",
      "{'_id': ObjectId('5a8b2e6c5f41dbf57f95960e'),\n",
      " 'dob': datetime.datetime(1997, 3, 1, 10, 3),\n",
      " 'gender': 'm',\n",
      " 'loves': ['apple', 'watermelon'],\n",
      " 'name': 'Pilot',\n",
      " 'vaccinated': True,\n",
      " 'vampires': 54.0,\n",
      " 'weight': 650.0}\n",
      "{'_id': ObjectId('5a8b2e6c5f41dbf57f959610'),\n",
      " 'dob': datetime.datetime(1976, 7, 18, 22, 18),\n",
      " 'gender': 'm',\n",
      " 'loves': ['grape', 'watermelon'],\n",
      " 'name': 'Dunx',\n",
      " 'vaccinated': True,\n",
      " 'vampires': 165.0,\n",
      " 'weight': 704.0}\n"
     ]
    }
   ],
   "source": [
    "for doc in db.mydb2.find({'gender': 'm'}):\n",
    "    pprint(doc)"
   ]
  },
  {
   "cell_type": "code",
   "execution_count": 86,
   "metadata": {},
   "outputs": [
    {
     "name": "stdout",
     "output_type": "stream",
     "text": [
      "{'_id': ObjectId('5a8b2c2811b3f0fe16ce5f5a'),\n",
      " 'dob': datetime.datetime(1973, 2, 10, 3, 10),\n",
      " 'gender': 'm',\n",
      " 'loves': ['energon', 'redbull'],\n",
      " 'name': 'Unicrom',\n",
      " 'vaccinated': True,\n",
      " 'vampires': 182.0,\n",
      " 'weight': 984.0}\n",
      "{'_id': ObjectId('5a8b2e6c5f41dbf57f959607'),\n",
      " 'dob': datetime.datetime(1973, 2, 10, 3, 10),\n",
      " 'gender': 'm',\n",
      " 'loves': ['energon', 'redbull'],\n",
      " 'name': 'Unicrom',\n",
      " 'vaccinated': True,\n",
      " 'vampires': 182.0,\n",
      " 'weight': 984.0}\n",
      "{'_id': ObjectId('5a8b2e6c5f41dbf57f959610'),\n",
      " 'dob': datetime.datetime(1976, 7, 18, 22, 18),\n",
      " 'gender': 'm',\n",
      " 'loves': ['grape', 'watermelon'],\n",
      " 'name': 'Dunx',\n",
      " 'vaccinated': True,\n",
      " 'vampires': 165.0,\n",
      " 'weight': 704.0}\n"
     ]
    }
   ],
   "source": [
    "for doc in db.mydb2.find({'gender': 'm', 'weight': {'$gt': 700}}):\n",
    "    pprint(doc)"
   ]
  },
  {
   "cell_type": "code",
   "execution_count": 87,
   "metadata": {},
   "outputs": [
    {
     "data": {
      "text/plain": [
       "{'_id': ObjectId('5a8b2e6c5f41dbf57f959608'),\n",
       " 'dob': datetime.datetime(1979, 7, 18, 18, 44),\n",
       " 'eggs': 1,\n",
       " 'gender': 'm',\n",
       " 'loves': ['apple', 'apple', 'durian'],\n",
       " 'name': 'Roooooodles',\n",
       " 'vaccinated': True,\n",
       " 'vampires': 105.0,\n",
       " 'weight': 590.0}"
      ]
     },
     "execution_count": 87,
     "metadata": {},
     "output_type": "execute_result"
    }
   ],
   "source": [
    "db.mydb2.find_one({'name': 'Roooooodles'})"
   ]
  },
  {
   "cell_type": "code",
   "execution_count": 88,
   "metadata": {},
   "outputs": [
    {
     "name": "stderr",
     "output_type": "stream",
     "text": [
      "/home/karen/.local/lib/python3.5/site-packages/ipykernel_launcher.py:1: DeprecationWarning: update is deprecated. Use replace_one, update_one or update_many instead.\n",
      "  \"\"\"Entry point for launching an IPython kernel.\n"
     ]
    },
    {
     "data": {
      "text/plain": [
       "{'n': 1, 'nModified': 1, 'ok': 1, 'updatedExisting': True}"
      ]
     },
     "execution_count": 88,
     "metadata": {},
     "output_type": "execute_result"
    }
   ],
   "source": [
    "db.mydb2.update({'name': 'Roooooodles'}, {'weight': 590.0})"
   ]
  },
  {
   "cell_type": "code",
   "execution_count": 89,
   "metadata": {},
   "outputs": [
    {
     "name": "stderr",
     "output_type": "stream",
     "text": [
      "/home/karen/.local/lib/python3.5/site-packages/ipykernel_launcher.py:6: DeprecationWarning: update is deprecated. Use replace_one, update_one or update_many instead.\n",
      "  \n"
     ]
    },
    {
     "data": {
      "text/plain": [
       "{'n': 1, 'nModified': 1, 'ok': 1, 'updatedExisting': True}"
      ]
     },
     "execution_count": 89,
     "metadata": {},
     "output_type": "execute_result"
    }
   ],
   "source": [
    "db.mydb2.update({'weight': 590.0}, {'$set': {\n",
    "    'name': 'Roooooodles',\n",
    "    'dob': datetime.datetime(1979, 7, 18, 18, 44),\n",
    "    'loves': ['apple'],\n",
    "    'gender': 'm',\n",
    "'vampires': 99.0}})"
   ]
  },
  {
   "cell_type": "code",
   "execution_count": 90,
   "metadata": {},
   "outputs": [
    {
     "data": {
      "text/plain": [
       "{'_id': ObjectId('5a8b2e6c5f41dbf57f959608'),\n",
       " 'dob': datetime.datetime(1979, 7, 18, 18, 44),\n",
       " 'gender': 'm',\n",
       " 'loves': ['apple'],\n",
       " 'name': 'Roooooodles',\n",
       " 'vampires': 99.0,\n",
       " 'weight': 590.0}"
      ]
     },
     "execution_count": 90,
     "metadata": {},
     "output_type": "execute_result"
    }
   ],
   "source": [
    "db.mydb2.find_one({'name': 'Roooooodles'})"
   ]
  },
  {
   "cell_type": "code",
   "execution_count": 91,
   "metadata": {},
   "outputs": [
    {
     "name": "stderr",
     "output_type": "stream",
     "text": [
      "/home/karen/.local/lib/python3.5/site-packages/ipykernel_launcher.py:1: DeprecationWarning: update is deprecated. Use replace_one, update_one or update_many instead.\n",
      "  \"\"\"Entry point for launching an IPython kernel.\n"
     ]
    },
    {
     "data": {
      "text/plain": [
       "{'_id': ObjectId('5a8b2e6c5f41dbf57f959608'),\n",
       " 'dob': datetime.datetime(1979, 7, 18, 18, 44),\n",
       " 'gender': 'm',\n",
       " 'loves': ['apple'],\n",
       " 'name': 'Roooooodles',\n",
       " 'vampires': 97.0,\n",
       " 'weight': 590.0}"
      ]
     },
     "execution_count": 91,
     "metadata": {},
     "output_type": "execute_result"
    }
   ],
   "source": [
    "db.mydb2.update({'name': 'Roooooodles'}, {'$inc': {'vampires': -2}})\n",
    "db.mydb2.find_one({'name': 'Roooooodles'})"
   ]
  },
  {
   "cell_type": "code",
   "execution_count": 92,
   "metadata": {},
   "outputs": [
    {
     "name": "stderr",
     "output_type": "stream",
     "text": [
      "/home/karen/.local/lib/python3.5/site-packages/ipykernel_launcher.py:1: DeprecationWarning: update is deprecated. Use replace_one, update_one or update_many instead.\n",
      "  \"\"\"Entry point for launching an IPython kernel.\n"
     ]
    },
    {
     "data": {
      "text/plain": [
       "{'n': 1, 'nModified': 1, 'ok': 1, 'updatedExisting': True}"
      ]
     },
     "execution_count": 92,
     "metadata": {},
     "output_type": "execute_result"
    }
   ],
   "source": [
    "db.mydb2.update({'name': 'Roooooodles'}, {'$push': {'loves': 'carrot'}})"
   ]
  },
  {
   "cell_type": "code",
   "execution_count": 93,
   "metadata": {},
   "outputs": [
    {
     "data": {
      "text/plain": [
       "{'_id': ObjectId('5a8b2e6c5f41dbf57f959608'),\n",
       " 'dob': datetime.datetime(1979, 7, 18, 18, 44),\n",
       " 'gender': 'm',\n",
       " 'loves': ['apple', 'carrot'],\n",
       " 'name': 'Roooooodles',\n",
       " 'vampires': 97.0,\n",
       " 'weight': 590.0}"
      ]
     },
     "execution_count": 93,
     "metadata": {},
     "output_type": "execute_result"
    }
   ],
   "source": [
    "db.mydb2.find_one({'name': 'Roooooodles'})"
   ]
  },
  {
   "cell_type": "code",
   "execution_count": 94,
   "metadata": {},
   "outputs": [
    {
     "name": "stderr",
     "output_type": "stream",
     "text": [
      "/home/karen/.local/lib/python3.5/site-packages/ipykernel_launcher.py:1: DeprecationWarning: update is deprecated. Use replace_one, update_one or update_many instead.\n",
      "  \"\"\"Entry point for launching an IPython kernel.\n"
     ]
    },
    {
     "data": {
      "text/plain": [
       "{'_id': ObjectId('5a8b2e6c5f41dbf57f959608'),\n",
       " 'dob': datetime.datetime(1979, 7, 18, 18, 44),\n",
       " 'eggs': 1,\n",
       " 'gender': 'm',\n",
       " 'loves': ['apple', 'carrot', 'apple', 'durian'],\n",
       " 'name': 'Roooooodles',\n",
       " 'vampires': 103.0,\n",
       " 'weight': 590.0}"
      ]
     },
     "execution_count": 94,
     "metadata": {},
     "output_type": "execute_result"
    }
   ],
   "source": [
    "db.mydb2.update({'name': 'Roooooodles'}, {'$push': {'loves': {'$each': ['apple', 'durian']}}, '$inc': {'vampires': 6, 'eggs': 1}})\n",
    "db.mydb2.find_one({'name': 'Roooooodles'})"
   ]
  },
  {
   "cell_type": "code",
   "execution_count": 95,
   "metadata": {
    "scrolled": true
   },
   "outputs": [
    {
     "name": "stdout",
     "output_type": "stream",
     "text": [
      "{'_id': ObjectId('5a8b2beb11b3f0fe16ce5f58'),\n",
      " 'dob': datetime.datetime(1992, 3, 13, 12, 47),\n",
      " 'gender': 'm',\n",
      " 'loves': ['carrot', 'papaya'],\n",
      " 'name': 'Horny',\n",
      " 'vaccinated': True,\n",
      " 'vampires': 63.0,\n",
      " 'weight': 600.0}\n",
      "{'_id': ObjectId('5a8b2c0511b3f0fe16ce5f59'),\n",
      " 'dob': datetime.datetime(1991, 1, 24, 18, 0),\n",
      " 'gender': 'f',\n",
      " 'loves': ['carrot', 'grape'],\n",
      " 'name': 'Aurora',\n",
      " 'vaccinated': True,\n",
      " 'vampires': 43.0,\n",
      " 'weight': 450.0}\n",
      "{'_id': ObjectId('5a8b2c2811b3f0fe16ce5f5a'),\n",
      " 'dob': datetime.datetime(1973, 2, 10, 3, 10),\n",
      " 'gender': 'm',\n",
      " 'loves': ['energon', 'redbull'],\n",
      " 'name': 'Unicrom',\n",
      " 'vaccinated': True,\n",
      " 'vampires': 182.0,\n",
      " 'weight': 984.0}\n",
      "{'_id': ObjectId('5a8b2ddf2662b8ba6ebba3ea'),\n",
      " 'dob': datetime.datetime(1992, 3, 13, 12, 47),\n",
      " 'gender': 'm',\n",
      " 'loves': ['carrot', 'papaya'],\n",
      " 'name': 'Horny',\n",
      " 'vaccinated': True,\n",
      " 'vampires': 63.0,\n",
      " 'weight': 600.0}\n",
      "{'_id': ObjectId('5a8b2e6c5f41dbf57f959605'),\n",
      " 'dob': datetime.datetime(1992, 3, 13, 12, 47),\n",
      " 'gender': 'm',\n",
      " 'loves': ['carrot', 'papaya'],\n",
      " 'name': 'Horny',\n",
      " 'vaccinated': True,\n",
      " 'vampires': 63.0,\n",
      " 'weight': 600.0}\n",
      "{'_id': ObjectId('5a8b2e6c5f41dbf57f959606'),\n",
      " 'dob': datetime.datetime(1991, 1, 24, 18, 0),\n",
      " 'gender': 'f',\n",
      " 'loves': ['carrot', 'grape'],\n",
      " 'name': 'Aurora',\n",
      " 'vaccinated': True,\n",
      " 'vampires': 43.0,\n",
      " 'weight': 450.0}\n",
      "{'_id': ObjectId('5a8b2e6c5f41dbf57f959607'),\n",
      " 'dob': datetime.datetime(1973, 2, 10, 3, 10),\n",
      " 'gender': 'm',\n",
      " 'loves': ['energon', 'redbull'],\n",
      " 'name': 'Unicrom',\n",
      " 'vaccinated': True,\n",
      " 'vampires': 182.0,\n",
      " 'weight': 984.0}\n",
      "{'_id': ObjectId('5a8b2e6c5f41dbf57f959609'),\n",
      " 'dob': datetime.datetime(1985, 7, 4, 6, 1),\n",
      " 'gender': 'f',\n",
      " 'loves': ['apple', 'carrot', 'chocolate'],\n",
      " 'name': 'Solnara',\n",
      " 'vaccinated': True,\n",
      " 'vampires': 80.0,\n",
      " 'weight': 550.0}\n",
      "{'_id': ObjectId('5a8b2e6c5f41dbf57f95960a'),\n",
      " 'dob': datetime.datetime(1998, 3, 7, 13, 30),\n",
      " 'gender': 'f',\n",
      " 'loves': ['strawberry', 'lemon'],\n",
      " 'name': 'Ayna',\n",
      " 'vaccinated': True,\n",
      " 'vampires': 40.0,\n",
      " 'weight': 733.0}\n",
      "{'_id': ObjectId('5a8b2e6c5f41dbf57f95960b'),\n",
      " 'dob': datetime.datetime(1997, 7, 1, 14, 42),\n",
      " 'gender': 'm',\n",
      " 'loves': ['grape', 'lemon'],\n",
      " 'name': 'Kenny',\n",
      " 'vaccinated': True,\n",
      " 'vampires': 39.0,\n",
      " 'weight': 690.0}\n",
      "{'_id': ObjectId('5a8b2e6c5f41dbf57f95960c'),\n",
      " 'dob': datetime.datetime(2005, 5, 3, 4, 57),\n",
      " 'gender': 'm',\n",
      " 'loves': ['apple', 'sugar'],\n",
      " 'name': 'Raleigh',\n",
      " 'vaccinated': True,\n",
      " 'vampires': 2.0,\n",
      " 'weight': 421.0}\n",
      "{'_id': ObjectId('5a8b2e6c5f41dbf57f95960d'),\n",
      " 'dob': datetime.datetime(2001, 10, 8, 18, 53),\n",
      " 'gender': 'f',\n",
      " 'loves': ['apple', 'watermelon'],\n",
      " 'name': 'Leia',\n",
      " 'vaccinated': True,\n",
      " 'vampires': 33.0,\n",
      " 'weight': 601.0}\n",
      "{'_id': ObjectId('5a8b2e6c5f41dbf57f95960e'),\n",
      " 'dob': datetime.datetime(1997, 3, 1, 10, 3),\n",
      " 'gender': 'm',\n",
      " 'loves': ['apple', 'watermelon'],\n",
      " 'name': 'Pilot',\n",
      " 'vaccinated': True,\n",
      " 'vampires': 54.0,\n",
      " 'weight': 650.0}\n",
      "{'_id': ObjectId('5a8b2e6c5f41dbf57f95960f'),\n",
      " 'dob': datetime.datetime(1999, 12, 20, 21, 15),\n",
      " 'gender': 'f',\n",
      " 'loves': ['grape', 'carrot'],\n",
      " 'name': 'Nimue',\n",
      " 'vaccinated': True,\n",
      " 'weight': 540.0}\n",
      "{'_id': ObjectId('5a8b2e6c5f41dbf57f959610'),\n",
      " 'dob': datetime.datetime(1976, 7, 18, 22, 18),\n",
      " 'gender': 'm',\n",
      " 'loves': ['grape', 'watermelon'],\n",
      " 'name': 'Dunx',\n",
      " 'vaccinated': True,\n",
      " 'vampires': 165.0,\n",
      " 'weight': 704.0}\n"
     ]
    },
    {
     "name": "stderr",
     "output_type": "stream",
     "text": [
      "/home/karen/.local/lib/python3.5/site-packages/ipykernel_launcher.py:2: DeprecationWarning: update is deprecated. Use replace_one, update_one or update_many instead.\n",
      "  \n"
     ]
    }
   ],
   "source": [
    "# By default, update modifies just one document4\n",
    "db.mydb2.update({}, {'$set': {'vaccinated': True}})\n",
    "for i in db.mydb2.find({'vaccinated': True}):\n",
    "    pprint(i)"
   ]
  },
  {
   "cell_type": "code",
   "execution_count": 96,
   "metadata": {},
   "outputs": [
    {
     "name": "stdout",
     "output_type": "stream",
     "text": [
      "{'_id': ObjectId('5a8b2beb11b3f0fe16ce5f58'),\n",
      " 'dob': datetime.datetime(1992, 3, 13, 12, 47),\n",
      " 'gender': 'm',\n",
      " 'loves': ['carrot', 'papaya'],\n",
      " 'name': 'Horny',\n",
      " 'vaccinated': True,\n",
      " 'vampires': 63.0,\n",
      " 'weight': 600.0}\n",
      "{'_id': ObjectId('5a8b2c0511b3f0fe16ce5f59'),\n",
      " 'dob': datetime.datetime(1991, 1, 24, 18, 0),\n",
      " 'gender': 'f',\n",
      " 'loves': ['carrot', 'grape'],\n",
      " 'name': 'Aurora',\n",
      " 'vaccinated': True,\n",
      " 'vampires': 43.0,\n",
      " 'weight': 450.0}\n",
      "{'_id': ObjectId('5a8b2c2811b3f0fe16ce5f5a'),\n",
      " 'dob': datetime.datetime(1973, 2, 10, 3, 10),\n",
      " 'gender': 'm',\n",
      " 'loves': ['energon', 'redbull'],\n",
      " 'name': 'Unicrom',\n",
      " 'vaccinated': True,\n",
      " 'vampires': 182.0,\n",
      " 'weight': 984.0}\n",
      "{'_id': ObjectId('5a8b2ddf2662b8ba6ebba3ea'),\n",
      " 'dob': datetime.datetime(1992, 3, 13, 12, 47),\n",
      " 'gender': 'm',\n",
      " 'loves': ['carrot', 'papaya'],\n",
      " 'name': 'Horny',\n",
      " 'vaccinated': True,\n",
      " 'vampires': 63.0,\n",
      " 'weight': 600.0}\n",
      "{'_id': ObjectId('5a8b2e6c5f41dbf57f959605'),\n",
      " 'dob': datetime.datetime(1992, 3, 13, 12, 47),\n",
      " 'gender': 'm',\n",
      " 'loves': ['carrot', 'papaya'],\n",
      " 'name': 'Horny',\n",
      " 'vaccinated': True,\n",
      " 'vampires': 63.0,\n",
      " 'weight': 600.0}\n",
      "{'_id': ObjectId('5a8b2e6c5f41dbf57f959606'),\n",
      " 'dob': datetime.datetime(1991, 1, 24, 18, 0),\n",
      " 'gender': 'f',\n",
      " 'loves': ['carrot', 'grape'],\n",
      " 'name': 'Aurora',\n",
      " 'vaccinated': True,\n",
      " 'vampires': 43.0,\n",
      " 'weight': 450.0}\n",
      "{'_id': ObjectId('5a8b2e6c5f41dbf57f959607'),\n",
      " 'dob': datetime.datetime(1973, 2, 10, 3, 10),\n",
      " 'gender': 'm',\n",
      " 'loves': ['energon', 'redbull'],\n",
      " 'name': 'Unicrom',\n",
      " 'vaccinated': True,\n",
      " 'vampires': 182.0,\n",
      " 'weight': 984.0}\n",
      "{'_id': ObjectId('5a8b2e6c5f41dbf57f959608'),\n",
      " 'dob': datetime.datetime(1979, 7, 18, 18, 44),\n",
      " 'eggs': 1,\n",
      " 'gender': 'm',\n",
      " 'loves': ['apple', 'carrot', 'apple', 'durian'],\n",
      " 'name': 'Roooooodles',\n",
      " 'vaccinated': True,\n",
      " 'vampires': 103.0,\n",
      " 'weight': 590.0}\n",
      "{'_id': ObjectId('5a8b2e6c5f41dbf57f959609'),\n",
      " 'dob': datetime.datetime(1985, 7, 4, 6, 1),\n",
      " 'gender': 'f',\n",
      " 'loves': ['apple', 'carrot', 'chocolate'],\n",
      " 'name': 'Solnara',\n",
      " 'vaccinated': True,\n",
      " 'vampires': 80.0,\n",
      " 'weight': 550.0}\n",
      "{'_id': ObjectId('5a8b2e6c5f41dbf57f95960a'),\n",
      " 'dob': datetime.datetime(1998, 3, 7, 13, 30),\n",
      " 'gender': 'f',\n",
      " 'loves': ['strawberry', 'lemon'],\n",
      " 'name': 'Ayna',\n",
      " 'vaccinated': True,\n",
      " 'vampires': 40.0,\n",
      " 'weight': 733.0}\n",
      "{'_id': ObjectId('5a8b2e6c5f41dbf57f95960b'),\n",
      " 'dob': datetime.datetime(1997, 7, 1, 14, 42),\n",
      " 'gender': 'm',\n",
      " 'loves': ['grape', 'lemon'],\n",
      " 'name': 'Kenny',\n",
      " 'vaccinated': True,\n",
      " 'vampires': 39.0,\n",
      " 'weight': 690.0}\n",
      "{'_id': ObjectId('5a8b2e6c5f41dbf57f95960c'),\n",
      " 'dob': datetime.datetime(2005, 5, 3, 4, 57),\n",
      " 'gender': 'm',\n",
      " 'loves': ['apple', 'sugar'],\n",
      " 'name': 'Raleigh',\n",
      " 'vaccinated': True,\n",
      " 'vampires': 2.0,\n",
      " 'weight': 421.0}\n",
      "{'_id': ObjectId('5a8b2e6c5f41dbf57f95960d'),\n",
      " 'dob': datetime.datetime(2001, 10, 8, 18, 53),\n",
      " 'gender': 'f',\n",
      " 'loves': ['apple', 'watermelon'],\n",
      " 'name': 'Leia',\n",
      " 'vaccinated': True,\n",
      " 'vampires': 33.0,\n",
      " 'weight': 601.0}\n",
      "{'_id': ObjectId('5a8b2e6c5f41dbf57f95960e'),\n",
      " 'dob': datetime.datetime(1997, 3, 1, 10, 3),\n",
      " 'gender': 'm',\n",
      " 'loves': ['apple', 'watermelon'],\n",
      " 'name': 'Pilot',\n",
      " 'vaccinated': True,\n",
      " 'vampires': 54.0,\n",
      " 'weight': 650.0}\n",
      "{'_id': ObjectId('5a8b2e6c5f41dbf57f95960f'),\n",
      " 'dob': datetime.datetime(1999, 12, 20, 21, 15),\n",
      " 'gender': 'f',\n",
      " 'loves': ['grape', 'carrot'],\n",
      " 'name': 'Nimue',\n",
      " 'vaccinated': True,\n",
      " 'weight': 540.0}\n",
      "{'_id': ObjectId('5a8b2e6c5f41dbf57f959610'),\n",
      " 'dob': datetime.datetime(1976, 7, 18, 22, 18),\n",
      " 'gender': 'm',\n",
      " 'loves': ['grape', 'watermelon'],\n",
      " 'name': 'Dunx',\n",
      " 'vaccinated': True,\n",
      " 'vampires': 165.0,\n",
      " 'weight': 704.0}\n"
     ]
    },
    {
     "name": "stderr",
     "output_type": "stream",
     "text": [
      "/home/karen/.local/lib/python3.5/site-packages/ipykernel_launcher.py:1: DeprecationWarning: update is deprecated. Use replace_one, update_one or update_many instead.\n",
      "  \"\"\"Entry point for launching an IPython kernel.\n"
     ]
    }
   ],
   "source": [
    "db.mydb2.update({}, {'$set': {'vaccinated': True}}, multi=True) # now can update the whole documents\n",
    "for i in db.mydb2.find({'vaccinated': True}):\n",
    "    pprint(i)"
   ]
  },
  {
   "cell_type": "code",
   "execution_count": 97,
   "metadata": {},
   "outputs": [
    {
     "name": "stdout",
     "output_type": "stream",
     "text": [
      "{'_id': ObjectId('5a8b2beb11b3f0fe16ce5f58'),\n",
      " 'dob': datetime.datetime(1992, 3, 13, 12, 47),\n",
      " 'gender': 'm',\n",
      " 'loves': ['carrot', 'papaya'],\n",
      " 'name': 'Horny',\n",
      " 'vaccinated': True,\n",
      " 'vampires': 63.0,\n",
      " 'weight': 600.0}\n",
      "{'_id': ObjectId('5a8b2c0511b3f0fe16ce5f59'),\n",
      " 'dob': datetime.datetime(1991, 1, 24, 18, 0),\n",
      " 'gender': 'f',\n",
      " 'loves': ['carrot', 'grape'],\n",
      " 'name': 'Aurora',\n",
      " 'vaccinated': True,\n",
      " 'vampires': 43.0,\n",
      " 'weight': 450.0}\n",
      "{'_id': ObjectId('5a8b2c2811b3f0fe16ce5f5a'),\n",
      " 'dob': datetime.datetime(1973, 2, 10, 3, 10),\n",
      " 'gender': 'm',\n",
      " 'loves': ['energon', 'redbull'],\n",
      " 'name': 'Unicrom',\n",
      " 'vaccinated': True,\n",
      " 'vampires': 182.0,\n",
      " 'weight': 984.0}\n",
      "{'_id': ObjectId('5a8b2ddf2662b8ba6ebba3ea'),\n",
      " 'dob': datetime.datetime(1992, 3, 13, 12, 47),\n",
      " 'gender': 'm',\n",
      " 'loves': ['carrot', 'papaya'],\n",
      " 'name': 'Horny',\n",
      " 'vaccinated': True,\n",
      " 'vampires': 63.0,\n",
      " 'weight': 600.0}\n",
      "{'_id': ObjectId('5a8b2e6c5f41dbf57f959605'),\n",
      " 'dob': datetime.datetime(1992, 3, 13, 12, 47),\n",
      " 'gender': 'm',\n",
      " 'loves': ['carrot', 'papaya'],\n",
      " 'name': 'Horny',\n",
      " 'vaccinated': True,\n",
      " 'vampires': 63.0,\n",
      " 'weight': 600.0}\n",
      "{'_id': ObjectId('5a8b2e6c5f41dbf57f959606'),\n",
      " 'dob': datetime.datetime(1991, 1, 24, 18, 0),\n",
      " 'gender': 'f',\n",
      " 'loves': ['carrot', 'grape'],\n",
      " 'name': 'Aurora',\n",
      " 'vaccinated': True,\n",
      " 'vampires': 43.0,\n",
      " 'weight': 450.0}\n",
      "{'_id': ObjectId('5a8b2e6c5f41dbf57f959607'),\n",
      " 'dob': datetime.datetime(1973, 2, 10, 3, 10),\n",
      " 'gender': 'm',\n",
      " 'loves': ['energon', 'redbull'],\n",
      " 'name': 'Unicrom',\n",
      " 'vaccinated': True,\n",
      " 'vampires': 182.0,\n",
      " 'weight': 984.0}\n",
      "{'_id': ObjectId('5a8b2e6c5f41dbf57f959608'),\n",
      " 'dob': datetime.datetime(1979, 7, 18, 18, 44),\n",
      " 'eggs': 1,\n",
      " 'gender': 'm',\n",
      " 'loves': ['apple', 'carrot', 'apple', 'durian'],\n",
      " 'name': 'Roooooodles',\n",
      " 'vaccinated': True,\n",
      " 'vampires': 103.0,\n",
      " 'weight': 590.0}\n",
      "{'_id': ObjectId('5a8b2e6c5f41dbf57f959609'),\n",
      " 'dob': datetime.datetime(1985, 7, 4, 6, 1),\n",
      " 'gender': 'f',\n",
      " 'loves': ['apple', 'carrot', 'chocolate'],\n",
      " 'name': 'Solnara',\n",
      " 'vaccinated': True,\n",
      " 'vampires': 80.0,\n",
      " 'weight': 550.0}\n",
      "{'_id': ObjectId('5a8b2e6c5f41dbf57f95960a'),\n",
      " 'dob': datetime.datetime(1998, 3, 7, 13, 30),\n",
      " 'gender': 'f',\n",
      " 'loves': ['strawberry', 'lemon'],\n",
      " 'name': 'Ayna',\n",
      " 'vaccinated': True,\n",
      " 'vampires': 40.0,\n",
      " 'weight': 733.0}\n"
     ]
    },
    {
     "name": "stderr",
     "output_type": "stream",
     "text": [
      "/home/karen/.local/lib/python3.5/site-packages/ipykernel_launcher.py:1: DeprecationWarning: update is deprecated. Use replace_one, update_one or update_many instead.\n",
      "  \"\"\"Entry point for launching an IPython kernel.\n"
     ]
    }
   ],
   "source": [
    "db.mydb2.update({}, {'$set': {'vaccinated': True}}, multi=True);\n",
    "for i in db.mydb2.find({'vaccinated': True}).limit(10):\n",
    "    pprint(i)"
   ]
  },
  {
   "cell_type": "code",
   "execution_count": 98,
   "metadata": {},
   "outputs": [
    {
     "name": "stdout",
     "output_type": "stream",
     "text": [
      "{'name': 'Horny'}\n",
      "{'name': 'Aurora'}\n",
      "{'name': 'Unicrom'}\n",
      "{'name': 'Horny'}\n",
      "{'name': 'Horny'}\n",
      "{'name': 'Aurora'}\n",
      "{'name': 'Unicrom'}\n",
      "{'name': 'Roooooodles'}\n",
      "{'name': 'Solnara'}\n",
      "{'name': 'Ayna'}\n",
      "{'name': 'Kenny'}\n",
      "{'name': 'Raleigh'}\n",
      "{'name': 'Leia'}\n",
      "{'name': 'Pilot'}\n",
      "{'name': 'Nimue'}\n",
      "{'name': 'Dunx'}\n",
      "{'_id': ObjectId('5a8b2c0511b3f0fe16ce5f59'), 'name': 'Aurora', 'weight': 450.0}\n",
      "{'_id': ObjectId('5a8b2e6c5f41dbf57f959606'), 'name': 'Aurora', 'weight': 450.0}\n",
      "{'_id': ObjectId('5a8b2e6c5f41dbf57f95960a'), 'name': 'Ayna', 'weight': 733.0}\n",
      "{'_id': ObjectId('5a8b2e6c5f41dbf57f959610'), 'name': 'Dunx', 'weight': 704.0}\n",
      "{'_id': ObjectId('5a8b2beb11b3f0fe16ce5f58'), 'name': 'Horny', 'weight': 600.0}\n",
      "{'_id': ObjectId('5a8b2ddf2662b8ba6ebba3ea'), 'name': 'Horny', 'weight': 600.0}\n",
      "{'_id': ObjectId('5a8b2e6c5f41dbf57f959605'), 'name': 'Horny', 'weight': 600.0}\n",
      "{'_id': ObjectId('5a8b2e6c5f41dbf57f95960b'), 'name': 'Kenny', 'weight': 690.0}\n",
      "{'_id': ObjectId('5a8b2e6c5f41dbf57f95960d'), 'name': 'Leia', 'weight': 601.0}\n",
      "{'_id': ObjectId('5a8b2e6c5f41dbf57f95960f'), 'name': 'Nimue', 'weight': 540.0}\n",
      "{'_id': ObjectId('5a8b2e6c5f41dbf57f95960e'), 'name': 'Pilot', 'weight': 650.0}\n",
      "{'_id': ObjectId('5a8b2e6c5f41dbf57f95960c'),\n",
      " 'name': 'Raleigh',\n",
      " 'weight': 421.0}\n",
      "{'_id': ObjectId('5a8b2e6c5f41dbf57f959608'),\n",
      " 'name': 'Roooooodles',\n",
      " 'weight': 590.0}\n",
      "{'_id': ObjectId('5a8b2e6c5f41dbf57f959609'),\n",
      " 'name': 'Solnara',\n",
      " 'weight': 550.0}\n",
      "{'_id': ObjectId('5a8b2c2811b3f0fe16ce5f5a'),\n",
      " 'name': 'Unicrom',\n",
      " 'weight': 984.0}\n",
      "{'_id': ObjectId('5a8b2e6c5f41dbf57f959607'),\n",
      " 'name': 'Unicrom',\n",
      " 'weight': 984.0}\n"
     ]
    }
   ],
   "source": [
    "for doc in db.mydb2.find({}, {'_id': 0, 'name': 1}): # 0:exclude, 1:include _id: default included\n",
    "    pprint (doc)\n",
    "\n",
    "# Sorting documents\n",
    "for doc in db.mydb2\\\n",
    "            .find({}, {'name': 1, 'weight': 1})\\\n",
    "            .sort([('name', pymongo.ASCENDING), ('vampires', pymongo.DESCENDING)]):\n",
    "    pprint(doc)"
   ]
  },
  {
   "cell_type": "code",
   "execution_count": 99,
   "metadata": {},
   "outputs": [
    {
     "name": "stdout",
     "output_type": "stream",
     "text": [
      "{'_id': ObjectId('5a8b2e6c5f41dbf57f959610'),\n",
      " 'dob': datetime.datetime(1976, 7, 18, 22, 18),\n",
      " 'gender': 'm',\n",
      " 'loves': ['grape', 'watermelon'],\n",
      " 'name': 'Dunx',\n",
      " 'vaccinated': True,\n",
      " 'vampires': 165.0,\n",
      " 'weight': 704.0}\n",
      "{'_id': ObjectId('5a8b2beb11b3f0fe16ce5f58'),\n",
      " 'dob': datetime.datetime(1992, 3, 13, 12, 47),\n",
      " 'gender': 'm',\n",
      " 'loves': ['carrot', 'papaya'],\n",
      " 'name': 'Horny',\n",
      " 'vaccinated': True,\n",
      " 'vampires': 63.0,\n",
      " 'weight': 600.0}\n"
     ]
    }
   ],
   "source": [
    "# Paging results\n",
    "for doc in db.mydb2.find({}).sort([('name', pymongo.ASCENDING)]).skip(3).limit(2):\n",
    "    pprint(doc)"
   ]
  },
  {
   "cell_type": "code",
   "execution_count": 119,
   "metadata": {},
   "outputs": [
    {
     "name": "stdout",
     "output_type": "stream",
     "text": [
      "{'_id': ObjectId('5a8b2beb11b3f0fe16ce5f58'),\n",
      " 'dob': datetime.datetime(1992, 3, 13, 12, 47),\n",
      " 'gender': 'm',\n",
      " 'loves': ['carrot', 'papaya'],\n",
      " 'name': 'Horny',\n",
      " 'vaccinated': True,\n",
      " 'vampires': 63.0,\n",
      " 'weight': 600.0}\n",
      "{'_id': ObjectId('5a8b2c0511b3f0fe16ce5f59'),\n",
      " 'dob': datetime.datetime(1991, 1, 24, 18, 0),\n",
      " 'gender': 'f',\n",
      " 'loves': ['carrot', 'grape'],\n",
      " 'name': 'Aurora',\n",
      " 'vaccinated': True,\n",
      " 'vampires': 43.0,\n",
      " 'weight': 450.0}\n",
      "{'_id': ObjectId('5a8b2c2811b3f0fe16ce5f5a'),\n",
      " 'dob': datetime.datetime(1973, 2, 10, 3, 10),\n",
      " 'gender': 'm',\n",
      " 'loves': ['energon', 'redbull'],\n",
      " 'name': 'Unicrom',\n",
      " 'vaccinated': True,\n",
      " 'vampires': 182.0,\n",
      " 'weight': 984.0}\n",
      "{'_id': ObjectId('5a8b2ddf2662b8ba6ebba3ea'),\n",
      " 'dob': datetime.datetime(1992, 3, 13, 12, 47),\n",
      " 'gender': 'm',\n",
      " 'loves': ['carrot', 'papaya'],\n",
      " 'name': 'Horny',\n",
      " 'vaccinated': True,\n",
      " 'vampires': 63.0,\n",
      " 'weight': 600.0}\n",
      "{'_id': ObjectId('5a8b2e6c5f41dbf57f959605'),\n",
      " 'dob': datetime.datetime(1992, 3, 13, 12, 47),\n",
      " 'gender': 'm',\n",
      " 'loves': ['carrot', 'papaya'],\n",
      " 'name': 'Horny',\n",
      " 'vaccinated': True,\n",
      " 'vampires': 63.0,\n",
      " 'weight': 600.0}\n",
      "{'_id': ObjectId('5a8b2e6c5f41dbf57f959606'),\n",
      " 'dob': datetime.datetime(1991, 1, 24, 18, 0),\n",
      " 'gender': 'f',\n",
      " 'loves': ['carrot', 'grape'],\n",
      " 'name': 'Aurora',\n",
      " 'vaccinated': True,\n",
      " 'vampires': 43.0,\n",
      " 'weight': 450.0}\n",
      "{'_id': ObjectId('5a8b2e6c5f41dbf57f959607'),\n",
      " 'dob': datetime.datetime(1973, 2, 10, 3, 10),\n",
      " 'gender': 'm',\n",
      " 'loves': ['energon', 'redbull'],\n",
      " 'name': 'Unicrom',\n",
      " 'vaccinated': True,\n",
      " 'vampires': 182.0,\n",
      " 'weight': 984.0}\n",
      "{'_id': ObjectId('5a8b2e6c5f41dbf57f959608'),\n",
      " 'dob': datetime.datetime(1979, 7, 18, 18, 44),\n",
      " 'eggs': 1,\n",
      " 'gender': 'm',\n",
      " 'loves': ['apple', 'carrot', 'apple', 'durian'],\n",
      " 'name': 'Roooooodles',\n",
      " 'vaccinated': True,\n",
      " 'vampires': 103.0,\n",
      " 'weight': 590.0}\n",
      "{'_id': ObjectId('5a8b2e6c5f41dbf57f959609'),\n",
      " 'dob': datetime.datetime(1985, 7, 4, 6, 1),\n",
      " 'gender': 'f',\n",
      " 'loves': ['apple', 'carrot', 'chocolate'],\n",
      " 'name': 'Solnara',\n",
      " 'vaccinated': True,\n",
      " 'vampires': 80.0,\n",
      " 'weight': 550.0}\n",
      "{'_id': ObjectId('5a8b2e6c5f41dbf57f95960a'),\n",
      " 'dob': datetime.datetime(1998, 3, 7, 13, 30),\n",
      " 'gender': 'f',\n",
      " 'loves': ['strawberry', 'lemon'],\n",
      " 'name': 'Ayna',\n",
      " 'vaccinated': True,\n",
      " 'vampires': 40.0,\n",
      " 'weight': 733.0}\n",
      "{'_id': ObjectId('5a8b2e6c5f41dbf57f95960b'),\n",
      " 'dob': datetime.datetime(1997, 7, 1, 14, 42),\n",
      " 'gender': 'm',\n",
      " 'loves': ['grape', 'lemon'],\n",
      " 'name': 'Kenny',\n",
      " 'vaccinated': True,\n",
      " 'vampires': 39.0,\n",
      " 'weight': 690.0}\n",
      "{'_id': ObjectId('5a8b2e6c5f41dbf57f95960c'),\n",
      " 'dob': datetime.datetime(2005, 5, 3, 4, 57),\n",
      " 'gender': 'm',\n",
      " 'loves': ['apple', 'sugar'],\n",
      " 'name': 'Raleigh',\n",
      " 'vaccinated': True,\n",
      " 'vampires': 2.0,\n",
      " 'weight': 421.0}\n",
      "{'_id': ObjectId('5a8b2e6c5f41dbf57f95960d'),\n",
      " 'dob': datetime.datetime(2001, 10, 8, 18, 53),\n",
      " 'gender': 'f',\n",
      " 'loves': ['apple', 'watermelon'],\n",
      " 'name': 'Leia',\n",
      " 'vaccinated': True,\n",
      " 'vampires': 33.0,\n",
      " 'weight': 601.0}\n",
      "{'_id': ObjectId('5a8b2e6c5f41dbf57f95960e'),\n",
      " 'dob': datetime.datetime(1997, 3, 1, 10, 3),\n",
      " 'gender': 'm',\n",
      " 'loves': ['apple', 'watermelon'],\n",
      " 'name': 'Pilot',\n",
      " 'vaccinated': True,\n",
      " 'vampires': 54.0,\n",
      " 'weight': 650.0}\n",
      "{'_id': ObjectId('5a8b2e6c5f41dbf57f95960f'),\n",
      " 'dob': datetime.datetime(1999, 12, 20, 21, 15),\n",
      " 'gender': 'f',\n",
      " 'loves': ['grape', 'carrot'],\n",
      " 'name': 'Nimue',\n",
      " 'vaccinated': True,\n",
      " 'weight': 540.0}\n",
      "{'_id': ObjectId('5a8b2e6c5f41dbf57f959610'),\n",
      " 'dob': datetime.datetime(1976, 7, 18, 22, 18),\n",
      " 'gender': 'm',\n",
      " 'loves': ['grape', 'watermelon'],\n",
      " 'name': 'Dunx',\n",
      " 'vaccinated': True,\n",
      " 'vampires': 165.0,\n",
      " 'weight': 704.0}\n"
     ]
    }
   ],
   "source": [
    "# Creating and deleting an index on name field\n",
    "# db.mydb2.ensure_index([('name', pymongo.DESCENDING)],unique=True)\n",
    "# db.mydb2.drop_index([('name', pymongo.DESCENDING)])\n",
    "db.unicorns.create_index([('name', pymongo.DESCENDING), ('vampires', pymongo.ASCENDING)])\n",
    "for i in db.mydb2.find():\n",
    "    pprint(i)"
   ]
  },
  {
   "cell_type": "code",
   "execution_count": 104,
   "metadata": {},
   "outputs": [
    {
     "data": {
      "text/plain": [
       "Collection(Database(MongoClient(host=['localhost:27017'], document_class=dict, tz_aware=False, connect=True), 'mydb2'), 'employees')"
      ]
     },
     "execution_count": 104,
     "metadata": {},
     "output_type": "execute_result"
    }
   ],
   "source": [
    "db.create_collection('employees')"
   ]
  },
  {
   "cell_type": "code",
   "execution_count": 108,
   "metadata": {},
   "outputs": [],
   "source": [
    "from bson.objectid import ObjectId\n",
    "db.employees.insert({'_id': ObjectId('4d85c7039ab0fd70a117d730'), 'name': 'Leto'})\n",
    "db.employees.insert({'_id': ObjectId('4d85c7039ab0fd70a117d731'), 'name': 'Duncan',\n",
    "                    'manager': ObjectId('4d85c7039ab0fd70a117d730')});\n",
    "db.employees.insert({'_id': ObjectId('4d85c7039ab0fd70a117d732'), 'name': 'Moneo',\n",
    "                    'manager': ObjectId('4d85c7039ab0fd70a117d730')});\n"
   ]
  },
  {
   "cell_type": "code",
   "execution_count": 107,
   "metadata": {},
   "outputs": [
    {
     "name": "stdout",
     "output_type": "stream",
     "text": [
      "{'_id': ObjectId('4d85c7039ab0fd70a117d730'), 'name': 'Leto'}\n",
      "{'_id': ObjectId('4d85c7039ab0fd70a117d731'),\n",
      " 'manager': ObjectId('4d85c7039ab0fd70a117d730'),\n",
      " 'name': 'Duncan'}\n",
      "{'_id': ObjectId('4d85c7039ab0fd70a117d732'),\n",
      " 'manager': ObjectId('4d85c7039ab0fd70a117d730'),\n",
      " 'name': 'Moneo'}\n"
     ]
    }
   ],
   "source": [
    "for i in db.employees.find():\n",
    "    pprint(i)"
   ]
  },
  {
   "cell_type": "code",
   "execution_count": 109,
   "metadata": {},
   "outputs": [
    {
     "name": "stderr",
     "output_type": "stream",
     "text": [
      "/home/karen/.local/lib/python3.5/site-packages/ipykernel_launcher.py:5: DeprecationWarning: insert is deprecated. Use insert_one or insert_many instead.\n",
      "  \"\"\"\n"
     ]
    },
    {
     "data": {
      "text/plain": [
       "ObjectId('4d85c7039ab0fd70a117d734')"
      ]
     },
     "execution_count": 109,
     "metadata": {},
     "output_type": "execute_result"
    }
   ],
   "source": [
    "db.employees.insert({'_id': ObjectId('4d85c7039ab0fd70a117d734'), \n",
    "                     'name': 'Ghanima',\n",
    "                    'family': {'mother': 'Chani',\n",
    "                               'father': 'Paul',\n",
    "                               'brother': ObjectId('4d85c7039ab0fd70a117d730')}})"
   ]
  },
  {
   "cell_type": "code",
   "execution_count": 110,
   "metadata": {},
   "outputs": [
    {
     "name": "stdout",
     "output_type": "stream",
     "text": [
      "{'_id': ObjectId('4d85c7039ab0fd70a117d730'), 'name': 'Leto'}\n",
      "{'_id': ObjectId('4d85c7039ab0fd70a117d731'),\n",
      " 'manager': ObjectId('4d85c7039ab0fd70a117d730'),\n",
      " 'name': 'Duncan'}\n",
      "{'_id': ObjectId('4d85c7039ab0fd70a117d732'),\n",
      " 'manager': ObjectId('4d85c7039ab0fd70a117d730'),\n",
      " 'name': 'Moneo'}\n",
      "{'_id': ObjectId('4d85c7039ab0fd70a117d734'),\n",
      " 'family': {'brother': ObjectId('4d85c7039ab0fd70a117d730'),\n",
      "            'father': 'Paul',\n",
      "            'mother': 'Chani'},\n",
      " 'name': 'Ghanima'}\n"
     ]
    }
   ],
   "source": [
    "for i in db.employees.find():\n",
    "    pprint(i)"
   ]
  },
  {
   "cell_type": "code",
   "execution_count": null,
   "metadata": {},
   "outputs": [],
   "source": []
  }
 ],
 "metadata": {
  "kernelspec": {
   "display_name": "Python 3",
   "language": "python",
   "name": "python3"
  },
  "language_info": {
   "codemirror_mode": {
    "name": "ipython",
    "version": 3
   },
   "file_extension": ".py",
   "mimetype": "text/x-python",
   "name": "python",
   "nbconvert_exporter": "python",
   "pygments_lexer": "ipython3",
   "version": "3.5.2"
  },
  "latex_envs": {
   "LaTeX_envs_menu_present": true,
   "autoclose": false,
   "autocomplete": true,
   "bibliofile": "biblio.bib",
   "cite_by": "apalike",
   "current_citInitial": 1,
   "eqLabelWithNumbers": true,
   "eqNumInitial": 1,
   "hotkeys": {
    "equation": "Ctrl-E",
    "itemize": "Ctrl-I"
   },
   "labels_anchors": false,
   "latex_user_defs": false,
   "report_style_numbering": false,
   "user_envs_cfg": false
  }
 },
 "nbformat": 4,
 "nbformat_minor": 2
}
