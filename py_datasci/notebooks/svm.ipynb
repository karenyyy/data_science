{
 "cells": [
  {
   "cell_type": "markdown",
   "metadata": {},
   "source": [
    "### First, brief intro: Functional margin ($\\hat \\gamma$) and geometric margin ($\\gamma$)"
   ]
  },
  {
   "cell_type": "markdown",
   "metadata": {},
   "source": [
    "$$ \\text{Definition for the functional margin of data point  } x^{(i)}$$:\n",
    "\n",
    "$$\\hat \\gamma^{(i)} = y^{(i)}(w^T x^{(i)} + b)$$\n",
    "\n",
    "$$\\text{Given    } y^{(i)} \\text{  is   } \\pm 1 \\text{   for the positive and negative examples   }, \\hat \\gamma^{(i)} \\text{    is actually equivalent to     } | w^T x^{(i)} + b |$$\n",
    "\n",
    "\n",
    "$$ \\text{  which is a scaled distance of x to the line (verified by geometry)  } w^T x^{(i)} + b = 0 \\text{   and the scaler is     } \\left\\|w\\right\\|$$. \n",
    "\n"
   ]
  },
  {
   "cell_type": "markdown",
   "metadata": {},
   "source": [
    "$$ \\text{  If we let   } x_0  \\text{ be the vector that is perpendicular to the line, and also exactly on the line.}  $$\n",
    "\n",
    "$$ \\hat \\gamma \\text{ can also be written in terms of   } x_0$$\n",
    "\n",
    "\n",
    "$$\\begin{align*}\n",
    "\\hat \\gamma^{(i)} &= y^{(i)}(w^T x^{(i)} + b)\\\\\n",
    "            &= |w^T x^{(i)} + b| \\\\\n",
    "            &= y^{(i)}w^T(x^{(i)} - x_0)\n",
    "\\end{align*}$$\n",
    "\n",
    "\n",
    "\n",
    "$$ \\text{ In the context of a training set with multiple data points  } x^{(1)}, x^{(2)}, \\cdots, x^{(m)} \\text{ , we define the functional margin of the training set (   } \\hat \\Gamma  \\text{  ) to be  }$$ \n",
    "\n",
    "$$\\hat \\Gamma = \\mathrm{min}_{i=i,\\cdots,m} \\hat \\gamma^{(i)}$$\n",
    "\n"
   ]
  },
  {
   "cell_type": "markdown",
   "metadata": {},
   "source": [
    "## SVM"
   ]
  },
  {
   "cell_type": "markdown",
   "metadata": {},
   "source": [
    " After some reasoning: the SVM becomes an optimization problem for the following optimal margin classifier:\n",
    "\n",
    "     \n",
    "$$\\mathrm{min}_{\\gamma, w, b} \\frac{1}{2}\\left\\|w\\right\\|^2 $$\n",
    "     \n",
    "$$\\text{ Subject to:   } y^{(i)}(w^Tx^{(i)} + b) \\ge 1, i = 1, 2, \\cdots, m$$\n",
    "\n"
   ]
  },
  {
   "cell_type": "markdown",
   "metadata": {},
   "source": [
    "Applying Lagrange duality, the optimization problem becomes\n",
    "\n",
    "![](../images/svm1.png)\n",
    "\n",
    "![](../images/svm2.png)\n",
    "\n",
    "![](../images/svm3.png)\n",
    "\n",
    "![](../images/svm4.png)\n",
    "\n",
    "![](../images/svm5.png)\n",
    "\n",
    "![](../images/svm6.png)\n",
    "\n",
    "> Then how do SVM complete a classification task?\n",
    "\n",
    "After converting w, adjust the format of f(x):\n",
    "\n",
    "![](../images/svm7.png)\n",
    "\n",
    "__Thus when attempting to classify a new data point, just calculate the inner product of this point and training data points whose cluster belonged to is already known, then check the sign of f(x)__\n",
    "\n",
    "\n",
    "$$\n",
    "\\mathrm{max}_{\\alpha} W(\\alpha) = \\sum_{i=1}^{m} \\alpha_i - \\frac{1}{2} \\sum_{i,j=1}^{m}y^{(i)}y^{(j)} \\alpha_i \\alpha_j x_i^T x_j\n",
    "$$\n",
    "Subject to:\n",
    "$$0 \\le \\alpha_i \\le C, i = 1, 2, \\cdots, m$$\n",
    "and\n",
    "$$\\sum_{i=1}^{m} \\alpha_i y^{(i)} = 0$$\n"
   ]
  },
  {
   "cell_type": "code",
   "execution_count": 3,
   "metadata": {},
   "outputs": [],
   "source": [
    "import numpy as np\n",
    "import matplotlib.pyplot as plt\n",
    "\n",
    "%matplotlib inline"
   ]
  },
  {
   "cell_type": "code",
   "execution_count": 48,
   "metadata": {},
   "outputs": [],
   "source": [
    "# toy dataset\n",
    "Xs = np.array([\n",
    "        [0.5, 0.5],\n",
    "        [1, 1],\n",
    "        [1.5, 2],\n",
    "        [2, 1]\n",
    "    ])\n",
    "ys = [-1, -1, 1, 1]"
   ]
  },
  {
   "cell_type": "code",
   "execution_count": 49,
   "metadata": {},
   "outputs": [
    {
     "data": {
      "text/plain": [
       "<matplotlib.collections.PathCollection at 0x7f8f8b5161d0>"
      ]
     },
     "execution_count": 49,
     "metadata": {},
     "output_type": "execute_result"
    },
    {
     "data": {
      "image/png": "[encoded data removed]",
      "text/plain": [
       "<matplotlib.figure.Figure at 0x7f8f8b58b320>"
      ]
     },
     "metadata": {},
     "output_type": "display_data"
    }
   ],
   "source": [
    "plt.scatter(*Xs[:2].T, marker='x', s=50)\n",
    "plt.scatter(*Xs[2:].T, marker='o', s=50)"
   ]
  },
  {
   "cell_type": "code",
   "execution_count": 17,
   "metadata": {},
   "outputs": [],
   "source": [
    "def calc_f(xk, alphas, Xs, ys, b):\n",
    "    return sum(alpha * yi * xi.dot(xk) for (alpha, xi, yi) in zip(alphas, Xs, ys)) + b"
   ]
  },
  {
   "cell_type": "code",
   "execution_count": 18,
   "metadata": {},
   "outputs": [],
   "source": [
    "def calc_E(xk, yk, alphas, Xs, ys, b):\n",
    "    return calc_f(xk, alphas, Xs, ys, b) - yk"
   ]
  },
  {
   "cell_type": "code",
   "execution_count": 19,
   "metadata": {},
   "outputs": [],
   "source": [
    "def calc_Lower(yi, yj, ai, aj, C):\n",
    "    if yi != yj:\n",
    "        return max(0, aj - ai)\n",
    "    elif yi == yj:\n",
    "        return max(0, ai + aj - C)\n",
    "    else:\n",
    "        raise\n",
    "        \n",
    "def calc_Upper(ai, aj, yi, yj, C):\n",
    "    if yi != yj:\n",
    "        return min(C, aj - ai + C)\n",
    "    elif yi == yj:\n",
    "        return min(C, ai + aj)\n",
    "    else:\n",
    "        raise"
   ]
  },
  {
   "cell_type": "code",
   "execution_count": 20,
   "metadata": {},
   "outputs": [],
   "source": [
    "# determine a_j first\n",
    "def update_a_j(aj, yj, Ei, Ej, eta, Upper, Lower):\n",
    "    aj = aj - yj * (Ei - Ej) / eta\n",
    "    if aj > Upper:\n",
    "        return Upper\n",
    "    elif aj < Lower:\n",
    "        return Lower\n",
    "    else:\n",
    "        return aj\n",
    "\n",
    "# then determine a_i based on a_j's pos\n",
    "def update_a_i(ai, yi, yj, aj_old, aj):\n",
    "    return ai + yi * yj * (aj_old - aj)"
   ]
  },
  {
   "cell_type": "code",
   "execution_count": 21,
   "metadata": {},
   "outputs": [],
   "source": [
    "def calc_b(b1, b2, ai, aj, C):\n",
    "    if 0 < ai < C:\n",
    "        return b1\n",
    "    elif 0 < aj < C:\n",
    "        return b2\n",
    "    else:\n",
    "        return (b1 + b2) / 2"
   ]
  },
  {
   "cell_type": "code",
   "execution_count": 22,
   "metadata": {},
   "outputs": [],
   "source": [
    "# the toy example is linearly separable, so C could be arbitrarily large\n",
    "C = 1e8\n",
    "tol = 0.001\n",
    "max_iter = 10000\n",
    "\n",
    "n = Xs.shape[0]\n",
    "alphas = np.zeros(n)\n",
    "b = 0"
   ]
  },
  {
   "cell_type": "code",
   "execution_count": 25,
   "metadata": {},
   "outputs": [],
   "source": [
    "iter = 0\n",
    "while iter < max_iter:\n",
    "    num_changed_alphas = 0\n",
    "    for i in range(n):\n",
    "        # initialize alpha,x,y,err\n",
    "        ai = alphas[i]\n",
    "        xi = Xs[i]\n",
    "        yi = ys[i]\n",
    "        Ei = calc_E(xi, yi, alphas, Xs, ys, b)\n",
    "        if (yi * Ei < -tol and ai < C) or (yi * Ei > tol and ai > 0):\n",
    "            j = np.random.choice([_ for _ in range(m) if _ != i])\n",
    "            aj = alphas[j]\n",
    "            xj = Xs[j]\n",
    "            yj = ys[j]\n",
    "            Ej = calc_E(xj, yj, alphas, Xs, ys, b)\n",
    "            \n",
    "            # preserve the previous position of a_i and a_j\n",
    "            ai_old = ai\n",
    "            aj_old = aj\n",
    "            \n",
    "            Lower = calc_Lower(ai, aj, yi, yj, C)\n",
    "            Upper = calc_Upper(ai, aj, yi, yj, C)\n",
    "            if Lower == Upper:\n",
    "                continue\n",
    "                \n",
    "            eta = 2 * xi.dot(xj) - xi.dot(xi) - xj.dot(xj)\n",
    "            if eta >= 0:\n",
    "                continue\n",
    "                \n",
    "            aj = update_a_j(aj, yj, Ei, Ej, eta, Upper, Lower)\n",
    "            alphas[j] = aj\n",
    "            if np.abs(aj - aj_old) < 1e-5:\n",
    "                continue\n",
    "            \n",
    "            ai = update_a_i(ai, yi, yj, aj_old, aj)\n",
    "            \n",
    "            alphas[i] = ai\n",
    "            \n",
    "            \n",
    "            b1 = b - Ei - yi * (ai - ai_old) * xi.dot(xi) - yj * (aj - aj_old) * xi.dot(xj)\n",
    "           \n",
    "            b2 = b - Ej - yi * (ai - ai_old) * xi.dot(xj) - yj * (aj - aj_old) * xj.dot(xj)\n",
    "            \n",
    "            b = calc_b(b1, b2, ai, aj, C)\n",
    "            num_changed_alphas += 1\n",
    "            \n",
    "    if num_changed_alphas == 0:\n",
    "        iter += 1\n",
    "    else:\n",
    "        iter = 0"
   ]
  },
  {
   "cell_type": "code",
   "execution_count": 28,
   "metadata": {
    "scrolled": false
   },
   "outputs": [
    {
     "data": {
      "text/plain": [
       "array([ 0.        ,  2.50031104,  1.00062208,  1.49968896])"
      ]
     },
     "execution_count": 28,
     "metadata": {},
     "output_type": "execute_result"
    }
   ],
   "source": [
    "alphas"
   ]
  },
  {
   "cell_type": "code",
   "execution_count": 29,
   "metadata": {},
   "outputs": [
    {
     "data": {
      "text/plain": [
       "-4.0006220800000012"
      ]
     },
     "execution_count": 29,
     "metadata": {},
     "output_type": "execute_result"
    }
   ],
   "source": [
    "b"
   ]
  },
  {
   "cell_type": "code",
   "execution_count": 32,
   "metadata": {},
   "outputs": [],
   "source": [
    "# most alphas should be 0\n",
    "ws = sum([alphas[i] * ys[i] * Xs[i] for i in range(m)])"
   ]
  },
  {
   "cell_type": "code",
   "execution_count": 35,
   "metadata": {},
   "outputs": [
    {
     "data": {
      "text/plain": [
       "0.99999999999999989"
      ]
     },
     "execution_count": 35,
     "metadata": {},
     "output_type": "execute_result"
    }
   ],
   "source": [
    "norm_ws = ws / np.sqrt(ws.dot(ws))\n",
    "(norm_ws**2).sum() # should be converging to 1 as much as possible"
   ]
  },
  {
   "cell_type": "code",
   "execution_count": 36,
   "metadata": {},
   "outputs": [],
   "source": [
    "margin = np.min(np.abs(Xs.dot(ws) + b) / np.sqrt(ws.dot(ws))) # the min distance of point xs to y=wx+b"
   ]
  },
  {
   "cell_type": "code",
   "execution_count": 17,
   "metadata": {},
   "outputs": [
    {
     "data": {
      "text/plain": [
       "(0, 2.2)"
      ]
     },
     "execution_count": 17,
     "metadata": {},
     "output_type": "execute_result"
    },
    {
     "data": {
      "image/png": "[encoded data removed]",
      "text/plain": [
       "<matplotlib.figure.Figure at 0x10ff09518>"
      ]
     },
     "metadata": {},
     "output_type": "display_data"
    }
   ],
   "source": [
    "\n",
    "_x1s = np.array([0, 3])\n",
    "_x2s = (-b - ws[0] * _x1s) / ws[1]\n",
    "\n",
    "\n",
    "_xs = np.array([_x1s, _x2s]).T\n",
    "assert (_xs[1] - _xs[0]).dot(ws) < 1e-12\n",
    "\n",
    "# decision boundary\n",
    "plt.plot(*_xs.T, lw=1, color='black')\n",
    "# margin\n",
    "plt.plot(*(_xs - norm_ws * margin).T, color='black', lw=1, linestyle='--')\n",
    "plt.plot(*(_xs + norm_ws * margin).T, color='black', lw=1, linestyle='--')\n",
    "\n",
    "plt.scatter(*Xs[:2].T, marker='x', s=50)\n",
    "plt.scatter(*Xs[2:].T, marker='o', s=50)\n",
    "\n",
    "plt.xlim(0.4, 2.1)\n",
    "plt.ylim(0, 2.2)"
   ]
  },
  {
   "cell_type": "code",
   "execution_count": 4,
   "metadata": {},
   "outputs": [],
   "source": [
    "import math\n",
    "real=math.exp(1)"
   ]
  },
  {
   "cell_type": "code",
   "execution_count": null,
   "metadata": {
    "collapsed": true
   },
   "outputs": [],
   "source": [
    "a_l=[]\n",
    "r_l[]\n",
    "for i in range(1,20):\n",
    "    n=10**i\n",
    "    estimated=(1+1/n)**n\n",
    "    a_e=estimated-real\n",
    "    r_e=(estimated-real)/real\n",
    "    a_l.append(a_e)\n",
    "    r_l.append(r_e)\n",
    "import matplotlib.pyplot as plt\n",
    "\n",
    "plt.sub"
   ]
  }
 ],
 "metadata": {
  "anaconda-cloud": {},
  "kernelspec": {
   "display_name": "Python 3",
   "language": "python",
   "name": "python3"
  },
  "language_info": {
   "codemirror_mode": {
    "name": "ipython",
    "version": 3
   },
   "file_extension": ".py",
   "mimetype": "text/x-python",
   "name": "python",
   "nbconvert_exporter": "python",
   "pygments_lexer": "ipython3",
   "version": "3.5.2"
  }
 },
 "nbformat": 4,
 "nbformat_minor": 1
}
