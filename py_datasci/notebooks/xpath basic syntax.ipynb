{
 "cells": [
  {
   "cell_type": "markdown",
   "metadata": {},
   "source": [
    "$x('/html')\n",
    "  \n",
    "$x('/html/body')\n",
    "  \n",
    "$x('/html/body/div')\n",
    "  \n",
    "$x('/html/body/div/h1')\n",
    "  \n",
    "$x('/html/body/div/p')\n",
    "  \n",
    "$x('/html/body/div/p[1]')\n",
    "  \n",
    "$x('/html/body/div/p[2]')\n",
    "  "
   ]
  },
  {
   "cell_type": "markdown",
   "metadata": {},
   "source": [
    "$x('//html/head/title')\n",
    "\n",
    "$x('//a/@href')\n",
    "\n",
    "$x('//a/text()')\n",
    "\n",
    "$x('//a[@href]')\n",
    "  \n",
    "$x('//a[@href=\"http://www.iana.org/domains/example\"]')\n",
    "  \n",
    "$x('//a[contains(@href, \"iana\")]')\n",
    "  \n",
    "$x('//a[starts-with(@href, \"http://www.\")]')\n",
    "  \n",
    "$x('//a[not(contains(@href, \"abc\"))]')\n",
    "  "
   ]
  },
  {
   "cell_type": "markdown",
   "metadata": {},
   "source": [
    "response.xpath('/html').extract()\n",
    "\n",
    "\n",
    "    \n",
    "response.xpath('/html/body/div/h1').extract()\n",
    "\n",
    "\n",
    "\n",
    "response.xpath('/html/body/div/p').extract()\n",
    "\n",
    "\n",
    "\n",
    "response.xpath('//html/head/title').extract()\n",
    "  \n",
    "response.xpath('//a').extract()\n",
    "  \n",
    "response.xpath('//a/@href').extract()\n",
    "  \n",
    "response.xpath('//a/text()').extract()\n",
    "  \n",
    "response.xpath('//a[starts-with(@href, \"http://www.\")]').extract()\n",
    "  "
   ]
  },
  {
   "cell_type": "code",
   "execution_count": null,
   "metadata": {},
   "outputs": [],
   "source": []
  }
 ],
 "metadata": {
  "kernelspec": {
   "display_name": "Python 3",
   "language": "python",
   "name": "python3"
  },
  "language_info": {
   "codemirror_mode": {
    "name": "ipython",
    "version": 3
   },
   "file_extension": ".py",
   "mimetype": "text/x-python",
   "name": "python",
   "nbconvert_exporter": "python",
   "pygments_lexer": "ipython3",
   "version": "3.5.2"
  },
  "latex_envs": {
   "LaTeX_envs_menu_present": true,
   "autoclose": false,
   "autocomplete": true,
   "bibliofile": "biblio.bib",
   "cite_by": "apalike",
   "current_citInitial": 1,
   "eqLabelWithNumbers": true,
   "eqNumInitial": 1,
   "hotkeys": {
    "equation": "Ctrl-E",
    "itemize": "Ctrl-I"
   },
   "labels_anchors": false,
   "latex_user_defs": false,
   "report_style_numbering": false,
   "user_envs_cfg": false
  }
 },
 "nbformat": 4,
 "nbformat_minor": 2
}
