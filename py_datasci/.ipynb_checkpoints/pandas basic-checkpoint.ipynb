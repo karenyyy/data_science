{
 "cells": [
  {
   "cell_type": "code",
   "execution_count": 4,
   "metadata": {},
   "outputs": [],
   "source": [
    "import pandas as pd\n",
    "import numpy as np"
   ]
  },
  {
   "cell_type": "code",
   "execution_count": 5,
   "metadata": {},
   "outputs": [],
   "source": [
    "df = pd.DataFrame(np.random.randn(10, 3), columns=['A', 'B', 'C'],\n",
    "                   index=pd.date_range('1/1/2000', periods=10))"
   ]
  },
  {
   "cell_type": "code",
   "execution_count": 6,
   "metadata": {},
   "outputs": [
    {
     "data": {
      "text/html": [
       "<div>\n",
       "<table border=\"1\" class=\"dataframe\">\n",
       "  <thead>\n",
       "    <tr style=\"text-align: right;\">\n",
       "      <th></th>\n",
       "      <th>A</th>\n",
       "      <th>B</th>\n",
       "      <th>C</th>\n",
       "    </tr>\n",
       "  </thead>\n",
       "  <tbody>\n",
       "    <tr>\n",
       "      <th>2000-01-01</th>\n",
       "      <td>1.796121</td>\n",
       "      <td>1.258634</td>\n",
       "      <td>-1.660804</td>\n",
       "    </tr>\n",
       "    <tr>\n",
       "      <th>2000-01-02</th>\n",
       "      <td>-0.168307</td>\n",
       "      <td>1.822206</td>\n",
       "      <td>0.945334</td>\n",
       "    </tr>\n",
       "    <tr>\n",
       "      <th>2000-01-03</th>\n",
       "      <td>0.291375</td>\n",
       "      <td>-0.664116</td>\n",
       "      <td>-0.582441</td>\n",
       "    </tr>\n",
       "    <tr>\n",
       "      <th>2000-01-04</th>\n",
       "      <td>0.743939</td>\n",
       "      <td>-0.505289</td>\n",
       "      <td>-0.246562</td>\n",
       "    </tr>\n",
       "    <tr>\n",
       "      <th>2000-01-05</th>\n",
       "      <td>-0.701655</td>\n",
       "      <td>-0.526605</td>\n",
       "      <td>0.318432</td>\n",
       "    </tr>\n",
       "    <tr>\n",
       "      <th>2000-01-06</th>\n",
       "      <td>0.578394</td>\n",
       "      <td>0.087589</td>\n",
       "      <td>0.656827</td>\n",
       "    </tr>\n",
       "    <tr>\n",
       "      <th>2000-01-07</th>\n",
       "      <td>-0.293272</td>\n",
       "      <td>-0.248928</td>\n",
       "      <td>1.372421</td>\n",
       "    </tr>\n",
       "    <tr>\n",
       "      <th>2000-01-08</th>\n",
       "      <td>-1.222376</td>\n",
       "      <td>-1.540627</td>\n",
       "      <td>-0.748335</td>\n",
       "    </tr>\n",
       "    <tr>\n",
       "      <th>2000-01-09</th>\n",
       "      <td>-0.235389</td>\n",
       "      <td>0.172504</td>\n",
       "      <td>-0.058814</td>\n",
       "    </tr>\n",
       "    <tr>\n",
       "      <th>2000-01-10</th>\n",
       "      <td>-0.248031</td>\n",
       "      <td>-0.326368</td>\n",
       "      <td>-0.662989</td>\n",
       "    </tr>\n",
       "  </tbody>\n",
       "</table>\n",
       "</div>"
      ],
      "text/plain": [
       "                   A         B         C\n",
       "2000-01-01  1.796121  1.258634 -1.660804\n",
       "2000-01-02 -0.168307  1.822206  0.945334\n",
       "2000-01-03  0.291375 -0.664116 -0.582441\n",
       "2000-01-04  0.743939 -0.505289 -0.246562\n",
       "2000-01-05 -0.701655 -0.526605  0.318432\n",
       "2000-01-06  0.578394  0.087589  0.656827\n",
       "2000-01-07 -0.293272 -0.248928  1.372421\n",
       "2000-01-08 -1.222376 -1.540627 -0.748335\n",
       "2000-01-09 -0.235389  0.172504 -0.058814\n",
       "2000-01-10 -0.248031 -0.326368 -0.662989"
      ]
     },
     "execution_count": 6,
     "metadata": {},
     "output_type": "execute_result"
    }
   ],
   "source": [
    "df"
   ]
  }
 ],
 "metadata": {
  "kernelspec": {
   "display_name": "Python 3",
   "language": "python",
   "name": "python3"
  },
  "language_info": {
   "codemirror_mode": {
    "name": "ipython",
    "version": 3
   },
   "file_extension": ".py",
   "mimetype": "text/x-python",
   "name": "python",
   "nbconvert_exporter": "python",
   "pygments_lexer": "ipython3",
   "version": "3.5.2"
  }
 },
 "nbformat": 4,
 "nbformat_minor": 2
}
