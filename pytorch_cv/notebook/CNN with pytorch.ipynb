{
 "cells": [
  {
   "cell_type": "markdown",
   "metadata": {},
   "source": [
    "### CNN model\n",
    "\n",
    "<img src=\"\">"
   ]
  },
  {
   "cell_type": "code",
   "execution_count": 38,
   "metadata": {},
   "outputs": [],
   "source": [
    "import torch\n",
    "import torch.nn as nn\n",
    "import torchvision.transforms as transforms\n",
    "import torchvision.datasets as dsets\n",
    "from torch.autograd import Variable\n",
    "import matplotlib.pyplot as plt"
   ]
  },
  {
   "cell_type": "code",
   "execution_count": 39,
   "metadata": {},
   "outputs": [],
   "source": [
    "train_dataset=dsets.MNIST(root=\"./data\",\n",
    "                          train=True,\n",
    "                          transform=transforms.ToTensor(),\n",
    "                          download=True)"
   ]
  },
  {
   "cell_type": "code",
   "execution_count": 40,
   "metadata": {},
   "outputs": [],
   "source": [
    "test_dataset=dsets.MNIST(root=\"./data\",\n",
    "                          train=False,\n",
    "                          transform=transforms.ToTensor()) # important: ToTensor() not ToTensor, with the ()"
   ]
  },
  {
   "cell_type": "code",
   "execution_count": 41,
   "metadata": {},
   "outputs": [
    {
     "data": {
      "text/plain": [
       "torch.Size([1, 28, 28])"
      ]
     },
     "execution_count": 41,
     "metadata": {},
     "output_type": "execute_result"
    }
   ],
   "source": [
    "test_dataset[0][0].size()"
   ]
  },
  {
   "cell_type": "code",
   "execution_count": 42,
   "metadata": {},
   "outputs": [],
   "source": [
    "show_img=test_dataset[0][0].numpy().reshape(28,28)"
   ]
  },
  {
   "cell_type": "code",
   "execution_count": 43,
   "metadata": {},
   "outputs": [
    {
     "data": {
      "image/png": "[encoded data removed]",
      "text/plain": [
       "<matplotlib.figure.Figure at 0x7f0aeb04bcc0>"
      ]
     },
     "metadata": {},
     "output_type": "display_data"
    }
   ],
   "source": [
    "plt.imshow(show_img, cmap=\"gray\")\n",
    "plt.show()"
   ]
  },
  {
   "cell_type": "code",
   "execution_count": 44,
   "metadata": {},
   "outputs": [
    {
     "data": {
      "text/plain": [
       "7"
      ]
     },
     "execution_count": 44,
     "metadata": {},
     "output_type": "execute_result"
    }
   ],
   "source": [
    "# labels\n",
    "test_dataset[0][1]"
   ]
  },
  {
   "cell_type": "markdown",
   "metadata": {},
   "source": [
    "## make dataset iterable\n",
    "- total: 60000\n",
    "- batch_size: 100\n",
    "- iterations: 3000\n",
    "    - 1 iter: one minibatch forward and backward pass\n",
    "- epochs\n",
    "    - 1 epoch: running through the whole dataset once\n",
    "    - epochs = $$ iter \\div \\frac{total data}{batchsize}= \\frac{iter}{batches}=3000 \\div \\frac{60000}{100}=5 $$"
   ]
  },
  {
   "cell_type": "code",
   "execution_count": 45,
   "metadata": {},
   "outputs": [
    {
     "data": {
      "text/plain": [
       "5.0"
      ]
     },
     "execution_count": 45,
     "metadata": {},
     "output_type": "execute_result"
    }
   ],
   "source": [
    "iter=3000\n",
    "batch_size=100\n",
    "num_epochs=iter/(len(train_dataset)/batch_size)\n",
    "num_epochs"
   ]
  },
  {
   "cell_type": "markdown",
   "metadata": {},
   "source": [
    "### create iterable object from training dataset"
   ]
  },
  {
   "cell_type": "code",
   "execution_count": 46,
   "metadata": {},
   "outputs": [],
   "source": [
    "train_gen=torch.utils.data.DataLoader(dataset=train_dataset,\n",
    "                                     batch_size=batch_size,\n",
    "                                     shuffle=True)"
   ]
  },
  {
   "cell_type": "markdown",
   "metadata": {},
   "source": [
    "### check iterability"
   ]
  },
  {
   "cell_type": "code",
   "execution_count": 47,
   "metadata": {},
   "outputs": [
    {
     "data": {
      "text/plain": [
       "True"
      ]
     },
     "execution_count": 47,
     "metadata": {},
     "output_type": "execute_result"
    }
   ],
   "source": [
    "import collections\n",
    "isinstance(train_gen, collections.Iterable)"
   ]
  },
  {
   "cell_type": "markdown",
   "metadata": {},
   "source": [
    "### do the same for test dataset (shuffle = False for test data !!)"
   ]
  },
  {
   "cell_type": "code",
   "execution_count": 48,
   "metadata": {},
   "outputs": [],
   "source": [
    "test_gen=torch.utils.data.DataLoader(dataset=test_dataset,\n",
    "                                     batch_size=batch_size,\n",
    "                                     shuffle=False)"
   ]
  },
  {
   "cell_type": "markdown",
   "metadata": {},
   "source": [
    "## build the model"
   ]
  },
  {
   "cell_type": "code",
   "execution_count": 49,
   "metadata": {},
   "outputs": [],
   "source": [
    "class CNNModel(nn.Module):\n",
    "    def __init__(self):\n",
    "        # inheritance\n",
    "        super(CNNModel,self).__init__()\n",
    "        # conv 1\n",
    "        self.conv1=nn.Conv2d(in_channels=1, out_channels=16, kernel_size=5, stride=1, padding=2)\n",
    "        self.relu1=nn.ReLU()\n",
    "        # max pool 1\n",
    "        self.maxpool1=nn.MaxPool2d(kernel_size=2)\n",
    "        # conv 2\n",
    "        self.conv2=nn.Conv2d(in_channels=16, out_channels=32, kernel_size=5, stride=1,padding=2)\n",
    "        self.relu2=nn.ReLU()\n",
    "        # max pool 2\n",
    "        self.maxpool2=nn.MaxPool2d(kernel_size=2)\n",
    "        \n",
    "        # fc1\n",
    "        \n",
    "        self.fc1=nn.Linear(32*7*7, 10)\n",
    "        \n",
    "    def forward(self, inputs):\n",
    "        # conv 1\n",
    "        net=self.conv1(inputs)\n",
    "        net=self.relu1(net)\n",
    "        # max pool1\n",
    "        net=self.maxpool1(net)\n",
    "        # conv 2\n",
    "        net=self.conv2(net)\n",
    "        net=self.relu2(net)\n",
    "        # max pool2\n",
    "        out=self.maxpool2(net)\n",
    "        \n",
    "        # resize\n",
    "        # original size: (100, 32, 7, 7)\n",
    "        # new size: (100, 32*7*7)\n",
    "        out=out.view(out.size(0), -1)\n",
    "        out=self.fc1(out)\n",
    "        return out"
   ]
  },
  {
   "cell_type": "code",
   "execution_count": 50,
   "metadata": {},
   "outputs": [],
   "source": [
    "model=CNNModel()"
   ]
  },
  {
   "cell_type": "code",
   "execution_count": 51,
   "metadata": {},
   "outputs": [],
   "source": [
    "criterion=nn.CrossEntropyLoss()"
   ]
  },
  {
   "cell_type": "code",
   "execution_count": 52,
   "metadata": {},
   "outputs": [],
   "source": [
    "learning_rate=0.01\n",
    "optimizer=torch.optim.SGD(model.parameters(), lr=learning_rate)"
   ]
  },
  {
   "cell_type": "code",
   "execution_count": 53,
   "metadata": {},
   "outputs": [
    {
     "name": "stdout",
     "output_type": "stream",
     "text": [
      "torch.Size([16, 1, 5, 5])\n",
      "torch.Size([16])\n",
      "torch.Size([32, 16, 5, 5])\n",
      "torch.Size([32])\n",
      "torch.Size([10, 1568])\n",
      "torch.Size([10])\n"
     ]
    }
   ],
   "source": [
    "print(list(model.parameters())[0].size()) # output channels, filters, kernel height, kernel width\n",
    "print(list(model.parameters())[1].size())\n",
    "print(list(model.parameters())[2].size())\n",
    "print(list(model.parameters())[3].size())\n",
    "print(list(model.parameters())[4].size())\n",
    "print(list(model.parameters())[5].size())"
   ]
  },
  {
   "cell_type": "code",
   "execution_count": 59,
   "metadata": {},
   "outputs": [
    {
     "name": "stdout",
     "output_type": "stream",
     "text": [
      "torch.Size([100, 1, 28, 28])\n",
      "Iteration: 500, Loss: 0.03004816547036171, Accurracy: 97.92\n",
      "Iteration: 1000, Loss: 0.11131425201892853, Accurracy: 97.92999999999999\n",
      "Iteration: 1500, Loss: 0.09197033196687698, Accurracy: 97.81\n",
      "Iteration: 2000, Loss: 0.07160643488168716, Accurracy: 98.06\n",
      "Iteration: 2500, Loss: 0.05089489370584488, Accurracy: 98.24000000000001\n",
      "Iteration: 3000, Loss: 0.07023483514785767, Accurracy: 98.25\n"
     ]
    }
   ],
   "source": [
    "iter=0\n",
    "for epoch in range(int(num_epochs)): # epoches=5\n",
    "    for images, labels in train_gen: # len(train_gen=600)\n",
    "        # convert inputs to Variables\n",
    "        if iter==1:\n",
    "            print(images.size()) # (100, 1, 28, 28)\n",
    "        images=Variable(images)\n",
    "        labels=Variable(labels)\n",
    "         \n",
    "        # clear grad buffers\n",
    "        optimizer.zero_grad()\n",
    "        \n",
    "        # get outputs with inputs\n",
    "        outputs=model(images)\n",
    "        \n",
    "        # loss\n",
    "        loss=criterion(outputs, labels)\n",
    "        \n",
    "        # backward gradients\n",
    "        loss.backward()\n",
    "        \n",
    "        # updating parameters\n",
    "        optimizer.step()\n",
    "        \n",
    "        # 1 iter: forward + backward pass\n",
    "        iter+=1\n",
    "        \n",
    "        if iter % 500==0:\n",
    "            correct=0\n",
    "            total=0\n",
    "            for images, labels in test_gen:\n",
    "                images=Variable(images)\n",
    "                outputs=model(images)\n",
    "                # images.data.size(): (100, 784)\n",
    "                # outputs.data.size(): (100, 10)\n",
    "                _, predicted=torch.max(outputs.data, 1)\n",
    "                \n",
    "                total+=labels.size(0)\n",
    "                \n",
    "                correct+=(predicted==labels).sum()\n",
    "            accuracy=correct/total*100\n",
    "            print(\"Iteration: {}, Loss: {}, Accurracy: {}\".format(iter, loss.data[0], accuracy))"
   ]
  },
  {
   "cell_type": "markdown",
   "metadata": {},
   "source": [
    "## more cnn models in pytorch"
   ]
  },
  {
   "cell_type": "code",
   "execution_count": 64,
   "metadata": {},
   "outputs": [],
   "source": [
    "class CNNModel2(nn.Module):\n",
    "    def __init__(self):\n",
    "        # inheritance\n",
    "        super(CNNModel2,self).__init__()\n",
    "        # conv 1\n",
    "        self.conv1=nn.Conv2d(in_channels=1, out_channels=16, kernel_size=5, stride=1, padding=2)\n",
    "        self.relu1=nn.ReLU()\n",
    "        # max pool 1\n",
    "        self.avgpool1=nn.AvgPool2d(kernel_size=2)\n",
    "        # conv 2\n",
    "        self.conv2=nn.Conv2d(in_channels=16, out_channels=32, kernel_size=5, stride=1,padding=2)\n",
    "        self.relu2=nn.ReLU()\n",
    "        # max pool 2\n",
    "        self.avgpool2=nn.AvgPool2d(kernel_size=2)\n",
    "        \n",
    "        # fc1\n",
    "        \n",
    "        self.fc1=nn.Linear(32*7*7, 10)\n",
    "        \n",
    "    def forward(self, inputs):\n",
    "        # conv 1\n",
    "        net=self.conv1(inputs)\n",
    "        net=self.relu1(net)\n",
    "        # max pool1\n",
    "        net=self.avgpool1(net)\n",
    "        # conv 2\n",
    "        net=self.conv2(net)\n",
    "        net=self.relu2(net)\n",
    "        # max pool2\n",
    "        out=self.avgpool2(net)\n",
    "        \n",
    "        # resize\n",
    "        # original size: (100, 32, 7, 7)\n",
    "        # new size: (100, 32*7*7)\n",
    "        out=out.view(out.size(0), -1)\n",
    "        out=self.fc1(out)\n",
    "        return out"
   ]
  },
  {
   "cell_type": "code",
   "execution_count": 65,
   "metadata": {},
   "outputs": [],
   "source": [
    "model2=CNNModel2()"
   ]
  },
  {
   "cell_type": "code",
   "execution_count": 66,
   "metadata": {},
   "outputs": [],
   "source": [
    "criterion=nn.CrossEntropyLoss()"
   ]
  },
  {
   "cell_type": "code",
   "execution_count": 69,
   "metadata": {},
   "outputs": [],
   "source": [
    "learning_rate=0.01\n",
    "optimizer=torch.optim.SGD(model2.parameters(), lr=learning_rate)"
   ]
  },
  {
   "cell_type": "code",
   "execution_count": 70,
   "metadata": {},
   "outputs": [
    {
     "name": "stdout",
     "output_type": "stream",
     "text": [
      "torch.Size([16, 1, 5, 5])\n",
      "torch.Size([16])\n",
      "torch.Size([32, 16, 5, 5])\n",
      "torch.Size([32])\n",
      "torch.Size([10, 1568])\n",
      "torch.Size([10])\n"
     ]
    }
   ],
   "source": [
    "print(list(model2.parameters())[0].size()) # output channels, filters, kernel height, kernel width\n",
    "print(list(model2.parameters())[1].size())\n",
    "print(list(model2.parameters())[2].size())\n",
    "print(list(model2.parameters())[3].size())\n",
    "print(list(model2.parameters())[4].size())\n",
    "print(list(model2.parameters())[5].size())"
   ]
  },
  {
   "cell_type": "code",
   "execution_count": 71,
   "metadata": {},
   "outputs": [
    {
     "name": "stdout",
     "output_type": "stream",
     "text": [
      "torch.Size([100, 1, 28, 28])\n",
      "Iteration: 500, Loss: 0.535190999507904, Accurracy: 83.67999999999999\n",
      "Iteration: 1000, Loss: 0.33017414808273315, Accurracy: 88.98\n",
      "Iteration: 1500, Loss: 0.3632943332195282, Accurracy: 90.38000000000001\n",
      "Iteration: 2000, Loss: 0.351043164730072, Accurracy: 91.4\n",
      "Iteration: 2500, Loss: 0.23424170911312103, Accurracy: 92.24\n",
      "Iteration: 3000, Loss: 0.44090530276298523, Accurracy: 93.01\n"
     ]
    }
   ],
   "source": [
    "iter=0\n",
    "for epoch in range(int(num_epochs)): # epoches=5\n",
    "    for images, labels in train_gen: # len(train_gen=600)\n",
    "        # convert inputs to Variables\n",
    "        if iter==1:\n",
    "            print(images.size()) # (100, 1, 28, 28)\n",
    "        images=Variable(images)\n",
    "        labels=Variable(labels)\n",
    "         \n",
    "        # clear grad buffers\n",
    "        optimizer.zero_grad()\n",
    "        \n",
    "        # get outputs with inputs\n",
    "        outputs=model2(images)\n",
    "        \n",
    "        # loss\n",
    "        loss=criterion(outputs, labels)\n",
    "        \n",
    "        # backward gradients\n",
    "        loss.backward()\n",
    "        \n",
    "        # updating parameters\n",
    "        optimizer.step()\n",
    "        \n",
    "        # 1 iter: forward + backward pass\n",
    "        iter+=1\n",
    "        \n",
    "        if iter % 500==0:\n",
    "            correct=0\n",
    "            total=0\n",
    "            for images, labels in test_gen:\n",
    "                images=Variable(images)\n",
    "                outputs=model2(images)\n",
    "                # images.data.size(): (100, 784)\n",
    "                # outputs.data.size(): (100, 10)\n",
    "                _, predicted=torch.max(outputs.data, 1)\n",
    "                \n",
    "                total+=labels.size(0)\n",
    "                \n",
    "                correct+=(predicted==labels).sum()\n",
    "            accuracy=correct/total*100\n",
    "            print(\"Iteration: {}, Loss: {}, Accurracy: {}\".format(iter, loss.data[0], accuracy))"
   ]
  },
  {
   "cell_type": "markdown",
   "metadata": {},
   "source": [
    "## Conclusion: Avgpooling accuracy < Maxpooling accuracy"
   ]
  },
  {
   "cell_type": "markdown",
   "metadata": {},
   "source": [
    "### another cnn: with valid padding (means no padding)"
   ]
  },
  {
   "cell_type": "code",
   "execution_count": 74,
   "metadata": {},
   "outputs": [],
   "source": [
    "class CNNModel3(nn.Module):\n",
    "    def __init__(self):\n",
    "        # inheritance\n",
    "        super(CNNModel3,self).__init__()\n",
    "        # conv 1\n",
    "        self.conv1=nn.Conv2d(in_channels=1, out_channels=16, kernel_size=5, stride=1, padding=0)\n",
    "        self.relu1=nn.ReLU()\n",
    "        # max pool 1\n",
    "        self.maxpool1=nn.MaxPool2d(kernel_size=2)\n",
    "        # conv 2\n",
    "        self.conv2=nn.Conv2d(in_channels=16, out_channels=32, kernel_size=5, stride=1,padding=0)\n",
    "        self.relu2=nn.ReLU()\n",
    "        # max pool 2\n",
    "        self.maxpool2=nn.MaxPool2d(kernel_size=2)\n",
    "        \n",
    "        # fc1\n",
    "        # 1. (28-5)/1+1\n",
    "        # 2. 24/2\n",
    "        # 3. (12-5)/1+1\n",
    "        # 4. 8/2\n",
    "        self.fc1=nn.Linear(32*4*4, 10)\n",
    "        \n",
    "    def forward(self, inputs):\n",
    "        # conv 1\n",
    "        net=self.conv1(inputs)\n",
    "        net=self.relu1(net)\n",
    "        # max pool1\n",
    "        net=self.maxpool1(net)\n",
    "        # conv 2\n",
    "        net=self.conv2(net)\n",
    "        net=self.relu2(net)\n",
    "        # max pool2\n",
    "        out=self.maxpool2(net)\n",
    "        \n",
    "        # resize\n",
    "        out=out.view(out.size(0), -1)\n",
    "        out=self.fc1(out)\n",
    "        return out"
   ]
  },
  {
   "cell_type": "code",
   "execution_count": 75,
   "metadata": {},
   "outputs": [],
   "source": [
    "model3=CNNModel3()"
   ]
  },
  {
   "cell_type": "code",
   "execution_count": 76,
   "metadata": {},
   "outputs": [],
   "source": [
    "criterion=nn.CrossEntropyLoss()"
   ]
  },
  {
   "cell_type": "code",
   "execution_count": 77,
   "metadata": {},
   "outputs": [],
   "source": [
    "learning_rate=0.01\n",
    "optimizer=torch.optim.SGD(model2.parameters(), lr=learning_rate)"
   ]
  },
  {
   "cell_type": "code",
   "execution_count": 79,
   "metadata": {},
   "outputs": [
    {
     "name": "stdout",
     "output_type": "stream",
     "text": [
      "torch.Size([16, 1, 5, 5])\n",
      "torch.Size([16])\n",
      "torch.Size([32, 16, 5, 5])\n",
      "torch.Size([32])\n",
      "torch.Size([10, 512])\n",
      "torch.Size([10])\n"
     ]
    }
   ],
   "source": [
    "print(list(model3.parameters())[0].size()) # output channels, filters, kernel height, kernel width\n",
    "print(list(model3.parameters())[1].size())\n",
    "print(list(model3.parameters())[2].size())\n",
    "print(list(model3.parameters())[3].size())\n",
    "print(list(model3.parameters())[4].size())\n",
    "print(list(model3.parameters())[5].size())"
   ]
  },
  {
   "cell_type": "code",
   "execution_count": 80,
   "metadata": {},
   "outputs": [
    {
     "name": "stdout",
     "output_type": "stream",
     "text": [
      "torch.Size([100, 1, 28, 28])\n",
      "Iteration: 500, Loss: 2.310438394546509, Accurracy: 93.01\n",
      "Iteration: 1000, Loss: 2.312199592590332, Accurracy: 93.01\n",
      "Iteration: 1500, Loss: 2.3113796710968018, Accurracy: 93.01\n",
      "Iteration: 2000, Loss: 2.319981336593628, Accurracy: 93.01\n",
      "Iteration: 2500, Loss: 2.306147813796997, Accurracy: 93.01\n",
      "Iteration: 3000, Loss: 2.300149917602539, Accurracy: 93.01\n"
     ]
    }
   ],
   "source": [
    "iter=0\n",
    "for epoch in range(int(num_epochs)): # epoches=5\n",
    "    for images, labels in train_gen: # len(train_gen=600)\n",
    "        # convert inputs to Variables\n",
    "        if iter==1:\n",
    "            print(images.size()) # (100, 1, 28, 28)\n",
    "        images=Variable(images)\n",
    "        labels=Variable(labels)\n",
    "         \n",
    "        # clear grad buffers\n",
    "        optimizer.zero_grad()\n",
    "        \n",
    "        # get outputs with inputs\n",
    "        outputs=model3(images)\n",
    "        \n",
    "        # loss\n",
    "        loss=criterion(outputs, labels)\n",
    "        \n",
    "        # backward gradients\n",
    "        loss.backward()\n",
    "        \n",
    "        # updating parameters\n",
    "        optimizer.step()\n",
    "        \n",
    "        # 1 iter: forward + backward pass\n",
    "        iter+=1\n",
    "        \n",
    "        if iter % 500==0:\n",
    "            correct=0\n",
    "            total=0\n",
    "            for images, labels in test_gen:\n",
    "                images=Variable(images)\n",
    "                outputs=model2(images)\n",
    "                # images.data.size(): (100, 784)\n",
    "                # outputs.data.size(): (100, 10)\n",
    "                _, predicted=torch.max(outputs.data, 1)\n",
    "                \n",
    "                total+=labels.size(0)\n",
    "                \n",
    "                correct+=(predicted==labels).sum()\n",
    "            accuracy=correct/total*100\n",
    "            print(\"Iteration: {}, Loss: {}, Accurracy: {}\".format(iter, loss.data[0], accuracy))"
   ]
  },
  {
   "cell_type": "markdown",
   "metadata": {},
   "source": [
    "## Conclusion: accuracy between model and model2"
   ]
  }
 ],
 "metadata": {
  "kernelspec": {
   "display_name": "Python 3",
   "language": "python",
   "name": "python3"
  },
  "language_info": {
   "codemirror_mode": {
    "name": "ipython",
    "version": 3
   },
   "file_extension": ".py",
   "mimetype": "text/x-python",
   "name": "python",
   "nbconvert_exporter": "python",
   "pygments_lexer": "ipython3",
   "version": "3.5.2"
  }
 },
 "nbformat": 4,
 "nbformat_minor": 2
}
