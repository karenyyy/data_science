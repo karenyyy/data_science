{
 "cells": [
  {
   "cell_type": "code",
   "execution_count": 10,
   "metadata": {},
   "outputs": [],
   "source": [
    "import sys\n",
    "sys.path.append('/home/karen/Downloads/data/')\n",
    "import torch\n",
    "from torch.autograd import Variable\n",
    "import cv2\n",
    "from data import BaseTransform, VOC_CLASSES\n",
    "from ssd import build_ssd\n",
    "import imageio"
   ]
  },
  {
   "cell_type": "code",
   "execution_count": 15,
   "metadata": {},
   "outputs": [],
   "source": [
    "import torch.nn as nn\n",
    "from torch.autograd import Function\n",
    "import torch.nn.init as init\n",
    "\n",
    "class L2Norm(nn.Module):\n",
    "    def __init__(self, n_channels, scale):\n",
    "        super(L2Norm,self).__init__()\n",
    "        self.n_channels = n_channels\n",
    "        self.gamma = scale or None\n",
    "        self.eps = 1e-10\n",
    "        self.weight = nn.Parameter(torch.Tensor(self.n_channels))\n",
    "        self.reset_parameters()\n",
    "\n",
    "    def reset_parameters(self):\n",
    "        init.constant(self.weight,self.gamma)\n",
    "\n",
    "    def forward(self, x):\n",
    "        norm = x.pow(2).sum(dim=1, keepdim=True).sqrt()+self.eps\n",
    "        x /= norm\n",
    "        out = self.weight.unsqueeze(0).unsqueeze(2).unsqueeze(3).expand_as(x) * x\n",
    "        return out"
   ]
  },
  {
   "cell_type": "code",
   "execution_count": 7,
   "metadata": {},
   "outputs": [],
   "source": [
    "def detect(frame, net, transform):\n",
    "    height, width=frame.shape[:2]\n",
    "    frame_t=transform(frame)[0]\n",
    "    x=torch.from_numpy(frame_t).transpose(2,0,1) # BRG\n",
    "    x=Variable(x.unsqueeze(0)) # expand-dim at the 0th(i.e the first) dimension\n",
    "    y=net(x)\n",
    "    detections=y.data\n",
    "    # detections = [batch, number of classes, number of occurence, (score,x0,y0,x1,y1)]\n",
    "    scale=torch.Tensor([width, height, width, height])\n",
    "    for i in range(detections.size(1)):\n",
    "        j=0\n",
    "        while detections[0,i,j,0]>=0.6: # prob of occurence\n",
    "            pt=(detections[0, i, j, 1:]*scale).numpy() # the detection rectangle\n",
    "            cv2.rectangle(frame, (int(pt[0]), int(pt[1]), int(pt[2]), int(pt[3])), (255,0,0)) # red rectangle\n",
    "            cv2.putText(frame, VOC_CLASSES[i-1], (int(pt[0]), int(pt[1]), int(pt[2]), int(pt[3])), cv2.FONT_HERSHEY_SIMPLEX, 2, (255,255,255),2, cv2.LINE_AA)\n",
    "            j+=1\n",
    "    return frame"
   ]
  },
  {
   "cell_type": "code",
   "execution_count": null,
   "metadata": {},
   "outputs": [],
   "source": []
  },
  {
   "cell_type": "code",
   "execution_count": null,
   "metadata": {},
   "outputs": [],
   "source": []
  },
  {
   "cell_type": "code",
   "execution_count": null,
   "metadata": {},
   "outputs": [],
   "source": []
  },
  {
   "cell_type": "code",
   "execution_count": 8,
   "metadata": {},
   "outputs": [],
   "source": [
    "net=build_ssd('test')"
   ]
  },
  {
   "cell_type": "code",
   "execution_count": 13,
   "metadata": {},
   "outputs": [],
   "source": [
    "net.load_state_dict(torch.load('/home/karen/Downloads/data/ssd_pretrained_weights.pth', map_location=lambda storage,loc:storage))"
   ]
  },
  {
   "cell_type": "code",
   "execution_count": null,
   "metadata": {},
   "outputs": [],
   "source": []
  }
 ],
 "metadata": {
  "kernelspec": {
   "display_name": "Python 3",
   "language": "python",
   "name": "python3"
  },
  "language_info": {
   "codemirror_mode": {
    "name": "ipython",
    "version": 3
   },
   "file_extension": ".py",
   "mimetype": "text/x-python",
   "name": "python",
   "nbconvert_exporter": "python",
   "pygments_lexer": "ipython3",
   "version": "3.5.2"
  }
 },
 "nbformat": 4,
 "nbformat_minor": 2
}
