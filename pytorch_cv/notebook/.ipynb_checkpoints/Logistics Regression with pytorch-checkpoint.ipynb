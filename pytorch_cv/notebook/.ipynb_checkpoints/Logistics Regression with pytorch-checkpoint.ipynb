{
 "cells": [
  {
   "cell_type": "markdown",
   "metadata": {},
   "source": [
    "### Output: probability [0, 1] given input belonging to a class"
   ]
  },
  {
   "cell_type": "code",
   "execution_count": 17,
   "metadata": {},
   "outputs": [],
   "source": [
    "import torch\n",
    "import torch.nn as nn\n",
    "import torchvision.transforms as transforms\n",
    "import torchvision.datasets as dsets\n",
    "from torch.autograd import Variable\n",
    "import matplotlib.pyplot as plt"
   ]
  },
  {
   "cell_type": "code",
   "execution_count": 3,
   "metadata": {},
   "outputs": [
    {
     "name": "stdout",
     "output_type": "stream",
     "text": [
      "Downloading http://yann.lecun.com/exdb/mnist/train-images-idx3-ubyte.gz\n",
      "Downloading http://yann.lecun.com/exdb/mnist/train-labels-idx1-ubyte.gz\n",
      "Downloading http://yann.lecun.com/exdb/mnist/t10k-images-idx3-ubyte.gz\n",
      "Downloading http://yann.lecun.com/exdb/mnist/t10k-labels-idx1-ubyte.gz\n",
      "Processing...\n",
      "Done!\n"
     ]
    }
   ],
   "source": [
    "train_dataset=dsets.MNIST(root=\"./data\",\n",
    "                          train=True,\n",
    "                          transform=transforms.ToTensor,\n",
    "                          download=True)"
   ]
  },
  {
   "cell_type": "code",
   "execution_count": 11,
   "metadata": {},
   "outputs": [],
   "source": [
    "test_dataset=dsets.MNIST(root=\"./data\",\n",
    "                          train=False,\n",
    "                          transform=transforms.ToTensor()) # important: ToTensor() not ToTensor, with the ()"
   ]
  },
  {
   "cell_type": "code",
   "execution_count": 14,
   "metadata": {},
   "outputs": [
    {
     "data": {
      "text/plain": [
       "torch.Size([1, 28, 28])"
      ]
     },
     "execution_count": 14,
     "metadata": {},
     "output_type": "execute_result"
    }
   ],
   "source": [
    "test_dataset[0][0].size()"
   ]
  },
  {
   "cell_type": "code",
   "execution_count": 15,
   "metadata": {},
   "outputs": [],
   "source": [
    "show_img=test_dataset[0][0].numpy().reshape(28,28)"
   ]
  },
  {
   "cell_type": "code",
   "execution_count": 19,
   "metadata": {},
   "outputs": [
    {
     "data": {
      "image/png": "[encoded data removed]",
      "text/plain": [
       "<matplotlib.figure.Figure at 0x7fe186be2438>"
      ]
     },
     "metadata": {},
     "output_type": "display_data"
    }
   ],
   "source": [
    "plt.imshow(show_img, cmap=\"gray\")\n",
    "plt.show()"
   ]
  },
  {
   "cell_type": "code",
   "execution_count": 20,
   "metadata": {},
   "outputs": [
    {
     "data": {
      "text/plain": [
       "7"
      ]
     },
     "execution_count": 20,
     "metadata": {},
     "output_type": "execute_result"
    }
   ],
   "source": [
    "# labels\n",
    "test_dataset[0][1]"
   ]
  },
  {
   "cell_type": "markdown",
   "metadata": {},
   "source": [
    "## make dataset iterable\n",
    "- total: 60000\n",
    "- batch_size: 100\n",
    "- iterations: 3000\n",
    "    - 1 iter: one minibatch forward and backward pass\n",
    "- epochs\n",
    "    - 1 epoch: running through the whole dataset once\n",
    "    - epochs = $$ iter \\div \\frac{total data}{batchsize}= \\frac{iter}{batches}=3000 \\div \\frac{60000}{100}=5 $$"
   ]
  },
  {
   "cell_type": "code",
   "execution_count": 22,
   "metadata": {},
   "outputs": [
    {
     "data": {
      "text/plain": [
       "5.0"
      ]
     },
     "execution_count": 22,
     "metadata": {},
     "output_type": "execute_result"
    }
   ],
   "source": [
    "iter=3000\n",
    "batch_size=100\n",
    "num_epochs=iter/(len(train_dataset)/batch_size)\n",
    "num_epochs"
   ]
  },
  {
   "cell_type": "markdown",
   "metadata": {},
   "source": [
    "### create iterable object from training dataset"
   ]
  },
  {
   "cell_type": "code",
   "execution_count": 23,
   "metadata": {},
   "outputs": [],
   "source": [
    "train_gen=torch.utils.data.DataLoader(dataset=train_dataset,\n",
    "                                     batch_size=batch_size,\n",
    "                                     shuffle=True)"
   ]
  },
  {
   "cell_type": "markdown",
   "metadata": {},
   "source": [
    "### check iterability"
   ]
  },
  {
   "cell_type": "code",
   "execution_count": 25,
   "metadata": {},
   "outputs": [
    {
     "data": {
      "text/plain": [
       "True"
      ]
     },
     "execution_count": 25,
     "metadata": {},
     "output_type": "execute_result"
    }
   ],
   "source": [
    "import collections\n",
    "isinstance(train_gen, collections.Iterable)"
   ]
  },
  {
   "cell_type": "markdown",
   "metadata": {},
   "source": [
    "### do the same for test dataset (shuffle = False for test data !!)"
   ]
  },
  {
   "cell_type": "code",
   "execution_count": 27,
   "metadata": {},
   "outputs": [],
   "source": [
    "test_gen=torch.utils.data.DataLoader(dataset=test_dataset,\n",
    "                                     batch_size=batch_size,\n",
    "                                     shuffle=False)"
   ]
  },
  {
   "cell_type": "markdown",
   "metadata": {},
   "source": [
    "## build the model"
   ]
  },
  {
   "cell_type": "code",
   "execution_count": 28,
   "metadata": {},
   "outputs": [],
   "source": [
    "class LogisticRegressionModel(nn.Module):\n",
    "    def __init__(self, input_size, output_size):\n",
    "        super(LogisticRegressionModel, self).__init__()\n",
    "        self.linear=nn.Linear(in_features=input_size, out_features=output_size)\n",
    "    \n",
    "    def forward(self, x):\n",
    "        return self.linear(x)"
   ]
  },
  {
   "cell_type": "code",
   "execution_count": 29,
   "metadata": {},
   "outputs": [],
   "source": [
    "input_dim=28*28\n",
    "output_dim=10\n",
    "\n",
    "model=LogisticRegressionModel(input_dim, output_dim)"
   ]
  },
  {
   "cell_type": "markdown",
   "metadata": {},
   "source": [
    "### loss function\n",
    "- CrossEntropyLoss\n",
    "    - softmax\n",
    "    - cross entropy"
   ]
  },
  {
   "cell_type": "code",
   "execution_count": 30,
   "metadata": {},
   "outputs": [],
   "source": [
    "criterion=nn.CrossEntropyLoss()"
   ]
  },
  {
   "cell_type": "markdown",
   "metadata": {},
   "source": [
    "### optimizer function\n",
    "$$\\theta = \\theta - \\eta \\cdot \\triangledown_{\\theta}$$"
   ]
  },
  {
   "cell_type": "code",
   "execution_count": 32,
   "metadata": {},
   "outputs": [],
   "source": [
    "learning_rate=0.001\n",
    "optimizer=torch.optim.SGD(model.parameters(), lr=learning_rate)"
   ]
  },
  {
   "cell_type": "code",
   "execution_count": 36,
   "metadata": {},
   "outputs": [
    {
     "name": "stdout",
     "output_type": "stream",
     "text": [
      "[Parameter containing:\n",
      "1.00000e-02 *\n",
      " 2.0430 -1.4102  3.0230  ...   1.2977  2.7280  2.3014\n",
      " 1.5703 -0.4671 -0.4509  ...  -2.1584 -1.1998 -2.5113\n",
      "-3.2384  0.9226  2.6514  ...  -1.5847  2.8715  0.2394\n",
      "          ...             ⋱             ...          \n",
      " 2.5621  1.1655 -2.5752  ...   0.6843 -0.3177  2.5184\n",
      " 3.1691 -1.7881 -3.0941  ...  -3.2183  1.4276 -0.9740\n",
      " 1.7864 -2.6409 -0.9407  ...   0.4672  1.1779  2.6315\n",
      "[torch.FloatTensor of size 10x784]\n",
      ", Parameter containing:\n",
      "1.00000e-02 *\n",
      " -1.5276\n",
      "  1.0308\n",
      " -1.6976\n",
      "  1.2017\n",
      " -0.3224\n",
      "  2.6856\n",
      "  1.6281\n",
      "  0.8288\n",
      "  3.1117\n",
      " -1.0356\n",
      "[torch.FloatTensor of size 10]\n",
      "]\n"
     ]
    }
   ],
   "source": [
    "print(list(model.parameters()))"
   ]
  },
  {
   "cell_type": "code",
   "execution_count": 39,
   "metadata": {},
   "outputs": [
    {
     "data": {
      "text/plain": [
       "Parameter containing:\n",
       "1.00000e-02 *\n",
       " 2.0430 -1.4102  3.0230  ...   1.2977  2.7280  2.3014\n",
       " 1.5703 -0.4671 -0.4509  ...  -2.1584 -1.1998 -2.5113\n",
       "-3.2384  0.9226  2.6514  ...  -1.5847  2.8715  0.2394\n",
       "          ...             ⋱             ...          \n",
       " 2.5621  1.1655 -2.5752  ...   0.6843 -0.3177  2.5184\n",
       " 3.1691 -1.7881 -3.0941  ...  -3.2183  1.4276 -0.9740\n",
       " 1.7864 -2.6409 -0.9407  ...   0.4672  1.1779  2.6315\n",
       "[torch.FloatTensor of size 10x784]"
      ]
     },
     "execution_count": 39,
     "metadata": {},
     "output_type": "execute_result"
    }
   ],
   "source": [
    "# FC 1 parameters\n",
    "list(model.parameters())[0]"
   ]
  },
  {
   "cell_type": "code",
   "execution_count": 41,
   "metadata": {},
   "outputs": [
    {
     "data": {
      "text/plain": [
       "Parameter containing:\n",
       "1.00000e-02 *\n",
       " -1.5276\n",
       "  1.0308\n",
       " -1.6976\n",
       "  1.2017\n",
       " -0.3224\n",
       "  2.6856\n",
       "  1.6281\n",
       "  0.8288\n",
       "  3.1117\n",
       " -1.0356\n",
       "[torch.FloatTensor of size 10]"
      ]
     },
     "execution_count": 41,
     "metadata": {},
     "output_type": "execute_result"
    }
   ],
   "source": [
    "# FC 1 bias parameters\n",
    "blist(model.parameters())[1]"
   ]
  },
  {
   "cell_type": "markdown",
   "metadata": {},
   "source": [
    "![]()"
   ]
  },
  {
   "cell_type": "code",
   "execution_count": null,
   "metadata": {},
   "outputs": [],
   "source": []
  },
  {
   "cell_type": "markdown",
   "metadata": {},
   "source": [
    "## train model\n",
    "- convert inputs images and labels to Variables\n",
    "- clear gradient buffets\n",
    "- get output given inputs"
   ]
  },
  {
   "cell_type": "code",
   "execution_count": null,
   "metadata": {},
   "outputs": [],
   "source": []
  }
 ],
 "metadata": {
  "kernelspec": {
   "display_name": "Python 3",
   "language": "python",
   "name": "python3"
  },
  "language_info": {
   "codemirror_mode": {
    "name": "ipython",
    "version": 3
   },
   "file_extension": ".py",
   "mimetype": "text/x-python",
   "name": "python",
   "nbconvert_exporter": "python",
   "pygments_lexer": "ipython3",
   "version": "3.5.2"
  }
 },
 "nbformat": 4,
 "nbformat_minor": 2
}
