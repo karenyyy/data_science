{
 "cells": [
  {
   "cell_type": "markdown",
   "metadata": {},
   "source": [
    "### Output: probability [0, 1] given input belonging to a class"
   ]
  },
  {
   "cell_type": "code",
   "execution_count": 105,
   "metadata": {},
   "outputs": [],
   "source": [
    "import torch\n",
    "import torch.nn as nn\n",
    "import torchvision.transforms as transforms\n",
    "import torchvision.datasets as dsets\n",
    "from torch.autograd import Variable\n",
    "import matplotlib.pyplot as plt"
   ]
  },
  {
   "cell_type": "code",
   "execution_count": 106,
   "metadata": {},
   "outputs": [],
   "source": [
    "train_dataset=dsets.MNIST(root=\"./data\",\n",
    "                          train=True,\n",
    "                          transform=transforms.ToTensor(),\n",
    "                          download=True)"
   ]
  },
  {
   "cell_type": "code",
   "execution_count": 158,
   "metadata": {},
   "outputs": [
    {
     "data": {
      "text/plain": [
       "60000"
      ]
     },
     "execution_count": 158,
     "metadata": {},
     "output_type": "execute_result"
    }
   ],
   "source": [
    "len(train_dataset)"
   ]
  },
  {
   "cell_type": "code",
   "execution_count": 107,
   "metadata": {},
   "outputs": [],
   "source": [
    "test_dataset=dsets.MNIST(root=\"./data\",\n",
    "                          train=False,\n",
    "                          transform=transforms.ToTensor()) # important: ToTensor() not ToTensor, with the ()"
   ]
  },
  {
   "cell_type": "code",
   "execution_count": 108,
   "metadata": {},
   "outputs": [
    {
     "data": {
      "text/plain": [
       "torch.Size([1, 28, 28])"
      ]
     },
     "execution_count": 108,
     "metadata": {},
     "output_type": "execute_result"
    }
   ],
   "source": [
    "test_dataset[0][0].size()"
   ]
  },
  {
   "cell_type": "code",
   "execution_count": 109,
   "metadata": {},
   "outputs": [],
   "source": [
    "show_img=test_dataset[0][0].numpy().reshape(28,28)"
   ]
  },
  {
   "cell_type": "code",
   "execution_count": 110,
   "metadata": {},
   "outputs": [
    {
     "data": {
      "image/png": "[encoded data removed]",
      "text/plain": [
       "<matplotlib.figure.Figure at 0x7fe1861f9160>"
      ]
     },
     "metadata": {},
     "output_type": "display_data"
    }
   ],
   "source": [
    "plt.imshow(show_img, cmap=\"gray\")\n",
    "plt.show()"
   ]
  },
  {
   "cell_type": "code",
   "execution_count": 111,
   "metadata": {},
   "outputs": [
    {
     "data": {
      "text/plain": [
       "7"
      ]
     },
     "execution_count": 111,
     "metadata": {},
     "output_type": "execute_result"
    }
   ],
   "source": [
    "# labels\n",
    "test_dataset[0][1]"
   ]
  },
  {
   "cell_type": "markdown",
   "metadata": {},
   "source": [
    "## make dataset iterable\n",
    "- total: 60000\n",
    "- batch_size: 100\n",
    "- iterations: 3000\n",
    "    - 1 iter: one minibatch forward and backward pass\n",
    "- epochs\n",
    "    - 1 epoch: running through the whole dataset once\n",
    "    - epochs = $$ iter \\div \\frac{total data}{batchsize}= \\frac{iter}{batches}=3000 \\div \\frac{60000}{100}=5 $$"
   ]
  },
  {
   "cell_type": "code",
   "execution_count": 112,
   "metadata": {},
   "outputs": [
    {
     "data": {
      "text/plain": [
       "5.0"
      ]
     },
     "execution_count": 112,
     "metadata": {},
     "output_type": "execute_result"
    }
   ],
   "source": [
    "iter=3000\n",
    "batch_size=100\n",
    "num_epochs=iter/(len(train_dataset)/batch_size)\n",
    "num_epochs"
   ]
  },
  {
   "cell_type": "markdown",
   "metadata": {},
   "source": [
    "### create iterable object from training dataset"
   ]
  },
  {
   "cell_type": "code",
   "execution_count": 113,
   "metadata": {},
   "outputs": [],
   "source": [
    "train_gen=torch.utils.data.DataLoader(dataset=train_dataset,\n",
    "                                     batch_size=batch_size)"
   ]
  },
  {
   "cell_type": "code",
   "execution_count": 159,
   "metadata": {},
   "outputs": [
    {
     "data": {
      "text/plain": [
       "600"
      ]
     },
     "execution_count": 159,
     "metadata": {},
     "output_type": "execute_result"
    }
   ],
   "source": [
    "len(train_gen)"
   ]
  },
  {
   "cell_type": "markdown",
   "metadata": {},
   "source": [
    "### check iterability"
   ]
  },
  {
   "cell_type": "code",
   "execution_count": 114,
   "metadata": {},
   "outputs": [
    {
     "data": {
      "text/plain": [
       "True"
      ]
     },
     "execution_count": 114,
     "metadata": {},
     "output_type": "execute_result"
    }
   ],
   "source": [
    "import collections\n",
    "isinstance(train_gen, collections.Iterable)"
   ]
  },
  {
   "cell_type": "markdown",
   "metadata": {},
   "source": [
    "### do the same for test dataset (shuffle = False for test data !!)"
   ]
  },
  {
   "cell_type": "code",
   "execution_count": 115,
   "metadata": {},
   "outputs": [],
   "source": [
    "test_gen=torch.utils.data.DataLoader(dataset=test_dataset,\n",
    "                                     batch_size=batch_size,\n",
    "                                     shuffle=False)"
   ]
  },
  {
   "cell_type": "code",
   "execution_count": 116,
   "metadata": {},
   "outputs": [
    {
     "data": {
      "text/plain": [
       "True"
      ]
     },
     "execution_count": 116,
     "metadata": {},
     "output_type": "execute_result"
    }
   ],
   "source": [
    "import collections\n",
    "isinstance(test_gen, collections.Iterable)"
   ]
  },
  {
   "cell_type": "markdown",
   "metadata": {},
   "source": [
    "## build the model"
   ]
  },
  {
   "cell_type": "code",
   "execution_count": 117,
   "metadata": {},
   "outputs": [],
   "source": [
    "class LogisticRegressionModel(nn.Module):\n",
    "    def __init__(self, input_dim, output_dim):\n",
    "        super(LogisticRegressionModel, self).__init__()\n",
    "        self.linear=nn.Linear(input_dim, output_dim)\n",
    "    \n",
    "    def forward(self, x):\n",
    "        return self.linear(x)"
   ]
  },
  {
   "cell_type": "code",
   "execution_count": 118,
   "metadata": {},
   "outputs": [],
   "source": [
    "input_dim=28*28\n",
    "output_dim=10\n",
    "\n",
    "model=LogisticRegressionModel(input_dim, output_dim)"
   ]
  },
  {
   "cell_type": "code",
   "execution_count": 148,
   "metadata": {},
   "outputs": [],
   "source": [
    "if torch.cuda.is_available():\n",
    "    model.cuda()"
   ]
  },
  {
   "cell_type": "markdown",
   "metadata": {},
   "source": [
    "### loss function\n",
    "- CrossEntropyLoss\n",
    "    - softmax\n",
    "    - cross entropy"
   ]
  },
  {
   "cell_type": "code",
   "execution_count": 149,
   "metadata": {},
   "outputs": [],
   "source": [
    "criterion=nn.CrossEntropyLoss()"
   ]
  },
  {
   "cell_type": "markdown",
   "metadata": {},
   "source": [
    "### optimizer function\n",
    "$$\\theta = \\theta - \\eta \\cdot \\triangledown_{\\theta}$$"
   ]
  },
  {
   "cell_type": "code",
   "execution_count": 150,
   "metadata": {},
   "outputs": [],
   "source": [
    "learning_rate=0.001\n",
    "optimizer=torch.optim.SGD(model.parameters(), lr=learning_rate)"
   ]
  },
  {
   "cell_type": "code",
   "execution_count": 151,
   "metadata": {},
   "outputs": [
    {
     "name": "stdout",
     "output_type": "stream",
     "text": [
      "[Parameter containing:\n",
      " 2.9148e-02  2.0584e-02 -1.8756e-02  ...  -7.5109e-03  1.5949e-03 -1.7543e-02\n",
      "-2.1806e-02  3.0784e-03  3.4229e-02  ...  -3.3077e-03  8.7504e-03  2.8028e-02\n",
      " 2.8973e-02  1.4081e-02  2.3112e-02  ...   1.0536e-02 -3.0887e-03 -3.1467e-02\n",
      "                ...                   ⋱                   ...                \n",
      "-3.0432e-02 -7.1189e-03  2.9053e-02  ...  -1.4085e-02 -1.1206e-02  3.2586e-02\n",
      "-1.8221e-02 -4.3541e-03 -1.3614e-02  ...  -1.9895e-02  1.8769e-02 -1.2394e-02\n",
      "-4.9883e-03  2.3742e-02 -7.9224e-03  ...   3.1887e-02  8.5291e-03  1.7561e-02\n",
      "[torch.cuda.FloatTensor of size 10x784 (GPU 0)]\n",
      ", Parameter containing:\n",
      "-0.0411\n",
      " 0.1093\n",
      "-0.0336\n",
      "-0.0077\n",
      " 0.0263\n",
      " 0.0664\n",
      " 0.0044\n",
      " 0.0746\n",
      "-0.1193\n",
      "-0.0417\n",
      "[torch.cuda.FloatTensor of size 10 (GPU 0)]\n",
      "]\n"
     ]
    }
   ],
   "source": [
    "print(list(model.parameters()))"
   ]
  },
  {
   "cell_type": "code",
   "execution_count": 152,
   "metadata": {},
   "outputs": [
    {
     "data": {
      "text/plain": [
       "Parameter containing:\n",
       " 2.9148e-02  2.0584e-02 -1.8756e-02  ...  -7.5109e-03  1.5949e-03 -1.7543e-02\n",
       "-2.1806e-02  3.0784e-03  3.4229e-02  ...  -3.3077e-03  8.7504e-03  2.8028e-02\n",
       " 2.8973e-02  1.4081e-02  2.3112e-02  ...   1.0536e-02 -3.0887e-03 -3.1467e-02\n",
       "                ...                   ⋱                   ...                \n",
       "-3.0432e-02 -7.1189e-03  2.9053e-02  ...  -1.4085e-02 -1.1206e-02  3.2586e-02\n",
       "-1.8221e-02 -4.3541e-03 -1.3614e-02  ...  -1.9895e-02  1.8769e-02 -1.2394e-02\n",
       "-4.9883e-03  2.3742e-02 -7.9224e-03  ...   3.1887e-02  8.5291e-03  1.7561e-02\n",
       "[torch.cuda.FloatTensor of size 10x784 (GPU 0)]"
      ]
     },
     "execution_count": 152,
     "metadata": {},
     "output_type": "execute_result"
    }
   ],
   "source": [
    "# FC 1 parameters\n",
    "list(model.parameters())[0]"
   ]
  },
  {
   "cell_type": "code",
   "execution_count": 153,
   "metadata": {},
   "outputs": [
    {
     "data": {
      "text/plain": [
       "Parameter containing:\n",
       "-0.0411\n",
       " 0.1093\n",
       "-0.0336\n",
       "-0.0077\n",
       " 0.0263\n",
       " 0.0664\n",
       " 0.0044\n",
       " 0.0746\n",
       "-0.1193\n",
       "-0.0417\n",
       "[torch.cuda.FloatTensor of size 10 (GPU 0)]"
      ]
     },
     "execution_count": 153,
     "metadata": {},
     "output_type": "execute_result"
    }
   ],
   "source": [
    "# FC 1 bias parameters\n",
    "list(model.parameters())[1]"
   ]
  },
  {
   "cell_type": "markdown",
   "metadata": {},
   "source": [
    "<img src=\"https://raw.githubusercontent.com/karenyyy/data_science/master/pytorch_cv/images/1.png\">"
   ]
  },
  {
   "cell_type": "markdown",
   "metadata": {},
   "source": [
    "## train model\n",
    "- convert inputs images and labels to Variables\n",
    "- get output given inputs\n",
    "- clear gradient buffers\n",
    "- __get loss__\n",
    "- __get gradients__ regarding to required parameters\n",
    "- __update parameters__ using gradients\n",
    "    - para=para-learning rate * grad\n",
    "- __LOOP__"
   ]
  },
  {
   "cell_type": "code",
   "execution_count": 157,
   "metadata": {},
   "outputs": [
    {
     "name": "stdout",
     "output_type": "stream",
     "text": [
      "Iteration: 500, Loss: 0.6537198424339294, Accurracy: 87.59\n",
      "Iteration: 1000, Loss: 0.6380895376205444, Accurracy: 87.74\n",
      "Iteration: 1500, Loss: 0.738538920879364, Accurracy: 87.81\n",
      "Iteration: 2000, Loss: 0.5727197527885437, Accurracy: 87.76\n",
      "Iteration: 2500, Loss: 0.40449437499046326, Accurracy: 87.94999999999999\n",
      "Iteration: 3000, Loss: 0.5783911943435669, Accurracy: 88.01\n"
     ]
    }
   ],
   "source": [
    "iter=0\n",
    "for epoch in range(int(num_epochs)): # epoches=5\n",
    "    for images, labels in train_gen: # len(train_gen=600)\n",
    "        \n",
    "        # convert inputs to Variables\n",
    "        images=Variable(images.view(-1, 28*28).cuda())\n",
    "        labels=Variable(labels.cuda())\n",
    "         \n",
    "        # clear grad buffers\n",
    "        optimizer.zero_grad()\n",
    "        \n",
    "        # get outputs with inputs\n",
    "        outputs=model(images)\n",
    "        \n",
    "        # loss\n",
    "        loss=criterion(outputs, labels)\n",
    "        \n",
    "        # backward gradients\n",
    "        loss.backward()\n",
    "        \n",
    "        # updating parameters\n",
    "        optimizer.step()\n",
    "        \n",
    "        # 1 iter: forward + backward pass\n",
    "        iter+=1\n",
    "        \n",
    "        if iter % 500==0:\n",
    "            correct=0\n",
    "            total=0\n",
    "            for images, labels in test_gen:\n",
    "                images=Variable(images.view(-1, 28*28).cuda())\n",
    "                outputs=model(images)\n",
    "                # images.data.size(): (100, 784)\n",
    "                # outputs.data.size(): (100, 10)\n",
    "                _, predicted=torch.max(outputs.data, 1)\n",
    "                \n",
    "                total+=labels.size(0)\n",
    "                \n",
    "                correct+=(predicted.cuda()==labels.cuda()).sum()\n",
    "            accuracy=correct/total*100\n",
    "            print(\"Iteration: {}, Loss: {}, Accurracy: {}\".format(iter, loss.data[0], accuracy))"
   ]
  },
  {
   "cell_type": "code",
   "execution_count": 160,
   "metadata": {},
   "outputs": [
    {
     "name": "stdout",
     "output_type": "stream",
     "text": [
      "89.0 % testing accuracy\n"
     ]
    }
   ],
   "source": [
    "iter_test=0\n",
    "for images, labels in test_gen:\n",
    "    images=Variable(images.view(-1, 28*28).cuda())\n",
    "    outputs=model(images)\n",
    "    _,predicted=torch.max(outputs.data, 1)\n",
    "    iter_test+=1\n",
    "    if iter_test==1:\n",
    "        print((predicted.cuda()==labels.cuda()).sum()/len(predicted)*100, \"% testing accuracy\")"
   ]
  }
 ],
 "metadata": {
  "kernelspec": {
   "display_name": "Python 3",
   "language": "python",
   "name": "python3"
  },
  "language_info": {
   "codemirror_mode": {
    "name": "ipython",
    "version": 3
   },
   "file_extension": ".py",
   "mimetype": "text/x-python",
   "name": "python",
   "nbconvert_exporter": "python",
   "pygments_lexer": "ipython3",
   "version": "3.5.2"
  }
 },
 "nbformat": 4,
 "nbformat_minor": 2
}
