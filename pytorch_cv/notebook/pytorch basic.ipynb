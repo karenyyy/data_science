{
 "cells": [
  {
   "cell_type": "code",
   "execution_count": 1,
   "metadata": {},
   "outputs": [],
   "source": [
    "import torch\n",
    "import matplotlib.pyplot as plt"
   ]
  },
  {
   "cell_type": "code",
   "execution_count": 2,
   "metadata": {},
   "outputs": [
    {
     "data": {
      "text/plain": [
       "\n",
       " 1  2\n",
       " 3  4\n",
       "[torch.FloatTensor of size 2x2]"
      ]
     },
     "execution_count": 2,
     "metadata": {},
     "output_type": "execute_result"
    }
   ],
   "source": [
    "array=[[1,2], [3,4]]\n",
    "torch.Tensor(array)"
   ]
  },
  {
   "cell_type": "code",
   "execution_count": 22,
   "metadata": {},
   "outputs": [],
   "source": [
    "if torch.cuda.is_available():\n",
    "    torch.rand(2,2).cuda()"
   ]
  },
  {
   "cell_type": "code",
   "execution_count": 5,
   "metadata": {},
   "outputs": [
    {
     "name": "stdout",
     "output_type": "stream",
     "text": [
      "\n",
      " 1  1\n",
      " 1  1\n",
      "[torch.ByteTensor of size 2x2]\n",
      "\n"
     ]
    }
   ],
   "source": [
    "import numpy as np\n",
    "\n",
    "np_array=np.ones((2,2), dtype=np.uint8)\n",
    "print(torch.from_numpy(np_array))"
   ]
  },
  {
   "cell_type": "code",
   "execution_count": 6,
   "metadata": {},
   "outputs": [
    {
     "data": {
      "text/plain": [
       "array([[ 1.,  1.],\n",
       "       [ 1.,  1.]], dtype=float32)"
      ]
     },
     "execution_count": 6,
     "metadata": {},
     "output_type": "execute_result"
    }
   ],
   "source": [
    "torch_tensor=torch.ones(2,2)\n",
    "torch_tensor.numpy()"
   ]
  },
  {
   "cell_type": "code",
   "execution_count": 7,
   "metadata": {},
   "outputs": [
    {
     "data": {
      "text/plain": [
       "\n",
       " 3.0277\n",
       "[torch.FloatTensor of size 1]"
      ]
     },
     "execution_count": 7,
     "metadata": {},
     "output_type": "execute_result"
    }
   ],
   "source": [
    "torch.Tensor([1,2,3,4,5,6,7,8,9,10]).std(dim=0)"
   ]
  },
  {
   "cell_type": "markdown",
   "metadata": {},
   "source": [
    "## Variables and gradients"
   ]
  },
  {
   "cell_type": "code",
   "execution_count": 8,
   "metadata": {},
   "outputs": [
    {
     "data": {
      "text/plain": [
       "Variable containing:\n",
       " 0.5322  0.3271\n",
       " 0.5562  0.6388\n",
       "[torch.FloatTensor of size 2x2]"
      ]
     },
     "execution_count": 8,
     "metadata": {},
     "output_type": "execute_result"
    }
   ],
   "source": [
    "from torch.autograd import Variable\n",
    "a=Variable(torch.ones(2,2), requires_grad=True)\n",
    "b=Variable(torch.rand(2,2), requires_grad=True)\n",
    "torch.mul(a,b)"
   ]
  },
  {
   "cell_type": "code",
   "execution_count": 9,
   "metadata": {},
   "outputs": [
    {
     "data": {
      "text/plain": [
       "Variable containing:\n",
       " 10\n",
       "[torch.FloatTensor of size 1x1]"
      ]
     },
     "execution_count": 9,
     "metadata": {},
     "output_type": "execute_result"
    }
   ],
   "source": [
    "x=Variable(torch.ones(1,1), requires_grad=True)\n",
    "y=5*(x+1)**2\n",
    "o=(1/2)*torch.sum(y)\n",
    "o\n",
    "o.backward()\n",
    "x.grad"
   ]
  },
  {
   "cell_type": "code",
   "execution_count": 10,
   "metadata": {},
   "outputs": [
    {
     "data": {
      "image/png": "[encoded data removed]",
      "text/plain": [
       "<matplotlib.figure.Figure at 0x7f88b2d93f28>"
      ]
     },
     "metadata": {},
     "output_type": "display_data"
    }
   ],
   "source": [
    "n=50\n",
    "x=np.random.randn(n)\n",
    "y=x*np.random.randn(n)\n",
    "\n",
    "colors=np.random.rand(n)\n",
    "\n",
    "plt.plot(np.unique(x),np.poly1d(np.polyfit(x,y,1))(np.unique(x)))\n",
    "plt.scatter(x,y,c=colors,alpha=0.5)\n",
    "plt.show()"
   ]
  },
  {
   "cell_type": "markdown",
   "metadata": {},
   "source": [
    "## Build model"
   ]
  },
  {
   "cell_type": "code",
   "execution_count": 11,
   "metadata": {},
   "outputs": [],
   "source": [
    "import torch\n",
    "import torch.nn as nn\n",
    "from torch.autograd import Variable\n",
    "import numpy as np"
   ]
  },
  {
   "cell_type": "code",
   "execution_count": 12,
   "metadata": {},
   "outputs": [],
   "source": [
    "class LinearRegressionModel(nn.Module):\n",
    "    def __init__(self, input_size, output_size):\n",
    "        super(LinearRegressionModel, self).__init__()\n",
    "        self.linear=nn.Linear(in_features=input_size, out_features=output_size)\n",
    "    \n",
    "    def forward(self, x):\n",
    "        return self.linear(x)"
   ]
  },
  {
   "cell_type": "code",
   "execution_count": 13,
   "metadata": {},
   "outputs": [],
   "source": [
    "input_dim=1\n",
    "output_dim=1\n",
    "\n",
    "model=LinearRegressionModel(input_dim, output_dim)"
   ]
  },
  {
   "cell_type": "code",
   "execution_count": 14,
   "metadata": {},
   "outputs": [],
   "source": [
    "criterion=nn.MSELoss()"
   ]
  },
  {
   "cell_type": "code",
   "execution_count": 15,
   "metadata": {},
   "outputs": [],
   "source": [
    "learning_rate=0.01\n",
    "optimizer=torch.optim.SGD(model.parameters(), lr=learning_rate)"
   ]
  },
  {
   "cell_type": "code",
   "execution_count": 16,
   "metadata": {},
   "outputs": [
    {
     "name": "stdout",
     "output_type": "stream",
     "text": [
      "epoch 0, loss 106.28778076171875\n",
      "epoch 1, loss 18.60418701171875\n",
      "epoch 2, loss 3.453016757965088\n",
      "epoch 3, loss 0.832769513130188\n",
      "epoch 4, loss 0.3774281442165375\n",
      "epoch 5, loss 0.2961316406726837\n",
      "epoch 6, loss 0.2794860005378723\n",
      "epoch 7, loss 0.27403855323791504\n",
      "epoch 8, loss 0.2705548107624054\n",
      "epoch 9, loss 0.267439067363739\n",
      "epoch 10, loss 0.2644151449203491\n",
      "epoch 11, loss 0.2614351212978363\n",
      "epoch 12, loss 0.2584902048110962\n",
      "epoch 13, loss 0.2555789649486542\n",
      "epoch 14, loss 0.2527005076408386\n",
      "epoch 15, loss 0.24985432624816895\n",
      "epoch 16, loss 0.24704034626483917\n",
      "epoch 17, loss 0.24425789713859558\n",
      "epoch 18, loss 0.2415069043636322\n",
      "epoch 19, loss 0.23878693580627441\n",
      "epoch 20, loss 0.23609760403633118\n",
      "epoch 21, loss 0.23343853652477264\n",
      "epoch 22, loss 0.23080937564373016\n",
      "epoch 23, loss 0.22820977866649628\n",
      "epoch 24, loss 0.22563953697681427\n",
      "epoch 25, loss 0.2230982780456543\n",
      "epoch 26, loss 0.22058573365211487\n",
      "epoch 27, loss 0.21810121834278107\n",
      "epoch 28, loss 0.2156449556350708\n",
      "epoch 29, loss 0.21321602165699005\n",
      "epoch 30, loss 0.21081475913524628\n",
      "epoch 31, loss 0.20844046771526337\n",
      "epoch 32, loss 0.20609283447265625\n",
      "epoch 33, loss 0.203771710395813\n",
      "epoch 34, loss 0.20147661864757538\n",
      "epoch 35, loss 0.19920754432678223\n",
      "epoch 36, loss 0.19696375727653503\n",
      "epoch 37, loss 0.1947455108165741\n",
      "epoch 38, loss 0.19255222380161285\n",
      "epoch 39, loss 0.19038346409797668\n",
      "epoch 40, loss 0.18823926150798798\n",
      "epoch 41, loss 0.1861191987991333\n",
      "epoch 42, loss 0.18402303755283356\n",
      "epoch 43, loss 0.18195047974586487\n",
      "epoch 44, loss 0.17990124225616455\n",
      "epoch 45, loss 0.17787505686283112\n",
      "epoch 46, loss 0.17587170004844666\n",
      "epoch 47, loss 0.17389102280139923\n",
      "epoch 48, loss 0.17193244397640228\n",
      "epoch 49, loss 0.16999609768390656\n",
      "epoch 50, loss 0.16808141767978668\n",
      "epoch 51, loss 0.16618840396404266\n",
      "epoch 52, loss 0.1643165647983551\n",
      "epoch 53, loss 0.16246607899665833\n",
      "epoch 54, loss 0.1606362760066986\n",
      "epoch 55, loss 0.1588270217180252\n",
      "epoch 56, loss 0.15703821182250977\n",
      "epoch 57, loss 0.1552695780992508\n",
      "epoch 58, loss 0.15352068841457367\n",
      "epoch 59, loss 0.15179160237312317\n",
      "epoch 60, loss 0.1500820815563202\n",
      "epoch 61, loss 0.14839184284210205\n",
      "epoch 62, loss 0.14672057330608368\n",
      "epoch 63, loss 0.14506812393665314\n",
      "epoch 64, loss 0.14343427121639252\n",
      "epoch 65, loss 0.1418187916278839\n",
      "epoch 66, loss 0.14022156596183777\n",
      "epoch 67, loss 0.1386423408985138\n",
      "epoch 68, loss 0.1370808184146881\n",
      "epoch 69, loss 0.13553689420223236\n",
      "epoch 70, loss 0.13401038944721222\n",
      "epoch 71, loss 0.1325010359287262\n",
      "epoch 72, loss 0.13100871443748474\n",
      "epoch 73, loss 0.12953321635723114\n",
      "epoch 74, loss 0.12807440757751465\n",
      "epoch 75, loss 0.12663185596466064\n",
      "epoch 76, loss 0.12520566582679749\n",
      "epoch 77, loss 0.12379548698663712\n",
      "epoch 78, loss 0.1224011555314064\n",
      "epoch 79, loss 0.12102259695529938\n",
      "epoch 80, loss 0.11965961754322052\n",
      "epoch 81, loss 0.11831194162368774\n",
      "epoch 82, loss 0.11697951704263687\n",
      "epoch 83, loss 0.11566201597452164\n",
      "epoch 84, loss 0.11435934156179428\n",
      "epoch 85, loss 0.11307138204574585\n",
      "epoch 86, loss 0.11179782450199127\n",
      "epoch 87, loss 0.11053870618343353\n",
      "epoch 88, loss 0.10929372161626816\n",
      "epoch 89, loss 0.10806278139352798\n",
      "epoch 90, loss 0.10684569180011749\n",
      "epoch 91, loss 0.10564231872558594\n",
      "epoch 92, loss 0.10445252805948257\n",
      "epoch 93, loss 0.10327613353729248\n",
      "epoch 94, loss 0.10211290419101715\n",
      "epoch 95, loss 0.10096291452646255\n",
      "epoch 96, loss 0.09982583671808243\n",
      "epoch 97, loss 0.09870152175426483\n",
      "epoch 98, loss 0.09758985787630081\n",
      "epoch 99, loss 0.09649074077606201\n"
     ]
    }
   ],
   "source": [
    "epoches=100\n",
    "\n",
    "x=[i for i in range(10)]\n",
    "x_train=np.array(x, dtype=np.float32)\n",
    "x_train=x_train.reshape(-1, 1) # make sure it only got one column\n",
    "\n",
    "y=[2*i+1 for i in range(10)]\n",
    "y_train=np.array(y, dtype=np.float32)\n",
    "y_train=y_train.reshape(-1, 1)\n",
    "\n",
    "\n",
    "for epoch in range(epoches):\n",
    "  \n",
    "    inputs=Variable(torch.from_numpy(x_train))\n",
    "    labels=Variable(torch.from_numpy(y_train))\n",
    "    \n",
    "    # clear gradients and parameters\n",
    "    optimizer.zero_grad()\n",
    "    outputs=model(inputs)\n",
    "    \n",
    "    loss=criterion(outputs, labels)\n",
    "    loss.backward()\n",
    "    \n",
    "    # updating parameters\n",
    "    optimizer.step()\n",
    "    \n",
    "    print(\"epoch {}, loss {}\".format(epoch, loss.data[0]))"
   ]
  },
  {
   "cell_type": "code",
   "execution_count": 24,
   "metadata": {},
   "outputs": [
    {
     "data": {
      "text/plain": [
       "array([[  0.42598221],\n",
       "       [  2.51752353],\n",
       "       [  4.60906458],\n",
       "       [  6.70060587],\n",
       "       [  8.79214764],\n",
       "       [ 10.88368893],\n",
       "       [ 12.97523022],\n",
       "       [ 15.06677151],\n",
       "       [ 17.15831184],\n",
       "       [ 19.24985313]], dtype=float32)"
      ]
     },
     "execution_count": 24,
     "metadata": {},
     "output_type": "execute_result"
    }
   ],
   "source": [
    "estimated=model(Variable(torch.from_numpy(x_train))).data.numpy()\n",
    "estimated"
   ]
  },
  {
   "cell_type": "code",
   "execution_count": 25,
   "metadata": {},
   "outputs": [
    {
     "data": {
      "text/plain": [
       "array([[  1.],\n",
       "       [  3.],\n",
       "       [  5.],\n",
       "       [  7.],\n",
       "       [  9.],\n",
       "       [ 11.],\n",
       "       [ 13.],\n",
       "       [ 15.],\n",
       "       [ 17.],\n",
       "       [ 19.]], dtype=float32)"
      ]
     },
     "execution_count": 25,
     "metadata": {},
     "output_type": "execute_result"
    }
   ],
   "source": [
    "y_train"
   ]
  },
  {
   "cell_type": "markdown",
   "metadata": {},
   "source": [
    "### plot the result"
   ]
  },
  {
   "cell_type": "code",
   "execution_count": 27,
   "metadata": {},
   "outputs": [
    {
     "data": {
      "image/png": "[encoded data removed]",
      "text/plain": [
       "<matplotlib.figure.Figure at 0x7f888c98cfd0>"
      ]
     },
     "metadata": {},
     "output_type": "display_data"
    }
   ],
   "source": [
    "# clear the canvas\n",
    "plt.clf()\n",
    "\n",
    "estimated=model(Variable(torch.from_numpy(x_train))).data.numpy()\n",
    "\n",
    "plt.plot(x_train, y_train, \"go\", label=\"True data\", alpha=0.5) # \"go\": green, o for points\n",
    "plt.plot(x_train, estimated, \"--\", label=\"Predictions\", alpha=0.5)\n",
    "plt.legend(loc=\"best\") # auto locate the most appropriate location on graph\n",
    "plt.show()"
   ]
  },
  {
   "cell_type": "markdown",
   "metadata": {},
   "source": [
    "### save the model parameters"
   ]
  },
  {
   "cell_type": "code",
   "execution_count": 29,
   "metadata": {},
   "outputs": [],
   "source": [
    "save_model=False\n",
    "if save_model is True:\n",
    "    torch.save(model.state_dict(), \"basic_model.pkl\")"
   ]
  }
 ],
 "metadata": {
  "kernelspec": {
   "display_name": "Python 3",
   "language": "python",
   "name": "python3"
  },
  "language_info": {
   "codemirror_mode": {
    "name": "ipython",
    "version": 3
   },
   "file_extension": ".py",
   "mimetype": "text/x-python",
   "name": "python",
   "nbconvert_exporter": "python",
   "pygments_lexer": "ipython3",
   "version": "3.5.2"
  }
 },
 "nbformat": 4,
 "nbformat_minor": 2
}
