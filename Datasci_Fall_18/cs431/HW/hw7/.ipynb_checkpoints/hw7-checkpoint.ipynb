{
 "cells": [
  {
   "cell_type": "markdown",
   "metadata": {
    "heading_collapsed": true
   },
   "source": [
    "### Load the data"
   ]
  },
  {
   "cell_type": "code",
   "execution_count": 40,
   "metadata": {
    "hidden": true
   },
   "outputs": [],
   "source": [
    "import pandas as pd\n",
    "from datetime import datetime\n",
    "import pymysql "
   ]
  },
  {
   "cell_type": "code",
   "execution_count": 41,
   "metadata": {
    "hidden": true
   },
   "outputs": [],
   "source": [
    "department = pd.read_csv('departments.csv', sep=',')\n",
    "department.columns = ['department_name']\n",
    "shift = pd.read_csv('shifts.csv', sep=',')\n",
    "shift.columns = ['from_time', 'length']\n",
    "employees = pd.read_csv('employees.csv', sep=',')\n",
    "employees.emptype = employees.emptype.fillna('')\n",
    "schedule = pd.read_csv('schedule.csv', sep=',')\n",
    "schedule.columns = ['date', 'empid', 'dept', 'start_time', 'shift_length']"
   ]
  },
  {
   "cell_type": "markdown",
   "metadata": {},
   "source": [
    "### Manipulate the data"
   ]
  },
  {
   "cell_type": "code",
   "execution_count": 48,
   "metadata": {},
   "outputs": [],
   "source": [
    "class DataSqlLoader:\n",
    "    def __init__(self, database):\n",
    "        # connect to mysql local server\n",
    "        self.db = pymysql.Connect(\n",
    "            host='us-cdbr-iron-east-01.cleardb.net', \n",
    "            port=3306, \n",
    "            user='b033ff6b193dc0', \n",
    "            passwd='02f96442', \n",
    "            db=database)\n",
    "        self.c = self.db.cursor()\n",
    "    \n",
    "    # convert the shift and schedule time to `time` format compatible in MySQL\n",
    "    def convert_time_format(self, time):\n",
    "        return datetime.strptime('{}'.format(time), '%I%p').strftime('%H:%M:%S')\n",
    "    \n",
    "    # convert schedule date to `date` format compatible in MySQL\n",
    "    def convert_date_format(self, time):\n",
    "        return datetime.strptime('{}'.format(time), '%m/%d/%Y').strftime('%Y-%m-%d')\n",
    "    \n",
    "    def creat_tables(self):\n",
    "        self.c.execute('''\n",
    "                create table if not exists department\n",
    "                (\n",
    "                  department_id  int auto_increment\n",
    "                    primary key,\n",
    "                  department_name varchar(50) not null\n",
    "                );\n",
    "                ''')\n",
    "        self.c.execute('''\n",
    "            create table if not exists shift\n",
    "            (\n",
    "              shift_id int auto_increment\n",
    "                primary key,\n",
    "              from_time   time not null,\n",
    "              length   int  not null\n",
    "            );\n",
    "            ''')\n",
    "        self.c.execute('''\n",
    "            create table if not exists schedule\n",
    "            (\n",
    "              schedule_id  int auto_increment\n",
    "                primary key,\n",
    "              date         date        not null,\n",
    "              empid        varchar(10) not null,\n",
    "              dept         varchar(50) not null,\n",
    "              start_time   time        not null,\n",
    "              shift_length int         not null\n",
    "            );\n",
    "            ''')\n",
    "        self.c.execute('''\n",
    "            create table if not exists employees\n",
    "            (\n",
    "              empid     varchar(10) not null primary key,\n",
    "              lastname  varchar(20) not null,\n",
    "              firstname varchar(20) not null,\n",
    "              emptype   varchar(3)  null,\n",
    "              cellphone varchar(20) null,\n",
    "              homephone varchar(20) null,\n",
    "              ftpt      varchar(2)  not null,\n",
    "              constraint employee_empid_uindex\n",
    "              unique (empid)\n",
    "            );\n",
    "        ''')\n",
    "        \n",
    "        self.c.execute('''\n",
    "            create table if not exists department_managers\n",
    "            (\n",
    "                dept_name varchar(20),\n",
    "                manager varchar(30)\n",
    "            );\n",
    "        ''')\n",
    "    \n",
    "    def insert_into_tables(self, table, table_name):\n",
    "        for i in range(len(table)):\n",
    "            attributes = '{}'.format(tuple(table.columns.tolist())).replace(\"'\",\"\")\n",
    "            query = \"insert into {} {} values {};\".format(\n",
    "                table_name, attributes, tuple(table.iloc[i,:].values))\n",
    "            query = query.replace(\"(none)\",\"\")\n",
    "            query = query.replace(r\",)\",\")\")\n",
    "            # print(query)\n",
    "            try:\n",
    "                self.c.execute(query)\n",
    "                self.db.commit()\n",
    "            except Exception as e:\n",
    "                print(e)\n",
    "                \n",
    "    def close(self):\n",
    "        self.db.close()"
   ]
  },
  {
   "cell_type": "code",
   "execution_count": 106,
   "metadata": {},
   "outputs": [],
   "source": [
    "dsl = DataSqlLoader('heroku_f2b490785080ebd')\n",
    "# dsl.creat_tables()\n",
    "\n",
    "# schedule['start_time'] = list(map(lambda x: dsl.convert_time_format(x), \n",
    "#                                   schedule['start_time']))\n",
    "# shift['from_time'] = list(map(lambda x: dsl.convert_time_format(x), \n",
    "#                               shift['from_time']))\n",
    "# schedule['date'] = list(map(lambda x: dsl.convert_date_format(x), \n",
    "#                             schedule['date']))\n",
    "\n",
    "# dsl.insert_into_tables(department, 'department')\n",
    "# dsl.insert_into_tables(shift, 'shift')\n",
    "# dsl.insert_into_tables(schedule,'schedule')\n",
    "# dsl.insert_into_tables(employees, 'employees')"
   ]
  },
  {
   "cell_type": "markdown",
   "metadata": {
    "heading_collapsed": true
   },
   "source": [
    "### ER Diagram"
   ]
  },
  {
   "cell_type": "markdown",
   "metadata": {
    "hidden": true
   },
   "source": [
    "![](1.png)"
   ]
  },
  {
   "cell_type": "markdown",
   "metadata": {},
   "source": [
    "### SQL Query\n",
    "\n",
    "__php demo site: [click here](http://cs431project-jxy225.herokuapp.com/)__\n",
    "\n",
    "(source code attached in the submission)"
   ]
  },
  {
   "cell_type": "markdown",
   "metadata": {
    "heading_collapsed": true
   },
   "source": [
    "#### 1. Show tables"
   ]
  },
  {
   "cell_type": "code",
   "execution_count": 62,
   "metadata": {
    "hidden": true,
    "scrolled": true
   },
   "outputs": [
    {
     "name": "stdout",
     "output_type": "stream",
     "text": [
      "\\begin{tabular}{ll}\n",
      "\\toprule\n",
      "{} & Tables\\_in\\_heroku\\_f2b490785080ebd \\\\\n",
      "\\midrule\n",
      "0 &                       department \\\\\n",
      "1 &              department\\_managers \\\\\n",
      "2 &                        employees \\\\\n",
      "3 &                         schedule \\\\\n",
      "4 &                            shift \\\\\n",
      "\\bottomrule\n",
      "\\end{tabular}\n",
      "\n"
     ]
    }
   ],
   "source": [
    "query = 'show tables;'\n",
    "tables = pd.read_sql(query, dsl.db)\n",
    "print(tables.to_latex())"
   ]
  },
  {
   "cell_type": "markdown",
   "metadata": {
    "heading_collapsed": true
   },
   "source": [
    "#### 2. Describe tables"
   ]
  },
  {
   "cell_type": "code",
   "execution_count": 55,
   "metadata": {
    "hidden": true,
    "scrolled": true
   },
   "outputs": [
    {
     "name": "stdout",
     "output_type": "stream",
     "text": [
      "             Field         Type Null  Key Default           Extra\n",
      "0    department_id      int(11)   NO  PRI    None  auto_increment\n",
      "1  department_name  varchar(50)   NO         None                \n",
      "\n",
      "\n",
      "       Field         Type Null Key Default Extra\n",
      "0  dept_name  varchar(20)  YES        None      \n",
      "1    manager  varchar(30)  YES        None      \n",
      "\n",
      "\n",
      "       Field         Type Null  Key Default Extra\n",
      "0      empid  varchar(10)   NO  PRI    None      \n",
      "1   lastname  varchar(20)   NO         None      \n",
      "2  firstname  varchar(20)   NO         None      \n",
      "3    emptype   varchar(3)  YES         None      \n",
      "4  cellphone  varchar(20)  YES         None      \n",
      "5  homephone  varchar(20)  YES         None      \n",
      "6       ftpt   varchar(2)   NO         None      \n",
      "\n",
      "\n",
      "          Field         Type Null  Key Default           Extra\n",
      "0   schedule_id      int(11)   NO  PRI    None  auto_increment\n",
      "1          date         date   NO         None                \n",
      "2         empid  varchar(10)   NO         None                \n",
      "3          dept  varchar(50)   NO         None                \n",
      "4    start_time         time   NO         None                \n",
      "5  shift_length      int(11)   NO         None                \n",
      "\n",
      "\n",
      "       Field     Type Null  Key Default           Extra\n",
      "0   shift_id  int(11)   NO  PRI    None  auto_increment\n",
      "1  from_time     time   NO         None                \n",
      "2     length  int(11)   NO         None                \n",
      "\n",
      "\n"
     ]
    }
   ],
   "source": [
    "for table in tables.values:\n",
    "    query = 'describe {};'.format(table[0])\n",
    "    df = pd.read_sql(query, dsl.db)\n",
    "    print(df)\n",
    "    print('\\n')"
   ]
  },
  {
   "cell_type": "markdown",
   "metadata": {
    "heading_collapsed": true
   },
   "source": [
    "#### 3. Find out the need of employees of certain type in certain department during certain period _(eg: EMERGENCY, RN, from 2018-10-03 to 2018-10-11)_\n"
   ]
  },
  {
   "cell_type": "code",
   "execution_count": 91,
   "metadata": {
    "hidden": true
   },
   "outputs": [
    {
     "name": "stdout",
     "output_type": "stream",
     "text": [
      "\\begin{tabular}{llllll}\n",
      "\\toprule\n",
      "{} & Department & EmployeeID &        Date & ShiftStartTime & EmployeeType \\\\\n",
      "\\midrule\n",
      "0 &  EMERGENCY &     940824 &  2018-10-03 &           11PM &           RN \\\\\n",
      "1 &  EMERGENCY &     854480 &  2018-10-04 &           03PM &           RN \\\\\n",
      "2 &  EMERGENCY &     860127 &  2018-10-05 &           07AM &           RN \\\\\n",
      "3 &  EMERGENCY &     945540 &  2018-10-07 &           07AM &           RN \\\\\n",
      "4 &  EMERGENCY &     921331 &  2018-10-07 &           07PM &           RN \\\\\n",
      "\\bottomrule\n",
      "\\end{tabular}\n",
      "\n"
     ]
    }
   ],
   "source": [
    "query = '''\n",
    "    SELECT s.dept AS Department,\n",
    "        s.empid AS EmployeeID,\n",
    "        s.date AS Date,\n",
    "        date_format(s.start_time, '%I%p') AS ShiftStartTime,\n",
    "        e.emptype AS EmployeeType\n",
    "                FROM schedule as s, department as d, employees as e\n",
    "                WHERE s.dept=d.department_name\n",
    "                      AND s.empid = e.empid\n",
    "                      AND s.date >= '2018-10-03'\n",
    "                      AND s.date <= '2019-10-11'\n",
    "                      AND s.dept = 'EMERGENCY'\n",
    "                      AND e.emptype = 'RN'\n",
    "                ORDER BY d.department_id, s.date;\n",
    "        '''\n",
    "tables = pd.read_sql(query, dsl.db)\n",
    "print(tables.to_latex())"
   ]
  },
  {
   "cell_type": "markdown",
   "metadata": {
    "heading_collapsed": true
   },
   "source": [
    "#### 4.  Find out whether certain employee has been scheduled on a certain date _(eg: Remona Locke on 2018-10-03)_"
   ]
  },
  {
   "cell_type": "code",
   "execution_count": 92,
   "metadata": {
    "hidden": true
   },
   "outputs": [
    {
     "name": "stdout",
     "output_type": "stream",
     "text": [
      "\\begin{tabular}{llllllll}\n",
      "\\toprule\n",
      "Empty DataFrame\n",
      "Columns: Index(['ScheduleID', 'EmployeeID', 'Fullname', 'Department', 'Date',\n",
      "       'ShiftStartTime', 'ShiftLength'],\n",
      "      dtype='object')\n",
      "Index: Index([], dtype='object') \\\\\n",
      "\\bottomrule\n",
      "\\end{tabular}\n",
      "\n"
     ]
    }
   ],
   "source": [
    "query = '''\n",
    "    SELECT s.schedule_id AS ScheduleID,\n",
    "                            s.empid AS EmployeeID,\n",
    "                            concat(e.firstname, ' ', e.lastname) AS Fullname,\n",
    "                            s.dept AS Department,\n",
    "                            s.date AS Date,\n",
    "                            date_format(s.start_time, '%I%p') AS ShiftStartTime,\n",
    "                            s.shift_length AS ShiftLength\n",
    "                    FROM employees as e, schedule as s\n",
    "                    WHERE s.empid = e.empid\n",
    "                      AND e.firstname = 'Remona'\n",
    "                      AND e.lastname = 'Locke'\n",
    "                      AND s.date = '2018-10-03'\n",
    "        '''\n",
    "tables = pd.read_sql(query, dsl.db)\n",
    "print(tables.to_latex())"
   ]
  },
  {
   "cell_type": "markdown",
   "metadata": {
    "heading_collapsed": true
   },
   "source": [
    "#### 5. If not, then this employee is open for schedule"
   ]
  },
  {
   "cell_type": "code",
   "execution_count": 95,
   "metadata": {
    "hidden": true
   },
   "outputs": [
    {
     "data": {
      "text/plain": [
       "1"
      ]
     },
     "execution_count": 95,
     "metadata": {},
     "output_type": "execute_result"
    }
   ],
   "source": [
    "query = '''\n",
    "    INSERT INTO schedule (date, empid, dept, start_time, shift_length) VALUES\n",
    "                      ('2018-10-03',\n",
    "                       (SELECT empid FROM employees WHERE firstname='Remona' AND lastname='Locke'),\n",
    "                       'EMERGENCY',\n",
    "                       '12:00:00',\n",
    "                        8)\n",
    "'''\n",
    "dsl.c.execute(query)"
   ]
  },
  {
   "cell_type": "markdown",
   "metadata": {
    "heading_collapsed": true
   },
   "source": [
    "#### 6. Check the schedule"
   ]
  },
  {
   "cell_type": "code",
   "execution_count": 96,
   "metadata": {
    "hidden": true
   },
   "outputs": [
    {
     "name": "stdout",
     "output_type": "stream",
     "text": [
      "\\begin{tabular}{lrlllllr}\n",
      "\\toprule\n",
      "{} &  ScheduleID & EmployeeID &      Fullname & Department &        Date & ShiftStartTime &  ShiftLength \\\\\n",
      "\\midrule\n",
      "0 &        4371 &     854480 &  Remona Locke &  EMERGENCY &  2018-10-03 &           12PM &            8 \\\\\n",
      "\\bottomrule\n",
      "\\end{tabular}\n",
      "\n"
     ]
    }
   ],
   "source": [
    "query = '''\n",
    "    SELECT s.schedule_id AS ScheduleID,\n",
    "                            s.empid AS EmployeeID,\n",
    "                            concat(e.firstname, ' ', e.lastname) AS Fullname,\n",
    "                            s.dept AS Department,\n",
    "                            s.date AS Date,\n",
    "                            date_format(s.start_time, '%I%p') AS ShiftStartTime,\n",
    "                            s.shift_length AS ShiftLength\n",
    "                    FROM employees as e, schedule as s\n",
    "                    WHERE s.empid = e.empid\n",
    "                      AND e.firstname = 'Remona'\n",
    "                      AND e.lastname = 'Locke'\n",
    "                      AND s.date = '2018-10-03'\n",
    "        '''\n",
    "tables = pd.read_sql(query, dsl.db)\n",
    "print(tables.to_latex())"
   ]
  },
  {
   "cell_type": "markdown",
   "metadata": {
    "heading_collapsed": true
   },
   "source": [
    "#### 7. Unschedule"
   ]
  },
  {
   "cell_type": "code",
   "execution_count": 107,
   "metadata": {
    "hidden": true
   },
   "outputs": [
    {
     "data": {
      "text/plain": [
       "1"
      ]
     },
     "execution_count": 107,
     "metadata": {},
     "output_type": "execute_result"
    }
   ],
   "source": [
    "query = '''\n",
    "    SELECT s.schedule_id\n",
    "         FROM employees as e, schedule as s\n",
    "         WHERE s.empid = e.empid\n",
    "         AND e.firstname = 'Remona'\n",
    "         AND e.lastname = 'Locke'\n",
    "         AND s.date = '2018-10-03'\n",
    "        '''\n",
    "dsl.c.execute(query)\n",
    "schedule_id  = dsl.c.fetchall()[0][0]\n",
    "query = '''\n",
    "    DELETE FROM schedule WHERE schedule_id={}\n",
    "    '''.format(schedule_id)\n",
    "dsl.c.execute(query)"
   ]
  },
  {
   "cell_type": "markdown",
   "metadata": {
    "heading_collapsed": true
   },
   "source": [
    "#### 8. Check the employee has been unscheduled"
   ]
  },
  {
   "cell_type": "code",
   "execution_count": 109,
   "metadata": {
    "hidden": true
   },
   "outputs": [
    {
     "name": "stdout",
     "output_type": "stream",
     "text": [
      "\\begin{tabular}{llllllll}\n",
      "\\toprule\n",
      "Empty DataFrame\n",
      "Columns: Index(['ScheduleID', 'EmployeeID', 'Fullname', 'Department', 'Date',\n",
      "       'ShiftStartTime', 'ShiftLength'],\n",
      "      dtype='object')\n",
      "Index: Index([], dtype='object') \\\\\n",
      "\\bottomrule\n",
      "\\end{tabular}\n",
      "\n"
     ]
    }
   ],
   "source": [
    "query = '''\n",
    "    SELECT s.schedule_id AS ScheduleID,\n",
    "                            s.empid AS EmployeeID,\n",
    "                            concat(e.firstname, ' ', e.lastname) AS Fullname,\n",
    "                            s.dept AS Department,\n",
    "                            s.date AS Date,\n",
    "                            date_format(s.start_time, '%I%p') AS ShiftStartTime,\n",
    "                            s.shift_length AS ShiftLength\n",
    "                    FROM employees as e, schedule as s\n",
    "                    WHERE s.empid = e.empid\n",
    "                      AND e.firstname = 'Remona'\n",
    "                      AND e.lastname = 'Locke'\n",
    "                      AND s.date = '2018-10-03'\n",
    "        '''\n",
    "tables = pd.read_sql(query, dsl.db)\n",
    "print(tables.to_latex())"
   ]
  }
 ],
 "metadata": {
  "kernelspec": {
   "display_name": "Python 3",
   "language": "python",
   "name": "python3"
  },
  "language_info": {
   "codemirror_mode": {
    "name": "ipython",
    "version": 3
   },
   "file_extension": ".py",
   "mimetype": "text/x-python",
   "name": "python",
   "nbconvert_exporter": "python",
   "pygments_lexer": "ipython3",
   "version": "3.6.6"
  },
  "latex_envs": {
   "LaTeX_envs_menu_present": true,
   "autoclose": false,
   "autocomplete": true,
   "bibliofile": "biblio.bib",
   "cite_by": "apalike",
   "current_citInitial": 1,
   "eqLabelWithNumbers": true,
   "eqNumInitial": 1,
   "hotkeys": {
    "equation": "Ctrl-E",
    "itemize": "Ctrl-I"
   },
   "labels_anchors": false,
   "latex_user_defs": false,
   "report_style_numbering": false,
   "user_envs_cfg": false
  },
  "varInspector": {
   "cols": {
    "lenName": 16,
    "lenType": 16,
    "lenVar": 40
   },
   "kernels_config": {
    "python": {
     "delete_cmd_postfix": "",
     "delete_cmd_prefix": "del ",
     "library": "var_list.py",
     "varRefreshCmd": "print(var_dic_list())"
    },
    "r": {
     "delete_cmd_postfix": ") ",
     "delete_cmd_prefix": "rm(",
     "library": "var_list.r",
     "varRefreshCmd": "cat(var_dic_list()) "
    }
   },
   "types_to_exclude": [
    "module",
    "function",
    "builtin_function_or_method",
    "instance",
    "_Feature"
   ],
   "window_display": false
  }
 },
 "nbformat": 4,
 "nbformat_minor": 2
}
