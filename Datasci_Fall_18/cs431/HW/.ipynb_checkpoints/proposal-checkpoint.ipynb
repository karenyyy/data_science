{
 "cells": [
  {
   "cell_type": "markdown",
   "metadata": {},
   "source": [
    "# Topic Proposal (initial draft, to be updated)"
   ]
  },
  {
   "cell_type": "markdown",
   "metadata": {},
   "source": [
    "## Introducing and Comparing NoSQL Database Management Systems"
   ]
  },
  {
   "cell_type": "markdown",
   "metadata": {},
   "source": [
    "### Abstract"
   ]
  },
  {
   "cell_type": "markdown",
   "metadata": {},
   "source": [
    "With the exponentially generated and accumulated data from varied sources like mobile devices, mechanical sensors, financial transactions, satellite imaging, the task of data managing gets much more challenging day after day. And these collected raw data are in a wide range of forms, most are unstructured, like images, videos, audios, etc. In the whole data processing pipeline, starting from data integrating and storing, it's already a quite essential part. Since the consistency, accessibility, velocity of data inserting and retrieving might make a huge difference to the following data manipulation tasks, especially in fields like finance, social networks, etc. Thus making an optimal choice of the right database for different data format, different data volume, different business focus like whether velocity or consistency is more important for the client's perspective.\n",
    "\n",
    "Widely used Database Management Systems are Relational DBMS such as SQL (MySQL, SQL Server), and NoSQL(Not Only SQL). Why the relational DBMS is limited is that due to its strong focus on consistency and reliability and ACID guaranteed (ACID: Atomicity, Consistency, Isolation and Durability), thus also making it difficult for scaling, which is one of the many reasons why NoSQL is considered better than SQL. To reach a balance between availability and consistency, NoSQL achieve more optimal level of consistency by slightly sacrificing its availability.\n",
    "\n",
    " NoSQL also can reduce the level of availability to achieve higher consistency. However there are still many remaining problems which NoSQL databases cannot solve. As a result, providers produced distinct data model CDBMSs(Cloud Database Management System) to satisfy different requirements, whereas each of them are present an imperfection.\n",
    "\n",
    "\n",
    "\n",
    "By design, NoSQL databases and management systems are relation-less (or schema-less). They are not based on a single model (e.g. relational model of RDBMSs) and each database, depending on their target-functionality, adopt a different one.\n",
    "\n",
    "There are almost a handful of different operational models and functioning systems for NoSQL databases.:"
   ]
  },
  {
   "cell_type": "markdown",
   "metadata": {},
   "source": [
    "### Goal"
   ]
  },
  {
   "cell_type": "markdown",
   "metadata": {},
   "source": [
    "The proposed goal of the paper is to give a precise introduction of the  NoSQL DBMS and provide a comparison of some of the most frequently used in the industries nowadays, Cassandra, HBase and MongoDB, mainly from 4 aspects: their mechanism, important features, advantages, existing problems."
   ]
  },
  {
   "cell_type": "markdown",
   "metadata": {},
   "source": [
    "### Proposing Outline"
   ]
  },
  {
   "cell_type": "markdown",
   "metadata": {},
   "source": [
    "#### NoSQL Data Models"
   ]
  },
  {
   "cell_type": "markdown",
   "metadata": {},
   "source": [
    "There are four frequently used data models of NoSQL databases:\n",
    "\n",
    "- Key / Value Store:\n",
    "\n",
    "    - e.g. Redis, MemcacheDB\n",
    "\n",
    "- Column Store:\n",
    "\n",
    "    - e.g. Cassandra, HBase\n",
    "\n",
    "- Document:\n",
    "\n",
    "    - e.g. MongoDB, Couchbase\n",
    "\n",
    "- Graph:\n",
    "\n",
    "    - e.g. OrientDB, Neo4J, etc. "
   ]
  },
  {
   "cell_type": "markdown",
   "metadata": {},
   "source": [
    "#### Comparison"
   ]
  },
  {
   "cell_type": "markdown",
   "metadata": {},
   "source": [
    "From the varied industrial level used NoSQL DBMS, we mainly discuss the following 3 and would make comprehensive comparisons among these DBMS:\n",
    "\n",
    "- Cassandra\n",
    "- Mongodb\n",
    "- Hbase\n",
    "\n",
    "on factors listed below:\n",
    "    \n",
    " - mechanism\n",
    "     - Architecture\n",
    "     - Data Model\n",
    " - features\n",
    "     - Partition\n",
    "     - Replication\n",
    " - advantage\n",
    " - disadvantage\n"
   ]
  },
  {
   "cell_type": "markdown",
   "metadata": {},
   "source": [
    "##### Cassandra (very rough example, more details will be concluded) "
   ]
  },
  {
   "cell_type": "markdown",
   "metadata": {},
   "source": [
    "Cassandra is an open source DBMS, with a peer-to-peer distributed system across its nodes, in this way it achieves a high availability.\n",
    "Its data model si inherited from BigTable, with the keyspaces being the container of data, in which contains column families. Row-keys are the identifiers of columns. Cassandra could always achieve a better performance by querying on row-keys. \n",
    "\n",
    "\n",
    "As a distributed database management system, it partitions the data across all participating nodes in the cluster. There are two partitioning strategies in Cassandra: Random partitioning (default and recommended) and Ordered partitioning. If partitioning is initialized, every change made will not be processed without reloading the whole data again.\n",
    "\n",
    "In every transaction, Cassandra replicates data to achieve high availability by storing replicas on multiple nodes in the cluster to guarantee reasonable fault tolerance. So Cassandra rely on a high speed and low latency network connection. Since it does not operate under the master-slave replication strategy like in HBase, thus situations like the single points failures do not exist in Cassandra, ensuring higher level of availability. But in this case, the extra transactions incurred between could be expensive.\n",
    "\n",
    "do not exist any single points failure, because it does not operate under the master-slave replication strategy. These bring lots of advantages in availability, however this will bring more extra transaction between nodes.\n",
    "\n",
    "\n",
    "In the CAP(Consistency, Availability, Partition tolerance) theorem,\n",
    "Cassandra satisfied the Availability and Partition tolerance, these are its major advantages. It needs to trade-off between availability and consistency depending on the actual context of tasks, it can achieve strong consistency and eventual consistency by configuration. \n",
    "\n",
    "\n",
    "- Level of satisfaction of ACID\n",
    "\n",
    "ACID represents Atomicity, Consistency, Isolation and Durability. In Cassandra, Firstly, all individual writes are atomic at the row level. Secondly, even Though Cassandra could provide strict consistency, but it is a different scope with Consistency in ACID. Thirdly, Nothing is isolated in Cassandra. Finally, the commit log contribute to the updates durable. In Hbase, Firstly, the mutations also atomic within a row level. Secondly, Scan operations can provide a consistent view of data in HBase. Thirdly, writes in HBase is isolated by locking the rows, and reads is not isolated. Finally, all the visible or retrievable data are durable in HBase.\n",
    "\n",
    "\n",
    "\n",
    "\n"
   ]
  }
 ],
 "metadata": {
  "kernelspec": {
   "display_name": "Python 3",
   "language": "python",
   "name": "python3"
  },
  "language_info": {
   "codemirror_mode": {
    "name": "ipython",
    "version": 3
   },
   "file_extension": ".py",
   "mimetype": "text/x-python",
   "name": "python",
   "nbconvert_exporter": "python",
   "pygments_lexer": "ipython3",
   "version": "3.5.2"
  },
  "varInspector": {
   "cols": {
    "lenName": 16,
    "lenType": 16,
    "lenVar": 40
   },
   "kernels_config": {
    "python": {
     "delete_cmd_postfix": "",
     "delete_cmd_prefix": "del ",
     "library": "var_list.py",
     "varRefreshCmd": "print(var_dic_list())"
    },
    "r": {
     "delete_cmd_postfix": ") ",
     "delete_cmd_prefix": "rm(",
     "library": "var_list.r",
     "varRefreshCmd": "cat(var_dic_list()) "
    }
   },
   "types_to_exclude": [
    "module",
    "function",
    "builtin_function_or_method",
    "instance",
    "_Feature"
   ],
   "window_display": false
  }
 },
 "nbformat": 4,
 "nbformat_minor": 2
}
