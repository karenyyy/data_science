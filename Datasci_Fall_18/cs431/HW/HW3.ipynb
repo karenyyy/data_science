{
 "cells": [
  {
   "cell_type": "markdown",
   "metadata": {
    "heading_collapsed": true
   },
   "source": [
    "### Tables"
   ]
  },
  {
   "cell_type": "markdown",
   "metadata": {
    "hidden": true
   },
   "source": [
    "![](table.png)"
   ]
  },
  {
   "cell_type": "markdown",
   "metadata": {},
   "source": [
    "### Create Tables and Insert values with MySQL"
   ]
  },
  {
   "cell_type": "markdown",
   "metadata": {
    "heading_collapsed": true
   },
   "source": [
    "#### DEPARTMENT"
   ]
  },
  {
   "cell_type": "code",
   "execution_count": 2,
   "metadata": {
    "hidden": true
   },
   "outputs": [],
   "source": [
    "CREATE TABLE DEPARTMENT\n",
    "(\n",
    "  DepartmentID   INT AUTO_INCREMENT\n",
    "    PRIMARY KEY,\n",
    "  Name           VARCHAR(100) NOT NULL,\n",
    "  OfficeAddress  VARCHAR(100) NULL,\n",
    "  DepartmentHead VARCHAR(100) NULL,\n",
    "  OfficePhone    VARCHAR(100) NULL,\n",
    "  UNIQUE (DepartmentID)\n",
    ");"
   ]
  },
  {
   "cell_type": "markdown",
   "metadata": {
    "hidden": true
   },
   "source": [
    "![](department_1.png)"
   ]
  },
  {
   "cell_type": "code",
   "execution_count": null,
   "metadata": {
    "hidden": true
   },
   "outputs": [],
   "source": [
    "INSERT INTO DEPARTMENT (Name, OfficeAddress, DepartmentHead, OfficePhone) VALUES \n",
    "  ('Neurology', 'Area A, Floor 1', 'Dr. Gregory House', '(814) 587-2335');\n",
    "\n",
    "INSERT INTO DEPARTMENT (Name, OfficeAddress, DepartmentHead, OfficePhone) VALUES \n",
    "  ('Cardiology', 'Area B, Floor 2', 'Dr. Lisa Cuddy', '(814) 587-2334');\n",
    "\n",
    "INSERT INTO DEPARTMENT (Name, OfficeAddress, DepartmentHead, OfficePhone) VALUES \n",
    "  ('Critical care', 'Area C, Floor 3', 'Dr. Eric Foreman', '(814) 587-2339');\n",
    "\n",
    "INSERT INTO DEPARTMENT (Name, OfficeAddress, DepartmentHead, OfficePhone) VALUES \n",
    "  ('Diagnostic imaging', 'Area D, Floor 4', 'Dr. Allison Cameron', '(814) 587-2336');\n",
    "\n",
    "INSERT INTO DEPARTMENT (Name, OfficeAddress, DepartmentHead, OfficePhone) VALUES \n",
    "  ('Oncology', 'Area E, Floor 5', 'Dr. James Wilson', '(814) 587-2331');"
   ]
  },
  {
   "cell_type": "markdown",
   "metadata": {
    "hidden": true
   },
   "source": [
    " 1 row inserted. \n",
    " \n",
    "Inserted row id: 1 (Query took 0.0479 seconds.)\n",
    "\n",
    "INSERT INTO DEPARTMENT (Name, OfficeAddress, DepartmentHead, OfficePhone) VALUES ('Neurology', 'Area A, Floor 1', 'Dr. Gregory House', '(814) 587-2335')\n",
    "\n",
    " 1 row inserted. \n",
    " \n",
    "Inserted row id: 2 (Query took 0.3064 seconds.)\n",
    "\n",
    "INSERT INTO DEPARTMENT (Name, OfficeAddress, DepartmentHead, OfficePhone) VALUES ('Cardiology', 'Area B, Floor 2', 'Dr. Lisa Cuddy', '(814) 587-2334')\n",
    "\n",
    " 1 row inserted. \n",
    " \n",
    "Inserted row id: 3 (Query took 0.0391 seconds.)\n",
    "\n",
    "INSERT INTO DEPARTMENT (Name, OfficeAddress, DepartmentHead, OfficePhone) VALUES ('Critical care', 'Area C, Floor 3', 'Dr. Eric Foreman', '(814) 587-2339')\n",
    "\n",
    " 1 row inserted. \n",
    " \n",
    "Inserted row id: 4 (Query took 0.0460 seconds.)\n",
    "\n",
    "INSERT INTO DEPARTMENT (Name, OfficeAddress, DepartmentHead, OfficePhone) VALUES ('Diagnostic imaging', 'Area D, Floor 4', 'Dr. Allison Cameron', '(814) 587-2336')\n",
    "\n",
    " 1 row inserted. \n",
    " \n",
    "Inserted row id: 5 (Query took 0.0459 seconds.)\n",
    "\n",
    "INSERT INTO DEPARTMENT (Name, OfficeAddress, DepartmentHead, OfficePhone) VALUES ('Oncology', 'Area E, Floor 5', 'Dr. James Wilson', '(814) 587-2331')\n",
    "\n"
   ]
  },
  {
   "cell_type": "markdown",
   "metadata": {
    "hidden": true
   },
   "source": [
    "![](department_2.png)"
   ]
  },
  {
   "cell_type": "markdown",
   "metadata": {
    "heading_collapsed": true
   },
   "source": [
    "#### EMPLOYEE"
   ]
  },
  {
   "cell_type": "code",
   "execution_count": null,
   "metadata": {
    "hidden": true
   },
   "outputs": [],
   "source": [
    "CREATE TABLE EMPLOYEE\n",
    "(\n",
    "  EmployeeID INT AUTO_INCREMENT\n",
    "    PRIMARY KEY,\n",
    "  Name       VARCHAR(100) NULL,\n",
    "  Phone      VARCHAR(20)  NULL,\n",
    "  Email      VARCHAR(30)  NULL,\n",
    "  Address    VARCHAR(100) NULL,\n",
    "  SSN        VARCHAR(20)  NULL,\n",
    "  Certification   VARCHAR(100) NULL,\n",
    "  CONSTRAINT EMPLOYEE_EmployeeID_uindex\n",
    "  UNIQUE (EmployeeID)\n",
    ");\n"
   ]
  },
  {
   "cell_type": "markdown",
   "metadata": {
    "hidden": true
   },
   "source": [
    "![](employee_1.png)"
   ]
  },
  {
   "cell_type": "code",
   "execution_count": null,
   "metadata": {
    "hidden": true
   },
   "outputs": [],
   "source": [
    "INSERT INTO EMPLOYEE (Name, Phone, Email, Address, SSN, Certification) VALUES \n",
    "  ('Sydney Heron', '(814) 563-7401', 'sh@gmail.com', '711-2880 Nulla St. Manka\n",
    "   to PA', '670-20-1234', 'Certified Pediatric Nurse (CPN)');\n",
    "\n",
    "INSERT INTO EMPLOYEE (Name, Phone, Email, Address, SSN, Certification) VALUES \n",
    "  ('Reed Adamson', '(814) 563-7402', 'ra@gmail.com', '606-3727 Ullamcorper. \n",
    "   Street Roseville PA', '670-20-4321', 'AIDS Certified Registered Nurse (ACRN)');\n",
    "\n",
    "INSERT INTO EMPLOYEE (Name, Phone, Email, Address, SSN, Certification) VALUES \n",
    "  ('Megan Mostow', '(814) 563-7403', 'mm@gmail.com', 'Ap #867-859 Sit Rd. Azusa \n",
    "   New York', '670-20-6789', 'Family Nurse Practitioner');\n",
    "\n",
    "INSERT INTO EMPLOYEE (Name, Phone, Email, Address, SSN, Certification) VALUES \n",
    "  ('Sadie Harris', '(814) 563-7404', 'sah@gmail.com', '7292 Dictum Av. San Antonio \n",
    "   MI', '770-20-4356', 'Certified Registered Nurse Anesthetist (CRNA)');\n",
    "\n",
    "INSERT INTO EMPLOYEE (Name, Phone, Email, Address, SSN, Certification) VALUES \n",
    "  ('Heather Brooks', '(814) 563-7404', 'hb@gmail.com', 'Ap #651-8679 Sodales Av. \n",
    "   Tamuning PA', '770-20-4509', 'Advanced Oncology Certified Nurse (AOCN)');"
   ]
  },
  {
   "cell_type": "markdown",
   "metadata": {
    "hidden": true
   },
   "source": [
    " 1 row inserted. \n",
    " \n",
    "Inserted row id: 1 (Query took 0.0845 seconds.)\n",
    "\n",
    "INSERT INTO EMPLOYEE (Name, Phone, Email, Address, SSN, Certification) VALUES ('Sydney Heron', '(814) 563-7401', 'sh@gmail.com', '711-2880 Nulla St. Mankato PA', '670-20-1234', 'Certified Pediatric Nurse (CPN)')\n",
    "\n",
    " 1 row inserted. \n",
    " \n",
    "Inserted row id: 2 (Query took 0.0371 seconds.)\n",
    "\n",
    "INSERT INTO EMPLOYEE (Name, Phone, Email, Address, SSN, Certification) VALUES ('Reed Adamson', '(814) 563-7402', 'ra@gmail.com', '606-3727 Ullamcorper. Street Roseville PA', '670-20-4321', 'AIDS Certified Registered Nurse (ACRN)')\n",
    "\n",
    " 1 row inserted. \n",
    " \n",
    "Inserted row id: 3 (Query took 0.0376 seconds.)\n",
    "\n",
    "INSERT INTO EMPLOYEE (Name, Phone, Email, Address, SSN, Certification) VALUES ('Megan Mostow', '(814) 563-7403', 'mm@gmail.com', 'Ap #867-859 Sit Rd. Azusa New York', '670-20-6789', 'Family Nurse Practitioner')\n",
    "\n",
    " 1 row inserted. \n",
    " \n",
    "Inserted row id: 4 (Query took 0.0379 seconds.)\n",
    "\n",
    "INSERT INTO EMPLOYEE (Name, Phone, Email, Address, SSN, Certification) VALUES ('Sadie Harris', '(814) 563-7404', 'sah@gmail.com', '7292 Dictum Av. San Antonio MI', '770-20-4356', 'Certified Registered Nurse Anesthetist (CRNA)')\n",
    "\n",
    " 1 row inserted. \n",
    " \n",
    "Inserted row id: 5 (Query took 0.0395 seconds.)\n",
    "\n",
    "INSERT INTO EMPLOYEE (Name, Phone, Email, Address, SSN, Certification) VALUES ('Heather Brooks', '(814) 563-7404', 'hb@gmail.com', 'Ap #651-8679 Sodales Av. Tamuning PA', '770-20-4509', 'Advanced Oncology Certified Nurse (AOCN)')\n"
   ]
  },
  {
   "cell_type": "markdown",
   "metadata": {
    "hidden": true
   },
   "source": [
    "![](employee_2.png)"
   ]
  },
  {
   "cell_type": "markdown",
   "metadata": {
    "heading_collapsed": true
   },
   "source": [
    "#### AFFILIATION"
   ]
  },
  {
   "cell_type": "code",
   "execution_count": null,
   "metadata": {
    "hidden": true
   },
   "outputs": [],
   "source": [
    "CREATE TABLE AFFILIATION\n",
    "(\n",
    "  EmployeeID   INT NOT NULL,\n",
    "  DepartmentID INT NOT NULL,\n",
    "  CONSTRAINT AFFILIATION_EmployeeID_uindex\n",
    "  UNIQUE (EmployeeID),\n",
    "  CONSTRAINT AFFILIATION_DepartmentID_uindex\n",
    "  UNIQUE (DepartmentID),\n",
    "  CONSTRAINT AFFILIATION_EMPLOYEE_EmployeeID_fk\n",
    "  FOREIGN KEY (EmployeeID) REFERENCES EMPLOYEE (EmployeeID)\n",
    "    ON UPDATE CASCADE\n",
    "    ON DELETE CASCADE,\n",
    "  CONSTRAINT AFFILIATION_DEPARTMENT_DepartmentID_fk\n",
    "  FOREIGN KEY (DepartmentID) REFERENCES DEPARTMENT (DepartmentID)\n",
    "    ON UPDATE CASCADE\n",
    "    ON DELETE CASCADE\n",
    ");"
   ]
  },
  {
   "cell_type": "markdown",
   "metadata": {
    "hidden": true
   },
   "source": [
    "![](affiliation_1.png)"
   ]
  },
  {
   "cell_type": "code",
   "execution_count": null,
   "metadata": {
    "hidden": true
   },
   "outputs": [],
   "source": [
    "INSERT INTO AFFILIATION (EmployeeID, DepartmentID) VALUES (1, 3);\n",
    "INSERT INTO AFFILIATION (EmployeeID, DepartmentID) VALUES (2, 4);\n",
    "INSERT INTO AFFILIATION (EmployeeID, DepartmentID) VALUES (3, 2);\n",
    "INSERT INTO AFFILIATION (EmployeeID, DepartmentID) VALUES (4, 1);\n",
    "INSERT INTO AFFILIATION (EmployeeID, DepartmentID) VALUES (5, 5);"
   ]
  },
  {
   "cell_type": "markdown",
   "metadata": {
    "hidden": true
   },
   "source": [
    " 1 row inserted. (Query took 0.1137 seconds.)\n",
    " \n",
    "INSERT INTO AFFILIATION (EmployeeID, DepartmentID) VALUES (1, 3)\n",
    "\n",
    " 1 row inserted. (Query took 0.0420 seconds.)\n",
    " \n",
    "INSERT INTO AFFILIATION (EmployeeID, DepartmentID) VALUES (2, 4)\n",
    "\n",
    " 1 row inserted. (Query took 0.1310 seconds.)\n",
    " \n",
    "INSERT INTO AFFILIATION (EmployeeID, DepartmentID) VALUES (3, 2)\n",
    "\n",
    " 1 row inserted. (Query took 0.0391 seconds.)\n",
    " \n",
    "INSERT INTO AFFILIATION (EmployeeID, DepartmentID) VALUES (4, 1)\n",
    "\n",
    " 1 row inserted. (Query took 0.0403 seconds.)\n",
    " \n",
    "INSERT INTO AFFILIATION (EmployeeID, DepartmentID) VALUES (5, 5)\n",
    "\n"
   ]
  },
  {
   "cell_type": "markdown",
   "metadata": {
    "hidden": true
   },
   "source": [
    "![](affiliation_2.png)"
   ]
  },
  {
   "cell_type": "markdown",
   "metadata": {
    "heading_collapsed": true
   },
   "source": [
    "#### ROOM"
   ]
  },
  {
   "cell_type": "code",
   "execution_count": null,
   "metadata": {
    "hidden": true
   },
   "outputs": [],
   "source": [
    "CREATE TABLE ROOM\n",
    "(\n",
    "  RoomNumber INT AUTO_INCREMENT\n",
    "    PRIMARY KEY,\n",
    "  Floor      INT         NULL,\n",
    "  RoomType   VARCHAR(30) NULL,\n",
    "  Available  TINYINT(1)  NULL,\n",
    "  RoomPhone  VARCHAR(20) NULL,\n",
    "  CONSTRAINT ROOM_RoomNumber_uindex\n",
    "  UNIQUE (RoomNumber)\n",
    ");"
   ]
  },
  {
   "cell_type": "markdown",
   "metadata": {
    "hidden": true
   },
   "source": [
    "![](ROOM_1.png)"
   ]
  },
  {
   "cell_type": "code",
   "execution_count": null,
   "metadata": {
    "hidden": true
   },
   "outputs": [],
   "source": [
    "INSERT INTO ROOM (Floor, RoomType, Available, RoomPhone) VALUES \n",
    "            (4, 'Surgery', 1, '(814) 873-7090');\n",
    "INSERT INTO ROOM (Floor, RoomType, Available, RoomPhone) VALUES \n",
    "            (2, 'Consulting', 1, '(814) 873-7091');\n",
    "INSERT INTO ROOM (Floor, RoomType, Available, RoomPhone) VALUES \n",
    "            (1, 'Dispensary', 1, '(814) 873-7092');\n",
    "INSERT INTO ROOM (Floor, RoomType, Available, RoomPhone) VALUES \n",
    "            (1, 'ER', 1, '(814) 873-7093');\n",
    "INSERT INTO ROOM (Floor, RoomType, Available, RoomPhone) VALUES \n",
    "            (5, 'ICU', 1, '(814) 873-7094');"
   ]
  },
  {
   "cell_type": "markdown",
   "metadata": {
    "hidden": true
   },
   "source": [
    " 1 row inserted. \n",
    " \n",
    "Inserted row id: 1 (Query took 0.0929 seconds.)\n",
    "\n",
    "INSERT INTO ROOM (Floor, RoomType, Available, RoomPhone) VALUES (4, 'Surgery', 1, '(814) 873-7090')\n",
    "\n",
    " 1 row inserted. \n",
    " \n",
    "Inserted row id: 2 (Query took 0.0539 seconds.)\n",
    "\n",
    "INSERT INTO ROOM (Floor, RoomType, Available, RoomPhone) VALUES (2, 'Consulting', 1, '(814) 873-7091')\n",
    "\n",
    " 1 row inserted. \n",
    " \n",
    "Inserted row id: 3 (Query took 0.0470 seconds.)\n",
    "\n",
    "INSERT INTO ROOM (Floor, RoomType, Available, RoomPhone) VALUES (1, 'Dispensary', 1, '(814) 873-7092')\n",
    "\n",
    " 1 row inserted. \n",
    " \n",
    "Inserted row id: 4 (Query took 0.0896 seconds.)\n",
    "\n",
    "INSERT INTO ROOM (Floor, RoomType, Available, RoomPhone) VALUES (1, 'ER', 1, '(814) 873-7093')\n",
    "\n",
    " 1 row inserted. \n",
    "Inserted row id: 5 (Query took 0.0863 seconds.)\n",
    "INSERT INTO ROOM (Floor, RoomType, Available, RoomPhone) VALUES (5, 'ICU', 1, '(814) 873-7094')\n",
    "\n"
   ]
  },
  {
   "cell_type": "markdown",
   "metadata": {
    "hidden": true
   },
   "source": [
    "![](ROOM_2.png)"
   ]
  },
  {
   "cell_type": "markdown",
   "metadata": {
    "heading_collapsed": true
   },
   "source": [
    "#### SHIFT"
   ]
  },
  {
   "cell_type": "code",
   "execution_count": null,
   "metadata": {
    "hidden": true
   },
   "outputs": [],
   "source": [
    "CREATE TABLE SHIFT\n",
    "(\n",
    "  ShiftID    INT AUTO_INCREMENT\n",
    "    PRIMARY KEY,\n",
    "  Date       DATE NULL,\n",
    "  StartTime  TIME NULL,\n",
    "  EndTime    TIME NULL,\n",
    "  EmployeeID INT  NOT NULL,\n",
    "  RoomNumber INT  NOT NULL,\n",
    "  CONSTRAINT SHIFT_ShiftID_uindex\n",
    "  UNIQUE (ShiftID),\n",
    "  CONSTRAINT SHIFT_EMPLOYEE_EmployeeID_fk\n",
    "  FOREIGN KEY (EmployeeID) REFERENCES EMPLOYEE (EmployeeID)\n",
    "    ON UPDATE CASCADE\n",
    "    ON DELETE CASCADE,\n",
    "  CONSTRAINT SHIFT_ROOM_RoomNumber_fk\n",
    "  FOREIGN KEY (RoomNumber) REFERENCES ROOM (RoomNumber)\n",
    "    ON UPDATE CASCADE\n",
    "    ON DELETE CASCADE\n",
    ");\n",
    "CREATE INDEX SHIFT_EMPLOYEE_EmployeeID_fk\n",
    "  ON SHIFT (EmployeeID);\n",
    "CREATE INDEX SHIFT_ROOM_RoomNumber_fk\n",
    "  ON SHIFT (RoomNumber);\n"
   ]
  },
  {
   "cell_type": "markdown",
   "metadata": {
    "hidden": true
   },
   "source": [
    "![](shift_1.png)"
   ]
  },
  {
   "cell_type": "code",
   "execution_count": null,
   "metadata": {
    "hidden": true
   },
   "outputs": [],
   "source": [
    "INSERT INTO SHIFT (Date, StartTime, EndTime, EmployeeID, RoomNumber) VALUES \n",
    "  ('2018-09-10', '09:00:00', '18:00:00', 1, 3);\n",
    "\n",
    "INSERT INTO SHIFT (Date, StartTime, EndTime, EmployeeID, RoomNumber) VALUES \n",
    "  ('2018-09-10', '09:00:00', '15:00:00', 2, 1);\n",
    "\n",
    "INSERT INTO SHIFT (Date, StartTime, EndTime, EmployeeID, RoomNumber) VALUES \n",
    "  ('2018-09-10', '16:00:00', '19:00:00', 2, 5);\n",
    "\n",
    "INSERT INTO SHIFT (Date, StartTime, EndTime, EmployeeID, RoomNumber) VALUES \n",
    "  ('2018-09-11', '10:00:00', '17:00:00', 3, 4);\n",
    "\n",
    "INSERT INTO SHIFT (Date, StartTime, EndTime, EmployeeID, RoomNumber) VALUES \n",
    "  ('2018-09-12', '09:45:00', '18:30:00', 5, 2);"
   ]
  },
  {
   "cell_type": "markdown",
   "metadata": {
    "hidden": true
   },
   "source": [
    " 1 row inserted. \n",
    " \n",
    "Inserted row id: 1 (Query took 0.0384 seconds.)\n",
    "\n",
    "INSERT INTO SHIFT (Date, StartTime, EndTime, EmployeeID, RoomNumber) VALUES ('2018-09-10', '09:00:00', '18:00:00', 1, 3)\n",
    "\n",
    " 1 row inserted. \n",
    " \n",
    "Inserted row id: 2 (Query took 0.0439 seconds.)\n",
    "\n",
    "INSERT INTO SHIFT (Date, StartTime, EndTime, EmployeeID, RoomNumber) VALUES ('2018-09-10', '09:00:00', '15:00:00', 2, 1)\n",
    "\n",
    " 1 row inserted. \n",
    " \n",
    "Inserted row id: 3 (Query took 0.2483 seconds.)\n",
    "\n",
    "INSERT INTO SHIFT (Date, StartTime, EndTime, EmployeeID, RoomNumber) VALUES ('2018-09-10', '16:00:00', '19:00:00', 2, 5)\n",
    "\n",
    " 1 row inserted. \n",
    " \n",
    "Inserted row id: 4 (Query took 0.0460 seconds.)\n",
    "\n",
    "INSERT INTO SHIFT (Date, StartTime, EndTime, EmployeeID, RoomNumber) VALUES ('2018-09-11', '10:00:00', '17:00:00', 3, 4)\n",
    "\n",
    " 1 row inserted. \n",
    "Inserted row id: 5 (Query took 0.0385 seconds.)\n",
    "INSERT INTO SHIFT (Date, StartTime, EndTime, EmployeeID, RoomNumber) VALUES ('2018-09-12', '09:45:00', '18:30:00', 5, 2)\n"
   ]
  },
  {
   "cell_type": "markdown",
   "metadata": {
    "hidden": true
   },
   "source": [
    "![](shift_2.png)"
   ]
  },
  {
   "cell_type": "markdown",
   "metadata": {
    "heading_collapsed": true
   },
   "source": [
    "#### PATIENT"
   ]
  },
  {
   "cell_type": "code",
   "execution_count": null,
   "metadata": {
    "hidden": true
   },
   "outputs": [],
   "source": [
    "CREATE TABLE PATIENT\n",
    "(\n",
    "  PatientID       INT AUTO_INCREMENT\n",
    "    PRIMARY KEY,\n",
    "  Name            VARCHAR(100) NULL,\n",
    "  Phone           VARCHAR(20)  NULL,\n",
    "  Email           VARCHAR(30)  NULL,\n",
    "  Address         VARCHAR(100) NULL,\n",
    "  SSN             VARCHAR(20)  NULL,\n",
    "  InsuranceNumber VARCHAR(20)  NULL,\n",
    "  CONSTRAINT PATIENT_PatientID_uindex\n",
    "  UNIQUE (PatientID)\n",
    ");"
   ]
  },
  {
   "cell_type": "markdown",
   "metadata": {
    "hidden": true
   },
   "source": [
    "![](patient_1.png)"
   ]
  },
  {
   "cell_type": "code",
   "execution_count": null,
   "metadata": {
    "hidden": true
   },
   "outputs": [],
   "source": [
    "INSERT INTO PATIENT (Name, Phone, Email, Address, SSN, InsuranceNumber) VALUES \n",
    "  ('Lawrence Moreno', '(684) 579-1879', 'lm@gmail.com', '935-9940 Tortor. Street \n",
    "   Santa Rosa MN', '033-62-1234', 'ZW 27 84 44 D');\n",
    "INSERT INTO PATIENT (Name, Phone, Email, Address, SSN, InsuranceNumber) VALUES \n",
    "  ('Aaron Hawkins', '(660) 663-4518', 'im@gmail.com', '5587 Nunc. Avenue Erie \n",
    "   Rhode Island', '574-28-4856', 'OA 45 22 60 C');\n",
    "INSERT INTO PATIENT (Name, Phone, Email, Address, SSN, InsuranceNumber) VALUES \n",
    "  ('Melvin Porter', '(959) 119-8364', 'mp@gmail.com', 'P.O. Box 132 1599 Curabitur \n",
    "   Rd. Bandera South Dakota', '394-13-4509', 'NC 18 31 22 C');\n",
    "INSERT INTO PATIENT (Name, Phone, Email, Address, SSN, InsuranceNumber) VALUES \n",
    "  ('Joan Romero', '(248) 675-4007', 'jr@gmail.com', '666-4366 Lacinia Avenue Idaho \n",
    "   Falls Ohio', '650-42-0943', 'XM 95 88 11 C');\n",
    "INSERT INTO PATIENT (Name, Phone, Email, Address, SSN, InsuranceNumber) VALUES \n",
    "  ('Davis Patrick', '(939) 353-1107', 'dp@gmail.com', 'P.O. Box 147 2546 Sociosqu Rd. \n",
    "   Bethlehem Utah', '158-74-8367', 'CX 50 09 44 B');"
   ]
  },
  {
   "cell_type": "markdown",
   "metadata": {
    "hidden": true
   },
   "source": [
    " 1 row inserted. \n",
    " \n",
    "Inserted row id: 1 (Query took 0.0370 seconds.)\n",
    "\n",
    "INSERT INTO PATIENT (Name, Phone, Email, Address, SSN, InsuranceNumber) VALUES ('Lawrence Moreno', '(684) 579-1879', 'lm@gmail.com', '935-9940 Tortor. Street Santa Rosa MN', '033-62-1234', 'ZW 27 84 44 D')\n",
    "\n",
    " 1 row inserted. \n",
    " \n",
    "Inserted row id: 2 (Query took 0.0366 seconds.)\n",
    "\n",
    "INSERT INTO PATIENT (Name, Phone, Email, Address, SSN, InsuranceNumber) VALUES ('Aaron Hawkins', '(660) 663-4518', 'im@gmail.com', '5587 Nunc. Avenue Erie Rhode Island', '574-28-4856', 'OA 45 22 60 C')\n",
    "\n",
    " 1 row inserted. \n",
    " \n",
    "Inserted row id: 3 (Query took 0.0717 seconds.)\n",
    "\n",
    "INSERT INTO PATIENT (Name, Phone, Email, Address, SSN, InsuranceNumber) VALUES ('Melvin Porter', '(959) 119-8364', 'mp@gmail.com', 'P.O. Box 132 1599 Curabitur Rd. Bandera South Dakota', '394-13-4509', 'NC 18 31 22 C')\n",
    "\n",
    " 1 row inserted. \n",
    " \n",
    "Inserted row id: 4 (Query took 0.0370 seconds.)\n",
    "\n",
    "INSERT INTO PATIENT (Name, Phone, Email, Address, SSN, InsuranceNumber) VALUES ('Joan Romero', '(248) 675-4007', 'jr@gmail.com', '666-4366 Lacinia Avenue Idaho Falls Ohio', '650-42-0943', 'XM 95 88 11 C')\n",
    "\n",
    " 1 row inserted. \n",
    " \n",
    "Inserted row id: 5 (Query took 0.0511 seconds.)\n",
    "\n",
    "INSERT INTO PATIENT (Name, Phone, Email, Address, SSN, InsuranceNumber) VALUES ('Davis Patrick', '(939) 353-1107', 'dp@gmail.com', 'P.O. Box 147 2546 Sociosqu Rd. Bethlehem Utah', '158-74-8367', 'CX 50 09 44 B')\n",
    "\n"
   ]
  },
  {
   "cell_type": "markdown",
   "metadata": {
    "hidden": true
   },
   "source": [
    "![](patient_2.png)"
   ]
  },
  {
   "cell_type": "markdown",
   "metadata": {
    "heading_collapsed": true
   },
   "source": [
    "#### APPOINTMENT"
   ]
  },
  {
   "cell_type": "code",
   "execution_count": null,
   "metadata": {
    "hidden": true
   },
   "outputs": [],
   "source": [
    "CREATE TABLE APPOINTMENT\n",
    "(\n",
    "  AppointmentID INT AUTO_INCREMENT\n",
    "    PRIMARY KEY,\n",
    "  Date          DATE NULL,\n",
    "  StartTime     TIME NULL,\n",
    "  EndTime       TIME NULL,\n",
    "  Description   TEXT NULL,\n",
    "  EmployeeID    INT  NOT NULL,\n",
    "  PatientID     INT  NOT NULL,\n",
    "  RoomNumber    INT  NOT NULL,\n",
    "  CONSTRAINT APPOINTMENT_AppointmentID_uindex\n",
    "  UNIQUE (AppointmentID),\n",
    "  CONSTRAINT APPOINTMENT_EMPLOYEE_EmployeeID_fk\n",
    "  FOREIGN KEY (EmployeeID) REFERENCES EMPLOYEE (EmployeeID)\n",
    "    ON UPDATE CASCADE\n",
    "    ON DELETE CASCADE,\n",
    "  CONSTRAINT APPOINTMENT_PATIENT_PatientID_fk\n",
    "  FOREIGN KEY (PatientID) REFERENCES PATIENT (PatientID)\n",
    "    ON UPDATE CASCADE\n",
    "    ON DELETE CASCADE,\n",
    "  CONSTRAINT APPOINTMENT_ROOM_RoomNumber_fk\n",
    "  FOREIGN KEY (RoomNumber) REFERENCES ROOM (RoomNumber)\n",
    "    ON UPDATE CASCADE\n",
    "    ON DELETE CASCADE\n",
    ");\n",
    "CREATE INDEX APPOINTMENT_EMPLOYEE_EmployeeID_fk\n",
    "  ON APPOINTMENT (EmployeeID);\n",
    "CREATE INDEX APPOINTMENT_PATIENT_PatientID_fk\n",
    "  ON APPOINTMENT (PatientID);\n",
    "CREATE INDEX APPOINTMENT_ROOM_RoomNumber_fk\n",
    "  ON APPOINTMENT (RoomNumber);"
   ]
  },
  {
   "cell_type": "markdown",
   "metadata": {
    "hidden": true
   },
   "source": [
    "![](appointment_1.png)"
   ]
  },
  {
   "cell_type": "code",
   "execution_count": null,
   "metadata": {
    "hidden": true
   },
   "outputs": [],
   "source": [
    "\n",
    "\n",
    "INSERT INTO APPOINTMENT (Date, StartTime, EndTime, Description, EmployeeID, \n",
    "                         PatientID, RoomNumber) VALUES \n",
    "  ('2018-9-10', '14:00:00', '15:00:00', 'Constitutional - NAD, has been \n",
    "   generally feeling well the last couple of weeks;\n",
    "   Eyes - no changes in vision, double vision, blurry vision, wears glasses;\n",
    "   ENT - No congestion, changes in hearing, does not wear hearing aids;\n",
    "   Skin/Breast - no rashes;\n",
    "   Cardiovascular - No SOB, chest pain, heart palpitations', 3, 4, 2);\n",
    "\n",
    "INSERT INTO APPOINTMENT (Date, StartTime, EndTime, Description, EmployeeID, \n",
    "                         PatientID, RoomNumber) VALUES \n",
    "  ('2018-9-10', '10:00:00', '12:00:00', 'Cardiovascular: dyspnea on exertion; \n",
    "   denies chest pains, palpitations, syncope, orthopnea, PND, edema;\n",
    "   Respiratory: denies cough and wheezing;\n",
    "   Gastrointestinal: denies jaundice;\n",
    "   Genitourinary: denies incontinence, dysuria, hematuria, urinary frequency',\n",
    "   1, 3, 2);\n",
    "\n",
    "INSERT INTO APPOINTMENT (Date, StartTime, EndTime, Description, EmployeeID, \n",
    "                         PatientID, RoomNumber) VALUES \n",
    "  ('2018-9-11', '16:00:00', '17:30:00', 'Constitutional: Intermittent \n",
    "   chills with decreased appetite. No fevers, night sweats or weight loss;\n",
    "   Eyes: No vision changes;\n",
    "   ENT: No URI symptoms, mouth ulcers or dysphagia;\n",
    "   Skin: Jaundice and scaly silver nonpruritic rash on right flexor \n",
    "   surface of elbow', 2, 5, 3);\n",
    "\n",
    "INSERT INTO APPOINTMENT (Date, StartTime, EndTime, Description, EmployeeID, \n",
    "                         PatientID, RoomNumber) VALUES \n",
    "  ('2018-9-11', '09:30:00', '14:15:00', 'Constitutional: denies anorexia \n",
    "   and weight loss;\n",
    "    HEENT: denies decreased hearing blurring, diplopia, irritation, \n",
    "   discharge, vision loss, eye pain,\n",
    "    photophobia, ear pain or discharge, tinnitus, nasal obstruction \n",
    "   or discharge, nosebleeds, sore\n",
    "    throat, hoarseness, dysphagia', 4, 2, 1);\n",
    "\n",
    "INSERT INTO APPOINTMENT (Date, StartTime, EndTime, Description, EmployeeID, \n",
    "                         PatientID, RoomNumber) VALUES \n",
    "  ('2018-9-12', '14:45:00', '15:30:00', 'Cardiovascular – denies chest \n",
    "   pain; denies palpitations;\n",
    "    Pulmonary – denies shortness of breath, denies cough;\n",
    "    Gastrointestinal – As indicated in the HPI, complains of sharp, \n",
    "   epigastric abdominal pain; \n",
    "    endorses constipation, denies diarrhea; endorses bloody stools;\n",
    "    Genitourinary – denies dysuria; denies increased frequency or \n",
    "   urgency of urination;\n",
    "    Neurologic – denies numbness and tingling; denies paresthesias;\n",
    "    Muskuloskeletal – endorses abdominal pain occasionally after \n",
    "   throwing the football; \n",
    "   denies any muscle or joint pain', 5, 1, 2);"
   ]
  },
  {
   "cell_type": "markdown",
   "metadata": {
    "hidden": true
   },
   "source": [
    " 1 row inserted. \n",
    " \n",
    "Inserted row id: 1 (Query took 0.0384 seconds.)\n",
    "\n",
    "INSERT INTO APPOINTMENT (Date, StartTime, EndTime, Description, EmployeeID, PatientID, RoomNumber) VALUES ('2018-9-10', '14:00:00', '15:00:00', 'Constitutional - NAD, has been generally feeling well the last couple of weeks; Eyes - no changes in vision, double vision, blurry vision, wears glasses; ENT - No congestion, changes in hearing, does not wear hearing aids; Skin/Breast - no rashes; Cardiovascular - No SOB, chest pain, heart palpitations', 3, 4, 2)\n",
    "\n",
    " 1 row inserted. \n",
    " \n",
    "Inserted row id: 2 (Query took 0.0339 seconds.)\n",
    "\n",
    "INSERT INTO APPOINTMENT (Date, StartTime, EndTime, Description, EmployeeID, PatientID, RoomNumber) VALUES ('2018-9-10', '10:00:00', '12:00:00', 'Cardiovascular: dyspnea on exertion; denies chest pains, palpitations, syncope, orthopnea, PND, edema; Respiratory: denies cough and wheezing; Gastrointestinal: denies jaundice; Genitourinary: denies incontinence, dysuria, hematuria, urinary frequency', 1, 3, 2)\n",
    "\n",
    " 1 row inserted. \n",
    " \n",
    "Inserted row id: 3 (Query took 0.1315 seconds.)\n",
    "\n",
    "INSERT INTO APPOINTMENT (Date, StartTime, EndTime, Description, EmployeeID, PatientID, RoomNumber) VALUES ('2018-9-11', '16:00:00', '17:30:00', 'Constitutional: Intermittent chills with decreased appetite. No fevers, night sweats or weight loss; Eyes: No vision changes; ENT: No URI symptoms, mouth ulcers or dysphagia; Skin: Jaundice and scaly silver nonpruritic rash on right flexor surface of elbow', 2, 5, 3)\n",
    "\n",
    " 1 row inserted. \n",
    " \n",
    "Inserted row id: 4 (Query took 0.0371 seconds.)\n",
    "\n",
    "INSERT INTO APPOINTMENT (Date, StartTime, EndTime, Description, EmployeeID, PatientID, RoomNumber) VALUES ('2018-9-11', '09:30:00', '14:15:00', 'Constitutional: denies anorexia and weight loss; HEENT: denies decreased hearing blurring, diplopia, irritation, discharge, vision loss, eye pain, photophobia, ear pain or discharge, tinnitus, nasal obstruction or discharge, nosebleeds, sore throat, hoarseness, dysphagia', 4, 2, 1)\n",
    "\n",
    " 1 row inserted. \n",
    " \n",
    "Inserted row id: 5 (Query took 0.0458 seconds.)\n",
    "\n",
    "INSERT INTO APPOINTMENT (Date, StartTime, EndTime, Description, EmployeeID, PatientID, RoomNumber) VALUES ('2018-9-12', '14:45:00', '15:30:00', 'Cardiovascular – denies chest pain; denies palpitations; Pulmonary – denies shortness of breath, denies cough; Gastrointestinal – As indicated in the HPI, complains of sharp, epigastric abdominal pain; endorses constipation, denies diarrhea; endorses bloody stools; Genitourinary – denies dysuria; denies increased frequency or urgency of urination; Neurologic – denies numbness and tingling; denies paresthesias; Muskuloskeletal – endorses abdominal pain occasionally after throwing the football; denies any muscle or joint pain', 5, 1, 2)"
   ]
  },
  {
   "cell_type": "markdown",
   "metadata": {
    "hidden": true
   },
   "source": [
    "![](appointment_2.png)"
   ]
  }
 ],
 "metadata": {
  "kernelspec": {
   "display_name": "Python 3",
   "language": "python",
   "name": "python3"
  },
  "language_info": {
   "codemirror_mode": {
    "name": "ipython",
    "version": 3
   },
   "file_extension": ".py",
   "mimetype": "text/x-python",
   "name": "python",
   "nbconvert_exporter": "python",
   "pygments_lexer": "ipython3",
   "version": "3.6.5"
  },
  "latex_envs": {
   "LaTeX_envs_menu_present": true,
   "autoclose": false,
   "autocomplete": true,
   "bibliofile": "biblio.bib",
   "cite_by": "apalike",
   "current_citInitial": 1,
   "eqLabelWithNumbers": true,
   "eqNumInitial": 1,
   "hotkeys": {
    "equation": "Ctrl-E",
    "itemize": "Ctrl-I"
   },
   "labels_anchors": false,
   "latex_user_defs": false,
   "report_style_numbering": false,
   "user_envs_cfg": false
  },
  "nbTranslate": {
   "displayLangs": [
    "*"
   ],
   "hotkey": "alt-t",
   "langInMainMenu": true,
   "sourceLang": "en",
   "targetLang": "fr",
   "useGoogleTranslate": true
  }
 },
 "nbformat": 4,
 "nbformat_minor": 2
}
