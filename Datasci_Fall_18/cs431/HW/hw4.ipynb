{
 "cells": [
  {
   "cell_type": "markdown",
   "metadata": {},
   "source": [
    "### Table"
   ]
  },
  {
   "cell_type": "markdown",
   "metadata": {},
   "source": [
    "![](table.png)"
   ]
  },
  {
   "cell_type": "markdown",
   "metadata": {},
   "source": [
    "### SQL Queries: Select \\& Join"
   ]
  },
  {
   "cell_type": "markdown",
   "metadata": {},
   "source": [
    "#### Join `EMPLOYEE` and `DEPARTMENT`"
   ]
  },
  {
   "cell_type": "code",
   "execution_count": null,
   "metadata": {},
   "outputs": [],
   "source": [
    "select E.EmployeeID, E.Name, E.Certification, D.Name \n",
    "from EMPLOYEE as E, AFFILIATION as A, DEPARTMENT as D\n",
    "where E.EmployeeID=A.EmployeeID\n",
    "and D.DepartmentID=A.DepartmentID;\n",
    "\n",
    "## or: \n",
    "select E.EmployeeID, E.Name, E.Certification, D.Name \n",
    "from EMPLOYEE as E\n",
    "left join AFFILIATION A on E.EmployeeID = A.EmployeeID\n",
    "left join DEPARTMENT D on A.DepartmentID = D.DepartmentID"
   ]
  },
  {
   "cell_type": "markdown",
   "metadata": {},
   "source": [
    " Showing rows 0 - 9 (10 total, Query took 0.0067 seconds.)\n",
    " \n",
    "select E.EmployeeID, E.Name, E.Certification, D.Name from EMPLOYEE as E, AFFILIATION as A, DEPARTMENT as D where E.EmployeeID=A.EmployeeID and D.DepartmentID=A.DepartmentID\n",
    "\n",
    "![](hw4/1.png)\n",
    "\n"
   ]
  },
  {
   "cell_type": "markdown",
   "metadata": {},
   "source": [
    "#### Join `EMPLOYEE` and `ROOM` and `SHIFT`"
   ]
  },
  {
   "cell_type": "code",
   "execution_count": null,
   "metadata": {},
   "outputs": [],
   "source": [
    "select E.EmployeeID, E.Name, R.RoomNumber, R.RoomType, \n",
    "        S.StartTime, S.EndTime, count(*) as NumberOfShifts\n",
    "from EMPLOYEE as E, ROOM as R, SHIFT as S\n",
    "where E.EmployeeID=S.EmployeeID\n",
    "and S.RoomNumber=R.RoomNumber\n",
    "group by E.EmployeeID\n",
    "order by count(*) desc;"
   ]
  },
  {
   "cell_type": "markdown",
   "metadata": {},
   "source": [
    " Showing rows 0 - 9 (10 total, Query took 0.0121 seconds.)\n",
    "\n",
    "select E.EmployeeID, E.Name, R.RoomNumber, R.RoomType, S.StartTime, S.EndTime, count(*) as NumberOfShifts from EMPLOYEE as E, ROOM as R, SHIFT as S where E.EmployeeID=S.EmployeeID and S.RoomNumber=R.RoomNumber group by E.EmployeeID order by count(*) desc\n",
    "\n",
    "![](hw4/2.png)"
   ]
  },
  {
   "cell_type": "markdown",
   "metadata": {},
   "source": [
    "### Join `EMPLOYEE` and `ROOM` and `PATIENT`"
   ]
  },
  {
   "cell_type": "code",
   "execution_count": null,
   "metadata": {},
   "outputs": [],
   "source": [
    "select R.RoomType, E.Name as EmployeeInCharge, \n",
    "        E.Certification, P.Name as PatientName, A.Description\n",
    "from EMPLOYEE as E , ROOM as R , PATIENT as P, APPOINTMENT as A\n",
    "where A.EmployeeID=E.EmployeeID\n",
    "and A.RoomNumber=R.RoomNumber\n",
    "and A.PatientID=P.PatientID;"
   ]
  },
  {
   "cell_type": "markdown",
   "metadata": {},
   "source": [
    " Showing rows 0 - 4 (5 total, Query took 0.0094 seconds.)\n",
    "\n",
    "select R.RoomType, E.Name as EmployeeInCharge, E.Certification, P.Name as PatientName, A.Description from EMPLOYEE as E , ROOM as R , PATIENT as P, APPOINTMENT as A where A.EmployeeID=E.EmployeeID and A.RoomNumber=R.RoomNumber and A.PatientID=P.PatientID\n",
    "\n",
    "![](hw4/3.png)"
   ]
  },
  {
   "cell_type": "markdown",
   "metadata": {},
   "source": [
    "### Join `ROOM` and `EMPLOYEE` and `DEPARTMENT` and `APPOINTMENT` and `PATIENT`"
   ]
  },
  {
   "cell_type": "code",
   "execution_count": null,
   "metadata": {},
   "outputs": [],
   "source": [
    "select E.Name as EmployeeInCharge, E.Certification, \n",
    "        D.Name as Department, P.Name as PatientName, \n",
    "        R.RoomType, A.StartTime as AppointmentStartTime, \n",
    "        A.EndTime as AppointmentEndTime\n",
    "from EMPLOYEE as E , APPOINTMENT as A , DEPARTMENT as D , \n",
    "        ROOM as R, AFFILIATION as A2, PATIENT as P\n",
    "where E.EmployeeID=A.EmployeeID\n",
    "and E.EmployeeID=A2.EmployeeID\n",
    "and A2.DepartmentID=D.DepartmentID\n",
    "and A.RoomNumber=R.RoomNumber\n",
    "and A.PatientID=P.PatientID;"
   ]
  },
  {
   "cell_type": "markdown",
   "metadata": {},
   "source": [
    " Showing rows 0 - 4 (5 total, Query took 0.0131 seconds.)\n",
    "\n",
    "select E.Name as EmployeeInCharge, E.Certification, D.Name as Department, P.Name as PatientName, R.RoomType, A.StartTime as AppointmentStartTime, A.EndTime as AppointmentEndTime from EMPLOYEE as E , APPOINTMENT as A , DEPARTMENT as D , ROOM as R, AFFILIATION as A2, PATIENT as P where E.EmployeeID=A.EmployeeID and E.EmployeeID=A2.EmployeeID and A2.DepartmentID=D.DepartmentID and A.RoomNumber=R.RoomNumber and A.PatientID=P.PatientID\n",
    "\n",
    "![](hw4/4.png)"
   ]
  }
 ],
 "metadata": {
  "kernelspec": {
   "display_name": "Python 3",
   "language": "python",
   "name": "python3"
  },
  "language_info": {
   "codemirror_mode": {
    "name": "ipython",
    "version": 3
   },
   "file_extension": ".py",
   "mimetype": "text/x-python",
   "name": "python",
   "nbconvert_exporter": "python",
   "pygments_lexer": "ipython3",
   "version": "3.6.5"
  },
  "latex_envs": {
   "LaTeX_envs_menu_present": true,
   "autoclose": false,
   "autocomplete": true,
   "bibliofile": "biblio.bib",
   "cite_by": "apalike",
   "current_citInitial": 1,
   "eqLabelWithNumbers": true,
   "eqNumInitial": 1,
   "hotkeys": {
    "equation": "Ctrl-E",
    "itemize": "Ctrl-I"
   },
   "labels_anchors": false,
   "latex_user_defs": false,
   "report_style_numbering": false,
   "user_envs_cfg": false
  },
  "varInspector": {
   "cols": {
    "lenName": 16,
    "lenType": 16,
    "lenVar": 40
   },
   "kernels_config": {
    "python": {
     "delete_cmd_postfix": "",
     "delete_cmd_prefix": "del ",
     "library": "var_list.py",
     "varRefreshCmd": "print(var_dic_list())"
    },
    "r": {
     "delete_cmd_postfix": ") ",
     "delete_cmd_prefix": "rm(",
     "library": "var_list.r",
     "varRefreshCmd": "cat(var_dic_list()) "
    }
   },
   "types_to_exclude": [
    "module",
    "function",
    "builtin_function_or_method",
    "instance",
    "_Feature"
   ],
   "window_display": false
  }
 },
 "nbformat": 4,
 "nbformat_minor": 2
}
