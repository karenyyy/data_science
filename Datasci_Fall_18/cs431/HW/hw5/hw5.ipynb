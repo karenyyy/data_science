{
 "cells": [
  {
   "cell_type": "markdown",
   "metadata": {},
   "source": [
    "### Load the data"
   ]
  },
  {
   "cell_type": "code",
   "execution_count": 94,
   "metadata": {},
   "outputs": [],
   "source": [
    "import pandas as pd\n",
    "from datetime import datetime\n",
    "import pymysql "
   ]
  },
  {
   "cell_type": "code",
   "execution_count": 268,
   "metadata": {},
   "outputs": [],
   "source": [
    "department = pd.read_csv('departments.csv', sep=',')\n",
    "department.columns = ['department_name']\n",
    "shift = pd.read_csv('shifts.csv', sep=',')\n",
    "shift.columns = ['from_time', 'length']\n",
    "employees = pd.read_csv('employees.csv', sep=',')\n",
    "employees.emptype = employees.emptype.fillna('')\n",
    "schedule = pd.read_csv('schedule.csv', sep=',')\n",
    "schedule.columns = ['date', 'empid', 'dept', 'start_time', 'shift_length']"
   ]
  },
  {
   "cell_type": "markdown",
   "metadata": {},
   "source": [
    "### Manipulate the data"
   ]
  },
  {
   "cell_type": "code",
   "execution_count": 316,
   "metadata": {},
   "outputs": [],
   "source": [
    "class DataSqlLoader:\n",
    "    def __init__(self, database):\n",
    "        # connect to mysql local server\n",
    "        self.db = pymysql.Connect('localhost',\n",
    "               'root',\n",
    "               '',\n",
    "               database)\n",
    "        self.c = db.cursor()\n",
    "    \n",
    "    # convert the shift and schedule time to `time` format compatible in MySQL\n",
    "    def convert_time_format(self, time):\n",
    "        return datetime.strptime('{}'.format(time), '%I%p').strftime('%H:%M:%S')\n",
    "    \n",
    "    # convert schedule date to `date` format compatible in MySQL\n",
    "    def convert_date_format(self, time):\n",
    "        return datetime.strptime('{}'.format(time), '%m/%d/%Y').strftime('%Y-%m-%d')\n",
    "    \n",
    "    def creat_tables(self):\n",
    "        self.c.execute('''\n",
    "                create table if not exists department\n",
    "                (\n",
    "                  department_id  int auto_increment\n",
    "                    primary key,\n",
    "                  department_name varchar(50) not null\n",
    "                );\n",
    "                ''')\n",
    "        self.c.execute('''\n",
    "            create table if not exists shift\n",
    "            (\n",
    "              shift_id int auto_increment\n",
    "                primary key,\n",
    "              from_time   time not null,\n",
    "              length   int  not null\n",
    "            );\n",
    "            ''')\n",
    "        self.c.execute('''\n",
    "            create table if not exists schedule\n",
    "            (\n",
    "              schedule_id  int auto_increment\n",
    "                primary key,\n",
    "              date         date        not null,\n",
    "              empid        varchar(10) not null,\n",
    "              dept         varchar(50) not null,\n",
    "              start_time   time        not null,\n",
    "              shift_length int         not null\n",
    "            );\n",
    "            ''')\n",
    "        self.c.execute('''\n",
    "            create table if not exists employees\n",
    "            (\n",
    "              empid     varchar(10) not null primary key,\n",
    "              lastname  varchar(20) not null,\n",
    "              firstname varchar(20) not null,\n",
    "              emptype   varchar(3)  null,\n",
    "              cellphone varchar(20) null,\n",
    "              homephone varchar(20) null,\n",
    "              ftpt      varchar(2)  not null,\n",
    "              constraint employee_empid_uindex\n",
    "              unique (empid)\n",
    "            );\n",
    "        ''')\n",
    "    \n",
    "    def insert_into_tables(self, table, table_name):\n",
    "        for i in range(len(table)):\n",
    "            attributes = '{}'.format(tuple(table.columns.tolist())).replace(\"'\",\"\")\n",
    "            query = \"insert into {} {} values {};\".format(\n",
    "                table_name, attributes, tuple(table.iloc[i,:].values))\n",
    "            query = query.replace(\"(none)\",\"\")\n",
    "            query = query.replace(r\",)\",\")\")\n",
    "            # print(query)\n",
    "            try:\n",
    "                c.execute(query)\n",
    "                db.commit()\n",
    "            except Exception as e:\n",
    "                print(e)\n",
    "                \n",
    "    def close(self):\n",
    "        self.db.close()"
   ]
  },
  {
   "cell_type": "code",
   "execution_count": 317,
   "metadata": {},
   "outputs": [],
   "source": [
    "dsl = DataSqlLoader('cs431_project')\n",
    "dsl.creat_tables()\n",
    "\n",
    "schedule['start_time'] = list(map(lambda x: dsl.convert_time_format(x), \n",
    "                                  schedule['start_time']))\n",
    "shift['from_time'] = list(map(lambda x: dsl.convert_time_format(x), \n",
    "                              shift['from_time']))\n",
    "schedule['date'] = list(map(lambda x: dsl.convert_date_format(x), \n",
    "                            schedule['date']))\n",
    "\n",
    "dsl.insert_into_tables(department, 'department')\n",
    "dsl.insert_into_tables(shift, 'shift')\n",
    "dsl.insert_into_tables(schedule,'schedule')\n",
    "dsl.insert_into_tables(employees, 'employees')"
   ]
  },
  {
   "cell_type": "markdown",
   "metadata": {},
   "source": [
    "### SQL Query"
   ]
  },
  {
   "cell_type": "code",
   "execution_count": null,
   "metadata": {},
   "outputs": [],
   "source": [
    "select e.lastname as LAST, e.firstname as FIRST, e.cellphone as CELL,\n",
    "       s.date as DATE, d.department_name as DEPT, date_format(s.start_time, \"%I%p\") as START, s.shift_length as SHIFT_LENGTH\n",
    "from department as d, employees as e, schedule as s\n",
    "where s.dept=d.department_name\n",
    "and s.empid=e.empid\n",
    "order by LAST, DATE, START, SHIFT_LENGTH asc, DEPT desc;"
   ]
  },
  {
   "cell_type": "markdown",
   "metadata": {},
   "source": [
    "#### display results"
   ]
  },
  {
   "cell_type": "code",
   "execution_count": 327,
   "metadata": {
    "scrolled": true
   },
   "outputs": [
    {
     "name": "stdout",
     "output_type": "stream",
     "text": [
      "\\begin{tabular}{lllllllr}\n",
      "\\toprule\n",
      "{} &       LAST &    FIRST &            CELL &        DATE &            DEPT & START &  SHIFT\\_LENGTH \\\\\n",
      "\\midrule\n",
      "0  &       Ault &  Rosendo &  (571)7252-4785 &  2018-09-24 &      CARDIOLOGY &  03PM &             8 \\\\\n",
      "1  &       Ault &  Rosendo &  (571)7252-4785 &  2018-09-25 &      PEDIATRICS &  03PM &             8 \\\\\n",
      "2  &       Ault &  Rosendo &  (571)7252-4785 &  2018-09-25 &        ONCOLOGY &  03PM &             8 \\\\\n",
      "3  &       Ault &  Rosendo &  (571)7252-4785 &  2018-09-26 &      PEDIATRICS &  11PM &             8 \\\\\n",
      "4  &       Ault &  Rosendo &  (571)7252-4785 &  2018-09-28 &        ONCOLOGY &  03PM &             8 \\\\\n",
      "5  &       Ault &  Rosendo &  (571)7252-4785 &  2018-09-29 &      CARDIOLOGY &  07AM &            12 \\\\\n",
      "6  &       Ault &  Rosendo &  (571)7252-4785 &  2018-10-01 &      CARDIOLOGY &  03PM &             8 \\\\\n",
      "7  &       Ault &  Rosendo &  (571)7252-4785 &  2018-10-02 &        ONCOLOGY &  03PM &             8 \\\\\n",
      "8  &       Ault &  Rosendo &  (571)7252-4785 &  2018-10-03 &      PEDIATRICS &  07AM &             8 \\\\\n",
      "9  &       Ault &  Rosendo &  (571)7252-4785 &  2018-10-04 &       EMERGENCY &  03PM &             8 \\\\\n",
      "10 &       Ault &  Rosendo &  (571)7252-4785 &  2018-10-04 &       RADIOLOGY &  11PM &             8 \\\\\n",
      "11 &       Ault &  Rosendo &  (571)7252-4785 &  2018-10-05 &       EMERGENCY &  03PM &             8 \\\\\n",
      "12 &       Ault &  Rosendo &  (571)7252-4785 &  2018-10-07 &      CARDIOLOGY &  07PM &            12 \\\\\n",
      "13 &     Beaver &     Viva &  (612)7951-8931 &  2018-09-25 &       MATERNITY &  03PM &             8 \\\\\n",
      "14 &     Beaver &     Viva &  (612)7951-8931 &  2018-09-25 &       EMERGENCY &  07AM &             8 \\\\\n",
      "15 &     Beaver &     Viva &  (612)7951-8931 &  2018-09-26 &        ONCOLOGY &  07AM &             8 \\\\\n",
      "16 &     Beaver &     Viva &  (612)7951-8931 &  2018-09-26 &        ONCOLOGY &  07AM &             8 \\\\\n",
      "17 &     Beaver &     Viva &  (612)7951-8931 &  2018-09-26 &  INTENSIVE CARE &  07AM &             8 \\\\\n",
      "18 &     Beaver &     Viva &  (612)7951-8931 &  2018-09-27 &      PEDIATRICS &  11PM &             8 \\\\\n",
      "19 &     Beaver &     Viva &  (612)7951-8931 &  2018-09-28 &      CARDIOLOGY &  07AM &             8 \\\\\n",
      "20 &     Beaver &     Viva &  (612)7951-8931 &  2018-10-02 &  INTENSIVE CARE &  07AM &             8 \\\\\n",
      "21 &     Beaver &     Viva &  (612)7951-8931 &  2018-10-03 &      PEDIATRICS &  11PM &             8 \\\\\n",
      "22 &     Beaver &     Viva &  (612)7951-8931 &  2018-10-06 &       RADIOLOGY &  07AM &            12 \\\\\n",
      "23 &     Beaver &     Viva &  (612)7951-8931 &  2018-10-07 &      PEDIATRICS &  07PM &            12 \\\\\n",
      "24 &     Beaver &     Viva &  (612)7951-8931 &  2018-10-07 &       MATERNITY &  07PM &            12 \\\\\n",
      "25 &     Beaver &     Viva &  (612)7951-8931 &  2018-10-07 &       EMERGENCY &  07PM &            12 \\\\\n",
      "26 &   Berryman &  Sabrina &  (806)6465-4545 &  2018-09-24 &       EMERGENCY &  07AM &             8 \\\\\n",
      "27 &   Berryman &  Sabrina &  (806)6465-4545 &  2018-09-28 &      CARDIOLOGY &  03PM &             8 \\\\\n",
      "28 &   Berryman &  Sabrina &  (806)6465-4545 &  2018-09-29 &      CARDIOLOGY &  07AM &            12 \\\\\n",
      "29 &   Berryman &  Sabrina &  (806)6465-4545 &  2018-10-03 &         SURGERY &  03PM &             8 \\\\\n",
      "30 &   Berryman &  Sabrina &  (806)6465-4545 &  2018-10-04 &       EMERGENCY &  03PM &             8 \\\\\n",
      "31 &   Berryman &  Sabrina &  (806)6465-4545 &  2018-10-04 &        ONCOLOGY &  11PM &             8 \\\\\n",
      "32 &   Berryman &  Sabrina &  (806)6465-4545 &  2018-10-04 &  INTENSIVE CARE &  11PM &             8 \\\\\n",
      "33 &   Berryman &  Sabrina &  (806)6465-4545 &  2018-10-06 &      PEDIATRICS &  07AM &            12 \\\\\n",
      "34 &   Berryman &  Sabrina &  (806)6465-4545 &  2018-10-06 &        ONCOLOGY &  07AM &            12 \\\\\n",
      "35 &   Berryman &  Sabrina &  (806)6465-4545 &  2018-10-06 &       MATERNITY &  07AM &            12 \\\\\n",
      "36 &   Berryman &  Sabrina &  (806)6465-4545 &  2018-10-07 &      CARDIOLOGY &  07AM &            12 \\\\\n",
      "37 &      Blagg &  Lorenzo &  (863)2419-9105 &  2018-09-26 &       EMERGENCY &  07AM &             8 \\\\\n",
      "38 &      Blagg &  Lorenzo &  (863)2419-9105 &  2018-09-27 &  INTENSIVE CARE &  03PM &             8 \\\\\n",
      "39 &      Blagg &  Lorenzo &  (863)2419-9105 &  2018-09-29 &         SURGERY &  07PM &            12 \\\\\n",
      "40 &      Blagg &  Lorenzo &  (863)2419-9105 &  2018-10-01 &      CARDIOLOGY &  03PM &             8 \\\\\n",
      "41 &      Blagg &  Lorenzo &  (863)2419-9105 &  2018-10-03 &        ONCOLOGY &  03PM &             8 \\\\\n",
      "42 &      Blagg &  Lorenzo &  (863)2419-9105 &  2018-10-05 &       RADIOLOGY &  03PM &             8 \\\\\n",
      "43 &      Blagg &  Lorenzo &  (863)2419-9105 &  2018-10-05 &        ONCOLOGY &  07AM &             8 \\\\\n",
      "44 &      Blagg &  Lorenzo &  (863)2419-9105 &  2018-10-06 &        ONCOLOGY &  07PM &            12 \\\\\n",
      "45 &      Blagg &  Lorenzo &  (863)2419-9105 &  2018-10-07 &        ONCOLOGY &  07PM &            12 \\\\\n",
      "46 &  Catanzaro &   Imelda &  (220)3748-1866 &  2018-09-24 &      PEDIATRICS &  07AM &             8 \\\\\n",
      "47 &  Catanzaro &   Imelda &  (220)3748-1866 &  2018-09-30 &        ONCOLOGY &  07PM &            12 \\\\\n",
      "48 &  Catanzaro &   Imelda &  (220)3748-1866 &  2018-09-30 &       EMERGENCY &  07PM &            12 \\\\\n",
      "49 &  Catanzaro &   Imelda &  (220)3748-1866 &  2018-10-01 &       MATERNITY &  03PM &             8 \\\\\n",
      "\\bottomrule\n",
      "\\end{tabular}\n",
      "\n"
     ]
    }
   ],
   "source": [
    "query = '''\n",
    "    select e.lastname as LAST, e.firstname as FIRST, e.cellphone as CELL,\n",
    "       s.date as DATE, d.department_name as DEPT, \n",
    "       date_format(s.start_time, \"%I%p\") as START, s.shift_length as SHIFT_LENGTH\n",
    "from department as d, employees as e, schedule as s\n",
    "where s.dept=d.department_name\n",
    "and s.empid=e.empid\n",
    "order by LAST, DATE, START, SHIFT_LENGTH asc, DEPT desc limit 50;\n",
    "'''\n",
    "\n",
    "df = pd.read_sql(query, dsl.db)\n",
    "print(df.to_latex())"
   ]
  },
  {
   "cell_type": "code",
   "execution_count": null,
   "metadata": {},
   "outputs": [],
   "source": []
  }
 ],
 "metadata": {
  "kernelspec": {
   "display_name": "Python 3",
   "language": "python",
   "name": "python3"
  },
  "language_info": {
   "codemirror_mode": {
    "name": "ipython",
    "version": 3
   },
   "file_extension": ".py",
   "mimetype": "text/x-python",
   "name": "python",
   "nbconvert_exporter": "python",
   "pygments_lexer": "ipython3",
   "version": "3.6.5"
  },
  "latex_envs": {
   "LaTeX_envs_menu_present": true,
   "autoclose": false,
   "autocomplete": true,
   "bibliofile": "biblio.bib",
   "cite_by": "apalike",
   "current_citInitial": 1,
   "eqLabelWithNumbers": true,
   "eqNumInitial": 1,
   "hotkeys": {
    "equation": "Ctrl-E",
    "itemize": "Ctrl-I"
   },
   "labels_anchors": false,
   "latex_user_defs": false,
   "report_style_numbering": false,
   "user_envs_cfg": false
  },
  "varInspector": {
   "cols": {
    "lenName": 16,
    "lenType": 16,
    "lenVar": 40
   },
   "kernels_config": {
    "python": {
     "delete_cmd_postfix": "",
     "delete_cmd_prefix": "del ",
     "library": "var_list.py",
     "varRefreshCmd": "print(var_dic_list())"
    },
    "r": {
     "delete_cmd_postfix": ") ",
     "delete_cmd_prefix": "rm(",
     "library": "var_list.r",
     "varRefreshCmd": "cat(var_dic_list()) "
    }
   },
   "types_to_exclude": [
    "module",
    "function",
    "builtin_function_or_method",
    "instance",
    "_Feature"
   ],
   "window_display": false
  }
 },
 "nbformat": 4,
 "nbformat_minor": 2
}
