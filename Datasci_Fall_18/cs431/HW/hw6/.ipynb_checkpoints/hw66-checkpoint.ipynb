{
 "cells": [
  {
   "cell_type": "markdown",
   "metadata": {},
   "source": [
    "### Load the data"
   ]
  },
  {
   "cell_type": "code",
   "execution_count": 1,
   "metadata": {},
   "outputs": [],
   "source": [
    "import pandas as pd\n",
    "from datetime import datetime\n",
    "import pymysql "
   ]
  },
  {
   "cell_type": "code",
   "execution_count": 2,
   "metadata": {},
   "outputs": [],
   "source": [
    "department = pd.read_csv('departments.csv', sep=',')\n",
    "department.columns = ['department_name']\n",
    "shift = pd.read_csv('shifts.csv', sep=',')\n",
    "shift.columns = ['from_time', 'length']\n",
    "employees = pd.read_csv('employees.csv', sep=',')\n",
    "employees.emptype = employees.emptype.fillna('')\n",
    "schedule = pd.read_csv('schedule.csv', sep=',')\n",
    "schedule.columns = ['date', 'empid', 'dept', 'start_time', 'shift_length']"
   ]
  },
  {
   "cell_type": "markdown",
   "metadata": {},
   "source": [
    "### Manipulate the data"
   ]
  },
  {
   "cell_type": "code",
   "execution_count": 5,
   "metadata": {},
   "outputs": [],
   "source": [
    "class DataSqlLoader:\n",
    "    def __init__(self, database):\n",
    "        # connect to mysql local server\n",
    "        self.db = pymysql.Connect(\n",
    "            host='localhost', \n",
    "            port=3308, \n",
    "            user='root', \n",
    "            passwd='', \n",
    "            db=database)\n",
    "        self.c = self.db.cursor()\n",
    "    \n",
    "    # convert the shift and schedule time to `time` format compatible in MySQL\n",
    "    def convert_time_format(self, time):\n",
    "        return datetime.strptime('{}'.format(time), '%I%p').strftime('%H:%M:%S')\n",
    "    \n",
    "    # convert schedule date to `date` format compatible in MySQL\n",
    "    def convert_date_format(self, time):\n",
    "        return datetime.strptime('{}'.format(time), '%m/%d/%Y').strftime('%Y-%m-%d')\n",
    "    \n",
    "    def creat_tables(self):\n",
    "        self.c.execute('''\n",
    "                create table if not exists department\n",
    "                (\n",
    "                  department_id  int auto_increment\n",
    "                    primary key,\n",
    "                  department_name varchar(50) not null\n",
    "                );\n",
    "                ''')\n",
    "        self.c.execute('''\n",
    "            create table if not exists shift\n",
    "            (\n",
    "              shift_id int auto_increment\n",
    "                primary key,\n",
    "              from_time   time not null,\n",
    "              length   int  not null\n",
    "            );\n",
    "            ''')\n",
    "        self.c.execute('''\n",
    "            create table if not exists schedule\n",
    "            (\n",
    "              schedule_id  int auto_increment\n",
    "                primary key,\n",
    "              date         date        not null,\n",
    "              empid        varchar(10) not null,\n",
    "              dept         varchar(50) not null,\n",
    "              start_time   time        not null,\n",
    "              shift_length int         not null\n",
    "            );\n",
    "            ''')\n",
    "        self.c.execute('''\n",
    "            create table if not exists employees\n",
    "            (\n",
    "              empid     varchar(10) not null primary key,\n",
    "              lastname  varchar(20) not null,\n",
    "              firstname varchar(20) not null,\n",
    "              emptype   varchar(3)  null,\n",
    "              cellphone varchar(20) null,\n",
    "              homephone varchar(20) null,\n",
    "              ftpt      varchar(2)  not null,\n",
    "              constraint employee_empid_uindex\n",
    "              unique (empid)\n",
    "            );\n",
    "        ''')\n",
    "        \n",
    "        self.c.execute('''\n",
    "            create table if not exists department_managers\n",
    "            (\n",
    "                dept_name varchar(20),\n",
    "                manager varchar(30)\n",
    "            );\n",
    "        ''')\n",
    "    \n",
    "    def insert_into_tables(self, table, table_name):\n",
    "        for i in range(len(table)):\n",
    "            attributes = '{}'.format(tuple(table.columns.tolist())).replace(\"'\",\"\")\n",
    "            query = \"insert into {} {} values {};\".format(\n",
    "                table_name, attributes, tuple(table.iloc[i,:].values))\n",
    "            query = query.replace(\"(none)\",\"\")\n",
    "            query = query.replace(r\",)\",\")\")\n",
    "            # print(query)\n",
    "            try:\n",
    "                self.c.execute(query)\n",
    "                self.db.commit()\n",
    "            except Exception as e:\n",
    "                print(e)\n",
    "                \n",
    "    def close(self):\n",
    "        self.db.close()"
   ]
  },
  {
   "cell_type": "code",
   "execution_count": 11,
   "metadata": {},
   "outputs": [],
   "source": [
    "dsl = DataSqlLoader('cs431_project')\n",
    "dsl.creat_tables()\n",
    "\n",
    "schedule['start_time'] = list(map(lambda x: dsl.convert_time_format(x), \n",
    "                                  schedule['start_time']))\n",
    "shift['from_time'] = list(map(lambda x: dsl.convert_time_format(x), \n",
    "                              shift['from_time']))\n",
    "schedule['date'] = list(map(lambda x: dsl.convert_date_format(x), \n",
    "                            schedule['date']))\n",
    "\n",
    "dsl.insert_into_tables(department, 'department')\n",
    "dsl.insert_into_tables(shift, 'shift')\n",
    "dsl.insert_into_tables(schedule,'schedule')\n",
    "dsl.insert_into_tables(employees, 'employees')"
   ]
  },
  {
   "cell_type": "markdown",
   "metadata": {},
   "source": [
    "### SQL Query"
   ]
  },
  {
   "cell_type": "markdown",
   "metadata": {},
   "source": [
    "#### 1. GENERATE THE FOLLOWING REPORT LISTING ALL EMPLOYEES WHO ARE “OVERBOOKED” BY BEING SCHEDULED MORE THAN ONCE IN A DAY"
   ]
  },
  {
   "cell_type": "code",
   "execution_count": 13,
   "metadata": {
    "scrolled": true
   },
   "outputs": [],
   "source": [
    "query = '''\n",
    "    SELECT a.empid, a.lastname,a.firstname, a.date AS Overbooked_Date,\n",
    "       date_format(a.start_time, '%I%p') AS sfrom, a.dept_name, a.manager\n",
    "        FROM \n",
    "        (SELECT s.empid, e.lastname, e.firstname,\n",
    "          s.date, s.start_time, d.dept_name, d.manager\n",
    "        FROM employees AS e, schedule AS s, department_managers AS d\n",
    "        WHERE e.empid=s.empid\n",
    "        and d.dept_name=s.dept) AS a\n",
    "    INNER JOIN\n",
    "        ( SELECT empid, date, start_time FROM schedule\n",
    "        GROUP BY empid, date\n",
    "          HAVING count(*) >1) AS b\n",
    "    ON (a.empid, a.date)=(b.empid, b.date)\n",
    "    ORDER BY a.empid, a.date, a.start_time;\n",
    "        '''\n",
    "\n",
    "df = pd.read_sql(query, dsl.db)"
   ]
  },
  {
   "cell_type": "markdown",
   "metadata": {},
   "source": [
    "#### 2. GENERATE A REPORT OF ALL OF THE FULL TIME PEOPLE WHO ARE WORKING MORE THAN 80 HOURS, AND HOW MUCH OVERTIME THEY ARE SCHEDULED FOR."
   ]
  },
  {
   "cell_type": "code",
   "execution_count": 15,
   "metadata": {},
   "outputs": [],
   "source": [
    "query = '''\n",
    "        SELECT concat(e.firstname, ' ', e.lastname) as fullname, sum(s.shift_length)-80 as scheduled_overtime\n",
    "        FROM schedule AS s, employees AS e\n",
    "        WHERE s.empid=e.empid\n",
    "        AND e.ftpt = 'ft'\n",
    "        GROUP BY s.empid\n",
    "        HAVING scheduled_overtime >0\n",
    "        ORDER BY scheduled_overtime DESC, fullname ASC;\n",
    "        '''\n",
    "\n",
    "df = pd.read_sql(query, dsl.db)"
   ]
  }
 ],
 "metadata": {
  "kernelspec": {
   "display_name": "Python 3",
   "language": "python",
   "name": "python3"
  },
  "language_info": {
   "codemirror_mode": {
    "name": "ipython",
    "version": 3
   },
   "file_extension": ".py",
   "mimetype": "text/x-python",
   "name": "python",
   "nbconvert_exporter": "python",
   "pygments_lexer": "ipython3",
   "version": "3.6.6"
  },
  "latex_envs": {
   "LaTeX_envs_menu_present": true,
   "autoclose": false,
   "autocomplete": true,
   "bibliofile": "biblio.bib",
   "cite_by": "apalike",
   "current_citInitial": 1,
   "eqLabelWithNumbers": true,
   "eqNumInitial": 1,
   "hotkeys": {
    "equation": "Ctrl-E",
    "itemize": "Ctrl-I"
   },
   "labels_anchors": false,
   "latex_user_defs": false,
   "report_style_numbering": false,
   "user_envs_cfg": false
  },
  "varInspector": {
   "cols": {
    "lenName": 16,
    "lenType": 16,
    "lenVar": 40
   },
   "kernels_config": {
    "python": {
     "delete_cmd_postfix": "",
     "delete_cmd_prefix": "del ",
     "library": "var_list.py",
     "varRefreshCmd": "print(var_dic_list())"
    },
    "r": {
     "delete_cmd_postfix": ") ",
     "delete_cmd_prefix": "rm(",
     "library": "var_list.r",
     "varRefreshCmd": "cat(var_dic_list()) "
    }
   },
   "types_to_exclude": [
    "module",
    "function",
    "builtin_function_or_method",
    "instance",
    "_Feature"
   ],
   "window_display": false
  }
 },
 "nbformat": 4,
 "nbformat_minor": 2
}
