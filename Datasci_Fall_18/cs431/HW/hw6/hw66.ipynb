{
 "cells": [
  {
   "cell_type": "markdown",
   "metadata": {},
   "source": [
    "### Load the data"
   ]
  },
  {
   "cell_type": "code",
   "execution_count": 1,
   "metadata": {},
   "outputs": [],
   "source": [
    "import pandas as pd\n",
    "from datetime import datetime\n",
    "import pymysql "
   ]
  },
  {
   "cell_type": "code",
   "execution_count": 2,
   "metadata": {},
   "outputs": [],
   "source": [
    "department = pd.read_csv('departments.csv', sep=',')\n",
    "department.columns = ['department_name']\n",
    "shift = pd.read_csv('shifts.csv', sep=',')\n",
    "shift.columns = ['from_time', 'length']\n",
    "employees = pd.read_csv('employees.csv', sep=',')\n",
    "employees.emptype = employees.emptype.fillna('')\n",
    "schedule = pd.read_csv('schedule.csv', sep=',')\n",
    "schedule.columns = ['date', 'empid', 'dept', 'start_time', 'shift_length']"
   ]
  },
  {
   "cell_type": "markdown",
   "metadata": {},
   "source": [
    "### Manipulate the data"
   ]
  },
  {
   "cell_type": "code",
   "execution_count": 3,
   "metadata": {},
   "outputs": [],
   "source": [
    "class DataSqlLoader:\n",
    "    def __init__(self, database):\n",
    "        # connect to mysql local server\n",
    "        self.db = pymysql.Connect(\n",
    "            host='localhost', \n",
    "            port=3308, \n",
    "            user='root', \n",
    "            passwd='', \n",
    "            db=database)\n",
    "        self.c = self.db.cursor()\n",
    "    \n",
    "    # convert the shift and schedule time to `time` format compatible in MySQL\n",
    "    def convert_time_format(self, time):\n",
    "        return datetime.strptime('{}'.format(time), '%I%p').strftime('%H:%M:%S')\n",
    "    \n",
    "    # convert schedule date to `date` format compatible in MySQL\n",
    "    def convert_date_format(self, time):\n",
    "        return datetime.strptime('{}'.format(time), '%m/%d/%Y').strftime('%Y-%m-%d')\n",
    "    \n",
    "    def creat_tables(self):\n",
    "        self.c.execute('''\n",
    "                create table if not exists department\n",
    "                (\n",
    "                  department_id  int auto_increment\n",
    "                    primary key,\n",
    "                  department_name varchar(50) not null\n",
    "                );\n",
    "                ''')\n",
    "        self.c.execute('''\n",
    "            create table if not exists shift\n",
    "            (\n",
    "              shift_id int auto_increment\n",
    "                primary key,\n",
    "              from_time   time not null,\n",
    "              length   int  not null\n",
    "            );\n",
    "            ''')\n",
    "        self.c.execute('''\n",
    "            create table if not exists schedule\n",
    "            (\n",
    "              schedule_id  int auto_increment\n",
    "                primary key,\n",
    "              date         date        not null,\n",
    "              empid        varchar(10) not null,\n",
    "              dept         varchar(50) not null,\n",
    "              start_time   time        not null,\n",
    "              shift_length int         not null\n",
    "            );\n",
    "            ''')\n",
    "        self.c.execute('''\n",
    "            create table if not exists employees\n",
    "            (\n",
    "              empid     varchar(10) not null primary key,\n",
    "              lastname  varchar(20) not null,\n",
    "              firstname varchar(20) not null,\n",
    "              emptype   varchar(3)  null,\n",
    "              cellphone varchar(20) null,\n",
    "              homephone varchar(20) null,\n",
    "              ftpt      varchar(2)  not null,\n",
    "              constraint employee_empid_uindex\n",
    "              unique (empid)\n",
    "            );\n",
    "        ''')\n",
    "        \n",
    "        self.c.execute('''\n",
    "            create table if not exists department_managers\n",
    "            (\n",
    "                dept_name varchar(20),\n",
    "                manager varchar(30)\n",
    "            );\n",
    "        ''')\n",
    "    \n",
    "    def insert_into_tables(self, table, table_name):\n",
    "        for i in range(len(table)):\n",
    "            attributes = '{}'.format(tuple(table.columns.tolist())).replace(\"'\",\"\")\n",
    "            query = \"insert into {} {} values {};\".format(\n",
    "                table_name, attributes, tuple(table.iloc[i,:].values))\n",
    "            query = query.replace(\"(none)\",\"\")\n",
    "            query = query.replace(r\",)\",\")\")\n",
    "            # print(query)\n",
    "            try:\n",
    "                self.c.execute(query)\n",
    "                self.db.commit()\n",
    "            except Exception as e:\n",
    "                print(e)\n",
    "                \n",
    "    def close(self):\n",
    "        self.db.close()"
   ]
  },
  {
   "cell_type": "code",
   "execution_count": 4,
   "metadata": {},
   "outputs": [],
   "source": [
    "dsl = DataSqlLoader('cs431_project')\n",
    "dsl.creat_tables()\n",
    "\n",
    "schedule['start_time'] = list(map(lambda x: dsl.convert_time_format(x), \n",
    "                                  schedule['start_time']))\n",
    "shift['from_time'] = list(map(lambda x: dsl.convert_time_format(x), \n",
    "                              shift['from_time']))\n",
    "schedule['date'] = list(map(lambda x: dsl.convert_date_format(x), \n",
    "                            schedule['date']))\n",
    "\n",
    "dsl.insert_into_tables(department, 'department')\n",
    "dsl.insert_into_tables(shift, 'shift')\n",
    "dsl.insert_into_tables(schedule,'schedule')\n",
    "dsl.insert_into_tables(employees, 'employees')"
   ]
  },
  {
   "cell_type": "markdown",
   "metadata": {},
   "source": [
    "### SQL Query"
   ]
  },
  {
   "cell_type": "markdown",
   "metadata": {},
   "source": [
    "#### 1. GENERATE THE FOLLOWING REPORT LISTING ALL EMPLOYEES WHO ARE “OVERBOOKED” BY BEING SCHEDULED MORE THAN ONCE IN A DAY"
   ]
  },
  {
   "cell_type": "code",
   "execution_count": 24,
   "metadata": {
    "scrolled": true
   },
   "outputs": [
    {
     "name": "stdout",
     "output_type": "stream",
     "text": [
      "\\begin{tabular}{llllllll}\n",
      "\\toprule\n",
      "{} &   empid &  lastname & firstname & Overbooked\\_Date & sfrom &       dept\\_name &          manager \\\\\n",
      "\\midrule\n",
      "150 &  967577 &   Swallow &    Oralia &      2018-09-24 &  03PM &       MATERNITY &    Carmel Mersch \\\\\n",
      "151 &  967577 &   Swallow &    Oralia &      2018-10-03 &  07AM &       MATERNITY &    Carmel Mersch \\\\\n",
      "152 &  967577 &   Swallow &    Oralia &      2018-10-03 &  11PM &         SURGERY &   Nadene Harwell \\\\\n",
      "153 &  967577 &   Swallow &    Oralia &      2018-10-07 &  07AM &        ONCOLOGY &  Junita Loranger \\\\\n",
      "154 &  967577 &   Swallow &    Oralia &      2018-10-07 &  07PM &        ONCOLOGY &  Junita Loranger \\\\\n",
      "155 &  971559 &     Mumaw &   Marylin &      2018-09-30 &  07AM &        ONCOLOGY &  Junita Loranger \\\\\n",
      "156 &  971559 &     Mumaw &   Marylin &      2018-09-30 &  07PM &        ONCOLOGY &  Junita Loranger \\\\\n",
      "157 &  979951 &  Berryman &   Sabrina &      2018-10-04 &  03PM &       EMERGENCY &   Oralia Swallow \\\\\n",
      "158 &  979951 &  Berryman &   Sabrina &      2018-10-04 &  11PM &  INTENSIVE CARE &     Colby Witham \\\\\n",
      "159 &  979951 &  Berryman &   Sabrina &      2018-10-04 &  11PM &        ONCOLOGY &  Junita Loranger \\\\\n",
      "160 &  979951 &  Berryman &   Sabrina &      2018-10-06 &  07AM &      PEDIATRICS &     Remona Locke \\\\\n",
      "161 &  979951 &  Berryman &   Sabrina &      2018-10-06 &  07AM &       MATERNITY &    Carmel Mersch \\\\\n",
      "162 &  979951 &  Berryman &   Sabrina &      2018-10-06 &  07AM &        ONCOLOGY &  Junita Loranger \\\\\n",
      "163 &  992463 &     Goode &       Rex &      2018-09-25 &  11PM &        ONCOLOGY &  Junita Loranger \\\\\n",
      "164 &  992463 &     Goode &       Rex &      2018-09-25 &  11PM &         SURGERY &   Nadene Harwell \\\\\n",
      "165 &  992463 &     Goode &       Rex &      2018-09-26 &  07AM &       MATERNITY &    Carmel Mersch \\\\\n",
      "166 &  992463 &     Goode &       Rex &      2018-09-26 &  03PM &       MATERNITY &    Carmel Mersch \\\\\n",
      "167 &  995561 &   Labarre &   Virgina &      2018-09-24 &  11PM &       EMERGENCY &   Oralia Swallow \\\\\n",
      "168 &  995561 &   Labarre &   Virgina &      2018-09-24 &  11PM &         SURGERY &   Nadene Harwell \\\\\n",
      "169 &  995561 &   Labarre &   Virgina &      2018-10-01 &  07AM &  INTENSIVE CARE &     Colby Witham \\\\\n",
      "170 &  995561 &   Labarre &   Virgina &      2018-10-01 &  11PM &      PEDIATRICS &     Remona Locke \\\\\n",
      "171 &  995636 &       Pye &    Deanna &      2018-09-30 &  07AM &       MATERNITY &    Carmel Mersch \\\\\n",
      "172 &  995636 &       Pye &    Deanna &      2018-09-30 &  07AM &       EMERGENCY &   Oralia Swallow \\\\\n",
      "173 &  995636 &       Pye &    Deanna &      2018-10-01 &  07AM &      CARDIOLOGY &    Marylin Mumaw \\\\\n",
      "174 &  995636 &       Pye &    Deanna &      2018-10-01 &  11PM &       RADIOLOGY &   Pamella Deines \\\\\n",
      "175 &  995636 &       Pye &    Deanna &      2018-10-05 &  07AM &  INTENSIVE CARE &     Colby Witham \\\\\n",
      "176 &  995636 &       Pye &    Deanna &      2018-10-05 &  11PM &       MATERNITY &    Carmel Mersch \\\\\n",
      "177 &  995636 &       Pye &    Deanna &      2018-10-07 &  07PM &       RADIOLOGY &   Pamella Deines \\\\\n",
      "178 &  995636 &       Pye &    Deanna &      2018-10-07 &  07PM &  INTENSIVE CARE &     Colby Witham \\\\\n",
      "\\bottomrule\n",
      "\\end{tabular}\n",
      "\n"
     ]
    }
   ],
   "source": [
    "query = '''\n",
    "    SELECT a.empid, a.lastname,a.firstname, a.date AS Overbooked_Date,\n",
    "       date_format(a.start_time, '%I%p') AS sfrom, a.dept_name, a.manager\n",
    "        FROM \n",
    "        (SELECT s.empid, e.lastname, e.firstname,\n",
    "          s.date, s.start_time, d.dept_name, d.manager\n",
    "        FROM employees AS e, schedule AS s, department_managers AS d\n",
    "        WHERE e.empid=s.empid\n",
    "        and d.dept_name=s.dept) AS a\n",
    "    INNER JOIN\n",
    "        ( SELECT empid, date, start_time FROM schedule\n",
    "        GROUP BY empid, date\n",
    "          HAVING count(*) >1) AS b\n",
    "    ON (a.empid, a.date)=(b.empid, b.date)\n",
    "    ORDER BY a.empid, a.date, a.start_time;\n",
    "        '''\n",
    "\n",
    "df = pd.read_sql(query, dsl.db)\n",
    "print(df.iloc[150:, :].to_latex())"
   ]
  },
  {
   "cell_type": "markdown",
   "metadata": {},
   "source": [
    "#### 2. GENERATE A REPORT OF ALL OF THE FULL TIME PEOPLE WHO ARE WORKING MORE THAN 80 HOURS, AND HOW MUCH OVERTIME THEY ARE SCHEDULED FOR."
   ]
  },
  {
   "cell_type": "code",
   "execution_count": 26,
   "metadata": {},
   "outputs": [
    {
     "name": "stdout",
     "output_type": "stream",
     "text": [
      "\\begin{tabular}{llr}\n",
      "\\toprule\n",
      "{} &           fullname &  scheduled\\_overtime \\\\\n",
      "\\midrule\n",
      "0  &        Vern Cermak &                  60 \\\\\n",
      "1  &         Deanna Pye &                  48 \\\\\n",
      "2  &     Jeffry Clyburn &                  44 \\\\\n",
      "3  &       Remona Locke &                  36 \\\\\n",
      "4  &    Charlott Nalley &                  32 \\\\\n",
      "5  &     Manie Zaragoza &                  32 \\\\\n",
      "6  &    Junita Loranger &                  24 \\\\\n",
      "7  &   Imelda Catanzaro &                  20 \\\\\n",
      "8  &       Kenton Hauck &                  20 \\\\\n",
      "9  &     Asa Noonkester &                  16 \\\\\n",
      "10 &         Mark Hinze &                  16 \\\\\n",
      "11 &      Shalanda Ober &                  16 \\\\\n",
      "12 &  Barton Mcclelland &                  12 \\\\\n",
      "13 &     Oralia Swallow &                   8 \\\\\n",
      "14 &    Virgina Labarre &                   8 \\\\\n",
      "15 &      Marylin Mumaw &                   4 \\\\\n",
      "\\bottomrule\n",
      "\\end{tabular}\n",
      "\n"
     ]
    }
   ],
   "source": [
    "query = '''\n",
    "        SELECT concat(e.firstname, ' ', e.lastname) as fullname,\n",
    "        CAST(sum(s.shift_length)-80 AS INT) as scheduled_overtime\n",
    "        FROM schedule AS s, employees AS e\n",
    "        WHERE s.empid=e.empid\n",
    "        AND e.ftpt = 'ft'\n",
    "        GROUP BY s.empid\n",
    "        HAVING scheduled_overtime >0\n",
    "        ORDER BY scheduled_overtime DESC, fullname ASC;\n",
    "        '''\n",
    "\n",
    "df = pd.read_sql(query, dsl.db)\n",
    "print(df.to_latex())"
   ]
  },
  {
   "cell_type": "code",
   "execution_count": 7,
   "metadata": {},
   "outputs": [
    {
     "data": {
      "text/html": [
       "<div>\n",
       "<style scoped>\n",
       "    .dataframe tbody tr th:only-of-type {\n",
       "        vertical-align: middle;\n",
       "    }\n",
       "\n",
       "    .dataframe tbody tr th {\n",
       "        vertical-align: top;\n",
       "    }\n",
       "\n",
       "    .dataframe thead th {\n",
       "        text-align: right;\n",
       "    }\n",
       "</style>\n",
       "<table border=\"1\" class=\"dataframe\">\n",
       "  <thead>\n",
       "    <tr style=\"text-align: right;\">\n",
       "      <th></th>\n",
       "      <th>Tables_in_cs431_project</th>\n",
       "    </tr>\n",
       "  </thead>\n",
       "  <tbody>\n",
       "    <tr>\n",
       "      <th>0</th>\n",
       "      <td>department</td>\n",
       "    </tr>\n",
       "    <tr>\n",
       "      <th>1</th>\n",
       "      <td>department_managers</td>\n",
       "    </tr>\n",
       "    <tr>\n",
       "      <th>2</th>\n",
       "      <td>employees</td>\n",
       "    </tr>\n",
       "    <tr>\n",
       "      <th>3</th>\n",
       "      <td>schedule</td>\n",
       "    </tr>\n",
       "    <tr>\n",
       "      <th>4</th>\n",
       "      <td>shift</td>\n",
       "    </tr>\n",
       "  </tbody>\n",
       "</table>\n",
       "</div>"
      ],
      "text/plain": [
       "  Tables_in_cs431_project\n",
       "0              department\n",
       "1     department_managers\n",
       "2               employees\n",
       "3                schedule\n",
       "4                   shift"
      ]
     },
     "execution_count": 7,
     "metadata": {},
     "output_type": "execute_result"
    }
   ],
   "source": [
    "query = 'show tables;'\n",
    "tables = pd.read_sql(query, dsl.db)\n",
    "tables"
   ]
  },
  {
   "cell_type": "code",
   "execution_count": 9,
   "metadata": {},
   "outputs": [
    {
     "data": {
      "text/plain": [
       "array(['department'], dtype=object)"
      ]
     },
     "execution_count": 9,
     "metadata": {},
     "output_type": "execute_result"
    }
   ],
   "source": [
    "tables.values[0]"
   ]
  },
  {
   "cell_type": "code",
   "execution_count": 14,
   "metadata": {},
   "outputs": [
    {
     "name": "stdout",
     "output_type": "stream",
     "text": [
      "             Field         Type Null  Key Default           Extra\n",
      "0    department_id      int(11)   NO  PRI    None  auto_increment\n",
      "1  department_name  varchar(50)   NO         None                \n",
      "\n",
      "\n",
      "       Field         Type Null Key Default Extra\n",
      "0  dept_name  varchar(20)  YES        None      \n",
      "1    manager  varchar(30)  YES        None      \n",
      "\n",
      "\n",
      "       Field         Type Null  Key Default Extra\n",
      "0      empid  varchar(10)   NO  PRI    None      \n",
      "1   lastname  varchar(20)   NO         None      \n",
      "2  firstname  varchar(20)   NO         None      \n",
      "3    emptype   varchar(3)  YES         None      \n",
      "4  cellphone  varchar(20)  YES         None      \n",
      "5  homephone  varchar(20)  YES         None      \n",
      "6       ftpt   varchar(2)   NO         None      \n",
      "\n",
      "\n",
      "          Field         Type Null  Key Default           Extra\n",
      "0   schedule_id      int(11)   NO  PRI    None  auto_increment\n",
      "1          date         date   NO         None                \n",
      "2         empid  varchar(10)   NO         None                \n",
      "3          dept  varchar(50)   NO         None                \n",
      "4    start_time         time   NO         None                \n",
      "5  shift_length      int(11)   NO         None                \n",
      "\n",
      "\n",
      "       Field     Type Null  Key Default           Extra\n",
      "0   shift_id  int(11)   NO  PRI    None  auto_increment\n",
      "1  from_time     time   NO         None                \n",
      "2     length  int(11)   NO         None                \n",
      "\n",
      "\n"
     ]
    }
   ],
   "source": [
    "for table in tables.values:\n",
    "    query = 'describe {};'.format(table[0])\n",
    "    df = pd.read_sql(query, dsl.db)\n",
    "    print(df)\n",
    "    print('\\n')"
   ]
  },
  {
   "cell_type": "code",
   "execution_count": null,
   "metadata": {},
   "outputs": [],
   "source": []
  }
 ],
 "metadata": {
  "kernelspec": {
   "display_name": "Python 3",
   "language": "python",
   "name": "python3"
  },
  "language_info": {
   "codemirror_mode": {
    "name": "ipython",
    "version": 3
   },
   "file_extension": ".py",
   "mimetype": "text/x-python",
   "name": "python",
   "nbconvert_exporter": "python",
   "pygments_lexer": "ipython3",
   "version": "3.6.6"
  },
  "latex_envs": {
   "LaTeX_envs_menu_present": true,
   "autoclose": false,
   "autocomplete": true,
   "bibliofile": "biblio.bib",
   "cite_by": "apalike",
   "current_citInitial": 1,
   "eqLabelWithNumbers": true,
   "eqNumInitial": 1,
   "hotkeys": {
    "equation": "Ctrl-E",
    "itemize": "Ctrl-I"
   },
   "labels_anchors": false,
   "latex_user_defs": false,
   "report_style_numbering": false,
   "user_envs_cfg": false
  },
  "varInspector": {
   "cols": {
    "lenName": 16,
    "lenType": 16,
    "lenVar": 40
   },
   "kernels_config": {
    "python": {
     "delete_cmd_postfix": "",
     "delete_cmd_prefix": "del ",
     "library": "var_list.py",
     "varRefreshCmd": "print(var_dic_list())"
    },
    "r": {
     "delete_cmd_postfix": ") ",
     "delete_cmd_prefix": "rm(",
     "library": "var_list.r",
     "varRefreshCmd": "cat(var_dic_list()) "
    }
   },
   "types_to_exclude": [
    "module",
    "function",
    "builtin_function_or_method",
    "instance",
    "_Feature"
   ],
   "window_display": false
  }
 },
 "nbformat": 4,
 "nbformat_minor": 2
}
