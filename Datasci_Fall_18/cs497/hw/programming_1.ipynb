{
 "cells": [
  {
   "cell_type": "markdown",
   "metadata": {
    "heading_collapsed": true
   },
   "source": [
    "### Import packages"
   ]
  },
  {
   "cell_type": "code",
   "execution_count": 192,
   "metadata": {
    "hidden": true
   },
   "outputs": [],
   "source": [
    "import pandas as pd\n",
    "import numpy as np\n",
    "import seaborn as sns\n",
    "import matplotlib.pyplot as plt\n",
    "import operator\n",
    "from sklearn.preprocessing import MinMaxScaler, LabelBinarizer\n",
    "from sklearn.feature_selection import SelectKBest, chi2, mutual_info_classif\n",
    "%matplotlib inline"
   ]
  },
  {
   "cell_type": "markdown",
   "metadata": {
    "heading_collapsed": true
   },
   "source": [
    "### Read the data"
   ]
  },
  {
   "cell_type": "code",
   "execution_count": 193,
   "metadata": {
    "hidden": true
   },
   "outputs": [
    {
     "data": {
      "text/html": [
       "<div>\n",
       "<style scoped>\n",
       "    .dataframe tbody tr th:only-of-type {\n",
       "        vertical-align: middle;\n",
       "    }\n",
       "\n",
       "    .dataframe tbody tr th {\n",
       "        vertical-align: top;\n",
       "    }\n",
       "\n",
       "    .dataframe thead th {\n",
       "        text-align: right;\n",
       "    }\n",
       "</style>\n",
       "<table border=\"1\" class=\"dataframe\">\n",
       "  <thead>\n",
       "    <tr style=\"text-align: right;\">\n",
       "      <th></th>\n",
       "      <th>age</th>\n",
       "      <th>job</th>\n",
       "      <th>marital</th>\n",
       "      <th>education</th>\n",
       "      <th>default</th>\n",
       "      <th>housing</th>\n",
       "      <th>loan</th>\n",
       "      <th>contact</th>\n",
       "      <th>month</th>\n",
       "      <th>day_of_week</th>\n",
       "      <th>...</th>\n",
       "      <th>campaign</th>\n",
       "      <th>pdays</th>\n",
       "      <th>previous</th>\n",
       "      <th>poutcome</th>\n",
       "      <th>emp.var.rate</th>\n",
       "      <th>cons.price.idx</th>\n",
       "      <th>cons.conf.idx</th>\n",
       "      <th>euribor3m</th>\n",
       "      <th>nr.employed</th>\n",
       "      <th>y</th>\n",
       "    </tr>\n",
       "  </thead>\n",
       "  <tbody>\n",
       "    <tr>\n",
       "      <th>0</th>\n",
       "      <td>56</td>\n",
       "      <td>housemaid</td>\n",
       "      <td>married</td>\n",
       "      <td>basic.4y</td>\n",
       "      <td>no</td>\n",
       "      <td>no</td>\n",
       "      <td>no</td>\n",
       "      <td>telephone</td>\n",
       "      <td>may</td>\n",
       "      <td>mon</td>\n",
       "      <td>...</td>\n",
       "      <td>1</td>\n",
       "      <td>999</td>\n",
       "      <td>0</td>\n",
       "      <td>nonexistent</td>\n",
       "      <td>1.1</td>\n",
       "      <td>93.994</td>\n",
       "      <td>-36.4</td>\n",
       "      <td>4.857</td>\n",
       "      <td>5191.0</td>\n",
       "      <td>no</td>\n",
       "    </tr>\n",
       "    <tr>\n",
       "      <th>1</th>\n",
       "      <td>57</td>\n",
       "      <td>services</td>\n",
       "      <td>married</td>\n",
       "      <td>high.school</td>\n",
       "      <td>unknown</td>\n",
       "      <td>no</td>\n",
       "      <td>no</td>\n",
       "      <td>telephone</td>\n",
       "      <td>may</td>\n",
       "      <td>mon</td>\n",
       "      <td>...</td>\n",
       "      <td>1</td>\n",
       "      <td>999</td>\n",
       "      <td>0</td>\n",
       "      <td>nonexistent</td>\n",
       "      <td>1.1</td>\n",
       "      <td>93.994</td>\n",
       "      <td>-36.4</td>\n",
       "      <td>4.857</td>\n",
       "      <td>5191.0</td>\n",
       "      <td>no</td>\n",
       "    </tr>\n",
       "    <tr>\n",
       "      <th>2</th>\n",
       "      <td>37</td>\n",
       "      <td>services</td>\n",
       "      <td>married</td>\n",
       "      <td>high.school</td>\n",
       "      <td>no</td>\n",
       "      <td>yes</td>\n",
       "      <td>no</td>\n",
       "      <td>telephone</td>\n",
       "      <td>may</td>\n",
       "      <td>mon</td>\n",
       "      <td>...</td>\n",
       "      <td>1</td>\n",
       "      <td>999</td>\n",
       "      <td>0</td>\n",
       "      <td>nonexistent</td>\n",
       "      <td>1.1</td>\n",
       "      <td>93.994</td>\n",
       "      <td>-36.4</td>\n",
       "      <td>4.857</td>\n",
       "      <td>5191.0</td>\n",
       "      <td>no</td>\n",
       "    </tr>\n",
       "    <tr>\n",
       "      <th>3</th>\n",
       "      <td>40</td>\n",
       "      <td>admin.</td>\n",
       "      <td>married</td>\n",
       "      <td>basic.6y</td>\n",
       "      <td>no</td>\n",
       "      <td>no</td>\n",
       "      <td>no</td>\n",
       "      <td>telephone</td>\n",
       "      <td>may</td>\n",
       "      <td>mon</td>\n",
       "      <td>...</td>\n",
       "      <td>1</td>\n",
       "      <td>999</td>\n",
       "      <td>0</td>\n",
       "      <td>nonexistent</td>\n",
       "      <td>1.1</td>\n",
       "      <td>93.994</td>\n",
       "      <td>-36.4</td>\n",
       "      <td>4.857</td>\n",
       "      <td>5191.0</td>\n",
       "      <td>no</td>\n",
       "    </tr>\n",
       "    <tr>\n",
       "      <th>4</th>\n",
       "      <td>56</td>\n",
       "      <td>services</td>\n",
       "      <td>married</td>\n",
       "      <td>high.school</td>\n",
       "      <td>no</td>\n",
       "      <td>no</td>\n",
       "      <td>yes</td>\n",
       "      <td>telephone</td>\n",
       "      <td>may</td>\n",
       "      <td>mon</td>\n",
       "      <td>...</td>\n",
       "      <td>1</td>\n",
       "      <td>999</td>\n",
       "      <td>0</td>\n",
       "      <td>nonexistent</td>\n",
       "      <td>1.1</td>\n",
       "      <td>93.994</td>\n",
       "      <td>-36.4</td>\n",
       "      <td>4.857</td>\n",
       "      <td>5191.0</td>\n",
       "      <td>no</td>\n",
       "    </tr>\n",
       "  </tbody>\n",
       "</table>\n",
       "<p>5 rows × 21 columns</p>\n",
       "</div>"
      ],
      "text/plain": [
       "   age        job  marital    education  default housing loan    contact  \\\n",
       "0   56  housemaid  married     basic.4y       no      no   no  telephone   \n",
       "1   57   services  married  high.school  unknown      no   no  telephone   \n",
       "2   37   services  married  high.school       no     yes   no  telephone   \n",
       "3   40     admin.  married     basic.6y       no      no   no  telephone   \n",
       "4   56   services  married  high.school       no      no  yes  telephone   \n",
       "\n",
       "  month day_of_week ...  campaign  pdays  previous     poutcome emp.var.rate  \\\n",
       "0   may         mon ...         1    999         0  nonexistent          1.1   \n",
       "1   may         mon ...         1    999         0  nonexistent          1.1   \n",
       "2   may         mon ...         1    999         0  nonexistent          1.1   \n",
       "3   may         mon ...         1    999         0  nonexistent          1.1   \n",
       "4   may         mon ...         1    999         0  nonexistent          1.1   \n",
       "\n",
       "   cons.price.idx  cons.conf.idx  euribor3m  nr.employed   y  \n",
       "0          93.994          -36.4      4.857       5191.0  no  \n",
       "1          93.994          -36.4      4.857       5191.0  no  \n",
       "2          93.994          -36.4      4.857       5191.0  no  \n",
       "3          93.994          -36.4      4.857       5191.0  no  \n",
       "4          93.994          -36.4      4.857       5191.0  no  \n",
       "\n",
       "[5 rows x 21 columns]"
      ]
     },
     "execution_count": 193,
     "metadata": {},
     "output_type": "execute_result"
    }
   ],
   "source": [
    "bank = pd.read_csv('bank-additional-full.csv', sep=';')\n",
    "bank.head()"
   ]
  },
  {
   "cell_type": "markdown",
   "metadata": {},
   "source": [
    "### Data Analysis"
   ]
  },
  {
   "cell_type": "markdown",
   "metadata": {
    "heading_collapsed": true
   },
   "source": [
    "#### __Task 1__: \n",
    "Plot the distribution of values in the class attribute of the dataset using a\n",
    "bar chart. Please describe what you observe, e.g. whether the data distribution is\n",
    "imbalanced."
   ]
  },
  {
   "cell_type": "code",
   "execution_count": 194,
   "metadata": {
    "hidden": true
   },
   "outputs": [
    {
     "data": {
      "image/png": "[encoded data removed]",
      "text/plain": [
       "<Figure size 360x360 with 1 Axes>"
      ]
     },
     "metadata": {
      "needs_background": "light"
     },
     "output_type": "display_data"
    }
   ],
   "source": [
    "plt.figure(figsize=(5,5))\n",
    "sns.countplot(\"y\",data=bank)\n",
    "plt.show()"
   ]
  },
  {
   "cell_type": "markdown",
   "metadata": {
    "hidden": true
   },
   "source": [
    "As we observe the class distribution from the bar chart above, we can see that the distribution is extremely imbalanced, with `no`(clients who would not consider subscribing the product) taking up the majority, approximately 30000 clients more than `yes`(clients who are subscribers)."
   ]
  },
  {
   "cell_type": "markdown",
   "metadata": {},
   "source": [
    "#### __Task 2__: \n",
    "\n",
    "Read the reference and answer the following questions.\n",
    "\n",
    "- a) Please summarize the characteristics and differences of chi-square\n",
    "function (https://en.wikipedia.org/wiki/Chi-squared_test) and mutual\n",
    "information functions (https://en.wikipedia.org/wiki/Mutual_information)\n",
    "- b) Can we simply apply chi-square function and mutual information function\n",
    "on Bank Marketing Dataset for feature selection? Please explain. (hint: the\n",
    "difference between categorical and numerical data)\n",
    "- c) Employ chi-square or mutual information as appropriate to obtain a\n",
    "measure between values of each feature and the class. Rank features by\n",
    "their measures of chi-square and mutual information.\n",
    "Note: Please make two lists: one for chi-square and the other for mutual\n",
    "information. An attribute only belongs to one list.\n"
   ]
  },
  {
   "cell_type": "markdown",
   "metadata": {},
   "source": [
    "a) Both chi-square function and mutual information functions are feature selection techniques that are used to rank features and measure how important each feature is when doing the classification task:\n",
    "\n",
    "- chi-square:\n",
    "    - The chi-square test is a statistical test of independence to determine the dependency of two variables. \n",
    "    - $$\\chi^2=\\sum_{i=1}^{n} \\frac{(O_i - E_i)^2}{E_i}$$\n",
    "        - If the chi-square test score is smaller, then the two features are more likely to be independent, thus it's safe to discard that feature variable without affecting the outcome.\n",
    "        - If the chi-square test score is high, then the two variables are more likely correlated to each other, which indicates that the feature variable is very important.\n",
    "    - By calculating the Chi square scores for all the features, we can rank the features by the chi square scores, then choose the top ranked features for model training. \n",
    "    - chi square test is more appropriate for categorical variables\n",
    "    \n",
    "- mutual information function\n",
    "    - The goal of MI is to measure mutual dependence between variables, and how strong the relation is between these variables. It is closely associated with the idea of entropy, applied to quantify the amount of information obtained.\n",
    "    - $${\\displaystyle I(X;Y)=\\int _{Y}\\int _{X}p(x,y)\\log {\\left({\\frac {p(x,y)}{p(x)\\,p(y)}}\\right)}\\;dx\\,dy}$$\n",
    "    - thus if X and Y are independent, then their mutual information is zero because \n",
    "    $$p(x,y) = p(x)p(y)$$\n",
    "    $$\\log {\\left({\\frac {p(x,y)}{p(x)\\,p(y)}}\\right)} = \\log 1 = 0$$\n",
    "    - closely associated with the idea of entropy:\n",
    "\n",
    "$${\\displaystyle {\\begin{aligned}I(X;Y)&{}=\\sum _{x,y}p(x,y)\\log {\\frac {p(x,y)}{p(x)p(y)}}\\\\&{}=\\sum _{x,y}p(x,y)\\log {\\frac {p(x,y)}{p(x)}}-\\sum _{x,y}p(x,y)\\log p(y)\\\\&{}=\\sum _{x,y}p(x)p(y|x)\\log p(y|x)-\\sum _{x,y}\\log p(y)p(x,y)\\\\&{}=\\sum _{x}p(x)\\left(\\sum _{y}p(y|x)\\log p(y|x)\\right)-\\sum _{y}\\log p(y)\\left(\\sum _{x}p(x,y)\\right)\\\\&{}=-\\sum _{x}p(x)\\mathrm {H} (Y|X=x)-\\sum _{y}p(y)\\log p(y)\\\\&{}=-\\mathrm {H} (Y|X)+\\mathrm {H} (Y)\\\\&{}=\\mathrm {H} (Y)-\\mathrm {H} (Y|X)\\\\&{}=\\mathrm {H} (X)+ \\mathrm{H}(Y) - \\mathrm {H} (X, Y)\n",
    ".\\\\\\end{aligned}}}$$\n",
    "- intuition of the equation: `the amount of uncertainty in Y which is removed by knowing X`\n",
    "- Unlike chi square test, mutual info function could be applied to both categorical and numerical variables"
   ]
  },
  {
   "cell_type": "markdown",
   "metadata": {},
   "source": [
    "- b) No.\n",
    "\n",
    "Test and explain as follows:"
   ]
  },
  {
   "cell_type": "code",
   "execution_count": 195,
   "metadata": {},
   "outputs": [],
   "source": [
    "def feature_select(X, y, top_k, score_func):\n",
    "    selector = SelectKBest(score_func=score_func, k=top_k)\n",
    "    try:\n",
    "        X_selected = selector.fit(X, y)\n",
    "        mask = X_selected.get_support()\n",
    "        scores = X_selected.scores_\n",
    "        res = dict(zip(X.columns[mask], scores[mask]))\n",
    "        return sorted(res.items(), key=operator.itemgetter(1), \n",
    "                      reverse=True)\n",
    "    except Exception as e:\n",
    "        print(e)"
   ]
  },
  {
   "cell_type": "code",
   "execution_count": 196,
   "metadata": {},
   "outputs": [],
   "source": [
    "categorical_cols = bank.columns[bank.dtypes==object]\n",
    "numerical_cols = bank.columns[bank.dtypes!=object]"
   ]
  },
  {
   "cell_type": "code",
   "execution_count": 197,
   "metadata": {},
   "outputs": [],
   "source": [
    "X = bank.iloc[:,:20]\n",
    "y = bank.iloc[:,20]"
   ]
  },
  {
   "cell_type": "code",
   "execution_count": 198,
   "metadata": {},
   "outputs": [
    {
     "name": "stdout",
     "output_type": "stream",
     "text": [
      "could not convert string to float: 'failure'\n"
     ]
    }
   ],
   "source": [
    "feature_select(X=X, y=y, top_k=len(X.columns), score_func=chi2)"
   ]
  },
  {
   "cell_type": "code",
   "execution_count": 199,
   "metadata": {},
   "outputs": [
    {
     "name": "stdout",
     "output_type": "stream",
     "text": [
      "could not convert string to float: 'failure'\n"
     ]
    }
   ],
   "source": [
    "feature_select(X=X, y=y, top_k=len(X.columns), \n",
    "               score_func=mutual_info_classif)"
   ]
  },
  {
   "cell_type": "markdown",
   "metadata": {},
   "source": [
    "##### Thus we should encode the categorical variables first:"
   ]
  },
  {
   "cell_type": "code",
   "execution_count": 200,
   "metadata": {},
   "outputs": [],
   "source": [
    "def convert(df, x):\n",
    "    df[x] = df[x].astype('category').cat.codes\n",
    "    return df\n",
    "    \n",
    "for col in bank.columns[bank.dtypes==object]:\n",
    "    convert(bank, col)"
   ]
  },
  {
   "cell_type": "code",
   "execution_count": 201,
   "metadata": {},
   "outputs": [
    {
     "data": {
      "text/html": [
       "<div>\n",
       "<style scoped>\n",
       "    .dataframe tbody tr th:only-of-type {\n",
       "        vertical-align: middle;\n",
       "    }\n",
       "\n",
       "    .dataframe tbody tr th {\n",
       "        vertical-align: top;\n",
       "    }\n",
       "\n",
       "    .dataframe thead th {\n",
       "        text-align: right;\n",
       "    }\n",
       "</style>\n",
       "<table border=\"1\" class=\"dataframe\">\n",
       "  <thead>\n",
       "    <tr style=\"text-align: right;\">\n",
       "      <th></th>\n",
       "      <th>age</th>\n",
       "      <th>job</th>\n",
       "      <th>marital</th>\n",
       "      <th>education</th>\n",
       "      <th>default</th>\n",
       "      <th>housing</th>\n",
       "      <th>loan</th>\n",
       "      <th>contact</th>\n",
       "      <th>month</th>\n",
       "      <th>day_of_week</th>\n",
       "      <th>...</th>\n",
       "      <th>campaign</th>\n",
       "      <th>pdays</th>\n",
       "      <th>previous</th>\n",
       "      <th>poutcome</th>\n",
       "      <th>emp.var.rate</th>\n",
       "      <th>cons.price.idx</th>\n",
       "      <th>cons.conf.idx</th>\n",
       "      <th>euribor3m</th>\n",
       "      <th>nr.employed</th>\n",
       "      <th>y</th>\n",
       "    </tr>\n",
       "  </thead>\n",
       "  <tbody>\n",
       "    <tr>\n",
       "      <th>0</th>\n",
       "      <td>56</td>\n",
       "      <td>3</td>\n",
       "      <td>1</td>\n",
       "      <td>0</td>\n",
       "      <td>0</td>\n",
       "      <td>0</td>\n",
       "      <td>0</td>\n",
       "      <td>1</td>\n",
       "      <td>6</td>\n",
       "      <td>1</td>\n",
       "      <td>...</td>\n",
       "      <td>1</td>\n",
       "      <td>999</td>\n",
       "      <td>0</td>\n",
       "      <td>1</td>\n",
       "      <td>1.1</td>\n",
       "      <td>93.994</td>\n",
       "      <td>-36.4</td>\n",
       "      <td>4.857</td>\n",
       "      <td>5191.0</td>\n",
       "      <td>0</td>\n",
       "    </tr>\n",
       "    <tr>\n",
       "      <th>1</th>\n",
       "      <td>57</td>\n",
       "      <td>7</td>\n",
       "      <td>1</td>\n",
       "      <td>3</td>\n",
       "      <td>1</td>\n",
       "      <td>0</td>\n",
       "      <td>0</td>\n",
       "      <td>1</td>\n",
       "      <td>6</td>\n",
       "      <td>1</td>\n",
       "      <td>...</td>\n",
       "      <td>1</td>\n",
       "      <td>999</td>\n",
       "      <td>0</td>\n",
       "      <td>1</td>\n",
       "      <td>1.1</td>\n",
       "      <td>93.994</td>\n",
       "      <td>-36.4</td>\n",
       "      <td>4.857</td>\n",
       "      <td>5191.0</td>\n",
       "      <td>0</td>\n",
       "    </tr>\n",
       "    <tr>\n",
       "      <th>2</th>\n",
       "      <td>37</td>\n",
       "      <td>7</td>\n",
       "      <td>1</td>\n",
       "      <td>3</td>\n",
       "      <td>0</td>\n",
       "      <td>2</td>\n",
       "      <td>0</td>\n",
       "      <td>1</td>\n",
       "      <td>6</td>\n",
       "      <td>1</td>\n",
       "      <td>...</td>\n",
       "      <td>1</td>\n",
       "      <td>999</td>\n",
       "      <td>0</td>\n",
       "      <td>1</td>\n",
       "      <td>1.1</td>\n",
       "      <td>93.994</td>\n",
       "      <td>-36.4</td>\n",
       "      <td>4.857</td>\n",
       "      <td>5191.0</td>\n",
       "      <td>0</td>\n",
       "    </tr>\n",
       "    <tr>\n",
       "      <th>3</th>\n",
       "      <td>40</td>\n",
       "      <td>0</td>\n",
       "      <td>1</td>\n",
       "      <td>1</td>\n",
       "      <td>0</td>\n",
       "      <td>0</td>\n",
       "      <td>0</td>\n",
       "      <td>1</td>\n",
       "      <td>6</td>\n",
       "      <td>1</td>\n",
       "      <td>...</td>\n",
       "      <td>1</td>\n",
       "      <td>999</td>\n",
       "      <td>0</td>\n",
       "      <td>1</td>\n",
       "      <td>1.1</td>\n",
       "      <td>93.994</td>\n",
       "      <td>-36.4</td>\n",
       "      <td>4.857</td>\n",
       "      <td>5191.0</td>\n",
       "      <td>0</td>\n",
       "    </tr>\n",
       "    <tr>\n",
       "      <th>4</th>\n",
       "      <td>56</td>\n",
       "      <td>7</td>\n",
       "      <td>1</td>\n",
       "      <td>3</td>\n",
       "      <td>0</td>\n",
       "      <td>0</td>\n",
       "      <td>2</td>\n",
       "      <td>1</td>\n",
       "      <td>6</td>\n",
       "      <td>1</td>\n",
       "      <td>...</td>\n",
       "      <td>1</td>\n",
       "      <td>999</td>\n",
       "      <td>0</td>\n",
       "      <td>1</td>\n",
       "      <td>1.1</td>\n",
       "      <td>93.994</td>\n",
       "      <td>-36.4</td>\n",
       "      <td>4.857</td>\n",
       "      <td>5191.0</td>\n",
       "      <td>0</td>\n",
       "    </tr>\n",
       "  </tbody>\n",
       "</table>\n",
       "<p>5 rows × 21 columns</p>\n",
       "</div>"
      ],
      "text/plain": [
       "   age  job  marital  education  default  housing  loan  contact  month  \\\n",
       "0   56    3        1          0        0        0     0        1      6   \n",
       "1   57    7        1          3        1        0     0        1      6   \n",
       "2   37    7        1          3        0        2     0        1      6   \n",
       "3   40    0        1          1        0        0     0        1      6   \n",
       "4   56    7        1          3        0        0     2        1      6   \n",
       "\n",
       "   day_of_week ...  campaign  pdays  previous  poutcome  emp.var.rate  \\\n",
       "0            1 ...         1    999         0         1           1.1   \n",
       "1            1 ...         1    999         0         1           1.1   \n",
       "2            1 ...         1    999         0         1           1.1   \n",
       "3            1 ...         1    999         0         1           1.1   \n",
       "4            1 ...         1    999         0         1           1.1   \n",
       "\n",
       "   cons.price.idx  cons.conf.idx  euribor3m  nr.employed  y  \n",
       "0          93.994          -36.4      4.857       5191.0  0  \n",
       "1          93.994          -36.4      4.857       5191.0  0  \n",
       "2          93.994          -36.4      4.857       5191.0  0  \n",
       "3          93.994          -36.4      4.857       5191.0  0  \n",
       "4          93.994          -36.4      4.857       5191.0  0  \n",
       "\n",
       "[5 rows x 21 columns]"
      ]
     },
     "execution_count": 201,
     "metadata": {},
     "output_type": "execute_result"
    }
   ],
   "source": [
    "bank.head()"
   ]
  },
  {
   "cell_type": "code",
   "execution_count": 202,
   "metadata": {},
   "outputs": [],
   "source": [
    "X = bank.iloc[:,:20]\n",
    "y = bank.iloc[:,20]"
   ]
  },
  {
   "cell_type": "code",
   "execution_count": 204,
   "metadata": {},
   "outputs": [
    {
     "name": "stdout",
     "output_type": "stream",
     "text": [
      "Input X must be non-negative.\n"
     ]
    }
   ],
   "source": [
    "feature_select(X=X, y=y, top_k=len(X.columns), \n",
    "               score_func=chi2)"
   ]
  },
  {
   "cell_type": "code",
   "execution_count": 205,
   "metadata": {},
   "outputs": [
    {
     "data": {
      "text/plain": [
       "[('euribor3m', 0.07439068758302914),\n",
       " ('duration', 0.07437799596280947),\n",
       " ('cons.conf.idx', 0.06979660508167274),\n",
       " ('cons.price.idx', 0.06697064001857878),\n",
       " ('nr.employed', 0.06499957708094883),\n",
       " ('emp.var.rate', 0.05896975926692627),\n",
       " ('pdays', 0.0380599927794556),\n",
       " ('poutcome', 0.03797698893710222),\n",
       " ('month', 0.027695751422377457),\n",
       " ('previous', 0.019274375880108385),\n",
       " ('age', 0.014167084194000257),\n",
       " ('contact', 0.010783284360574852),\n",
       " ('job', 0.010301468574388073),\n",
       " ('default', 0.008358099772084016),\n",
       " ('campaign', 0.007501069394729942),\n",
       " ('marital', 0.0060053707081275665),\n",
       " ('housing', 0.004001247180142498),\n",
       " ('education', 0.0034967153592813105),\n",
       " ('day_of_week', 0.0009046329666289044),\n",
       " ('loan', 0.0)]"
      ]
     },
     "execution_count": 205,
     "metadata": {},
     "output_type": "execute_result"
    }
   ],
   "source": [
    "feature_select(X=X, y=y, top_k=len(X.columns), \n",
    "               score_func=mutual_info_classif)"
   ]
  },
  {
   "cell_type": "markdown",
   "metadata": {},
   "source": [
    "##### Note: after categorical encoding:\n",
    "- mutual info function is applicable for both categorical and numerical variables;\n",
    "- for $\\chi ^2$, we should split the dataset to categorical variables and numerical variables and apply $\\chi ^2$ on only categorical ones;\n"
   ]
  },
  {
   "cell_type": "markdown",
   "metadata": {},
   "source": [
    "- c):"
   ]
  },
  {
   "cell_type": "code",
   "execution_count": 206,
   "metadata": {},
   "outputs": [],
   "source": [
    "X_categorical = bank[categorical_cols].iloc[:, :-1]\n",
    "X_numerical = bank[numerical_cols]"
   ]
  },
  {
   "cell_type": "code",
   "execution_count": 207,
   "metadata": {},
   "outputs": [
    {
     "data": {
      "text/plain": [
       "[('contact', 547.9583093880087),\n",
       " ('default', 321.9229031035162),\n",
       " ('education', 167.60728300206605),\n",
       " ('poutcome', 98.23117431597791),\n",
       " ('job', 90.17553267281917),\n",
       " ('marital', 27.79559829132918),\n",
       " ('day_of_week', 10.231444571849314),\n",
       " ('housing', 4.978734333542827),\n",
       " ('month', 1.9272840371275475),\n",
       " ('loan', 1.587004275347953)]"
      ]
     },
     "execution_count": 207,
     "metadata": {},
     "output_type": "execute_result"
    }
   ],
   "source": [
    "categorical_list = feature_select(X=X_categorical, y=y, \n",
    "                                  top_k=len(X_categorical.columns), \n",
    "                                  score_func=chi2)\n",
    "categorical_list"
   ]
  },
  {
   "cell_type": "code",
   "execution_count": 208,
   "metadata": {},
   "outputs": [
    {
     "data": {
      "text/plain": [
       "[('duration', 0.07618431443827434),\n",
       " ('euribor3m', 0.07341151936109758),\n",
       " ('cons.price.idx', 0.07005806617854993),\n",
       " ('cons.conf.idx', 0.06757698968767634),\n",
       " ('nr.employed', 0.06577525835710651),\n",
       " ('emp.var.rate', 0.05775910205365631),\n",
       " ('pdays', 0.03918427546576586),\n",
       " ('previous', 0.02085565665967737),\n",
       " ('age', 0.01499242568061332),\n",
       " ('campaign', 0.006293450430396863)]"
      ]
     },
     "execution_count": 208,
     "metadata": {},
     "output_type": "execute_result"
    }
   ],
   "source": [
    "numerical_list = feature_select(X=X_numerical, y=y, \n",
    "                                top_k=len(X_numerical.columns), \n",
    "                                score_func=mutual_info_classif)\n",
    "numerical_list"
   ]
  },
  {
   "cell_type": "markdown",
   "metadata": {
    "heading_collapsed": true
   },
   "source": [
    "#### __Task 3__: \n",
    "Based on the two ranked lists obtained in Task 2, plot the value\n",
    "distribution of (i) the highest ranked three categorical features, (ii) the lowest\n",
    "ranked three categorical features, (iii) the highest ranked three numerical features,\n",
    "and (iv) the lowest ranked three numerical features. Describe what you observe\n",
    "from these value distributions."
   ]
  },
  {
   "cell_type": "code",
   "execution_count": 154,
   "metadata": {
    "hidden": true
   },
   "outputs": [],
   "source": [
    "bank = pd.read_csv('bank-additional-full.csv', sep=';')"
   ]
  },
  {
   "cell_type": "code",
   "execution_count": 155,
   "metadata": {
    "hidden": true
   },
   "outputs": [],
   "source": [
    "def plots(var_list, type_='categorical'):\n",
    "    if type_=='categorical':\n",
    "        for var in var_list:\n",
    "            ct = pd.crosstab(bank[var], bank.y)\n",
    "            print(ct)\n",
    "            ax = ct.plot.bar(stacked=True)\n",
    "            ax.set_title(var)\n",
    "            plt.show()\n",
    "    elif type_=='numerical':\n",
    "        for var in var_list:\n",
    "            x_multi = [bank[var][bank.y==i].values for i in set(bank.y)]\n",
    "            plt.hist(x_multi, bins=10, histtype='bar')\n",
    "            plt.title(var)\n",
    "            plt.legend(x_multi, labels = np.unique(bank.y))\n",
    "            plt.show()"
   ]
  },
  {
   "cell_type": "markdown",
   "metadata": {
    "hidden": true
   },
   "source": [
    "##### i) Highest 3 categorical:"
   ]
  },
  {
   "cell_type": "code",
   "execution_count": 156,
   "metadata": {
    "hidden": true
   },
   "outputs": [
    {
     "name": "stdout",
     "output_type": "stream",
     "text": [
      "y             no   yes\n",
      "contact               \n",
      "cellular   22291  3853\n",
      "telephone  14257   787\n"
     ]
    },
    {
     "data": {
      "image/png": "[encoded data removed]",
      "text/plain": [
       "<Figure size 432x288 with 1 Axes>"
      ]
     },
     "metadata": {
      "needs_background": "light"
     },
     "output_type": "display_data"
    },
    {
     "name": "stdout",
     "output_type": "stream",
     "text": [
      "y           no   yes\n",
      "default             \n",
      "no       28391  4197\n",
      "unknown   8154   443\n",
      "yes          3     0\n"
     ]
    },
    {
     "data": {
      "image/png": "[encoded data removed]",
      "text/plain": [
       "<Figure size 432x288 with 1 Axes>"
      ]
     },
     "metadata": {
      "needs_background": "light"
     },
     "output_type": "display_data"
    },
    {
     "name": "stdout",
     "output_type": "stream",
     "text": [
      "y                       no   yes\n",
      "education                       \n",
      "basic.4y              3748   428\n",
      "basic.6y              2104   188\n",
      "basic.9y              5572   473\n",
      "high.school           8484  1031\n",
      "illiterate              14     4\n",
      "professional.course   4648   595\n",
      "university.degree    10498  1670\n",
      "unknown               1480   251\n"
     ]
    },
    {
     "data": {
      "image/png": "[encoded data removed]",
      "text/plain": [
       "<Figure size 432x288 with 1 Axes>"
      ]
     },
     "metadata": {
      "needs_background": "light"
     },
     "output_type": "display_data"
    }
   ],
   "source": [
    "plots(list(map(lambda x: x[0], categorical_list[:3])))"
   ]
  },
  {
   "cell_type": "markdown",
   "metadata": {
    "heading_collapsed": true,
    "hidden": true
   },
   "source": [
    "##### ii) Lowest 3 categorical:"
   ]
  },
  {
   "cell_type": "code",
   "execution_count": 157,
   "metadata": {
    "hidden": true
   },
   "outputs": [
    {
     "name": "stdout",
     "output_type": "stream",
     "text": [
      "y           no   yes\n",
      "housing             \n",
      "no       16596  2026\n",
      "unknown    883   107\n",
      "yes      19069  2507\n"
     ]
    },
    {
     "data": {
      "image/png": "[encoded data removed]",
      "text/plain": [
       "<Figure size 432x288 with 1 Axes>"
      ]
     },
     "metadata": {
      "needs_background": "light"
     },
     "output_type": "display_data"
    },
    {
     "name": "stdout",
     "output_type": "stream",
     "text": [
      "y         no  yes\n",
      "month            \n",
      "apr     2093  539\n",
      "aug     5523  655\n",
      "dec       93   89\n",
      "jul     6525  649\n",
      "jun     4759  559\n",
      "mar      270  276\n",
      "may    12883  886\n",
      "nov     3685  416\n",
      "oct      403  315\n",
      "sep      314  256\n"
     ]
    },
    {
     "data": {
      "image/png": "[encoded data removed]",
      "text/plain": [
       "<Figure size 432x288 with 1 Axes>"
      ]
     },
     "metadata": {
      "needs_background": "light"
     },
     "output_type": "display_data"
    },
    {
     "name": "stdout",
     "output_type": "stream",
     "text": [
      "y           no   yes\n",
      "loan                \n",
      "no       30100  3850\n",
      "unknown    883   107\n",
      "yes       5565   683\n"
     ]
    },
    {
     "data": {
      "image/png": "[encoded data removed]",
      "text/plain": [
       "<Figure size 432x288 with 1 Axes>"
      ]
     },
     "metadata": {
      "needs_background": "light"
     },
     "output_type": "display_data"
    }
   ],
   "source": [
    "plots(list(map(lambda x: x[0], categorical_list[-3:])))"
   ]
  },
  {
   "cell_type": "markdown",
   "metadata": {
    "hidden": true
   },
   "source": [
    "##### iii) Highest 3 numerical:"
   ]
  },
  {
   "cell_type": "code",
   "execution_count": 158,
   "metadata": {
    "hidden": true
   },
   "outputs": [
    {
     "name": "stderr",
     "output_type": "stream",
     "text": [
      "/usr/local/lib/python3.6/dist-packages/matplotlib/legend.py:1363: UserWarning: You have mixed positional and keyword arguments, some input may be discarded.\n",
      "  warnings.warn(\"You have mixed positional and keyword \"\n"
     ]
    },
    {
     "data": {
      "image/png": "[encoded data removed]",
      "text/plain": [
       "<Figure size 432x288 with 1 Axes>"
      ]
     },
     "metadata": {
      "needs_background": "light"
     },
     "output_type": "display_data"
    },
    {
     "data": {
      "image/png": "[encoded data removed]",
      "text/plain": [
       "<Figure size 432x288 with 1 Axes>"
      ]
     },
     "metadata": {
      "needs_background": "light"
     },
     "output_type": "display_data"
    },
    {
     "data": {
      "image/png": "[encoded data removed]",
      "text/plain": [
       "<Figure size 432x288 with 1 Axes>"
      ]
     },
     "metadata": {
      "needs_background": "light"
     },
     "output_type": "display_data"
    }
   ],
   "source": [
    "plots(list(map(lambda x: x[0], numerical_list[:3])), type_='numerical')"
   ]
  },
  {
   "cell_type": "markdown",
   "metadata": {
    "hidden": true
   },
   "source": [
    "##### iv) Lowest 3 numerical:"
   ]
  },
  {
   "cell_type": "code",
   "execution_count": 159,
   "metadata": {
    "hidden": true
   },
   "outputs": [
    {
     "name": "stderr",
     "output_type": "stream",
     "text": [
      "/usr/local/lib/python3.6/dist-packages/matplotlib/legend.py:1363: UserWarning: You have mixed positional and keyword arguments, some input may be discarded.\n",
      "  warnings.warn(\"You have mixed positional and keyword \"\n"
     ]
    },
    {
     "data": {
      "image/png": "[encoded data removed]",
      "text/plain": [
       "<Figure size 432x288 with 1 Axes>"
      ]
     },
     "metadata": {
      "needs_background": "light"
     },
     "output_type": "display_data"
    },
    {
     "data": {
      "image/png": "[encoded data removed]",
      "text/plain": [
       "<Figure size 432x288 with 1 Axes>"
      ]
     },
     "metadata": {
      "needs_background": "light"
     },
     "output_type": "display_data"
    },
    {
     "data": {
      "image/png": "[encoded data removed]",
      "text/plain": [
       "<Figure size 432x288 with 1 Axes>"
      ]
     },
     "metadata": {
      "needs_background": "light"
     },
     "output_type": "display_data"
    }
   ],
   "source": [
    "plots(list(map(lambda x: x[0], numerical_list[-3:])), type_='numerical')"
   ]
  },
  {
   "cell_type": "markdown",
   "metadata": {},
   "source": [
    "### Data preprocessing"
   ]
  },
  {
   "cell_type": "markdown",
   "metadata": {
    "heading_collapsed": true
   },
   "source": [
    "#### __Task 1__:\n",
    "\n",
    "Normalize the range of values of numerical features. If values are all\n",
    "positive or all negative, normalize them into [0, 1] or [-1, 0], respectively.\n",
    "Otherwise, normalize them into [-1, 1]. For each normalized numerical feature,\n",
    "submit the ranges of its original and normalized values."
   ]
  },
  {
   "cell_type": "code",
   "execution_count": 160,
   "metadata": {
    "hidden": true
   },
   "outputs": [
    {
     "data": {
      "text/plain": [
       "(Index(['age', 'duration', 'campaign', 'pdays', 'previous', 'cons.price.idx',\n",
       "        'euribor3m', 'nr.employed'],\n",
       "       dtype='object'),\n",
       " Index(['cons.conf.idx'], dtype='object'),\n",
       " Index(['emp.var.rate'], dtype='object'))"
      ]
     },
     "execution_count": 160,
     "metadata": {},
     "output_type": "execute_result"
    }
   ],
   "source": [
    "bank_numericals = bank[numerical_cols]\n",
    "p_mask = list(map(lambda x: all(bank_numericals[x]>=0), numerical_cols))\n",
    "n_mask = list(map(lambda x: all(bank_numericals[x]<0), numerical_cols))\n",
    "p_n_mask = list(map(lambda x: not(all(bank_numericals[x]>=0) or \n",
    "                                  all(bank_numericals[x]<0)), numerical_cols))\n",
    "p_cols = numerical_cols[p_mask]\n",
    "n_cols = numerical_cols[n_mask]\n",
    "p_n_cols = numerical_cols[p_n_mask]\n",
    "p_cols, n_cols, p_n_cols"
   ]
  },
  {
   "cell_type": "code",
   "execution_count": 161,
   "metadata": {
    "hidden": true
   },
   "outputs": [],
   "source": [
    "def scale(data, cols, range_=(0,1)):\n",
    "    min_max_scaler_p = MinMaxScaler(feature_range=range_)\n",
    "    return min_max_scaler_p.fit_transform(data[cols])"
   ]
  },
  {
   "cell_type": "code",
   "execution_count": 162,
   "metadata": {
    "hidden": true
   },
   "outputs": [],
   "source": [
    "scaled_p = pd.DataFrame(scale(bank, p_cols), columns=p_cols)\n",
    "scaled_n = pd.DataFrame(scale(bank, n_cols, range_=(-1,0)), columns=n_cols)\n",
    "scaled_p_n = pd.DataFrame(scale(bank, p_n_cols, range_=(-1,1)), columns=p_n_cols)\n",
    "scaled_bank_numericals = pd.concat([scaled_p, scaled_n, scaled_p_n], axis=1)"
   ]
  },
  {
   "cell_type": "code",
   "execution_count": 163,
   "metadata": {
    "hidden": true
   },
   "outputs": [
    {
     "data": {
      "text/html": [
       "<div>\n",
       "<style scoped>\n",
       "    .dataframe tbody tr th:only-of-type {\n",
       "        vertical-align: middle;\n",
       "    }\n",
       "\n",
       "    .dataframe tbody tr th {\n",
       "        vertical-align: top;\n",
       "    }\n",
       "\n",
       "    .dataframe thead th {\n",
       "        text-align: right;\n",
       "    }\n",
       "</style>\n",
       "<table border=\"1\" class=\"dataframe\">\n",
       "  <thead>\n",
       "    <tr style=\"text-align: right;\">\n",
       "      <th></th>\n",
       "      <th>age</th>\n",
       "      <th>duration</th>\n",
       "      <th>campaign</th>\n",
       "      <th>pdays</th>\n",
       "      <th>previous</th>\n",
       "      <th>cons.price.idx</th>\n",
       "      <th>euribor3m</th>\n",
       "      <th>nr.employed</th>\n",
       "      <th>cons.conf.idx</th>\n",
       "      <th>emp.var.rate</th>\n",
       "    </tr>\n",
       "  </thead>\n",
       "  <tbody>\n",
       "    <tr>\n",
       "      <th>0</th>\n",
       "      <td>0.481481</td>\n",
       "      <td>0.053070</td>\n",
       "      <td>0.0</td>\n",
       "      <td>1.0</td>\n",
       "      <td>0.0</td>\n",
       "      <td>0.698753</td>\n",
       "      <td>0.957379</td>\n",
       "      <td>0.859735</td>\n",
       "      <td>-0.39749</td>\n",
       "      <td>0.875</td>\n",
       "    </tr>\n",
       "    <tr>\n",
       "      <th>1</th>\n",
       "      <td>0.493827</td>\n",
       "      <td>0.030297</td>\n",
       "      <td>0.0</td>\n",
       "      <td>1.0</td>\n",
       "      <td>0.0</td>\n",
       "      <td>0.698753</td>\n",
       "      <td>0.957379</td>\n",
       "      <td>0.859735</td>\n",
       "      <td>-0.39749</td>\n",
       "      <td>0.875</td>\n",
       "    </tr>\n",
       "    <tr>\n",
       "      <th>2</th>\n",
       "      <td>0.246914</td>\n",
       "      <td>0.045954</td>\n",
       "      <td>0.0</td>\n",
       "      <td>1.0</td>\n",
       "      <td>0.0</td>\n",
       "      <td>0.698753</td>\n",
       "      <td>0.957379</td>\n",
       "      <td>0.859735</td>\n",
       "      <td>-0.39749</td>\n",
       "      <td>0.875</td>\n",
       "    </tr>\n",
       "    <tr>\n",
       "      <th>3</th>\n",
       "      <td>0.283951</td>\n",
       "      <td>0.030704</td>\n",
       "      <td>0.0</td>\n",
       "      <td>1.0</td>\n",
       "      <td>0.0</td>\n",
       "      <td>0.698753</td>\n",
       "      <td>0.957379</td>\n",
       "      <td>0.859735</td>\n",
       "      <td>-0.39749</td>\n",
       "      <td>0.875</td>\n",
       "    </tr>\n",
       "    <tr>\n",
       "      <th>4</th>\n",
       "      <td>0.481481</td>\n",
       "      <td>0.062424</td>\n",
       "      <td>0.0</td>\n",
       "      <td>1.0</td>\n",
       "      <td>0.0</td>\n",
       "      <td>0.698753</td>\n",
       "      <td>0.957379</td>\n",
       "      <td>0.859735</td>\n",
       "      <td>-0.39749</td>\n",
       "      <td>0.875</td>\n",
       "    </tr>\n",
       "  </tbody>\n",
       "</table>\n",
       "</div>"
      ],
      "text/plain": [
       "        age  duration  campaign  pdays  previous  cons.price.idx  euribor3m  \\\n",
       "0  0.481481  0.053070       0.0    1.0       0.0        0.698753   0.957379   \n",
       "1  0.493827  0.030297       0.0    1.0       0.0        0.698753   0.957379   \n",
       "2  0.246914  0.045954       0.0    1.0       0.0        0.698753   0.957379   \n",
       "3  0.283951  0.030704       0.0    1.0       0.0        0.698753   0.957379   \n",
       "4  0.481481  0.062424       0.0    1.0       0.0        0.698753   0.957379   \n",
       "\n",
       "   nr.employed  cons.conf.idx  emp.var.rate  \n",
       "0     0.859735       -0.39749         0.875  \n",
       "1     0.859735       -0.39749         0.875  \n",
       "2     0.859735       -0.39749         0.875  \n",
       "3     0.859735       -0.39749         0.875  \n",
       "4     0.859735       -0.39749         0.875  "
      ]
     },
     "execution_count": 163,
     "metadata": {},
     "output_type": "execute_result"
    }
   ],
   "source": [
    "scaled_bank_numericals.head()"
   ]
  },
  {
   "cell_type": "code",
   "execution_count": 164,
   "metadata": {
    "hidden": true
   },
   "outputs": [
    {
     "name": "stdout",
     "output_type": "stream",
     "text": [
      "for numerical variable age:\n",
      "\t the original range is [17, 98]\n",
      "\n",
      "for numerical variable age:\n",
      "\t the scaled range is [0.0, 1.0]\n",
      "\n",
      "for numerical variable duration:\n",
      "\t the original range is [0, 4918]\n",
      "\n",
      "for numerical variable duration:\n",
      "\t the scaled range is [0.0, 1.0]\n",
      "\n",
      "for numerical variable campaign:\n",
      "\t the original range is [1, 56]\n",
      "\n",
      "for numerical variable campaign:\n",
      "\t the scaled range is [0.0, 0.9999999999999999]\n",
      "\n",
      "for numerical variable pdays:\n",
      "\t the original range is [0, 999]\n",
      "\n",
      "for numerical variable pdays:\n",
      "\t the scaled range is [0.0, 1.0]\n",
      "\n",
      "for numerical variable previous:\n",
      "\t the original range is [0, 7]\n",
      "\n",
      "for numerical variable previous:\n",
      "\t the scaled range is [0.0, 1.0]\n",
      "\n",
      "for numerical variable emp.var.rate:\n",
      "\t the original range is [-3.4, 1.4]\n",
      "\n",
      "for numerical variable emp.var.rate:\n",
      "\t the scaled range is [-1.0, 1.0]\n",
      "\n",
      "for numerical variable cons.price.idx:\n",
      "\t the original range is [92.20100000000001, 94.76700000000001]\n",
      "\n",
      "for numerical variable cons.price.idx:\n",
      "\t the scaled range is [0.0, 1.0]\n",
      "\n",
      "for numerical variable cons.conf.idx:\n",
      "\t the original range is [-50.8, -26.9]\n",
      "\n",
      "for numerical variable cons.conf.idx:\n",
      "\t the scaled range is [-1.0, 0.0]\n",
      "\n",
      "for numerical variable euribor3m:\n",
      "\t the original range is [0.634, 5.045]\n",
      "\n",
      "for numerical variable euribor3m:\n",
      "\t the scaled range is [0.0, 1.0]\n",
      "\n",
      "for numerical variable nr.employed:\n",
      "\t the original range is [4963.6, 5228.1]\n",
      "\n",
      "for numerical variable nr.employed:\n",
      "\t the scaled range is [0.0, 1.0]\n",
      "\n"
     ]
    }
   ],
   "source": [
    "np.set_printoptions(precision=3)\n",
    "range_list = list(map(lambda x: {x: {'original range':[bank_numericals[x].min(), \n",
    "                                                       bank_numericals[x].max()],\n",
    "                       'scaled range': [scaled_bank_numericals[x].min(), \n",
    "                                        scaled_bank_numericals[x].max()]}}\n",
    "                                , numerical_cols))\n",
    "\n",
    "for i in range_list:\n",
    "    for key, value in i.items():\n",
    "        for r_type, r in value.items():\n",
    "            print('for numerical variable {}:\\n\\t the {} is {}\\n'\n",
    "                  .format(key,r_type, r))"
   ]
  },
  {
   "cell_type": "markdown",
   "metadata": {},
   "source": [
    "#### __Task 2__:\n",
    "\n",
    "Encode categorical features using one-hot representation scheme. For\n",
    "example, assuming that there is a ‘state’ feature with three categorical\n",
    "values, ’PA’, ‘NY’ and ‘NJ’. Create three new binary features, namely\n",
    "‘state_is_PA’, ‘state_is_NY’ and ‘state_is_NJ’ to replace ‘state’, where the\n",
    "feature values are either 0 or 1. For each new binary feature, count and report the\n",
    "number of value 1, e.g., “state_is_PA”: 15000, “state_is_NY”: 20000 and\n",
    "“state_is_NJ”: 10000."
   ]
  },
  {
   "cell_type": "code",
   "execution_count": 165,
   "metadata": {},
   "outputs": [],
   "source": [
    "categorical_cols = categorical_cols.drop(['contact', 'y'])"
   ]
  },
  {
   "cell_type": "code",
   "execution_count": 166,
   "metadata": {},
   "outputs": [],
   "source": [
    "def OneHot(data, var_list):\n",
    "    try:\n",
    "        one_hot_bank = pd.DataFrame() \n",
    "        for var in var_list:\n",
    "            one_hot = LabelBinarizer()\n",
    "            one_hot_res = one_hot.fit_transform(bank[var])\n",
    "            col = list(map(lambda x: '{}_is_'.format(var)+x, \n",
    "                           one_hot.classes_))\n",
    "            one_hot_bank = pd.concat([one_hot_bank, \n",
    "                                      pd.DataFrame(one_hot_res, columns=col)], \n",
    "                                      axis=1)\n",
    "        # labelbinarizer not working for 2 classes\n",
    "        telephone = np.array([0]*len(bank))\n",
    "        cellular = np.array([0]*len(bank))\n",
    "        telephone[bank.index[bank.contact == 'telephone']]=1\n",
    "        cellular[bank.index[bank.contact == 'cellular']]=1\n",
    "        contact = pd.DataFrame({'telephone': telephone,\n",
    "                     'cellular':cellular})\n",
    "        contact.columns = ['contact_is_telephone', 'contact_is_cellular']\n",
    "        one_hot_bank = pd.concat([one_hot_bank, contact], axis=1)\n",
    "        return one_hot_bank\n",
    "    except Exception as e:\n",
    "        print(e)"
   ]
  },
  {
   "cell_type": "code",
   "execution_count": 171,
   "metadata": {},
   "outputs": [
    {
     "data": {
      "text/html": [
       "<div>\n",
       "<style scoped>\n",
       "    .dataframe tbody tr th:only-of-type {\n",
       "        vertical-align: middle;\n",
       "    }\n",
       "\n",
       "    .dataframe tbody tr th {\n",
       "        vertical-align: top;\n",
       "    }\n",
       "\n",
       "    .dataframe thead th {\n",
       "        text-align: right;\n",
       "    }\n",
       "</style>\n",
       "<table border=\"1\" class=\"dataframe\">\n",
       "  <thead>\n",
       "    <tr style=\"text-align: right;\">\n",
       "      <th></th>\n",
       "      <th>job_is_admin.</th>\n",
       "      <th>job_is_blue-collar</th>\n",
       "      <th>job_is_entrepreneur</th>\n",
       "      <th>job_is_housemaid</th>\n",
       "      <th>job_is_management</th>\n",
       "      <th>job_is_retired</th>\n",
       "      <th>job_is_self-employed</th>\n",
       "      <th>job_is_services</th>\n",
       "      <th>job_is_student</th>\n",
       "      <th>job_is_technician</th>\n",
       "      <th>...</th>\n",
       "      <th>age</th>\n",
       "      <th>duration</th>\n",
       "      <th>campaign</th>\n",
       "      <th>pdays</th>\n",
       "      <th>previous</th>\n",
       "      <th>cons.price.idx</th>\n",
       "      <th>euribor3m</th>\n",
       "      <th>nr.employed</th>\n",
       "      <th>cons.conf.idx</th>\n",
       "      <th>emp.var.rate</th>\n",
       "    </tr>\n",
       "  </thead>\n",
       "  <tbody>\n",
       "    <tr>\n",
       "      <th>0</th>\n",
       "      <td>0</td>\n",
       "      <td>0</td>\n",
       "      <td>0</td>\n",
       "      <td>1</td>\n",
       "      <td>0</td>\n",
       "      <td>0</td>\n",
       "      <td>0</td>\n",
       "      <td>0</td>\n",
       "      <td>0</td>\n",
       "      <td>0</td>\n",
       "      <td>...</td>\n",
       "      <td>0.481481</td>\n",
       "      <td>0.053070</td>\n",
       "      <td>0.0</td>\n",
       "      <td>1.0</td>\n",
       "      <td>0.0</td>\n",
       "      <td>0.698753</td>\n",
       "      <td>0.957379</td>\n",
       "      <td>0.859735</td>\n",
       "      <td>-0.39749</td>\n",
       "      <td>0.875</td>\n",
       "    </tr>\n",
       "    <tr>\n",
       "      <th>1</th>\n",
       "      <td>0</td>\n",
       "      <td>0</td>\n",
       "      <td>0</td>\n",
       "      <td>0</td>\n",
       "      <td>0</td>\n",
       "      <td>0</td>\n",
       "      <td>0</td>\n",
       "      <td>1</td>\n",
       "      <td>0</td>\n",
       "      <td>0</td>\n",
       "      <td>...</td>\n",
       "      <td>0.493827</td>\n",
       "      <td>0.030297</td>\n",
       "      <td>0.0</td>\n",
       "      <td>1.0</td>\n",
       "      <td>0.0</td>\n",
       "      <td>0.698753</td>\n",
       "      <td>0.957379</td>\n",
       "      <td>0.859735</td>\n",
       "      <td>-0.39749</td>\n",
       "      <td>0.875</td>\n",
       "    </tr>\n",
       "    <tr>\n",
       "      <th>2</th>\n",
       "      <td>0</td>\n",
       "      <td>0</td>\n",
       "      <td>0</td>\n",
       "      <td>0</td>\n",
       "      <td>0</td>\n",
       "      <td>0</td>\n",
       "      <td>0</td>\n",
       "      <td>1</td>\n",
       "      <td>0</td>\n",
       "      <td>0</td>\n",
       "      <td>...</td>\n",
       "      <td>0.246914</td>\n",
       "      <td>0.045954</td>\n",
       "      <td>0.0</td>\n",
       "      <td>1.0</td>\n",
       "      <td>0.0</td>\n",
       "      <td>0.698753</td>\n",
       "      <td>0.957379</td>\n",
       "      <td>0.859735</td>\n",
       "      <td>-0.39749</td>\n",
       "      <td>0.875</td>\n",
       "    </tr>\n",
       "    <tr>\n",
       "      <th>3</th>\n",
       "      <td>1</td>\n",
       "      <td>0</td>\n",
       "      <td>0</td>\n",
       "      <td>0</td>\n",
       "      <td>0</td>\n",
       "      <td>0</td>\n",
       "      <td>0</td>\n",
       "      <td>0</td>\n",
       "      <td>0</td>\n",
       "      <td>0</td>\n",
       "      <td>...</td>\n",
       "      <td>0.283951</td>\n",
       "      <td>0.030704</td>\n",
       "      <td>0.0</td>\n",
       "      <td>1.0</td>\n",
       "      <td>0.0</td>\n",
       "      <td>0.698753</td>\n",
       "      <td>0.957379</td>\n",
       "      <td>0.859735</td>\n",
       "      <td>-0.39749</td>\n",
       "      <td>0.875</td>\n",
       "    </tr>\n",
       "    <tr>\n",
       "      <th>4</th>\n",
       "      <td>0</td>\n",
       "      <td>0</td>\n",
       "      <td>0</td>\n",
       "      <td>0</td>\n",
       "      <td>0</td>\n",
       "      <td>0</td>\n",
       "      <td>0</td>\n",
       "      <td>1</td>\n",
       "      <td>0</td>\n",
       "      <td>0</td>\n",
       "      <td>...</td>\n",
       "      <td>0.481481</td>\n",
       "      <td>0.062424</td>\n",
       "      <td>0.0</td>\n",
       "      <td>1.0</td>\n",
       "      <td>0.0</td>\n",
       "      <td>0.698753</td>\n",
       "      <td>0.957379</td>\n",
       "      <td>0.859735</td>\n",
       "      <td>-0.39749</td>\n",
       "      <td>0.875</td>\n",
       "    </tr>\n",
       "  </tbody>\n",
       "</table>\n",
       "<p>5 rows × 63 columns</p>\n",
       "</div>"
      ],
      "text/plain": [
       "   job_is_admin.  job_is_blue-collar  job_is_entrepreneur  job_is_housemaid  \\\n",
       "0              0                   0                    0                 1   \n",
       "1              0                   0                    0                 0   \n",
       "2              0                   0                    0                 0   \n",
       "3              1                   0                    0                 0   \n",
       "4              0                   0                    0                 0   \n",
       "\n",
       "   job_is_management  job_is_retired  job_is_self-employed  job_is_services  \\\n",
       "0                  0               0                     0                0   \n",
       "1                  0               0                     0                1   \n",
       "2                  0               0                     0                1   \n",
       "3                  0               0                     0                0   \n",
       "4                  0               0                     0                1   \n",
       "\n",
       "   job_is_student  job_is_technician      ...            age  duration  \\\n",
       "0               0                  0      ...       0.481481  0.053070   \n",
       "1               0                  0      ...       0.493827  0.030297   \n",
       "2               0                  0      ...       0.246914  0.045954   \n",
       "3               0                  0      ...       0.283951  0.030704   \n",
       "4               0                  0      ...       0.481481  0.062424   \n",
       "\n",
       "   campaign  pdays  previous  cons.price.idx  euribor3m  nr.employed  \\\n",
       "0       0.0    1.0       0.0        0.698753   0.957379     0.859735   \n",
       "1       0.0    1.0       0.0        0.698753   0.957379     0.859735   \n",
       "2       0.0    1.0       0.0        0.698753   0.957379     0.859735   \n",
       "3       0.0    1.0       0.0        0.698753   0.957379     0.859735   \n",
       "4       0.0    1.0       0.0        0.698753   0.957379     0.859735   \n",
       "\n",
       "   cons.conf.idx  emp.var.rate  \n",
       "0       -0.39749         0.875  \n",
       "1       -0.39749         0.875  \n",
       "2       -0.39749         0.875  \n",
       "3       -0.39749         0.875  \n",
       "4       -0.39749         0.875  \n",
       "\n",
       "[5 rows x 63 columns]"
      ]
     },
     "execution_count": 171,
     "metadata": {},
     "output_type": "execute_result"
    }
   ],
   "source": [
    "one_hot_bank = OneHot(bank, categorical_cols)\n",
    "preprocessed_bank = pd.concat([one_hot_bank, scaled_bank_numericals], axis=1)\n",
    "preprocessed_bank.to_csv('preprocessed_bank_marketing_data.csv')\n",
    "preprocessed_bank.head()"
   ]
  },
  {
   "cell_type": "code",
   "execution_count": 191,
   "metadata": {},
   "outputs": [
    {
     "name": "stdout",
     "output_type": "stream",
     "text": [
      "the number of value 1 in job_is_admin. = 10422\n",
      "the number of value 1 in job_is_blue-collar = 9254\n",
      "the number of value 1 in job_is_entrepreneur = 1456\n",
      "the number of value 1 in job_is_housemaid = 1060\n",
      "the number of value 1 in job_is_management = 2924\n",
      "the number of value 1 in job_is_retired = 1720\n",
      "the number of value 1 in job_is_self-employed = 1421\n",
      "the number of value 1 in job_is_services = 3969\n",
      "the number of value 1 in job_is_student = 875\n",
      "the number of value 1 in job_is_technician = 6743\n",
      "the number of value 1 in job_is_unemployed = 1014\n",
      "the number of value 1 in job_is_unknown = 330\n",
      "the number of value 1 in marital_is_divorced = 4612\n",
      "the number of value 1 in marital_is_married = 24928\n",
      "the number of value 1 in marital_is_single = 11568\n",
      "the number of value 1 in marital_is_unknown = 80\n",
      "the number of value 1 in education_is_basic.4y = 4176\n",
      "the number of value 1 in education_is_basic.6y = 2292\n",
      "the number of value 1 in education_is_basic.9y = 6045\n",
      "the number of value 1 in education_is_high.school = 9515\n",
      "the number of value 1 in education_is_illiterate = 18\n",
      "the number of value 1 in education_is_professional.course = 5243\n",
      "the number of value 1 in education_is_university.degree = 12168\n",
      "the number of value 1 in education_is_unknown = 1731\n",
      "the number of value 1 in default_is_no = 32588\n",
      "the number of value 1 in default_is_unknown = 8597\n",
      "the number of value 1 in default_is_yes = 3\n",
      "the number of value 1 in housing_is_no = 18622\n",
      "the number of value 1 in housing_is_unknown = 990\n",
      "the number of value 1 in housing_is_yes = 21576\n",
      "the number of value 1 in loan_is_no = 33950\n",
      "the number of value 1 in loan_is_unknown = 990\n",
      "the number of value 1 in loan_is_yes = 6248\n",
      "the number of value 1 in month_is_apr = 2632\n",
      "the number of value 1 in month_is_aug = 6178\n",
      "the number of value 1 in month_is_dec = 182\n",
      "the number of value 1 in month_is_jul = 7174\n",
      "the number of value 1 in month_is_jun = 5318\n",
      "the number of value 1 in month_is_mar = 546\n",
      "the number of value 1 in month_is_may = 13769\n",
      "the number of value 1 in month_is_nov = 4101\n",
      "the number of value 1 in month_is_oct = 718\n",
      "the number of value 1 in month_is_sep = 570\n",
      "the number of value 1 in day_of_week_is_fri = 7827\n",
      "the number of value 1 in day_of_week_is_mon = 8514\n",
      "the number of value 1 in day_of_week_is_thu = 8623\n",
      "the number of value 1 in day_of_week_is_tue = 8090\n",
      "the number of value 1 in day_of_week_is_wed = 8134\n",
      "the number of value 1 in poutcome_is_failure = 4252\n",
      "the number of value 1 in poutcome_is_nonexistent = 35563\n",
      "the number of value 1 in poutcome_is_success = 1373\n",
      "the number of value 1 in contact_is_telephone = 15044\n",
      "the number of value 1 in contact_is_cellular = 26144\n"
     ]
    }
   ],
   "source": [
    "for col in one_hot_bank.columns:\n",
    "    print('the number of value 1 in {} = {}'\n",
    "          .format(col, len(one_hot_bank[one_hot_bank[col]==1])))"
   ]
  }
 ],
 "metadata": {
  "kernelspec": {
   "display_name": "Python 3",
   "language": "python",
   "name": "python3"
  },
  "language_info": {
   "codemirror_mode": {
    "name": "ipython",
    "version": 3
   },
   "file_extension": ".py",
   "mimetype": "text/x-python",
   "name": "python",
   "nbconvert_exporter": "python",
   "pygments_lexer": "ipython3",
   "version": "3.6.6"
  },
  "latex_envs": {
   "LaTeX_envs_menu_present": true,
   "autoclose": false,
   "autocomplete": true,
   "bibliofile": "biblio.bib",
   "cite_by": "apalike",
   "current_citInitial": 1,
   "eqLabelWithNumbers": true,
   "eqNumInitial": 1,
   "hotkeys": {
    "equation": "Ctrl-E",
    "itemize": "Ctrl-I"
   },
   "labels_anchors": false,
   "latex_user_defs": false,
   "report_style_numbering": false,
   "user_envs_cfg": false
  },
  "varInspector": {
   "cols": {
    "lenName": 16,
    "lenType": 16,
    "lenVar": 40
   },
   "kernels_config": {
    "python": {
     "delete_cmd_postfix": "",
     "delete_cmd_prefix": "del ",
     "library": "var_list.py",
     "varRefreshCmd": "print(var_dic_list())"
    },
    "r": {
     "delete_cmd_postfix": ") ",
     "delete_cmd_prefix": "rm(",
     "library": "var_list.r",
     "varRefreshCmd": "cat(var_dic_list()) "
    }
   },
   "types_to_exclude": [
    "module",
    "function",
    "builtin_function_or_method",
    "instance",
    "_Feature"
   ],
   "window_display": false
  }
 },
 "nbformat": 4,
 "nbformat_minor": 2
}
