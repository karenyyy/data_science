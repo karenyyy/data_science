{
 "cells": [
  {
   "cell_type": "markdown",
   "metadata": {
    "heading_collapsed": true
   },
   "source": [
    "### Q1"
   ]
  },
  {
   "cell_type": "markdown",
   "metadata": {
    "hidden": true
   },
   "source": [
    "1.(20%) Classify the following attributes as binary, discrete, or continuous. Also\n",
    "classify them as qualitative (nominal or ordinal) or quantitative (interval or\n",
    "ratio). Some cases may have more than one interpretation, so briefly indicate\n",
    "your reasoning if you think there may be some ambiguity.\n",
    "\n",
    "(a) Military rank\n",
    "\n",
    "(b) Temperature as measured by a thermometer\n",
    "\n",
    "(c) Temperature as measured by people’s judgments, e.g., cold, warm, hot, etc.\n",
    "\n",
    "(d) Distance from Nittany Lion Statue\n",
    "\n",
    "(e) Course number, e.g., CMPSC 497"
   ]
  },
  {
   "cell_type": "markdown",
   "metadata": {
    "hidden": true
   },
   "source": [
    "- (a) Military rank\n",
    "    - Discrete, Qualitative, Ordinal\n",
    "    \n",
    "- (b) Temperature as measured by a thermometer\n",
    "    - Continuous, Quantitative, Interval\n",
    "    \n",
    "- (c) Temperature as measured by people’s judgments, e.g., cold, warm, hot, etc.\n",
    "    - Discrete, Qualitative, Nominal\n",
    "    \n",
    "- (d) Distance from Nittany Lion Statue\n",
    "    - Continuous, Quantitative, Interval\n",
    "    \n",
    "- (e) Course number, e.g., CMPSC 497\n",
    "    - Discrete, Qualitative, Nominal"
   ]
  },
  {
   "cell_type": "markdown",
   "metadata": {},
   "source": [
    "### Q2"
   ]
  },
  {
   "cell_type": "markdown",
   "metadata": {},
   "source": [
    "2. (20%) Animal scientist measure elephants using following attributes: breed (e.g.,\n",
    "Africa, Asian, etc), weight, height, trunk length, and ear area.\n",
    "\n",
    "(a) Based on breed only, what sort of similarity measure would you use to compare\n",
    "or group these elephants?\n",
    "\n",
    "(b) Based on weight, height, and trunk length, what sort of similarity measure would\n",
    "you use to compare or group these elephants?\n",
    "Justify your answer and explain any special circumstances."
   ]
  },
  {
   "cell_type": "markdown",
   "metadata": {},
   "source": [
    "- (a) First quantify the categorical variable using __one-hot encoding__, with each label represented as a binary array, then apply __the Jaccard coefficient__ to compare the elephants based on their breed.\n",
    "\n",
    "\n",
    "- (b) Since weight, height, and trunk length are all numerical, thus no encoding needed. First vectorize record of each elephant with these 3 attributes (dimension=3), then apply __the Cosine Similarity__ between each pair to compare the elephants."
   ]
  },
  {
   "cell_type": "markdown",
   "metadata": {},
   "source": [
    "### Q3"
   ]
  },
  {
   "cell_type": "markdown",
   "metadata": {},
   "source": [
    "3.(20%) Given a set of $m$ objects that is divided into $k$ groups, where the $i$-th group is\n",
    "of size $m_i (i=1...k)$. You would like to obtain a sample of size $n < m$. You ask your\n",
    "friends Alice and Bob for help, and the following are their suggestions\n",
    "\n",
    "Alice: You can randomly select $n \\times \\frac{m_i}{m}$ from each group with replacement.\n",
    "\n",
    "Bob: You can randomly select $n$ elements from the data set with replacement, without\n",
    "regard for the group to which an object belongs\n",
    "\n",
    "\n",
    "Please compare Alice and Bob’s method, and explain which one is better?\n",
    "\n"
   ]
  },
  {
   "cell_type": "markdown",
   "metadata": {},
   "source": [
    "Alice's method is better. (Alice: stratified random sampling; Bob: simple random sampling)\n",
    "\n",
    "- Stratified random sampling accurately reflects the population being studied because researchers are stratifying the entire population before applying random sampling methods. In short, it ensures each subgroup within the population receives proper representation within the sample. As a result, stratified random sampling provides better coverage of the population since the researchers have control over the subgroups to ensure all of them are represented in the sampling. With simple random sampling, there isn't any guarantee that any particular subgroup or type of person gets chosen.\n",
    "\n",
    "- However, the statistical distribution of each one of the k group should be similar, otherwise, might cause misrepresentation or inaccurate reflection of the population. \n",
    "\n"
   ]
  },
  {
   "cell_type": "markdown",
   "metadata": {},
   "source": [
    "### Q4"
   ]
  },
  {
   "cell_type": "markdown",
   "metadata": {},
   "source": [
    "4.(20%) For binary data, the $L1$ distance corresponds to the Hamming distance; that is,\n",
    "the number of bits that are different between two binary vectors. The Jaccard\n",
    "similarity is a measure of the similarity between two binary vectors. Compute the\n",
    "Hamming distance and the Jaccard similarity between the following two binary\n",
    "vectors.\n",
    "\n",
    "$$x = 1010101110$$\n",
    "\n",
    "$$y = 1011100111$$\n"
   ]
  },
  {
   "cell_type": "markdown",
   "metadata": {},
   "source": [
    "$$M_{01} = 2, \\text{(the number of attributes where x was 0 and y was 1)} $$\n",
    "$$M_{10} = 1, \\text{(the number of attributes where x was 1 and y was 0)}$$\n",
    "$$M_{00} = 2, \\text{(the number of attributes where x was 0 and y was 0)}$$\n",
    "$$M_{11} = 5, \\text{(the number of attributes where x was 1 and y was 1)}$$\n",
    "\n",
    "\n",
    "$$Hamming = 3, \\text{there are 3 binary numbers different between the x and y} $$\n",
    "$$Jaccard = \\frac{M_{11}}{M_{01} + M_{10} + M_{11}} = \\frac{5}{2 + 1 + 5} = 0.625$$"
   ]
  },
  {
   "cell_type": "markdown",
   "metadata": {},
   "source": [
    "### Q5"
   ]
  },
  {
   "cell_type": "markdown",
   "metadata": {},
   "source": [
    "5.(20%) Which approach, Jaccard or Hamming distance, is more similar to the Simple\n",
    "Matching Coefficient, and which approach is more similar to the cosine measure?\n",
    "Please explain. (Note: The Hamming measure is a distance, while the other three\n",
    "measures are similarities, but don’t let this confuse you.)"
   ]
  },
  {
   "cell_type": "markdown",
   "metadata": {},
   "source": [
    "- the Jaccard coefficient is similar to the Cosine Similarity\n",
    "\n",
    "    - The Jaccard coefficient is a similar method of comparison to the Cosine Similarity due to how both methods compare one type of attribute distributed among all data.  The Jaccard approach looks at the two data sets and finds the incident where both values are equal to 1.  So the resulting value reflects how many 1 to 1 matches occur in comparison to the total number of data points.  This is also known as the frequency that 1 to 1 match, which is what the Cosine Similarity looks for, how frequent a certain attribute occurs.\n",
    "    \n",
    "- the Hamming distance is similar to the Simple Matching Coefficient\n",
    "    \n",
    "    - The Hamming distance is similar to the Simple Matching Coefficient in which both methods look at the whole data and looks for when data points are similar and dissimilar one to one.  The Hamming distance gives the result of how many attributes where different.  The Simple Matching Coefficient gives the result of the ratio of how many attributes were the same over the entirety of the sample set.  The resulting information reveals the same information, one reveals how many were different, the other reveals how many were same, and therefore one reveals the inverse information of the other.\n",
    "\n"
   ]
  }
 ],
 "metadata": {
  "author": "me",
  "kernelspec": {
   "display_name": "Python 3",
   "language": "python",
   "name": "python3"
  },
  "language_info": {
   "codemirror_mode": {
    "name": "ipython",
    "version": 3
   },
   "file_extension": ".py",
   "mimetype": "text/x-python",
   "name": "python",
   "nbconvert_exporter": "python",
   "pygments_lexer": "ipython3",
   "version": "3.6.5"
  },
  "latex_envs": {
   "LaTeX_envs_menu_present": true,
   "autoclose": false,
   "autocomplete": true,
   "bibliofile": "biblio.bib",
   "cite_by": "apalike",
   "current_citInitial": 1,
   "eqLabelWithNumbers": true,
   "eqNumInitial": 1,
   "hotkeys": {
    "equation": "Ctrl-E",
    "itemize": "Ctrl-I"
   },
   "labels_anchors": false,
   "latex_user_defs": false,
   "report_style_numbering": false,
   "user_envs_cfg": false
  },
  "varInspector": {
   "cols": {
    "lenName": 16,
    "lenType": 16,
    "lenVar": 40
   },
   "kernels_config": {
    "python": {
     "delete_cmd_postfix": "",
     "delete_cmd_prefix": "del ",
     "library": "var_list.py",
     "varRefreshCmd": "print(var_dic_list())"
    },
    "r": {
     "delete_cmd_postfix": ") ",
     "delete_cmd_prefix": "rm(",
     "library": "var_list.r",
     "varRefreshCmd": "cat(var_dic_list()) "
    }
   },
   "types_to_exclude": [
    "module",
    "function",
    "builtin_function_or_method",
    "instance",
    "_Feature"
   ],
   "window_display": false
  }
 },
 "nbformat": 4,
 "nbformat_minor": 2
}
