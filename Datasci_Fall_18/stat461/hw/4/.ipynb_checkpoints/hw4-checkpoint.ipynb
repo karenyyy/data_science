{
 "cells": [
  {
   "cell_type": "markdown",
   "metadata": {},
   "source": [
    "## Assignment 4"
   ]
  },
  {
   "cell_type": "markdown",
   "metadata": {},
   "source": [
    "### Q1"
   ]
  },
  {
   "cell_type": "markdown",
   "metadata": {},
   "source": [
    "Consider a completely randomized design with observations on three treatments coded 1,2,3. For the\n",
    "one-way ANOVA model, determine which of the following are estimable. For those that are estimable,\n",
    "write out the estimable function as $\\sum^3_i=b_i(\\mu + \\tau_i)$ and clearly state $b_1, b_2, b_3$. Finally, for those that\n",
    "are estimable, state the least squares estimator."
   ]
  },
  {
   "cell_type": "markdown",
   "metadata": {},
   "source": [
    "- a) $\\tau_1+ \\tau_2 - 2\\tau_3$\n",
    "\n",
    "Suppose it is estimable, then it should be represented as \n",
    "\n",
    "$$\\tau_1+ \\tau_2 - 2\\tau_3 = b_1 (\\mu + \\tau_1) + b_2 (\\mu + \\tau_2) + b_3 (\\mu + \\tau_3)$$\n",
    "\n",
    "$$= \\mu (b_1+b_2+b_3) + b_1 \\tau_1 + b_2 \\tau_2 + b_3 \\tau_3$$\n",
    "\n",
    "\\begin{align}\n",
    "\\left\\{\\begin{matrix} (b_1+b_2+b_3) =0\n",
    "\\\\ b_1 = 1\n",
    "\\\\ b_2 = 1\n",
    "\\\\ b_3 = -2\n",
    "\\end{matrix}\\right.\n",
    "\\end{align}\n",
    "\n",
    "Therefore, $\\tau_1+ \\tau_2 - 2\\tau_3 = 1 \\cdot (\\mu + \\tau_1) + 1 \\cdot (\\mu + \\tau_2) + (-2) \\cdot (\\mu + \\tau_3)$, it is estimable.\n",
    "\n",
    "\n",
    "----\n",
    "\n",
    "- b) $\\mu + \\tau_3$\n",
    "\n",
    "\n",
    "Suppose it is estimable, then it should be represented as \n",
    "\n",
    "$$\\mu + \\tau_3 = b_1 (\\mu + \\tau_1) + b_2 (\\mu + \\tau_2) + b_3 (\\mu + \\tau_3)$$\n",
    "\n",
    "$$= \\mu (b_1+b_2+b_3) + b_1 \\tau_1 + b_2 \\tau_2 + b_3 \\tau_3$$\n",
    "\n",
    "\\begin{align}\n",
    "\\left\\{\\begin{matrix} (b_1+b_2+b_3) =1\n",
    "\\\\ b_1 = 0\n",
    "\\\\ b_2 = 0\n",
    "\\\\ b_3 = 1\n",
    "\\end{matrix}\\right.\n",
    "\\end{align}\n",
    "\n",
    "Therefore, $\\mu + \\tau_3 = 0 \\cdot (\\mu + \\tau_1) + 0 \\cdot (\\mu + \\tau_2) + 1 \\cdot (\\mu + \\tau_3)$ , it is estimable.\n",
    "\n",
    "----\n",
    "\n",
    "- c) $\\tau_1-\\tau_2-\\tau_3$\n",
    "\n",
    "\n",
    "Suppose it is estimable, then it should be represented as \n",
    "\n",
    "$$\\tau_1-\\tau_2-\\tau_3 = b_1 (\\mu + \\tau_1) + b_2 (\\mu + \\tau_2) + b_3 (\\mu + \\tau_3)$$\n",
    "\n",
    "$$= \\mu (b_1+b_2+b_3) + b_1 \\tau_1 + b_2 \\tau_2 + b_3 \\tau_3$$\n",
    "\n",
    "\\begin{align}\n",
    "\\left\\{\\begin{matrix} (b_1+b_2+b_3) =0\n",
    "\\\\ b_1 = 1\n",
    "\\\\ b_2 = -1\n",
    "\\\\ b_3 = -1\n",
    "\\end{matrix}\\right.\n",
    "\\end{align}\n",
    "\n",
    "And here, if $b_1 = 1, b_2 = -1, b_3 = -1$, then $b_1+b_2+b_3 = -1 \\neq 0$, it contradicts with the $ (b_1+b_2+b_3) =0$\n",
    "\n",
    "Therefore, $\\tau_1-\\tau_2-\\tau_3$ is  not estimable.\n",
    "\n",
    "\n",
    "----\n",
    "\n",
    "- d) $\\mu + (\\tau_1 + \\tau_2 + \\tau_3) /3$\n",
    "\n",
    "Suppose it is estimable, then it should be represented as \n",
    "\n",
    "$$\\mu + (\\tau_1 + \\tau_2 + \\tau_3) /3 = b_1 (\\mu + \\tau_1) + b_2 (\\mu + \\tau_2) + b_3 (\\mu + \\tau_3)$$\n",
    "\n",
    "$$= \\mu (b_1+b_2+b_3) + b_1 \\tau_1 + b_2 \\tau_2 + b_3 \\tau_3$$\n",
    "\n",
    "\\begin{align}\n",
    "\\left\\{\\begin{matrix} (b_1+b_2+b_3) =1\n",
    "\\\\ b_1 = \\frac{1}{3}\n",
    "\\\\ b_2 = \\frac{1}{3}\n",
    "\\\\ b_3 = \\frac{1}{3}\n",
    "\\end{matrix}\\right.\n",
    "\\end{align}\n",
    "\n",
    "Therefore, $\\mu + (\\tau_1 + \\tau_2 + \\tau_3) /3 =  \\frac{1}{3} \\cdot (\\mu + \\tau_1) +  \\frac{1}{3} \\cdot (\\mu + \\tau_2) +  \\frac{1}{3} \\cdot (\\mu + \\tau_3)$ , it is estimable."
   ]
  },
  {
   "cell_type": "markdown",
   "metadata": {},
   "source": [
    "### Q2"
   ]
  },
  {
   "cell_type": "markdown",
   "metadata": {},
   "source": [
    "Recall the soap experiment from Homework 1. Look back at Homework 1 for an explanation of the\n",
    "experiment. The data are the weight lost over 24 hours by different types of soap.\n",
    "\n",
    "![](table.png)\n",
    "\n"
   ]
  },
  {
   "cell_type": "markdown",
   "metadata": {},
   "source": [
    "- (a) Write out the one-way ANOVA model for this experiment."
   ]
  },
  {
   "cell_type": "code",
   "execution_count": 11,
   "metadata": {},
   "outputs": [
    {
     "data": {
      "text/html": [
       "<table>\n",
       "<thead><tr><th scope=col>soap_type</th><th scope=col>weight_loss</th></tr></thead>\n",
       "<tbody>\n",
       "\t<tr><td>Regular     </td><td>-0.30       </td></tr>\n",
       "\t<tr><td>Regular     </td><td>-0.10       </td></tr>\n",
       "\t<tr><td>Regular     </td><td>-0.14       </td></tr>\n",
       "\t<tr><td>Regular     </td><td> 0.40       </td></tr>\n",
       "\t<tr><td>Deodorant   </td><td> 2.63       </td></tr>\n",
       "\t<tr><td>Deodorant   </td><td> 2.61       </td></tr>\n",
       "\t<tr><td>Deodorant   </td><td> 2.41       </td></tr>\n",
       "\t<tr><td>Deodorant   </td><td> 3.15       </td></tr>\n",
       "\t<tr><td>Moisturizing</td><td> 1.86       </td></tr>\n",
       "\t<tr><td>Moisturizing</td><td> 2.03       </td></tr>\n",
       "\t<tr><td>Moisturizing</td><td> 2.26       </td></tr>\n",
       "\t<tr><td>Moisturizing</td><td> 1.82       </td></tr>\n",
       "</tbody>\n",
       "</table>\n"
      ],
      "text/latex": [
       "\\begin{tabular}{r|ll}\n",
       " soap\\_type & weight\\_loss\\\\\n",
       "\\hline\n",
       "\t Regular      & -0.30       \\\\\n",
       "\t Regular      & -0.10       \\\\\n",
       "\t Regular      & -0.14       \\\\\n",
       "\t Regular      &  0.40       \\\\\n",
       "\t Deodorant    &  2.63       \\\\\n",
       "\t Deodorant    &  2.61       \\\\\n",
       "\t Deodorant    &  2.41       \\\\\n",
       "\t Deodorant    &  3.15       \\\\\n",
       "\t Moisturizing &  1.86       \\\\\n",
       "\t Moisturizing &  2.03       \\\\\n",
       "\t Moisturizing &  2.26       \\\\\n",
       "\t Moisturizing &  1.82       \\\\\n",
       "\\end{tabular}\n"
      ],
      "text/markdown": [
       "\n",
       "soap_type | weight_loss | \n",
       "|---|---|---|---|---|---|---|---|---|---|---|---|\n",
       "| Regular      | -0.30        | \n",
       "| Regular      | -0.10        | \n",
       "| Regular      | -0.14        | \n",
       "| Regular      |  0.40        | \n",
       "| Deodorant    |  2.63        | \n",
       "| Deodorant    |  2.61        | \n",
       "| Deodorant    |  2.41        | \n",
       "| Deodorant    |  3.15        | \n",
       "| Moisturizing |  1.86        | \n",
       "| Moisturizing |  2.03        | \n",
       "| Moisturizing |  2.26        | \n",
       "| Moisturizing |  1.82        | \n",
       "\n",
       "\n"
      ],
      "text/plain": [
       "   soap_type    weight_loss\n",
       "1  Regular      -0.30      \n",
       "2  Regular      -0.10      \n",
       "3  Regular      -0.14      \n",
       "4  Regular       0.40      \n",
       "5  Deodorant     2.63      \n",
       "6  Deodorant     2.61      \n",
       "7  Deodorant     2.41      \n",
       "8  Deodorant     3.15      \n",
       "9  Moisturizing  1.86      \n",
       "10 Moisturizing  2.03      \n",
       "11 Moisturizing  2.26      \n",
       "12 Moisturizing  1.82      "
      ]
     },
     "metadata": {},
     "output_type": "display_data"
    }
   ],
   "source": [
    "library(lsmeans)\n",
    "types = c('Regular', 'Deodorant', 'Moisturizing')\n",
    "soap_type = c(rep(types[1], 4),\n",
    "              rep(types[2], 4),\n",
    "              rep(types[3], 4))\n",
    "weight_loss = c(-0.30, -0.10, -0.14, 0.40, 2.63, 2.61, 2.41, 3.15, 1.86, 2.03, 2.26, 1.82)\n",
    "soap_data = data.frame(soap_type, weight_loss)\n",
    "soap_data"
   ]
  },
  {
   "cell_type": "code",
   "execution_count": 12,
   "metadata": {},
   "outputs": [
    {
     "data": {
      "text/plain": [
       "Call:\n",
       "   aov(formula = weight_loss ~ soap_type)\n",
       "\n",
       "Terms:\n",
       "                soap_type Residuals\n",
       "Sum of Squares  16.122050  0.694575\n",
       "Deg. of Freedom         2         9\n",
       "\n",
       "Residual standard error: 0.2778039\n",
       "Estimated effects may be unbalanced"
      ]
     },
     "metadata": {},
     "output_type": "display_data"
    }
   ],
   "source": [
    "aov.soap=aov(weight_loss~soap_type)\n",
    "aov.soap"
   ]
  },
  {
   "cell_type": "markdown",
   "metadata": {},
   "source": [
    "- (b) By hand or calculator (without using R), obtain the LS estimate for the mean weight lost by a\n",
    "cube of deodorant soap. Show all calculations\n",
    "\n",
    "\n"
   ]
  },
  {
   "cell_type": "markdown",
   "metadata": {},
   "source": [
    "Since the LS estimate of an estimable function is obtained by replacing each model\n",
    "treatment mean $(\\mu + \\tau_i)$ with it's corresponding treatment sample mean $Y_i$\n",
    "\n",
    "Thus the LS estimate for each type of soap:\n",
    "\n",
    "- Regular : $\\frac{-0.30-0.10-0.14+0.40}{4} = -0.035$\n",
    "\n",
    "- Deodorant: $\\frac{2.63+2.61+2.41+3.15}{4}= 2.700$\n",
    "\n",
    "- Moisturizing: $\\frac{1.86+2.03+2.26+1.82}{4} = 1.9925$"
   ]
  },
  {
   "cell_type": "markdown",
   "metadata": {},
   "source": [
    "- (c) Consider estimating the difference in weight loss between regular soap and any other type of soap.\n",
    "That is, consider estimating $\\tau_{ regular} - (\\tau_{deodorant} + \\tau_{ moisturizing})/2$. Show that this is estimable,\n",
    "and find the LS estimate by hand or calculator. Show all calculations."
   ]
  },
  {
   "cell_type": "markdown",
   "metadata": {},
   "source": [
    "Suppose it is estimable, then it should be represented as \n",
    "\n",
    "$$\\tau_{ regular} - (\\tau_{deodorant} + \\tau_{ moisturizing})/2 = b_{regular} (\\mu + \\tau_{regular}) + b_{deodorant} (\\mu + \\tau_{deodorant}) + b_{ moisturizing} (\\mu + \\tau_{ moisturizing})$$\n",
    "\n",
    "\n",
    "$$= \\mu (b_{ regular}+b_{deodorant}+b_{moisturizing}) + b_{ regular} \\tau_{ regular} + b_{deodorant} \\tau_{deodorant} + b_{ moisturizing} \\tau_{ moisturizing}$$\n",
    "\n",
    "\\begin{align}\n",
    "\\left\\{\\begin{matrix} (b_{ regular}+b_{deodorant}+b_{moisturizing}) =0\n",
    "\\\\ b_{ regular} = 1\n",
    "\\\\ b_{deodorant} = - \\frac{1}{2}\n",
    "\\\\ b_{ moisturizing} = -\\frac{1}{2}\n",
    "\\end{matrix}\\right.\n",
    "\\end{align}\n",
    "\n",
    "Therefore, $\\tau_{ regular} - (\\tau_{deodorant} + \\tau_{ moisturizing})/2 =  1 \\cdot (\\mu + \\tau_{regular}) + (- \\frac{1}{2}) \\cdot (\\mu + \\tau_{deodorant}) + (- \\frac{1}{2}) \\cdot (\\mu + \\tau_{ moisturizing})$ , it is estimable.\n",
    "\n",
    "\n",
    "----\n",
    "\n",
    "\n",
    "The LS estimate of $\\tau_{ regular} - (\\tau_{deodorant} + \\tau_{ moisturizing})/2 $ :\n",
    "\n",
    "$$1 \\cdot \\hat \\tau_{ regular} - \\frac{1}{2} \\cdot \\hat \\tau_{deodorant} - \\frac{1}{2} \\hat \\tau_{ moisturizing}  = 1 \\cdot \\bar Y_{regular \\cdot} - \\frac{1}{2} \\bar Y_{deodorant \\cdot} - \\frac{1}{2} \\cdot \\bar Y_{moisturizing \\cdot}$$\n",
    "\n",
    "where as calculated in part (b): \n",
    "\n",
    "$$\\bar Y_{regular \\cdot} = -0.035$$\n",
    "\n",
    "$$\\bar Y_{deodorant \\cdot} = 2.700$$\n",
    "\n",
    "$$\\bar Y_{moisturizing \\cdot} = 1.9925$$\n",
    "\n",
    "\n",
    "So\n",
    "\n",
    "$$1 \\cdot \\bar Y_{regular \\cdot} - \\frac{1}{2} \\bar Y_{deodorant \\cdot} - \\frac{1}{2} \\cdot \\bar Y_{moisturizing \\cdot} = 1 \\cdot (-0.035) - \\frac{1}{2} (2.700) - \\frac{1}{2} \\cdot (1.9925) = -2.38125$$\n",
    "\n",
    "\n",
    "\n"
   ]
  },
  {
   "cell_type": "markdown",
   "metadata": {},
   "source": [
    "- (d) Now use R to obtain the LS estimates in parts (b) and (c). Include your R code and the relevant\n",
    "output in your homework."
   ]
  },
  {
   "cell_type": "code",
   "execution_count": 17,
   "metadata": {},
   "outputs": [
    {
     "data": {
      "text/plain": [
       " soap_type     lsmean        SE df  lower.CL upper.CL\n",
       " Deodorant     2.7000 0.1389019  9  2.385782 3.014218\n",
       " Moisturizing  1.9925 0.1389019  9  1.678282 2.306718\n",
       " Regular      -0.0350 0.1389019  9 -0.349218 0.279218\n",
       "\n",
       "Confidence level used: 0.95 "
      ]
     },
     "metadata": {},
     "output_type": "display_data"
    }
   ],
   "source": [
    "lsm.soap = lsmeans(aov.soap,\"soap_type\")\n",
    "lsm.soap"
   ]
  },
  {
   "cell_type": "code",
   "execution_count": 22,
   "metadata": {},
   "outputs": [
    {
     "data": {
      "text/plain": [
       " contrast                                   estimate        SE df t.ratio\n",
       " regular.minus.(deodorant + moisturizing)/2 -2.38125 0.1701194  9 -13.998\n",
       " p.value\n",
       "  <.0001\n"
      ]
     },
     "metadata": {},
     "output_type": "display_data"
    }
   ],
   "source": [
    "contrast(lsm.soap,list(\"regular.minus.(deodorant + moisturizing)/2\"=c(-0.5,-0.5, 1)))"
   ]
  },
  {
   "cell_type": "markdown",
   "metadata": {},
   "source": [
    "### Q3"
   ]
  },
  {
   "cell_type": "markdown",
   "metadata": {},
   "source": [
    "Pedestrian light experiment (Larry Lesher, 1985) This experiment questions whether pushing a\n",
    "certain pedestrian light button had an effect on the wait time before the pedestrian light showed “walk.”\n",
    "The treatment factor of interest was the number of pushes of the button, and 32 observations were\n",
    "taken with a mix of 0, 1, 2, and 3 pushes of the button. The waiting times for the “walk” sign are\n",
    "shown in the following table, with $r0 = 7, r1 = r2 = 10, r3 = 5$ (where the levels of the treatment\n",
    "factor are coded as $0, 1, 2, 3$ for simplicity).\n",
    "\n",
    "![](table2.png)\n",
    "\n"
   ]
  },
  {
   "cell_type": "code",
   "execution_count": 54,
   "metadata": {},
   "outputs": [
    {
     "data": {
      "text/html": [
       "<table>\n",
       "<thead><tr><th></th><th scope=col>button_pushes_type</th><th scope=col>waiting_time</th></tr></thead>\n",
       "<tbody>\n",
       "\t<tr><th scope=row>14</th><td>1    </td><td>37.95</td></tr>\n",
       "\t<tr><th scope=row>11</th><td>1    </td><td>38.25</td></tr>\n",
       "\t<tr><th scope=row>25</th><td>2    </td><td>38.18</td></tr>\n",
       "\t<tr><th scope=row>27</th><td>2    </td><td>38.06</td></tr>\n",
       "\t<tr><th scope=row>23</th><td>2    </td><td>38.34</td></tr>\n",
       "\t<tr><th scope=row>2</th><td>0    </td><td>38.20</td></tr>\n",
       "\t<tr><th scope=row>10</th><td>1    </td><td>38.08</td></tr>\n",
       "\t<tr><th scope=row>17</th><td>1    </td><td>38.21</td></tr>\n",
       "\t<tr><th scope=row>20</th><td>2    </td><td>38.16</td></tr>\n",
       "\t<tr><th scope=row>13</th><td>1    </td><td>38.03</td></tr>\n",
       "</tbody>\n",
       "</table>\n"
      ],
      "text/latex": [
       "\\begin{tabular}{r|ll}\n",
       "  & button\\_pushes\\_type & waiting\\_time\\\\\n",
       "\\hline\n",
       "\t14 & 1     & 37.95\\\\\n",
       "\t11 & 1     & 38.25\\\\\n",
       "\t25 & 2     & 38.18\\\\\n",
       "\t27 & 2     & 38.06\\\\\n",
       "\t23 & 2     & 38.34\\\\\n",
       "\t2 & 0     & 38.20\\\\\n",
       "\t10 & 1     & 38.08\\\\\n",
       "\t17 & 1     & 38.21\\\\\n",
       "\t20 & 2     & 38.16\\\\\n",
       "\t13 & 1     & 38.03\\\\\n",
       "\\end{tabular}\n"
      ],
      "text/markdown": [
       "\n",
       "| <!--/--> | button_pushes_type | waiting_time | \n",
       "|---|---|---|---|---|---|---|---|---|---|\n",
       "| 14 | 1     | 37.95 | \n",
       "| 11 | 1     | 38.25 | \n",
       "| 25 | 2     | 38.18 | \n",
       "| 27 | 2     | 38.06 | \n",
       "| 23 | 2     | 38.34 | \n",
       "| 2 | 0     | 38.20 | \n",
       "| 10 | 1     | 38.08 | \n",
       "| 17 | 1     | 38.21 | \n",
       "| 20 | 2     | 38.16 | \n",
       "| 13 | 1     | 38.03 | \n",
       "\n",
       "\n"
      ],
      "text/plain": [
       "   button_pushes_type waiting_time\n",
       "14 1                  37.95       \n",
       "11 1                  38.25       \n",
       "25 2                  38.18       \n",
       "27 2                  38.06       \n",
       "23 2                  38.34       \n",
       "2  0                  38.20       \n",
       "10 1                  38.08       \n",
       "17 1                  38.21       \n",
       "20 2                  38.16       \n",
       "13 1                  38.03       "
      ]
     },
     "metadata": {},
     "output_type": "display_data"
    }
   ],
   "source": [
    "r = c(7, 10, 10, 5)\n",
    "types = c(0, 1, 2, 3)\n",
    "button_pushes_type = as.factor(c(rep(types[1], r[1]),\n",
    "                        rep(types[2], r[2]),\n",
    "                        rep(types[3], r[3]),\n",
    "                        rep(types[4], r[4])))\n",
    "waiting_time = c(38.14, 38.20, 38.31, 38.14, 38.29, 38.17, 38.20, \n",
    "                38.28, 38.17, 38.08, 38.25, 38.18, 38.03, 37.95, 38.26, 38.30, 38.21,\n",
    "                38.17, 38.13, 38.16, 38.30, 38.34, 38.34, 38.17, 38.18, 38.09, 38.06,\n",
    "                38.14, 38.30, 38.21, 38.04, 38.37)\n",
    "pedestrian = data.frame(button_pushes_type, waiting_time)\n",
    "pedestrian[sample(nrow(pedestrian), 10), ]"
   ]
  },
  {
   "cell_type": "markdown",
   "metadata": {},
   "source": [
    "- (a) Plot the waiting times against the number of pushes of the button. What does the plot show?"
   ]
  },
  {
   "cell_type": "code",
   "execution_count": 55,
   "metadata": {},
   "outputs": [
    {
     "data": {},
     "metadata": {},
     "output_type": "display_data"
    },
    {
     "data": {
      "image/png": "[encoded data removed]",
      "text/plain": [
       "plot without title"
      ]
     },
     "metadata": {},
     "output_type": "display_data"
    }
   ],
   "source": [
    "library(ggplot2)\n",
    "ggplot(pedestrian, aes(x=button_pushes_type, y=waiting_time, color=button_pushes_type)) +\n",
    "            geom_boxplot() +\n",
    "            ylab('waiting time') +\n",
    "            ggtitle('Boxplots of pedestrain waiting times') +\n",
    "            theme(plot.title = element_text(hjust = 0.5)) +\n",
    "            ylim(min(pedestrian$waiting_time)-0.2, max(pedestrian$waiting_time)+0.2)"
   ]
  },
  {
   "cell_type": "markdown",
   "metadata": {},
   "source": [
    "- the mean of $0, 1, 2, 3$ button pushes are quite similar to each other, stable at around 38.2, except the mean for $2$ pushes being slightly smaller \n",
    "- the shortest waiting time falls in the group where $pushes = 1$, the longest waiting time occurs when $pushes = 3$\n",
    "- the boxplot of these 3 button pushes share significant resemblance \n"
   ]
  },
  {
   "cell_type": "markdown",
   "metadata": {},
   "source": [
    "- (b) Write out the one-way ANOVA model for this experiment."
   ]
  },
  {
   "cell_type": "code",
   "execution_count": 56,
   "metadata": {},
   "outputs": [
    {
     "data": {
      "text/plain": [
       "Call:\n",
       "   aov(formula = waiting_time ~ button_pushes_type)\n",
       "\n",
       "Terms:\n",
       "                button_pushes_type  Residuals\n",
       "Sum of Squares          0.00804714 0.30595286\n",
       "Deg. of Freedom                  3         28\n",
       "\n",
       "Residual standard error: 0.1045318\n",
       "Estimated effects may be unbalanced"
      ]
     },
     "metadata": {},
     "output_type": "display_data"
    }
   ],
   "source": [
    "aov.pedestrian=aov(waiting_time~button_pushes_type)\n",
    "aov.pedestrian"
   ]
  },
  {
   "cell_type": "markdown",
   "metadata": {},
   "source": [
    "- (c) Use R to estimate the mean waiting time for each number of pushes."
   ]
  },
  {
   "cell_type": "code",
   "execution_count": 61,
   "metadata": {},
   "outputs": [
    {
     "data": {
      "text/plain": [
       " button_pushes_type   lsmean         SE df lower.CL upper.CL\n",
       " 0                  38.20714 0.03950929 28 38.12621 38.28807\n",
       " 1                  38.17100 0.03305584 28 38.10329 38.23871\n",
       " 2                  38.19400 0.03305584 28 38.12629 38.26171\n",
       " 3                  38.21200 0.04674802 28 38.11624 38.30776\n",
       "\n",
       "Confidence level used: 0.95 "
      ]
     },
     "metadata": {},
     "output_type": "display_data"
    }
   ],
   "source": [
    "lsm.pedestrian = lsmeans(aov.pedestrian, 'button_pushes_type')\n",
    "lsm.pedestrian"
   ]
  },
  {
   "cell_type": "markdown",
   "metadata": {},
   "source": [
    "- (d) Show that the contrast $\\tau_1 - \\tau_0$ is estimable, and use R to find it's LS estimate. This contrast\n",
    "compares the effect of no pushes of the button with the effect of pushing the button once."
   ]
  },
  {
   "cell_type": "markdown",
   "metadata": {},
   "source": [
    "Suppose it is estimable, then it should be represented as \n",
    "\n",
    "$$\\tau_1- \\tau_0 = b_0 (\\mu + \\tau_0) + b_1 (\\mu + \\tau_1) + b_2 (\\mu + \\tau_2) + b_3 (\\mu + \\tau_3)$$\n",
    "\n",
    "$$= \\mu (b_0+b_1+b_2+b_3) +  b_0 \\tau_0 + b_1 \\tau_1 + b_2 \\tau_2 + b_3 \\tau_3$$\n",
    "\n",
    "\\begin{align}\n",
    "\\left\\{\\begin{matrix} (b_0 + b_1+b_2+b_3) =0\n",
    "\\\\ b_0 = -1\n",
    "\\\\ b_1 = 1\n",
    "\\\\ b_2 = 0\n",
    "\\\\ b_3 = 0\n",
    "\\end{matrix}\\right.\n",
    "\\end{align}\n",
    "\n",
    "Therefore, $\\tau_1- \\tau_2 = (-1) \\cdot (\\mu + \\tau_0) + 1 \\cdot (\\mu + \\tau_1) + 0 \\cdot (\\mu + \\tau_2) + 0 \\cdot (\\mu + \\tau_3)$, it is estimable.\n",
    "\n",
    "\n"
   ]
  },
  {
   "cell_type": "code",
   "execution_count": 63,
   "metadata": {},
   "outputs": [
    {
     "data": {
      "text/plain": [
       " contrast     estimate         SE df t.ratio p.value\n",
       " 1.minus.0 -0.03614286 0.05151381 28  -0.702  0.4887\n"
      ]
     },
     "metadata": {},
     "output_type": "display_data"
    }
   ],
   "source": [
    "contrast(lsm.pedestrian,list(\"1.minus.0\"=c(-1, 1, 0, 0)))"
   ]
  },
  {
   "cell_type": "markdown",
   "metadata": {},
   "source": [
    "- (e) Show that the contrast $(\\tau_1 + \\tau_2 + \\tau_3)/3 − \\tau_0$ is estimable, and use R to find it's LS estimate. This\n",
    "contrast compares the effect of no pushes of the button with the effect of pushing the button at\n",
    "least once."
   ]
  },
  {
   "cell_type": "markdown",
   "metadata": {},
   "source": [
    "Suppose it is estimable, then it should be represented as \n",
    "\n",
    "$$(\\tau_1 + \\tau_2 + \\tau_3)/3 - \\tau_0 = b_0 (\\mu + \\tau_0) + b_1 (\\mu + \\tau_1) + b_2 (\\mu + \\tau_2) + b_3 (\\mu + \\tau_3)$$\n",
    "\n",
    "$$= \\mu (b_0+b_1+b_2+b_3) +  b_0 \\tau_0 + b_1 \\tau_1 + b_2 \\tau_2 + b_3 \\tau_3$$\n",
    "\n",
    "\\begin{align}\n",
    "\\left\\{\\begin{matrix} (b_0 + b_1+b_2+b_3) =0\n",
    "\\\\ b_0 = -1\n",
    "\\\\ b_1 = \\frac{1}{3}\n",
    "\\\\ b_2 = \\frac{1}{3}\n",
    "\\\\ b_3 = \\frac{1}{3}\n",
    "\\end{matrix}\\right.\n",
    "\\end{align}\n",
    "\n",
    "Therefore, $(\\tau_1 + \\tau_2 + \\tau_3)/3 - \\tau_0 = (-1) \\cdot (\\mu + \\tau_0) + \\frac{1}{3} \\cdot (\\mu + \\tau_1) + \\frac{1}{3} \\cdot (\\mu + \\tau_2) + \\frac{1}{3} \\cdot (\\mu + \\tau_3)$, it is estimable."
   ]
  },
  {
   "cell_type": "code",
   "execution_count": 64,
   "metadata": {},
   "outputs": [
    {
     "data": {
      "text/html": [
       "0.333333333333333"
      ],
      "text/latex": [
       "0.333333333333333"
      ],
      "text/markdown": [
       "0.333333333333333"
      ],
      "text/plain": [
       "[1] 0.3333333"
      ]
     },
     "metadata": {},
     "output_type": "display_data"
    }
   ],
   "source": [
    "1/3"
   ]
  },
  {
   "cell_type": "code",
   "execution_count": 66,
   "metadata": {},
   "outputs": [
    {
     "data": {
      "text/plain": [
       " contrast             estimate         SE df t.ratio p.value\n",
       " (1+2+3)/3.minus.0 -0.01480952 0.04523962 28  -0.327  0.7458\n"
      ]
     },
     "metadata": {},
     "output_type": "display_data"
    }
   ],
   "source": [
    "contrast(lsm.pedestrian,list(\"(1+2+3)/3.minus.0\"=c(-1, 1/3, 1/3, 1/3)))"
   ]
  }
 ],
 "metadata": {
  "kernelspec": {
   "display_name": "R",
   "language": "R",
   "name": "ir"
  },
  "language_info": {
   "codemirror_mode": "r",
   "file_extension": ".r",
   "mimetype": "text/x-r-source",
   "name": "R",
   "pygments_lexer": "r",
   "version": "3.5.1"
  },
  "latex_envs": {
   "LaTeX_envs_menu_present": true,
   "autoclose": false,
   "autocomplete": true,
   "bibliofile": "biblio.bib",
   "cite_by": "apalike",
   "current_citInitial": 1,
   "eqLabelWithNumbers": true,
   "eqNumInitial": 1,
   "hotkeys": {
    "equation": "Ctrl-E",
    "itemize": "Ctrl-I"
   },
   "labels_anchors": false,
   "latex_user_defs": false,
   "report_style_numbering": false,
   "user_envs_cfg": false
  },
  "varInspector": {
   "cols": {
    "lenName": 16,
    "lenType": 16,
    "lenVar": 40
   },
   "kernels_config": {
    "python": {
     "delete_cmd_postfix": "",
     "delete_cmd_prefix": "del ",
     "library": "var_list.py",
     "varRefreshCmd": "print(var_dic_list())"
    },
    "r": {
     "delete_cmd_postfix": ") ",
     "delete_cmd_prefix": "rm(",
     "library": "var_list.r",
     "varRefreshCmd": "cat(var_dic_list()) "
    }
   },
   "types_to_exclude": [
    "module",
    "function",
    "builtin_function_or_method",
    "instance",
    "_Feature"
   ],
   "window_display": false
  }
 },
 "nbformat": 4,
 "nbformat_minor": 2
}
