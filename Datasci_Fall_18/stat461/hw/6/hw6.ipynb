{
 "cells": [
  {
   "cell_type": "markdown",
   "metadata": {},
   "source": [
    "### Q1"
   ]
  },
  {
   "cell_type": "markdown",
   "metadata": {},
   "source": [
    "__Pedestrian light experiment (Larry Lesher, 1985)__ Recall the pedestrian light experiment from\n",
    "Homework 4. This experiment questions whether pushing a certain pedestrian light button had an\n",
    "effect on the wait time before the pedestrian light showed walk. The treatment factor of interest\n",
    "was the number of pushes of the button, and 32 observations were taken with a mix of 0, 1, 2, and\n",
    "3 pushes of the button. The waiting times for the walk sign are shown in the following table, with\n",
    "$r_0 = 7, r_1 = r_2 = 10, r_3 = 5$ (where the levels of the treatment factor are coded as $0, 1, 2, 3$ for\n",
    "simplicity).\n",
    "\n",
    "![](1.png)\n",
    "\n",
    "\n",
    "Answer the question: “Does pushing the button make the light change sooner?”. Clearly state the null and\n",
    "alternative hypotheses, the model used, and all assumptions in the model. Obtain a test statistic (show all\n",
    "code and R output), and interpret the results of the test."
   ]
  },
  {
   "cell_type": "code",
   "execution_count": 1,
   "metadata": {},
   "outputs": [
    {
     "data": {
      "text/html": [
       "<table>\n",
       "<thead><tr><th></th><th scope=col>button_pushes_type</th><th scope=col>waiting_time</th></tr></thead>\n",
       "<tbody>\n",
       "\t<tr><th scope=row>23</th><td>2    </td><td>38.34</td></tr>\n",
       "\t<tr><th scope=row>6</th><td>0    </td><td>38.17</td></tr>\n",
       "\t<tr><th scope=row>16</th><td>1    </td><td>38.30</td></tr>\n",
       "\t<tr><th scope=row>19</th><td>2    </td><td>38.13</td></tr>\n",
       "\t<tr><th scope=row>10</th><td>1    </td><td>38.08</td></tr>\n",
       "\t<tr><th scope=row>27</th><td>2    </td><td>38.06</td></tr>\n",
       "\t<tr><th scope=row>24</th><td>2    </td><td>38.17</td></tr>\n",
       "\t<tr><th scope=row>17</th><td>1    </td><td>38.21</td></tr>\n",
       "\t<tr><th scope=row>11</th><td>1    </td><td>38.25</td></tr>\n",
       "\t<tr><th scope=row>1</th><td>0    </td><td>38.14</td></tr>\n",
       "</tbody>\n",
       "</table>\n"
      ],
      "text/latex": [
       "\\begin{tabular}{r|ll}\n",
       "  & button\\_pushes\\_type & waiting\\_time\\\\\n",
       "\\hline\n",
       "\t23 & 2     & 38.34\\\\\n",
       "\t6 & 0     & 38.17\\\\\n",
       "\t16 & 1     & 38.30\\\\\n",
       "\t19 & 2     & 38.13\\\\\n",
       "\t10 & 1     & 38.08\\\\\n",
       "\t27 & 2     & 38.06\\\\\n",
       "\t24 & 2     & 38.17\\\\\n",
       "\t17 & 1     & 38.21\\\\\n",
       "\t11 & 1     & 38.25\\\\\n",
       "\t1 & 0     & 38.14\\\\\n",
       "\\end{tabular}\n"
      ],
      "text/markdown": [
       "\n",
       "| <!--/--> | button_pushes_type | waiting_time | \n",
       "|---|---|---|---|---|---|---|---|---|---|\n",
       "| 23 | 2     | 38.34 | \n",
       "| 6 | 0     | 38.17 | \n",
       "| 16 | 1     | 38.30 | \n",
       "| 19 | 2     | 38.13 | \n",
       "| 10 | 1     | 38.08 | \n",
       "| 27 | 2     | 38.06 | \n",
       "| 24 | 2     | 38.17 | \n",
       "| 17 | 1     | 38.21 | \n",
       "| 11 | 1     | 38.25 | \n",
       "| 1 | 0     | 38.14 | \n",
       "\n",
       "\n"
      ],
      "text/plain": [
       "   button_pushes_type waiting_time\n",
       "23 2                  38.34       \n",
       "6  0                  38.17       \n",
       "16 1                  38.30       \n",
       "19 2                  38.13       \n",
       "10 1                  38.08       \n",
       "27 2                  38.06       \n",
       "24 2                  38.17       \n",
       "17 1                  38.21       \n",
       "11 1                  38.25       \n",
       "1  0                  38.14       "
      ]
     },
     "metadata": {},
     "output_type": "display_data"
    }
   ],
   "source": [
    "r = c(7, 10, 10, 5)\n",
    "types = c(0, 1, 2, 3)\n",
    "button_pushes_type = as.factor(c(rep(types[1], r[1]),\n",
    "                        rep(types[2], r[2]),\n",
    "                        rep(types[3], r[3]),\n",
    "                        rep(types[4], r[4])))\n",
    "waiting_time = c(38.14, 38.20, 38.31, 38.14, 38.29, 38.17, 38.20, \n",
    "                38.28, 38.17, 38.08, 38.25, 38.18, 38.03, 37.95, 38.26, 38.30, 38.21,\n",
    "                38.17, 38.13, 38.16, 38.30, 38.34, 38.34, 38.17, 38.18, 38.09, 38.06,\n",
    "                38.14, 38.30, 38.21, 38.04, 38.37)\n",
    "pedestrian = data.frame(button_pushes_type, waiting_time)\n",
    "pedestrian[sample(nrow(pedestrian), 10), ]"
   ]
  },
  {
   "cell_type": "markdown",
   "metadata": {},
   "source": [
    "The first hypothesis tested in the experiment would be that if there is any difference in the waiting time when pushing different buttons. So if the waiting time of n times of button pushing turns out to be the same, that it would indicate that fact that pushing buttons does not actually shorten the waiting time, thus not making the light changing faster. So denote the waiting time as $\\tau$,  this is expressed as the null hypothesis:\n",
    "\n",
    "$H_0: \\tau_0 = \\tau_1 = \\tau_2 = \\tau_3$\n",
    "\n",
    "alternative hypothesis:\n",
    "\n",
    "$H_1: $ at least there's one among the 4 $\\tau_i$ that's different from the others\n",
    "\n"
   ]
  },
  {
   "cell_type": "code",
   "execution_count": 5,
   "metadata": {},
   "outputs": [
    {
     "data": {
      "text/html": [
       "<table>\n",
       "<thead><tr><th scope=col>contrast</th><th scope=col>estimate</th><th scope=col>SE</th><th scope=col>df</th><th scope=col>lower.CL</th><th scope=col>upper.CL</th><th scope=col>t.ratio</th><th scope=col>p.value</th></tr></thead>\n",
       "<tbody>\n",
       "\t<tr><td>0 - 1       </td><td> 0.036142857</td><td>0.05151381  </td><td>28          </td><td>-0.1045059  </td><td>0.1767916   </td><td> 0.70161489 </td><td>0.8955744   </td></tr>\n",
       "\t<tr><td>0 - 2       </td><td> 0.013142857</td><td>0.05151381  </td><td>28          </td><td>-0.1275059  </td><td>0.1537916   </td><td> 0.25513269 </td><td>0.9940396   </td></tr>\n",
       "\t<tr><td>0 - 3       </td><td>-0.004857143</td><td>0.06120753  </td><td>28          </td><td>-0.1719728  </td><td>0.1622585   </td><td>-0.07935532 </td><td>0.9998162   </td></tr>\n",
       "\t<tr><td>1 - 2       </td><td>-0.023000000</td><td>0.04674802  </td><td>28          </td><td>-0.1506367  </td><td>0.1046367   </td><td>-0.49199943 </td><td>0.9602303   </td></tr>\n",
       "\t<tr><td>1 - 3       </td><td>-0.041000000</td><td>0.05725440  </td><td>28          </td><td>-0.1973224  </td><td>0.1153224   </td><td>-0.71610217 </td><td>0.8898585   </td></tr>\n",
       "\t<tr><td>2 - 3       </td><td>-0.018000000</td><td>0.05725440  </td><td>28          </td><td>-0.1743224  </td><td>0.1383224   </td><td>-0.31438632 </td><td>0.9890012   </td></tr>\n",
       "</tbody>\n",
       "</table>\n"
      ],
      "text/latex": [
       "\\begin{tabular}{r|llllllll}\n",
       " contrast & estimate & SE & df & lower.CL & upper.CL & t.ratio & p.value\\\\\n",
       "\\hline\n",
       "\t 0 - 1        &  0.036142857 & 0.05151381   & 28           & -0.1045059   & 0.1767916    &  0.70161489  & 0.8955744   \\\\\n",
       "\t 0 - 2        &  0.013142857 & 0.05151381   & 28           & -0.1275059   & 0.1537916    &  0.25513269  & 0.9940396   \\\\\n",
       "\t 0 - 3        & -0.004857143 & 0.06120753   & 28           & -0.1719728   & 0.1622585    & -0.07935532  & 0.9998162   \\\\\n",
       "\t 1 - 2        & -0.023000000 & 0.04674802   & 28           & -0.1506367   & 0.1046367    & -0.49199943  & 0.9602303   \\\\\n",
       "\t 1 - 3        & -0.041000000 & 0.05725440   & 28           & -0.1973224   & 0.1153224    & -0.71610217  & 0.8898585   \\\\\n",
       "\t 2 - 3        & -0.018000000 & 0.05725440   & 28           & -0.1743224   & 0.1383224    & -0.31438632  & 0.9890012   \\\\\n",
       "\\end{tabular}\n"
      ],
      "text/markdown": [
       "\n",
       "contrast | estimate | SE | df | lower.CL | upper.CL | t.ratio | p.value | \n",
       "|---|---|---|---|---|---|\n",
       "| 0 - 1        |  0.036142857 | 0.05151381   | 28           | -0.1045059   | 0.1767916    |  0.70161489  | 0.8955744    | \n",
       "| 0 - 2        |  0.013142857 | 0.05151381   | 28           | -0.1275059   | 0.1537916    |  0.25513269  | 0.9940396    | \n",
       "| 0 - 3        | -0.004857143 | 0.06120753   | 28           | -0.1719728   | 0.1622585    | -0.07935532  | 0.9998162    | \n",
       "| 1 - 2        | -0.023000000 | 0.04674802   | 28           | -0.1506367   | 0.1046367    | -0.49199943  | 0.9602303    | \n",
       "| 1 - 3        | -0.041000000 | 0.05725440   | 28           | -0.1973224   | 0.1153224    | -0.71610217  | 0.8898585    | \n",
       "| 2 - 3        | -0.018000000 | 0.05725440   | 28           | -0.1743224   | 0.1383224    | -0.31438632  | 0.9890012    | \n",
       "\n",
       "\n"
      ],
      "text/plain": [
       "  contrast estimate     SE         df lower.CL   upper.CL  t.ratio    \n",
       "1 0 - 1     0.036142857 0.05151381 28 -0.1045059 0.1767916  0.70161489\n",
       "2 0 - 2     0.013142857 0.05151381 28 -0.1275059 0.1537916  0.25513269\n",
       "3 0 - 3    -0.004857143 0.06120753 28 -0.1719728 0.1622585 -0.07935532\n",
       "4 1 - 2    -0.023000000 0.04674802 28 -0.1506367 0.1046367 -0.49199943\n",
       "5 1 - 3    -0.041000000 0.05725440 28 -0.1973224 0.1153224 -0.71610217\n",
       "6 2 - 3    -0.018000000 0.05725440 28 -0.1743224 0.1383224 -0.31438632\n",
       "  p.value  \n",
       "1 0.8955744\n",
       "2 0.9940396\n",
       "3 0.9998162\n",
       "4 0.9602303\n",
       "5 0.8898585\n",
       "6 0.9890012"
      ]
     },
     "metadata": {},
     "output_type": "display_data"
    }
   ],
   "source": [
    "library(lsmeans)\n",
    "aov.pedestrian = aov(waiting_time~button_pushes_type, data = pedestrian)\n",
    "lsm.pedestrian=lsmeans(aov.pedestrian, ~ button_pushes_type)\n",
    "summary(contrast(lsm.pedestrian, method=\"pairwise\", adjust=\"tukey\"),\n",
    "                infer=c(T,T), level=0.95, side=\"two-sided\")"
   ]
  },
  {
   "cell_type": "markdown",
   "metadata": {},
   "source": [
    "#### Alternatively"
   ]
  },
  {
   "cell_type": "code",
   "execution_count": 6,
   "metadata": {},
   "outputs": [
    {
     "data": {
      "text/plain": [
       "  Tukey multiple comparisons of means\n",
       "    95% family-wise confidence level\n",
       "\n",
       "Fit: aov(formula = waiting_time ~ button_pushes_type, data = pedestrian)\n",
       "\n",
       "$button_pushes_type\n",
       "            diff        lwr       upr     p adj\n",
       "1-0 -0.036142857 -0.1767916 0.1045059 0.8955744\n",
       "2-0 -0.013142857 -0.1537916 0.1275059 0.9940396\n",
       "3-0  0.004857143 -0.1622585 0.1719728 0.9998162\n",
       "2-1  0.023000000 -0.1046367 0.1506367 0.9602303\n",
       "3-1  0.041000000 -0.1153224 0.1973224 0.8898585\n",
       "3-2  0.018000000 -0.1383224 0.1743224 0.9890012\n"
      ]
     },
     "metadata": {},
     "output_type": "display_data"
    }
   ],
   "source": [
    "TukeyHSD(aov.pedestrian, \"button_pushes_type\")"
   ]
  },
  {
   "cell_type": "code",
   "execution_count": 7,
   "metadata": {},
   "outputs": [
    {
     "data": {
      "image/png": "[encoded data removed]",
      "text/plain": [
       "Plot with title “95% family-wise confidence level\n",
       "”"
      ]
     },
     "metadata": {},
     "output_type": "display_data"
    }
   ],
   "source": [
    "plot(TukeyHSD(aov.pedestrian))"
   ]
  },
  {
   "cell_type": "markdown",
   "metadata": {},
   "source": [
    "Here we can see that the p values of all the pairwise difference are all $\\gg 0.05$, thus it does not fall into the rejection region. So with the significance level of 95%, we could reach the conclusion that the waiting time of pushing any buttons, no matter how many pushes of the button, is not significantly different from each other, indicating that we have no confidence to state that pushing the button will make the light change sooner."
   ]
  },
  {
   "cell_type": "markdown",
   "metadata": {},
   "source": [
    "### Q2"
   ]
  },
  {
   "cell_type": "markdown",
   "metadata": {},
   "source": [
    "__Hot Dogs__ A study was conducted to compare the calories and sodium in hot dogs made with different\n",
    "types of meat."
   ]
  },
  {
   "cell_type": "markdown",
   "metadata": {},
   "source": [
    "#### (a) "
   ]
  },
  {
   "cell_type": "markdown",
   "metadata": {},
   "source": [
    "Read the data into R and plot calories as a response variable with the type of meat on the x-axis. Your\n",
    "plot could be either a boxplot or a plot with one dot for each hot dog."
   ]
  },
  {
   "cell_type": "code",
   "execution_count": 2,
   "metadata": {
    "scrolled": true
   },
   "outputs": [
    {
     "data": {
      "text/html": [
       "<table>\n",
       "<thead><tr><th></th><th scope=col>protein_type</th><th scope=col>calories</th><th scope=col>sodium</th></tr></thead>\n",
       "<tbody>\n",
       "\t<tr><th scope=row>52</th><td>Chicken</td><td>152    </td><td>588    </td></tr>\n",
       "\t<tr><th scope=row>43</th><td>Chicken</td><td>102    </td><td>542    </td></tr>\n",
       "\t<tr><th scope=row>21</th><td>Pork   </td><td>173    </td><td>458    </td></tr>\n",
       "\t<tr><th scope=row>13</th><td>Beef   </td><td>141    </td><td>386    </td></tr>\n",
       "\t<tr><th scope=row>50</th><td>Chicken</td><td> 86    </td><td>358    </td></tr>\n",
       "\t<tr><th scope=row>39</th><td>Chicken</td><td>132    </td><td>375    </td></tr>\n",
       "\t<tr><th scope=row>6</th><td>Beef   </td><td>190    </td><td>587    </td></tr>\n",
       "\t<tr><th scope=row>5</th><td>Beef   </td><td>184    </td><td>482    </td></tr>\n",
       "\t<tr><th scope=row>35</th><td>Pork   </td><td>135    </td><td>405    </td></tr>\n",
       "\t<tr><th scope=row>22</th><td>Pork   </td><td>191    </td><td>506    </td></tr>\n",
       "</tbody>\n",
       "</table>\n"
      ],
      "text/latex": [
       "\\begin{tabular}{r|lll}\n",
       "  & protein\\_type & calories & sodium\\\\\n",
       "\\hline\n",
       "\t52 & Chicken & 152     & 588    \\\\\n",
       "\t43 & Chicken & 102     & 542    \\\\\n",
       "\t21 & Pork    & 173     & 458    \\\\\n",
       "\t13 & Beef    & 141     & 386    \\\\\n",
       "\t50 & Chicken &  86     & 358    \\\\\n",
       "\t39 & Chicken & 132     & 375    \\\\\n",
       "\t6 & Beef    & 190     & 587    \\\\\n",
       "\t5 & Beef    & 184     & 482    \\\\\n",
       "\t35 & Pork    & 135     & 405    \\\\\n",
       "\t22 & Pork    & 191     & 506    \\\\\n",
       "\\end{tabular}\n"
      ],
      "text/markdown": [
       "\n",
       "| <!--/--> | protein_type | calories | sodium | \n",
       "|---|---|---|---|---|---|---|---|---|---|\n",
       "| 52 | Chicken | 152     | 588     | \n",
       "| 43 | Chicken | 102     | 542     | \n",
       "| 21 | Pork    | 173     | 458     | \n",
       "| 13 | Beef    | 141     | 386     | \n",
       "| 50 | Chicken |  86     | 358     | \n",
       "| 39 | Chicken | 132     | 375     | \n",
       "| 6 | Beef    | 190     | 587     | \n",
       "| 5 | Beef    | 184     | 482     | \n",
       "| 35 | Pork    | 135     | 405     | \n",
       "| 22 | Pork    | 191     | 506     | \n",
       "\n",
       "\n"
      ],
      "text/plain": [
       "   protein_type calories sodium\n",
       "52 Chicken      152      588   \n",
       "43 Chicken      102      542   \n",
       "21 Pork         173      458   \n",
       "13 Beef         141      386   \n",
       "50 Chicken       86      358   \n",
       "39 Chicken      132      375   \n",
       "6  Beef         190      587   \n",
       "5  Beef         184      482   \n",
       "35 Pork         135      405   \n",
       "22 Pork         191      506   "
      ]
     },
     "metadata": {},
     "output_type": "display_data"
    }
   ],
   "source": [
    "r = c(20, 17, 17)\n",
    "types = c('Beef', 'Pork', 'Chicken')\n",
    "protein_type = as.factor(c(rep(types[1], r[1]),\n",
    "                        rep(types[2], r[2]),\n",
    "                        rep(types[3], r[3])))\n",
    "calories = c(186, 181, 176, 149, 184, 190, 158, 139, 175, 148, 152, 111, 141, 153, 190, 157, 131, 149, 135, 132,\n",
    "            173, 191, 182, 190, 172, 147, 146, 139, 175, 136, 179, 153, 107, 195, 135, 140, 138,\n",
    "            129, 132, 102, 106, 94, 102, 87, 99, 107, 113, 135, 142, 86, 143, 152, 146, 144)\n",
    "sodium = c(495, 477, 425, 322, 482, 587, 370, 322, 479, 375, 330, 300, 386, 401, 645, 440, 317, 319, 298, 253,\n",
    "           458, 506, 473, 545, 496, 360, 387, 386, 507, 393, 405, 372, 144, 511, 405, 428, 339,\n",
    "           430, 375, 396, 383, 387, 542, 359, 357, 528, 513, 426, 513, 358, 581, 588, 522, 545)\n",
    "hot_dog = data.frame(protein_type, calories, sodium)\n",
    "hot_dog[sample(nrow(hot_dog), 10), ]"
   ]
  },
  {
   "cell_type": "code",
   "execution_count": 15,
   "metadata": {},
   "outputs": [
    {
     "data": {},
     "metadata": {},
     "output_type": "display_data"
    },
    {
     "data": {
      "image/png": "[encoded data removed]",
      "text/plain": [
       "plot without title"
      ]
     },
     "metadata": {},
     "output_type": "display_data"
    }
   ],
   "source": [
    "library(ggplot2)\n",
    "ggplot(hot_dog, aes(x=protein_type, y=calories, color=protein_type)) +\n",
    "            geom_boxplot() +\n",
    "            ylab('calories') +\n",
    "            ggtitle('Boxplots of calories of different protein types') +\n",
    "            theme(plot.title = element_text(hjust = 0.5)) +\n",
    "            ylim(min(hot_dog$calories)-0.05, max(hot_dog$calories)+0.05)"
   ]
  },
  {
   "cell_type": "markdown",
   "metadata": {},
   "source": [
    "#### (b)"
   ]
  },
  {
   "cell_type": "markdown",
   "metadata": {},
   "source": [
    " Answer the following question: “Are there differences in the average calories of hot dogs made with\n",
    "different kinds of meat?”. To answer this question, write down a statistical model (clearly state the\n",
    "response variable, treatment levels, number of replicates, . . . ), express the above question as a testable\n",
    "null hypothesis, and report the p-value of the test statistic under the null hypothesis. Your answer\n",
    "should include all R code used, and the important R output."
   ]
  },
  {
   "cell_type": "code",
   "execution_count": null,
   "metadata": {},
   "outputs": [],
   "source": [
    "\\begin{tabular}{lrrr}\n",
    "\\toprule\n",
    "{} &  Beef &  Pork &  Chicken \\\\\n",
    "\\midrule\n",
    "0  &   186 &   173 &      129 \\\\\n",
    "1  &   181 &   191 &      132 \\\\\n",
    "2  &   176 &   182 &      102 \\\\\n",
    "3  &   149 &   190 &      106 \\\\\n",
    "4  &   184 &   172 &       94 \\\\\n",
    "5  &   190 &   147 &      102 \\\\\n",
    "6  &   158 &   146 &       87 \\\\\n",
    "7  &   139 &   139 &       99 \\\\\n",
    "8  &   175 &   175 &      107 \\\\\n",
    "9  &   148 &   136 &      113 \\\\\n",
    "10 &   152 &   179 &      135 \\\\\n",
    "11 &   111 &   153 &      142 \\\\\n",
    "12 &   141 &   107 &       86 \\\\\n",
    "13 &   153 &   195 &      143 \\\\\n",
    "14 &   190 &   135 &      152 \\\\\n",
    "15 &   157 &   140 &      146 \\\\\n",
    "16 &   131 &   138 &      144 \\\\\n",
    "17 &   149 &      &         \\\\\n",
    "18 &   135 &      &         \\\\\n",
    "19 &   132 &      &         \\\\\n",
    "\\bottomrule\n",
    "\\end{tabular}"
   ]
  },
  {
   "cell_type": "markdown",
   "metadata": {},
   "source": [
    "Model:\n",
    "\n",
    "- Treatment levels: \n",
    "    - Beef\n",
    "    - Pork\n",
    "    - Chicken\n",
    "- Response variable:\n",
    "    - calories\n",
    "- number of replicates\n",
    "    - Beef: 20\n",
    "    - Pork: 17\n",
    "    - Chicken: 17\n",
    "    "
   ]
  },
  {
   "cell_type": "code",
   "execution_count": 14,
   "metadata": {},
   "outputs": [
    {
     "data": {
      "text/plain": [
       "\n",
       "\n",
       "|             | Df|   Sum Sq|  Mean Sq|  F value|  Pr(>F)|\n",
       "|:------------|--:|--------:|--------:|--------:|-------:|\n",
       "|protein_type |  2| 17692.20| 8846.098| 16.07399| 3.9e-06|\n",
       "|Residuals    | 51| 28067.14|  550.336|       NA|      NA|"
      ]
     },
     "metadata": {},
     "output_type": "display_data"
    }
   ],
   "source": [
    "library(knitr)\n",
    "library(lsmeans)\n",
    "aov.hotdog = aov(calories~protein_type, data = hot_dog)\n",
    "kable(anova(aov.hotdog), format='markdown')"
   ]
  },
  {
   "cell_type": "markdown",
   "metadata": {},
   "source": [
    "Denote calories as $c$,\n",
    "\n",
    "- Null hypothesis:\n",
    "\n",
    "$H_0: c_{beef} = c_{pork} = c_{chicken}$\n",
    "\n",
    "- Alternative hypothesis:\n",
    "\n",
    "$H_1: $ among the three protein types, at least the calories of one is different from the others"
   ]
  },
  {
   "cell_type": "code",
   "execution_count": 15,
   "metadata": {},
   "outputs": [
    {
     "data": {
      "text/html": [
       "<table>\n",
       "<thead><tr><th scope=col>contrast</th><th scope=col>estimate</th><th scope=col>SE</th><th scope=col>df</th><th scope=col>lower.CL</th><th scope=col>upper.CL</th><th scope=col>t.ratio</th><th scope=col>p.value</th></tr></thead>\n",
       "<tbody>\n",
       "\t<tr><td>Beef - Chicken</td><td> 38.085294    </td><td>7.738831      </td><td>51            </td><td> 19.40391     </td><td> 56.76667     </td><td> 4.9213237    </td><td>2.767694e-05  </td></tr>\n",
       "\t<tr><td>Beef - Pork   </td><td> -1.855882    </td><td>7.738831      </td><td>51            </td><td>-20.53726     </td><td> 16.82550     </td><td>-0.2398143    </td><td>9.688129e-01  </td></tr>\n",
       "\t<tr><td>Chicken - Pork</td><td>-39.941176    </td><td>8.046454      </td><td>51            </td><td>-59.36515     </td><td>-20.51720     </td><td>-4.9638236    </td><td>2.390087e-05  </td></tr>\n",
       "</tbody>\n",
       "</table>\n"
      ],
      "text/latex": [
       "\\begin{tabular}{r|llllllll}\n",
       " contrast & estimate & SE & df & lower.CL & upper.CL & t.ratio & p.value\\\\\n",
       "\\hline\n",
       "\t Beef - Chicken &  38.085294     & 7.738831       & 51             &  19.40391      &  56.76667      &  4.9213237     & 2.767694e-05  \\\\\n",
       "\t Beef - Pork    &  -1.855882     & 7.738831       & 51             & -20.53726      &  16.82550      & -0.2398143     & 9.688129e-01  \\\\\n",
       "\t Chicken - Pork & -39.941176     & 8.046454       & 51             & -59.36515      & -20.51720      & -4.9638236     & 2.390087e-05  \\\\\n",
       "\\end{tabular}\n"
      ],
      "text/markdown": [
       "\n",
       "contrast | estimate | SE | df | lower.CL | upper.CL | t.ratio | p.value | \n",
       "|---|---|---|\n",
       "| Beef - Chicken |  38.085294     | 7.738831       | 51             |  19.40391      |  56.76667      |  4.9213237     | 2.767694e-05   | \n",
       "| Beef - Pork    |  -1.855882     | 7.738831       | 51             | -20.53726      |  16.82550      | -0.2398143     | 9.688129e-01   | \n",
       "| Chicken - Pork | -39.941176     | 8.046454       | 51             | -59.36515      | -20.51720      | -4.9638236     | 2.390087e-05   | \n",
       "\n",
       "\n"
      ],
      "text/plain": [
       "  contrast       estimate   SE       df lower.CL  upper.CL  t.ratio   \n",
       "1 Beef - Chicken  38.085294 7.738831 51  19.40391  56.76667  4.9213237\n",
       "2 Beef - Pork     -1.855882 7.738831 51 -20.53726  16.82550 -0.2398143\n",
       "3 Chicken - Pork -39.941176 8.046454 51 -59.36515 -20.51720 -4.9638236\n",
       "  p.value     \n",
       "1 2.767694e-05\n",
       "2 9.688129e-01\n",
       "3 2.390087e-05"
      ]
     },
     "metadata": {},
     "output_type": "display_data"
    }
   ],
   "source": [
    "lsm.hotdog=lsmeans(aov.hotdog, ~ protein_type)\n",
    "summary(contrast(lsm.hotdog, method=\"pairwise\", adjust=\"tukey\"),\n",
    "                infer=c(T,T), level=0.95, side=\"two-sided\")"
   ]
  },
  {
   "cell_type": "code",
   "execution_count": 18,
   "metadata": {},
   "outputs": [],
   "source": [
    "beef_chicken_pvalue = 2.767694e-05\n",
    "beef_pork_pvalue = 9.688129e-01\n",
    "chicken_pork_pvalue = 2.390087e-05"
   ]
  },
  {
   "cell_type": "markdown",
   "metadata": {},
   "source": [
    "#### (c)"
   ]
  },
  {
   "cell_type": "markdown",
   "metadata": {},
   "source": [
    "Are there significant differences in mean calories between Beef and Pork hot dogs? What about between\n",
    "Beef and Chicken hot dogs? What about between Pork and Chicken hot dogs?"
   ]
  },
  {
   "cell_type": "code",
   "execution_count": 19,
   "metadata": {},
   "outputs": [
    {
     "data": {
      "text/html": [
       "FALSE"
      ],
      "text/latex": [
       "FALSE"
      ],
      "text/markdown": [
       "FALSE"
      ],
      "text/plain": [
       "[1] FALSE"
      ]
     },
     "metadata": {},
     "output_type": "display_data"
    },
    {
     "data": {
      "text/html": [
       "TRUE"
      ],
      "text/latex": [
       "TRUE"
      ],
      "text/markdown": [
       "TRUE"
      ],
      "text/plain": [
       "[1] TRUE"
      ]
     },
     "metadata": {},
     "output_type": "display_data"
    },
    {
     "data": {
      "text/html": [
       "TRUE"
      ],
      "text/latex": [
       "TRUE"
      ],
      "text/markdown": [
       "TRUE"
      ],
      "text/plain": [
       "[1] TRUE"
      ]
     },
     "metadata": {},
     "output_type": "display_data"
    }
   ],
   "source": [
    "beef_pork_pvalue<0.05\n",
    "beef_chicken_pvalue<0.05\n",
    "chicken_pork_pvalue<0.05"
   ]
  },
  {
   "cell_type": "markdown",
   "metadata": {},
   "source": [
    "We can interpret the results of these tests with\n",
    "the following statements:\n",
    "\n",
    "- 1. The calories of beef is not significantly different from the calories of pork;\n",
    "- 2. The calories of beef is significantly more than the calories of chicken;\n",
    "- 3. The calories of chicken is significantly less than the calories of pork;"
   ]
  }
 ],
 "metadata": {
  "kernelspec": {
   "display_name": "R",
   "language": "R",
   "name": "ir"
  },
  "language_info": {
   "codemirror_mode": "r",
   "file_extension": ".r",
   "mimetype": "text/x-r-source",
   "name": "R",
   "pygments_lexer": "r",
   "version": "3.4.4"
  },
  "latex_envs": {
   "LaTeX_envs_menu_present": true,
   "autoclose": false,
   "autocomplete": true,
   "bibliofile": "biblio.bib",
   "cite_by": "apalike",
   "current_citInitial": 1,
   "eqLabelWithNumbers": true,
   "eqNumInitial": 1,
   "hotkeys": {
    "equation": "Ctrl-E",
    "itemize": "Ctrl-I"
   },
   "labels_anchors": false,
   "latex_user_defs": false,
   "report_style_numbering": false,
   "user_envs_cfg": false
  }
 },
 "nbformat": 4,
 "nbformat_minor": 2
}
