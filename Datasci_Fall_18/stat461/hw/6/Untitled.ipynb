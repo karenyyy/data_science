{
 "cells": [
  {
   "cell_type": "code",
   "execution_count": 1,
   "metadata": {},
   "outputs": [],
   "source": [
    "import pandas as pd"
   ]
  },
  {
   "cell_type": "code",
   "execution_count": 4,
   "metadata": {},
   "outputs": [
    {
     "name": "stdout",
     "output_type": "stream",
     "text": [
      "\\begin{tabular}{lrrr}\n",
      "\\toprule\n",
      "{} &  Beef &  Pork &  Chicken \\\\\n",
      "\\midrule\n",
      "0  &   186 &   173 &      129 \\\\\n",
      "1  &   181 &   191 &      132 \\\\\n",
      "2  &   176 &   182 &      102 \\\\\n",
      "3  &   149 &   190 &      106 \\\\\n",
      "4  &   184 &   172 &       94 \\\\\n",
      "5  &   190 &   147 &      102 \\\\\n",
      "6  &   158 &   146 &       87 \\\\\n",
      "7  &   139 &   139 &       99 \\\\\n",
      "8  &   175 &   175 &      107 \\\\\n",
      "9  &   148 &   136 &      113 \\\\\n",
      "10 &   152 &   179 &      135 \\\\\n",
      "11 &   111 &   153 &      142 \\\\\n",
      "12 &   141 &   107 &       86 \\\\\n",
      "13 &   153 &   195 &      143 \\\\\n",
      "14 &   190 &   135 &      152 \\\\\n",
      "15 &   157 &   140 &      146 \\\\\n",
      "16 &   131 &   138 &      144 \\\\\n",
      "17 &   149 &     0 &        0 \\\\\n",
      "18 &   135 &     0 &        0 \\\\\n",
      "19 &   132 &     0 &        0 \\\\\n",
      "\\bottomrule\n",
      "\\end{tabular}\n",
      "\n"
     ]
    }
   ],
   "source": [
    "print(pd.DataFrame({\n",
    "    'Beef': [186, 181, 176, 149, 184, 190, 158, 139, 175, 148, 152, 111, 141, 153, 190, 157, 131, 149, 135, 132],\n",
    "    'Pork': [173, 191, 182, 190, 172, 147, 146, 139, 175, 136, 179, 153, 107, 195, 135, 140, 138, 0, 0, 0],\n",
    "    'Chicken': [129, 132, 102, 106, 94, 102, 87, 99, 107, 113, 135, 142, 86, 143, 152, 146, 144, 0, 0, 0]\n",
    "}).to_latex())"
   ]
  },
  {
   "cell_type": "code",
   "execution_count": null,
   "metadata": {},
   "outputs": [],
   "source": []
  }
 ],
 "metadata": {
  "kernelspec": {
   "display_name": "Python 3",
   "language": "python",
   "name": "python3"
  },
  "language_info": {
   "codemirror_mode": {
    "name": "ipython",
    "version": 3
   },
   "file_extension": ".py",
   "mimetype": "text/x-python",
   "name": "python",
   "nbconvert_exporter": "python",
   "pygments_lexer": "ipython3",
   "version": "3.6.6"
  },
  "latex_envs": {
   "LaTeX_envs_menu_present": true,
   "autoclose": false,
   "autocomplete": true,
   "bibliofile": "biblio.bib",
   "cite_by": "apalike",
   "current_citInitial": 1,
   "eqLabelWithNumbers": true,
   "eqNumInitial": 1,
   "hotkeys": {
    "equation": "Ctrl-E",
    "itemize": "Ctrl-I"
   },
   "labels_anchors": false,
   "latex_user_defs": false,
   "report_style_numbering": false,
   "user_envs_cfg": false
  }
 },
 "nbformat": 4,
 "nbformat_minor": 2
}
