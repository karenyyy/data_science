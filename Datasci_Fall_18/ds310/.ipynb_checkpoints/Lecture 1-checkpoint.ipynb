{
 "cells": [
  {
   "cell_type": "markdown",
   "metadata": {},
   "source": [
    "### Ingredients for classification"
   ]
  },
  {
   "cell_type": "markdown",
   "metadata": {
    "heading_collapsed": true
   },
   "source": [
    "#### Source of knowledge"
   ]
  },
  {
   "cell_type": "markdown",
   "metadata": {
    "hidden": true
   },
   "source": [
    "- Feature representation\n",
    "    - problem specific\n",
    "- Unlabeled data?\n",
    "    - case 1: Unsupervised Learning\n",
    "        - go ahead without label \n",
    "            - seq2seq end to end model\n",
    "    - case 2: Supervised Learning\n",
    "        - add label to data by training\n",
    "            - semantic interpretation of (mostly unlabeled images -> IMAGE-CAPTION or untagged texts -> POS)\n",
    "                - mainly the idea of Encoder-Decoder apply here\n",
    "                    - Image-Cap: \n",
    "                        - Encoder (Convolutional NN): image -> feature map\n",
    "                        - Decoder (RNN / LSTM) feature map -> readable sentence\n",
    "\n",
    "        "
   ]
  },
  {
   "cell_type": "markdown",
   "metadata": {
    "heading_collapsed": true
   },
   "source": [
    "### KNN"
   ]
  },
  {
   "cell_type": "markdown",
   "metadata": {
    "heading_collapsed": true,
    "hidden": true
   },
   "source": [
    "#### Standardization"
   ]
  },
  {
   "cell_type": "markdown",
   "metadata": {
    "hidden": true
   },
   "source": [
    "Standardization can be important __when the varibales are not all measured on the same scale__\n",
    "\n",
    "- 0-1 scaling\n",
    "\n",
    "$$range = max - min$$\n",
    "\n",
    "$$\\frac{(i-min)}{range}$$\n"
   ]
  },
  {
   "cell_type": "markdown",
   "metadata": {
    "heading_collapsed": true,
    "hidden": true
   },
   "source": [
    "#### K Nearest neightbor Classifier"
   ]
  },
  {
   "cell_type": "markdown",
   "metadata": {
    "hidden": true
   },
   "source": [
    "- Learning phase\n",
    "\n",
    "For each training example $(X_p, f(X_p))$, store the sample in memory\n",
    "\n",
    "- Classification Phase\n",
    "\n",
    "Given a query instance $X_p$ identify the $k$ nearest neighbors $X_1, ..., X_k$ of $X_q$\n",
    "\n",
    "Assign $X_q$ as the label of the majority class\n",
    "\n",
    "$$g(X_q) = \\arg \\max_w(\\sum^K_{i=1}\\delta(w, f(x_i))$$ \n",
    "\n",
    "where\n",
    "\n",
    "$$\\delta(a, b) = 1 iff a=b \\text{ and } \\delta(a,b)=1 $$\n"
   ]
  },
  {
   "cell_type": "markdown",
   "metadata": {
    "heading_collapsed": true,
    "hidden": true
   },
   "source": [
    "#### Distance weighted K nearest neighbor classifier"
   ]
  },
  {
   "cell_type": "markdown",
   "metadata": {
    "hidden": true
   },
   "source": [
    "- Learning phase\n",
    "\n",
    "For each training example $(X_p, f(X_p))$, store the sample in memory\n",
    "\n",
    "- Classification Phase\n",
    "\n",
    "Given a query instance $X_p$ identify the $k$ nearest neighbors $X_1, ..., X_k$ of $X_q$\n",
    "\n",
    "$$KNN(X_q) = \\{ X_1, ..., X_q\\}$$\n",
    "\n",
    "__And obtain a weighted note, with each nn getting a vote in favor of its class label that's weighted by the distance to the query__\n",
    "\n",
    "$$w = \\frac{1}{d(X_i, X_q)^2}$$\n"
   ]
  },
  {
   "cell_type": "markdown",
   "metadata": {
    "heading_collapsed": true
   },
   "source": [
    "### Distance Measures - depends on the data representation"
   ]
  },
  {
   "cell_type": "markdown",
   "metadata": {
    "hidden": true
   },
   "source": [
    "$d(p, q)$ between two points p and q is a proper distance measure if it satisfies:\n",
    "\n",
    "- Positive definiteness:\n",
    "    - $d(p,q) \\ge 0$ for all p and q and $d(p,q)=0$ only if $p=q$\n",
    "    \n",
    "- Symmetry: $d(p,q) = d(q,p)$ for all p and q\n",
    "- Triangle inequality:\n",
    "    - $d(p,q) \\le d(p,q)+d(q,r)$ for all points p, q and r"
   ]
  },
  {
   "cell_type": "markdown",
   "metadata": {
    "hidden": true
   },
   "source": [
    "#### Cosine Distance"
   ]
  },
  {
   "cell_type": "markdown",
   "metadata": {
    "hidden": true
   },
   "source": [
    "If $d_1$ and $d_2$ are two document vectors, then\n",
    "\n",
    "$$1- \\cos (d_1, d_2) = 1- \\frac{d_1 \\cdot d_2}{||d_1|| \\cdot ||d_2||}$$"
   ]
  },
  {
   "cell_type": "markdown",
   "metadata": {
    "hidden": true
   },
   "source": [
    "#### Euclidean Distance"
   ]
  },
  {
   "cell_type": "markdown",
   "metadata": {
    "hidden": true
   },
   "source": [
    "$$\\sqrt{\\sum^d_{j=1}(p_j - q_j)^2}$$"
   ]
  },
  {
   "cell_type": "markdown",
   "metadata": {
    "hidden": true
   },
   "source": [
    "#### Minkowski distance"
   ]
  },
  {
   "cell_type": "markdown",
   "metadata": {
    "hidden": true
   },
   "source": [
    "- a generalization of Euclidean distance\n",
    "- $$\\sqrt[n]{\\sum^d_{j=1} |p_i - q_j|^n}$$\n"
   ]
  },
  {
   "cell_type": "markdown",
   "metadata": {
    "heading_collapsed": true
   },
   "source": [
    "### Distance measures in Boolean spaces"
   ]
  },
  {
   "cell_type": "markdown",
   "metadata": {
    "hidden": true
   },
   "source": [
    "- n=1 Manhattan distance\n",
    "- n=2 Euclidean distance"
   ]
  },
  {
   "cell_type": "markdown",
   "metadata": {
    "heading_collapsed": true
   },
   "source": [
    "### One-hot Encoding"
   ]
  },
  {
   "cell_type": "markdown",
   "metadata": {
    "hidden": true
   },
   "source": [
    "__Neutral Encoding: does not infer any implicit similarities__"
   ]
  },
  {
   "cell_type": "code",
   "execution_count": 26,
   "metadata": {
    "hidden": true
   },
   "outputs": [],
   "source": [
    "## define the one-hot transformation\n",
    "import numpy as np\n",
    "def convert_to_one_hot(y):\n",
    "    y_idx = list(map(lambda x: x-1, y))\n",
    "    return np.eye(len(y))[y_idx, :]\n",
    "\n",
    "## or use package \n",
    "## from tensorflow: \n",
    "# import tensorflow as tf\n",
    "# tf.one_hot(y, depth=len(y))\n",
    "\n",
    "## from keras\n",
    "# import keras\n",
    "# keras.utils.to_categorical(list(map(lambda x: x-1, y)), num_classes=len(y))"
   ]
  },
  {
   "cell_type": "markdown",
   "metadata": {
    "heading_collapsed": true
   },
   "source": [
    "### Tuning the Algorithm"
   ]
  },
  {
   "cell_type": "markdown",
   "metadata": {
    "hidden": true
   },
   "source": [
    "Tweaking the hyperparameters:\n",
    "\n",
    "__eg: tweaking k in KNN: depend on the density of the available dataset__\n",
    "\n",
    "- grid search (based on the improvement of accuracy / loss convergence)\n",
    "- based on experience of the range of k when it works the best\n",
    "\n",
    "__Note:__\n",
    "- If k is too small, the classifier will be too sensitive to noise points\n",
    "- If k is too large, neighborhood may include points from other class, thus undermining the accuracy"
   ]
  },
  {
   "cell_type": "markdown",
   "metadata": {
    "heading_collapsed": true
   },
   "source": [
    "### Takeaways:"
   ]
  },
  {
   "cell_type": "markdown",
   "metadata": {
    "hidden": true
   },
   "source": [
    "- NN Classifier are conceptually simple\n",
    "- Learn by simply memorizing training examples\n",
    "- The computational effort of learning is low\n",
    "- The storage requirement of learning is high\n",
    "    - need to memorize the examples in the training set\n",
    "- Cost of classifiying new instances can be high\n",
    "    - Use efficient data strutures and algorithms for NN search \n",
    "        - __k-d trees__\n",
    "        - __locality sensitive hashing__\n",
    "- A distance measure needs to be defined over the input space\n",
    "- Performance degrades when there are many irrelevant attributes\n",
    "    - dim reduction? (linear / non-linear)\n",
    "        - PCA\n",
    "        - T-SNE"
   ]
  },
  {
   "cell_type": "markdown",
   "metadata": {
    "hidden": true
   },
   "source": [
    "#### KD Tree (k-dimensional tree)"
   ]
  },
  {
   "cell_type": "markdown",
   "metadata": {
    "hidden": true
   },
   "source": [
    "KD Tree 是一种分割k维数据空间的数据结构，常用来多维空间关键数据的搜索(如：范围搜素及近邻搜索)，是二叉空间划分树的一个特例。\n",
    "\n",
    "通常，对于维度为k，数据点数为N的数据集，k−d tree适用于N≫2k的情形\n",
    "\n",
    "----\n",
    "\n",
    "假设有6个二维数据点{(2,3),(5,4),(9,6),(4,7),(8,1),(7,2)}数据点位于二维空间内\n",
    "\n",
    "![](https://img-blog.csdn.net/20180307162809441)\n",
    "\n",
    "k-d树算法就是要确定图1中这些分割空间的分割线(多维空间即为分割平面，一般为超平面)\n",
    "\n",
    "----\n",
    "节点生成程序:\n",
    "\n",
    "　　(1)确定split域：\n",
    "  \n",
    "      对于所有描述子数据（特征矢量），统计它们在每个维上的数据方差。以SURF特征为例，描述子为64维，可计算64个方差。挑选出最大值，对应的维就是split域的值。数据方差大表明沿该坐标轴方向上的数据分散得比较开，在这个方向上进行数据分割有较好的分辨率；\n",
    "  \n",
    "　   (2)确定Node-data域：\n",
    "    \n",
    "        数据点集Data-set按其第split域的值排序。位于正中间的那个数据点被选为Node-data。此时新的Data-set’ = Data-set\\Node-data（除去其中Node-data这一点)\n",
    "----\n",
    "        \n",
    "dataleft = {d属于Data-set’ && d[split] ≤ Node-data[split]} \n",
    "\n",
    "Left_Range = {Range && dataleft} \n",
    "\n",
    "dataright = {d属于Data-set’ && d[split] > Node-data[split]}\n",
    "\n",
    "Right_Range = {Range && dataright}\n",
    "\n",
    "----\n",
    "\n",
    "过程如下：\n",
    "\n",
    "　　由于此例数据维度只有2维，所以可以简单地给x，y两个方向轴编号为0,1，也即split={0,1}\n",
    "  \n",
    "　　（1）确定split域的首先该取的值。分别计算x，y方向上数据的方差得知x方向上的方差最大，所以split域值首先取0，也就是x轴方向； \n",
    "  \n",
    "　　（2）确定Node-data的域值。根据x轴方向的值2,5,9,4,8,7排序选出中值为7，所以Node-data=(7,2)。这样，该节点的分割超平面就是通过(7,2)并垂直于split = 0(x轴)的直线x=7； \n",
    "  \n",
    "　　（3）确定左子空间和右子空间。分割超平面x=7将整个空间分为两部分，如图所示。x≤7的部分为左子空间，包含3个节点{(2,3),(5,4),(4,7)}；另一部分为右子空间，包含2个节点{(9,6),(8,1)}\n",
    "  \n",
    "  ![](https://img-blog.csdn.net/20180307183857893)\n",
    "  \n",
    "  最后生成的k-d树如图:\n",
    "  \n",
    "  \n",
    "  ![](https://img-blog.csdn.net/2018030718553761)\n",
    "  \n",
    "----\n",
    "\n",
    "- k-d树上的KNN\n",
    "\n",
    "\n",
    "\n",
    "__而找到的叶子节点并不一定就是最邻近的，最邻近肯定距离查询点更近，应该位于以查询点为圆心且通过叶子节点的圆域内__\n",
    "\n",
    "\n",
    "----\n",
    "\n",
    "为了找到真正的最近邻，还需要进行’回溯’操作：\n",
    "\n",
    "__算法沿搜索路径反向查找是否有距离查询点更近的数据点__\n",
    "\n",
    "----\n",
    "\n",
    "实例:\n",
    "\n",
    "如查找点为(2,4.5)。先进行二叉查找，先从(7,2)查找到(5,4)节点，在进行查找时是由y=4为分割超平面的，由于查找点为y值为4.5，因此进入右子空间查找到(4,7)，形成搜索路径<(7,2),(5,4),(4,7)>\n",
    "\n",
    "取(4,7)为当前最近邻点，计算其与目标查找点的距离为3.202。然后回溯到(5,4)，计算其与查找点之间的距离为3.041。以(2,4.5)为圆心，以3.041为半径作圆，如图所示。可见该圆和y=4超平面交割，所以需要进入(5,4)左子空间进行查找。\n",
    "![](https://img-blog.csdn.net/2018030719262316)\n",
    "此时需将(2,3)节点加入搜索路径中得<(7,2),(2,3)>。\n",
    "\n",
    "回溯至(2,3)叶子节点,(2,3)距离(2,4.5)比5,4)要近，所以最近邻点更新为(2,3)，最近距离更新为1.5。\n",
    "\n",
    "回溯至(7,2)，以(2,4.5)为圆心1.5为半径作圆，并不和x=7分割超平面交割，如图所示。至此，搜索路径回溯完。返回最近邻点2,3)，最近距离1.5\n",
    "\n",
    "![](https://img-blog.csdn.net/20180307192815279)\n",
    "\n",
    "\n"
   ]
  },
  {
   "cell_type": "code",
   "execution_count": 75,
   "metadata": {
    "code_folding": [],
    "hidden": true
   },
   "outputs": [],
   "source": [
    "# code from https://github.com/guoswang/K-D-Tree\n",
    "\n",
    "import numpy as np\n",
    "import matplotlib.pyplot as plt\n",
    "from time import time\n",
    "\n",
    "def createKDTree(dataSet, depth):\n",
    "    n = np.shape(dataSet)[0]\n",
    "    treeNode = {}\n",
    "    if n == 0:\n",
    "        return None\n",
    "    else:\n",
    "        n, m = np.shape(dataSet)\n",
    "        split_axis = depth % m\n",
    "        depth += 1\n",
    "        treeNode['split'] = split_axis\n",
    "        dataSet = sorted(dataSet, key=lambda a: a[split_axis])\n",
    "        num = n // 2\n",
    "        treeNode['median'] = dataSet[num]\n",
    "        treeNode['left'] = createKDTree(dataSet[:num], depth)\n",
    "        treeNode['right'] = createKDTree(dataSet[num + 1:], depth)\n",
    "        return treeNode\n",
    "\n",
    "def searchTree(tree, data):\n",
    "    k = len(data)\n",
    "    if tree is None:\n",
    "        return [0] * k, float('inf')\n",
    "    split_axis = tree['split']\n",
    "    median_point = tree['median']\n",
    "    if data[split_axis] <= median_point[split_axis]:\n",
    "        nearestPoint, nearestDistance = searchTree(tree['left'], data)\n",
    "    else:\n",
    "        nearestPoint, nearestDistance = searchTree(tree['right'], data)\n",
    "    nowDistance = np.linalg.norm(data - median_point)  # the distance between data to current point\n",
    "    if nowDistance < nearestDistance:\n",
    "        nearestDistance = nowDistance\n",
    "        nearestPoint = median_point.copy()\n",
    "    splitDistance = abs(data[split_axis] - median_point[split_axis])  # the distance between hyperplane\n",
    "    if splitDistance > nearestDistance:\n",
    "        return nearestPoint, nearestDistance\n",
    "    else:\n",
    "        if data[split_axis] <= median_point[split_axis]:\n",
    "            nextTree = tree['right']\n",
    "        else:\n",
    "            nextTree = tree['left']\n",
    "        nearPoint, nearDistanc = searchTree(nextTree, data)\n",
    "        if nearDistanc < nearestDistance:\n",
    "            nearestDistance = nearDistanc\n",
    "            nearestPoint = nearPoint.copy()\n",
    "        return nearestPoint, nearestDistance\n",
    "\n",
    "def main():\n",
    "    point = [2, 4.5]\n",
    "    point_list = np.array([[2,3], [5,4], [9,6], [4,7], [8,1], [7,2]])\n",
    "    tree = createKDTree(point_list, depth=0)\n",
    "    n_p, n_d = searchTree(tree, point)\n",
    "    print(tree)\n",
    "    print(n_p,n_d)\n",
    "    \n",
    "    fig = plt.figure(0)\n",
    "    ax = fig.add_subplot(111)\n",
    "    ax.scatter(point_list[:, 0], point_list[:, 1], cmap=plt.cm.Paired)\n",
    "\n",
    "    ax.scatter(point[0], point[1], c='g', s=50)\n",
    "    ax.annotate('target point', xy=(point[0]+0.3, point[1]+0.3))\n",
    "    ax.scatter(n_p[0], n_p[1], c='r', s=50)\n",
    "    ax.annotate('nearest point', xy=(n_p[0]+0.3, n_p[1]+0.3))\n",
    "    plt.show()\n"
   ]
  },
  {
   "cell_type": "code",
   "execution_count": 76,
   "metadata": {
    "hidden": true
   },
   "outputs": [
    {
     "name": "stdout",
     "output_type": "stream",
     "text": [
      "{'split': 0, 'median': array([7, 2]), 'right': {'split': 1, 'median': array([9, 6]), 'right': None, 'left': {'split': 0, 'median': array([8, 1]), 'right': None, 'left': None}}, 'left': {'split': 1, 'median': array([5, 4]), 'right': {'split': 0, 'median': array([4, 7]), 'right': None, 'left': None}, 'left': {'split': 0, 'median': array([2, 3]), 'right': None, 'left': None}}}\n",
      "[2 3] 1.5\n"
     ]
    },
    {
     "data": {
      "image/png": "[encoded data removed]",
      "text/plain": [
       "<Figure size 432x288 with 1 Axes>"
      ]
     },
     "metadata": {},
     "output_type": "display_data"
    }
   ],
   "source": [
    "main()"
   ]
  },
  {
   "cell_type": "markdown",
   "metadata": {
    "heading_collapsed": true,
    "hidden": true
   },
   "source": [
    "#### PCA"
   ]
  },
  {
   "cell_type": "code",
   "execution_count": 59,
   "metadata": {
    "hidden": true
   },
   "outputs": [
    {
     "name": "stdout",
     "output_type": "stream",
     "text": [
      "(1797, 64) (1797,)\n",
      "pc1:  [  0.92867919  -8.28839856  -7.32271022 ... -11.13207095   4.54131284\n",
      "   0.01360237]\n",
      "pc2:  [-19.55461647  22.48896597  11.67625342 ...   8.68051925 -10.7036866\n",
      "  -4.64528218]\n",
      "0 [0 1 2 ... 8 9 8]\n",
      "1 [0 1 2 ... 8 9 8]\n",
      "2 [0 1 2 ... 8 9 8]\n",
      "3 [0 1 2 ... 8 9 8]\n",
      "4 [0 1 2 ... 8 9 8]\n",
      "5 [0 1 2 ... 8 9 8]\n",
      "6 [0 1 2 ... 8 9 8]\n",
      "7 [0 1 2 ... 8 9 8]\n",
      "8 [0 1 2 ... 8 9 8]\n",
      "9 [0 1 2 ... 8 9 8]\n"
     ]
    },
    {
     "data": {
      "image/png": "[encoded data removed]",
      "text/plain": [
       "<Figure size 432x288 with 1 Axes>"
      ]
     },
     "metadata": {},
     "output_type": "display_data"
    }
   ],
   "source": [
    "import matplotlib.pyplot as plt\n",
    "from sklearn import datasets\n",
    "\n",
    "\n",
    "def PCA(X, n):\n",
    "    diff = X - X.mean(axis=0)\n",
    "    covariance_matrix = diff.T.dot(diff)/(X.shape[0]-1)\n",
    "    eigenvalues, eigenvectors = np.linalg.eig(covariance_matrix)\n",
    "\n",
    "    # Sort the eigenvalues and corresponding eigenvectors descending and select the first n\n",
    "    idx = eigenvalues.argsort()[::-1]\n",
    "    eigenvalues = eigenvalues[idx][:n]\n",
    "    eigenvectors = eigenvectors[:, idx][:, :n]\n",
    "    \n",
    "    # Project the data onto principal components\n",
    "    X_transformed = X.dot(eigenvectors)\n",
    "    return X_transformed\n",
    "\n",
    "    \n",
    "def main():\n",
    "    data = datasets.load_digits()\n",
    "    X = data.data\n",
    "    y = data.target\n",
    "    print(X.shape, y.shape)\n",
    "    \n",
    "    # Project the data onto the 2 pcs\n",
    "    X_trans = PCA(X, 2)\n",
    "\n",
    "    # pc1\n",
    "    x1 = X_trans[:, 0]\n",
    "    print('pc1: ', x1)\n",
    "    # pc2\n",
    "    x2 = X_trans[:, 1]\n",
    "    print('pc2: ', x2)\n",
    "\n",
    "    cmap = plt.get_cmap('rainbow')\n",
    "    colors = [cmap(i) for i in np.linspace(0, 1, len(np.unique(y)))]\n",
    "\n",
    "    class_distr = []\n",
    "    # Plot the different class distributions\n",
    "    for i, l in enumerate(np.unique(y)):\n",
    "        print(l, y)\n",
    "        _x1 = x1[y == l]\n",
    "        _x2 = x2[y == l]\n",
    "        class_distr.append(plt.scatter(_x1, _x2, color=colors[i]))\n",
    "\n",
    "    plt.legend(class_distr, y, loc=1)\n",
    "\n",
    "    # Axis labels\n",
    "    plt.title(\"PCA MNIST 0-9\")\n",
    "    plt.xlabel('Principal Component 1')\n",
    "    plt.ylabel('Principal Component 2')\n",
    "    plt.show()\n",
    "\n",
    "\n",
    "if __name__ == \"__main__\":\n",
    "    main()"
   ]
  },
  {
   "cell_type": "markdown",
   "metadata": {},
   "source": [
    "## Simple Linear Regression"
   ]
  },
  {
   "cell_type": "markdown",
   "metadata": {},
   "source": [
    "For now assume just one independent variable x, and one\n",
    " dependent y\n",
    " \n",
    "- Multiple linear rg assumes an input vector of x\n",
    "- Multivariate 1inear rg assumes an output vector y\n",
    "\n",
    "We will fit the points with a linear hyper-plane\n",
    "\n",
    "\n",
    "\n",
    "\n",
    "> How to determine the optimal fit line?\n",
    "\n",
    "- Choose an objective function\n",
    "- For simple linear regression we choose sum squared error (SSE)\n",
    "\n",
    "$$\\sum (d_i - y_i)^2 = \\sum(e_i)^2$$\n",
    "\n",
    "- Thus, find the line with __least squares__\n",
    "\n",
    "- __Bias-Variance Trade-off__\n",
    "![](images/bias-variance-tradeoff.png)"
   ]
  },
  {
   "cell_type": "markdown",
   "metadata": {},
   "source": [
    "#### build KNN"
   ]
  },
  {
   "cell_type": "code",
   "execution_count": 2,
   "metadata": {},
   "outputs": [],
   "source": [
    "import numpy as np\n",
    "import matplotlib.pyplot as plt\n",
    "from sklearn import datasets\n",
    "\n",
    "from sklearn.model_selection import train_test_split, normalize, accuracy_score\n",
    "from mlfromscratch.utils import euclidean_distance, Plot\n",
    "\n",
    "\n",
    "class KNN():\n",
    "    \"\"\" K Nearest Neighbors classifier.\n",
    "\n",
    "    Parameters:\n",
    "    -----------\n",
    "    k: int\n",
    "        The number of closest neighbors that will determine the class of the \n",
    "        sample that we wish to predict.\n",
    "    \"\"\"\n",
    "    def __init__(self, k=5):\n",
    "        self.k = k\n",
    "\n",
    "    def _vote(self, neighbor_labels):\n",
    "        counts = np.bincount(neighbor_labels.astype('int'))\n",
    "        return counts.argmax()\n",
    "\n",
    "    def predict(self, X_test, X_train, y_train):\n",
    "        y_pred = np.empty(X_test.shape[0])\n",
    "        # Determine the class of each sample\n",
    "        for i, test_sample in enumerate(X_test):\n",
    "            # Sort the training samples by their distance to the test sample and get the K nearest\n",
    "            idx = np.argsort([euclidean_distance(test_sample, x) for x in X_train])[:self.k]\n",
    "            # Extract the labels of the K nearest neighboring training samples\n",
    "            k_nearest_neighbors = np.array([y_train[i] for i in idx])\n",
    "            # Label sample as the most common class label\n",
    "            y_pred[i] = self._vote(k_nearest_neighbors)\n",
    "\n",
    "        return y_pred\n",
    "\n",
    "\n",
    "def main():\n",
    "    data = datasets.load_iris()\n",
    "    X = normalize(data.data)\n",
    "    y = data.target\n",
    "    X_train, X_test, y_train, y_test = train_test_split(X, y, test_size=0.33)\n",
    "\n",
    "    clf = KNN(k=5)\n",
    "    y_pred = clf.predict(X_test, X_train, y_train)\n",
    "    \n",
    "    accuracy = accuracy_score(y_test, y_pred)\n",
    "\n",
    "    print (\"Accuracy:\", accuracy)\n",
    "\n",
    "    # Reduce dimensions to 2d using pca and plot the results\n",
    "    Plot().plot_in_2d(X_test, y_pred, title=\"K Nearest Neighbors\", accuracy=accuracy, legend_labels=data.target_names)\n",
    "\n",
    "\n",
    "if __name__ == \"__main__\":\n",
    "    main()"
   ]
  },
  {
   "cell_type": "markdown",
   "metadata": {},
   "source": [
    "#### pick up Word2Vec & Glove"
   ]
  },
  {
   "cell_type": "markdown",
   "metadata": {},
   "source": []
  },
  {
   "cell_type": "markdown",
   "metadata": {},
   "source": [
    "#### mark down some basic functions in NLTK and Gensim"
   ]
  },
  {
   "cell_type": "markdown",
   "metadata": {},
   "source": [
    "#### Example of RNN for sequential data "
   ]
  },
  {
   "cell_type": "markdown",
   "metadata": {},
   "source": []
  },
  {
   "cell_type": "markdown",
   "metadata": {},
   "source": [
    "### Something to think about"
   ]
  },
  {
   "cell_type": "markdown",
   "metadata": {},
   "source": [
    "- [Doc2Vec?](https://medium.com/@mishra.thedeepak/doc2vec-simple-implementation-example-df2afbbfbad5)"
   ]
  }
 ],
 "metadata": {
  "kernelspec": {
   "display_name": "Python 3",
   "language": "python",
   "name": "python3"
  },
  "language_info": {
   "codemirror_mode": {
    "name": "ipython",
    "version": 3
   },
   "file_extension": ".py",
   "mimetype": "text/x-python",
   "name": "python",
   "nbconvert_exporter": "python",
   "pygments_lexer": "ipython3",
   "version": "3.5.2"
  },
  "latex_envs": {
   "LaTeX_envs_menu_present": true,
   "autoclose": false,
   "autocomplete": true,
   "bibliofile": "biblio.bib",
   "cite_by": "apalike",
   "current_citInitial": 1,
   "eqLabelWithNumbers": true,
   "eqNumInitial": 1,
   "hotkeys": {
    "equation": "Ctrl-E",
    "itemize": "Ctrl-I"
   },
   "labels_anchors": false,
   "latex_user_defs": false,
   "report_style_numbering": false,
   "user_envs_cfg": false
  }
 },
 "nbformat": 4,
 "nbformat_minor": 2
}
