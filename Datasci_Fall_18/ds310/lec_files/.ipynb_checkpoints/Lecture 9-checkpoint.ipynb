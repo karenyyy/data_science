{
 "cells": [
  {
   "cell_type": "markdown",
   "metadata": {},
   "source": [
    "### Linear Classifiers"
   ]
  },
  {
   "cell_type": "markdown",
   "metadata": {},
   "source": [
    "![](../images/lec9/1.png)\n",
    "\n",
    "- McCulloch-Pitts Neuron (Threshold Neuron)\n",
    "\n",
    "$$y = sign(W^T X+w_0)$$\n",
    "\n"
   ]
  },
  {
   "cell_type": "markdown",
   "metadata": {},
   "source": []
  },
  {
   "cell_type": "markdown",
   "metadata": {},
   "source": [
    "### Information"
   ]
  },
  {
   "cell_type": "markdown",
   "metadata": {},
   "source": [
    "$$Info(p) = -\\log(p)$$\n",
    "\n",
    "$$Info(0) = 0$$\n",
    "\n",
    "- Entropy: __expected info content__\n",
    "$$E(p) = -p\\log p$$\n",
    "\n",
    "$$H(p_1, ..., p_m) =- \\sum_{i=1}^m p_i I(p_i) \\:  where \\: I(p_i) = \\log p_i$$\n",
    "\n",
    "\n",
    "$$H(\\frac{1}{2}, \\frac{1}{2}) = -2 \\cdot \\frac{1}{2} \\log \\frac{1}{2} = \\log 2 - \\log 1 = 1 \\: bit$$\n",
    "\n",
    "$$H(0, 1) = - \\log 1 = 0 \\: bit$$\n",
    "\n",
    "$$entropy \\nearrow, randomness \\nearrow$$\n",
    "----\n",
    "\n",
    "- Example: __dice toss__:\n",
    "    - $$Aria \\: get '6', Sam \\: get 'even', David \\: get 'None'$$\n",
    "    - $$Aria \\rightarrow Sam: -\\log(\\frac{1}{6}) - [-\\log \\frac{1}{3}] = \\log 6 - \\log 3$$\n",
    "    \n",
    "    - $$Aria \\rightarrow David = 0 $$\n",
    "    \n",
    "\n",
    "\n",
    "    "
   ]
  }
 ],
 "metadata": {
  "kernelspec": {
   "display_name": "Python 3",
   "language": "python",
   "name": "python3"
  },
  "language_info": {
   "codemirror_mode": {
    "name": "ipython",
    "version": 3
   },
   "file_extension": ".py",
   "mimetype": "text/x-python",
   "name": "python",
   "nbconvert_exporter": "python",
   "pygments_lexer": "ipython3",
   "version": "3.6.5"
  },
  "latex_envs": {
   "LaTeX_envs_menu_present": true,
   "autoclose": false,
   "autocomplete": true,
   "bibliofile": "biblio.bib",
   "cite_by": "apalike",
   "current_citInitial": 1,
   "eqLabelWithNumbers": true,
   "eqNumInitial": 1,
   "hotkeys": {
    "equation": "Ctrl-E",
    "itemize": "Ctrl-I"
   },
   "labels_anchors": false,
   "latex_user_defs": false,
   "report_style_numbering": false,
   "user_envs_cfg": false
  },
  "varInspector": {
   "cols": {
    "lenName": 16,
    "lenType": 16,
    "lenVar": 40
   },
   "kernels_config": {
    "python": {
     "delete_cmd_postfix": "",
     "delete_cmd_prefix": "del ",
     "library": "var_list.py",
     "varRefreshCmd": "print(var_dic_list())"
    },
    "r": {
     "delete_cmd_postfix": ") ",
     "delete_cmd_prefix": "rm(",
     "library": "var_list.r",
     "varRefreshCmd": "cat(var_dic_list()) "
    }
   },
   "types_to_exclude": [
    "module",
    "function",
    "builtin_function_or_method",
    "instance",
    "_Feature"
   ],
   "window_display": false
  }
 },
 "nbformat": 4,
 "nbformat_minor": 2
}
