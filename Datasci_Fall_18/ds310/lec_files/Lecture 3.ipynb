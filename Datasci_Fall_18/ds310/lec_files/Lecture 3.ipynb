{
 "cells": [
  {
   "cell_type": "markdown",
   "metadata": {},
   "source": [
    "## Performance Measurement"
   ]
  },
  {
   "cell_type": "markdown",
   "metadata": {},
   "source": [
    "\n",
    "### Classification Metrics\n",
    "\n",
    "- Accuracy, Precision, Recall\n",
    "![](26.png)\n",
    "\n",
    "\n",
    "> Takeaways:\n",
    "\n",
    "\n",
    "- Accuracy: \n",
    "\n",
    "$$\\frac{correct \\: pred}{all \\: pred}$$\n",
    "\n",
    "- Precision\n",
    "\n",
    "$$\\frac{correct \\: pos \\: pred}{all \\: pos \\: pred}$$\n",
    "\n",
    "- Recall\n",
    "\n",
    "$$\\frac{correct \\: pos \\: pred}{all \\: actual \\: pos}$$\n",
    "\n",
    "\n",
    "#### Measuring Performance - Correlation Coefficient\n",
    "\n",
    "\n",
    "$$CC_j = \\frac{(TP_j x TN_j) - (FP_j x FN_j)}{\\sqrt{(TP_j +FN_j)(TP_j +FP_j)(TN_j +FP_j)(TN_j +FP_j)}}$$\n",
    "\n",
    "$$-1 \\le CC_j\\le 1$$\n",
    "\n",
    "\n",
    "\n",
    "$$CC_j = \\sum_{d_i \\in D} \\frac{(jlabel_i - \\bar{jlabel})(jclass_i - \\bar{jclass})}{\\sigma_{jlabel} \\sigma_{jclass}}$$\n",
    "\n",
    "\n",
    "\n",
    "#### Avgerage Measurement\n",
    "\n",
    "$$avg \\: precision = \\frac{\\sum_j TP_j}{\\sum_j TP_j + \\sum FP_j}$$\n",
    "\n",
    "\n",
    "$$avg \\: recall = \\frac{\\sum_j TP_j}{\\sum_j TP_j + \\sum FN_j}$$\n",
    "\n",
    "\n",
    "$$Avg \\: Flase \\: Alarm = 1-avg \\: precision $$\n",
    "\n",
    "\n",
    "$$CC = \\frac{(\\sum_j TP_j x \\sum_j TN_j) - (\\sum_j FP_j x \\sum_j FN_j)}{\\sqrt{(\\sum_j TP_j + \\sum_j FN_j)(\\sum_j TP_j +\\sum_j FP_j)(\\sum_j TN_j + \\sum_j FP_j)(\\sum_j TN_j + \\sum_j FP_j)}}$$\n",
    "\n",
    "$$-1 \\le CC_j\\le 1$$\n",
    "\n",
    "\n",
    "\n",
    "\n",
    "\n",
    "\n",
    "####  ROC and AUC Curve\n",
    "\n",
    "\n",
    "\n",
    "\n",
    "![](27.png)\n",
    "\n"
   ]
  },
  {
   "cell_type": "markdown",
   "metadata": {},
   "source": [
    "### Evaluating the performance of a classifier"
   ]
  },
  {
   "cell_type": "markdown",
   "metadata": {},
   "source": [
    "Sample error estimated from training data is an optimistic estimate\n",
    "\n",
    "$$Bias = E[Error_S(h)] - Error_D(h)$$\n",
    "\n",
    "For an unbiased estimate, h must be evaluated on an independent sample S (S is not i the training set)\n",
    "\n",
    "Even\twhen\tthe\testimate\tis\tunbiased,\tit\tcan\tvary\tacross\tsamples\n",
    "\n",
    "$$Error_D (h)= Pr[f (x) \\neq h(x)]$$\n",
    "\n",
    "$$Error_S(h) = \\frac{1}{S} \\sum \\delta(f(x) \\neq h(x))$$\n",
    "\n",
    "where\n",
    "\n",
    "$$\\delta(f(x), h(x))=1 if f(x) \\neq h(x) \\delta(f(x), h(x)) =0 if \\: otherwise$$\n",
    "\n",
    "\n",
    "\n"
   ]
  },
  {
   "cell_type": "markdown",
   "metadata": {},
   "source": [
    "#### Binomial Distribution"
   ]
  },
  {
   "cell_type": "markdown",
   "metadata": {},
   "source": [
    "$${\\displaystyle f(k;n,p)=\\Pr(X=k)={n \\choose k}p^{k}(1-p)^{n-k}}$$\n",
    "\n",
    "$$\\operatorname {E} [X]=np$$\n",
    "\n",
    "$$\\operatorname {Var} [X]=np(1-p)$$\n",
    "\n",
    "\n",
    "- for Bernoulli trials:\n",
    "\n",
    "The\tmean\tof\ta\tBernoulli\ttrial\twith\tsuccess\trate\t\t=\tp\n",
    "\n",
    "\n",
    "Variance\t=\tp\t(1-p)\t\n",
    "\n",
    "\n",
    "If\tN\ttrials\tare\ttaken\tfrom\tthe\tsame Bernoulli\tprocess,\tthe\t\n",
    "observed\tsuccess\trate $\\hat p$ has the same mean $p$ and\tvariance\t $\\frac{p(1-p)}{N}$\n",
    "\n",
    "\n",
    "For\tlarge\t$N$,\tthe\tdistribution $\\hat p$\tof\t\t\t\t\t\tfollows\ta\t__Gaussian\tdistribution__\n",
    "\n",
    "\n",
    "![](../images/lec3/1.png)\n",
    "\n"
   ]
  },
  {
   "cell_type": "markdown",
   "metadata": {},
   "source": [
    "### Normal distribution"
   ]
  },
  {
   "cell_type": "markdown",
   "metadata": {},
   "source": [
    "$${\\displaystyle f(x\\mid \\mu ,\\sigma ^{2})={\\frac {1}{\\sqrt {2\\pi \\sigma ^{2}}}}e^{-{\\frac {(x-\\mu )^{2}}{2\\sigma ^{2}}}}}$$\n",
    "\n",
    "![](../images/lec3/2.png)\n",
    "\n",
    "![](../images/lec3/3.png)\n",
    "\n"
   ]
  },
  {
   "cell_type": "code",
   "execution_count": null,
   "metadata": {},
   "outputs": [],
   "source": []
  }
 ],
 "metadata": {
  "kernelspec": {
   "display_name": "Python 3",
   "language": "python",
   "name": "python3"
  },
  "language_info": {
   "codemirror_mode": {
    "name": "ipython",
    "version": 3
   },
   "file_extension": ".py",
   "mimetype": "text/x-python",
   "name": "python",
   "nbconvert_exporter": "python",
   "pygments_lexer": "ipython3",
   "version": "3.5.2"
  },
  "varInspector": {
   "cols": {
    "lenName": 16,
    "lenType": 16,
    "lenVar": 40
   },
   "kernels_config": {
    "python": {
     "delete_cmd_postfix": "",
     "delete_cmd_prefix": "del ",
     "library": "var_list.py",
     "varRefreshCmd": "print(var_dic_list())"
    },
    "r": {
     "delete_cmd_postfix": ") ",
     "delete_cmd_prefix": "rm(",
     "library": "var_list.r",
     "varRefreshCmd": "cat(var_dic_list()) "
    }
   },
   "types_to_exclude": [
    "module",
    "function",
    "builtin_function_or_method",
    "instance",
    "_Feature"
   ],
   "window_display": false
  }
 },
 "nbformat": 4,
 "nbformat_minor": 2
}
