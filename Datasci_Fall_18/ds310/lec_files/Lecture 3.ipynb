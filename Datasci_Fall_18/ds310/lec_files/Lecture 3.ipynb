{
 "cells": [
  {
   "cell_type": "markdown",
   "metadata": {
    "heading_collapsed": true
   },
   "source": [
    "## Performance Measurement"
   ]
  },
  {
   "cell_type": "markdown",
   "metadata": {
    "hidden": true
   },
   "source": [
    "\n",
    "### Classification Metrics\n",
    "\n",
    "- Accuracy, Precision, Recall\n",
    "![](26.png)\n",
    "\n",
    "\n",
    "> Takeaways:\n",
    "\n",
    "\n",
    "- Accuracy: \n",
    "\n",
    "$$\\frac{correct \\: pred}{all \\: pred}$$\n",
    "\n",
    "- Precision\n",
    "\n",
    "$$\\frac{correct \\: pos \\: pred}{all \\: pos \\: pred}$$\n",
    "\n",
    "- Recall\n",
    "\n",
    "$$\\frac{correct \\: pos \\: pred}{all \\: actual \\: pos}$$\n",
    "\n",
    "\n",
    "#### Measuring Performance - Correlation Coefficient\n",
    "\n",
    "\n",
    "$$CC_j = \\frac{(TP_j x TN_j) - (FP_j x FN_j)}{\\sqrt{(TP_j +FN_j)(TP_j +FP_j)(TN_j +FP_j)(TN_j +FP_j)}}$$\n",
    "\n",
    "$$-1 \\le CC_j\\le 1$$\n",
    "\n",
    "\n",
    "\n",
    "$$CC_j = \\sum_{d_i \\in D} \\frac{(jlabel_i - \\bar{jlabel})(jclass_i - \\bar{jclass})}{\\sigma_{jlabel} \\sigma_{jclass}}$$\n",
    "\n",
    "\n",
    "\n",
    "#### Avgerage Measurement\n",
    "\n",
    "$$avg \\: precision = \\frac{\\sum_j TP_j}{\\sum_j TP_j + \\sum FP_j}$$\n",
    "\n",
    "\n",
    "$$avg \\: recall = \\frac{\\sum_j TP_j}{\\sum_j TP_j + \\sum FN_j}$$\n",
    "\n",
    "\n",
    "$$Avg \\: Flase \\: Alarm = 1-avg \\: precision $$\n",
    "\n",
    "\n",
    "$$CC = \\frac{(\\sum_j TP_j x \\sum_j TN_j) - (\\sum_j FP_j x \\sum_j FN_j)}{\\sqrt{(\\sum_j TP_j + \\sum_j FN_j)(\\sum_j TP_j +\\sum_j FP_j)(\\sum_j TN_j + \\sum_j FP_j)(\\sum_j TN_j + \\sum_j FP_j)}}$$\n",
    "\n",
    "$$-1 \\le CC_j\\le 1$$\n",
    "\n",
    "\n",
    "\n",
    "\n",
    "\n",
    "\n",
    "####  ROC and AUC Curve\n",
    "\n",
    "\n",
    "\n",
    "\n",
    "![](27.png)\n",
    "\n"
   ]
  },
  {
   "cell_type": "code",
   "execution_count": null,
   "metadata": {
    "hidden": true
   },
   "outputs": [],
   "source": []
  }
 ],
 "metadata": {
  "kernelspec": {
   "display_name": "Python 3",
   "language": "python",
   "name": "python3"
  },
  "language_info": {
   "codemirror_mode": {
    "name": "ipython",
    "version": 3
   },
   "file_extension": ".py",
   "mimetype": "text/x-python",
   "name": "python",
   "nbconvert_exporter": "python",
   "pygments_lexer": "ipython3",
   "version": "3.5.2"
  },
  "varInspector": {
   "cols": {
    "lenName": 16,
    "lenType": 16,
    "lenVar": 40
   },
   "kernels_config": {
    "python": {
     "delete_cmd_postfix": "",
     "delete_cmd_prefix": "del ",
     "library": "var_list.py",
     "varRefreshCmd": "print(var_dic_list())"
    },
    "r": {
     "delete_cmd_postfix": ") ",
     "delete_cmd_prefix": "rm(",
     "library": "var_list.r",
     "varRefreshCmd": "cat(var_dic_list()) "
    }
   },
   "types_to_exclude": [
    "module",
    "function",
    "builtin_function_or_method",
    "instance",
    "_Feature"
   ],
   "window_display": false
  }
 },
 "nbformat": 4,
 "nbformat_minor": 2
}
