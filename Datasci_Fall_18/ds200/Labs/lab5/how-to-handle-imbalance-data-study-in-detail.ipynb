{
 "cells": [
  {
   "cell_type": "markdown",
   "metadata": {
    "_cell_guid": "b132247d-6f04-5a90-1eec-7f0872a70a98"
   },
   "source": [
    "##Hi all as we know credit card fraud detection will have a imbalanced data i.e having more number of normal class than the number of fraud class\n",
    "\n",
    "###In this I will use Basic method of handling imbalance data which are\n",
    " ** This all I have done by using Analytics Vidya's blog please find the link [Analytics Vidya](https://www.analyticsvidhya.com/blog/2017/03/read-commonly-used-formats-using-python/)  **\n",
    "\n",
    "Undersampling:- it means taking the less number of majority class (In our case taking less number of Normal transactions so that our new data will be balanced\n",
    "\n",
    "Oversampling: it means using replicating the data of minority class (fraud class) so that we can have a balanced data\n",
    "\n",
    "SMOTE: it is also a type of oversampling but in this we will make the synthetic example of Minority data and will give as a balanced data\n",
    "\n",
    "First I will start with the Undersampling and will try to classify using these Models\n",
    "1. Decision Tree Classifier/ Random Forest Classifier\n",
    "\n",
    "2. Logistic regression\n",
    "\n",
    "3. SVM\n",
    "\n",
    "4. XGboost"
   ]
  },
  {
   "cell_type": "code",
   "execution_count": 3,
   "metadata": {
    "_cell_guid": "73c46801-7f23-67a2-47e8-03256085f659"
   },
   "outputs": [],
   "source": [
    "# This Python 3 environment comes with many helpful analytics libraries installed\n",
    "# It is defined by the kaggle/python docker image: https://github.com/kaggle/docker-python\n",
    "# For example, here's several helpful packages to load in \n",
    "\n",
    "import numpy as np # linear algebra\n",
    "import pandas as pd # data processing, CSV file I/O (e.g. pd.read_csv)\n",
    "\n",
    "# Input data files are available in the \"../input/\" directory.\n",
    "# For example, running this (by clicking run or pressing Shift+Enter) will list the files in the input directory\n",
    "\n",
    "# from subprocess import check_output\n",
    "# print(check_output([\"ls\", \"../input\"]).decode(\"utf8\"))\n",
    "\n",
    "# Any results you write to the current directory are saved as output."
   ]
  },
  {
   "cell_type": "markdown",
   "metadata": {
    "_cell_guid": "228eec75-5856-5411-7e59-a4d419c2e520"
   },
   "source": [
    "###Lets start with Importing Libraries and data"
   ]
  },
  {
   "cell_type": "code",
   "execution_count": 4,
   "metadata": {
    "_cell_guid": "7acc51d2-e9db-908f-9b91-386e23629483"
   },
   "outputs": [
    {
     "name": "stderr",
     "output_type": "stream",
     "text": [
      "/usr/local/lib/python3.6/dist-packages/sklearn/ensemble/weight_boosting.py:29: DeprecationWarning: numpy.core.umath_tests is an internal NumPy module and should not be imported. It will be removed in a future NumPy release.\n",
      "  from numpy.core.umath_tests import inner1d\n",
      "/usr/local/lib/python3.6/dist-packages/sklearn/cross_validation.py:41: DeprecationWarning: This module was deprecated in version 0.18 in favor of the model_selection module into which all the refactored classes and functions are moved. Also note that the interface of the new CV iterators are different from that of this module. This module will be removed in 0.20.\n",
      "  \"This module will be removed in 0.20.\", DeprecationWarning)\n"
     ]
    }
   ],
   "source": [
    "import pandas as pd # to import csv and for data manipulation\n",
    "import matplotlib.pyplot as plt # to plot graph\n",
    "import seaborn as sns # for intractve graphs\n",
    "import numpy as np # for linear algebra\n",
    "import datetime # to dela with date and time\n",
    "%matplotlib inline\n",
    "from sklearn.preprocessing import StandardScaler # for preprocessing the data\n",
    "from sklearn.ensemble import RandomForestClassifier # Random forest classifier\n",
    "from sklearn.tree import DecisionTreeClassifier # for Decision Tree classifier\n",
    "from sklearn.svm import SVC # for SVM classification\n",
    "from sklearn.linear_model import LogisticRegression\n",
    "from sklearn.cross_validation import train_test_split # to split the data\n",
    "from sklearn.cross_validation import KFold # For cross vbalidation\n",
    "from sklearn.model_selection import GridSearchCV # for tunnig hyper parameter it will use all combination of given parameters\n",
    "from sklearn.model_selection import RandomizedSearchCV # same for tunning hyper parameter but will use random combinations of parameters\n",
    "from sklearn.metrics import confusion_matrix,recall_score,precision_recall_curve,auc,roc_curve,roc_auc_score,classification_report\n",
    "import warnings\n",
    "warnings.filterwarnings('ignore')"
   ]
  },
  {
   "cell_type": "code",
   "execution_count": null,
   "metadata": {
    "_cell_guid": "83f83459-d9f6-e2fd-9d11-77ee19a48ff0"
   },
   "outputs": [],
   "source": [
    "data = pd.read_csv(\"../input/creditcard.csv\",header = 0)"
   ]
  },
  {
   "cell_type": "markdown",
   "metadata": {
    "_cell_guid": "9022d43c-a547-8ab0-bbfc-dab6fb4b7c11"
   },
   "source": [
    "####Now explore the data to get insight in it"
   ]
  },
  {
   "cell_type": "code",
   "execution_count": null,
   "metadata": {
    "_cell_guid": "be938861-a429-3bd1-eb90-45b7616770ee"
   },
   "outputs": [],
   "source": [
    "data.info()"
   ]
  },
  {
   "cell_type": "markdown",
   "metadata": {
    "_cell_guid": "6a3e8d76-0840-cf04-d4f1-e68ffddd442f"
   },
   "source": [
    "1. Hence we can see there are 284,807 rows and 31 columns which is a huge data\n",
    "2.  Time is also in float here mean it can be only seconds starting from a particular time"
   ]
  },
  {
   "cell_type": "code",
   "execution_count": null,
   "metadata": {
    "_cell_guid": "03b4ce97-1f9f-ab4a-bcda-18afa1e775e6"
   },
   "outputs": [],
   "source": [
    "# Now lets check the class distributions\n",
    "sns.countplot(\"Class\",data=data)"
   ]
  },
  {
   "cell_type": "markdown",
   "metadata": {
    "_cell_guid": "b07af191-1a1b-27fb-9b3c-462f2df5cf20"
   },
   "source": [
    "1. As we know data is imbalanced and this graph also confirmed it "
   ]
  },
  {
   "cell_type": "code",
   "execution_count": null,
   "metadata": {
    "_cell_guid": "8c79df42-9432-e39e-cb27-6c53245f9ac5"
   },
   "outputs": [],
   "source": [
    "# now let us check in the number of Percentage\n",
    "Count_Normal_transacation = len(data[data[\"Class\"]==0]) # normal transaction are repersented by 0\n",
    "Count_Fraud_transacation = len(data[data[\"Class\"]==1]) # fraud by 1\n",
    "Percentage_of_Normal_transacation = Count_Normal_transacation/(Count_Normal_transacation+Count_Fraud_transacation)\n",
    "print(\"percentage of normal transacation is\",Percentage_of_Normal_transacation*100)\n",
    "Percentage_of_Fraud_transacation= Count_Fraud_transacation/(Count_Normal_transacation+Count_Fraud_transacation)\n",
    "print(\"percentage of fraud transacation\",Percentage_of_Fraud_transacation*100)"
   ]
  },
  {
   "cell_type": "markdown",
   "metadata": {
    "_cell_guid": "6bdeb418-1ad4-4101-a97f-218cad9d60b7"
   },
   "source": [
    "1. Hence in data there is only 0.17 % are the fraud transcation while 99.83 are valid transcation\n",
    "2. So now we have to do resampling of this data\n",
    "3. before doing resampling lets have look at the amount related to valid transcation and fraud transcation"
   ]
  },
  {
   "cell_type": "code",
   "execution_count": null,
   "metadata": {
    "_cell_guid": "29942ac2-ea51-aa4f-ae2f-4d245908fb45"
   },
   "outputs": [],
   "source": [
    "Fraud_transacation = data[data[\"Class\"]==1]\n",
    "Normal_transacation= data[data[\"Class\"]==0]\n",
    "plt.figure(figsize=(10,6))\n",
    "plt.subplot(121)\n",
    "Fraud_transacation.Amount.plot.hist(title=\"Fraud Transacation\")\n",
    "plt.subplot(122)\n",
    "Normal_transacation.Amount.plot.hist(title=\"Normal Transaction\")"
   ]
  },
  {
   "cell_type": "code",
   "execution_count": null,
   "metadata": {
    "_cell_guid": "1c54fd02-d25e-0763-5c15-b35e3b0df4d2"
   },
   "outputs": [],
   "source": [
    "# the distribution for Normal transction is not clear and it seams that all transaction are less than 2.5 K\n",
    "# So plot graph for same \n",
    "Fraud_transacation = data[data[\"Class\"]==1]\n",
    "Normal_transacation= data[data[\"Class\"]==0]\n",
    "plt.figure(figsize=(10,6))\n",
    "plt.subplot(121)\n",
    "Fraud_transacation[Fraud_transacation[\"Amount\"]<= 2500].Amount.plot.hist(title=\"Fraud Tranascation\")\n",
    "plt.subplot(122)\n",
    "Normal_transacation[Normal_transacation[\"Amount\"]<=2500].Amount.plot.hist(title=\"Normal Transaction\")"
   ]
  },
  {
   "cell_type": "markdown",
   "metadata": {
    "_cell_guid": "bf6856cc-3e0a-5579-b901-83bd51f3ffc4"
   },
   "source": [
    "1. Here now after exploring data we can say there is no pattern in data\n",
    "2. Now lets start with resmapling of data"
   ]
  },
  {
   "cell_type": "markdown",
   "metadata": {
    "_cell_guid": "e7c06498-d474-1e15-ef69-7ead60df63c6"
   },
   "source": [
    "###ReSampling - Under Sampling"
   ]
  },
  {
   "cell_type": "markdown",
   "metadata": {
    "_cell_guid": "08fb5763-fadd-e215-0ad4-33c9ee97ec7b"
   },
   "source": [
    "Before re sampling lets have look at the different accuracy matrices\n",
    "\n",
    "Accuracy = TP+TN/Total\n",
    "\n",
    "Precison = TP/(TP+FP)\n",
    "\n",
    "Recall = TP/(TP+FN)\n",
    "\n",
    "TP = True possitive means no of possitve cases which are predicted possitive\n",
    "\n",
    "TN = True negative means no of negative cases which are predicted negative\n",
    "\n",
    "FP = False possitve means no of negative cases which are predicted possitive\n",
    "\n",
    "FN= False Negative means no of possitive cases which are predicted negative\n",
    "\n",
    "Now for our case recall will be a better option because in these case no of normal transacations will be very high than the no of fraud cases and sometime a fraud case will be predicted as normal. So, recall will give us a sense of only fraud cases\n",
    "\n",
    "Resampling\n",
    "\n",
    "in this we will resample our data with different size\n",
    "\n",
    "then we will try to use this resampled data to train our model\n",
    "\n",
    "then we will use this model to predict for our original data"
   ]
  },
  {
   "cell_type": "code",
   "execution_count": null,
   "metadata": {
    "_cell_guid": "df60d504-c140-7de8-9343-bb7a4c4eb7e7"
   },
   "outputs": [],
   "source": [
    "# for undersampling we need a portion of majority class and will take whole data of minority class\n",
    "# count fraud transaction is the total number of fraud transaction\n",
    "# now lets us see the index of fraud cases\n",
    "fraud_indices= np.array(data[data.Class==1].index)\n",
    "normal_indices = np.array(data[data.Class==0].index)\n",
    "#now let us a define a function for make undersample data with different proportion\n",
    "#different proportion means with different proportion of normal classes of data\n",
    "def undersample(normal_indices,fraud_indices,times):#times denote the normal data = times*fraud data\n",
    "    Normal_indices_undersample = np.array(np.random.choice(normal_indices,(times*Count_Fraud_transacation),replace=False))\n",
    "    undersample_data= np.concatenate([fraud_indices,Normal_indices_undersample])\n",
    "    undersample_data = data.iloc[undersample_data,:]\n",
    "    \n",
    "    print(\"the normal transacation proportion is :\",len(undersample_data[undersample_data.Class==0])/len(undersample_data[undersample_data.Class]))\n",
    "    print(\"the fraud transacation proportion is :\",len(undersample_data[undersample_data.Class==1])/len(undersample_data[undersample_data.Class]))\n",
    "    print(\"total number of record in resampled data is:\",len(undersample_data[undersample_data.Class]))\n",
    "    return(undersample_data)"
   ]
  },
  {
   "cell_type": "code",
   "execution_count": null,
   "metadata": {
    "_cell_guid": "12f3b2ed-4231-cddc-9959-d13491af2497"
   },
   "outputs": [],
   "source": [
    "## first make a model function for modeling with confusion matrix\n",
    "def model(model,features_train,features_test,labels_train,labels_test):\n",
    "    clf= model\n",
    "    clf.fit(features_train,labels_train.values.ravel())\n",
    "    pred=clf.predict(features_test)\n",
    "    cnf_matrix=confusion_matrix(labels_test,pred)\n",
    "    print(\"the recall for this model is :\",cnf_matrix[1,1]/(cnf_matrix[1,1]+cnf_matrix[1,0]))\n",
    "    fig= plt.figure(figsize=(6,3))# to plot the graph\n",
    "    print(\"TP\",cnf_matrix[1,1,]) # no of fraud transaction which are predicted fraud\n",
    "    print(\"TN\",cnf_matrix[0,0]) # no. of normal transaction which are predited normal\n",
    "    print(\"FP\",cnf_matrix[0,1]) # no of normal transaction which are predicted fraud\n",
    "    print(\"FN\",cnf_matrix[1,0]) # no of fraud Transaction which are predicted normal\n",
    "    sns.heatmap(cnf_matrix,cmap=\"coolwarm_r\",annot=True,linewidths=0.5)\n",
    "    plt.title(\"Confusion_matrix\")\n",
    "    plt.xlabel(\"Predicted_class\")\n",
    "    plt.ylabel(\"Real class\")\n",
    "    plt.show()\n",
    "    print(\"\\n----------Classification Report------------------------------------\")\n",
    "    print(classification_report(labels_test,pred))\n",
    "    "
   ]
  },
  {
   "cell_type": "code",
   "execution_count": 8,
   "metadata": {
    "_cell_guid": "4990e8ea-0e93-342c-4c1a-39117c1814d3"
   },
   "outputs": [],
   "source": [
    "def data_prepration(x): # preparing data for training and testing as we are going to use different data \n",
    "    #again and again so make a function\n",
    "    x_features= x.ix[:,x.columns != \"Class\"]\n",
    "    x_labels=x.ix[:,x.columns==\"Class\"]\n",
    "    x_features_train,x_features_test,x_labels_train,x_labels_test = train_test_split(x_features,x_labels,test_size=0.3)\n",
    "    print(\"length of training data\")\n",
    "    print(len(x_features_train))\n",
    "    print(\"length of test data\")\n",
    "    print(len(x_features_test))\n",
    "    return(x_features_train,x_features_test,x_labels_train,x_labels_test)"
   ]
  },
  {
   "cell_type": "code",
   "execution_count": null,
   "metadata": {
    "_cell_guid": "8c5529ce-71ca-b24b-b544-e3d1443115f9"
   },
   "outputs": [],
   "source": [
    "# before starting we should standridze our ampount column\n",
    "data[\"Normalized Amount\"] = StandardScaler().fit_transform(data['Amount'].reshape(-1, 1))\n",
    "data.drop([\"Time\",\"Amount\"],axis=1,inplace=True)\n",
    "data.head()"
   ]
  },
  {
   "cell_type": "markdown",
   "metadata": {
    "_cell_guid": "95e5165c-4ad8-1a17-021c-9024c26bd80a"
   },
   "source": [
    "### Logistic Regression with Undersample Data"
   ]
  },
  {
   "cell_type": "code",
   "execution_count": null,
   "metadata": {
    "_cell_guid": "cebaabc9-548c-81b1-c0bf-e0ef638cab2a"
   },
   "outputs": [],
   "source": [
    "# Now make undersample data with differnt portion\n",
    "# here i will take normal trasaction in  0..5 %, 0.66% and 0.75 % proportion of total data now do this for \n",
    "for i in range(1,4):\n",
    "    print(\"the undersample data for {} proportion\".format(i))\n",
    "    print()\n",
    "    Undersample_data = undersample(normal_indices,fraud_indices,i)\n",
    "    print(\"------------------------------------------------------------\")\n",
    "    print()\n",
    "    print(\"the model classification for {} proportion\".format(i))\n",
    "    print()\n",
    "    undersample_features_train,undersample_features_test,undersample_labels_train,undersample_labels_test=data_prepration(Undersample_data)\n",
    "    print()\n",
    "    clf=LogisticRegression()\n",
    "    model(clf,undersample_features_train,undersample_features_test,undersample_labels_train,undersample_labels_test)\n",
    "    print(\"________________________________________________________________________________________________________\")\n",
    "    \n",
    "# here 1st proportion conatain 50% normal transaction\n",
    "#Proportion 2nd contains 66% noraml transaction\n",
    "#proportion 3rd contains 75 % normal transaction"
   ]
  },
  {
   "cell_type": "markdown",
   "metadata": {
    "_cell_guid": "6dc3fc4b-a979-60ce-5c86-e2d912b65e57"
   },
   "source": [
    " 1. As the number of normal transaction is increasing the recall for fraud transcation is decreasing\n",
    " 2. TP = no of fraud transaction which are predicted fraud\n",
    " 3.  TN = no. of normal transaction which are predicted normal\n",
    " 4.  FP =  no of normal transaction which are predicted fraud\n",
    " 5.  FN =no of fraud Transaction which are predicted normal"
   ]
  },
  {
   "cell_type": "code",
   "execution_count": null,
   "metadata": {
    "_cell_guid": "8386da63-0882-bc9c-e84b-c679d307c341"
   },
   "outputs": [],
   "source": [
    "#let us train this model using undersample data and test for the whole data test set \n",
    "for i in range(1,4):\n",
    "    print(\"the undersample data for {} proportion\".format(i))\n",
    "    print()\n",
    "    Undersample_data = undersample(normal_indices,fraud_indices,i)\n",
    "    print(\"------------------------------------------------------------\")\n",
    "    print()\n",
    "    print(\"the model classification for {} proportion\".format(i))\n",
    "    print()\n",
    "    undersample_features_train,undersample_features_test,undersample_labels_train,undersample_labels_test=data_prepration(Undersample_data)\n",
    "    data_features_train,data_features_test,data_labels_train,data_labels_test=data_prepration(data) \n",
    "    #the partion for whole data\n",
    "    print()\n",
    "    clf=LogisticRegression()\n",
    "    model(clf,undersample_features_train,data_features_test,undersample_labels_train,data_labels_test)\n",
    "    # here training for the undersample data but tatsing for whole data\n",
    "    print(\"_________________________________________________________________________________________\")"
   ]
  },
  {
   "cell_type": "markdown",
   "metadata": {
    "_cell_guid": "f7d70d65-2785-06aa-781a-334052095a1d"
   },
   "source": [
    "1. Here we can see it is following same recall pattern as it  was for under sample data that's sounds good but if we have look at the precision is very less\n",
    "\n",
    "2. So we should built a model which is correct overall\n",
    "\n",
    "3. Precision is less means we are predicting other class wrong like as for our third part  there were 953 transaction are predicted fraud it means we and recall is good then it means we are catching fraud transaction very well but we are catching innocent transaction also i.e which are not fraud.\n",
    "\n",
    "4. So with recall our precision should be better\n",
    "\n",
    "5. if we go by this model then we are going to put 953 innocents in jail with the all criminal who have actually done this\n",
    "6. Hence we are mainly lacking in the precision how can we increase our precision\n",
    "7. Don't get confuse with above output showing that the two training data and two test data first one is for undersample data  while another one is for our whole data"
   ]
  },
  {
   "cell_type": "markdown",
   "metadata": {
    "_cell_guid": "f375e55d-d9c6-6e87-6d60-b18afc2e65b2"
   },
   "source": [
    "1.**Try with SVM and then Random Forest in same Manner**\n",
    "\n",
    "2. from Random forest we can get which features are more important"
   ]
  },
  {
   "cell_type": "markdown",
   "metadata": {
    "_cell_guid": "45540e79-c2e0-4b52-6b55-5e3c8bb2f397"
   },
   "source": [
    "*SVM with Undersample data*"
   ]
  },
  {
   "cell_type": "code",
   "execution_count": null,
   "metadata": {
    "_cell_guid": "ff78a5e3-dd54-5626-b505-9022a21690c5"
   },
   "outputs": [],
   "source": [
    "for i in range(1,4):\n",
    "    print(\"the undersample data for {} proportion\".format(i))\n",
    "    print()\n",
    "    Undersample_data = undersample(normal_indices,fraud_indices,i)\n",
    "    print(\"------------------------------------------------------------\")\n",
    "    print()\n",
    "    print(\"the model classification for {} proportion\".format(i))\n",
    "    print()\n",
    "    undersample_features_train,undersample_features_test,undersample_labels_train,undersample_labels_test=data_prepration(Undersample_data)\n",
    "    print()\n",
    "    clf= SVC()# here we are just changing classifier\n",
    "    model(clf,undersample_features_train,undersample_features_test,undersample_labels_train,undersample_labels_test)\n",
    "    print(\"________________________________________________________________________________________________________\")\n",
    "    "
   ]
  },
  {
   "cell_type": "markdown",
   "metadata": {
    "_cell_guid": "6f479f7b-48de-778a-bae3-85fafa34f5a1"
   },
   "source": [
    "1. Here recall and precision are approximately equal to Logistic Regression \n",
    "\n",
    "2. Lets try for whole data"
   ]
  },
  {
   "cell_type": "code",
   "execution_count": null,
   "metadata": {
    "_cell_guid": "421e574f-9fc1-af06-b54d-ce2dd2d6b51d"
   },
   "outputs": [],
   "source": [
    "#let us train this model using undersample data and test for the whole data test set \n",
    "for i in range(1,4):\n",
    "    print(\"the undersample data for {} proportion\".format(i))\n",
    "    print()\n",
    "    Undersample_data = undersample(normal_indices,fraud_indices,i)\n",
    "    print(\"------------------------------------------------------------\")\n",
    "    print()\n",
    "    print(\"the model classification for {} proportion\".format(i))\n",
    "    print()\n",
    "    undersample_features_train,undersample_features_test,undersample_labels_train,undersample_labels_test=data_prepration(Undersample_data)\n",
    "    data_features_train,data_features_test,data_labels_train,data_labels_test=data_prepration(data) \n",
    "    #the partion for whole data\n",
    "    print()\n",
    "    clf=SVC()\n",
    "    model(clf,undersample_features_train,data_features_test,undersample_labels_train,data_labels_test)\n",
    "    # here training for the undersample data but tatsing for whole data\n",
    "    print(\"_________________________________________________________________________________________\")"
   ]
  },
  {
   "cell_type": "markdown",
   "metadata": {
    "_cell_guid": "35809c9d-f0ed-bffb-5a5d-4276b8baf8e8"
   },
   "source": [
    "1. A better recall but precision is not improving much \n",
    "\n",
    "2 .so to improve precision we must have to tune the  hyper parameter of these models\n",
    "\n",
    "3 That I will do in next version \n",
    "\n",
    "4 For now lets try with my favorite Random Forest classifier "
   ]
  },
  {
   "cell_type": "code",
   "execution_count": null,
   "metadata": {
    "_cell_guid": "3a5628e6-25ce-f859-129e-08c2af9f1c91"
   },
   "outputs": [],
   "source": [
    "# Random Forest Classifier with undersample data only\n",
    "for i in range(1,4):\n",
    "    print(\"the undersample data for {} proportion\".format(i))\n",
    "    print()\n",
    "    Undersample_data = undersample(normal_indices,fraud_indices,i)\n",
    "    print(\"------------------------------------------------------------\")\n",
    "    print()\n",
    "    print(\"the model classification for {} proportion\".format(i))\n",
    "    print()\n",
    "    undersample_features_train,undersample_features_test,undersample_labels_train,undersample_labels_test=data_prepration(Undersample_data)\n",
    "    print()\n",
    "    clf= RandomForestClassifier(n_estimators=100)# here we are just changing classifier\n",
    "    model(clf,undersample_features_train,undersample_features_test,undersample_labels_train,undersample_labels_test)\n",
    "    print(\"________________________________________________________________________________________________________\")\n",
    "    "
   ]
  },
  {
   "cell_type": "code",
   "execution_count": null,
   "metadata": {
    "_cell_guid": "15036191-41bd-e56f-027b-de4f22814380"
   },
   "outputs": [],
   "source": [
    "#let us train this model using undersample data and test for the whole data test set \n",
    "for i in range(1,4):\n",
    "    print(\"the undersample data for {} proportion\".format(i))\n",
    "    print()\n",
    "    Undersample_data = undersample(normal_indices,fraud_indices,i)\n",
    "    print(\"------------------------------------------------------------\")\n",
    "    print()\n",
    "    print(\"the model classification for {} proportion\".format(i))\n",
    "    print()\n",
    "    undersample_features_train,undersample_features_test,undersample_labels_train,undersample_labels_test=data_prepration(Undersample_data)\n",
    "    data_features_train,data_features_test,data_labels_train,data_labels_test=data_prepration(data) \n",
    "    #the partion for whole data\n",
    "    print()\n",
    "    clf=RandomForestClassifier(n_estimators=100)\n",
    "    model(clf,undersample_features_train,data_features_test,undersample_labels_train,data_labels_test)\n",
    "    # here training for the undersample data but tatsing for whole data\n",
    "    print(\"_________________________________________________________________________________________\")"
   ]
  },
  {
   "cell_type": "markdown",
   "metadata": {
    "_cell_guid": "281c3b33-2a4f-fa5b-b683-bcc9b8620a4b"
   },
   "source": [
    "1. for the third proportion the precision is 0.33 which is better than others\n",
    "\n",
    "2. Lets try to get only import features using  Random Forest Classifier \n",
    "\n",
    "3. After it i will do analysis only for one portion that is 0.5 %"
   ]
  },
  {
   "cell_type": "code",
   "execution_count": null,
   "metadata": {
    "_cell_guid": "4d65aa61-7029-01cc-f1ff-90b919e86375"
   },
   "outputs": [],
   "source": [
    "featimp = pd.Series(clf.feature_importances_,index=data_features_train.columns).sort_values(ascending=False)\n",
    "print(featimp) # this is the property of Random Forest classifier that it provide us the importance \n",
    "# of the features use"
   ]
  },
  {
   "cell_type": "markdown",
   "metadata": {
    "_cell_guid": "e2bd6d67-b2d6-c115-0fa4-dd79467b3274"
   },
   "source": [
    "1.  we can see this is showing the importance of feature for the making decision \n",
    "\n",
    "2. V14 is having a very good importance compare to other features\n",
    "\n",
    "3. Lets use only top 5 (V14,V10,V12,V17,V4) feature to predict using Random forest classifier only for 0.5 % "
   ]
  },
  {
   "cell_type": "code",
   "execution_count": null,
   "metadata": {
    "_cell_guid": "609033b6-4bb4-e70c-98cc-308e66146c9b"
   },
   "outputs": [],
   "source": [
    "# make a new data with only class and V14\n",
    "data1=data[[\"V14\",\"V10\",\"V12\",\"V17\",\"V4\",\"Class\"]]\n",
    "data1.head()"
   ]
  },
  {
   "cell_type": "code",
   "execution_count": null,
   "metadata": {
    "_cell_guid": "73f9712b-81d4-beed-611e-519d885e6519"
   },
   "outputs": [],
   "source": [
    "Undersample_data1 = undersample(normal_indices,fraud_indices,1)\n",
    "#only for 50 % proportion it means normal transaction and fraud transaction are equal so passing \n",
    "Undersample_data1_features_train,Undersample_data1_features_test,Undersample_data1_labels_train,Undersample_data1_labels_test = data_prepration(Undersample_data1)"
   ]
  },
  {
   "cell_type": "code",
   "execution_count": null,
   "metadata": {
    "_cell_guid": "c4be1eb4-38d4-4aad-7ed6-ecc0a6965c8a"
   },
   "outputs": [],
   "source": [
    "clf= RandomForestClassifier(n_estimators=100)\n",
    "model(clf,Undersample_data1_features_train,Undersample_data1_features_test,Undersample_data1_labels_train,Undersample_data1_labels_test)"
   ]
  },
  {
   "cell_type": "markdown",
   "metadata": {
    "_cell_guid": "651a09d1-bc75-e3bf-7c7f-743b832bbd05"
   },
   "source": [
    "###Over Sampling"
   ]
  },
  {
   "cell_type": "markdown",
   "metadata": {
    "_cell_guid": "d81c2e60-996a-cfe1-29eb-99f389184875"
   },
   "source": [
    " 1. In my previous version I got the 100 recall and 98 % precision by using Random forest with the over sampled data but in real it was due to over fitting because i was taking whole fraud data and was training for that and I was doing the testing on the same data.\n",
    "\n",
    " 2. Please find link of previous version for more understanding [Link](https://www.kaggle.com/gargmanish/d/dalpozz/creditcardfraud/fraud-detection-100-recall-98-precision/run/1033018)\n",
    "\n",
    "3. Thanks to Mr. Dominik Stuerzer for help "
   ]
  },
  {
   "cell_type": "code",
   "execution_count": null,
   "metadata": {
    "_cell_guid": "790cdeb8-dcb6-42f2-7d1c-88745940a019"
   },
   "outputs": [],
   "source": [
    "# now we will divied our data sets into two part and we will train and test and will oversample the train data and predict for test data\n",
    "# lets import data again\n",
    "data = pd.read_csv(\"../input/creditcard.csv\",header = 0)\n",
    "print(\"length of training data\",len(data))\n",
    "print(\"length of normal data\",len(data[data[\"Class\"]==0]))\n",
    "print(\"length of fraud  data\",len(data[data[\"Class\"]==1]))"
   ]
  },
  {
   "cell_type": "code",
   "execution_count": null,
   "metadata": {
    "_cell_guid": "18eb81f6-3851-3e3f-bb1b-b50b0d3b34f3"
   },
   "outputs": [],
   "source": [
    "data_train_X,data_test_X,data_train_y,data_test_y=data_prepration(data)\n",
    "data_train_X.columns\n",
    "data_train_y.columns"
   ]
  },
  {
   "cell_type": "code",
   "execution_count": null,
   "metadata": {
    "_cell_guid": "1507f0e1-ef07-8565-da7a-65e22b5b87ee"
   },
   "outputs": [],
   "source": [
    "# ok Now we have a traing data\n",
    "data_train_X[\"Class\"]= data_train_y[\"Class\"] # combining class with original data\n",
    "data_train = data_train_X.copy() # for naming conevntion\n",
    "print(\"length of training data\",len(data_train))\n",
    "# Now make data set of normal transction from train data\n",
    "normal_data = data_train[data_train[\"Class\"]==0]\n",
    "print(\"length of normal data\",len(normal_data))\n",
    "fraud_data = data_train[data_train[\"Class\"]==1]\n",
    "print(\"length of fraud data\",len(fraud_data))"
   ]
  },
  {
   "cell_type": "code",
   "execution_count": null,
   "metadata": {
    "_cell_guid": "29c2774c-9633-c9a1-1d71-c86eb92506f2"
   },
   "outputs": [],
   "source": [
    "# Now start oversamoling of training data \n",
    "# means we will duplicate many times the value of fraud data\n",
    "for i in range (365): # the number is choosen by myself on basis of nnumber of fraud transaction\n",
    "    normal_data= normal_data.append(fraud_data)\n",
    "os_data = normal_data.copy() \n",
    "print(\"length of oversampled data is \",len(os_data))\n",
    "print(\"Number of normal transcation in oversampled data\",len(os_data[os_data[\"Class\"]==0]))\n",
    "print(\"No.of fraud transcation\",len(os_data[os_data[\"Class\"]==1]))\n",
    "print(\"Proportion of Normal data in oversampled data is \",len(os_data[os_data[\"Class\"]==0])/len(os_data))\n",
    "print(\"Proportion of fraud data in oversampled data is \",len(os_data[os_data[\"Class\"]==1])/len(os_data))"
   ]
  },
  {
   "cell_type": "markdown",
   "metadata": {
    "_cell_guid": "7db27f2c-d6fb-d903-932f-2db782c8e43f"
   },
   "source": [
    " 1. The proportion now becomes the 60 % and 40 % that is good now"
   ]
  },
  {
   "cell_type": "code",
   "execution_count": null,
   "metadata": {
    "_cell_guid": "2d1ab58d-f74f-93da-a441-11f9e130b600"
   },
   "outputs": [],
   "source": [
    "# before applying any model standerdize our data amount \n",
    "os_data[\"Normalized Amount\"] = StandardScaler().fit_transform(os_data['Amount'].reshape(-1, 1))\n",
    "os_data.drop([\"Time\",\"Amount\"],axis=1,inplace=True)\n",
    "os_data.head()\n"
   ]
  },
  {
   "cell_type": "code",
   "execution_count": null,
   "metadata": {
    "_cell_guid": "9ba7423e-7d1f-b1cc-81f9-a5c18e35fcfe"
   },
   "outputs": [],
   "source": [
    "# Now use this oversampled data for trainig the model and predict value for the test data that we created before\n",
    "# now let us try within the the oversampled data itself\n",
    "# for that we need to split our oversampled data into train and test\n",
    "# so call our function data Prepration with oversampled data\n",
    "os_train_X,os_test_X,os_train_y,os_test_y=data_prepration(os_data)\n",
    "clf= RandomForestClassifier(n_estimators=100)\n",
    "model(clf,os_train_X,os_test_X,os_train_y,os_test_y)"
   ]
  },
  {
   "cell_type": "markdown",
   "metadata": {
    "_cell_guid": "5d82cb81-3be2-0c73-74e6-0ee28311398f"
   },
   "source": [
    "**Observations**\n",
    "\n",
    " 1. As it have too many sample of  same fraud data so may be the all which are present in train data are present in test data also so we can say it is over fitting \n",
    " 2. So lets try with test data that one which we created in starting of oversampling segment no fraud transaction from that data have been repeated here\n",
    " 3. Lets try\n",
    "\n",
    " "
   ]
  },
  {
   "cell_type": "code",
   "execution_count": null,
   "metadata": {
    "_cell_guid": "afbe419c-4309-51d9-e860-6730afbdae95"
   },
   "outputs": [],
   "source": [
    "# now take all over sampled data as trainging and test it for test data\n",
    "os_data_X = os_data.ix[:,os_data.columns != \"Class\"]\n",
    "os_data_y = os_data.ix[:,os_data.columns == \"Class\"]\n",
    "#for that we have to standrdize the normal amount and drop the time from it\n",
    "data_test_X[\"Normalized Amount\"] = StandardScaler().fit_transform(data_test_X['Amount'].reshape(-1, 1))\n",
    "data_test_X.drop([\"Time\",\"Amount\"],axis=1,inplace=True)\n",
    "data_test_X.head()\n",
    "\n"
   ]
  },
  {
   "cell_type": "code",
   "execution_count": null,
   "metadata": {
    "_cell_guid": "caea4e43-aa7d-c1f6-04a0-be33c13d503e"
   },
   "outputs": [],
   "source": [
    "# now use it for modeling\n",
    "clf= RandomForestClassifier(n_estimators=100)\n",
    "model(clf,os_data_X,data_test_X,os_data_y,data_test_y)"
   ]
  },
  {
   "cell_type": "markdown",
   "metadata": {
    "_cell_guid": "5f625858-5e45-49c3-bb44-8e6c66daffd7"
   },
   "source": [
    "**Observations**\n",
    "\n",
    " 1. Now here we can see recall decrease to only 83 % which is not bad  but not good also\n",
    " 2. The precision is 0.93 which is good \n",
    " 3. from these observation we can say that the oversampling is better than the Under sampling because on Under sampling we were loosing a large amount of data or we can say a good amount of information so why the there precision was very low "
   ]
  },
  {
   "cell_type": "markdown",
   "metadata": {
    "_cell_guid": "5c41995b-c8fa-554c-92a3-b2076522917c"
   },
   "source": [
    "###SMOTE"
   ]
  },
  {
   "cell_type": "code",
   "execution_count": 6,
   "metadata": {
    "_cell_guid": "54995fac-4954-1b8c-948d-466017159b0d"
   },
   "outputs": [],
   "source": [
    "# Lets Use SMOTE for Sampling\n",
    "# As I mentioned it is also a type of oversampling but in this the data is not replicated but they are created \n",
    "#lets start with importing libraries\n",
    "from imblearn.over_sampling import SMOTE\n",
    "data = pd.read_csv('/home/karen/Downloads/data/creditcard.csv')"
   ]
  },
  {
   "cell_type": "code",
   "execution_count": 9,
   "metadata": {
    "_cell_guid": "9cc6383f-5f47-511a-ef25-8da061390d34"
   },
   "outputs": [
    {
     "name": "stdout",
     "output_type": "stream",
     "text": [
      "length of training data\n",
      "199364\n",
      "length of test data\n",
      "85443\n"
     ]
    },
    {
     "data": {
      "text/html": [
       "<div>\n",
       "<style scoped>\n",
       "    .dataframe tbody tr th:only-of-type {\n",
       "        vertical-align: middle;\n",
       "    }\n",
       "\n",
       "    .dataframe tbody tr th {\n",
       "        vertical-align: top;\n",
       "    }\n",
       "\n",
       "    .dataframe thead th {\n",
       "        text-align: right;\n",
       "    }\n",
       "</style>\n",
       "<table border=\"1\" class=\"dataframe\">\n",
       "  <thead>\n",
       "    <tr style=\"text-align: right;\">\n",
       "      <th></th>\n",
       "      <th>Time</th>\n",
       "      <th>V1</th>\n",
       "      <th>V2</th>\n",
       "      <th>V3</th>\n",
       "      <th>V4</th>\n",
       "      <th>V5</th>\n",
       "      <th>V6</th>\n",
       "      <th>V7</th>\n",
       "      <th>V8</th>\n",
       "      <th>V9</th>\n",
       "      <th>...</th>\n",
       "      <th>V20</th>\n",
       "      <th>V21</th>\n",
       "      <th>V22</th>\n",
       "      <th>V23</th>\n",
       "      <th>V24</th>\n",
       "      <th>V25</th>\n",
       "      <th>V26</th>\n",
       "      <th>V27</th>\n",
       "      <th>V28</th>\n",
       "      <th>Amount</th>\n",
       "    </tr>\n",
       "  </thead>\n",
       "  <tbody>\n",
       "    <tr>\n",
       "      <th>59527</th>\n",
       "      <td>48877.0</td>\n",
       "      <td>-6.978554</td>\n",
       "      <td>-9.879675</td>\n",
       "      <td>1.183578</td>\n",
       "      <td>0.930235</td>\n",
       "      <td>8.905241</td>\n",
       "      <td>-6.708796</td>\n",
       "      <td>-6.468861</td>\n",
       "      <td>0.851012</td>\n",
       "      <td>-0.379463</td>\n",
       "      <td>...</td>\n",
       "      <td>2.673964</td>\n",
       "      <td>1.025971</td>\n",
       "      <td>-0.064423</td>\n",
       "      <td>1.952380</td>\n",
       "      <td>-0.410440</td>\n",
       "      <td>-0.311646</td>\n",
       "      <td>-0.503266</td>\n",
       "      <td>-0.152654</td>\n",
       "      <td>0.405265</td>\n",
       "      <td>49.90</td>\n",
       "    </tr>\n",
       "    <tr>\n",
       "      <th>140038</th>\n",
       "      <td>83503.0</td>\n",
       "      <td>-1.000328</td>\n",
       "      <td>0.803306</td>\n",
       "      <td>1.472691</td>\n",
       "      <td>-0.668494</td>\n",
       "      <td>1.334672</td>\n",
       "      <td>0.884187</td>\n",
       "      <td>0.654762</td>\n",
       "      <td>0.250317</td>\n",
       "      <td>-0.236518</td>\n",
       "      <td>...</td>\n",
       "      <td>-0.054652</td>\n",
       "      <td>-0.166726</td>\n",
       "      <td>-0.137320</td>\n",
       "      <td>-0.008938</td>\n",
       "      <td>-1.004178</td>\n",
       "      <td>-0.508178</td>\n",
       "      <td>0.035269</td>\n",
       "      <td>0.098128</td>\n",
       "      <td>-0.064813</td>\n",
       "      <td>5.49</td>\n",
       "    </tr>\n",
       "    <tr>\n",
       "      <th>46761</th>\n",
       "      <td>42918.0</td>\n",
       "      <td>-1.053586</td>\n",
       "      <td>1.751584</td>\n",
       "      <td>-0.399480</td>\n",
       "      <td>0.937719</td>\n",
       "      <td>0.166252</td>\n",
       "      <td>-0.516842</td>\n",
       "      <td>-0.105959</td>\n",
       "      <td>0.919722</td>\n",
       "      <td>-0.965212</td>\n",
       "      <td>...</td>\n",
       "      <td>-0.273135</td>\n",
       "      <td>0.150246</td>\n",
       "      <td>0.083346</td>\n",
       "      <td>-0.209223</td>\n",
       "      <td>-0.526845</td>\n",
       "      <td>-0.223745</td>\n",
       "      <td>-0.312433</td>\n",
       "      <td>-0.189101</td>\n",
       "      <td>0.028504</td>\n",
       "      <td>1.00</td>\n",
       "    </tr>\n",
       "    <tr>\n",
       "      <th>35173</th>\n",
       "      <td>37999.0</td>\n",
       "      <td>1.183978</td>\n",
       "      <td>0.126900</td>\n",
       "      <td>0.122566</td>\n",
       "      <td>0.956327</td>\n",
       "      <td>-0.210212</td>\n",
       "      <td>-0.481873</td>\n",
       "      <td>0.029445</td>\n",
       "      <td>0.018734</td>\n",
       "      <td>-0.019574</td>\n",
       "      <td>...</td>\n",
       "      <td>-0.180474</td>\n",
       "      <td>0.051745</td>\n",
       "      <td>0.038692</td>\n",
       "      <td>-0.151973</td>\n",
       "      <td>-0.031709</td>\n",
       "      <td>0.641476</td>\n",
       "      <td>-0.322136</td>\n",
       "      <td>-0.004639</td>\n",
       "      <td>0.007028</td>\n",
       "      <td>24.95</td>\n",
       "    </tr>\n",
       "    <tr>\n",
       "      <th>247348</th>\n",
       "      <td>153547.0</td>\n",
       "      <td>1.886311</td>\n",
       "      <td>2.412406</td>\n",
       "      <td>-4.368648</td>\n",
       "      <td>4.727085</td>\n",
       "      <td>2.487961</td>\n",
       "      <td>-1.910754</td>\n",
       "      <td>1.169682</td>\n",
       "      <td>-0.293231</td>\n",
       "      <td>-2.037806</td>\n",
       "      <td>...</td>\n",
       "      <td>-0.104855</td>\n",
       "      <td>-0.298241</td>\n",
       "      <td>-0.840727</td>\n",
       "      <td>-0.062721</td>\n",
       "      <td>-0.643942</td>\n",
       "      <td>0.227929</td>\n",
       "      <td>0.055117</td>\n",
       "      <td>0.010192</td>\n",
       "      <td>0.101852</td>\n",
       "      <td>0.00</td>\n",
       "    </tr>\n",
       "    <tr>\n",
       "      <th>276864</th>\n",
       "      <td>167338.0</td>\n",
       "      <td>-1.374424</td>\n",
       "      <td>2.793185</td>\n",
       "      <td>-4.346572</td>\n",
       "      <td>2.400731</td>\n",
       "      <td>-1.688433</td>\n",
       "      <td>0.111136</td>\n",
       "      <td>-0.922038</td>\n",
       "      <td>-2.149930</td>\n",
       "      <td>-2.027474</td>\n",
       "      <td>...</td>\n",
       "      <td>0.650196</td>\n",
       "      <td>-0.870779</td>\n",
       "      <td>0.504849</td>\n",
       "      <td>0.137994</td>\n",
       "      <td>0.368275</td>\n",
       "      <td>0.103137</td>\n",
       "      <td>-0.414209</td>\n",
       "      <td>0.454982</td>\n",
       "      <td>0.096711</td>\n",
       "      <td>349.08</td>\n",
       "    </tr>\n",
       "    <tr>\n",
       "      <th>248549</th>\n",
       "      <td>153994.0</td>\n",
       "      <td>0.095326</td>\n",
       "      <td>1.642407</td>\n",
       "      <td>-2.697274</td>\n",
       "      <td>-0.426906</td>\n",
       "      <td>1.889391</td>\n",
       "      <td>-0.982052</td>\n",
       "      <td>1.141789</td>\n",
       "      <td>0.179450</td>\n",
       "      <td>-0.951156</td>\n",
       "      <td>...</td>\n",
       "      <td>-0.196312</td>\n",
       "      <td>0.108170</td>\n",
       "      <td>0.318649</td>\n",
       "      <td>-0.216248</td>\n",
       "      <td>-0.080696</td>\n",
       "      <td>-0.304108</td>\n",
       "      <td>0.530506</td>\n",
       "      <td>-0.067090</td>\n",
       "      <td>0.063194</td>\n",
       "      <td>0.76</td>\n",
       "    </tr>\n",
       "    <tr>\n",
       "      <th>154104</th>\n",
       "      <td>100878.0</td>\n",
       "      <td>1.968809</td>\n",
       "      <td>-0.478381</td>\n",
       "      <td>0.073241</td>\n",
       "      <td>0.448022</td>\n",
       "      <td>-0.756839</td>\n",
       "      <td>0.059953</td>\n",
       "      <td>-1.070714</td>\n",
       "      <td>0.090271</td>\n",
       "      <td>2.724504</td>\n",
       "      <td>...</td>\n",
       "      <td>-0.208883</td>\n",
       "      <td>-0.121400</td>\n",
       "      <td>-0.012648</td>\n",
       "      <td>0.366586</td>\n",
       "      <td>0.626919</td>\n",
       "      <td>-0.627278</td>\n",
       "      <td>0.416082</td>\n",
       "      <td>-0.044798</td>\n",
       "      <td>-0.037999</td>\n",
       "      <td>15.95</td>\n",
       "    </tr>\n",
       "    <tr>\n",
       "      <th>61855</th>\n",
       "      <td>50018.0</td>\n",
       "      <td>1.053805</td>\n",
       "      <td>0.095257</td>\n",
       "      <td>0.400277</td>\n",
       "      <td>1.298162</td>\n",
       "      <td>-0.058923</td>\n",
       "      <td>0.176298</td>\n",
       "      <td>0.060903</td>\n",
       "      <td>0.082305</td>\n",
       "      <td>-0.081108</td>\n",
       "      <td>...</td>\n",
       "      <td>-0.060724</td>\n",
       "      <td>-0.020504</td>\n",
       "      <td>0.095335</td>\n",
       "      <td>-0.114724</td>\n",
       "      <td>0.060106</td>\n",
       "      <td>0.644626</td>\n",
       "      <td>-0.336287</td>\n",
       "      <td>0.034004</td>\n",
       "      <td>0.013570</td>\n",
       "      <td>44.00</td>\n",
       "    </tr>\n",
       "    <tr>\n",
       "      <th>21173</th>\n",
       "      <td>31517.0</td>\n",
       "      <td>1.339833</td>\n",
       "      <td>-0.693010</td>\n",
       "      <td>0.164552</td>\n",
       "      <td>-0.217303</td>\n",
       "      <td>-0.447420</td>\n",
       "      <td>0.893162</td>\n",
       "      <td>-0.866354</td>\n",
       "      <td>0.322574</td>\n",
       "      <td>-0.415560</td>\n",
       "      <td>...</td>\n",
       "      <td>-0.600912</td>\n",
       "      <td>-0.485684</td>\n",
       "      <td>-0.725455</td>\n",
       "      <td>-0.094698</td>\n",
       "      <td>-1.168647</td>\n",
       "      <td>0.453969</td>\n",
       "      <td>0.502260</td>\n",
       "      <td>0.016755</td>\n",
       "      <td>-0.012130</td>\n",
       "      <td>1.00</td>\n",
       "    </tr>\n",
       "    <tr>\n",
       "      <th>54057</th>\n",
       "      <td>46269.0</td>\n",
       "      <td>1.019608</td>\n",
       "      <td>0.264270</td>\n",
       "      <td>-0.595051</td>\n",
       "      <td>1.287979</td>\n",
       "      <td>0.193063</td>\n",
       "      <td>-0.984771</td>\n",
       "      <td>0.646837</td>\n",
       "      <td>-0.336034</td>\n",
       "      <td>-0.252445</td>\n",
       "      <td>...</td>\n",
       "      <td>0.197631</td>\n",
       "      <td>-0.028383</td>\n",
       "      <td>-0.296316</td>\n",
       "      <td>-0.278201</td>\n",
       "      <td>-0.039814</td>\n",
       "      <td>0.747511</td>\n",
       "      <td>-0.351371</td>\n",
       "      <td>-0.004832</td>\n",
       "      <td>0.061748</td>\n",
       "      <td>135.51</td>\n",
       "    </tr>\n",
       "    <tr>\n",
       "      <th>245965</th>\n",
       "      <td>152983.0</td>\n",
       "      <td>2.033509</td>\n",
       "      <td>-0.374399</td>\n",
       "      <td>-0.647989</td>\n",
       "      <td>0.270967</td>\n",
       "      <td>-0.189790</td>\n",
       "      <td>0.090710</td>\n",
       "      <td>-0.554785</td>\n",
       "      <td>-0.035877</td>\n",
       "      <td>1.371880</td>\n",
       "      <td>...</td>\n",
       "      <td>-0.115994</td>\n",
       "      <td>0.145877</td>\n",
       "      <td>0.738173</td>\n",
       "      <td>-0.020070</td>\n",
       "      <td>-1.007374</td>\n",
       "      <td>0.063854</td>\n",
       "      <td>-0.149164</td>\n",
       "      <td>0.050120</td>\n",
       "      <td>-0.044438</td>\n",
       "      <td>13.53</td>\n",
       "    </tr>\n",
       "    <tr>\n",
       "      <th>57268</th>\n",
       "      <td>47836.0</td>\n",
       "      <td>-0.632960</td>\n",
       "      <td>0.410682</td>\n",
       "      <td>2.538567</td>\n",
       "      <td>0.107721</td>\n",
       "      <td>-0.630419</td>\n",
       "      <td>0.127154</td>\n",
       "      <td>-0.113957</td>\n",
       "      <td>0.384760</td>\n",
       "      <td>0.192712</td>\n",
       "      <td>...</td>\n",
       "      <td>-0.076667</td>\n",
       "      <td>0.030635</td>\n",
       "      <td>0.115058</td>\n",
       "      <td>-0.154938</td>\n",
       "      <td>0.336731</td>\n",
       "      <td>-0.206287</td>\n",
       "      <td>0.282257</td>\n",
       "      <td>0.079784</td>\n",
       "      <td>0.097595</td>\n",
       "      <td>11.50</td>\n",
       "    </tr>\n",
       "    <tr>\n",
       "      <th>10001</th>\n",
       "      <td>15014.0</td>\n",
       "      <td>-0.837077</td>\n",
       "      <td>1.034710</td>\n",
       "      <td>2.333129</td>\n",
       "      <td>3.103776</td>\n",
       "      <td>0.229143</td>\n",
       "      <td>0.501123</td>\n",
       "      <td>0.314283</td>\n",
       "      <td>-0.161583</td>\n",
       "      <td>0.409634</td>\n",
       "      <td>...</td>\n",
       "      <td>-0.134542</td>\n",
       "      <td>-0.363839</td>\n",
       "      <td>-0.458101</td>\n",
       "      <td>0.164097</td>\n",
       "      <td>0.234167</td>\n",
       "      <td>-0.418734</td>\n",
       "      <td>-0.074078</td>\n",
       "      <td>-0.355165</td>\n",
       "      <td>-0.169616</td>\n",
       "      <td>3.79</td>\n",
       "    </tr>\n",
       "    <tr>\n",
       "      <th>198965</th>\n",
       "      <td>132734.0</td>\n",
       "      <td>-2.015640</td>\n",
       "      <td>1.142912</td>\n",
       "      <td>-0.030596</td>\n",
       "      <td>-0.483132</td>\n",
       "      <td>-1.107827</td>\n",
       "      <td>2.923040</td>\n",
       "      <td>-2.072903</td>\n",
       "      <td>-5.711094</td>\n",
       "      <td>-1.045437</td>\n",
       "      <td>...</td>\n",
       "      <td>-0.049455</td>\n",
       "      <td>1.931900</td>\n",
       "      <td>0.351295</td>\n",
       "      <td>-0.477829</td>\n",
       "      <td>-0.265423</td>\n",
       "      <td>0.615437</td>\n",
       "      <td>0.654162</td>\n",
       "      <td>0.253317</td>\n",
       "      <td>-0.022246</td>\n",
       "      <td>217.00</td>\n",
       "    </tr>\n",
       "    <tr>\n",
       "      <th>190987</th>\n",
       "      <td>129060.0</td>\n",
       "      <td>-0.288405</td>\n",
       "      <td>0.607060</td>\n",
       "      <td>-1.243446</td>\n",
       "      <td>0.048417</td>\n",
       "      <td>-0.266786</td>\n",
       "      <td>-1.092532</td>\n",
       "      <td>1.200213</td>\n",
       "      <td>0.148577</td>\n",
       "      <td>-0.056048</td>\n",
       "      <td>...</td>\n",
       "      <td>0.082676</td>\n",
       "      <td>0.422538</td>\n",
       "      <td>0.804002</td>\n",
       "      <td>0.316087</td>\n",
       "      <td>-0.255530</td>\n",
       "      <td>-0.302306</td>\n",
       "      <td>-0.146286</td>\n",
       "      <td>-0.079381</td>\n",
       "      <td>0.049736</td>\n",
       "      <td>198.91</td>\n",
       "    </tr>\n",
       "    <tr>\n",
       "      <th>75204</th>\n",
       "      <td>55952.0</td>\n",
       "      <td>1.058631</td>\n",
       "      <td>-0.178273</td>\n",
       "      <td>1.216579</td>\n",
       "      <td>1.314342</td>\n",
       "      <td>-0.982580</td>\n",
       "      <td>0.054348</td>\n",
       "      <td>-0.661628</td>\n",
       "      <td>0.242444</td>\n",
       "      <td>0.553947</td>\n",
       "      <td>...</td>\n",
       "      <td>-0.097943</td>\n",
       "      <td>0.187897</td>\n",
       "      <td>0.573025</td>\n",
       "      <td>-0.122764</td>\n",
       "      <td>0.328993</td>\n",
       "      <td>0.441088</td>\n",
       "      <td>-0.260841</td>\n",
       "   "
      ],
      "text/plain": [
       "            Time        V1        V2        V3        V4        V5        V6  \\\n",
       "59527    48877.0 -6.978554 -9.879675  1.183578  0.930235  8.905241 -6.708796   \n",
       "140038   83503.0 -1.000328  0.803306  1.472691 -0.668494  1.334672  0.884187   \n",
       "46761    42918.0 -1.053586  1.751584 -0.399480  0.937719  0.166252 -0.516842   \n",
       "35173    37999.0  1.183978  0.126900  0.122566  0.956327 -0.210212 -0.481873   \n",
       "247348  153547.0  1.886311  2.412406 -4.368648  4.727085  2.487961 -1.910754   \n",
       "276864  167338.0 -1.374424  2.793185 -4.346572  2.400731 -1.688433  0.111136   \n",
       "248549  153994.0  0.095326  1.642407 -2.697274 -0.426906  1.889391 -0.982052   \n",
       "154104  100878.0  1.968809 -0.478381  0.073241  0.448022 -0.756839  0.059953   \n",
       "61855    50018.0  1.053805  0.095257  0.400277  1.298162 -0.058923  0.176298   \n",
       "21173    31517.0  1.339833 -0.693010  0.164552 -0.217303 -0.447420  0.893162   \n",
       "54057    46269.0  1.019608  0.264270 -0.595051  1.287979  0.193063 -0.984771   \n",
       "245965  152983.0  2.033509 -0.374399 -0.647989  0.270967 -0.189790  0.090710   \n",
       "57268    47836.0 -0.632960  0.410682  2.538567  0.107721 -0.630419  0.127154   \n",
       "10001    15014.0 -0.837077  1.034710  2.333129  3.103776  0.229143  0.501123   \n",
       "198965  132734.0 -2.015640  1.142912 -0.030596 -0.483132 -1.107827  2.923040   \n",
       "190987  129060.0 -0.288405  0.607060 -1.243446  0.048417 -0.266786 -1.092532   \n",
       "75204    55952.0  1.058631 -0.178273  1.216579  1.314342 -0.982580  0.054348   \n",
       "141851   84508.0 -2.043288 -0.901085  1.128630  0.570191  1.126389 -1.748721   \n",
       "95860    65500.0  1.124107 -0.712002  1.375300  0.691164 -1.408258  0.535892   \n",
       "171745  120795.0 -0.905385  0.552786  0.015169 -2.301979  0.292334 -0.918251   \n",
       "198059  132308.0 -2.344686  0.130508  0.738451 -0.435681  0.341424 -0.700322   \n",
       "176557  122818.0 -0.375697 -3.558606 -0.913705  4.637954 -1.427970  1.277260   \n",
       "254960  156998.0 -0.099432  0.991102  0.087040  0.805110  0.899379 -0.023486   \n",
       "249246  154311.0  2.036472 -0.240409 -1.213344  0.472330 -0.249201 -1.198118   \n",
       "110174   71708.0  0.136814 -1.113465 -0.421888  1.857959 -0.626460 -0.574595   \n",
       "101779   67943.0  0.939871 -0.445862  1.075356  1.438317 -1.002193  0.203973   \n",
       "164013  116392.0 -0.476110  0.616216  0.373075 -0.308607 -0.285303 -0.433285   \n",
       "7653     10600.0  1.231712 -0.089101  0.655684  0.406777 -0.696112 -0.701142   \n",
       "231194  146650.0  2.073816 -0.311727 -1.759942  0.154560  0.565496  0.136387   \n",
       "249377  154379.0  2.322717 -1.377694 -1.084156 -1.570798 -1.189736 -0.685666   \n",
       "...          ...       ...       ...       ...       ...       ...       ...   \n",
       "9603     14432.0  1.115006 -0.285779  0.804059  0.192712 -0.747741 -0.066110   \n",
       "179330  124028.0  1.944873 -0.615483 -0.644073 -0.088524 -0.307241  0.382528   \n",
       "189498  128427.0  0.067348  0.844831  0.833278 -0.412368  0.162178 -1.577769   \n",
       "214751  139806.0 -0.148862  0.048406 -0.779914 -0.654071  0.436276 -0.001945   \n",
       "75923    56309.0 -3.505257  0.275394  1.223321  1.453832 -1.653489  2.742751   \n",
       "225728  144371.0 -1.469106  0.606765  0.232840  1.070819  1.046349 -1.349503   \n",
       "17267    28582.0  1.481141 -0.302183 -0.403125 -0.771220 -0.394536 -1.122015   \n",
       "229978  146133.0 -3.078656  3.999559 -5.136302 -0.299206 -0.257609 -2.996907   \n",
       "161183  113956.0  1.926844 -1.131226 -1.903832 -0.566820 -0.028384 -0.028012   \n",
       "110304   71764.0  0.936383 -0.745961  1.755359  1.103128 -1.561491  0.563065   \n",
       "170879  120395.0  1.941601 -0.105717 -2.025099  0.021689  1.257679  1.180161   \n",
       "187319  127480.0 -1.424271  1.070374 -0.872189 -0.814559  0.749050  1.469512   \n",
       "220103  142025.0  2.222758 -0.611613 -2.242095 -1.091437  0.136252 -1.249826   \n",
       "255915  157459.0  1.975086 -0.115007 -0.580962  0.933718  0.158932  0.657454   \n",
       "33557    37281.0 -0.728648 -0.496050  1.856704 -2.407904 -0.731879 -0.908339   \n",
       "64041    50995.0 -0.517281  0.929140  1.634562 -0.145746  0.042935 -0.220875   \n",
       "46121    42646.0  0.454673  0.372280  1.424110  1.467545 -0.877780 -0.471584   \n",
       "55180    46823.0 -1.099136  1.272247  1.353814  1.273680  0.097787 -0.222612   \n",
       "127857   78495.0  0.875258 -1.046180  0.809617  0.204375 -1.278594  0.148788   \n",
       "48289    43576.0  1.108407  0.004718  0.803801  0.592287 -0.727759 -0.638848   \n",
       "75408    56049.0 -0.426880 -4.147580 -1.220300 -0.486971 -2.003374 -0.367270   \n",
       "172577  121155.0 -0.320109 -0.390326  0.290798 -3.480945  0.933224  0.661074   \n",
       "203845  134991.0 -2.665559 -1.582067 -0.080727 -0.251898  2.131703 -1.015197   \n",
       "88867    62327.0 -0.136832  0.764208  1.494170  1.336522  0.510137  0.419342   \n",
       "209884  137756.0  2.054125  0.008244 -1.046954  0.399960 -0.029531 -1.106995   \n",
       "65467    51597.0 -1.133748  0.449194  0.952216 -1.733556 -1.025417 -0.861267   \n",
       "277760  167838.0  1.791876 -0.802036 -0.924285  0.174083 -0.269447  0.049559   \n",
       "195364  131016.0 -0.908879 -0.697937  0.196590 -0.933340  3.566996  3.464249   \n",
       "221183  142465.0  1.691844 -1.245417 -0.379973  0.949566 -1.133192  0.064007   \n",
       "239782  150267.0  2.030656  0.417986 -2.502792  1.265013  1.196244 -0.410070   \n",
       "\n",
       "              V7        V8        V9   ...          V20       V21       V22  \\\n",
       "59527  -6.468861  0.851012 -0.379463   ...     2.673964  1.025971 -0.064423   \n",
       "140038  0.654762  0.250317 -0.236518   ...    -0.054652 -0.166726 -0.137320   \n",
       "46761  -0.105959  0.919722 -0.965212   ...    -0.273135  0.150246  0.083346   \n",
       "35173   0.029445  0.018734 -0.019574   ...    -0.180474  0.051745  0.038692   \n",
       "247348  1.169682 -0.293231 -2.037806   ...    -0.104855 -0.298241 -0.840727   \n",
       "276864 -0.922038 -2.149930 -2.027474   ...     0.650196 -0.870779  0.504849   \n",
       "248549  1.141789  0.179450 -0.951156   ...    -0.196312  0.108170  0.318649   \n",
       "154104 -1.070714  0.090271  2.724504   ...    -0.208883 -0.121400 -0.012648   \n",
       "61855   0.060903  0.082305 -0.081108   ...    -0.060724 -0.020504  0.095335   \n",
       "21173  -0.866354  0.322574 -0.415560   ...    -0.600912 -0.485684 -0.725455   \n",
       "54057   0.646837 -0.336034 -0.252445   ...     0.197631 -0.028383 -0.296316   \n",
       "245965 -0.554785 -0.035877  1.371880   ...    -0.115994  0.145877  0.738173   \n",
       "57268  -0.113957  0.384760  0.192712   ...    -0.076667  0.030635  0.115058   \n",
       "10001   0.314283 -0.161583  0.409634   ...    -0.134542 -0.363839 -0.458101   \n",
       "198965 -2.072903 -5.711094 -1.045437   ...    -0.049455  1.931900  0.351295   \n",
       "190987  1.200213  0.148577 -0.056048   ...     0.082676  0.422538  0.804002   \n",
       "75204  -0.661628  0.242444  0.553947   ...    -0.097943  0.187897  0.573025   \n",
       "141851  0.255060 -0.070887 -0.155902   ...    -0.189415 -0.383268 -0.549942   \n",
       "95860  -1.180127  0.395659 -0.376832   ...    -0.586616 -0.331400 -0.367993   \n",
       "171745  0.453521  0.470083  0.417603   ...    -0.267344  0.168797  0.529156   \n",
       "198059  1.151439 -0.450935  0.593124   ...    -0.534510 -0.344983 -0.340022   \n",
       "176557  0.681434  0.046242 -0.172916   ...     2.081084  0.725651 -0.575357   \n",
       "254960  1.224761 -0.962647  0.617461   ...     0.420136 -0.338592 -0.389574   \n",
       "249246  0.119886 -0.245905  0.845413   ...    -0.308244 -0.264443 -0.702730   \n",
       "110174  0.775053 -0.191683 -0.116340   ...     0.918227  0.223231 -0.490779   \n",
       "101779 -0.626814  0.278641  0.959196   ...    -0.082387  0.188866  0.457160   \n",
       "164013 -0.137044  0.353562  0.813317   ...    -0.044898  0.048355  0.352666   \n",
       "7653   -0.252769 -0.229943  2.028699   ...    -0.081947 -0.252820 -0.260043   \n",
       "231194 -0.025704 -0.034253  0.937946   ...    -0.234591  0.124555  0.651399   \n",
       "249377 -1.122792 -0.149531 -1.070107   ...    -0.499350 -0.194018 -0.110702   \n",
       "...          ...       ...       ...   ...          ...       ...       ...   \n",
       "9603   -0.693970  0.167370  1.709167   ...    -0.155336  0.008438  0.153715   \n",
       "179330 -0.747174  0.177953  1.235994   ...    -0.074246  0.210420  0.743479   \n",
       "189498  1.302391 -0.526642 -0.069414   ...     0.062202 -0.241891 -0.322368   \n",
       "214751  1.887999 -0.247586 -0.092721   ...     0.430150  0.027122 -0.287710   \n",
       "75923  -0.857087  1.230894  1.390642   ...    -0.443321 -0.010146  0.860719   \n",
       "225728  0.865794  0.171443 -1.301594   ...     0.179497  0.174745 -0.040777   \n",
       "17267  -0.034807 -0.380910 -1.120322   ...     0.084269  0.158613  0.393542   \n",
       "229978 -0.146686  0.626945  0.369546   ...    -0.051856  0.694431 -0.283779   \n",
       "161183 -0.173973 -0.199421 -0.513214   ...    -0.266866  0.006515  0.342609   \n",
       "110304 -1.041663  0.370581  1.444974   ...     0.049001 -0.008433  0.301005   \n",
       "170879 -0.212451  0.406611  0.369452   ...    -0.266748 -0.275532 -0.651069   \n",
       "187319  0.042861  1.267520 -0.609706   ...    -0.384597  0.626437  1.819282   \n",
       "220103  0.180597 -0.451694 -1.157523   ...    -0.005801  0.377673  1.009392   \n",
       "255915 -0.597626  0.186474  0.521428   ...    -0.140693  0.242003  0.854741   \n",
       "33557   0.069831 -0.413838 -2.185232   ...    -0.455552 -0.106294  0.283630   \n",
       "64041   0.521835  0.219389 -0.636108   ...     0.059230 -0.136626 -0.350837   \n",
       "46121  -0.092269 -0.290096  1.028402   ...    -0.143889  0.069744  0.615740   \n",
       "55180   0.538082 -0.227745 -0.365840   ...     0.185738 -0.209950 -0.571658   \n",
       "127857 -0.650068  0.267394  1.181922   ...     0.177895 -0.122573 -0.572690   \n",
       "48289  -0.170242 -0.018800 -0.095575   ...     0.004301 -0.129210 -0.499268   \n",
       "75408   0.764702 -0.622859 -2.093595   ...     1.845568  0.397500 -0.614895   \n",
       "172577  0.314124  0.056963 -2.568726   ...    -0.259339 -0.244151 -0.060950   \n",
       "203845 -0.721722  0.551016 -0.055199   ...    -0.213236  0.166301  0.093786   \n",
       "88867   0.470889  0.009884 -0.759436   ...     0.159106  0.198703  0.789018   \n",
       "209884  0.233112 -0.361914  0.399388   ...    -0.171191 -0.272711 -0.599406   \n",
       "65467   0.776161  0.293417  0.845651   ...     0.256767  0.206195  0.532062   \n",
       "277760 -0.324605 -0.009229  1.048637   ...     0.146418 -0.229373 -0.913612   \n",
       "195364 -0.689134  0.588035  0.645229   ...    -0.126779 -0.191200 -0.072791   \n",
       "221183 -0.628759  0.133835 -0.003200   ...    -0.453686 -0.742697 -1.795135   \n",
       "239782  0.482414 -0.099741  0.047911   ...    -0.278309 -0.032090  0.048023   \n",
       "\n",
       "             V23       V24       V25       V26       V27       V28   Amount  \n",
       "59527"
      ]
     },
     "execution_count": 9,
     "metadata": {},
     "output_type": "execute_result"
    },
    {
     "data": {
      "text/html": [
       "<b>limit_output extension: Maximum message size of 10000 exceeded with 34034 characters</b>"
      ]
     },
     "metadata": {},
     "output_type": "display_data"
    }
   ],
   "source": [
    "os = SMOTE(random_state=0) #   We are using SMOTE as the function for oversampling\n",
    "# now we can devided our data into training and test data\n",
    "# Call our method data prepration on our dataset\n",
    "data_train_X,data_test_X,data_train_y,data_test_y=data_prepration(data)\n",
    "columns = data_train_X.columns\n",
    "data_train_X"
   ]
  },
  {
   "cell_type": "code",
   "execution_count": null,
   "metadata": {
    "_cell_guid": "54312e1d-58d8-184f-8596-48a8084a0ee7"
   },
   "outputs": [],
   "source": [
    "# now use SMOTE to oversample our train data which have features data_train_X and labels in data_train_y\n",
    "os_data_X,os_data_y=os.fit_sample(data_train_X,data_train_y)\n",
    "os_data_X = pd.DataFrame(data=os_data_X,columns=columns )\n",
    "os_data_y= pd.DataFrame(data=os_data_y,columns=[\"Class\"])\n",
    "# we can Check the numbers of our data\n",
    "print(\"length of oversampled data is \",len(os_data_X))\n",
    "print(\"Number of normal transcation in oversampled data\",len(os_data_y[os_data_y[\"Class\"]==0]))\n",
    "print(\"No.of fraud transcation\",len(os_data_y[os_data_y[\"Class\"]==1]))\n",
    "print(\"Proportion of Normal data in oversampled data is \",len(os_data_y[os_data_y[\"Class\"]==0])/len(os_data_X))\n",
    "print(\"Proportion of fraud data in oversampled data is \",len(os_data_y[os_data_y[\"Class\"]==1])/len(os_data_X))"
   ]
  },
  {
   "cell_type": "markdown",
   "metadata": {
    "_cell_guid": "59f55f2a-cb6a-47d9-7e8a-67a7af8e89a5"
   },
   "source": [
    " 1. By using Smote we are getting a 50 - 50 each\n",
    "\n",
    " 2. No need of checking here in over sampled data itself from previous we know it will be overfitting\n",
    "\n",
    " 3. let us check with the test data direct\n"
   ]
  },
  {
   "cell_type": "code",
   "execution_count": null,
   "metadata": {
    "_cell_guid": "4f9b50e0-433d-607b-e082-84d88467b705"
   },
   "outputs": [],
   "source": [
    "# Let us first do our amount normalised and other that we are doing above\n",
    "os_data_X[\"Normalized Amount\"] = StandardScaler().fit_transform(os_data_X['Amount'].reshape(-1, 1))\n",
    "os_data_X.drop([\"Time\",\"Amount\"],axis=1,inplace=True)\n",
    "data_test_X[\"Normalized Amount\"] = StandardScaler().fit_transform(data_test_X['Amount'].reshape(-1, 1))\n",
    "data_test_X.drop([\"Time\",\"Amount\"],axis=1,inplace=True)\n"
   ]
  },
  {
   "cell_type": "code",
   "execution_count": null,
   "metadata": {
    "_cell_guid": "d15d05b6-18d4-85cd-2488-527a8333e203"
   },
   "outputs": [],
   "source": [
    "# Now start modeling\n",
    "clf= RandomForestClassifier(n_estimators=100)\n",
    "# train data using oversampled data and predict for the test data\n",
    "model(clf,os_data_X,data_test_X,os_data_y,data_test_y)"
   ]
  },
  {
   "cell_type": "markdown",
   "metadata": {
    "_cell_guid": "953729c6-5ef8-4a49-18ca-7444a5df6ba0"
   },
   "source": [
    "**observation **\n",
    "\n",
    " 1. The recall is nearby the previous one done by over sampling \n",
    " 2. The precision decrease in this case"
   ]
  },
  {
   "cell_type": "code",
   "execution_count": null,
   "metadata": {
    "_cell_guid": "af98be8c-a128-5300-1317-22069454181e"
   },
   "outputs": [],
   "source": []
  }
 ],
 "metadata": {
  "_change_revision": 0,
  "_is_fork": false,
  "kernelspec": {
   "display_name": "Python 3",
   "language": "python",
   "name": "python3"
  },
  "language_info": {
   "codemirror_mode": {
    "name": "ipython",
    "version": 3
   },
   "file_extension": ".py",
   "mimetype": "text/x-python",
   "name": "python",
   "nbconvert_exporter": "python",
   "pygments_lexer": "ipython3",
   "version": "3.6.5"
  },
  "latex_envs": {
   "LaTeX_envs_menu_present": true,
   "autoclose": false,
   "autocomplete": true,
   "bibliofile": "biblio.bib",
   "cite_by": "apalike",
   "current_citInitial": 1,
   "eqLabelWithNumbers": true,
   "eqNumInitial": 1,
   "hotkeys": {
    "equation": "Ctrl-E",
    "itemize": "Ctrl-I"
   },
   "labels_anchors": false,
   "latex_user_defs": false,
   "report_style_numbering": false,
   "user_envs_cfg": false
  },
  "varInspector": {
   "cols": {
    "lenName": 16,
    "lenType": 16,
    "lenVar": 40
   },
   "kernels_config": {
    "python": {
     "delete_cmd_postfix": "",
     "delete_cmd_prefix": "del ",
     "library": "var_list.py",
     "varRefreshCmd": "print(var_dic_list())"
    },
    "r": {
     "delete_cmd_postfix": ") ",
     "delete_cmd_prefix": "rm(",
     "library": "var_list.r",
     "varRefreshCmd": "cat(var_dic_list()) "
    }
   },
   "types_to_exclude": [
    "module",
    "function",
    "builtin_function_or_method",
    "instance",
    "_Feature"
   ],
   "window_display": false
  }
 },
 "nbformat": 4,
 "nbformat_minor": 1
}
