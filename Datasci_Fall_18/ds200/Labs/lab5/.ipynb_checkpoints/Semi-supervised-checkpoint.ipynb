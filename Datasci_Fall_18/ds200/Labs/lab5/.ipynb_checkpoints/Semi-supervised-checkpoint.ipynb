{
 "cells": [
  {
   "cell_type": "markdown",
   "metadata": {},
   "source": [
    "### Intro"
   ]
  },
  {
   "cell_type": "markdown",
   "metadata": {},
   "source": [
    "- Supervised learning: \n",
    "    - $$\\{ (x^r, \\hat y^r ) \\}^R_{r=1}$$\n",
    "- Semi-supervised learning:\n",
    "    - $$\\{ x^r, \\hat y^r \\}^R_{r=1}, \\{ x^u\\}^{R+U}_{u=R}$$\n",
    "    - A set of unlabeled data, usually $$U>>R$$\n",
    "    - __Transductive learning__: unlabeled data is the testing data\n",
    "    - __Inductive learning: unlabeled data is not the testing data__\n",
    "        - more useful: because in real applications, usually we do not have testing dataset yet when we are constructing the model\n",
    "\n",
    "- Why Semi-supervised learning?\n",
    "    - Collecting data is easy, but collecting `labeled` data is expensive\n",
    "    - We do semi-supervised learning in our lives\n",
    "    \n",
    "- Why semi-supervised learning helps?\n",
    "\n",
    "\n"
   ]
  },
  {
   "cell_type": "code",
   "execution_count": null,
   "metadata": {},
   "outputs": [],
   "source": []
  }
 ],
 "metadata": {
  "kernelspec": {
   "display_name": "Python 3",
   "language": "python",
   "name": "python3"
  },
  "language_info": {
   "codemirror_mode": {
    "name": "ipython",
    "version": 3
   },
   "file_extension": ".py",
   "mimetype": "text/x-python",
   "name": "python",
   "nbconvert_exporter": "python",
   "pygments_lexer": "ipython3",
   "version": "3.6.6"
  },
  "latex_envs": {
   "LaTeX_envs_menu_present": true,
   "autoclose": false,
   "autocomplete": true,
   "bibliofile": "biblio.bib",
   "cite_by": "apalike",
   "current_citInitial": 1,
   "eqLabelWithNumbers": true,
   "eqNumInitial": 1,
   "hotkeys": {
    "equation": "Ctrl-E",
    "itemize": "Ctrl-I"
   },
   "labels_anchors": false,
   "latex_user_defs": false,
   "report_style_numbering": false,
   "user_envs_cfg": false
  },
  "varInspector": {
   "cols": {
    "lenName": 16,
    "lenType": 16,
    "lenVar": 40
   },
   "kernels_config": {
    "python": {
     "delete_cmd_postfix": "",
     "delete_cmd_prefix": "del ",
     "library": "var_list.py",
     "varRefreshCmd": "print(var_dic_list())"
    },
    "r": {
     "delete_cmd_postfix": ") ",
     "delete_cmd_prefix": "rm(",
     "library": "var_list.r",
     "varRefreshCmd": "cat(var_dic_list()) "
    }
   },
   "types_to_exclude": [
    "module",
    "function",
    "builtin_function_or_method",
    "instance",
    "_Feature"
   ],
   "window_display": false
  }
 },
 "nbformat": 4,
 "nbformat_minor": 2
}
