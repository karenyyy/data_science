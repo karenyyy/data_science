{
 "cells": [
  {
   "cell_type": "markdown",
   "metadata": {},
   "source": [
    "### import packages"
   ]
  },
  {
   "cell_type": "code",
   "execution_count": 1,
   "metadata": {},
   "outputs": [],
   "source": [
    "import datascience as ds\n",
    "from datascience import *\n",
    "import numpy as np\n",
    "from graphviz import Source\n",
    "import pandas as pd\n",
    "import re\n",
    "import string\n",
    "from copy import copy\n",
    "import nltk\n",
    "\n",
    "from sklearn.feature_extraction.text import CountVectorizer, TfidfVectorizer\n",
    "from sklearn.model_selection import train_test_split\n",
    "from sklearn.tree import DecisionTreeClassifier\n",
    "from sklearn.linear_model import LogisticRegression\n",
    "from sklearn.ensemble import RandomForestClassifier\n",
    "from xgboost import XGBClassifier as XGBoostClassifier\n",
    "from sklearn import tree\n",
    "from sklearn import metrics\n",
    "import matplotlib.pyplot as plt\n",
    "from sklearn.model_selection import cross_val_score\n",
    "\n",
    "import gensim\n",
    "%matplotlib inline"
   ]
  },
  {
   "cell_type": "markdown",
   "metadata": {},
   "source": [
    "### read the data"
   ]
  },
  {
   "cell_type": "code",
   "execution_count": 2,
   "metadata": {},
   "outputs": [],
   "source": [
    "tagged = pd.read_csv('cleaned_tagged.csv', sep=',')\n",
    "Relevant = np.array([0]*tagged.size)\n",
    "Relevant[tagged[tagged.sentiment!=-1].index.tolist()] = 1\n",
    "tagged['Relevant'] = pd.Series(Relevant, name='Relevant')\n",
    "tagged = tagged.drop(tagged.columns[0], axis=1).reset_index(drop=True)\n",
    "tagged.to_csv('relevant_binary_tagged.csv')"
   ]
  },
  {
   "cell_type": "code",
   "execution_count": 3,
   "metadata": {},
   "outputs": [
    {
     "data": {
      "text/html": [
       "<table border=\"1\" class=\"dataframe\">\n",
       "    <thead>\n",
       "        <tr>\n",
       "            <th>Unnamed: 0</th> <th>user_id</th> <th>user_name</th> <th>tweet_time</th> <th>location</th> <th>text</th> <th>sentiment</th> <th>Relevant</th>\n",
       "        </tr>\n",
       "    </thead>\n",
       "    <tbody>\n",
       "        <tr>\n",
       "            <td>0         </td> <td>802657195661742080 </td> <td>Christine Warren              </td> <td>Wed Sep 12 01:38:14 +0000 2018</td> <td>Fremont CA     </td> <td>2 american lives were just lost in tennessee potus pleas ...</td> <td>0        </td> <td>1       </td>\n",
       "        </tr>\n",
       "        <tr>\n",
       "            <td>1         </td> <td>1039245812230893570</td> <td>Trumpservative                </td> <td>Wed Sep 12 01:38:16 +0000 2018</td> <td>Tulsa OK       </td> <td>realfarmacist realdonaldtrump tuckercarlson our great le ...</td> <td>1        </td> <td>1       </td>\n",
       "        </tr>\n",
       "        <tr>\n",
       "            <td>2         </td> <td>282084840          </td> <td>Darrel Sheldon #MAGAVETERAN   </td> <td>Wed Sep 12 01:38:18 +0000 2018</td> <td>None           </td> <td>rightgottweets rev out the trumptrain for bluemilwaukee  ...</td> <td>0        </td> <td>1       </td>\n",
       "        </tr>\n",
       "        <tr>\n",
       "            <td>3         </td> <td>62315639           </td> <td>Queer Liberal Voting Snowflake</td> <td>Wed Sep 12 01:38:18 +0000 2018</td> <td>Big Sandy Texas</td> <td>tennessee is suffering after shooting takes 2 lives potu ...</td> <td>0        </td> <td>1       </td>\n",
       "        </tr>\n",
       "        <tr>\n",
       "            <td>4         </td> <td>823307049266245633 </td> <td>don jones #veteran (K)        </td> <td>Wed Sep 12 01:38:19 +0000 2018</td> <td>United States  </td> <td>sassytjoy bcmsolt fightinirish109 dybarb wolfiev3 kevinh ...</td> <td>-1       </td> <td>0       </td>\n",
       "        </tr>\n",
       "        <tr>\n",
       "            <td>5         </td> <td>340428574          </td> <td>DelcoGal                      </td> <td>Wed Sep 12 01:38:21 +0000 2018</td> <td>Pennsylvania   </td> <td>loudobbs redwaverising sidneypowell1 this years midterm  ...</td> <td>1        </td> <td>1       </td>\n",
       "        </tr>\n",
       "        <tr>\n",
       "            <td>6         </td> <td>1603928228         </td> <td>Julz                          </td> <td>Wed Sep 12 01:38:22 +0000 2018</td> <td>MIAATLPGH      </td> <td>2 lives were just lost in tennessee potus its time to do ...</td> <td>0        </td> <td>1       </td>\n",
       "        </tr>\n",
       "        <tr>\n",
       "            <td>7         </td> <td>1865678516         </td> <td>Barbara Kuczinski             </td> <td>Wed Sep 12 01:38:22 +0000 2018</td> <td>None           </td> <td>mollympengra realjameswoods obama mollympengra oh hon cn ...</td> <td>1        </td> <td>1       </td>\n",
       "        </tr>\n",
       "        <tr>\n",
       "            <td>8         </td> <td>59288409           </td> <td>Josh Steed PhD                </td> <td>Wed Sep 12 01:38:25 +0000 2018</td> <td>Arkansas       </td> <td>jillibean557 msm is repulsive they do nothing but lie an ...</td> <td>0        </td> <td>1       </td>\n",
       "        </tr>\n",
       "        <tr>\n",
       "            <td>9         </td> <td>325172419          </td> <td>Mrs. Linz                     </td> <td>Wed Sep 12 01:38:25 +0000 2018</td> <td>BC Canada      </td> <td>jc61384960 loricoutler amymek muslims coming illegally a ...</td> <td>2        </td> <td>1       </td>\n",
       "        </tr>\n",
       "    </tbody>\n",
       "</table>\n",
       "<p>... (1286 rows omitted)</p>"
      ],
      "text/plain": [
       "Unnamed: 0 | user_id             | user_name                      | tweet_time                     | location        | text                                                         | sentiment | Relevant\n",
       "0          | 802657195661742080  | Christine Warren               | Wed Sep 12 01:38:14 +0000 2018 | Fremont CA      | 2 american lives were just lost in tennessee potus pleas ... | 0         | 1\n",
       "1          | 1039245812230893570 | Trumpservative                 | Wed Sep 12 01:38:16 +0000 2018 | Tulsa OK        | realfarmacist realdonaldtrump tuckercarlson our great le ... | 1         | 1\n",
       "2          | 282084840           | Darrel Sheldon #MAGAVETERAN    | Wed Sep 12 01:38:18 +0000 2018 | None            | rightgottweets rev out the trumptrain for bluemilwaukee  ... | 0         | 1\n",
       "3          | 62315639            | Queer Liberal Voting Snowflake | Wed Sep 12 01:38:18 +0000 2018 | Big Sandy Texas | tennessee is suffering after shooting takes 2 lives potu ... | 0         | 1\n",
       "4          | 823307049266245633  | don jones #veteran (K)         | Wed Sep 12 01:38:19 +0000 2018 | United States   | sassytjoy bcmsolt fightinirish109 dybarb wolfiev3 kevinh ... | -1        | 0\n",
       "5          | 340428574           | DelcoGal                       | Wed Sep 12 01:38:21 +0000 2018 | Pennsylvania    | loudobbs redwaverising sidneypowell1 this years midterm  ... | 1         | 1\n",
       "6          | 1603928228          | Julz                           | Wed Sep 12 01:38:22 +0000 2018 | MIAATLPGH       | 2 lives were just lost in tennessee potus its time to do ... | 0         | 1\n",
       "7          | 1865678516          | Barbara Kuczinski              | Wed Sep 12 01:38:22 +0000 2018 | None            | mollympengra realjameswoods obama mollympengra oh hon cn ... | 1         | 1\n",
       "8          | 59288409            | Josh Steed PhD                 | Wed Sep 12 01:38:25 +0000 2018 | Arkansas        | jillibean557 msm is repulsive they do nothing but lie an ... | 0         | 1\n",
       "9          | 325172419           | Mrs. Linz                      | Wed Sep 12 01:38:25 +0000 2018 | BC Canada       | jc61384960 loricoutler amymek muslims coming illegally a ... | 2         | 1\n",
       "... (1286 rows omitted)"
      ]
     },
     "execution_count": 3,
     "metadata": {},
     "output_type": "execute_result"
    }
   ],
   "source": [
    "df = ds.Table.read_table('relevant_binary_tagged.csv', sep=',')\n",
    "df"
   ]
  },
  {
   "cell_type": "markdown",
   "metadata": {},
   "source": [
    "### data preprocessing"
   ]
  },
  {
   "cell_type": "code",
   "execution_count": 4,
   "metadata": {},
   "outputs": [],
   "source": [
    "relevant_tweet = df.where('Relevant', are.equal_to(1))\n",
    "irrelevant_tweet = df.where('Relevant', are.equal_to(0))"
   ]
  },
  {
   "cell_type": "code",
   "execution_count": 5,
   "metadata": {},
   "outputs": [],
   "source": [
    "relevant_tweet_cnt = relevant_tweet.num_rows\n",
    "irrelevant_tweet_cnt = irrelevant_tweet.num_rows"
   ]
  },
  {
   "cell_type": "code",
   "execution_count": 6,
   "metadata": {},
   "outputs": [
    {
     "data": {
      "text/plain": [
       "(1133, 163)"
      ]
     },
     "execution_count": 6,
     "metadata": {},
     "output_type": "execute_result"
    }
   ],
   "source": [
    "relevant_tweet_cnt, irrelevant_tweet_cnt"
   ]
  },
  {
   "cell_type": "code",
   "execution_count": 7,
   "metadata": {},
   "outputs": [],
   "source": [
    "relevant_training_size = round(relevant_tweet_cnt*0.8*0.6)\n",
    "irrelevant_training_size = round(irrelevant_tweet_cnt*0.8)"
   ]
  },
  {
   "cell_type": "code",
   "execution_count": 8,
   "metadata": {},
   "outputs": [
    {
     "data": {
      "text/plain": [
       "(544, 130)"
      ]
     },
     "execution_count": 8,
     "metadata": {},
     "output_type": "execute_result"
    }
   ],
   "source": [
    "relevant_training_size, irrelevant_training_size"
   ]
  },
  {
   "cell_type": "code",
   "execution_count": 9,
   "metadata": {},
   "outputs": [],
   "source": [
    "relevant_train_idx = list(range(relevant_training_size))\n",
    "irrelevant_train_idx = list(range(irrelevant_training_size))\n",
    "relevant_test_idx = list(range(relevant_tweet_cnt))[int(relevant_training_size*1.95):]\n",
    "irrelevant_test_idx = list(range(irrelevant_tweet_cnt))[irrelevant_training_size:]\n",
    "\n",
    "\n",
    "relevant_training_text = list(relevant_tweet.take(relevant_train_idx)['text'])\n",
    "irrelevant_training_text = list(irrelevant_tweet.take(irrelevant_train_idx)['text'])\n",
    "relevant_training_relevant = list(relevant_tweet.take(relevant_train_idx)['Relevant'])\n",
    "irrelevant_training_relevant = list(irrelevant_tweet.take(irrelevant_train_idx)['Relevant'])\n",
    "\n",
    "relevant_testing_text = list(relevant_tweet.take(relevant_test_idx)['text'])\n",
    "irrelevant_testing_text = list(irrelevant_tweet.take(irrelevant_test_idx)['text'])\n",
    "relevant_testing_relevant = list(relevant_tweet.take(relevant_test_idx)['Relevant'])\n",
    "irrelevant_testing_relevant = list(irrelevant_tweet.take(irrelevant_test_idx)['Relevant'])\n",
    "\n",
    "X_train = relevant_training_text + irrelevant_training_text\n",
    "y_train = relevant_training_relevant + irrelevant_training_relevant\n",
    "X_test = relevant_testing_text + irrelevant_testing_text\n",
    "y_test = relevant_testing_relevant + irrelevant_testing_relevant\n"
   ]
  },
  {
   "cell_type": "code",
   "execution_count": 10,
   "metadata": {},
   "outputs": [
    {
     "data": {
      "text/plain": [
       "(['2 american lives were just lost in tennessee potus please end the suffering backfiretrump',\n",
       "  'realfarmacist realdonaldtrump tuckercarlson our great leader president donald j trump can hold his breath for',\n",
       "  'rightgottweets rev out the trumptrain for bluemilwaukee libsrnutz mobofa josueda54362271 tanyakv boshellsandi',\n",
       "  'tennessee is suffering after shooting takes 2 lives potus stop the bloodshed backfiretrump',\n",
       "  'loudobbs redwaverising sidneypowell1 this years midterm is the most important in the history of our country we dont just need',\n",
       "  '2 lives were just lost in tennessee potus its time to do something backfiretrump',\n",
       "  'mollympengra realjameswoods obama mollympengra oh hon cnn reports the truth as fast as they can dream it up potus maga',\n",
       "  'jillibean557 msm is repulsive they do nothing but lie and undermine presidenttrump',\n",
       "  'jc61384960 loricoutler amymek muslims coming illegally across the southern border maga kag buildthatwall votered buildthedamn',\n",
       "  'sirstevotimothy when you find out donald trump isnt coming to ireland see us live in newry this saturday'],\n",
       " ['maga please follow patriots and rt',\n",
       "  'baronessmum gelicmonkey drbairdonline ajoseph1616 i thought that too mj i saw an interview w his mom once she talked about ho',\n",
       "  'rdrhwke newsirlancelot drekaplan constitutionkn2 screwpulas pennyarcade7 michellexava adoredbymyking',\n",
       "  'deecordas sengillibrand housedemocrats housegop barackobama johnkerry tmz wsj nytimes realcandaceo',\n",
       "  'its been longer than that in california for braking our laws buildthatwall withalyssamilanobehindit',\n",
       "  '40head 2 in the 1st photo you can see the reflection of a lamp that i believe was part of a q post a while back proving q was actu',\n",
       "  'flashback seven 911 hijackers overstayed their visas were never deported via',\n",
       "  'why should world leaders come to a un climatechange conference in newyork usa usa leadership doesnt eve',\n",
       "  'immagamyrna4evr joeymarker426 hawaiiilove drekaplan stephan34102340 vortexvixen45 ronniestand3 rosedixontx ramitupyourcan sys',\n",
       "  'evilbitch'],\n",
       " [1, 1, 1, 1, 1, 1, 1, 1, 1, 1],\n",
       " [0, 0, 0, 0, 0, 0, 0, 0, 0, 0])"
      ]
     },
     "execution_count": 10,
     "metadata": {},
     "output_type": "execute_result"
    }
   ],
   "source": [
    "X_train[:10], X_train[-10:], y_train[:10], y_train[-10:]"
   ]
  },
  {
   "cell_type": "code",
   "execution_count": 11,
   "metadata": {},
   "outputs": [
    {
     "data": {
      "text/plain": [
       "(674, 106)"
      ]
     },
     "execution_count": 11,
     "metadata": {},
     "output_type": "execute_result"
    }
   ],
   "source": [
    "len(X_train), len(X_test)"
   ]
  },
  {
   "cell_type": "code",
   "execution_count": 12,
   "metadata": {},
   "outputs": [
    {
     "data": {
      "text/plain": [
       "(['whats more american than mcdonalds amp the potus makeamericagreatagain',\n",
       "  'pahlbrighteyes it is an allout bid by donald trump to end the icc the worlds foremost criminal tribunal and with it the very co',\n",
       "  'obama gave amnesty to millions amp changed regulations in favor of illegals for employment amp thats how social sec',\n",
       "  'realdonaldtrump is not a legitimate potus he stole election2016 with the votes of russian hackers',\n",
       "  'prosperous1776 17 years ago terrorists attacked our country we will never forget maga kag potus trump news votered nodaca w',\n",
       "  'digiezone the little that bobwoodward shared tonight in his interview with msnbcs rachelmaddow about his book fear and the donald',\n",
       "  'jtpower999 good word brother buildthatwall',\n",
       "  'nedprice msnbc we support potus 10000000 we see through the bs fakenews cnn msnbc abc cbs velshiruhle nicolledwallace theview',\n",
       "  'congress why is one of your members allowed to do this she is inciting hate toward our potus and his supporters',\n",
       "  'pamelah22 trumptrainfollow amp retweet aarrobledo nascarlv 941tweetheart kellyirani82 siteshkjha soupmomma anna71'],\n",
       " ['benghazi what difference at this point does it make hillaryclinton',\n",
       "  'maybe bho is too accustomed of using race gender class religion and everything else under the sun to divide',\n",
       "  'prosperous1776 to the im still with her crowd 3 days after the benghazi attacks hillary met with the grieving families she told',\n",
       "  'sherryh1000 get out and vote republican your nation needs you',\n",
       "  'hischildalso well then we wont retweet it',\n",
       "  'senatemajldr we had the discussion about thewall in 2016 so fund it amp buildthatwall now if youre not for it n',\n",
       "  'iam1america liberals of america islam is not a religion of peace nothing about the quran teaches peace islam dont teach or believe',\n",
       "  'views despite facing this humiliation pakistan appears defiant and nonapologetic about the policy that',\n",
       "  'moab incoming wwg1wga unitingpatriotstogether q qanon thegreatawakening thestorm remember911',\n",
       "  'oh hell yes'],\n",
       " [1, 1, 1, 1, 1, 1, 1, 1, 1, 1],\n",
       " [0, 0, 0, 0, 0, 0, 0, 0, 0, 0])"
      ]
     },
     "execution_count": 12,
     "metadata": {},
     "output_type": "execute_result"
    }
   ],
   "source": [
    "X_test[:10], X_test[-10:], y_test[:10], y_test[-10:]"
   ]
  },
  {
   "cell_type": "code",
   "execution_count": 13,
   "metadata": {},
   "outputs": [
    {
     "data": {
      "text/plain": [
       "(106, 106)"
      ]
     },
     "execution_count": 13,
     "metadata": {},
     "output_type": "execute_result"
    }
   ],
   "source": [
    "len(X_test), len(y_test)"
   ]
  },
  {
   "cell_type": "markdown",
   "metadata": {},
   "source": [
    "### Model (Bag of Words + DTree)"
   ]
  },
  {
   "cell_type": "code",
   "execution_count": 14,
   "metadata": {},
   "outputs": [
    {
     "data": {
      "text/plain": [
       "((674, 3000), (106, 3000))"
      ]
     },
     "execution_count": 14,
     "metadata": {},
     "output_type": "execute_result"
    }
   ],
   "source": [
    "vect = CountVectorizer(\n",
    "     analyzer=\"word\", ngram_range=([1,2]), tokenizer=nltk.word_tokenize,\n",
    "    preprocessor=None, stop_words='english', max_features=3000)\n",
    "# vect = TfidfVectorizer(sublinear_tf=True, min_df=10, norm='l1', encoding='latin-1', \n",
    "#                         ngram_range=(1,2), stop_words='english')\n",
    "X_train_vect = vect.fit_transform(X_train).todense()\n",
    "X_test_vect = vect.transform(X_test)\n",
    "X_train_vect.shape, X_test_vect.shape"
   ]
  },
  {
   "cell_type": "code",
   "execution_count": 15,
   "metadata": {},
   "outputs": [
    {
     "data": {
      "text/plain": [
       "LogisticRegression(C=1.0, class_weight=None, dual=False, fit_intercept=True,\n",
       "          intercept_scaling=1, max_iter=100, multi_class='ovr', n_jobs=1,\n",
       "          penalty='l2', random_state=None, solver='liblinear', tol=0.0001,\n",
       "          verbose=0, warm_start=False)"
      ]
     },
     "execution_count": 15,
     "metadata": {},
     "output_type": "execute_result"
    }
   ],
   "source": [
    "clf = DecisionTreeClassifier(criterion = 'entropy',\n",
    "                            random_state = 100,\n",
    "                            max_depth = 35,\n",
    "                            min_samples_leaf = 2)\n",
    "clf = RandomForestClassifier(random_state=100,\n",
    "                             n_estimators=60, \n",
    "                             criterion='entropy', \n",
    "                             n_jobs=4)\n",
    "# clf = XGBoostClassifier(max_depth=5, n_estimators=5)\n",
    "clf = LogisticRegression()\n",
    "clf.fit(X_train_vect, y_train)"
   ]
  },
  {
   "cell_type": "code",
   "execution_count": 16,
   "metadata": {},
   "outputs": [],
   "source": [
    "# dot_data = tree.export_graphviz(clf, out_file=None, feature_names=vect.get_feature_names())\n",
    "# graph = Source(dot_data)\n",
    "# graph.render('RelevantClassifier')\n",
    "# graph"
   ]
  },
  {
   "cell_type": "code",
   "execution_count": 17,
   "metadata": {},
   "outputs": [
    {
     "data": {
      "text/plain": [
       "0.8383228291316527"
      ]
     },
     "execution_count": 17,
     "metadata": {},
     "output_type": "execute_result"
    }
   ],
   "source": [
    "y_pred = clf.predict(X_test_vect)\n",
    "np.mean([cross_val_score(clf, X_train_vect, y_train, cv=8)])"
   ]
  },
  {
   "cell_type": "code",
   "execution_count": 18,
   "metadata": {},
   "outputs": [
    {
     "data": {
      "text/plain": [
       "array([[ 2, 31],\n",
       "       [ 2, 71]])"
      ]
     },
     "execution_count": 18,
     "metadata": {},
     "output_type": "execute_result"
    }
   ],
   "source": [
    "metrics.confusion_matrix(y_test, y_pred)"
   ]
  },
  {
   "cell_type": "code",
   "execution_count": 1010,
   "metadata": {},
   "outputs": [],
   "source": [
    "def plot_cm(cm, title='Confusion matrix', cmap=plt.cm.Blues, classes=['Relevant', 'Irrelevant']):\n",
    "    plt.imshow(cm, interpolation='nearest', cmap=cmap)\n",
    "    plt.title(title)\n",
    "    plt.colorbar()\n",
    "    tick_marks = np.arange(len(classes))\n",
    "    target_names = classes\n",
    "    plt.xticks(tick_marks, target_names, rotation=45)\n",
    "    plt.yticks(tick_marks, target_names)\n",
    "    plt.tight_layout()\n",
    "    plt.ylabel('True label')\n",
    "    plt.xlabel('Predicted label')"
   ]
  },
  {
   "cell_type": "code",
   "execution_count": 1011,
   "metadata": {},
   "outputs": [
    {
     "data": {
      "image/png": "[encoded data removed]",
      "text/plain": [
       "<Figure size 432x288 with 2 Axes>"
      ]
     },
     "metadata": {
      "needs_background": "light"
     },
     "output_type": "display_data"
    }
   ],
   "source": [
    "plot_cm(metrics.confusion_matrix(y_test, y_pred))"
   ]
  },
  {
   "cell_type": "code",
   "execution_count": null,
   "metadata": {},
   "outputs": [],
   "source": []
  }
 ],
 "metadata": {
  "kernelspec": {
   "display_name": "Python 3",
   "language": "python",
   "name": "python3"
  },
  "language_info": {
   "codemirror_mode": {
    "name": "ipython",
    "version": 3
   },
   "file_extension": ".py",
   "mimetype": "text/x-python",
   "name": "python",
   "nbconvert_exporter": "python",
   "pygments_lexer": "ipython3",
   "version": "3.6.5"
  },
  "latex_envs": {
   "LaTeX_envs_menu_present": true,
   "autoclose": false,
   "autocomplete": true,
   "bibliofile": "biblio.bib",
   "cite_by": "apalike",
   "current_citInitial": 1,
   "eqLabelWithNumbers": true,
   "eqNumInitial": 1,
   "hotkeys": {
    "equation": "Ctrl-E",
    "itemize": "Ctrl-I"
   },
   "labels_anchors": false,
   "latex_user_defs": false,
   "report_style_numbering": false,
   "user_envs_cfg": false
  },
  "varInspector": {
   "cols": {
    "lenName": 16,
    "lenType": 16,
    "lenVar": 40
   },
   "kernels_config": {
    "python": {
     "delete_cmd_postfix": "",
     "delete_cmd_prefix": "del ",
     "library": "var_list.py",
     "varRefreshCmd": "print(var_dic_list())"
    },
    "r": {
     "delete_cmd_postfix": ") ",
     "delete_cmd_prefix": "rm(",
     "library": "var_list.r",
     "varRefreshCmd": "cat(var_dic_list()) "
    }
   },
   "types_to_exclude": [
    "module",
    "function",
    "builtin_function_or_method",
    "instance",
    "_Feature"
   ],
   "window_display": false
  }
 },
 "nbformat": 4,
 "nbformat_minor": 2
}
