{
 "cells": [
  {
   "cell_type": "markdown",
   "metadata": {},
   "source": [
    "### import packages"
   ]
  },
  {
   "cell_type": "code",
   "execution_count": 34,
   "metadata": {},
   "outputs": [],
   "source": [
    "import datascience as ds\n",
    "from datascience import *\n",
    "import numpy as np\n",
    "from graphviz import Source\n",
    "import pandas as pd\n",
    "import re\n",
    "import string\n",
    "from copy import copy\n",
    "import nltk\n",
    "from datetime import datetime\n",
    "\n",
    "from sklearn.feature_extraction.text import CountVectorizer, TfidfVectorizer\n",
    "from sklearn.model_selection import train_test_split\n",
    "from sklearn.tree import DecisionTreeClassifier\n",
    "from sklearn.linear_model import LogisticRegression\n",
    "from sklearn.ensemble import RandomForestClassifier\n",
    "from xgboost import XGBClassifier as XGBoostClassifier\n",
    "from sklearn import tree\n",
    "from sklearn import metrics\n",
    "from sklearn.metrics import confusion_matrix\n",
    "import matplotlib.pyplot as plt\n",
    "from sklearn.model_selection import cross_val_score\n",
    "import seaborn as sns\n",
    "from imblearn.over_sampling import SMOTE\n",
    "\n",
    "%matplotlib inline"
   ]
  },
  {
   "cell_type": "code",
   "execution_count": 35,
   "metadata": {},
   "outputs": [],
   "source": [
    "tagged = pd.read_csv('cleaned_tagged.csv', sep=',')\n",
    "Relevant = np.array([0]*tagged.size)\n",
    "Relevant[tagged[tagged.sentiment!=-1].index.tolist()] = 1\n",
    "tagged['Relevant'] = pd.Series(Relevant, name='Relevant')\n",
    "tagged = tagged.drop(tagged.columns[0], axis=1).reset_index(drop=True)\n",
    "tagged.to_csv('relevant_binary_tagged.csv')"
   ]
  },
  {
   "cell_type": "markdown",
   "metadata": {},
   "source": [
    "### 1) tweets data loaded into Jupyter Notebook as Table object"
   ]
  },
  {
   "cell_type": "code",
   "execution_count": 36,
   "metadata": {},
   "outputs": [
    {
     "data": {
      "text/html": [
       "<table border=\"1\" class=\"dataframe\">\n",
       "    <thead>\n",
       "        <tr>\n",
       "            <th>Unnamed: 0</th> <th>user_id</th> <th>user_name</th> <th>tweet_time</th> <th>location</th> <th>text</th> <th>sentiment</th> <th>Relevant</th>\n",
       "        </tr>\n",
       "    </thead>\n",
       "    <tbody>\n",
       "        <tr>\n",
       "            <td>0         </td> <td>802657195661742080 </td> <td>Christine Warren              </td> <td>Wed Sep 12 01:38:14 +0000 2018</td> <td>Fremont CA     </td> <td>2 american lives were just lost in tennessee potus pleas ...</td> <td>0        </td> <td>1       </td>\n",
       "        </tr>\n",
       "        <tr>\n",
       "            <td>1         </td> <td>1039245812230893570</td> <td>Trumpservative                </td> <td>Wed Sep 12 01:38:16 +0000 2018</td> <td>Tulsa OK       </td> <td>realfarmacist realdonaldtrump tuckercarlson our great le ...</td> <td>1        </td> <td>1       </td>\n",
       "        </tr>\n",
       "        <tr>\n",
       "            <td>2         </td> <td>282084840          </td> <td>Darrel Sheldon #MAGAVETERAN   </td> <td>Wed Sep 12 01:38:18 +0000 2018</td> <td>None           </td> <td>rightgottweets rev out the trumptrain for bluemilwaukee  ...</td> <td>0        </td> <td>1       </td>\n",
       "        </tr>\n",
       "        <tr>\n",
       "            <td>3         </td> <td>62315639           </td> <td>Queer Liberal Voting Snowflake</td> <td>Wed Sep 12 01:38:18 +0000 2018</td> <td>Big Sandy Texas</td> <td>tennessee is suffering after shooting takes 2 lives potu ...</td> <td>0        </td> <td>1       </td>\n",
       "        </tr>\n",
       "        <tr>\n",
       "            <td>4         </td> <td>823307049266245633 </td> <td>don jones #veteran (K)        </td> <td>Wed Sep 12 01:38:19 +0000 2018</td> <td>United States  </td> <td>sassytjoy bcmsolt fightinirish109 dybarb wolfiev3 kevinh ...</td> <td>-1       </td> <td>0       </td>\n",
       "        </tr>\n",
       "        <tr>\n",
       "            <td>5         </td> <td>340428574          </td> <td>DelcoGal                      </td> <td>Wed Sep 12 01:38:21 +0000 2018</td> <td>Pennsylvania   </td> <td>loudobbs redwaverising sidneypowell1 this years midterm  ...</td> <td>1        </td> <td>1       </td>\n",
       "        </tr>\n",
       "        <tr>\n",
       "            <td>6         </td> <td>1603928228         </td> <td>Julz                          </td> <td>Wed Sep 12 01:38:22 +0000 2018</td> <td>MIAATLPGH      </td> <td>2 lives were just lost in tennessee potus its time to do ...</td> <td>0        </td> <td>1       </td>\n",
       "        </tr>\n",
       "        <tr>\n",
       "            <td>7         </td> <td>1865678516         </td> <td>Barbara Kuczinski             </td> <td>Wed Sep 12 01:38:22 +0000 2018</td> <td>None           </td> <td>mollympengra realjameswoods obama mollympengra oh hon cn ...</td> <td>1        </td> <td>1       </td>\n",
       "        </tr>\n",
       "        <tr>\n",
       "            <td>8         </td> <td>59288409           </td> <td>Josh Steed PhD                </td> <td>Wed Sep 12 01:38:25 +0000 2018</td> <td>Arkansas       </td> <td>jillibean557 msm is repulsive they do nothing but lie an ...</td> <td>0        </td> <td>1       </td>\n",
       "        </tr>\n",
       "        <tr>\n",
       "            <td>9         </td> <td>325172419          </td> <td>Mrs. Linz                     </td> <td>Wed Sep 12 01:38:25 +0000 2018</td> <td>BC Canada      </td> <td>jc61384960 loricoutler amymek muslims coming illegally a ...</td> <td>2        </td> <td>1       </td>\n",
       "        </tr>\n",
       "    </tbody>\n",
       "</table>\n",
       "<p>... (1286 rows omitted)</p>"
      ],
      "text/plain": [
       "Unnamed: 0 | user_id             | user_name                      | tweet_time                     | location        | text                                                         | sentiment | Relevant\n",
       "0          | 802657195661742080  | Christine Warren               | Wed Sep 12 01:38:14 +0000 2018 | Fremont CA      | 2 american lives were just lost in tennessee potus pleas ... | 0         | 1\n",
       "1          | 1039245812230893570 | Trumpservative                 | Wed Sep 12 01:38:16 +0000 2018 | Tulsa OK        | realfarmacist realdonaldtrump tuckercarlson our great le ... | 1         | 1\n",
       "2          | 282084840           | Darrel Sheldon #MAGAVETERAN    | Wed Sep 12 01:38:18 +0000 2018 | None            | rightgottweets rev out the trumptrain for bluemilwaukee  ... | 0         | 1\n",
       "3          | 62315639            | Queer Liberal Voting Snowflake | Wed Sep 12 01:38:18 +0000 2018 | Big Sandy Texas | tennessee is suffering after shooting takes 2 lives potu ... | 0         | 1\n",
       "4          | 823307049266245633  | don jones #veteran (K)         | Wed Sep 12 01:38:19 +0000 2018 | United States   | sassytjoy bcmsolt fightinirish109 dybarb wolfiev3 kevinh ... | -1        | 0\n",
       "5          | 340428574           | DelcoGal                       | Wed Sep 12 01:38:21 +0000 2018 | Pennsylvania    | loudobbs redwaverising sidneypowell1 this years midterm  ... | 1         | 1\n",
       "6          | 1603928228          | Julz                           | Wed Sep 12 01:38:22 +0000 2018 | MIAATLPGH       | 2 lives were just lost in tennessee potus its time to do ... | 0         | 1\n",
       "7          | 1865678516          | Barbara Kuczinski              | Wed Sep 12 01:38:22 +0000 2018 | None            | mollympengra realjameswoods obama mollympengra oh hon cn ... | 1         | 1\n",
       "8          | 59288409            | Josh Steed PhD                 | Wed Sep 12 01:38:25 +0000 2018 | Arkansas        | jillibean557 msm is repulsive they do nothing but lie an ... | 0         | 1\n",
       "9          | 325172419           | Mrs. Linz                      | Wed Sep 12 01:38:25 +0000 2018 | BC Canada       | jc61384960 loricoutler amymek muslims coming illegally a ... | 2         | 1\n",
       "... (1286 rows omitted)"
      ]
     },
     "execution_count": 36,
     "metadata": {},
     "output_type": "execute_result"
    }
   ],
   "source": [
    "df = ds.Table.read_table('relevant_binary_tagged.csv', sep=',')\n",
    "df"
   ]
  },
  {
   "cell_type": "markdown",
   "metadata": {},
   "source": [
    "### data preprocessing"
   ]
  },
  {
   "cell_type": "code",
   "execution_count": 37,
   "metadata": {},
   "outputs": [],
   "source": [
    "relevant_tweet = df.where('Relevant', are.equal_to(1))\n",
    "irrelevant_tweet = df.where('Relevant', are.equal_to(0))"
   ]
  },
  {
   "cell_type": "code",
   "execution_count": 38,
   "metadata": {},
   "outputs": [],
   "source": [
    "relevant_tweet_cnt = relevant_tweet.num_rows\n",
    "irrelevant_tweet_cnt = irrelevant_tweet.num_rows"
   ]
  },
  {
   "cell_type": "code",
   "execution_count": 39,
   "metadata": {
    "scrolled": true
   },
   "outputs": [
    {
     "data": {
      "text/plain": [
       "(1133, 163)"
      ]
     },
     "execution_count": 39,
     "metadata": {},
     "output_type": "execute_result"
    }
   ],
   "source": [
    "relevant_tweet_cnt, irrelevant_tweet_cnt"
   ]
  },
  {
   "cell_type": "code",
   "execution_count": 40,
   "metadata": {},
   "outputs": [],
   "source": [
    "relevant_training_size = round(relevant_tweet_cnt*0.8)\n",
    "irrelevant_training_size = round(irrelevant_tweet_cnt*0.8)"
   ]
  },
  {
   "cell_type": "code",
   "execution_count": 41,
   "metadata": {},
   "outputs": [
    {
     "data": {
      "text/plain": [
       "(906, 130)"
      ]
     },
     "execution_count": 41,
     "metadata": {},
     "output_type": "execute_result"
    }
   ],
   "source": [
    "relevant_training_size, irrelevant_training_size"
   ]
  },
  {
   "cell_type": "code",
   "execution_count": 42,
   "metadata": {},
   "outputs": [],
   "source": [
    "relevant_train_idx = list(range(relevant_training_size))\n",
    "irrelevant_train_idx = list(range(irrelevant_training_size))\n",
    "relevant_test_idx = list(range(relevant_tweet_cnt))[int(relevant_training_size):]\n",
    "irrelevant_test_idx = list(range(irrelevant_tweet_cnt))[irrelevant_training_size:]\n",
    "\n",
    "\n",
    "relevant_training_text = list(relevant_tweet.take(relevant_train_idx)['text'])\n",
    "irrelevant_training_text = list(irrelevant_tweet.take(irrelevant_train_idx)['text'])\n",
    "relevant_training_relevant = list(relevant_tweet.take(relevant_train_idx)['Relevant'])\n",
    "irrelevant_training_relevant = list(irrelevant_tweet.take(irrelevant_train_idx)['Relevant'])\n",
    "\n",
    "relevant_testing_text = list(relevant_tweet.take(relevant_test_idx)['text'])\n",
    "irrelevant_testing_text = list(irrelevant_tweet.take(irrelevant_test_idx)['text'])\n",
    "relevant_testing_relevant = list(relevant_tweet.take(relevant_test_idx)['Relevant'])\n",
    "irrelevant_testing_relevant = list(irrelevant_tweet.take(irrelevant_test_idx)['Relevant'])\n",
    "\n",
    "X_train = relevant_training_text + irrelevant_training_text\n",
    "y_train = relevant_training_relevant + irrelevant_training_relevant\n",
    "X_test = relevant_testing_text + irrelevant_testing_text\n",
    "y_test = relevant_testing_relevant + irrelevant_testing_relevant\n"
   ]
  },
  {
   "cell_type": "markdown",
   "metadata": {},
   "source": [
    "### 2)  showing the sizes of your training and testing sets (number of relevant training + irrelevant training, number of relevant testing + irrelevant testing)"
   ]
  },
  {
   "cell_type": "code",
   "execution_count": 43,
   "metadata": {},
   "outputs": [
    {
     "data": {
      "text/plain": [
       "(1036, 260, 1036, 260)"
      ]
     },
     "execution_count": 43,
     "metadata": {},
     "output_type": "execute_result"
    }
   ],
   "source": [
    "len(X_train), len(X_test), len(y_train), len(y_test)"
   ]
  },
  {
   "cell_type": "markdown",
   "metadata": {},
   "source": [
    "#### Model (Bag of Words + DTree)"
   ]
  },
  {
   "cell_type": "code",
   "execution_count": 44,
   "metadata": {},
   "outputs": [
    {
     "data": {
      "text/plain": [
       "((1036, 3000), (260, 3000))"
      ]
     },
     "execution_count": 44,
     "metadata": {},
     "output_type": "execute_result"
    }
   ],
   "source": [
    "vect = CountVectorizer(\n",
    "     analyzer=\"word\", ngram_range=([1,2]), tokenizer=nltk.word_tokenize,\n",
    "    preprocessor=None, stop_words='english', max_features=3000)\n",
    "# vect = TfidfVectorizer(sublinear_tf=True, min_df=10, norm='l1', encoding='latin-1', \n",
    "#                         ngram_range=(1,2), stop_words='english')\n",
    "X_train_vect = vect.fit_transform(X_train).todense()\n",
    "X_test_vect = vect.transform(X_test)\n",
    "X_train_vect.shape, X_test_vect.shape"
   ]
  },
  {
   "cell_type": "code",
   "execution_count": 45,
   "metadata": {},
   "outputs": [
    {
     "data": {
      "text/plain": [
       "DecisionTreeClassifier(class_weight=None, criterion='entropy', max_depth=5,\n",
       "            max_features=None, max_leaf_nodes=None,\n",
       "            min_impurity_decrease=0.0, min_impurity_split=None,\n",
       "            min_samples_leaf=2, min_samples_split=2,\n",
       "            min_weight_fraction_leaf=0.0, presort=False, random_state=100,\n",
       "            splitter='best')"
      ]
     },
     "execution_count": 45,
     "metadata": {},
     "output_type": "execute_result"
    }
   ],
   "source": [
    "clf = DecisionTreeClassifier(criterion = 'entropy',\n",
    "                            random_state = 100,\n",
    "                            max_depth = 5,\n",
    "                            min_samples_leaf = 2)\n",
    "# clf = RandomForestClassifier(random_state=100,\n",
    "#                              n_estimators=60, \n",
    "#                              criterion='entropy', \n",
    "#                              n_jobs=4)\n",
    "# clf = XGBoostClassifier(max_depth=5, n_estimators=5)\n",
    "# clf = LogisticRegression()\n",
    "clf.fit(X_train_vect, y_train)"
   ]
  },
  {
   "cell_type": "code",
   "execution_count": 33,
   "metadata": {},
   "outputs": [
    {
     "data": {
      "text/plain": [
       "0.8745339960944435"
      ]
     },
     "execution_count": 33,
     "metadata": {},
     "output_type": "execute_result"
    }
   ],
   "source": [
    "y_pred = clf.predict(X_test_vect)\n",
    "np.mean([cross_val_score(clf, X_train_vect, y_train, cv=8)])"
   ]
  },
  {
   "cell_type": "markdown",
   "metadata": {},
   "source": [
    "### 3)  the confusion matrix of evaluating your Decision Tree-based relevant classifier using TESTING data, and identify false positive and false negative in your evaluation result."
   ]
  },
  {
   "cell_type": "code",
   "execution_count": 46,
   "metadata": {},
   "outputs": [
    {
     "data": {
      "text/plain": [
       "array([[  0,  33],\n",
       "       [  0, 227]])"
      ]
     },
     "execution_count": 46,
     "metadata": {},
     "output_type": "execute_result"
    }
   ],
   "source": [
    "cm = confusion_matrix(y_test, y_pred)\n",
    "cm"
   ]
  },
  {
   "cell_type": "code",
   "execution_count": 47,
   "metadata": {},
   "outputs": [
    {
     "name": "stdout",
     "output_type": "stream",
     "text": [
      "The False Positive: 33\n",
      "The False Negative: 0\n",
      "The True Positive: 227\n",
      "The True Negative: 0\n"
     ]
    }
   ],
   "source": [
    "FP = cm[0][1]\n",
    "FN = cm[1][0]\n",
    "TP = cm[1][1]\n",
    "TN = cm[0][0]\n",
    "print('The False Positive:', FP)\n",
    "print('The False Negative:', FN)\n",
    "print('The True Positive:', TP)\n",
    "print('The True Negative:', TN)"
   ]
  },
  {
   "cell_type": "code",
   "execution_count": 53,
   "metadata": {},
   "outputs": [
    {
     "data": {
      "text/plain": [
       "'RelevantClassifier.pdf'"
      ]
     },
     "execution_count": 53,
     "metadata": {},
     "output_type": "execute_result"
    }
   ],
   "source": [
    "dot_data = tree.export_graphviz(clf, out_file=None, feature_names=vect.get_feature_names())\n",
    "graph = Source(dot_data)\n",
    "graph.render('RelevantClassifier')"
   ]
  },
  {
   "cell_type": "markdown",
   "metadata": {},
   "source": [
    "### 4) A visualization of your decision tree."
   ]
  },
  {
   "cell_type": "markdown",
   "metadata": {},
   "source": [
    "![](tree_depth_5.png)"
   ]
  },
  {
   "cell_type": "markdown",
   "metadata": {},
   "source": [
    "### 5) A description of a rule based on the tree"
   ]
  },
  {
   "cell_type": "markdown",
   "metadata": {},
   "source": [
    "- If potus<=0.5:\n",
    "    - If realdonaldtrump<=0.5:\n",
    "        - If trump > 0.5:\n",
    "            - then the tree reaches the leaf, value = $[0, 87]$, indicating that there are 87 tweets are categorized as `Relevant`"
   ]
  },
  {
   "cell_type": "markdown",
   "metadata": {},
   "source": [
    "### 6) A short summary of your evaluation result using the confusion matrix"
   ]
  },
  {
   "cell_type": "code",
   "execution_count": 58,
   "metadata": {},
   "outputs": [
    {
     "name": "stdout",
     "output_type": "stream",
     "text": [
      "[[  0  33]\n",
      " [  0 227]]\n"
     ]
    },
    {
     "data": {
      "image/png": "[encoded data removed]",
      "text/plain": [
       "<Figure size 432x288 with 2 Axes>"
      ]
     },
     "metadata": {
      "needs_background": "light"
     },
     "output_type": "display_data"
    }
   ],
   "source": [
    "def plot_cm(cm, title='Confusion matrix', cmap=plt.cm.Blues, classes=['Relevant', 'Irrelevant']):\n",
    "    print(cm)\n",
    "    plt.imshow(cm, interpolation='nearest', cmap=cmap)\n",
    "    plt.title(title)\n",
    "    plt.colorbar()\n",
    "    tick_marks = np.arange(len(classes))\n",
    "    target_names = classes\n",
    "    plt.xticks(tick_marks, target_names, rotation=45)\n",
    "    plt.yticks(tick_marks, target_names)\n",
    "    plt.tight_layout()\n",
    "    plt.ylabel('True label')\n",
    "    plt.xlabel('Predicted label')\n",
    "plot_cm(confusion_matrix(y_test, y_pred))"
   ]
  },
  {
   "cell_type": "code",
   "execution_count": 56,
   "metadata": {},
   "outputs": [
    {
     "name": "stdout",
     "output_type": "stream",
     "text": [
      "AUC(ROC): 0.5\n",
      "Precision: 0.8730769230769231\n",
      "Recall: 1.0\n",
      "F1 score: 0.9322381930184805\n"
     ]
    }
   ],
   "source": [
    "print(\"AUC(ROC): \" + str(metrics.roc_auc_score(y_test, y_pred)))\n",
    "print(\"Precision: \" + str(metrics.precision_score(y_test, y_pred)))\n",
    "print(\"Recall: \" + str(metrics.recall_score(y_test, y_pred)))\n",
    "print(\"F1 score: \" + str(metrics.f1_score(y_test, y_pred)))"
   ]
  },
  {
   "cell_type": "markdown",
   "metadata": {},
   "source": [
    "Here we can see from the confusion matrix that the `True Negative`=0, and `False Positive`=33, which means all 33 `Irrelevant` tweets are categorized as `Relevant`. Thus there appears to have a serious problem here: even with the accuracy is decent, it is actually inflated. The reason for that is because the proportion of `Relevant` tweets(__1133/1296__) is way larger than that of `Irrelevant` tweets(__163/1296__)"
   ]
  },
  {
   "cell_type": "code",
   "execution_count": 54,
   "metadata": {},
   "outputs": [],
   "source": [
    "def classify(X_train_vect, y_train, X_test_vect, y_test, model, vector):\n",
    "    clf.fit(X_train_vect, y_train)\n",
    "    y_pred = clf.predict(X_test_vect)\n",
    "    try:\n",
    "        dot_data = tree.export_graphviz(model, out_file=None, feature_names=vector.get_feature_names())\n",
    "        graph = Source(dot_data)\n",
    "        graph.render('RelevantClassifier_{}'.format(datetime.datetime.now().strftime('%Y-%m-%d_%H-%M-%S')))\n",
    "    except Exception as e:\n",
    "        print(e)\n",
    "    cross_val_s = np.mean([cross_val_score(model, X_train_vect, y_train, cv=8)])\n",
    "    print('Cross_val_score: {}'.format(cross_val_s))\n",
    "    print(\"AUC(ROC): \" + str(metrics.roc_auc_score(y_test, y_pred)))\n",
    "    print(\"Precision: \" + str(metrics.precision_score(y_test, y_pred)))\n",
    "    print(\"Recall: \" + str(metrics.recall_score(y_test, y_pred)))\n",
    "    print(\"F1 score: \" + str(metrics.f1_score(y_test, y_pred)))\n",
    "    print(metrics.confusion_matrix(y_test, y_pred))\n",
    "    plt.figure(figsize=(5,5))\n",
    "    plot_cm(metrics.confusion_matrix(y_test, y_pred))\n",
    "    plt.show()\n",
    "    return cross_val_s"
   ]
  },
  {
   "cell_type": "markdown",
   "metadata": {},
   "source": [
    "### experiment 1: undersample the `Relevant` data"
   ]
  },
  {
   "cell_type": "code",
   "execution_count": 204,
   "metadata": {},
   "outputs": [],
   "source": [
    "def undersample(data, percentage, vector):\n",
    "    relevant_idx = tagged[tagged.Relevant==1].index\n",
    "    irrelevant_idx = tagged[tagged.Relevant==0].index\n",
    "    undersample_relevant_idx = np.array(np.random.choice(relevant_idx,(int(percentage*len(irrelevant_idx))),replace=False))\n",
    "    undersample_idx= np.concatenate([irrelevant_idx, undersample_relevant_idx])\n",
    "    undersample_data = tagged.iloc[undersample_idx,:]\n",
    "    print('There are {} relevant tweets.\\n There are {} irrelevant tweets.'.format(len(undersample_data[undersample_data.Relevant==1]), \n",
    "                                                                                   len(undersample_data[undersample_data.Relevant==0])))\n",
    "    X_train, X_test, y_train, y_test = train_test_split(undersample_data.text, undersample_data.Relevant, test_size=0.2, random_state=100)\n",
    "    X_train_vect = vector.fit_transform(X_train).todense()\n",
    "    X_test_vect = vector.transform(X_test)\n",
    "    plt.figure(figsize=(5,5))\n",
    "    sns.countplot(\"Relevant\",data=undersample_data)\n",
    "    plt.show()\n",
    "    return X_train_vect, X_test_vect, y_train, y_test"
   ]
  },
  {
   "cell_type": "markdown",
   "metadata": {},
   "source": [
    "#### test:"
   ]
  },
  {
   "cell_type": "code",
   "execution_count": 205,
   "metadata": {},
   "outputs": [
    {
     "name": "stdout",
     "output_type": "stream",
     "text": [
      "There are 163 relevant tweets.\n",
      " There are 163 irrelevant tweets.\n"
     ]
    },
    {
     "data": {
      "image/png": "[encoded data removed]",
      "text/plain": [
       "<Figure size 360x360 with 1 Axes>"
      ]
     },
     "metadata": {
      "needs_background": "light"
     },
     "output_type": "display_data"
    },
    {
     "name": "stdout",
     "output_type": "stream",
     "text": [
      "type object 'datetime.datetime' has no attribute 'datetime'\n",
      "Cross_val_score: 0.8148216031280547\n",
      "AUC(ROC): 0.806390977443609\n",
      "Precision: 0.9285714285714286\n",
      "Recall: 0.6842105263157895\n",
      "F1 score: 0.7878787878787878\n",
      "[[26  2]\n",
      " [12 26]]\n"
     ]
    },
    {
     "data": {
      "image/png": "[encoded data removed]",
      "text/plain": [
       "<Figure size 360x360 with 2 Axes>"
      ]
     },
     "metadata": {
      "needs_background": "light"
     },
     "output_type": "display_data"
    },
    {
     "name": "stdout",
     "output_type": "stream",
     "text": [
      "There are 244 relevant tweets.\n",
      " There are 163 irrelevant tweets.\n"
     ]
    },
    {
     "data": {
      "image/png": "[encoded data removed]",
      "text/plain": [
       "<Figure size 360x360 with 1 Axes>"
      ]
     },
     "metadata": {
      "needs_background": "light"
     },
     "output_type": "display_data"
    },
    {
     "name": "stdout",
     "output_type": "stream",
     "text": [
      "type object 'datetime.datetime' has no attribute 'datetime'\n",
      "Cross_val_score: 0.7730788774233897\n",
      "AUC(ROC): 0.8679245283018868\n",
      "Precision: 1.0\n",
      "Recall: 0.7358490566037735\n",
      "F1 score: 0.8478260869565216\n",
      "[[29  0]\n",
      " [14 39]]\n"
     ]
    },
    {
     "data": {
      "image/png": "[encoded data removed]",
      "text/plain": [
       "<Figure size 360x360 with 2 Axes>"
      ]
     },
     "metadata": {
      "needs_background": "light"
     },
     "output_type": "display_data"
    },
    {
     "name": "stdout",
     "output_type": "stream",
     "text": [
      "There are 326 relevant tweets.\n",
      " There are 163 irrelevant tweets.\n"
     ]
    },
    {
     "data": {
      "image/png": "[encoded data removed]",
      "text/plain": [
       "<Figure size 360x360 with 1 Axes>"
      ]
     },
     "metadata": {
      "needs_background": "light"
     },
     "output_type": "display_data"
    },
    {
     "name": "stdout",
     "output_type": "stream",
     "text": [
      "type object 'datetime.datetime' has no attribute 'datetime'\n",
      "Cross_val_score: 0.7953039965986395\n",
      "AUC(ROC): 0.8784313725490196\n",
      "Precision: 0.9655172413793104\n",
      "Recall: 0.8235294117647058\n",
      "F1 score: 0.888888888888889\n",
      "[[28  2]\n",
      " [12 56]]\n"
     ]
    },
    {
     "data": {
      "image/png": "[encoded data removed]",
      "text/plain": [
       "<Figure size 360x360 with 2 Axes>"
      ]
     },
     "metadata": {
      "needs_background": "light"
     },
     "output_type": "display_data"
    },
    {
     "name": "stdout",
     "output_type": "stream",
     "text": [
      "There are 407 relevant tweets.\n",
      " There are 163 irrelevant tweets.\n"
     ]
    },
    {
     "data": {
      "image/png": "[encoded data removed]",
      "text/plain": [
       "<Figure size 360x360 with 1 Axes>"
      ]
     },
     "metadata": {
      "needs_background": "light"
     },
     "output_type": "display_data"
    },
    {
     "name": "stdout",
     "output_type": "stream",
     "text": [
      "type object 'datetime.datetime' has no attribute 'datetime'\n",
      "Cross_val_score: 0.8072660098522167\n",
      "AUC(ROC): 0.8773804897007386\n",
      "Precision: 0.9714285714285714\n",
      "Recall: 0.8192771084337349\n",
      "F1 score: 0.8888888888888888\n",
      "[[29  2]\n",
      " [15 68]]\n"
     ]
    },
    {
     "data": {
      "image/png": "[encoded data removed]",
      "text/plain": [
       "<Figure size 360x360 with 2 Axes>"
      ]
     },
     "metadata": {
      "needs_background": "light"
     },
     "output_type": "display_data"
    },
    {
     "name": "stdout",
     "output_type": "stream",
     "text": [
      "There are 489 relevant tweets.\n",
      " There are 163 irrelevant tweets.\n"
     ]
    },
    {
     "data": {
      "image/png": "[encoded data removed]",
      "text/plain": [
       "<Figure size 360x360 with 1 Axes>"
      ]
     },
     "metadata": {
      "needs_background": "light"
     },
     "output_type": "display_data"
    },
    {
     "name": "stdout",
     "output_type": "stream",
     "text": [
      "type object 'datetime.datetime' has no attribute 'datetime'\n",
      "Cross_val_score: 0.8042304050116551\n",
      "AUC(ROC): 0.8232323232323233\n",
      "Precision: 1.0\n",
      "Recall: 0.6464646464646465\n",
      "F1 score: 0.7852760736196319\n",
      "[[32  0]\n",
      " [35 64]]\n"
     ]
    },
    {
     "data": {
      "image/png": "[encoded data removed]",
      "text/plain": [
       "<Figure size 360x360 with 2 Axes>"
      ]
     },
     "metadata": {
      "needs_background": "light"
     },
     "output_type": "display_data"
    },
    {
     "name": "stdout",
     "output_type": "stream",
     "text": [
      "There are 570 relevant tweets.\n",
      " There are 163 irrelevant tweets.\n"
     ]
    },
    {
     "data": {
      "image/png": "[encoded data removed]",
      "text/plain": [
       "<Figure size 360x360 with 1 Axes>"
      ]
     },
     "metadata": {
      "needs_background": "light"
     },
     "output_type": "display_data"
    },
    {
     "name": "stdout",
     "output_type": "stream",
     "text": [
      "type object 'datetime.datetime' has no attribute 'datetime'\n",
      "Cross_val_score: 0.7662459120078984\n",
      "AUC(ROC): 0.8184275184275185\n",
      "Precision: 0.9743589743589743\n",
      "Recall: 0.6909090909090909\n",
      "F1 score: 0.8085106382978723\n",
      "[[35  2]\n",
      " [34 76]]\n"
     ]
    },
    {
     "data": {
      "image/png": "[encoded data removed]",
      "text/plain": [
       "<Figure size 360x360 with 2 Axes>"
      ]
     },
     "metadata": {
      "needs_background": "light"
     },
     "output_type": "display_data"
    },
    {
     "data": {
      "image/png": "[encoded data removed]",
      "text/plain": [
       "<Figure size 360x360 with 1 Axes>"
      ]
     },
     "metadata": {
      "needs_background": "light"
     },
     "output_type": "display_data"
    }
   ],
   "source": [
    "cross_val_scores=[]\n",
    "for percentage in np.arange(1, 4, 0.5):\n",
    "    X_train_vect, X_test_vect, y_train, y_test = undersample(tagged, percentage, vect)\n",
    "    cross_val_s = classify(X_train_vect=X_train_vect,\n",
    "        X_test_vect=X_test_vect,\n",
    "        y_train =y_train,\n",
    "        y_test=y_test,\n",
    "        model=clf,\n",
    "        vector=vect)\n",
    "    cross_val_scores.append(cross_val_s)\n",
    "plt.figure(figsize=(5,5))\n",
    "plt.plot(np.arange(1,4,0.5), cross_val_scores)\n",
    "plt.scatter(np.arange(1,4,0.5), cross_val_scores, c='r')\n",
    "plt.show()"
   ]
  },
  {
   "cell_type": "markdown",
   "metadata": {},
   "source": [
    "### experiment 2: oversample the `Irrelevant` data"
   ]
  },
  {
   "cell_type": "code",
   "execution_count": 206,
   "metadata": {},
   "outputs": [],
   "source": [
    "def oversample(data, vector):\n",
    "    os = SMOTE(random_state=0)\n",
    "    X_train, X_test, y_train, y_test = train_test_split(data.text, data.Relevant, test_size=0.2, random_state=100)\n",
    "    X_train_vect = vector.fit_transform(X_train).todense()\n",
    "    X_test_vect = vector.transform(X_test)\n",
    "    os_X_train, os_y_train = os.fit_sample(X_train_vect, y_train)\n",
    "    return os_X_train, X_test_vect, os_y_train, y_test"
   ]
  },
  {
   "cell_type": "code",
   "execution_count": 207,
   "metadata": {},
   "outputs": [
    {
     "name": "stdout",
     "output_type": "stream",
     "text": [
      "type object 'datetime.datetime' has no attribute 'datetime'\n",
      "Cross_val_score: 0.8636032836516069\n",
      "AUC(ROC): 0.796875\n",
      "Precision: 0.9715909090909091\n",
      "Recall: 0.75\n",
      "F1 score: 0.8465346534653464\n",
      "[[ 27   5]\n",
      " [ 57 171]]\n"
     ]
    },
    {
     "data": {
      "image/png": "[encoded data removed]",
      "text/plain": [
       "<Figure size 360x360 with 2 Axes>"
      ]
     },
     "metadata": {
      "needs_background": "light"
     },
     "output_type": "display_data"
    },
    {
     "data": {
      "text/plain": [
       "0.8636032836516069"
      ]
     },
     "execution_count": 207,
     "metadata": {},
     "output_type": "execute_result"
    }
   ],
   "source": [
    "X_train_vect, X_test_vect, y_train, y_test = oversample(tagged, vect)\n",
    "cross_val_s = classify(X_train_vect=X_train_vect,\n",
    "        X_test_vect=X_test_vect,\n",
    "        y_train =y_train,\n",
    "        y_test=y_test,\n",
    "        model=clf,\n",
    "        vector=vect)\n",
    "cross_val_s"
   ]
  }
 ],
 "metadata": {
  "kernelspec": {
   "display_name": "Python 3",
   "language": "python",
   "name": "python3"
  },
  "language_info": {
   "codemirror_mode": {
    "name": "ipython",
    "version": 3
   },
   "file_extension": ".py",
   "mimetype": "text/x-python",
   "name": "python",
   "nbconvert_exporter": "python",
   "pygments_lexer": "ipython3",
   "version": "3.6.5"
  },
  "latex_envs": {
   "LaTeX_envs_menu_present": true,
   "autoclose": false,
   "autocomplete": true,
   "bibliofile": "biblio.bib",
   "cite_by": "apalike",
   "current_citInitial": 1,
   "eqLabelWithNumbers": true,
   "eqNumInitial": 1,
   "hotkeys": {
    "equation": "Ctrl-E",
    "itemize": "Ctrl-I"
   },
   "labels_anchors": false,
   "latex_user_defs": false,
   "report_style_numbering": false,
   "user_envs_cfg": false
  },
  "varInspector": {
   "cols": {
    "lenName": 16,
    "lenType": 16,
    "lenVar": 40
   },
   "kernels_config": {
    "python": {
     "delete_cmd_postfix": "",
     "delete_cmd_prefix": "del ",
     "library": "var_list.py",
     "varRefreshCmd": "print(var_dic_list())"
    },
    "r": {
     "delete_cmd_postfix": ") ",
     "delete_cmd_prefix": "rm(",
     "library": "var_list.r",
     "varRefreshCmd": "cat(var_dic_list()) "
    }
   },
   "types_to_exclude": [
    "module",
    "function",
    "builtin_function_or_method",
    "instance",
    "_Feature"
   ],
   "window_display": false
  }
 },
 "nbformat": 4,
 "nbformat_minor": 2
}
