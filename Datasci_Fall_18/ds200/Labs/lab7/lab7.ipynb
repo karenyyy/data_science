{
 "cells": [
  {
   "cell_type": "markdown",
   "metadata": {},
   "source": [
    "### import packages"
   ]
  },
  {
   "cell_type": "code",
   "execution_count": 270,
   "metadata": {
    "scrolled": true
   },
   "outputs": [],
   "source": [
    "import datascience as ds\n",
    "from datascience import *\n",
    "import numpy as np\n",
    "from graphviz import Source\n",
    "import pandas as pd\n",
    "import re, string\n",
    "import nltk\n",
    "from functools import reduce\n",
    "import seaborn as sns\n",
    "from sklearn.feature_extraction.text import CountVectorizer\n",
    "from sklearn.tree import DecisionTreeClassifier\n",
    "from sklearn import tree\n",
    "from sklearn.metrics import confusion_matrix, precision_score, recall_score, f1_score, accuracy_score, classification_report\n",
    "import matplotlib.pyplot as plt\n",
    "from sklearn.model_selection import train_test_split, cross_val_score, StratifiedKFold\n",
    "\n",
    "%matplotlib inline"
   ]
  },
  {
   "cell_type": "code",
   "execution_count": 271,
   "metadata": {
    "scrolled": true
   },
   "outputs": [],
   "source": [
    "def process_text(data):\n",
    "    cleaned_text = [\n",
    "        re.sub('\\s+', ' ', \n",
    "               re.sub(\"(@[A-Za-z0-9]+)|([^0-9A-Za-z \\t])|(\\w+:\\/\\/\\S+)|^rt|[0-9]+|http.+?\", '',\n",
    "               tweets.lower()).strip(string.punctuation).strip()) for tweets in data\n",
    "        ]\n",
    "    return cleaned_text"
   ]
  },
  {
   "cell_type": "code",
   "execution_count": 272,
   "metadata": {
    "scrolled": true
   },
   "outputs": [],
   "source": [
    "tagged = pd.read_csv('tagged.csv', sep=',', index_col=False)\n",
    "tagged.text = process_text(tagged.text)\n",
    "tagged = tagged.drop(tagged.columns[0], axis=1).reset_index(drop=True)\n",
    "tagged = tagged.drop(tagged[tagged.sentiment==-1].index).reset_index(drop=True)\n",
    "tagged = tagged.iloc[tagged.text.drop_duplicates().index]\n",
    "tagged.to_csv('relevant_tagged.csv')"
   ]
  },
  {
   "cell_type": "markdown",
   "metadata": {},
   "source": [
    "### tweets data loaded into Jupyter Notebook as Table object"
   ]
  },
  {
   "cell_type": "code",
   "execution_count": 273,
   "metadata": {
    "scrolled": true
   },
   "outputs": [],
   "source": [
    "df = ds.Table.read_table('relevant_tagged.csv', sep=',')"
   ]
  },
  {
   "cell_type": "markdown",
   "metadata": {},
   "source": [
    "### StratifiedKFold"
   ]
  },
  {
   "cell_type": "code",
   "execution_count": 274,
   "metadata": {
    "scrolled": true
   },
   "outputs": [],
   "source": [
    "X = list(df['text'])\n",
    "y = list(df['sentiment'])"
   ]
  },
  {
   "cell_type": "markdown",
   "metadata": {},
   "source": [
    "#### Model Building"
   ]
  },
  {
   "cell_type": "code",
   "execution_count": 275,
   "metadata": {
    "scrolled": true
   },
   "outputs": [],
   "source": [
    "def custom_split(train_index, test_index):\n",
    "    trainingset = df.take(train_index)\n",
    "    testingset = df.take(test_index)    \n",
    "        \n",
    "    X_train= list(trainingset['text'])\n",
    "    y_train= list(trainingset['sentiment'])\n",
    "    X_test= list(testingset['text'])\n",
    "    y_test= list(testingset['sentiment'])\n",
    "    \n",
    "    return X_train, X_test, y_train, y_test"
   ]
  },
  {
   "cell_type": "code",
   "execution_count": 251,
   "metadata": {
    "scrolled": true
   },
   "outputs": [],
   "source": [
    "def word_vectorizer(X_train, X_test):\n",
    "    vect = CountVectorizer(\n",
    "         analyzer=\"word\", ngram_range=([1,2]), tokenizer=nltk.word_tokenize,\n",
    "        preprocessor=None, stop_words='english', max_features=3000)\n",
    "#     vect = TfidfVectorizer(sublinear_tf=True, min_df=10, norm='l1', encoding='latin-1', \n",
    "#                             ngram_range=(1,2), stop_words='english')\n",
    "    X_train_vect = vect.fit_transform(X_train)\n",
    "    X_test_vect = vect.transform(X_test)\n",
    "    return X_train_vect, X_test_vect, vect.get_feature_names()"
   ]
  },
  {
   "cell_type": "code",
   "execution_count": 252,
   "metadata": {
    "scrolled": true
   },
   "outputs": [],
   "source": [
    "def classifier(X_train, y_train, X_test, fold, feature_names, max_depth, min_samples_leaf):\n",
    "    clf = DecisionTreeClassifier(criterion = 'entropy',\n",
    "                                    random_state = 100,\n",
    "                                    max_depth = max_depth,\n",
    "                                    min_samples_leaf = min_samples_leaf)\n",
    "\n",
    "    clf.fit(X_train, y_train)\n",
    "    try:\n",
    "        dot_data = tree.export_graphviz(clf, out_file=None, \n",
    "                                        feature_names=feature_names)\n",
    "        graph = Source(dot_data)\n",
    "        graph.render('SentientClassifier-Fold_{}_depth{}_leaf_{}'.format(fold, max_depth, min_samples_leaf))\n",
    "    except Exception as e:\n",
    "        print(e)\n",
    "    predicted_y_test = clf.predict(X_test)\n",
    "    return predicted_y_test"
   ]
  },
  {
   "cell_type": "code",
   "execution_count": 253,
   "metadata": {
    "scrolled": true
   },
   "outputs": [],
   "source": [
    "def eval_results(predicted_y_test, y_test):\n",
    "    precision_s = precision_score(y_test, predicted_y_test, average='weighted')\n",
    "    recall_s = recall_score(y_test, predicted_y_test, average='weighted')\n",
    "    f1_s = f1_score(y_test, predicted_y_test, average='weighted')\n",
    "    cm = confusion_matrix(y_test, predicted_y_test)  \n",
    "    return precision_s, recall_s, f1_s, cm"
   ]
  },
  {
   "cell_type": "code",
   "execution_count": 254,
   "metadata": {},
   "outputs": [],
   "source": [
    "def plot_results(res, idx):\n",
    "    metrics_df = pd.DataFrame(\n",
    "        {'precision': res[idx].precision_score,\n",
    "        'recall':res[idx].recall_score,\n",
    "        'f1':res[idx].f1_score}\n",
    "        )\n",
    "    metrics_df.index = np.arange(1,6)\n",
    "    metrics_df.plot(linewidth=2)\n",
    "    plt.show()"
   ]
  },
  {
   "cell_type": "markdown",
   "metadata": {},
   "source": [
    "###  1) Stratified k-fold cross validation results for each combination of max_depth and min_samples_leaf you chose"
   ]
  },
  {
   "cell_type": "code",
   "execution_count": 255,
   "metadata": {
    "scrolled": true
   },
   "outputs": [],
   "source": [
    "def k_fold_evaluate(X, y, n_splits, max_depth_tests, min_samples_leaf_tests):\n",
    "\n",
    "    classes = ['neutral', 'positive', 'negative']\n",
    "    skf = StratifiedKFold(n_splits=n_splits, random_state=1, shuffle= True)\n",
    "    \n",
    "    res = []\n",
    "    res_total = []\n",
    "    \n",
    "    for depth in max_depth_tests:\n",
    "        for leaf in min_samples_leaf_tests:\n",
    "            fold = 1\n",
    "            for train_index, test_index in skf.split(X, y):\n",
    "                \n",
    "                X_train, X_test, y_train, y_test = custom_split(train_index, test_index)\n",
    "\n",
    "                X_train_vect, X_test_vect, feature_names = word_vectorizer(X_train, X_test)\n",
    "\n",
    "                # print('max_depth = {}'.format(depth))\n",
    "                # print('min_samples_leaf = {}\\n'.format(leaf))\n",
    "                predicted_y_test = classifier(X_train=X_train_vect, y_train=y_train, \n",
    "                                              X_test=X_test_vect, fold=fold, \n",
    "                                              feature_names=feature_names,\n",
    "                                              max_depth=depth,\n",
    "                                              min_samples_leaf=leaf)\n",
    "                precision_s, recall_s, f1_s, cm = eval_results(predicted_y_test, y_test)\n",
    "                \n",
    "                res.append(['fold{}'.format(fold), depth, leaf, f1_s, precision_s, recall_s])\n",
    "                fold += 1\n",
    "                \n",
    "    res_df = pd.DataFrame(res, columns=['fold', 'max_depth', 'min_samples_leaf', 'f1_score', 'precision_score', 'recall_score'])\n",
    "    \n",
    "    for s in ['f1_score', 'precision_score', 'recall_score']:\n",
    "        max_score = np.array(res_df.groupby(by='fold').apply(lambda x: x[s].values.argmax()).values)\n",
    "        res_total.append(pd.DataFrame([res_df[res_df.fold=='fold{}'.format(i)].iloc[max_score[i-1], :] for i in range(1,6)]))\n",
    "        \n",
    "    return res_total"
   ]
  },
  {
   "cell_type": "code",
   "execution_count": 256,
   "metadata": {
    "scrolled": true
   },
   "outputs": [],
   "source": [
    "max_depth_tests = np.arange(5, 15, 1)\n",
    "min_samples_leaf_tests = np.arange(1, 5, 1)\n",
    "res_total = k_fold_evaluate(X, y, n_splits=5, max_depth_tests=max_depth_tests, min_samples_leaf_tests=min_samples_leaf_tests)"
   ]
  },
  {
   "cell_type": "markdown",
   "metadata": {},
   "source": [
    "#### when reach max f1 score in each fold: "
   ]
  },
  {
   "cell_type": "code",
   "execution_count": 269,
   "metadata": {},
   "outputs": [
    {
     "name": "stdout",
     "output_type": "stream",
     "text": [
      "\\begin{tabular}{llrrrrr}\n",
      "\\toprule\n",
      "{} &   fold &  max\\_depth &  min\\_samples\\_leaf &  f1\\_score &  precision\\_score &  recall\\_score \\\\\n",
      "\\midrule\n",
      "155 &  fold1 &         12 &                 4 &  0.435166 &         0.717057 &      0.507389 \\\\\n",
      "161 &  fold2 &         13 &                 1 &  0.428888 &         0.709975 &      0.497537 \\\\\n",
      "182 &  fold3 &         14 &                 1 &  0.448121 &         0.743648 &      0.514851 \\\\\n",
      "183 &  fold4 &         14 &                 1 &  0.440867 &         0.741167 &      0.509901 \\\\\n",
      "164 &  fold5 &         13 &                 1 &  0.401043 &         0.700211 &      0.485149 \\\\\n",
      "\\bottomrule\n",
      "\\end{tabular}\n",
      "\n"
     ]
    }
   ],
   "source": [
    "print(res_total[0].to_latex())"
   ]
  },
  {
   "cell_type": "code",
   "execution_count": 258,
   "metadata": {},
   "outputs": [
    {
     "data": {
      "image/png": "[encoded data removed]",
      "text/plain": [
       "<Figure size 432x288 with 1 Axes>"
      ]
     },
     "metadata": {
      "needs_background": "light"
     },
     "output_type": "display_data"
    }
   ],
   "source": [
    "plot_results(res_total, idx=0)"
   ]
  },
  {
   "cell_type": "markdown",
   "metadata": {},
   "source": [
    "#### when reach max precision score in each fold:"
   ]
  },
  {
   "cell_type": "code",
   "execution_count": 266,
   "metadata": {},
   "outputs": [
    {
     "name": "stdout",
     "output_type": "stream",
     "text": [
      "\\begin{tabular}{llrrrrr}\n",
      "\\toprule\n",
      "{} &   fold &  max\\_depth &  min\\_samples\\_leaf &  f1\\_score &  precision\\_score &  recall\\_score \\\\\n",
      "\\midrule\n",
      "20  &  fold1 &          6 &                 1 &  0.334993 &         0.771800 &      0.448276 \\\\\n",
      "1   &  fold2 &          5 &                 1 &  0.335450 &         0.771800 &      0.448276 \\\\\n",
      "182 &  fold3 &         14 &                 1 &  0.448121 &         0.743648 &      0.514851 \\\\\n",
      "23  &  fold4 &          6 &                 1 &  0.358025 &         0.774925 &      0.460396 \\\\\n",
      "164 &  fold5 &         13 &                 1 &  0.401043 &         0.700211 &      0.485149 \\\\\n",
      "\\bottomrule\n",
      "\\end{tabular}\n",
      "\n"
     ]
    }
   ],
   "source": [
    "print(res_total[1].to_latex())"
   ]
  },
  {
   "cell_type": "code",
   "execution_count": 260,
   "metadata": {},
   "outputs": [
    {
     "data": {
      "image/png": "[encoded data removed]",
      "text/plain": [
       "<Figure size 432x288 with 1 Axes>"
      ]
     },
     "metadata": {
      "needs_background": "light"
     },
     "output_type": "display_data"
    }
   ],
   "source": [
    "plot_results(res_total, idx=1)"
   ]
  },
  {
   "cell_type": "markdown",
   "metadata": {},
   "source": [
    "#### when reach max recall score in each fold:"
   ]
  },
  {
   "cell_type": "code",
   "execution_count": 268,
   "metadata": {},
   "outputs": [
    {
     "name": "stdout",
     "output_type": "stream",
     "text": [
      "\\begin{tabular}{llrrrrr}\n",
      "\\toprule\n",
      "{} &   fold &  max\\_depth &  min\\_samples\\_leaf &  f1\\_score &  precision\\_score &  recall\\_score \\\\\n",
      "\\midrule\n",
      "155 &  fold1 &         12 &                 4 &  0.435166 &         0.717057 &      0.507389 \\\\\n",
      "151 &  fold2 &         12 &                 3 &  0.419940 &         0.732016 &      0.497537 \\\\\n",
      "182 &  fold3 &         14 &                 1 &  0.448121 &         0.743648 &      0.514851 \\\\\n",
      "183 &  fold4 &         14 &                 1 &  0.440867 &         0.741167 &      0.509901 \\\\\n",
      "164 &  fold5 &         13 &                 1 &  0.401043 &         0.700211 &      0.485149 \\\\\n",
      "\\bottomrule\n",
      "\\end{tabular}\n",
      "\n"
     ]
    }
   ],
   "source": [
    "print(res_total[2].to_latex())"
   ]
  },
  {
   "cell_type": "code",
   "execution_count": 262,
   "metadata": {},
   "outputs": [
    {
     "data": {
      "image/png": "[encoded data removed]",
      "text/plain": [
       "<Figure size 432x288 with 1 Axes>"
      ]
     },
     "metadata": {
      "needs_background": "light"
     },
     "output_type": "display_data"
    }
   ],
   "source": [
    "plot_results(res_total, idx=2)"
   ]
  },
  {
   "cell_type": "markdown",
   "metadata": {},
   "source": [
    "### 2) discuss common features across the trees generated for each k-fold cross validation (include visualization of exemplar trees)"
   ]
  },
  {
   "cell_type": "markdown",
   "metadata": {},
   "source": [
    "Here we display the tree in randomly chosen folds that reaches the highest f1, precision and recall scores:\n",
    "\n"
   ]
  },
  {
   "cell_type": "markdown",
   "metadata": {},
   "source": [
    "- Fold 1: max_depth = 12, min_samples_leaf = 4\n",
    "\n",
    "![](fold1_14_1.png)\n",
    "\n",
    "\n",
    "- Fold 1: max_depth = 6, min_samples_leaf = 1\n",
    "\n",
    "![](fold1_6_1.png)\n",
    "\n",
    "\n",
    "- Fold 5: max_depth = 13, min_samples_leaf = 1\n",
    "\n",
    "![](fold5_13_1.png)\n",
    "\n",
    "\n",
    "\n",
    "- Decision Trees of different combination of max_depth and min_samples_leaf and different folds share some similar features, for instance:\n",
    "    - $great \\le 5$ is the root node of all the sampled trees here\n",
    "    - $illegal \\le 0.5, good \\le 0.5$ also appears in all sampled trees\n",
    "    - $crazy \\le 0.5, deep \\le 0.5$ appears in not all but also more than 1 tree\n"
   ]
  },
  {
   "cell_type": "markdown",
   "metadata": {},
   "source": [
    "### 3) discuss the results (e.g., the best combination of max_depth and min_samples_leaf)"
   ]
  },
  {
   "cell_type": "markdown",
   "metadata": {},
   "source": [
    "To summarize, when $\\text{max_depth} \\in [1,15], \\text{min_samples_leaf} \\in [1,5]$\n",
    "\n",
    "$$\\text{ max_depth }= 14$$\n",
    "\n",
    "$$\\text{ min_samples_leaf } = 1 $$\n",
    "\n",
    "or \n",
    "\n",
    "$$\\text{ max_depth }= 13$$\n",
    "\n",
    "$$\\text{ min_samples_leaf } = 1 $$\n",
    "\n",
    "are probably the optimal choice since in the 5 fold cross validation, these combination reach:\n",
    "- 14, 1\n",
    "    - the highest f1 score in fold3 and fold4\n",
    "    - the highest precision score in fold3\n",
    "    - the highest recall score in fold3 and fold4\n",
    "- 13, 1\n",
    "    - the highest f1 score in fold2 and fold5\n",
    "    - the highest precision score in fold5\n",
    "    - the highest recall score in fold5"
   ]
  },
  {
   "cell_type": "code",
   "execution_count": null,
   "metadata": {},
   "outputs": [],
   "source": []
  }
 ],
 "metadata": {
  "kernelspec": {
   "display_name": "Python 3",
   "language": "python",
   "name": "python3"
  },
  "language_info": {
   "codemirror_mode": {
    "name": "ipython",
    "version": 3
   },
   "file_extension": ".py",
   "mimetype": "text/x-python",
   "name": "python",
   "nbconvert_exporter": "python",
   "pygments_lexer": "ipython3",
   "version": "3.6.6"
  },
  "latex_envs": {
   "LaTeX_envs_menu_present": true,
   "autoclose": false,
   "autocomplete": true,
   "bibliofile": "biblio.bib",
   "cite_by": "apalike",
   "current_citInitial": 1.0,
   "eqLabelWithNumbers": true,
   "eqNumInitial": 1.0,
   "hotkeys": {
    "equation": "Ctrl-E",
    "itemize": "Ctrl-I"
   },
   "labels_anchors": false,
   "latex_user_defs": false,
   "report_style_numbering": false,
   "user_envs_cfg": false
  },
  "varInspector": {
   "cols": {
    "lenName": 16.0,
    "lenType": 16.0,
    "lenVar": 40.0
   },
   "kernels_config": {
    "python": {
     "delete_cmd_postfix": "",
     "delete_cmd_prefix": "del ",
     "library": "var_list.py",
     "varRefreshCmd": "print(var_dic_list())"
    },
    "r": {
     "delete_cmd_postfix": ") ",
     "delete_cmd_prefix": "rm(",
     "library": "var_list.r",
     "varRefreshCmd": "cat(var_dic_list()) "
    }
   },
   "types_to_exclude": [
    "module",
    "function",
    "builtin_function_or_method",
    "instance",
    "_Feature"
   ],
   "window_display": false
  }
 },
 "nbformat": 4,
 "nbformat_minor": 2
}
