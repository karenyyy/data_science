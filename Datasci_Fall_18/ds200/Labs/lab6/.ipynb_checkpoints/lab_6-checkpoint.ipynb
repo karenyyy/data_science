{
 "cells": [
  {
   "cell_type": "markdown",
   "metadata": {},
   "source": [
    "### import packages"
   ]
  },
  {
   "cell_type": "code",
   "execution_count": 22,
   "metadata": {
    "scrolled": true
   },
   "outputs": [],
   "source": [
    "import datascience as ds\n",
    "from datascience import *\n",
    "import numpy as np\n",
    "from graphviz import Source\n",
    "import pandas as pd\n",
    "import re, string\n",
    "import nltk\n",
    "import seaborn as sns\n",
    "from sklearn.feature_extraction.text import CountVectorizer, TfidfVectorizer\n",
    "from sklearn.tree import DecisionTreeClassifier\n",
    "from sklearn.ensemble import RandomForestClassifier, GradientBoostingClassifier, AdaBoostClassifier\n",
    "from xgboost import XGBClassifier as XGBoostClassifier\n",
    "from sklearn.linear_model import LogisticRegression\n",
    "from sklearn.naive_bayes import MultinomialNB\n",
    "from sklearn import tree\n",
    "from sklearn.metrics import confusion_matrix, precision_score, recall_score, f1_score, accuracy_score\n",
    "import matplotlib.pyplot as plt\n",
    "from sklearn.model_selection import train_test_split, cross_val_score, StratifiedKFold\n",
    "\n",
    "%matplotlib inline"
   ]
  },
  {
   "cell_type": "code",
   "execution_count": 2,
   "metadata": {
    "scrolled": true
   },
   "outputs": [],
   "source": [
    "def process_text(data):\n",
    "    cleaned_text = [\n",
    "        re.sub('\\s+', ' ', re.sub(\"(@[A-Za-z0-9]+)|([^0-9A-Za-z \\t])|(\\w+:\\/\\/\\S+)|^rt|[0-9]+|http.+?\", '',\n",
    "               tweets.lower()).strip(string.punctuation).strip()) for tweets in data\n",
    "        ]\n",
    "    return cleaned_text"
   ]
  },
  {
   "cell_type": "code",
   "execution_count": 3,
   "metadata": {
    "scrolled": true
   },
   "outputs": [],
   "source": [
    "tagged = pd.read_csv('tagged.csv', sep=',', index_col=False)\n",
    "tagged.text = process_text(tagged.text)\n",
    "tagged = tagged.drop(tagged.columns[0], axis=1).reset_index(drop=True)\n",
    "tagged = tagged.drop(tagged[tagged.sentiment==-1].index).reset_index(drop=True)\n",
    "tagged = tagged.iloc[tagged.text.drop_duplicates().index]\n",
    "tagged.to_csv('relevant_tagged.csv')"
   ]
  },
  {
   "cell_type": "markdown",
   "metadata": {},
   "source": [
    "### tweets data loaded into Jupyter Notebook as Table object"
   ]
  },
  {
   "cell_type": "code",
   "execution_count": 4,
   "metadata": {
    "scrolled": true
   },
   "outputs": [
    {
     "data": {
      "text/html": [
       "<table border=\"1\" class=\"dataframe\">\n",
       "    <thead>\n",
       "        <tr>\n",
       "            <th>Unnamed: 0</th> <th>user_id</th> <th>user_name</th> <th>tweet_time</th> <th>location</th> <th>text</th> <th>sentiment</th>\n",
       "        </tr>\n",
       "    </thead>\n",
       "    <tbody>\n",
       "        <tr>\n",
       "            <td>0         </td> <td>802657195661742080 </td> <td>Christine Warren              </td> <td>Wed Sep 12 01:38:14 +0000 2018</td> <td>Fremont CA        </td> <td>american lives were just lost in tennessee potus please  ...</td> <td>0        </td>\n",
       "        </tr>\n",
       "        <tr>\n",
       "            <td>1         </td> <td>1039245812230893570</td> <td>Trumpservative                </td> <td>Wed Sep 12 01:38:16 +0000 2018</td> <td>Tulsa OK          </td> <td>farmacist our great leader president donald j trump can  ...</td> <td>1        </td>\n",
       "        </tr>\n",
       "        <tr>\n",
       "            <td>2         </td> <td>282084840          </td> <td>Darrel Sheldon #MAGAVETERAN   </td> <td>Wed Sep 12 01:38:18 +0000 2018</td> <td>None              </td> <td>rev out the trumptrain for fa                               </td> <td>0        </td>\n",
       "        </tr>\n",
       "        <tr>\n",
       "            <td>3         </td> <td>62315639           </td> <td>Queer Liberal Voting Snowflake</td> <td>Wed Sep 12 01:38:18 +0000 2018</td> <td>Big Sandy Texas   </td> <td>tennessee is suffering after shooting takes lives potus  ...</td> <td>0        </td>\n",
       "        </tr>\n",
       "        <tr>\n",
       "            <td>4         </td> <td>340428574          </td> <td>DelcoGal                      </td> <td>Wed Sep 12 01:38:21 +0000 2018</td> <td>Pennsylvania      </td> <td>redwaverising this years midterm is the most important i ...</td> <td>1        </td>\n",
       "        </tr>\n",
       "        <tr>\n",
       "            <td>5         </td> <td>1603928228         </td> <td>Julz                          </td> <td>Wed Sep 12 01:38:22 +0000 2018</td> <td>MIAATLPGH         </td> <td>lives were just lost in tennessee potus its time to do s ...</td> <td>0        </td>\n",
       "        </tr>\n",
       "        <tr>\n",
       "            <td>6         </td> <td>1865678516         </td> <td>Barbara Kuczinski             </td> <td>Wed Sep 12 01:38:22 +0000 2018</td> <td>None              </td> <td>oh hon cnn reports the truth as fast as they can dream i ...</td> <td>1        </td>\n",
       "        </tr>\n",
       "        <tr>\n",
       "            <td>7         </td> <td>59288409           </td> <td>Josh Steed PhD                </td> <td>Wed Sep 12 01:38:25 +0000 2018</td> <td>Arkansas          </td> <td>msm is repulsive they do nothing but lie and undermine p ...</td> <td>0        </td>\n",
       "        </tr>\n",
       "        <tr>\n",
       "            <td>8         </td> <td>325172419          </td> <td>Mrs. Linz                     </td> <td>Wed Sep 12 01:38:25 +0000 2018</td> <td>BC Canada         </td> <td>muslims coming illegally across the southern border maga ...</td> <td>2        </td>\n",
       "        </tr>\n",
       "        <tr>\n",
       "            <td>9         </td> <td>2283127514         </td> <td>Garrett ODowd                 </td> <td>Wed Sep 12 01:38:26 +0000 2018</td> <td>Melbourne Victoria</td> <td>when you find out donald trump isnt coming to ireland se ...</td> <td>1        </td>\n",
       "        </tr>\n",
       "    </tbody>\n",
       "</table>\n",
       "<p>... (4438 rows omitted)</p>"
      ],
      "text/plain": [
       "Unnamed: 0 | user_id             | user_name                      | tweet_time                     | location           | text                                                         | sentiment\n",
       "0          | 802657195661742080  | Christine Warren               | Wed Sep 12 01:38:14 +0000 2018 | Fremont CA         | american lives were just lost in tennessee potus please  ... | 0\n",
       "1          | 1039245812230893570 | Trumpservative                 | Wed Sep 12 01:38:16 +0000 2018 | Tulsa OK           | farmacist our great leader president donald j trump can  ... | 1\n",
       "2          | 282084840           | Darrel Sheldon #MAGAVETERAN    | Wed Sep 12 01:38:18 +0000 2018 | None               | rev out the trumptrain for fa                                | 0\n",
       "3          | 62315639            | Queer Liberal Voting Snowflake | Wed Sep 12 01:38:18 +0000 2018 | Big Sandy Texas    | tennessee is suffering after shooting takes lives potus  ... | 0\n",
       "4          | 340428574           | DelcoGal                       | Wed Sep 12 01:38:21 +0000 2018 | Pennsylvania       | redwaverising this years midterm is the most important i ... | 1\n",
       "5          | 1603928228          | Julz                           | Wed Sep 12 01:38:22 +0000 2018 | MIAATLPGH          | lives were just lost in tennessee potus its time to do s ... | 0\n",
       "6          | 1865678516          | Barbara Kuczinski              | Wed Sep 12 01:38:22 +0000 2018 | None               | oh hon cnn reports the truth as fast as they can dream i ... | 1\n",
       "7          | 59288409            | Josh Steed PhD                 | Wed Sep 12 01:38:25 +0000 2018 | Arkansas           | msm is repulsive they do nothing but lie and undermine p ... | 0\n",
       "8          | 325172419           | Mrs. Linz                      | Wed Sep 12 01:38:25 +0000 2018 | BC Canada          | muslims coming illegally across the southern border maga ... | 2\n",
       "9          | 2283127514          | Garrett ODowd                  | Wed Sep 12 01:38:26 +0000 2018 | Melbourne Victoria | when you find out donald trump isnt coming to ireland se ... | 1\n",
       "... (4438 rows omitted)"
      ]
     },
     "execution_count": 4,
     "metadata": {},
     "output_type": "execute_result"
    }
   ],
   "source": [
    "df = ds.Table.read_table('relevant_tagged.csv', sep=',')\n",
    "df"
   ]
  },
  {
   "cell_type": "markdown",
   "metadata": {},
   "source": [
    "### data preprocessing"
   ]
  },
  {
   "cell_type": "markdown",
   "metadata": {},
   "source": [
    "### StratifiedKFold"
   ]
  },
  {
   "cell_type": "code",
   "execution_count": 5,
   "metadata": {
    "scrolled": true
   },
   "outputs": [],
   "source": [
    "X = list(df['text'])\n",
    "y = list(df['sentiment'])"
   ]
  },
  {
   "cell_type": "markdown",
   "metadata": {},
   "source": [
    "#### Check whether the data distribution is balanced"
   ]
  },
  {
   "cell_type": "code",
   "execution_count": 6,
   "metadata": {
    "scrolled": true
   },
   "outputs": [],
   "source": [
    "def check(sentiment, index, note='training'):\n",
    "    if sentiment==0:\n",
    "        label = 'neutral'\n",
    "    elif sentiment==1:\n",
    "        label = 'positive'\n",
    "    else:\n",
    "        label = 'negative'\n",
    "    print('There are {} '.format(df.take(index).where('sentiment', are.equal_to(sentiment)).size[0][0])+label+' tweets in the '+note+' set.')"
   ]
  },
  {
   "cell_type": "markdown",
   "metadata": {},
   "source": [
    "#### Model Building"
   ]
  },
  {
   "cell_type": "code",
   "execution_count": 7,
   "metadata": {
    "scrolled": true
   },
   "outputs": [],
   "source": [
    "def custom_split(train_index, test_index):\n",
    "    trainingset = df.take(train_index)\n",
    "    testingset = df.take(test_index)    \n",
    "        \n",
    "    X_train= list(trainingset['text'])\n",
    "    y_train= list(trainingset['sentiment'])\n",
    "    X_test= list(testingset['text'])\n",
    "    y_test= list(testingset['sentiment'])\n",
    "    \n",
    "    return X_train, X_test, y_train, y_test"
   ]
  },
  {
   "cell_type": "code",
   "execution_count": 49,
   "metadata": {
    "scrolled": true
   },
   "outputs": [],
   "source": [
    "def word_vectorizer(X_train, X_test):\n",
    "    vect = CountVectorizer(\n",
    "         analyzer=\"word\", ngram_range=([1,2]), tokenizer=nltk.word_tokenize,\n",
    "        preprocessor=None, stop_words='english', max_features=3000)\n",
    "#     vect = TfidfVectorizer(sublinear_tf=True, min_df=10, norm='l1', encoding='latin-1', \n",
    "#                             ngram_range=(1,2), stop_words='english')\n",
    "    X_train_vect = vect.fit_transform(X_train).todense()\n",
    "    X_test_vect = vect.transform(X_test)\n",
    "    return X_train_vect, X_test_vect, vect.get_feature_names()"
   ]
  },
  {
   "cell_type": "code",
   "execution_count": 50,
   "metadata": {
    "scrolled": true
   },
   "outputs": [],
   "source": [
    "def classifier(X_train, y_train, X_test, fold, feature_names):\n",
    "    clf = DecisionTreeClassifier(criterion = 'entropy',\n",
    "                                    random_state = 100,\n",
    "                                    max_depth = 15,\n",
    "                                    min_samples_leaf = 2)\n",
    "    clf = RandomForestClassifier(random_state=100,\n",
    "                                 n_estimators=20, \n",
    "                                 criterion='entropy', \n",
    "                                 n_jobs=4)\n",
    "#     clf = XGBoostClassifier(max_depth=5, n_estimators=5)\n",
    "    clf.fit(X_train, y_train)\n",
    "    try:\n",
    "        dot_data = tree.export_graphviz(clf, out_file=None, feature_names=feature_names)\n",
    "        graph = Source(dot_data)\n",
    "        graph.render('SentientClassifier-Fold_{}'.format(fold))\n",
    "    except Exception as e:\n",
    "        print(e)\n",
    "    predicted_y_test = clf.predict(X_test)\n",
    "    return predicted_y_test"
   ]
  },
  {
   "cell_type": "code",
   "execution_count": 51,
   "metadata": {
    "scrolled": true
   },
   "outputs": [],
   "source": [
    "def eval_results(predicted_y_test, y_test):\n",
    "    print('\\n Testing precision are: ', predicted_y_test, '\\n')\n",
    "    accuracy_s = accuracy_score(y_test, predicted_y_test)\n",
    "    precision_s = precision_score(y_test, predicted_y_test, average='weighted')\n",
    "    recall_s = recall_score(y_test, predicted_y_test, average='weighted')\n",
    "    f1_s = f1_score(y_test, predicted_y_test, average='weighted')\n",
    "    cm = confusion_matrix(y_test, predicted_y_test)  \n",
    "    print('Accuracy Score:', accuracy_s)\n",
    "    print(\"Precision Score:\", precision_s)\n",
    "    print(\"Recall Score:\", recall_s)\n",
    "    print(\"f1 Score:\", f1_s)\n",
    "    print('confusion_matrix is: \\n', cm, '\\n')\n",
    "    return accuracy_s, precision_s, recall_s, f1_s, cm"
   ]
  },
  {
   "cell_type": "code",
   "execution_count": 52,
   "metadata": {
    "scrolled": true
   },
   "outputs": [],
   "source": [
    "def k_fold_evaluate(X, y, n_splits):\n",
    "    # initialization\n",
    "    fold = 1\n",
    "    accuracy_ = []\n",
    "    precision = []\n",
    "    recall=[]\n",
    "    f1 = []\n",
    "    skf = StratifiedKFold(n_splits=n_splits, random_state=1, shuffle= True)\n",
    "\n",
    "    # build model and collect results\n",
    "    for train_index, test_index in skf.split(X, y):\n",
    "        if fold==1:\n",
    "            list(map(lambda x: check(x, train_index), range(3)))\n",
    "            list(map(lambda x: check(x, test_index, note='testing'), range(3)))\n",
    "        \n",
    "        X_train, X_test, y_train, y_test = custom_split(train_index, test_index)\n",
    "        \n",
    "        X_train_vect, X_test_vect, feature_names = word_vectorizer(X_train, X_test)\n",
    "        predicted_y_test = classifier(X_train=X_train_vect, y_train=y_train, X_test=X_test_vect, fold=fold, feature_names=feature_names)\n",
    "        accuracy_s, precision_s, recall_s, f1_s, cm = eval_results(predicted_y_test, y_test)\n",
    "        \n",
    "        accuracy_.append(accuracy_s)\n",
    "        precision.append(precision_s)\n",
    "        recall.append(recall_s)\n",
    "        f1.append(f1_s)\n",
    "        \n",
    "        sns.heatmap(cm, annot=True, cmap='Blues')\n",
    "        plt.show()\n",
    "        \n",
    "        fold += 1\n",
    "    \n",
    "    metrics_df = pd.DataFrame(\n",
    "        {'accuracy': accuracy_,\n",
    "        'precision': precision,\n",
    "        'recall':recall,\n",
    "        'f1':f1}\n",
    "    )\n",
    "    \n",
    "    metrics_df.plot(linewidth=2)"
   ]
  },
  {
   "cell_type": "code",
   "execution_count": 53,
   "metadata": {
    "scrolled": true
   },
   "outputs": [
    {
     "name": "stderr",
     "output_type": "stream",
     "text": [
      "/usr/local/lib/python3.6/dist-packages/datascience/tables.py:192: FutureWarning: Implicit column method lookup is deprecated.\n",
      "  warnings.warn(\"Implicit column method lookup is deprecated.\", FutureWarning)\n"
     ]
    },
    {
     "name": "stdout",
     "output_type": "stream",
     "text": [
      "There are 1864 neutral tweets in the training set.\n",
      "There are 1105 positive tweets in the training set.\n",
      "There are 588 negative tweets in the training set.\n",
      "There are 467 neutral tweets in the testing set.\n",
      "There are 277 positive tweets in the testing set.\n",
      "There are 147 negative tweets in the testing set.\n",
      "This RandomForestClassifier instance is not fitted yet. Call 'fit' with appropriate arguments before using this method.\n",
      "\n",
      " Testing precision are:  [0 0 2 1 0 1 0 2 0 2 1 0 0 0 0 0 1 2 0 2 2 0 0 0 2 1 0 0 0 0 1 0 1 1 0 1 0\n",
      " 0 1 0 1 0 1 0 2 2 0 2 1 1 2 0 1 2 0 1 1 0 1 1 2 0 0 1 0 0 1 0 0 1 0 0 0 1\n",
      " 2 1 1 2 2 0 0 1 0 0 0 1 0 2 0 2 2 1 0 0 0 0 1 0 2 0 0 1 0 0 2 0 1 0 0 0 2\n",
      " 2 0 0 0 0 0 0 2 0 2 0 1 2 1 0 2 1 0 0 0 2 0 1 2 0 1 1 2 0 1 0 1 0 0 0 2 0\n",
      " 0 0 0 1 0 2 0 0 2 0 0 0 0 0 0 0 1 0 2 1 0 0 1 0 0 0 0 0 2 0 0 1 0 2 1 0 0\n",
      " 2 0 1 0 0 0 1 0 0 0 1 0 1 0 0 0 1 1 0 1 0 1 2 2 0 0 0 0 1 0 2 1 2 1 1 1 0\n",
      " 1 0 0 1 2 1 0 2 0 0 2 0 0 1 0 0 1 2 0 0 0 0 0 1 0 0 0 0 0 0 2 0 1 0 0 0 2\n",
      " 0 2 0 0 0 0 1 0 0 0 0 1 1 1 0 2 1 0 0 0 0 0 0 0 0 0 2 1 0 0 1 0 0 0 0 0 0\n",
      " 0 1 0 0 1 1 0 1 0 2 0 1 2 0 0 0 1 1 1 0 0 1 1 0 0 0 0 2 0 0 0 0 1 0 0 1 2\n",
      " 0 2 0 0 1 1 0 1 0 0 1 0 0 0 1 0 0 2 1 0 0 1 0 1 0 0 0 1 1 0 0 2 2 0 2 1 1\n",
      " 0 0 1 1 0 2 0 0 2 0 2 2 0 2 0 0 1 0 1 2 0 2 0 0 1 0 0 1 2 0 0 0 0 1 1 1 0\n",
      " 0 0 2 0 0 0 1 0 1 0 0 1 0 1 1 0 2 0 0 0 1 2 0 0 1 2 0 0 2 0 0 0 0 0 0 1 0\n",
      " 1 0 2 0 2 0 0 1 0 0 0 1 1 1 0 1 0 0 0 0 0 1 2 1 0 0 2 1 0 1 2 1 2 0 0 0 1\n",
      " 1 1 0 0 0 1 1 0 0 1 0 0 2 0 2 1 0 0 0 1 0 0 0 0 0 1 1 1 0 1 0 1 2 0 1 0 0\n",
      " 1 0 1 0 0 1 1 0 2 1 0 0 1 0 0 0 2 0 0 1 0 0 0 1 0 0 0 1 0 2 2 1 0 0 0 1 2\n",
      " 1 0 1 0 0 0 0 1 1 0 0 1 0 0 1 1 1 0 1 0 0 0 0 0 2 0 0 0 1 1 0 2 1 1 0 1 1\n",
      " 0 1 0 0 1 0 0 1 1 2 2 0 0 0 1 2 0 1 0 0 2 0 0 0 1 0 2 0 0 0 2 1 0 0 0 2 0\n",
      " 1 2 0 0 0 0 0 0 0 0 1 0 0 0 0 1 0 2 0 0 0 0 2 1 2 0 0 1 1 2 0 0 0 2 0 0 0\n",
      " 1 0 0 1 0 0 1 2 0 0 2 0 1 0 1 1 0 1 2 2 1 1 1 0 1 0 0 1 0 0 1 0 2 0 1 1 0\n",
      " 0 0 1 1 0 1 0 2 0 0 0 0 1 1 0 0 0 1 1 1 0 1 0 0 0 2 0 0 0 1 0 1 0 2 1 2 0\n",
      " 2 2 1 0 0 1 0 1 2 1 0 1 1 1 1 0 0 0 0 0 0 1 0 0 2 0 0 1 0 0 1 2 1 2 1 0 0\n",
      " 0 2 0 0 0 0 1 1 1 0 0 2 0 0 1 0 0 0 1 1 0 0 1 0 0 0 0 0 0 1 2 0 1 1 1 0 2\n",
      " 0 1 0 0 0 0 0 2 0 1 0 0 0 0 0 2 0 0 1 0 1 0 0 0 0 0 0 0 0 1 0 1 0 1 2 1 0\n",
      " 0 0 1 0 0 1 0 0 2 2 0 1 0 0 0 1 0 0 0 0 0 0 2 1 1 1 1 2 0 1 2 0 1 1 0 1 0\n",
      " 0 0 0] \n",
      "\n",
      "Accuracy Score: 0.9315375982042648\n",
      "Precision Score: 0.9356171184265419\n",
      "Recall Score: 0.9315375982042648\n",
      "f1 Score: 0.9309059127701124\n",
      "confusion_matrix is: \n",
      " [[462   5   0]\n",
      " [ 31 243   3]\n",
      " [ 21   1 125]] \n",
      "\n"
     ]
    },
    {
     "data": {
      "image/png": "[encoded data removed]",
      "text/plain": [
       "<Figure size 432x288 with 2 Axes>"
      ]
     },
     "metadata": {
      "needs_background": "light"
     },
     "output_type": "display_data"
    },
    {
     "name": "stdout",
     "output_type": "stream",
     "text": [
      "This RandomForestClassifier instance is not fitted yet. Call 'fit' with appropriate arguments before using this method.\n",
      "\n",
      " Testing precision are:  [0 1 1 0 0 1 1 0 2 0 0 1 0 2 0 0 0 0 0 0 2 0 0 0 1 1 2 0 0 1 1 0 0 0 0 1 0\n",
      " 0 0 0 2 0 2 0 0 1 1 0 1 0 0 0 2 0 0 2 0 0 0 2 0 2 1 0 1 0 0 1 0 0 1 0 0 1\n",
      " 0 0 0 0 1 0 0 0 0 0 0 0 0 0 0 0 2 0 0 0 0 1 0 1 2 0 0 0 1 2 0 1 0 0 0 2 0\n",
      " 0 1 0 2 2 0 0 0 1 2 2 0 1 0 2 0 1 0 2 0 0 0 0 0 0 0 1 2 1 1 1 1 0 1 0 2 1\n",
      " 0 2 0 0 0 0 1 0 1 2 1 0 1 1 1 0 2 0 0 1 0 0 0 0 1 0 2 2 1 0 2 0 0 0 0 1 1\n",
      " 1 1 0 0 0 0 2 0 1 0 0 0 0 1 0 0 0 1 1 2 0 0 0 2 1 1 0 1 0 0 0 2 0 0 1 2 0\n",
      " 0 1 0 0 1 0 0 0 2 0 0 2 1 0 0 0 0 1 1 0 1 2 0 0 0 1 1 0 0 2 1 0 0 0 2 0 0\n",
      " 1 0 0 2 1 1 1 0 0 1 0 1 0 1 0 1 1 0 0 2 0 0 2 2 0 0 1 2 0 2 0 0 1 0 2 1 2\n",
      " 0 1 0 0 2 1 0 0 1 0 0 1 1 2 1 0 0 2 1 0 1 0 2 2 0 0 1 0 2 1 1 0 1 0 2 2 2\n",
      " 0 0 1 1 2 0 0 0 1 0 0 0 0 1 2 1 1 0 1 1 0 1 0 0 2 0 2 0 2 1 2 1 0 2 1 1 0\n",
      " 1 2 0 0 1 1 2 1 0 1 0 1 2 1 0 0 0 0 0 0 0 0 0 1 2 0 0 2 0 0 0 1 1 2 2 0 0\n",
      " 1 0 0 1 2 1 0 2 0 1 2 0 0 2 0 0 1 2 1 0 1 1 0 0 0 0 0 0 0 1 2 1 2 1 1 1 2\n",
      " 1 1 1 0 1 0 0 1 0 0 0 2 1 0 0 1 0 0 1 2 2 1 1 1 0 0 0 2 2 0 1 0 1 1 0 1 0\n",
      " 0 2 0 0 1 0 1 0 0 0 1 2 0 0 2 1 0 1 1 0 1 0 0 0 0 1 0 0 1 1 0 1 0 0 2 0 1\n",
      " 0 1 0 1 0 0 0 0 0 2 1 0 1 0 2 1 2 0 1 0 0 1 0 0 1 0 0 2 0 0 0 2 2 2 0 0 0\n",
      " 0 0 0 0 1 0 0 0 0 0 0 0 2 0 0 1 0 2 1 0 1 2 1 1 1 1 0 1 0 1 0 1 0 2 2 0 0\n",
      " 0 0 0 1 2 1 0 2 1 0 0 0 2 0 0 0 0 1 1 1 0 0 2 1 0 1 0 0 0 0 0 0 2 0 1 0 2\n",
      " 0 2 1 0 0 0 1 1 0 1 0 1 1 0 1 0 0 0 0 1 1 1 0 1 0 1 0 2 0 1 0 0 0 1 1 1 1\n",
      " 0 0 1 1 0 0 1 0 1 1 0 2 0 1 0 1 0 1 0 0 2 1 0 0 0 2 0 1 0 1 0 1 2 0 0 2 1\n",
      " 0 1 2 0 1 1 0 0 0 0 0 2 0 1 1 0 1 0 0 0 1 0 1 1 0 0 1 1 1 0 0 1 0 0 1 0 1\n",
      " 1 0 0 0 1 0 1 0 0 0 0 0 0 0 0 0 0 0 1 0 1 2 0 0 0 1 1 0 0 1 0 1 0 0 0 2 0\n",
      " 0 0 1 1 1 0 0 0 0 1 2 0 0 0 0 0 1 1 0 0 0 0 1 0 0 1 0 0 0 0 2 0 0 1 0 0 1\n",
      " 0 1 1 0 1 0 0 2 0 0 2 0 0 1 1 0 0 0 0 2 1 2 0 0 0 0 1 0 1 0 0 0 0 1 0 1 0\n",
      " 0 1 0 0 0 0 0 2 0 0 0 0 0 2 0 0 1 1 0 0 1 1 1 1 1 0 0 2 1 1 0 0 0 2 0 0 1\n",
      " 0 0] \n",
      "\n",
      "Accuracy Score: 0.9393258426966292\n",
      "Precision Score: 0.9415400053824935\n",
      "Recall Score: 0.9393258426966292\n",
      "f1 Score: 0.9386276186753715\n",
      "confusion_matrix is: \n",
      " [[460   5   1]\n",
      " [ 23 253   1]\n",
      " [ 18   6 123]] \n",
      "\n"
     ]
    },
    {
     "data": {
      "image/png": "[encoded data removed]",
      "text/plain": [
       "<Figure size 432x288 with 2 Axes>"
      ]
     },
     "metadata": {
      "needs_background": "light"
     },
     "output_type": "display_data"
    },
    {
     "name": "stdout",
     "output_type": "stream",
     "text": [
      "This RandomForestClassifier instance is not fitted yet. Call 'fit' with appropriate arguments before using this method.\n",
      "\n",
      " Testing precision are:  [1 1 0 2 1 0 0 0 1 2 0 1 1 0 0 0 0 0 0 0 0 0 1 0 1 0 1 2 0 1 0 0 0 0 0 0 0\n",
      " 0 1 0 0 2 1 1 0 1 1 0 0 1 1 0 0 0 0 1 1 1 2 0 1 0 0 0 0 1 2 0 0 0 1 0 0 0\n",
      " 1 0 0 0 1 0 0 1 1 2 0 0 0 1 0 0 0 0 0 0 1 0 0 0 1 0 0 2 0 2 0 1 0 1 2 0 0\n",
      " 0 1 0 2 1 0 0 0 0 1 0 0 0 0 0 1 0 0 0 2 1 0 2 2 2 0 0 0 2 1 1 0 0 2 0 0 2\n",
      " 0 0 0 2 0 1 0 0 0 1 0 0 0 2 0 0 0 2 2 0 0 0 0 0 2 0 0 0 0 0 0 1 1 0 0 0 0\n",
      " 1 0 0 0 0 0 0 2 0 0 0 2 0 0 0 1 1 1 0 0 0 0 1 1 0 1 0 1 0 1 2 1 1 1 1 0 0\n",
      " 2 1 1 0 1 1 1 0 0 1 2 0 0 0 0 1 0 1 0 0 2 0 0 0 0 0 2 2 1 2 0 0 1 2 0 1 0\n",
      " 0 0 2 2 0 2 0 1 1 0 0 2 1 0 1 1 0 0 0 1 0 0 0 1 1 1 2 0 0 0 2 0 1 0 0 2 0\n",
      " 0 0 0 2 2 0 0 2 2 0 0 1 1 0 0 1 0 1 1 1 0 1 1 0 0 0 0 0 2 0 1 0 2 1 0 0 0\n",
      " 2 2 0 1 0 0 1 0 1 2 2 1 0 2 0 1 1 0 1 0 0 1 1 0 0 0 0 1 0 0 0 0 2 0 0 0 2\n",
      " 0 0 1 1 0 0 0 0 0 0 0 2 0 0 1 0 1 0 0 1 0 1 2 0 0 2 2 0 0 2 1 1 0 0 0 2 0\n",
      " 0 0 0 0 1 1 1 0 0 0 0 0 2 0 1 0 1 1 1 0 0 2 0 0 1 1 0 0 0 2 1 2 0 1 1 0 1\n",
      " 1 0 0 1 2 1 0 2 1 0 1 2 0 0 1 1 2 0 1 1 1 0 0 0 0 0 0 0 2 0 0 0 0 1 0 0 0\n",
      " 0 0 0 0 0 0 2 0 0 1 0 0 0 0 0 0 2 0 0 0 0 1 0 1 2 2 1 2 0 1 0 1 1 0 0 0 1\n",
      " 0 1 0 1 0 0 1 0 0 1 1 0 1 0 1 0 1 2 1 0 1 2 1 0 0 0 0 0 0 2 0 0 0 0 1 0 1\n",
      " 2 0 0 0 0 1 1 0 0 1 1 0 2 0 1 0 1 2 2 2 0 0 1 0 0 0 0 2 0 1 2 2 0 1 0 1 1\n",
      " 2 1 0 1 2 0 0 2 0 0 0 0 0 0 0 0 0 0 1 1 1 2 0 0 2 1 1 1 2 0 0 1 0 1 0 0 1\n",
      " 0 0 0 1 1 1 0 0 0 0 1 0 1 0 0 0 0 0 0 0 1 0 1 0 1 0 0 0 0 0 0 0 0 0 2 1 1\n",
      " 1 1 1 2 0 0 2 0 0 0 2 1 0 1 0 0 1 1 0 0 0 1 0 0 2 0 0 0 2 0 1 1 1 2 2 1 1\n",
      " 2 1 1 2 0 0 1 1 0 0 1 0 2 0 0 1 0 0 0 0 2 0 1 0 0 0 0 0 0 0 0 0 0 0 2 1 1\n",
      " 0 0 0 0 0 0 0 0 1 0 0 0 0 1 0 0 0 0 1 1 0 1 0 1 0 0 2 0 0 0 0 1 0 0 0 0 2\n",
      " 0 0 0 0 0 0 1 0 0 0 0 0 0 0 1 0 0 0 0 1 0 1 0 0 1 1 0 0 1 1 1 0 1 2 0 0 0\n",
      " 0 1 1 2 1 1 1 1 1 0 1 0 1 1 0 0 0 1 0 0 2 2 1 1 1 1 0 1 0 2 0 1 0 1 1 1 0\n",
      " 1 0 1 0 0 0 0 0 1 1 0 0 0 0 1 0 0 0 0 1 0 0 0 1 0 0 0 1 0 2 0 0 0 1 1 1 0\n",
      " 1] \n",
      "\n",
      "Accuracy Score: 0.9088863892013498\n",
      "Precision Score: 0.9151706142032352\n",
      "Recall Score: 0.9088863892013498\n",
      "f1 Score: 0.9069934110820427\n",
      "confusion_matrix is: \n",
      " [[459   6   1]\n",
      " [ 35 240   1]\n",
      " [ 31   7 109]] \n",
      "\n"
     ]
    },
    {
     "data": {
      "image/png": "[encoded data removed]",
      "text/plain": [
       "<Figure size 432x288 with 2 Axes>"
      ]
     },
     "metadata": {
      "needs_background": "light"
     },
     "output_type": "display_data"
    },
    {
     "name": "stdout",
     "output_type": "stream",
     "text": [
      "This RandomForestClassifier instance is not fitted yet. Call 'fit' with appropriate arguments before using this method.\n",
      "\n",
      " Testing precision are:  [0 1 0 1 1 0 0 0 0 0 0 0 1 0 1 0 0 1 0 0 2 1 1 0 1 2 0 0 0 0 0 2 1 0 1 1 0\n",
      " 2 1 0 0 1 0 2 0 0 0 0 0 1 1 0 2 0 0 1 0 0 1 0 2 0 2 1 0 0 0 0 2 2 0 0 2 0\n",
      " 1 0 1 0 1 0 0 0 1 0 0 2 1 0 0 0 1 0 0 0 0 0 0 0 1 0 0 0 1 0 0 2 0 0 0 1 0\n",
      " 0 1 2 0 1 0 0 0 0 1 1 0 1 2 0 0 2 0 1 0 2 2 2 0 0 1 0 0 0 0 0 1 0 2 1 2 0\n",
      " 0 2 1 0 2 0 2 2 0 0 1 2 0 1 1 0 0 0 0 1 1 0 0 0 1 0 2 1 1 0 0 1 2 0 0 0 1\n",
      " 0 0 0 0 0 0 0 1 0 2 1 1 0 0 1 1 2 1 2 2 2 0 0 1 0 1 1 0 2 0 0 0 1 1 2 2 0\n",
      " 1 0 1 1 0 0 2 2 0 2 1 0 1 0 1 2 2 1 0 0 1 2 0 0 1 0 0 1 1 2 0 0 1 0 1 2 0\n",
      " 0 2 0 0 2 0 0 1 1 1 1 1 2 0 0 0 2 0 2 0 1 0 0 0 0 0 1 1 0 1 0 2 1 0 0 0 2\n",
      " 0 0 1 1 0 0 0 0 2 1 0 1 2 2 2 2 0 0 1 1 2 0 0 0 1 2 0 0 2 0 0 1 0 2 1 0 0\n",
      " 0 2 0 1 2 0 0 0 1 0 2 0 1 1 2 0 2 0 0 2 1 0 0 0 0 0 1 1 0 1 0 1 1 1 0 1 1\n",
      " 0 2 2 0 1 0 0 1 1 0 1 0 0 0 0 1 0 1 0 1 0 0 0 0 0 2 0 1 0 2 0 0 0 0 0 1 2\n",
      " 1 0 2 0 0 0 1 0 0 1 2 0 0 1 1 1 0 0 0 0 0 1 0 0 0 0 2 0 0 2 2 2 2 1 2 1 0\n",
      " 1 0 2 0 0 0 1 0 1 1 2 2 0 0 1 0 2 0 1 0 0 0 1 1 0 2 0 1 2 0 1 2 0 0 0 2 1\n",
      " 0 2 1 0 1 0 2 0 0 1 1 0 1 1 1 1 0 0 2 0 2 0 0 1 2 2 1 0 2 0 0 0 1 1 0 0 2\n",
      " 0 0 0 1 0 2 1 0 1 0 1 0 0 2 1 0 1 1 0 0 0 0 0 1 1 0 1 0 0 1 0 1 0 1 1 0 0\n",
      " 0 1 1 2 0 1 0 0 1 0 1 0 0 0 1 1 0 0 0 1 0 0 0 0 0 0 1 0 0 1 1 1 0 0 2 1 1\n",
      " 2 0 0 0 0 0 1 0 0 2 0 1 0 1 2 0 1 1 2 0 0 0 2 0 0 0 0 1 2 1 0 1 0 0 0 2 0\n",
      " 0 2 1 0 0 0 1 0 0 2 2 1 0 0 1 1 1 0 0 0 1 1 2 2 0 0 0 1 1 2 0 1 1 0 0 1 1\n",
      " 2 0 1 2 0 0 1 1 0 0 0 0 1 0 1 0 0 0 1 1 1 0 0 1 0 0 1 0 0 0 0 0 0 0 0 1 2\n",
      " 0 0 0 1 1 1 0 2 0 0 0 1 0 0 0 0 0 2 0 0 0 1 1 0 0 0 2 1 0 0 1 0 1 1 0 0 0\n",
      " 0 0 1 0 1 0 0 2 1 2 0 1 1 1 2 2 1 0 0 0 0 0 1 0 0 1 1 2 2 0 1 0 0 1 1 0 0\n",
      " 0 0 0 0 0 0 0 1 0 1 0 0 0 1 1 0 0 0 1 0 0 0 0 0 1 1 0 0 1 1 0 1 0 2 0 0 1\n",
      " 1 0 0 0 1 1 0 2 0 2 1 0 1 1 0 0 1 0 1 1 0 0 1 1 0 2 0 2 0 2 0 0 0 0 0 0 1\n",
      " 0 0 0 1 0 1 0 0 0 2 0 0 0 1 0 0 0 0 2 0 0 0 0 1 1 2 0 2 0 1 1 0 1 1 2 0 1\n",
      " 1] \n",
      "\n",
      "Accuracy Score: 0.9313835770528683\n",
      "Precision Score: 0.9319945532390602\n",
      "Recall Score: 0.9313835770528683\n",
      "f1 Score: 0.9309152466044825\n",
      "confusion_matrix is: \n",
      " [[452   8   6]\n",
      " [ 23 250   3]\n",
      " [ 16   5 126]] \n",
      "\n"
     ]
    },
    {
     "data": {
      "image/png": "[encoded data removed]",
      "text/plain": [
       "<Figure size 432x288 with 2 Axes>"
      ]
     },
     "metadata": {
      "needs_background": "light"
     },
     "output_type": "display_data"
    },
    {
     "name": "stdout",
     "output_type": "stream",
     "text": [
      "This RandomForestClassifier instance is not fitted yet. Call 'fit' with appropriate arguments before using this method.\n",
      "\n",
      " Testing precision are:  [0 0 0 1 0 0 2 0 0 1 0 2 1 1 0 2 0 0 0 2 0 0 2 2 0 0 1 0 1 0 0 0 0 0 1 1 1\n",
      " 0 0 2 0 0 0 0 1 0 0 0 0 0 1 0 0 0 0 0 1 0 0 0 0 1 0 0 2 1 0 0 0 0 0 0 0 2\n",
      " 0 2 1 2 2 0 0 1 0 1 1 0 1 0 1 1 0 0 0 0 1 0 2 0 0 0 1 1 2 1 0 0 0 0 0 0 0\n",
      " 0 0 1 0 0 0 1 1 0 1 1 0 1 0 1 0 2 0 2 2 0 0 1 1 2 2 1 0 0 2 0 1 1 0 2 0 0\n",
      " 1 2 2 0 0 2 0 0 0 1 0 0 0 0 0 0 0 0 0 0 0 1 0 1 0 0 0 0 0 1 1 1 0 1 0 1 0\n",
      " 1 2 1 2 2 2 0 0 0 0 0 0 2 0 1 2 0 1 1 0 1 0 2 0 2 0 0 0 0 0 0 0 0 0 1 2 0\n",
      " 0 2 2 0 0 0 0 0 0 1 0 0 1 0 0 2 0 0 0 1 0 0 0 0 1 2 0 2 0 0 0 1 0 2 1 2 1\n",
      " 0 0 0 1 0 0 0 1 2 0 2 1 1 1 0 1 0 2 0 1 0 2 1 1 2 2 0 2 2 1 1 0 0 0 0 1 1\n",
      " 0 0 0 2 0 0 1 1 0 0 1 0 1 2 0 0 1 2 0 0 2 0 0 0 0 1 0 0 2 1 0 0 0 0 0 2 0\n",
      " 0 1 0 0 0 2 2 1 2 0 1 2 0 1 2 0 0 0 1 0 1 0 0 0 0 0 0 1 0 1 2 1 1 2 0 0 0\n",
      " 2 1 0 1 0 0 1 2 0 2 0 0 0 0 0 0 0 1 0 1 0 1 0 2 1 0 1 0 2 1 2 0 0 2 0 0 0\n",
      " 0 1 1 1 0 2 0 0 1 0 0 0 1 2 1 1 0 1 0 0 1 1 1 0 0 0 1 2 0 1 0 2 0 1 1 0 0\n",
      " 1 0 0 0 0 1 0 0 0 0 0 1 1 1 0 1 1 0 1 1 0 1 0 1 0 0 1 1 0 1 0 0 1 0 1 0 1\n",
      " 0 1 2 0 2 1 1 0 0 0 2 0 1 0 2 0 0 2 2 2 0 2 0 0 0 0 1 0 0 1 0 2 0 2 0 1 1\n",
      " 2 0 0 2 2 0 2 0 0 0 0 0 1 0 1 2 0 1 0 0 0 1 0 0 0 0 1 0 0 1 2 0 0 0 0 0 2\n",
      " 0 2 1 2 1 2 1 0 0 1 0 1 1 1 0 0 0 1 0 0 0 0 2 0 0 1 1 0 1 0 2 0 0 1 0 0 0\n",
      " 0 2 0 0 0 0 0 1 0 1 2 2 0 2 0 0 0 2 0 0 1 2 0 0 0 0 0 2 0 0 0 1 1 1 0 0 0\n",
      " 1 1 2 1 0 0 2 0 2 0 0 0 2 0 0 2 0 0 1 1 1 0 0 2 0 2 1 0 0 0 0 0 0 0 1 1 2\n",
      " 0 0 0 0 1 1 0 1 0 0 1 2 1 1 1 2 1 0 0 0 1 1 0 0 0 0 1 0 2 0 2 1 0 1 0 2 0\n",
      " 1 0 2 0 0 0 1 1 0 0 0 0 1 0 0 0 0 0 0 1 0 0 1 0 0 2 1 0 0 0 0 0 0 1 0 0 0\n",
      " 0 1 0 1 0 1 1 2 2 0 1 0 0 1 0 0 0 0 1 1 0 0 1 0 2 1 1 2 2 0 0 0 1 1 2 1 0\n",
      " 1 1 0 2 1 0 1 2 1 2 0 0 2 1 0 2 0 0 0 1 2 1 2 0 0 0 0 0 0 0 1 1 1 0 1 1 1\n",
      " 2 1 1 0 1 0 0 0 0 0 1 0 1 0 0 0 0 1 1 2 0 1 0 0 0 0 0 1 1 0 0 1 1 0 0 0 1\n",
      " 0 0 0 0 0 0 1 0 0 0 1 0 1 1 0 0 0 0 1 0 2 0 0 1 1 0 0 0 0 0 0 0 0 0 0 1 1\n",
      " 0] \n",
      "\n",
      "Accuracy Score: 0.9190101237345332\n",
      "Precision Score: 0.9223153828150917\n",
      "Recall Score: 0.9190101237345332\n",
      "f1 Score: 0.9179237183440522\n",
      "confusion_matrix is: \n",
      " [[459   7   0]\n",
      " [ 40 231   5]\n",
      " [ 15   5 127]] \n",
      "\n"
     ]
    },
    {
     "data": {
      "image/png": "[encoded data removed]",
      "text/plain": [
       "<Figure size 432x288 with 2 Axes>"
      ]
     },
     "metadata": {
      "needs_background": "light"
     },
     "output_type": "display_data"
    },
    {
     "data": {
      "image/png": "[encoded data removed]",
      "text/plain": [
       "<Figure size 432x288 with 1 Axes>"
      ]
     },
     "metadata": {
      "needs_background": "light"
     },
     "output_type": "display_data"
    }
   ],
   "source": [
    "k_fold_evaluate(X, y, n_splits=5)"
   ]
  },
  {
   "cell_type": "markdown",
   "metadata": {},
   "source": [
    "### Explore other classifiers"
   ]
  },
  {
   "cell_type": "code",
   "execution_count": 13,
   "metadata": {},
   "outputs": [],
   "source": [
    "vect = CountVectorizer(\n",
    "         analyzer=\"word\", ngram_range=([1,2]), tokenizer=nltk.word_tokenize,\n",
    "        preprocessor=None, stop_words='english', max_features=3000)\n",
    "X_vect = vect.fit_transform(tagged.text).todense()\n",
    "y = tagged.sentiment"
   ]
  },
  {
   "cell_type": "code",
   "execution_count": 14,
   "metadata": {
    "scrolled": true
   },
   "outputs": [],
   "source": [
    "def compare_classifiers(models, X, y):\n",
    "    CV = 5\n",
    "    cv_df = pd.DataFrame(index=range(CV * len(models)))\n",
    "    entries = []\n",
    "    for model in models:\n",
    "        model_name = model.__class__.__name__\n",
    "        accuracies = cross_val_score(model, X, y, scoring='accuracy', cv=CV)\n",
    "        for fold_idx, accuracy in enumerate(accuracies):\n",
    "            entries.append((model_name, fold_idx, accuracy))\n",
    "    cv_df = pd.DataFrame(entries, columns=['model_name', 'fold_idx', 'accuracy'])\n",
    "    plt.figure(figsize=(8,8))\n",
    "    sns.boxplot(x='model_name', y='accuracy', data=cv_df)\n",
    "    sns.stripplot(x='model_name', y='accuracy', data=cv_df, \n",
    "              size=8, jitter=True, edgecolor=\"gray\", linewidth=2)\n",
    "    plt.xticks(rotation=90)\n",
    "    plt.show()\n",
    "    "
   ]
  },
  {
   "cell_type": "code",
   "execution_count": 15,
   "metadata": {
    "scrolled": true
   },
   "outputs": [
    {
     "name": "stderr",
     "output_type": "stream",
     "text": [
      "/usr/local/lib/python3.6/dist-packages/sklearn/preprocessing/label.py:151: DeprecationWarning: The truth value of an empty array is ambiguous. Returning False, but in future this will result in an error. Use `array.size > 0` to check that an array is not empty.\n",
      "  if diff:\n",
      "/usr/local/lib/python3.6/dist-packages/sklearn/preprocessing/label.py:151: DeprecationWarning: The truth value of an empty array is ambiguous. Returning False, but in future this will result in an error. Use `array.size > 0` to check that an array is not empty.\n",
      "  if diff:\n",
      "/usr/local/lib/python3.6/dist-packages/sklearn/preprocessing/label.py:151: DeprecationWarning: The truth value of an empty array is ambiguous. Returning False, but in future this will result in an error. Use `array.size > 0` to check that an array is not empty.\n",
      "  if diff:\n",
      "/usr/local/lib/python3.6/dist-packages/sklearn/preprocessing/label.py:151: DeprecationWarning: The truth value of an empty array is ambiguous. Returning False, but in future this will result in an error. Use `array.size > 0` to check that an array is not empty.\n",
      "  if diff:\n",
      "/usr/local/lib/python3.6/dist-packages/sklearn/preprocessing/label.py:151: DeprecationWarning: The truth value of an empty array is ambiguous. Returning False, but in future this will result in an error. Use `array.size > 0` to check that an array is not empty.\n",
      "  if diff:\n"
     ]
    },
    {
     "ename": "KeyboardInterrupt",
     "evalue": "",
     "output_type": "error",
     "traceback": [
      "\u001b[0;31m---------------------------------------------------------------------------\u001b[0m",
      "\u001b[0;31mKeyboardInterrupt\u001b[0m                         Traceback (most recent call last)",
      "\u001b[0;32m<ipython-input-15-2d2d1182da6b>\u001b[0m in \u001b[0;36m<module>\u001b[0;34m()\u001b[0m\n\u001b[1;32m     14\u001b[0m     \u001b[0mAdaBoostClassifier\u001b[0m\u001b[0;34m(\u001b[0m\u001b[0mn_estimators\u001b[0m\u001b[0;34m=\u001b[0m\u001b[0;36m150\u001b[0m\u001b[0;34m,\u001b[0m \u001b[0mlearning_rate\u001b[0m\u001b[0;34m=\u001b[0m\u001b[0;36m0.1\u001b[0m\u001b[0;34m)\u001b[0m\u001b[0;34m,\u001b[0m\u001b[0;34m\u001b[0m\u001b[0m\n\u001b[1;32m     15\u001b[0m ]\n\u001b[0;32m---> 16\u001b[0;31m \u001b[0mcompare_classifiers\u001b[0m\u001b[0;34m(\u001b[0m\u001b[0mmodels\u001b[0m\u001b[0;34m,\u001b[0m \u001b[0mX_vect\u001b[0m\u001b[0;34m,\u001b[0m \u001b[0my\u001b[0m\u001b[0;34m)\u001b[0m\u001b[0;34m\u001b[0m\u001b[0m\n\u001b[0m",
      "\u001b[0;32m<ipython-input-14-f4c709f69c29>\u001b[0m in \u001b[0;36mcompare_classifiers\u001b[0;34m(models, X, y)\u001b[0m\n\u001b[1;32m      5\u001b[0m     \u001b[0;32mfor\u001b[0m \u001b[0mmodel\u001b[0m \u001b[0;32min\u001b[0m \u001b[0mmodels\u001b[0m\u001b[0;34m:\u001b[0m\u001b[0;34m\u001b[0m\u001b[0m\n\u001b[1;32m      6\u001b[0m         \u001b[0mmodel_name\u001b[0m \u001b[0;34m=\u001b[0m \u001b[0mmodel\u001b[0m\u001b[0;34m.\u001b[0m\u001b[0m__class__\u001b[0m\u001b[0;34m.\u001b[0m\u001b[0m__name__\u001b[0m\u001b[0;34m\u001b[0m\u001b[0m\n\u001b[0;32m----> 7\u001b[0;31m         \u001b[0maccuracies\u001b[0m \u001b[0;34m=\u001b[0m \u001b[0mcross_val_score\u001b[0m\u001b[0;34m(\u001b[0m\u001b[0mmodel\u001b[0m\u001b[0;34m,\u001b[0m \u001b[0mX\u001b[0m\u001b[0;34m,\u001b[0m \u001b[0my\u001b[0m\u001b[0;34m,\u001b[0m \u001b[0mscoring\u001b[0m\u001b[0;34m=\u001b[0m\u001b[0;34m'accuracy'\u001b[0m\u001b[0;34m,\u001b[0m \u001b[0mcv\u001b[0m\u001b[0;34m=\u001b[0m\u001b[0mCV\u001b[0m\u001b[0;34m)\u001b[0m\u001b[0;34m\u001b[0m\u001b[0m\n\u001b[0m\u001b[1;32m      8\u001b[0m         \u001b[0;32mfor\u001b[0m \u001b[0mfold_idx\u001b[0m\u001b[0;34m,\u001b[0m \u001b[0maccuracy\u001b[0m \u001b[0;32min\u001b[0m \u001b[0menumerate\u001b[0m\u001b[0;34m(\u001b[0m\u001b[0maccuracies\u001b[0m\u001b[0;34m)\u001b[0m\u001b[0;34m:\u001b[0m\u001b[0;34m\u001b[0m\u001b[0m\n\u001b[1;32m      9\u001b[0m             \u001b[0mentries\u001b[0m\u001b[0;34m.\u001b[0m\u001b[0mappend\u001b[0m\u001b[0;34m(\u001b[0m\u001b[0;34m(\u001b[0m\u001b[0mmodel_name\u001b[0m\u001b[0;34m,\u001b[0m \u001b[0mfold_idx\u001b[0m\u001b[0;34m,\u001b[0m \u001b[0maccuracy\u001b[0m\u001b[0;34m)\u001b[0m\u001b[0;34m)\u001b[0m\u001b[0;34m\u001b[0m\u001b[0m\n",
      "\u001b[0;32m/usr/local/lib/python3.6/dist-packages/sklearn/model_selection/_validation.py\u001b[0m in \u001b[0;36mcross_val_score\u001b[0;34m(estimator, X, y, groups, scoring, cv, n_jobs, verbose, fit_params, pre_dispatch)\u001b[0m\n\u001b[1;32m    340\u001b[0m                                 \u001b[0mn_jobs\u001b[0m\u001b[0;34m=\u001b[0m\u001b[0mn_jobs\u001b[0m\u001b[0;34m,\u001b[0m \u001b[0mverbose\u001b[0m\u001b[0;34m=\u001b[0m\u001b[0mverbose\u001b[0m\u001b[0;34m,\u001b[0m\u001b[0;34m\u001b[0m\u001b[0m\n\u001b[1;32m    341\u001b[0m                                 \u001b[0mfit_params\u001b[0m\u001b[0;34m=\u001b[0m\u001b[0mfit_params\u001b[0m\u001b[0;34m,\u001b[0m\u001b[0;34m\u001b[0m\u001b[0m\n\u001b[0;32m--> 342\u001b[0;31m                                 pre_dispatch=pre_dispatch)\n\u001b[0m\u001b[1;32m    343\u001b[0m     \u001b[0;32mreturn\u001b[0m \u001b[0mcv_results\u001b[0m\u001b[0;34m[\u001b[0m\u001b[0;34m'test_score'\u001b[0m\u001b[0;34m]\u001b[0m\u001b[0;34m\u001b[0m\u001b[0m\n\u001b[1;32m    344\u001b[0m \u001b[0;34m\u001b[0m\u001b[0m\n",
      "\u001b[0;32m/usr/local/lib/python3.6/dist-packages/sklearn/model_selection/_validation.py\u001b[0m in \u001b[0;36mcross_validate\u001b[0;34m(estimator, X, y, groups, scoring, cv, n_jobs, verbose, fit_params, pre_dispatch, return_train_score)\u001b[0m\n\u001b[1;32m    204\u001b[0m             \u001b[0mfit_params\u001b[0m\u001b[0;34m,\u001b[0m \u001b[0mreturn_train_score\u001b[0m\u001b[0;34m=\u001b[0m\u001b[0mreturn_train_score\u001b[0m\u001b[0;34m,\u001b[0m\u001b[0;34m\u001b[0m\u001b[0m\n\u001b[1;32m    205\u001b[0m             return_times=True)\n\u001b[0;32m--> 206\u001b[0;31m         for train, test in cv.split(X, y, groups))\n\u001b[0m\u001b[1;32m    207\u001b[0m \u001b[0;34m\u001b[0m\u001b[0m\n\u001b[1;32m    208\u001b[0m     \u001b[0;32mif\u001b[0m \u001b[0mreturn_train_score\u001b[0m\u001b[0;34m:\u001b[0m\u001b[0;34m\u001b[0m\u001b[0m\n",
      "\u001b[0;32m/usr/local/lib/python3.6/dist-packages/sklearn/externals/joblib/parallel.py\u001b[0m in \u001b[0;36m__call__\u001b[0;34m(self, iterable)\u001b[0m\n\u001b[1;32m    777\u001b[0m             \u001b[0;31m# was dispatched. In particular this covers the edge\u001b[0m\u001b[0;34m\u001b[0m\u001b[0;34m\u001b[0m\u001b[0m\n\u001b[1;32m    778\u001b[0m             \u001b[0;31m# case of Parallel used with an exhausted iterator.\u001b[0m\u001b[0;34m\u001b[0m\u001b[0;34m\u001b[0m\u001b[0m\n\u001b[0;32m--> 779\u001b[0;31m             \u001b[0;32mwhile\u001b[0m \u001b[0mself\u001b[0m\u001b[0;34m.\u001b[0m\u001b[0mdispatch_one_batch\u001b[0m\u001b[0;34m(\u001b[0m\u001b[0miterator\u001b[0m\u001b[0;34m)\u001b[0m\u001b[0;34m:\u001b[0m\u001b[0;34m\u001b[0m\u001b[0m\n\u001b[0m\u001b[1;32m    780\u001b[0m                 \u001b[0mself\u001b[0m\u001b[0;34m.\u001b[0m\u001b[0m_iterating\u001b[0m \u001b[0;34m=\u001b[0m \u001b[0;32mTrue\u001b[0m\u001b[0;34m\u001b[0m\u001b[0m\n\u001b[1;32m    781\u001b[0m             \u001b[0;32melse\u001b[0m\u001b[0;34m:\u001b[0m\u001b[0;34m\u001b[0m\u001b[0m\n",
      "\u001b[0;32m/usr/local/lib/python3.6/dist-packages/sklearn/externals/joblib/parallel.py\u001b[0m in \u001b[0;36mdispatch_one_batch\u001b[0;34m(self, iterator)\u001b[0m\n\u001b[1;32m    623\u001b[0m                 \u001b[0;32mreturn\u001b[0m \u001b[0;32mFalse\u001b[0m\u001b[0;34m\u001b[0m\u001b[0m\n\u001b[1;32m    624\u001b[0m             \u001b[0;32melse\u001b[0m\u001b[0;34m:\u001b[0m\u001b[0;34m\u001b[0m\u001b[0m\n\u001b[0;32m--> 625\u001b[0;31m                 \u001b[0mself\u001b[0m\u001b[0;34m.\u001b[0m\u001b[0m_dispatch\u001b[0m\u001b[0;34m(\u001b[0m\u001b[0mtasks\u001b[0m\u001b[0;34m)\u001b[0m\u001b[0;34m\u001b[0m\u001b[0m\n\u001b[0m\u001b[1;32m    626\u001b[0m                 \u001b[0;32mreturn\u001b[0m \u001b[0;32mTrue\u001b[0m\u001b[0;34m\u001b[0m\u001b[0m\n\u001b[1;32m    627\u001b[0m \u001b[0;34m\u001b[0m\u001b[0m\n",
      "\u001b[0;32m/usr/local/lib/python3.6/dist-packages/sklearn/externals/joblib/parallel.py\u001b[0m in \u001b[0;36m_dispatch\u001b[0;34m(self, batch)\u001b[0m\n\u001b[1;32m    586\u001b[0m         \u001b[0mdispatch_timestamp\u001b[0m \u001b[0;34m=\u001b[0m \u001b[0mtime\u001b[0m\u001b[0;34m.\u001b[0m\u001b[0mtime\u001b[0m\u001b[0;34m(\u001b[0m\u001b[0;34m)\u001b[0m\u001b[0;34m\u001b[0m\u001b[0m\n\u001b[1;32m    587\u001b[0m         \u001b[0mcb\u001b[0m \u001b[0;34m=\u001b[0m \u001b[0mBatchCompletionCallBack\u001b[0m\u001b[0;34m(\u001b[0m\u001b[0mdispatch_timestamp\u001b[0m\u001b[0;34m,\u001b[0m \u001b[0mlen\u001b[0m\u001b[0;34m(\u001b[0m\u001b[0mbatch\u001b[0m\u001b[0;34m)\u001b[0m\u001b[0;34m,\u001b[0m \u001b[0mself\u001b[0m\u001b[0;34m)\u001b[0m\u001b[0;34m\u001b[0m\u001b[0m\n\u001b[0;32m--> 588\u001b[0;31m         \u001b[0mjob\u001b[0m \u001b[0;34m=\u001b[0m \u001b[0mself\u001b[0m\u001b[0;34m.\u001b[0m\u001b[0m_backend\u001b[0m\u001b[0;34m.\u001b[0m\u001b[0mapply_async\u001b[0m\u001b[0;34m(\u001b[0m\u001b[0mbatch\u001b[0m\u001b[0;34m,\u001b[0m \u001b[0mcallback\u001b[0m\u001b[0;34m=\u001b[0m\u001b[0mcb\u001b[0m\u001b[0;34m)\u001b[0m\u001b[0;34m\u001b[0m\u001b[0m\n\u001b[0m\u001b[1;32m    589\u001b[0m         \u001b[0mself\u001b[0m\u001b[0;34m.\u001b[0m\u001b[0m_jobs\u001b[0m\u001b[0;34m.\u001b[0m\u001b[0mappend\u001b[0m\u001b[0;34m(\u001b[0m\u001b[0mjob\u001b[0m\u001b[0;34m)\u001b[0m\u001b[0;34m\u001b[0m\u001b[0m\n\u001b[1;32m    590\u001b[0m \u001b[0;34m\u001b[0m\u001b[0m\n",
      "\u001b[0;32m/usr/local/lib/python3.6/dist-packages/sklearn/externals/joblib/_parallel_backends.py\u001b[0m in \u001b[0;36mapply_async\u001b[0;34m(self, func, callback)\u001b[0m\n\u001b[1;32m    109\u001b[0m     \u001b[0;32mdef\u001b[0m \u001b[0mapply_async\u001b[0m\u001b[0;34m(\u001b[0m\u001b[0mself\u001b[0m\u001b[0;34m,\u001b[0m \u001b[0mfunc\u001b[0m\u001b[0;34m,\u001b[0m \u001b[0mcallback\u001b[0m\u001b[0;34m=\u001b[0m\u001b[0;32mNone\u001b[0m\u001b[0;34m)\u001b[0m\u001b[0;34m:\u001b[0m\u001b[0;34m\u001b[0m\u001b[0m\n\u001b[1;32m    110\u001b[0m         \u001b[0;34m\"\"\"Schedule a func to be run\"\"\"\u001b[0m\u001b[0;34m\u001b[0m\u001b[0m\n\u001b[0;32m--> 111\u001b[0;31m         \u001b[0mresult\u001b[0m \u001b[0;34m=\u001b[0m \u001b[0mImmediateResult\u001b[0m\u001b[0;34m(\u001b[0m\u001b[0mfunc\u001b[0m\u001b[0;34m)\u001b[0m\u001b[0;34m\u001b[0m\u001b[0m\n\u001b[0m\u001b[1;32m    112\u001b[0m         \u001b[0;32mif\u001b[0m \u001b[0mcallback\u001b[0m\u001b[0;34m:\u001b[0m\u001b[0;34m\u001b[0m\u001b[0m\n\u001b[1;32m    113\u001b[0m             \u001b[0mcallback\u001b[0m\u001b[0;34m(\u001b[0m\u001b[0mresult\u001b[0m\u001b[0;34m)\u001b[0m\u001b[0;34m\u001b[0m\u001b[0m\n",
      "\u001b[0;32m/usr/local/lib/python3.6/dist-packages/sklearn/externals/joblib/_parallel_backends.py\u001b[0m in \u001b[0;36m__init__\u001b[0;34m(self, batch)\u001b[0m\n\u001b[1;32m    330\u001b[0m         \u001b[0;31m# Don't delay the application, to avoid keeping the input\u001b[0m\u001b[0;34m\u001b[0m\u001b[0;34m\u001b[0m\u001b[0m\n\u001b[1;32m    331\u001b[0m         \u001b[0;31m# arguments in memory\u001b[0m\u001b[0;34m\u001b[0m\u001b[0;34m\u001b[0m\u001b[0m\n\u001b[0;32m--> 332\u001b[0;31m         \u001b[0mself\u001b[0m\u001b[0;34m.\u001b[0m\u001b[0mresults\u001b[0m \u001b[0;34m=\u001b[0m \u001b[0mbatch\u001b[0m\u001b[0;34m(\u001b[0m\u001b[0;34m)\u001b[0m\u001b[0;34m\u001b[0m\u001b[0m\n\u001b[0m\u001b[1;32m    333\u001b[0m \u001b[0;34m\u001b[0m\u001b[0m\n\u001b[1;32m    334\u001b[0m     \u001b[0;32mdef\u001b[0m \u001b[0mget\u001b[0m\u001b[0;34m(\u001b[0m\u001b[0mself\u001b[0m\u001b[0;34m)\u001b[0m\u001b[0;34m:\u001b[0m\u001b[0;34m\u001b[0m\u001b[0m\n",
      "\u001b[0;32m/usr/local/lib/python3.6/dist-packages/sklearn/externals/joblib/parallel.py\u001b[0m in \u001b[0;36m__call__\u001b[0;34m(self)\u001b[0m\n\u001b[1;32m    129\u001b[0m \u001b[0;34m\u001b[0m\u001b[0m\n\u001b[1;32m    130\u001b[0m     \u001b[0;32mdef\u001b[0m \u001b[0m__call__\u001b[0m\u001b[0;34m(\u001b[0m\u001b[0mself\u001b[0m\u001b[0;34m)\u001b[0m\u001b[0;34m:\u001b[0m\u001b[0;34m\u001b[0m\u001b[0m\n\u001b[0;32m--> 131\u001b[0;31m         \u001b[0;32mreturn\u001b[0m \u001b[0;34m[\u001b[0m\u001b[0mfunc\u001b[0m\u001b[0;34m(\u001b[0m\u001b[0;34m*\u001b[0m\u001b[0margs\u001b[0m\u001b[0;34m,\u001b[0m \u001b[0;34m**\u001b[0m\u001b[0mkwargs\u001b[0m\u001b[0;34m)\u001b[0m \u001b[0;32mfor\u001b[0m \u001b[0mfunc\u001b[0m\u001b[0;34m,\u001b[0m \u001b[0margs\u001b[0m\u001b[0;34m,\u001b[0m \u001b[0mkwargs\u001b[0m \u001b[0;32min\u001b[0m \u001b[0mself\u001b[0m\u001b[0;34m.\u001b[0m\u001b[0mitems\u001b[0m\u001b[0;34m]\u001b[0m\u001b[0;34m\u001b[0m\u001b[0m\n\u001b[0m\u001b[1;32m    132\u001b[0m \u001b[0;34m\u001b[0m\u001b[0m\n\u001b[1;32m    133\u001b[0m     \u001b[0;32mdef\u001b[0m \u001b[0m__len__\u001b[0m\u001b[0;34m(\u001b[0m\u001b[0mself\u001b[0m\u001b[0;34m)\u001b[0m\u001b[0;34m:\u001b[0m\u001b[0;34m\u001b[0m\u001b[0m\n",
      "\u001b[0;32m/usr/local/lib/python3.6/dist-packages/sklearn/externals/joblib/parallel.py\u001b[0m in \u001b[0;36m<listcomp>\u001b[0;34m(.0)\u001b[0m\n\u001b[1;32m    129\u001b[0m \u001b[0;34m\u001b[0m\u001b[0m\n\u001b[1;32m    130\u001b[0m     \u001b[0;32mdef\u001b[0m \u001b[0m__call__\u001b[0m\u001b[0;34m(\u001b[0m\u001b[0mself\u001b[0m\u001b[0;34m)\u001b[0m\u001b[0;34m:\u001b[0m\u001b[0;34m\u001b[0m\u001b[0m\n\u001b[0;32m--> 131\u001b[0;31m         \u001b[0;32mreturn\u001b[0m \u001b[0;34m[\u001b[0m\u001b[0mfunc\u001b[0m\u001b[0;34m(\u001b[0m\u001b[0;34m*\u001b[0m\u001b[0margs\u001b[0m\u001b[0;34m,\u001b[0m \u001b[0;34m**\u001b[0m\u001b[0mkwargs\u001b[0m\u001b[0;34m)\u001b[0m \u001b[0;32mfor\u001b[0m \u001b[0mfunc\u001b[0m\u001b[0;34m,\u001b[0m \u001b[0margs\u001b[0m\u001b[0;34m,\u001b[0m \u001b[0mkwargs\u001b[0m \u001b[0;32min\u001b[0m \u001b[0mself\u001b[0m\u001b[0;34m.\u001b[0m\u001b[0mitems\u001b[0m\u001b[0;34m]\u001b[0m\u001b[0;34m\u001b[0m\u001b[0m\n\u001b[0m\u001b[1;32m    132\u001b[0m \u001b[0;34m\u001b[0m\u001b[0m\n\u001b[1;32m    133\u001b[0m     \u001b[0;32mdef\u001b[0m \u001b[0m__len__\u001b[0m\u001b[0;34m(\u001b[0m\u001b[0mself\u001b[0m\u001b[0;34m)\u001b[0m\u001b[0;34m:\u001b[0m\u001b[0;34m\u001b[0m\u001b[0m\n",
      "\u001b[0;32m/usr/local/lib/python3.6/dist-packages/sklearn/model_selection/_validation.py\u001b[0m in \u001b[0;36m_fit_and_score\u001b[0;34m(estimator, X, y, scorer, train, test, verbose, parameters, fit_params, return_train_score, return_parameters, return_n_test_samples, return_times, error_score)\u001b[0m\n\u001b[1;32m    456\u001b[0m             \u001b[0mestimator\u001b[0m\u001b[0;34m.\u001b[0m\u001b[0mfit\u001b[0m\u001b[0;34m(\u001b[0m\u001b[0mX_train\u001b[0m\u001b[0;34m,\u001b[0m \u001b[0;34m**\u001b[0m\u001b[0mfit_params\u001b[0m\u001b[0;34m)\u001b[0m\u001b[0;34m\u001b[0m\u001b[0m\n\u001b[1;32m    457\u001b[0m         \u001b[0;32melse\u001b[0m\u001b[0;34m:\u001b[0m\u001b[0;34m\u001b[0m\u001b[0m\n\u001b[0;32m--> 458\u001b[0;31m             \u001b[0mestimator\u001b[0m\u001b[0;34m.\u001b[0m\u001b[0mfit\u001b[0m\u001b[0;34m(\u001b[0m\u001b[0mX_train\u001b[0m\u001b[0;34m,\u001b[0m \u001b[0my_train\u001b[0m\u001b[0;34m,\u001b[0m \u001b[0;34m**\u001b[0m\u001b[0mfit_params\u001b[0m\u001b[0;34m)\u001b[0m\u001b[0;34m\u001b[0m\u001b[0m\n\u001b[0m\u001b[1;32m    459\u001b[0m \u001b[0;34m\u001b[0m\u001b[0m\n\u001b[1;32m    460\u001b[0m     \u001b[0;32mexcept\u001b[0m \u001b[0mException\u001b[0m \u001b[0;32mas\u001b[0m \u001b[0me\u001b[0m\u001b[0;34m:\u001b[0m\u001b[0;34m\u001b[0m\u001b[0m\n",
      "\u001b[0;32m/usr/local/lib/python3.6/dist-packages/sklearn/ensemble/gradient_boosting.py\u001b[0m in \u001b[0;36mfit\u001b[0;34m(self, X, y, sample_weight, monitor)\u001b[0m\n\u001b[1;32m   1032\u001b[0m         \u001b[0;31m# fit the boosting stages\u001b[0m\u001b[0;34m\u001b[0m\u001b[0;34m\u001b[0m\u001b[0m\n\u001b[1;32m   1033\u001b[0m         n_stages = self._fit_stages(X, y, y_pred, sample_weight, random_state,\n\u001b[0;32m-> 1034\u001b[0;31m                                     begin_at_stage, monitor, X_idx_sorted)\n\u001b[0m\u001b[1;32m   1035\u001b[0m         \u001b[0;31m# change shape of arrays after fit (early-stopping or additional ests)\u001b[0m\u001b[0;34m\u001b[0m\u001b[0;34m\u001b[0m\u001b[0m\n\u001b[1;32m   1036\u001b[0m         \u001b[0;32mif\u001b[0m \u001b[0mn_stages\u001b[0m \u001b[0;34m!=\u001b[0m \u001b[0mself\u001b[0m\u001b[0;34m.\u001b[0m\u001b[0mestimators_\u001b[0m\u001b[0;34m.\u001b[0m\u001b[0mshape\u001b[0m\u001b[0;34m[\u001b[0m\u001b[0;36m0\u001b[0m\u001b[0;34m]\u001b[0m\u001b[0;34m:\u001b[0m\u001b[0;34m\u001b[0m\u001b[0m\n",
      "\u001b[0;32m/usr/local/lib/python3.6/dist-packages/sklearn/ensemble/gradient_boosting.py\u001b[0m in \u001b[0;36m_fit_stages\u001b[0;34m(self, X, y, y_pred, sample_weight, random_state, begin_at_stage, monitor, X_idx_sorted)\u001b[0m\n\u001b[1;32m   1087\u001b[0m             y_pred = self._fit_stage(i, X, y, y_pred, sample_weight,\n\u001b[1;32m   1088\u001b[0m                                      \u001b[0msample_mask\u001b[0m\u001b[0;34m,\u001b[0m \u001b[0mrandom_state\u001b[0m\u001b[0;34m,\u001b[0m \u001b[0mX_idx_sorted\u001b[0m\u001b[0;34m,\u001b[0m\u001b[0;34m\u001b[0m\u001b[0m\n\u001b[0;32m-> 1089\u001b[0;31m                                      X_csc, X_csr)\n\u001b[0m\u001b[1;32m   1090\u001b[0m \u001b[0;34m\u001b[0m\u001b[0m\n\u001b[1;32m   1091\u001b[0m             \u001b[0;31m# track deviance (= loss)\u001b[0m\u001b[0;34m\u001b[0m\u001b[0;34m\u001b[0m\u001b[0m\n",
      "\u001b[0;32m/usr/local/lib/python3.6/dist-packages/sklearn/ensemble/gradient_boosting.py\u001b[0m in \u001b[0;36m_fit_stage\u001b[0;34m(self, i, X, y, y_pred, sample_weight, sample_mask, random_state, X_idx_sorted, X_csc, X_csr)\u001b[0m\n\u001b[1;32m    786\u001b[0m             \u001b[0;32melse\u001b[0m\u001b[0;34m:\u001b[0m\u001b[0;34m\u001b[0m\u001b[0m\n\u001b[1;32m    787\u001b[0m                 tree.fit(X, residual, sample_weight=sample_weight,\n\u001b[0;32m--> 788\u001b[0;31m                          check_input=False, X_idx_sorted=X_idx_sorted)\n\u001b[0m\u001b[1;32m    789\u001b[0m \u001b[0;34m\u001b[0m\u001b[0m\n\u001b[1;32m    790\u001b[0m             \u001b[0;31m# update tree leaves\u001b[0m\u001b[0;34m\u001b[0m\u001b[0;34m\u001b[0m\u001b[0m\n",
      "\u001b[0;32m/usr/local/lib/python3.6/dist-packages/sklearn/tree/tree.py\u001b[0m in \u001b[0;36mfit\u001b[0;34m(self, X, y, sample_weight, check_input, X_idx_sorted)\u001b[0m\n\u001b[1;32m   1122\u001b[0m             \u001b[0msample_weight\u001b[0m\u001b[0;34m=\u001b[0m\u001b[0msample_weight\u001b[0m\u001b[0;34m,\u001b[0m\u001b[0;34m\u001b[0m\u001b[0m\n\u001b[1;32m   1123\u001b[0m             \u001b[0mcheck_input\u001b[0m\u001b[0;34m=\u001b[0m\u001b[0mcheck_input\u001b[0m\u001b[0;34m,\u001b[0m\u001b[0;34m\u001b[0m\u001b[0m\n\u001b[0;32m-> 1124\u001b[0;31m             X_idx_sorted=X_idx_sorted)\n\u001b[0m\u001b[1;32m   1125\u001b[0m         \u001b[0;32mreturn\u001b[0m \u001b[0mself\u001b[0m\u001b[0;34m\u001b[0m\u001b[0m\n\u001b[1;32m   1126\u001b[0m \u001b[0;34m\u001b[0m\u001b[0m\n",
      "\u001b[0;32m/usr/local/lib/python3.6/dist-packages/sklearn/tree/tree.py\u001b[0m in \u001b[0;36mfit\u001b[0;34m(self, X, y, sample_weight, check_input, X_idx_sorted)\u001b[0m\n\u001b[1;32m    360\u001b[0m                                            min_impurity_split)\n\u001b[1;32m    361\u001b[0m \u001b[0;34m\u001b[0m\u001b[0m\n\u001b[0;32m--> 362\u001b[0;31m         \u001b[0mbuilder\u001b[0m\u001b[0;34m.\u001b[0m\u001b[0mbuild\u001b[0m\u001b[0;34m(\u001b[0m\u001b[0mself\u001b[0m\u001b[0;34m.\u001b[0m\u001b[0mtree_\u001b[0m\u001b[0;34m,\u001b[0m \u001b[0mX\u001b[0m\u001b[0;34m,\u001b[0m \u001b[0my\u001b[0m\u001b[0;34m,\u001b[0m \u001b[0msample_weight\u001b[0m\u001b[0;34m,\u001b[0m \u001b[0mX_idx_sorted\u001b[0m\u001b[0;34m)\u001b[0m\u001b[0;34m\u001b[0m\u001b[0m\n\u001b[0m\u001b[1;32m    363\u001b[0m \u001b[0;34m\u001b[0m\u001b[0m\n\u001b[1;32m    364\u001b[0m         \u001b[0;32mif\u001b[0m \u001b[0mself\u001b[0m\u001b[0;34m.\u001b[0m\u001b[0mn_outputs_\u001b[0m \u001b[0;34m==\u001b[0m \u001b[0;36m1\u001b[0m\u001b[0;34m:\u001b[0m\u001b[0;34m\u001b[0m\u001b[0m\n",
      "\u001b[0;31mKeyboardInterrupt\u001b[0m: "
     ]
    }
   ],
   "source": [
    "models = [\n",
    "    DecisionTreeClassifier(criterion = 'entropy',\n",
    "                                    random_state = 100,\n",
    "                                    max_depth = 25,\n",
    "                                    min_samples_leaf = 2),\n",
    "    RandomForestClassifier(random_state=100,\n",
    "                                 n_estimators=20, \n",
    "                                 criterion='entropy', \n",
    "                                 n_jobs=4),\n",
    "    XGBoostClassifier(max_depth=5, n_estimators=5),\n",
    "    MultinomialNB(),\n",
    "    LogisticRegression(random_state=0),\n",
    "    GradientBoostingClassifier(),\n",
    "    AdaBoostClassifier(n_estimators=150, learning_rate=0.1),\n",
    "]\n",
    "compare_classifiers(models, X_vect, y)"
   ]
  },
  {
   "cell_type": "code",
   "execution_count": null,
   "metadata": {},
   "outputs": [],
   "source": []
  }
 ],
 "metadata": {
  "kernelspec": {
   "display_name": "Python 3",
   "language": "python",
   "name": "python3"
  },
  "language_info": {
   "codemirror_mode": {
    "name": "ipython",
    "version": 3
   },
   "file_extension": ".py",
   "mimetype": "text/x-python",
   "name": "python",
   "nbconvert_exporter": "python",
   "pygments_lexer": "ipython3",
   "version": "3.6.6"
  },
  "latex_envs": {
   "LaTeX_envs_menu_present": true,
   "autoclose": false,
   "autocomplete": true,
   "bibliofile": "biblio.bib",
   "cite_by": "apalike",
   "current_citInitial": 1,
   "eqLabelWithNumbers": true,
   "eqNumInitial": 1,
   "hotkeys": {
    "equation": "Ctrl-E",
    "itemize": "Ctrl-I"
   },
   "labels_anchors": false,
   "latex_user_defs": false,
   "report_style_numbering": false,
   "user_envs_cfg": false
  },
  "varInspector": {
   "cols": {
    "lenName": 16,
    "lenType": 16,
    "lenVar": 40
   },
   "kernels_config": {
    "python": {
     "delete_cmd_postfix": "",
     "delete_cmd_prefix": "del ",
     "library": "var_list.py",
     "varRefreshCmd": "print(var_dic_list())"
    },
    "r": {
     "delete_cmd_postfix": ") ",
     "delete_cmd_prefix": "rm(",
     "library": "var_list.r",
     "varRefreshCmd": "cat(var_dic_list()) "
    }
   },
   "types_to_exclude": [
    "module",
    "function",
    "builtin_function_or_method",
    "instance",
    "_Feature"
   ],
   "window_display": false
  }
 },
 "nbformat": 4,
 "nbformat_minor": 2
}
