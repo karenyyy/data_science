{
 "cells": [
  {
   "cell_type": "markdown",
   "metadata": {},
   "source": [
    "### import packages"
   ]
  },
  {
   "cell_type": "code",
   "execution_count": 56,
   "metadata": {
    "scrolled": true
   },
   "outputs": [],
   "source": [
    "import datascience as ds\n",
    "from datascience import *\n",
    "import numpy as np\n",
    "from graphviz import Source\n",
    "import pandas as pd\n",
    "import re, string\n",
    "import nltk\n",
    "import seaborn as sns\n",
    "from sklearn.feature_extraction.text import CountVectorizer, TfidfVectorizer\n",
    "from sklearn.tree import DecisionTreeClassifier\n",
    "from sklearn.ensemble import RandomForestClassifier, GradientBoostingClassifier, AdaBoostClassifier\n",
    "from xgboost import XGBClassifier as XGBoostClassifier\n",
    "from sklearn.linear_model import LogisticRegression\n",
    "from sklearn.naive_bayes import MultinomialNB\n",
    "from sklearn import tree\n",
    "from sklearn.metrics import confusion_matrix, precision_score, recall_score, f1_score, accuracy_score\n",
    "import matplotlib.pyplot as plt\n",
    "from sklearn.model_selection import train_test_split, cross_val_score, StratifiedKFold\n",
    "\n",
    "%matplotlib inline"
   ]
  },
  {
   "cell_type": "code",
   "execution_count": 57,
   "metadata": {
    "scrolled": true
   },
   "outputs": [],
   "source": [
    "def process_text(data):\n",
    "    cleaned_text = [\n",
    "        re.sub('\\s+', ' ', re.sub(\"(@[A-Za-z0-9]+)|([^0-9A-Za-z \\t])|(\\w+:\\/\\/\\S+)|^rt|[0-9]+|http.+?\", '',\n",
    "               tweets.lower()).strip(string.punctuation).strip()) for tweets in data\n",
    "        ]\n",
    "    return cleaned_text"
   ]
  },
  {
   "cell_type": "code",
   "execution_count": 58,
   "metadata": {
    "scrolled": true
   },
   "outputs": [],
   "source": [
    "tagged = pd.read_csv('tagged.csv', sep=',', index_col=False)\n",
    "tagged.text = process_text(tagged.text)\n",
    "tagged = tagged.drop(tagged.columns[0], axis=1).reset_index(drop=True)\n",
    "tagged = tagged.drop(tagged[tagged.sentiment==-1].index).reset_index(drop=True)\n",
    "tagged = tagged.iloc[tagged.text.drop_duplicates().index]\n",
    "tagged.to_csv('relevant_tagged.csv')"
   ]
  },
  {
   "cell_type": "markdown",
   "metadata": {},
   "source": [
    "### tweets data loaded into Jupyter Notebook as Table object"
   ]
  },
  {
   "cell_type": "code",
   "execution_count": 59,
   "metadata": {
    "scrolled": true
   },
   "outputs": [
    {
     "data": {
      "text/html": [
       "<table border=\"1\" class=\"dataframe\">\n",
       "    <thead>\n",
       "        <tr>\n",
       "            <th>Unnamed: 0</th> <th>user_id</th> <th>user_name</th> <th>tweet_time</th> <th>location</th> <th>text</th> <th>sentiment</th>\n",
       "        </tr>\n",
       "    </thead>\n",
       "    <tbody>\n",
       "        <tr>\n",
       "            <td>0         </td> <td>802657195661742080 </td> <td>Christine Warren              </td> <td>Wed Sep 12 01:38:14 +0000 2018</td> <td>Fremont CA        </td> <td>american lives were just lost in tennessee potus please  ...</td> <td>0        </td>\n",
       "        </tr>\n",
       "        <tr>\n",
       "            <td>1         </td> <td>1039245812230893570</td> <td>Trumpservative                </td> <td>Wed Sep 12 01:38:16 +0000 2018</td> <td>Tulsa OK          </td> <td>farmacist our great leader president donald j trump can  ...</td> <td>1        </td>\n",
       "        </tr>\n",
       "        <tr>\n",
       "            <td>2         </td> <td>282084840          </td> <td>Darrel Sheldon #MAGAVETERAN   </td> <td>Wed Sep 12 01:38:18 +0000 2018</td> <td>None              </td> <td>rev out the trumptrain for fa                               </td> <td>0        </td>\n",
       "        </tr>\n",
       "        <tr>\n",
       "            <td>3         </td> <td>62315639           </td> <td>Queer Liberal Voting Snowflake</td> <td>Wed Sep 12 01:38:18 +0000 2018</td> <td>Big Sandy Texas   </td> <td>tennessee is suffering after shooting takes lives potus  ...</td> <td>0        </td>\n",
       "        </tr>\n",
       "        <tr>\n",
       "            <td>4         </td> <td>340428574          </td> <td>DelcoGal                      </td> <td>Wed Sep 12 01:38:21 +0000 2018</td> <td>Pennsylvania      </td> <td>redwaverising this years midterm is the most important i ...</td> <td>1        </td>\n",
       "        </tr>\n",
       "        <tr>\n",
       "            <td>5         </td> <td>1603928228         </td> <td>Julz                          </td> <td>Wed Sep 12 01:38:22 +0000 2018</td> <td>MIAATLPGH         </td> <td>lives were just lost in tennessee potus its time to do s ...</td> <td>0        </td>\n",
       "        </tr>\n",
       "        <tr>\n",
       "            <td>6         </td> <td>1865678516         </td> <td>Barbara Kuczinski             </td> <td>Wed Sep 12 01:38:22 +0000 2018</td> <td>None              </td> <td>oh hon cnn reports the truth as fast as they can dream i ...</td> <td>1        </td>\n",
       "        </tr>\n",
       "        <tr>\n",
       "            <td>7         </td> <td>59288409           </td> <td>Josh Steed PhD                </td> <td>Wed Sep 12 01:38:25 +0000 2018</td> <td>Arkansas          </td> <td>msm is repulsive they do nothing but lie and undermine p ...</td> <td>0        </td>\n",
       "        </tr>\n",
       "        <tr>\n",
       "            <td>8         </td> <td>325172419          </td> <td>Mrs. Linz                     </td> <td>Wed Sep 12 01:38:25 +0000 2018</td> <td>BC Canada         </td> <td>muslims coming illegally across the southern border maga ...</td> <td>2        </td>\n",
       "        </tr>\n",
       "        <tr>\n",
       "            <td>9         </td> <td>2283127514         </td> <td>Garrett ODowd                 </td> <td>Wed Sep 12 01:38:26 +0000 2018</td> <td>Melbourne Victoria</td> <td>when you find out donald trump isnt coming to ireland se ...</td> <td>1        </td>\n",
       "        </tr>\n",
       "    </tbody>\n",
       "</table>\n",
       "<p>... (1002 rows omitted)</p>"
      ],
      "text/plain": [
       "Unnamed: 0 | user_id             | user_name                      | tweet_time                     | location           | text                                                         | sentiment\n",
       "0          | 802657195661742080  | Christine Warren               | Wed Sep 12 01:38:14 +0000 2018 | Fremont CA         | american lives were just lost in tennessee potus please  ... | 0\n",
       "1          | 1039245812230893570 | Trumpservative                 | Wed Sep 12 01:38:16 +0000 2018 | Tulsa OK           | farmacist our great leader president donald j trump can  ... | 1\n",
       "2          | 282084840           | Darrel Sheldon #MAGAVETERAN    | Wed Sep 12 01:38:18 +0000 2018 | None               | rev out the trumptrain for fa                                | 0\n",
       "3          | 62315639            | Queer Liberal Voting Snowflake | Wed Sep 12 01:38:18 +0000 2018 | Big Sandy Texas    | tennessee is suffering after shooting takes lives potus  ... | 0\n",
       "4          | 340428574           | DelcoGal                       | Wed Sep 12 01:38:21 +0000 2018 | Pennsylvania       | redwaverising this years midterm is the most important i ... | 1\n",
       "5          | 1603928228          | Julz                           | Wed Sep 12 01:38:22 +0000 2018 | MIAATLPGH          | lives were just lost in tennessee potus its time to do s ... | 0\n",
       "6          | 1865678516          | Barbara Kuczinski              | Wed Sep 12 01:38:22 +0000 2018 | None               | oh hon cnn reports the truth as fast as they can dream i ... | 1\n",
       "7          | 59288409            | Josh Steed PhD                 | Wed Sep 12 01:38:25 +0000 2018 | Arkansas           | msm is repulsive they do nothing but lie and undermine p ... | 0\n",
       "8          | 325172419           | Mrs. Linz                      | Wed Sep 12 01:38:25 +0000 2018 | BC Canada          | muslims coming illegally across the southern border maga ... | 2\n",
       "9          | 2283127514          | Garrett ODowd                  | Wed Sep 12 01:38:26 +0000 2018 | Melbourne Victoria | when you find out donald trump isnt coming to ireland se ... | 1\n",
       "... (1002 rows omitted)"
      ]
     },
     "execution_count": 59,
     "metadata": {},
     "output_type": "execute_result"
    }
   ],
   "source": [
    "df = ds.Table.read_table('relevant_tagged.csv', sep=',')\n",
    "df"
   ]
  },
  {
   "cell_type": "markdown",
   "metadata": {},
   "source": [
    "### data preprocessing"
   ]
  },
  {
   "cell_type": "markdown",
   "metadata": {},
   "source": [
    "### StratifiedKFold"
   ]
  },
  {
   "cell_type": "code",
   "execution_count": 60,
   "metadata": {
    "scrolled": true
   },
   "outputs": [],
   "source": [
    "X = list(df['text'])\n",
    "y = list(df['sentiment'])"
   ]
  },
  {
   "cell_type": "markdown",
   "metadata": {},
   "source": [
    "#### Check whether the data distribution is balanced"
   ]
  },
  {
   "cell_type": "code",
   "execution_count": 61,
   "metadata": {
    "scrolled": true
   },
   "outputs": [],
   "source": [
    "def check(sentiment, index, note='training'):\n",
    "    if sentiment==0:\n",
    "        label = 'neutral'\n",
    "    elif sentiment==1:\n",
    "        label = 'positive'\n",
    "    else:\n",
    "        label = 'negative'\n",
    "    print('There are {} '.format(df.take(index).where('sentiment', are.equal_to(sentiment)).size[0][0])+label+' tweets in the '+note+' set.')"
   ]
  },
  {
   "cell_type": "markdown",
   "metadata": {},
   "source": [
    "#### Model Building"
   ]
  },
  {
   "cell_type": "code",
   "execution_count": 62,
   "metadata": {
    "scrolled": true
   },
   "outputs": [],
   "source": [
    "def custom_split(train_index, test_index):\n",
    "    trainingset = df.take(train_index)\n",
    "    testingset = df.take(test_index)    \n",
    "        \n",
    "    X_train= list(trainingset['text'])\n",
    "    y_train= list(trainingset['sentiment'])\n",
    "    X_test= list(testingset['text'])\n",
    "    y_test= list(testingset['sentiment'])\n",
    "    \n",
    "    return X_train, X_test, y_train, y_test"
   ]
  },
  {
   "cell_type": "code",
   "execution_count": 63,
   "metadata": {
    "scrolled": true
   },
   "outputs": [],
   "source": [
    "def word_vectorizer(X_train, X_test):\n",
    "    vect = CountVectorizer(\n",
    "         analyzer=\"word\", ngram_range=([1,2]), tokenizer=nltk.word_tokenize,\n",
    "        preprocessor=None, stop_words='english', max_features=3000)\n",
    "#     vect = TfidfVectorizer(sublinear_tf=True, min_df=10, norm='l1', encoding='latin-1', \n",
    "#                             ngram_range=(1,2), stop_words='english')\n",
    "    X_train_vect = vect.fit_transform(X_train).todense()\n",
    "    X_test_vect = vect.transform(X_test)\n",
    "    return X_train_vect, X_test_vect, vect.get_feature_names()"
   ]
  },
  {
   "cell_type": "code",
   "execution_count": 88,
   "metadata": {
    "scrolled": true
   },
   "outputs": [],
   "source": [
    "def classifier(X_train, y_train, X_test, fold, feature_names):\n",
    "    clf = DecisionTreeClassifier(criterion = 'entropy',\n",
    "                                    random_state = 100,\n",
    "                                    max_depth = 5,\n",
    "                                    min_samples_leaf = 2)\n",
    "#     clf = RandomForestClassifier(random_state=100,\n",
    "#                                  n_estimators=20, \n",
    "#                                  criterion='entropy', \n",
    "#                                  n_jobs=4)\n",
    "#     clf = XGBoostClassifier(max_depth=5, n_estimators=5)\n",
    "    clf.fit(X_train, y_train)\n",
    "    try:\n",
    "        dot_data = tree.export_graphviz(clf, out_file=None, feature_names=feature_names)\n",
    "        graph = Source(dot_data)\n",
    "        graph.render('SentientClassifier-Fold_{}'.format(fold))\n",
    "    except Exception as e:\n",
    "        print(e)\n",
    "    predicted_y_test = clf.predict(X_test)\n",
    "    return predicted_y_test"
   ]
  },
  {
   "cell_type": "code",
   "execution_count": 89,
   "metadata": {
    "scrolled": true
   },
   "outputs": [],
   "source": [
    "def eval_results(predicted_y_test, y_test):\n",
    "    print('\\n Testing precision are: ', predicted_y_test, '\\n')\n",
    "    precision_s = precision_score(y_test, predicted_y_test, average='weighted')\n",
    "    recall_s = recall_score(y_test, predicted_y_test, average='weighted')\n",
    "    f1_s = f1_score(y_test, predicted_y_test, average='weighted')\n",
    "    cm = confusion_matrix(y_test, predicted_y_test)  \n",
    "\n",
    "    print(\"Precision Score:\", precision_s)\n",
    "    print(\"Recall Score:\", recall_s)\n",
    "    print(\"f1 Score:\", f1_s)\n",
    "    print('confusion_matrix is: \\n', cm, '\\n')\n",
    "    return precision_s, recall_s, f1_s, cm"
   ]
  },
  {
   "cell_type": "code",
   "execution_count": 90,
   "metadata": {
    "scrolled": true
   },
   "outputs": [],
   "source": [
    "def k_fold_evaluate(X, y, n_splits):\n",
    "    # initialization\n",
    "    fold = 1\n",
    "    accuracy_ = []\n",
    "    precision = []\n",
    "    recall=[]\n",
    "    f1 = []\n",
    "    skf = StratifiedKFold(n_splits=n_splits, random_state=1, shuffle= True)\n",
    "\n",
    "    # build model and collect results\n",
    "    for train_index, test_index in skf.split(X, y):\n",
    "        if fold==1:\n",
    "            list(map(lambda x: check(x, train_index), range(3)))\n",
    "            list(map(lambda x: check(x, test_index, note='testing'), range(3)))\n",
    "        \n",
    "        X_train, X_test, y_train, y_test = custom_split(train_index, test_index)\n",
    "        \n",
    "        X_train_vect, X_test_vect, feature_names = word_vectorizer(X_train, X_test)\n",
    "        predicted_y_test = classifier(X_train=X_train_vect, y_train=y_train, X_test=X_test_vect, fold=fold, feature_names=feature_names)\n",
    "        precision_s, recall_s, f1_s, cm = eval_results(predicted_y_test, y_test)\n",
    "        \n",
    "        precision.append(precision_s)\n",
    "        recall.append(recall_s)\n",
    "        f1.append(f1_s)\n",
    "        \n",
    "        sns.heatmap(cm, annot=True, cmap='Blues')\n",
    "        plt.show()\n",
    "        \n",
    "        fold += 1\n",
    "    \n",
    "    metrics_df = pd.DataFrame(\n",
    "        {'precision': precision,\n",
    "        'recall':recall,\n",
    "        'f1':f1}\n",
    "    )\n",
    "    print(metrics_df)\n",
    "    metrics_df.plot(linewidth=2)"
   ]
  },
  {
   "cell_type": "code",
   "execution_count": 91,
   "metadata": {
    "scrolled": true
   },
   "outputs": [
    {
     "name": "stderr",
     "output_type": "stream",
     "text": [
      "/usr/local/lib/python3.6/dist-packages/datascience/tables.py:192: FutureWarning: Implicit column method lookup is deprecated.\n",
      "  warnings.warn(\"Implicit column method lookup is deprecated.\", FutureWarning)\n"
     ]
    },
    {
     "name": "stdout",
     "output_type": "stream",
     "text": [
      "There are 313 neutral tweets in the training set.\n",
      "There are 308 positive tweets in the training set.\n",
      "There are 188 negative tweets in the training set.\n",
      "There are 79 neutral tweets in the testing set.\n",
      "There are 77 positive tweets in the testing set.\n",
      "There are 47 negative tweets in the testing set.\n",
      "\n",
      " Testing precision are:  [0 0 0 0 0 0 0 0 0 0 0 0 0 0 0 0 0 0 0 0 0 0 0 0 0 0 0 0 2 0 2 0 0 0 0 0 0\n",
      " 0 0 0 1 0 0 0 0 0 0 0 0 0 0 0 0 0 0 0 0 0 0 0 0 0 0 0 0 0 0 0 2 0 0 0 0 0\n",
      " 0 0 0 0 0 0 0 2 0 0 0 0 0 0 0 0 0 0 0 0 0 0 0 1 0 0 0 0 1 0 0 0 0 0 0 0 0\n",
      " 0 0 0 0 0 0 0 0 0 0 0 0 0 0 0 0 0 0 0 1 0 0 0 0 0 2 0 1 0 0 0 0 0 0 0 0 0\n",
      " 0 0 0 0 0 0 0 0 0 0 0 0 0 0 0 0 0 0 0 0 0 0 0 0 0 1 0 0 0 0 0 0 0 0 0 0 0\n",
      " 0 0 0 0 0 0 0 0 0 0 0 0 0 0 0 0 0 0] \n",
      "\n",
      "Precision Score: 0.7709616174055828\n",
      "Recall Score: 0.4433497536945813\n",
      "f1 Score: 0.32625631649925796\n",
      "confusion_matrix is: \n",
      " [[79  0  0]\n",
      " [71  6  0]\n",
      " [42  0  5]] \n",
      "\n"
     ]
    },
    {
     "data": {
      "image/png": "[encoded data removed]",
      "text/plain": [
       "<Figure size 432x288 with 2 Axes>"
      ]
     },
     "metadata": {
      "needs_background": "light"
     },
     "output_type": "display_data"
    },
    {
     "name": "stdout",
     "output_type": "stream",
     "text": [
      "\n",
      " Testing precision are:  [0 1 0 0 0 0 0 0 0 0 0 0 0 0 0 0 0 0 0 0 2 0 0 0 0 0 0 0 0 0 0 0 0 0 0 0 0\n",
      " 0 0 0 0 0 0 0 0 1 0 0 0 0 0 0 0 0 0 0 0 0 0 0 0 2 0 0 0 0 0 0 0 0 0 0 0 0\n",
      " 0 0 0 0 0 0 0 0 0 0 0 0 0 0 0 0 0 0 0 0 0 0 0 0 0 0 0 0 0 0 0 0 0 0 0 1 0\n",
      " 0 0 0 0 0 0 0 0 0 0 0 0 0 0 0 0 0 0 1 0 0 0 0 0 0 0 0 0 0 2 0 0 0 0 0 0 0\n",
      " 0 0 0 0 0 0 0 0 0 0 1 1 0 0 0 0 0 0 0 0 0 0 0 0 0 0 0 0 0 0 0 0 0 1 0 0 0\n",
      " 0 0 0 0 0 0 2 0 0 0 0 0 0 0 1 0 0 0] \n",
      "\n",
      "Precision Score: 0.7717999638923994\n",
      "Recall Score: 0.4482758620689655\n",
      "f1 Score: 0.3354497354497354\n",
      "confusion_matrix is: \n",
      " [[79  0  0]\n",
      " [69  8  0]\n",
      " [43  0  4]] \n",
      "\n"
     ]
    },
    {
     "data": {
      "image/png": "[encoded data removed]",
      "text/plain": [
       "<Figure size 432x288 with 2 Axes>"
      ]
     },
     "metadata": {
      "needs_background": "light"
     },
     "output_type": "display_data"
    },
    {
     "name": "stdout",
     "output_type": "stream",
     "text": [
      "\n",
      " Testing precision are:  [0 0 0 0 0 0 0 0 0 0 0 0 0 0 0 0 0 0 0 0 0 0 0 0 0 0 0 0 0 0 0 0 0 0 0 0 0\n",
      " 0 0 0 0 0 1 0 0 0 0 0 0 0 0 0 0 0 0 0 0 0 0 0 2 0 0 0 0 0 0 0 0 0 0 0 0 0\n",
      " 0 0 0 0 0 0 0 0 0 0 0 0 0 0 0 0 0 0 0 0 0 0 0 1 0 0 0 0 0 0 0 0 0 0 0 0 0\n",
      " 0 0 0 0 0 0 0 0 0 1 0 0 0 1 0 0 0 0 0 0 0 0 0 0 1 0 0 0 0 0 0 0 0 0 1 0 0\n",
      " 1 0 0 1 0 0 0 0 0 0 0 0 1 0 0 0 0 2 0 0 0 0 0 0 0 0 2 0 0 0 0 0 0 0 0 0 0\n",
      " 0 0 0 2 0 0 0 0 0 0 0 0 0 0 0 0 0] \n",
      "\n",
      "Precision Score: 0.7150518623290901\n",
      "Recall Score: 0.44554455445544555\n",
      "f1 Score: 0.33276596308088363\n",
      "confusion_matrix is: \n",
      " [[78  0  0]\n",
      " [67  9  1]\n",
      " [44  0  3]] \n",
      "\n"
     ]
    },
    {
     "data": {
      "image/png": "[encoded data removed]",
      "text/plain": [
       "<Figure size 432x288 with 2 Axes>"
      ]
     },
     "metadata": {
      "needs_background": "light"
     },
     "output_type": "display_data"
    },
    {
     "name": "stdout",
     "output_type": "stream",
     "text": [
      "\n",
      " Testing precision are:  [0 0 0 0 0 0 0 0 0 0 0 0 0 0 1 0 0 0 0 1 0 0 0 0 0 0 0 0 0 0 0 0 0 0 0 0 0\n",
      " 0 0 0 0 0 0 0 0 1 0 0 0 2 0 0 0 0 0 0 0 0 0 0 0 0 0 0 0 0 0 0 0 0 0 0 0 0\n",
      " 0 0 0 0 0 0 0 0 0 0 0 0 0 0 0 0 2 0 0 1 0 0 0 0 0 0 0 1 1 0 0 0 0 0 0 0 0\n",
      " 0 0 0 0 0 0 0 0 0 0 0 0 0 0 1 0 0 0 0 0 0 0 1 0 0 0 0 0 0 0 0 0 0 0 0 0 0\n",
      " 0 0 0 0 0 0 0 0 0 0 0 0 0 0 0 1 0 0 0 0 0 0 0 0 0 0 0 0 1 0 0 1 0 0 0 0 0\n",
      " 0 0 0 0 0 0 0 0 0 0 0 0 1 0 0 0 0] \n",
      "\n",
      "Precision Score: 0.7740678323151464\n",
      "Recall Score: 0.45544554455445546\n",
      "f1 Score: 0.3482432699997694\n",
      "confusion_matrix is: \n",
      " [[78  0  0]\n",
      " [65 12  0]\n",
      " [45  0  2]] \n",
      "\n"
     ]
    },
    {
     "data": {
      "image/png": "[encoded data removed]",
      "text/plain": [
       "<Figure size 432x288 with 2 Axes>"
      ]
     },
     "metadata": {
      "needs_background": "light"
     },
     "output_type": "display_data"
    },
    {
     "name": "stdout",
     "output_type": "stream",
     "text": [
      "\n",
      " Testing precision are:  [0 0 0 0 0 0 0 0 0 0 0 0 0 0 0 0 0 0 0 0 0 0 0 0 1 0 1 0 0 0 0 0 0 0 0 0 0\n",
      " 0 0 0 0 0 0 0 0 0 0 2 0 0 1 0 1 0 0 0 0 0 0 2 0 0 0 0 0 0 0 2 0 0 0 0 0 0\n",
      " 0 0 1 0 0 0 0 0 1 0 0 1 0 0 0 0 2 1 0 0 0 0 0 0 0 0 0 0 0 0 0 0 0 0 0 0 0\n",
      " 0 0 0 0 0 0 0 0 0 0 0 0 0 0 0 0 0 0 0 2 0 0 1 0 0 0 1 0 0 0 0 0 0 0 0 0 0\n",
      " 0 0 0 0 0 1 0 0 0 0 0 0 0 0 0 0 0 0 0 1 1 0 0 0 0 0 0 0 0 0 0 0 0 0 0 0 0\n",
      " 0 0 1 0 0 0 0 0 0 0 0 0 0 0 0 0 0] \n",
      "\n",
      "Precision Score: 0.6502272358383379\n",
      "Recall Score: 0.4603960396039604\n",
      "f1 Score: 0.3587467500065656\n",
      "confusion_matrix is: \n",
      " [[78  0  0]\n",
      " [65 11  1]\n",
      " [40  3  4]] \n",
      "\n"
     ]
    },
    {
     "data": {
      "image/png": "[encoded data removed]",
      "text/plain": [
       "<Figure size 432x288 with 2 Axes>"
      ]
     },
     "metadata": {
      "needs_background": "light"
     },
     "output_type": "display_data"
    },
    {
     "name": "stdout",
     "output_type": "stream",
     "text": [
      "   precision    recall        f1\n",
      "0   0.770962  0.443350  0.326256\n",
      "1   0.771800  0.448276  0.335450\n",
      "2   0.715052  0.445545  0.332766\n",
      "3   0.774068  0.455446  0.348243\n",
      "4   0.650227  0.460396  0.358747\n"
     ]
    },
    {
     "data": {
      "image/png": "[encoded data removed]",
      "text/plain": [
       "<Figure size 432x288 with 1 Axes>"
      ]
     },
     "metadata": {
      "needs_background": "light"
     },
     "output_type": "display_data"
    }
   ],
   "source": [
    "k_fold_evaluate(X, y, n_splits=5)"
   ]
  },
  {
   "cell_type": "markdown",
   "metadata": {},
   "source": [
    "### Explore other classifiers"
   ]
  },
  {
   "cell_type": "code",
   "execution_count": 68,
   "metadata": {},
   "outputs": [],
   "source": [
    "vect = CountVectorizer(\n",
    "         analyzer=\"word\", ngram_range=([1,2]), tokenizer=nltk.word_tokenize,\n",
    "        preprocessor=None, stop_words='english', max_features=3000)\n",
    "X_vect = vect.fit_transform(tagged.text).todense()\n",
    "y = tagged.sentiment"
   ]
  },
  {
   "cell_type": "code",
   "execution_count": 69,
   "metadata": {
    "scrolled": true
   },
   "outputs": [],
   "source": [
    "def compare_classifiers(models, X, y):\n",
    "    CV = 5\n",
    "    cv_df = pd.DataFrame(index=range(CV * len(models)))\n",
    "    entries = []\n",
    "    for model in models:\n",
    "        model_name = model.__class__.__name__\n",
    "        accuracies = cross_val_score(model, X, y, scoring='accuracy', cv=CV)\n",
    "        for fold_idx, accuracy in enumerate(accuracies):\n",
    "            entries.append((model_name, fold_idx, accuracy))\n",
    "    cv_df = pd.DataFrame(entries, columns=['model_name', 'fold_idx', 'accuracy'])\n",
    "    plt.figure(figsize=(8,8))\n",
    "    sns.boxplot(x='model_name', y='accuracy', data=cv_df)\n",
    "    sns.stripplot(x='model_name', y='accuracy', data=cv_df, \n",
    "              size=8, jitter=True, edgecolor=\"gray\", linewidth=2)\n",
    "    plt.xticks(rotation=90)\n",
    "    plt.show()\n",
    "    "
   ]
  },
  {
   "cell_type": "code",
   "execution_count": null,
   "metadata": {
    "scrolled": true
   },
   "outputs": [
    {
     "name": "stderr",
     "output_type": "stream",
     "text": [
      "/usr/local/lib/python3.6/dist-packages/sklearn/preprocessing/label.py:151: DeprecationWarning: The truth value of an empty array is ambiguous. Returning False, but in future this will result in an error. Use `array.size > 0` to check that an array is not empty.\n",
      "  if diff:\n",
      "/usr/local/lib/python3.6/dist-packages/sklearn/preprocessing/label.py:151: DeprecationWarning: The truth value of an empty array is ambiguous. Returning False, but in future this will result in an error. Use `array.size > 0` to check that an array is not empty.\n",
      "  if diff:\n",
      "/usr/local/lib/python3.6/dist-packages/sklearn/preprocessing/label.py:151: DeprecationWarning: The truth value of an empty array is ambiguous. Returning False, but in future this will result in an error. Use `array.size > 0` to check that an array is not empty.\n",
      "  if diff:\n",
      "/usr/local/lib/python3.6/dist-packages/sklearn/preprocessing/label.py:151: DeprecationWarning: The truth value of an empty array is ambiguous. Returning False, but in future this will result in an error. Use `array.size > 0` to check that an array is not empty.\n",
      "  if diff:\n",
      "/usr/local/lib/python3.6/dist-packages/sklearn/preprocessing/label.py:151: DeprecationWarning: The truth value of an empty array is ambiguous. Returning False, but in future this will result in an error. Use `array.size > 0` to check that an array is not empty.\n",
      "  if diff:\n"
     ]
    }
   ],
   "source": [
    "models = [\n",
    "    DecisionTreeClassifier(criterion = 'entropy',\n",
    "                                    random_state = 100,\n",
    "                                    max_depth = 15,\n",
    "                                    min_samples_leaf = 2),\n",
    "    RandomForestClassifier(random_state=100,\n",
    "                                 n_estimators=15, \n",
    "                                 criterion='entropy', \n",
    "                                 n_jobs=4),\n",
    "    XGBoostClassifier(max_depth=8, n_estimators=5),\n",
    "    MultinomialNB(),\n",
    "    LogisticRegression(random_state=0),\n",
    "    GradientBoostingClassifier(),\n",
    "    AdaBoostClassifier(n_estimators=100, learning_rate=0.1),\n",
    "]\n",
    "compare_classifiers(models, X_vect, y)"
   ]
  },
  {
   "cell_type": "code",
   "execution_count": null,
   "metadata": {},
   "outputs": [],
   "source": []
  }
 ],
 "metadata": {
  "kernelspec": {
   "display_name": "Python 3",
   "language": "python",
   "name": "python3"
  },
  "language_info": {
   "codemirror_mode": {
    "name": "ipython",
    "version": 3
   },
   "file_extension": ".py",
   "mimetype": "text/x-python",
   "name": "python",
   "nbconvert_exporter": "python",
   "pygments_lexer": "ipython3",
   "version": "3.6.6"
  },
  "latex_envs": {
   "LaTeX_envs_menu_present": true,
   "autoclose": false,
   "autocomplete": true,
   "bibliofile": "biblio.bib",
   "cite_by": "apalike",
   "current_citInitial": 1,
   "eqLabelWithNumbers": true,
   "eqNumInitial": 1,
   "hotkeys": {
    "equation": "Ctrl-E",
    "itemize": "Ctrl-I"
   },
   "labels_anchors": false,
   "latex_user_defs": false,
   "report_style_numbering": false,
   "user_envs_cfg": false
  },
  "varInspector": {
   "cols": {
    "lenName": 16,
    "lenType": 16,
    "lenVar": 40
   },
   "kernels_config": {
    "python": {
     "delete_cmd_postfix": "",
     "delete_cmd_prefix": "del ",
     "library": "var_list.py",
     "varRefreshCmd": "print(var_dic_list())"
    },
    "r": {
     "delete_cmd_postfix": ") ",
     "delete_cmd_prefix": "rm(",
     "library": "var_list.r",
     "varRefreshCmd": "cat(var_dic_list()) "
    }
   },
   "types_to_exclude": [
    "module",
    "function",
    "builtin_function_or_method",
    "instance",
    "_Feature"
   ],
   "window_display": false
  }
 },
 "nbformat": 4,
 "nbformat_minor": 2
}
