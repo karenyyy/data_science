{
 "cells": [
  {
   "cell_type": "markdown",
   "metadata": {},
   "source": [
    "## Lab 4"
   ]
  },
  {
   "cell_type": "markdown",
   "metadata": {
    "heading_collapsed": true
   },
   "source": [
    "### Import packages"
   ]
  },
  {
   "cell_type": "code",
   "execution_count": 18,
   "metadata": {
    "hidden": true
   },
   "outputs": [],
   "source": [
    "import datascience\n",
    "import numpy as np\n",
    "import pandas as pd\n",
    "from datascience import *\n",
    "from sklearn.feature_extraction.text import CountVectorizer\n",
    "from sklearn.model_selection import train_test_split\n",
    "\n",
    "from sklearn.pipeline import Pipeline\n",
    "from sklearn import tree\n",
    "from sklearn.tree import DecisionTreeClassifier\n",
    "from sklearn import metrics\n",
    "\n",
    "import graphviz"
   ]
  },
  {
   "cell_type": "markdown",
   "metadata": {
    "heading_collapsed": true
   },
   "source": [
    "### Read the CSV file \"Ben-NE-9-  10-2015-pass-6.csv\" using Pandas"
   ]
  },
  {
   "cell_type": "code",
   "execution_count": 5,
   "metadata": {
    "hidden": true
   },
   "outputs": [],
   "source": [
    "Ben_pass= pd.read_csv('Ben-NE-9-10-2015-pass-6.csv', sep=\",\")"
   ]
  },
  {
   "cell_type": "code",
   "execution_count": 6,
   "metadata": {
    "hidden": true
   },
   "outputs": [
    {
     "name": "stdout",
     "output_type": "stream",
     "text": [
      "    down  ydstogo  Yards.Gained.PrevPlay  AirYards  PassLocation  PassOutcome\n",
      "0      1       10                     18        -4             1            1\n",
      "1      1       10                      0         9             1            1\n",
      "2      3       22                      6         1             1            1\n",
      "3      1       10                      0         7            -1            1\n",
      "4      1       10                     13         6            -1            1\n",
      "5      1       10                     12         7            -1            1\n",
      "6      1       10                      0         5             1            0\n",
      "7      2       10                      0        25             1            0\n",
      "8      3        5                     -1         6            -1            1\n",
      "9      1       15                      4        -1             1            1\n",
      "10     3       18                     -6        17            -1            1\n",
      "11     1       20                      5         5            -1            1\n",
      "12     2       11                      9         4            -1            1\n",
      "13     2       13                     -3        -2            -1            1\n",
      "14     3        6                      7         6             0            1\n",
      "15     2        7                      0        11             1            1\n",
      "16     1       10                     13        16             1            1\n",
      "17     1       10                     19         6             1            1\n",
      "18     2        8                      2         0            -1            0\n",
      "19     3        8                      0        39            -1            1\n",
      "20     3        3                      1        19             1            0\n",
      "21     1       10                      0        11             0            1\n",
      "22     2       10                      0        17            -1            1\n",
      "23     1       10                     18         7             0            1\n",
      "24     1        9                      2         4            -1            1\n",
      "25     2        6                      3         6             0            1\n",
      "26     1       10                      0         5             1            1\n",
      "27     2       15                      9         4            -1            1\n",
      "28     3        6                      9        26             1            1\n",
      "29     2        8                      2         0            -1            1\n",
      "..   ...      ...                    ...       ...           ...          ...\n",
      "40     2       15                     -5         7             0            1\n",
      "41     3        6                     -1         2            -1            1\n",
      "42     1       10                      0        25             1            1\n",
      "43     2        5                      5         2             1            1\n",
      "44     2        8                      0         1             1            1\n",
      "45     1        1                      0         1             0            0\n",
      "46     1       10                      0        18             1            1\n",
      "47     1       10                      0        27             0            0\n",
      "48     3        5                      5         4             0            1\n",
      "49     2        1                      0         1             1            0\n",
      "50     3        1                      0         1            -1            1\n",
      "51     2        3                      7         9             0            0\n",
      "52     3        3                      0         9             1            0\n",
      "53     2       12                     -2        23             1            0\n",
      "54     3       12                      0         6             0            0\n",
      "55     1       10                      0        18             1            1\n",
      "56     1       10                     18        39            -1            0\n",
      "57     2        9                      1         7            -1            1\n",
      "58     3        4                      3        -3             1            0\n",
      "59     1       10                      0        11             1            0\n",
      "60     2       10                      0         4            -1            1\n",
      "61     3        1                      9         6             0            1\n",
      "62     1       10                      0        29             0            0\n",
      "63     2       10                      0         1            -1            1\n",
      "64     3        8                      2        13             0            1\n",
      "65     2       27                     -7        14             0            1\n",
      "66     3        9                      0        12            -1            0\n",
      "67     4        9                      0        15            -1            1\n",
      "68     1       10                      0        11            -1            1\n",
      "69     1       10                     11        11            -1            1\n",
      "\n",
      "[70 rows x 6 columns]\n"
     ]
    }
   ],
   "source": [
    "print(Ben_pass)"
   ]
  },
  {
   "cell_type": "code",
   "execution_count": 7,
   "metadata": {
    "hidden": true
   },
   "outputs": [
    {
     "name": "stdout",
     "output_type": "stream",
     "text": [
      "[[ 1 10 18 -4]\n",
      " [ 1 10  0  9]\n",
      " [ 3 22  6  1]\n",
      " [ 1 10  0  7]\n",
      " [ 1 10 13  6]\n",
      " [ 1 10 12  7]\n",
      " [ 1 10  0  5]\n",
      " [ 2 10  0 25]\n",
      " [ 3  5 -1  6]\n",
      " [ 1 15  4 -1]\n",
      " [ 3 18 -6 17]\n",
      " [ 1 20  5  5]\n",
      " [ 2 11  9  4]\n",
      " [ 2 13 -3 -2]\n",
      " [ 3  6  7  6]\n",
      " [ 2  7  0 11]\n",
      " [ 1 10 13 16]\n",
      " [ 1 10 19  6]\n",
      " [ 2  8  2  0]\n",
      " [ 3  8  0 39]\n",
      " [ 3  3  1 19]\n",
      " [ 1 10  0 11]\n",
      " [ 2 10  0 17]\n",
      " [ 1 10 18  7]\n",
      " [ 1  9  2  4]\n",
      " [ 2  6  3  6]\n",
      " [ 1 10  0  5]\n",
      " [ 2 15  9  4]\n",
      " [ 3  6  9 26]\n",
      " [ 2  8  2  0]\n",
      " [ 3  3  5 23]\n",
      " [ 4  3  0  4]\n",
      " [ 2  5  5 26]\n",
      " [ 3  5  0  7]\n",
      " [ 1 10  0  4]\n",
      " [ 3  5  1  5]\n",
      " [ 2  1  9 -1]\n",
      " [ 2  1  0  0]\n",
      " [ 1 10 28 23]\n",
      " [ 1 10 13 -5]\n",
      " [ 2 15 -5  7]\n",
      " [ 3  6 -1  2]\n",
      " [ 1 10  0 25]\n",
      " [ 2  5  5  2]\n",
      " [ 2  8  0  1]\n",
      " [ 1  1  0  1]\n",
      " [ 1 10  0 18]\n",
      " [ 1 10  0 27]\n",
      " [ 3  5  5  4]\n",
      " [ 2  1  0  1]\n",
      " [ 3  1  0  1]\n",
      " [ 2  3  7  9]\n",
      " [ 3  3  0  9]\n",
      " [ 2 12 -2 23]\n",
      " [ 3 12  0  6]\n",
      " [ 1 10  0 18]\n",
      " [ 1 10 18 39]\n",
      " [ 2  9  1  7]\n",
      " [ 3  4  3 -3]\n",
      " [ 1 10  0 11]\n",
      " [ 2 10  0  4]\n",
      " [ 3  1  9  6]\n",
      " [ 1 10  0 29]\n",
      " [ 2 10  0  1]\n",
      " [ 3  8  2 13]\n",
      " [ 2 27 -7 14]\n",
      " [ 3  9  0 12]\n",
      " [ 4  9  0 15]\n",
      " [ 1 10  0 11]\n",
      " [ 1 10 11 11]]\n"
     ]
    }
   ],
   "source": [
    "X= Ben_pass.values[:,0:4]\n",
    "print(X)"
   ]
  },
  {
   "cell_type": "code",
   "execution_count": 8,
   "metadata": {
    "hidden": true
   },
   "outputs": [],
   "source": [
    "Y= Ben_pass.values[:,5]"
   ]
  },
  {
   "cell_type": "code",
   "execution_count": 10,
   "metadata": {
    "hidden": true
   },
   "outputs": [],
   "source": [
    "X_train, X_test, y_train, y_test = train_test_split( X, Y, test_size = 0.3, random_state = 100)"
   ]
  },
  {
   "cell_type": "markdown",
   "metadata": {
    "heading_collapsed": true
   },
   "source": [
    "### (1) Generate a visualization of the Decision Tree learned from the training data (set the max_depth to 3)"
   ]
  },
  {
   "cell_type": "code",
   "execution_count": 11,
   "metadata": {
    "hidden": true
   },
   "outputs": [
    {
     "data": {
      "text/plain": [
       "DecisionTreeClassifier(class_weight=None, criterion='entropy', max_depth=3,\n",
       "            max_features=None, max_leaf_nodes=None,\n",
       "            min_impurity_decrease=0.0, min_impurity_split=None,\n",
       "            min_samples_leaf=2, min_samples_split=2,\n",
       "            min_weight_fraction_leaf=0.0, presort=False, random_state=100,\n",
       "            splitter='best')"
      ]
     },
     "execution_count": 11,
     "metadata": {},
     "output_type": "execute_result"
    }
   ],
   "source": [
    "clf = DecisionTreeClassifier(criterion = 'entropy', random_state = 100,\n",
    "                               max_depth=3, min_samples_leaf=2)\n",
    "clf.fit(X_train, y_train)"
   ]
  },
  {
   "cell_type": "code",
   "execution_count": 15,
   "metadata": {
    "hidden": true
   },
   "outputs": [],
   "source": [
    "dot_data= tree.export_graphviz(clf, out_file=None, feature_names=Ben_pass.columns[:4])"
   ]
  },
  {
   "cell_type": "code",
   "execution_count": 19,
   "metadata": {
    "hidden": true
   },
   "outputs": [],
   "source": [
    "graph = graphviz.Source(dot_data)"
   ]
  },
  {
   "cell_type": "markdown",
   "metadata": {
    "hidden": true
   },
   "source": [
    "![](tree.png)"
   ]
  },
  {
   "cell_type": "code",
   "execution_count": 22,
   "metadata": {
    "hidden": true
   },
   "outputs": [
    {
     "data": {
      "text/plain": [
       "'BenPassTree3.pdf'"
      ]
     },
     "execution_count": 22,
     "metadata": {},
     "output_type": "execute_result"
    }
   ],
   "source": [
    "graph.render('BenPassTree3')"
   ]
  },
  {
   "cell_type": "code",
   "execution_count": 23,
   "metadata": {
    "hidden": true
   },
   "outputs": [
    {
     "data": {
      "text/plain": [
       "array([[ 3,  3,  5, 23],\n",
       "       [ 1, 10, 19,  6],\n",
       "       [ 3,  5,  0,  7],\n",
       "       [ 1, 10,  0, 11],\n",
       "       [ 2,  9,  1,  7],\n",
       "       [ 2, 15, -5,  7],\n",
       "       [ 3,  1,  0,  1],\n",
       "       [ 2,  6,  3,  6],\n",
       "       [ 1, 10,  0, 27],\n",
       "       [ 2,  3,  7,  9],\n",
       "       [ 2,  1,  0,  0],\n",
       "       [ 3,  5,  1,  5],\n",
       "       [ 1, 10,  0, 11],\n",
       "       [ 1, 10,  0, 25],\n",
       "       [ 2, 10,  0, 25],\n",
       "       [ 1, 10,  0,  7],\n",
       "       [ 1, 10,  0, 18],\n",
       "       [ 1,  1,  0,  1],\n",
       "       [ 1, 10,  0, 29],\n",
       "       [ 3,  8,  0, 39],\n",
       "       [ 2, 13, -3, -2],\n",
       "       [ 1, 10,  0,  9],\n",
       "       [ 4,  3,  0,  4],\n",
       "       [ 1, 10, 13,  6],\n",
       "       [ 2,  8,  0,  1],\n",
       "       [ 2, 15,  9,  4],\n",
       "       [ 3,  1,  9,  6],\n",
       "       [ 2, 10,  0, 17],\n",
       "       [ 2,  8,  2,  0],\n",
       "       [ 1, 15,  4, -1],\n",
       "       [ 1, 10, 13, 16],\n",
       "       [ 2,  5,  5,  2],\n",
       "       [ 2,  1,  9, -1],\n",
       "       [ 2,  7,  0, 11],\n",
       "       [ 1, 10,  0, 11],\n",
       "       [ 3,  9,  0, 12],\n",
       "       [ 2,  1,  0,  1],\n",
       "       [ 2, 10,  0,  4],\n",
       "       [ 3,  6,  7,  6],\n",
       "       [ 2, 10,  0,  1],\n",
       "       [ 3, 22,  6,  1],\n",
       "       [ 2, 12, -2, 23],\n",
       "       [ 1, 10,  0,  4],\n",
       "       [ 3,  3,  0,  9],\n",
       "       [ 3, 18, -6, 17],\n",
       "       [ 3,  5,  5,  4],\n",
       "       [ 4,  9,  0, 15],\n",
       "       [ 1,  9,  2,  4],\n",
       "       [ 3,  5, -1,  6]])"
      ]
     },
     "execution_count": 23,
     "metadata": {},
     "output_type": "execute_result"
    }
   ],
   "source": [
    "X_train"
   ]
  },
  {
   "cell_type": "code",
   "execution_count": 24,
   "metadata": {
    "hidden": true
   },
   "outputs": [
    {
     "data": {
      "text/plain": [
       "array([[ 1, 10, 13, -5],\n",
       "       [ 1, 10,  0,  5],\n",
       "       [ 1, 10, 18,  7],\n",
       "       [ 1, 10, 18, 39],\n",
       "       [ 1, 10, 28, 23],\n",
       "       [ 3,  8,  2, 13],\n",
       "       [ 1, 10,  0, 18],\n",
       "       [ 1, 20,  5,  5],\n",
       "       [ 2,  8,  2,  0],\n",
       "       [ 3,  4,  3, -3],\n",
       "       [ 2, 27, -7, 14],\n",
       "       [ 1, 10, 12,  7],\n",
       "       [ 3,  3,  1, 19],\n",
       "       [ 1, 10, 11, 11],\n",
       "       [ 1, 10, 18, -4],\n",
       "       [ 3,  6,  9, 26],\n",
       "       [ 2, 11,  9,  4],\n",
       "       [ 1, 10,  0,  5],\n",
       "       [ 3,  6, -1,  2],\n",
       "       [ 2,  5,  5, 26],\n",
       "       [ 3, 12,  0,  6]])"
      ]
     },
     "execution_count": 24,
     "metadata": {},
     "output_type": "execute_result"
    }
   ],
   "source": [
    "X_test"
   ]
  },
  {
   "cell_type": "code",
   "execution_count": 25,
   "metadata": {
    "hidden": true
   },
   "outputs": [],
   "source": [
    "predicted_completion = clf.predict(X_test)"
   ]
  },
  {
   "cell_type": "code",
   "execution_count": 26,
   "metadata": {
    "hidden": true
   },
   "outputs": [
    {
     "name": "stdout",
     "output_type": "stream",
     "text": [
      "[1 1 1 0 0 1 1 1 1 1 1 1 0 1 1 0 1 1 1 0 1]\n"
     ]
    }
   ],
   "source": [
    "print(predicted_completion)"
   ]
  },
  {
   "cell_type": "code",
   "execution_count": 27,
   "metadata": {
    "hidden": true
   },
   "outputs": [
    {
     "name": "stdout",
     "output_type": "stream",
     "text": [
      "[1 1 1 0 1 1 1 1 0 0 1 1 0 1 1 1 1 0 1 0 0]\n"
     ]
    }
   ],
   "source": [
    "print(y_test)"
   ]
  },
  {
   "cell_type": "code",
   "execution_count": 28,
   "metadata": {
    "hidden": true
   },
   "outputs": [
    {
     "data": {
      "text/plain": [
       "0.7142857142857143"
      ]
     },
     "execution_count": 28,
     "metadata": {},
     "output_type": "execute_result"
    }
   ],
   "source": [
    "np.mean(predicted_completion == y_test)"
   ]
  },
  {
   "cell_type": "markdown",
   "metadata": {
    "heading_collapsed": true
   },
   "source": [
    "### (2) Discuss the result of testing the model using confusion matrix"
   ]
  },
  {
   "cell_type": "code",
   "execution_count": 29,
   "metadata": {
    "hidden": true
   },
   "outputs": [
    {
     "name": "stdout",
     "output_type": "stream",
     "text": [
      "             precision    recall  f1-score   support\n",
      "\n",
      "          0       0.60      0.43      0.50         7\n",
      "          1       0.75      0.86      0.80        14\n",
      "\n",
      "avg / total       0.70      0.71      0.70        21\n",
      "\n"
     ]
    }
   ],
   "source": [
    "print(metrics.classification_report(y_test, predicted_completion))"
   ]
  },
  {
   "cell_type": "code",
   "execution_count": 30,
   "metadata": {
    "hidden": true
   },
   "outputs": [
    {
     "data": {
      "text/plain": [
       "array([[ 3,  4],\n",
       "       [ 2, 12]])"
      ]
     },
     "execution_count": 30,
     "metadata": {},
     "output_type": "execute_result"
    }
   ],
   "source": [
    "metrics.confusion_matrix(y_test, predicted_completion)"
   ]
  },
  {
   "cell_type": "markdown",
   "metadata": {
    "hidden": true
   },
   "source": [
    "From the confusion matrix, we can collect the following stats:\n",
    "\n",
    "$$Precision: \\frac{3+12}{3+4+2+12} = \\frac{15}{21} = 0.714$$\n",
    "\n",
    "$$False \\: Positive \\: Rate= \\frac{4}{4+12} = 0.25$$\n",
    "\n",
    "$$False \\: Negative \\: Rate = \\frac{2}{3+2} = 0.4$$\n",
    "\n"
   ]
  },
  {
   "cell_type": "markdown",
   "metadata": {
    "heading_collapsed": true
   },
   "source": [
    "### (3) Describe one rule (different from the one explained in the slides) extracted from the tree you generated"
   ]
  },
  {
   "cell_type": "markdown",
   "metadata": {
    "hidden": true
   },
   "source": [
    "- Step 1: AirYards <= 20.5\n",
    "- Step 2: ydstogo > 4.0\n",
    "- Step 3: AirYards <= 6.5\n",
    "\n",
    "Result: \n",
    "\n",
    "value = [0, 18], the leaf node contains 0 incomplete samples, 18 complete samples in the training data. So the process is predicted to be complete."
   ]
  }
 ],
 "metadata": {
  "kernelspec": {
   "display_name": "Python 3",
   "language": "python",
   "name": "python3"
  },
  "language_info": {
   "codemirror_mode": {
    "name": "ipython",
    "version": 3
   },
   "file_extension": ".py",
   "mimetype": "text/x-python",
   "name": "python",
   "nbconvert_exporter": "python",
   "pygments_lexer": "ipython3",
   "version": "3.5.2"
  },
  "latex_envs": {
   "LaTeX_envs_menu_present": true,
   "autoclose": false,
   "autocomplete": true,
   "bibliofile": "biblio.bib",
   "cite_by": "apalike",
   "current_citInitial": 1,
   "eqLabelWithNumbers": true,
   "eqNumInitial": 1,
   "hotkeys": {
    "equation": "Ctrl-E",
    "itemize": "Ctrl-I"
   },
   "labels_anchors": false,
   "latex_user_defs": false,
   "report_style_numbering": false,
   "user_envs_cfg": false
  }
 },
 "nbformat": 4,
 "nbformat_minor": 2
}
