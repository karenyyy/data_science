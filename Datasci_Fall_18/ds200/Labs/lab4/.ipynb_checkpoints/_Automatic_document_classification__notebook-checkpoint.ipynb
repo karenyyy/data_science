{
 "cells": [
  {
   "cell_type": "markdown",
   "metadata": {},
   "source": [
    "## Document Classification"
   ]
  },
  {
   "cell_type": "code",
   "execution_count": 39,
   "metadata": {
    "colab": {},
    "colab_type": "code",
    "id": "JFMm799HKMlu"
   },
   "outputs": [],
   "source": [
    "import pandas as pd\n",
    "import matplotlib.pyplot as plt\n",
    "import seaborn as sns\n",
    "%matplotlib inline"
   ]
  },
  {
   "cell_type": "code",
   "execution_count": 11,
   "metadata": {
    "colab": {},
    "colab_type": "code",
    "id": "45vv7UAMKMlx"
   },
   "outputs": [],
   "source": [
    "df = pd.read_csv('/home/karen/Downloads/data/bbc-text.csv')\n",
    "df['category_id'] = df['category'].factorize()[0]"
   ]
  },
  {
   "cell_type": "code",
   "execution_count": 7,
   "metadata": {
    "colab": {},
    "colab_type": "code",
    "id": "2wDV-e9TdRoU"
   },
   "outputs": [],
   "source": [
    "category_id_df = df[['category', 'category_id']].drop_duplicates().sort_values('category_id')\n",
    "category_to_id = dict(category_id_df.values)\n",
    "id_to_category = dict(category_id_df[['category_id', 'category']].values)"
   ]
  },
  {
   "cell_type": "code",
   "execution_count": 9,
   "metadata": {},
   "outputs": [
    {
     "data": {
      "text/plain": [
       "({'tech': 0, 'business': 1, 'sport': 2, 'entertainment': 3, 'politics': 4},\n",
       " {0: 'tech', 1: 'business', 2: 'sport', 3: 'entertainment', 4: 'politics'})"
      ]
     },
     "execution_count": 9,
     "metadata": {},
     "output_type": "execute_result"
    }
   ],
   "source": [
    "category_to_id, id_to_category"
   ]
  },
  {
   "cell_type": "code",
   "execution_count": 10,
   "metadata": {
    "colab": {
     "base_uri": "https://localhost:8080/",
     "height": 204
    },
    "colab_type": "code",
    "id": "CM-x-fpjKMl0",
    "outputId": "f9836675-1c83-474e-d787-0f7d75e759d5"
   },
   "outputs": [
    {
     "data": {
      "text/html": [
       "<div>\n",
       "<style scoped>\n",
       "    .dataframe tbody tr th:only-of-type {\n",
       "        vertical-align: middle;\n",
       "    }\n",
       "\n",
       "    .dataframe tbody tr th {\n",
       "        vertical-align: top;\n",
       "    }\n",
       "\n",
       "    .dataframe thead th {\n",
       "        text-align: right;\n",
       "    }\n",
       "</style>\n",
       "<table border=\"1\" class=\"dataframe\">\n",
       "  <thead>\n",
       "    <tr style=\"text-align: right;\">\n",
       "      <th></th>\n",
       "      <th>category</th>\n",
       "      <th>text</th>\n",
       "      <th>category_id</th>\n",
       "    </tr>\n",
       "  </thead>\n",
       "  <tbody>\n",
       "    <tr>\n",
       "      <th>384</th>\n",
       "      <td>politics</td>\n",
       "      <td>drive to  save  festive holidays efforts are b...</td>\n",
       "      <td>4</td>\n",
       "    </tr>\n",
       "    <tr>\n",
       "      <th>1983</th>\n",
       "      <td>sport</td>\n",
       "      <td>officials respond in court row australian tenn...</td>\n",
       "      <td>2</td>\n",
       "    </tr>\n",
       "    <tr>\n",
       "      <th>985</th>\n",
       "      <td>sport</td>\n",
       "      <td>cup holders man utd visit everton holders manc...</td>\n",
       "      <td>2</td>\n",
       "    </tr>\n",
       "    <tr>\n",
       "      <th>1386</th>\n",
       "      <td>sport</td>\n",
       "      <td>adriano s chelsea link rejected adriano s agen...</td>\n",
       "      <td>2</td>\n",
       "    </tr>\n",
       "    <tr>\n",
       "      <th>1294</th>\n",
       "      <td>sport</td>\n",
       "      <td>o driscoll/gregan lead aid stars ireland s bri...</td>\n",
       "      <td>2</td>\n",
       "    </tr>\n",
       "  </tbody>\n",
       "</table>\n",
       "</div>"
      ],
      "text/plain": [
       "      category                                               text  category_id\n",
       "384   politics  drive to  save  festive holidays efforts are b...            4\n",
       "1983     sport  officials respond in court row australian tenn...            2\n",
       "985      sport  cup holders man utd visit everton holders manc...            2\n",
       "1386     sport  adriano s chelsea link rejected adriano s agen...            2\n",
       "1294     sport  o driscoll/gregan lead aid stars ireland s bri...            2"
      ]
     },
     "execution_count": 10,
     "metadata": {},
     "output_type": "execute_result"
    }
   ],
   "source": [
    "df.sample(5, random_state=0)"
   ]
  },
  {
   "cell_type": "code",
   "execution_count": 15,
   "metadata": {
    "colab": {
     "base_uri": "https://localhost:8080/",
     "height": 485
    },
    "colab_type": "code",
    "id": "8GU61mTp5kpC",
    "outputId": "a6f94ab1-55b7-46bb-91b4-3e4794d657e0"
   },
   "outputs": [
    {
     "data": {
      "text/plain": [
       "<matplotlib.axes._subplots.AxesSubplot at 0x7f0cc8c48940>"
      ]
     },
     "execution_count": 15,
     "metadata": {},
     "output_type": "execute_result"
    },
    {
     "data": {
      "image/png": "[encoded data removed]",
      "text/plain": [
       "<Figure size 432x288 with 1 Axes>"
      ]
     },
     "metadata": {
      "needs_background": "light"
     },
     "output_type": "display_data"
    }
   ],
   "source": [
    "df.groupby('category').category_id.count().plot.bar(ylim=0)"
   ]
  },
  {
   "cell_type": "markdown",
   "metadata": {
    "colab_type": "text",
    "id": "Imf7a7091OSB"
   },
   "source": [
    "`sklearn.feature_extraction.text.TfidfVectorizer` will be used to calculate a `tf-idf` vector for each of our documents. Note that we are passing a number of parameters to this class:\n",
    "\n",
    "- `sublinear_df` is set to `True` to use a logarithmic form for frequency, to give diminishing returns as the frequency of a word increases. This is usually preferable for a number of reasons, one of which being [Zipf's Law](https://en.wikipedia.org/wiki/Zipf%27s_law).\n",
    "- `min_df` is the minimum numbers of documents a word must be present in to be kept, and we are setting it to `5`. This is to avoid rare words, which drastically increase the size of our features and might cause [overfitting](https://en.wikipedia.org/wiki/Overfitting).\n",
    "- `norm` is set to `l2`, to ensure all our feature vectors have a euclidian norm of 1. This is helpful for visualizing these vectors, and can also improve (or deteriorate) the performance of some models.\n",
    "- `encoding` is set to `latin-1` which is used by our input text.\n",
    "- `ngram_range` is set to `(1, 2)` to indicate that we want to consider both unigrams and bigrams, or in other terms: we want to consider single words (\"prices\", \"player\") and pairs of words (\"stock prices\", \"football player\").\n",
    "- Finally, `stop_words` is set to `\"english\"` to remove all common pronouns (`\"a\"`, `\"the\"`, ...) and further reduce the number of noisy features."
   ]
  },
  {
   "cell_type": "code",
   "execution_count": 16,
   "metadata": {
    "colab": {
     "base_uri": "https://localhost:8080/",
     "height": 34
    },
    "colab_type": "code",
    "id": "mtmh4uCMKMl5",
    "outputId": "b5f662fd-823f-499c-cf0c-a4511db10941"
   },
   "outputs": [
    {
     "data": {
      "text/plain": [
       "(2225, 14415)"
      ]
     },
     "execution_count": 16,
     "metadata": {},
     "output_type": "execute_result"
    }
   ],
   "source": [
    "from sklearn.feature_extraction.text import TfidfVectorizer\n",
    "\n",
    "tfidf = TfidfVectorizer(sublinear_tf=True, min_df=5, norm='l2', encoding='latin-1', ngram_range=(1, 2), stop_words='english')\n",
    "\n",
    "features = tfidf.fit_transform(df.text).toarray()\n",
    "labels = df.category_id\n",
    "features.shape"
   ]
  },
  {
   "cell_type": "markdown",
   "metadata": {
    "colab_type": "text",
    "id": "P-DT_-fH_AJ0"
   },
   "source": [
    "Each of our 2225 documents is now represented by 14415 features, representing the tf-idf score for different unigrams and bigrams.\n",
    "\n",
    "Next we use the [chi-squared test](https://en.wikipedia.org/wiki/Pearson%27s_chi-squared_test) to find the terms are the most correlated with each of the categories:"
   ]
  },
  {
   "cell_type": "code",
   "execution_count": 21,
   "metadata": {
    "colab": {
     "base_uri": "https://localhost:8080/",
     "height": 782
    },
    "colab_type": "code",
    "id": "p5pkpgQsKMmN",
    "outputId": "f7126cbd-4ba1-4c01-aea0-67ab51d7f4e8"
   },
   "outputs": [
    {
     "name": "stdout",
     "output_type": "stream",
     "text": [
      "['market' 'profits' 'economic' 'prices' 'stock' 'economy' 'bank' 'oil'\n",
      " 'growth' 'shares']\n",
      "# 'business':\n",
      "  . Most correlated unigrams:\n",
      "       . oil\n",
      "       . growth\n",
      "       . shares\n",
      "  . Most correlated bigrams:\n",
      "       . analysts said\n",
      "       . economic growth\n",
      "       . stock market\n",
      "['festival' 'actress' 'oscar' 'award' 'band' 'album' 'awards' 'singer'\n",
      " 'actor' 'film']\n",
      "# 'entertainment':\n",
      "  . Most correlated unigrams:\n",
      "       . singer\n",
      "       . actor\n",
      "       . film\n",
      "  . Most correlated bigrams:\n",
      "       . los angeles\n",
      "       . film festival\n",
      "       . box office\n",
      "['minister' 'tony blair' 'secretary' 'tories' 'mr blair' 'tory' 'party'\n",
      " 'blair' 'election' 'labour']\n",
      "# 'politics':\n",
      "  . Most correlated unigrams:\n",
      "       . blair\n",
      "       . election\n",
      "       . labour\n",
      "  . Most correlated bigrams:\n",
      "       . prime minister\n",
      "       . tony blair\n",
      "       . mr blair\n",
      "['game' 'team' 'win' 'chelsea' 'rugby' 'season' 'injury' 'coach' 'match'\n",
      " 'cup']\n",
      "# 'sport':\n",
      "  . Most correlated unigrams:\n",
      "       . coach\n",
      "       . match\n",
      "       . cup\n",
      "  . Most correlated bigrams:\n",
      "       . grand slam\n",
      "       . australian open\n",
      "       . champions league\n",
      "['pc' 'web' 'mobile' 'online' 'microsoft' 'digital' 'computer'\n",
      " 'technology' 'software' 'users']\n",
      "# 'tech':\n",
      "  . Most correlated unigrams:\n",
      "       . technology\n",
      "       . software\n",
      "       . users\n",
      "  . Most correlated bigrams:\n",
      "       . anti virus\n",
      "       . mobile phones\n",
      "       . mobile phone\n"
     ]
    }
   ],
   "source": [
    "from sklearn.feature_selection import chi2\n",
    "\n",
    "N = 3\n",
    "for category, category_id in sorted(category_to_id.items()):\n",
    "  features_chi2 = chi2(features, labels == category_id)\n",
    "  indices = np.argsort(features_chi2[0])\n",
    "  feature_names = np.array(tfidf.get_feature_names())[indices]\n",
    "  unigrams = [v for v in feature_names if len(v.split(' ')) == 1]\n",
    "  bigrams = [v for v in feature_names if len(v.split(' ')) == 2]\n",
    "  print(\"# '{}':\".format(category))\n",
    "  print(\"  . Most correlated unigrams:\\n       . {}\".format('\\n       . '.join(unigrams[-N:])))\n",
    "  print(\"  . Most correlated bigrams:\\n       . {}\".format('\\n       . '.join(bigrams[-N:])))"
   ]
  },
  {
   "cell_type": "markdown",
   "metadata": {
    "colab_type": "text",
    "id": "4I-TGszv_tKv"
   },
   "source": [
    "These result are consistent with what we would expect from a news outlet. We also notice that the addition of bigrams is welcome since it catches pairs of words that only make sense when put together (grand slam, box office, ...). Simply using this correlation factor to predict which class is the most likely might already get us quite far, but we will see that there are simpler and more efficient ways to do this.\n",
    "\n",
    "Although this first test proves the presence of terms specific to each category, there might still be too much noise in the data, making it impossible to clearly separate each category. One way to confirm that the feature space we are using is representative enough for our task (classifying articles into separate labels) to be solvable is to use dimensionality-reduction techniques: These methods project a high-dimensional vector into a lower number of dimensions, with different guarantees on this projection according to the method used:\n",
    "\n",
    "- Principal Component Analysis (PCA) and Truncated Singular Value Decomposition (Truncated SVD) are two popular method given their scalability to a large number of dimensions, but they perform poorly on some classes of problems (when the correlations between the data are non-linear).\n",
    "- Kernel PCA, self-organizing maps and auto-encoders are often used when the correlations between the features' dimensions are non-linear.\n",
    "\n",
    "Given our dataset contains natural language, we are most likely in the second case and will use [**t-SNE**](https://lvdmaaten.github.io/tsne/), a popular dimensionality reduction technique used in many fields, including NLP."
   ]
  },
  {
   "cell_type": "code",
   "execution_count": 23,
   "metadata": {
    "colab": {
     "base_uri": "https://localhost:8080/",
     "height": 432
    },
    "colab_type": "code",
    "id": "TMzD5rlhKMl9",
    "outputId": "41b43229-0e5e-4755-82c5-d02a16fd9059",
    "scrolled": true
   },
   "outputs": [
    {
     "data": {
      "text/plain": [
       "<matplotlib.legend.Legend at 0x7f0cb37b1898>"
      ]
     },
     "execution_count": 23,
     "metadata": {},
     "output_type": "execute_result"
    },
    {
     "data": {
      "image/png": "[encoded data removed]",
      "text/plain": [
       "<Figure size 432x288 with 1 Axes>"
      ]
     },
     "metadata": {
      "needs_background": "light"
     },
     "output_type": "display_data"
    }
   ],
   "source": [
    "from sklearn.manifold import TSNE\n",
    "\n",
    "# Sampling a subset of our dataset because t-SNE is computationally expensive\n",
    "SAMPLE_SIZE = int(len(features) * 0.3)\n",
    "np.random.seed(0)\n",
    "indices = np.random.choice(range(len(features)), size=SAMPLE_SIZE, replace=False)\n",
    "projected_features = TSNE(n_components=2, random_state=0).fit_transform(features[indices])\n",
    "colors = ['pink', 'green', 'midnightblue', 'orange', 'darkgrey']\n",
    "for category, category_id in sorted(category_to_id.items()):\n",
    "    points = projected_features[(labels[indices] == category_id).values]\n",
    "    plt.scatter(points[:, 0], points[:, 1], s=30, c=colors[category_id], label=category)\n",
    "plt.title(\"tf-idf feature vector for each article, projected on 2 dimensions.\",\n",
    "          fontdict=dict(fontsize=15))\n",
    "plt.legend()"
   ]
  },
  {
   "cell_type": "markdown",
   "metadata": {
    "colab_type": "text",
    "id": "1XwFNO4re_Fz"
   },
   "source": [
    "## 3. Model training and evaluation"
   ]
  },
  {
   "cell_type": "markdown",
   "metadata": {
    "colab_type": "text",
    "id": "cKfc9Zy6hrEj"
   },
   "source": [
    "### Choice of model, and *no free lunch*\n",
    "\n",
    "`sklearn` provides implementations for a large number of machine learning models, spanning over different families:\n",
    "\n",
    "- Linear models: Linear Regression, Logistic Regression, ...\n",
    "- Ensemble models: Random Forest, Gradient Boosting Trees, Adaboost, ...\n",
    "- Bayesian models: (Multinomial/Gaussian/...) Naive Bayes, Gaussian Processes, ...\n",
    "- Support Vector Machines, k-Nearest Neighbors, and various other models.\n",
    "\n",
    "\n",
    "`sklearn` however does not implement deep learning models (implemented in other libraries: `tensorflow`, `theano`, `pytorch`, ...) or more specialized models such as Bayesian graphical models, or sequenced-based models (Markov Chain, Hidden Markov Model, ...).\n",
    "\n",
    "This is a core principle of machine learning, illustrated by the *no free lunch* theorem: \"any two optimization algorithms are equivalent when their performance is averaged across all possible problems\", or in more practical terms: no model is universally superior to all other models, and the performance of a model greatly depends on the distribution of the data trained on and evaluated against.\n",
    "\n",
    "Hence, we will benchmark the following three models:\n",
    "\n",
    "- Logistic Regression: A linear classifier, mostly similar to traditional linear regression, but fitting the output of the logistic function.\n",
    "- (Multinomial) Naive Bayes: A Bayesian model, assuming total independence between features. In our case, this means assuming that `P(\"football\")` is unrelated to `P(\"stadium\")`, which of course is a terrible assumption... and yet, this model still works surprisingly well with Bag of Words model, and were notably used for spam detection. \n",
    "- Random Forest: Random Forest (as the name might suggest) is the ensembling of a large number of decision trees, each trained on a random subset of the input features. They work well when complex feature-relations are involved, and are relatively robust to overfitting. \n",
    "\n",
    "We usually also perform a **hyperparameter search** for each model: tuning each of its \"knobs\" (number of trees for Random Forest, penalty for Logistic Regression) until we find the optimal ones. For simplicity, we skip this step below and directly provide reasonably good parameters for each model."
   ]
  },
  {
   "cell_type": "markdown",
   "metadata": {
    "colab_type": "text",
    "id": "pJ_l3zrQhuAv"
   },
   "source": [
    "### Model evaluation"
   ]
  },
  {
   "cell_type": "code",
   "execution_count": 36,
   "metadata": {
    "colab": {},
    "colab_type": "code",
    "id": "MPI84Fkoel-a"
   },
   "outputs": [],
   "source": [
    "from sklearn.linear_model import LogisticRegression\n",
    "from sklearn.ensemble import RandomForestClassifier\n",
    "from sklearn.naive_bayes import MultinomialNB\n",
    "\n",
    "from sklearn.model_selection import cross_val_score\n",
    "\n",
    "\n",
    "models = [\n",
    "    RandomForestClassifier(n_estimators=200, max_depth=3, random_state=0),\n",
    "    MultinomialNB(),\n",
    "    LogisticRegression(random_state=0),\n",
    "]\n",
    "CV = 5\n",
    "cv_df = pd.DataFrame(index=range(CV * len(models)))\n",
    "entries = []\n",
    "for model in models:\n",
    "    model_name = model.__class__.__name__\n",
    "    accuracies = cross_val_score(model, features, labels, scoring='accuracy', cv=CV)\n",
    "    for fold_idx, accuracy in enumerate(accuracies):\n",
    "        entries.append((model_name, fold_idx, accuracy))\n",
    "cv_df = pd.DataFrame(entries, columns=['model_name', 'fold_idx', 'accuracy'])"
   ]
  },
  {
   "cell_type": "code",
   "execution_count": 37,
   "metadata": {},
   "outputs": [
    {
     "data": {
      "text/html": [
       "<div>\n",
       "<style scoped>\n",
       "    .dataframe tbody tr th:only-of-type {\n",
       "        vertical-align: middle;\n",
       "    }\n",
       "\n",
       "    .dataframe tbody tr th {\n",
       "        vertical-align: top;\n",
       "    }\n",
       "\n",
       "    .dataframe thead th {\n",
       "        text-align: right;\n",
       "    }\n",
       "</style>\n",
       "<table border=\"1\" class=\"dataframe\">\n",
       "  <thead>\n",
       "    <tr style=\"text-align: right;\">\n",
       "      <th></th>\n",
       "      <th>model_name</th>\n",
       "      <th>fold_idx</th>\n",
       "      <th>accuracy</th>\n",
       "    </tr>\n",
       "  </thead>\n",
       "  <tbody>\n",
       "    <tr>\n",
       "      <th>0</th>\n",
       "      <td>RandomForestClassifier</td>\n",
       "      <td>0</td>\n",
       "      <td>0.825893</td>\n",
       "    </tr>\n",
       "    <tr>\n",
       "      <th>1</th>\n",
       "      <td>RandomForestClassifier</td>\n",
       "      <td>1</td>\n",
       "      <td>0.831461</td>\n",
       "    </tr>\n",
       "    <tr>\n",
       "      <th>2</th>\n",
       "      <td>RandomForestClassifier</td>\n",
       "      <td>2</td>\n",
       "      <td>0.844595</td>\n",
       "    </tr>\n",
       "    <tr>\n",
       "      <th>3</th>\n",
       "      <td>RandomForestClassifier</td>\n",
       "      <td>3</td>\n",
       "      <td>0.826577</td>\n",
       "    </tr>\n",
       "    <tr>\n",
       "      <th>4</th>\n",
       "      <td>RandomForestClassifier</td>\n",
       "      <td>4</td>\n",
       "      <td>0.824324</td>\n",
       "    </tr>\n",
       "  </tbody>\n",
       "</table>\n",
       "</div>"
      ],
      "text/plain": [
       "               model_name  fold_idx  accuracy\n",
       "0  RandomForestClassifier         0  0.825893\n",
       "1  RandomForestClassifier         1  0.831461\n",
       "2  RandomForestClassifier         2  0.844595\n",
       "3  RandomForestClassifier         3  0.826577\n",
       "4  RandomForestClassifier         4  0.824324"
      ]
     },
     "execution_count": 37,
     "metadata": {},
     "output_type": "execute_result"
    }
   ],
   "source": [
    "cv_df.head()"
   ]
  },
  {
   "cell_type": "code",
   "execution_count": 41,
   "metadata": {
    "colab": {
     "base_uri": "https://localhost:8080/",
     "height": 434
    },
    "colab_type": "code",
    "id": "njwq4ZqntBXn",
    "outputId": "923fa9cf-7852-4ede-f209-4c20c05cfb0b"
   },
   "outputs": [
    {
     "data": {
      "text/plain": [
       "<matplotlib.axes._subplots.AxesSubplot at 0x7f0cb535f7b8>"
      ]
     },
     "execution_count": 41,
     "metadata": {},
     "output_type": "execute_result"
    },
    {
     "data": {
      "image/png": "[encoded data removed]",
      "text/plain": [
       "<Figure size 576x576 with 1 Axes>"
      ]
     },
     "metadata": {
      "needs_background": "light"
     },
     "output_type": "display_data"
    }
   ],
   "source": [
    "plt.figure(figsize=(8,8))\n",
    "sns.boxplot(x='model_name', y='accuracy', data=cv_df)\n",
    "sns.stripplot(x='model_name', y='accuracy', data=cv_df, \n",
    "              size=8, jitter=True, edgecolor=\"gray\", linewidth=2)"
   ]
  },
  {
   "cell_type": "code",
   "execution_count": 46,
   "metadata": {
    "colab": {
     "base_uri": "https://localhost:8080/",
     "height": 102
    },
    "colab_type": "code",
    "id": "-DX1gVduotvA",
    "outputId": "908b9d0d-b5b4-4ff9-8b2c-982c26723c52"
   },
   "outputs": [
    {
     "data": {
      "text/plain": [
       "model_name\n",
       "LogisticRegression        0.979782\n",
       "MultinomialNB             0.970783\n",
       "RandomForestClassifier    0.830570\n",
       "Name: accuracy, dtype: float64"
      ]
     },
     "execution_count": 46,
     "metadata": {},
     "output_type": "execute_result"
    }
   ],
   "source": [
    "cv_df.groupby('model_name').accuracy.mean()"
   ]
  },
  {
   "cell_type": "markdown",
   "metadata": {
    "colab_type": "text",
    "id": "ukL-IF2CnHa_"
   },
   "source": [
    "The results for the `RandomForest` model show a large variance, the sign of a model that is overfitting to its training data. Running cross-validation is vital, because results from a single train/test split might be misleading.\n",
    "We also notice that both `MultinomialNB` (Naive Bayes) and `LogisticRegression` perform extremely well, with `LogisticRegression` having a slight advantage with a median accuracy of around 97%!\n",
    "With such results, we could just pack our things and consider the task complete, but it’s good to apply a healthy dose of skepticism especially when results are this good."
   ]
  },
  {
   "cell_type": "markdown",
   "metadata": {
    "colab_type": "text",
    "id": "UWZJZ9OyqCmJ"
   },
   "source": [
    "### 4. Model interpretation\n",
    "\n",
    "It is insufficient to have a model that performs well according to a given metric: we must also have a model that we can understand and whose results we can explain.\n",
    "\n",
    "We will start by training our model on part of the dataset, and then analyze the main sources of misclassification on the test set. One way to eliminate sources of error is to look at the confusion matrix, a matrix used to show the discrepancies between predicted and actual labels."
   ]
  },
  {
   "cell_type": "code",
   "execution_count": 42,
   "metadata": {
    "colab": {},
    "colab_type": "code",
    "id": "zE5u-IEa5gnj"
   },
   "outputs": [],
   "source": [
    "from sklearn.model_selection import train_test_split\n",
    "\n",
    "model = LogisticRegression(random_state=0)\n",
    "\n",
    "X_train, X_test, y_train, y_test, indices_train, indices_test = train_test_split(features, labels, df.index, test_size=0.33, random_state=0)\n",
    "model.fit(X_train, y_train)\n",
    "y_pred_proba = model.predict_proba(X_test)\n",
    "y_pred = model.predict(X_test)"
   ]
  },
  {
   "cell_type": "code",
   "execution_count": 45,
   "metadata": {
    "colab": {
     "base_uri": "https://localhost:8080/",
     "height": 434
    },
    "colab_type": "code",
    "id": "gYv3Q-gJ68ib",
    "outputId": "d4ea3a77-22cc-45a1-82f5-54e2a1a5198f"
   },
   "outputs": [
    {
     "data": {
      "text/plain": [
       "Text(0.5,15,'Predicted')"
      ]
     },
     "execution_count": 45,
     "metadata": {},
     "output_type": "execute_result"
    },
    {
     "data": {
      "image/png": "[encoded data removed]",
      "text/plain": [
       "<Figure size 432x288 with 2 Axes>"
      ]
     },
     "metadata": {
      "needs_background": "light"
     },
     "output_type": "display_data"
    }
   ],
   "source": [
    "from sklearn.metrics import confusion_matrix\n",
    "import seaborn as sns\n",
    "\n",
    "conf_mat = confusion_matrix(y_test, y_pred)\n",
    "sns.heatmap(conf_mat, annot=True, fmt='d',\n",
    "            xticklabels=category_id_df.category.values, yticklabels=category_id_df.category.values, cmap='Blues')\n",
    "plt.ylabel('Actual')\n",
    "plt.xlabel('Predicted')"
   ]
  },
  {
   "cell_type": "code",
   "execution_count": 48,
   "metadata": {
    "colab": {
     "base_uri": "https://localhost:8080/",
     "height": 494
    },
    "colab_type": "code",
    "id": "M9Kiqrtf9Gep",
    "outputId": "efb2b88e-9688-4d59-dc9b-8b5029379134"
   },
   "outputs": [
    {
     "name": "stdout",
     "output_type": "stream",
     "text": [
      "'business' predicted as 'politics' : 6 examples.\n"
     ]
    },
    {
     "data": {
      "text/html": [
       "<div>\n",
       "<style scoped>\n",
       "    .dataframe tbody tr th:only-of-type {\n",
       "        vertical-align: middle;\n",
       "    }\n",
       "\n",
       "    .dataframe tbody tr th {\n",
       "        vertical-align: top;\n",
       "    }\n",
       "\n",
       "    .dataframe thead th {\n",
       "        text-align: right;\n",
       "    }\n",
       "</style>\n",
       "<table border=\"1\" class=\"dataframe\">\n",
       "  <thead>\n",
       "    <tr style=\"text-align: right;\">\n",
       "      <th></th>\n",
       "      <th>text</th>\n",
       "    </tr>\n",
       "  </thead>\n",
       "  <tbody>\n",
       "    <tr>\n",
       "      <th>1380</th>\n",
       "      <td>world leaders gather to face uncertainty more ...</td>\n",
       "    </tr>\n",
       "    <tr>\n",
       "      <th>2002</th>\n",
       "      <td>salary scandal in cameroon cameroon says wides...</td>\n",
       "    </tr>\n",
       "    <tr>\n",
       "      <th>2201</th>\n",
       "      <td>ban on forced retirement under 65 employers wi...</td>\n",
       "    </tr>\n",
       "    <tr>\n",
       "      <th>1702</th>\n",
       "      <td>call to overhaul uk state pension the uk pensi...</td>\n",
       "    </tr>\n",
       "    <tr>\n",
       "      <th>602</th>\n",
       "      <td>pension hitch for long-living men male life ex...</td>\n",
       "    </tr>\n",
       "    <tr>\n",
       "      <th>1809</th>\n",
       "      <td>golden rule  intact  says ex-aide chancellor g...</td>\n",
       "    </tr>\n",
       "  </tbody>\n",
       "</table>\n",
       "</div>"
      ],
      "text/plain": [
       "                                                   text\n",
       "1380  world leaders gather to face uncertainty more ...\n",
       "2002  salary scandal in cameroon cameroon says wides...\n",
       "2201  ban on forced retirement under 65 employers wi...\n",
       "1702  call to overhaul uk state pension the uk pensi...\n",
       "602   pension hitch for long-living men male life ex...\n",
       "1809  golden rule  intact  says ex-aide chancellor g..."
      ]
     },
     "metadata": {},
     "output_type": "display_data"
    },
    {
     "name": "stdout",
     "output_type": "stream",
     "text": [
      "\n"
     ]
    }
   ],
   "source": [
    "from IPython.display import display\n",
    "\n",
    "for predicted in category_id_df.category_id:\n",
    "  for actual in category_id_df.category_id:\n",
    "    if predicted != actual and conf_mat[actual, predicted] >= 2:\n",
    "      print(\"'{}' predicted as '{}' : {} examples.\".format(id_to_category[actual], id_to_category[predicted], conf_mat[actual, predicted]))\n",
    "      display(df.loc[indices_test[(y_test == actual) & (y_pred == predicted)]][['text']])\n",
    "      print('')"
   ]
  },
  {
   "cell_type": "markdown",
   "metadata": {
    "colab_type": "text",
    "id": "6pQwcaB3rtU8"
   },
   "source": [
    "As can be seen above, the misclassified articles are articles that touch on different subjects (for example, articles involving both politics and business) and might hence even be missclassified by humans. This sort of errors will always happen, and it is unrealistic to aim for a model that achieves 100% accuracy.\n",
    "\n",
    "We can also look deeper inside the model and how it works, by finding which terms contribute the most to a document being classified in each of the categories:"
   ]
  },
  {
   "cell_type": "code",
   "execution_count": 49,
   "metadata": {
    "colab": {
     "base_uri": "https://localhost:8080/",
     "height": 85
    },
    "colab_type": "code",
    "id": "kzO82ptUKMmA",
    "outputId": "6575f1b7-c069-4542-c091-1bdbc276ade4"
   },
   "outputs": [
    {
     "data": {
      "text/plain": [
       "LogisticRegression(C=1.0, class_weight=None, dual=False, fit_intercept=True,\n",
       "          intercept_scaling=1, max_iter=100, multi_class='ovr', n_jobs=1,\n",
       "          penalty='l2', random_state=0, solver='liblinear', tol=0.0001,\n",
       "          verbose=0, warm_start=False)"
      ]
     },
     "execution_count": 49,
     "metadata": {},
     "output_type": "execute_result"
    }
   ],
   "source": [
    "model.fit(features, labels)"
   ]
  },
  {
   "cell_type": "code",
   "execution_count": 50,
   "metadata": {
    "colab": {
     "base_uri": "https://localhost:8080/",
     "height": 1122
    },
    "colab_type": "code",
    "id": "FRSFp-W8KMmE",
    "outputId": "e912590d-6045-4204-edfe-8a8ead0a29de"
   },
   "outputs": [
    {
     "name": "stdout",
     "output_type": "stream",
     "text": [
      "# 'business':\n",
      "  . Top unigrams:\n",
      "       . company\n",
      "       . shares\n",
      "       . bank\n",
      "       . market\n",
      "       . firm\n",
      "  . Top bigrams:\n",
      "       . chief executive\n",
      "       . stock market\n",
      "       . analysts said\n",
      "       . economic growth\n",
      "       . oil prices\n",
      "# 'entertainment':\n",
      "  . Top unigrams:\n",
      "       . film\n",
      "       . music\n",
      "       . singer\n",
      "       . tv\n",
      "       . star\n",
      "  . Top bigrams:\n",
      "       . box office\n",
      "       . los angeles\n",
      "       . new york\n",
      "       . film festival\n",
      "       . big brother\n",
      "# 'politics':\n",
      "  . Top unigrams:\n",
      "       . labour\n",
      "       . party\n",
      "       . mr\n",
      "       . government\n",
      "       . election\n",
      "  . Top bigrams:\n",
      "       . mr blair\n",
      "       . tony blair\n",
      "       . prime minister\n",
      "       . general election\n",
      "       . mr brown\n",
      "# 'sport':\n",
      "  . Top unigrams:\n",
      "       . match\n",
      "       . cup\n",
      "       . club\n",
      "       . win\n",
      "       . game\n",
      "  . Top bigrams:\n",
      "       . year old\n",
      "       . australian open\n",
      "       . champions league\n",
      "       . world number\n",
      "       . bbc sport\n",
      "# 'tech':\n",
      "  . Top unigrams:\n",
      "       . computer\n",
      "       . users\n",
      "       . technology\n",
      "       . software\n",
      "       . online\n",
      "  . Top bigrams:\n",
      "       . said mr\n",
      "       . news website\n",
      "       . bbc news\n",
      "       . mobile phone\n",
      "       . mobile phones\n"
     ]
    }
   ],
   "source": [
    "from sklearn.feature_selection import chi2\n",
    "\n",
    "N = 5\n",
    "for category, category_id in sorted(category_to_id.items()):\n",
    "  indices = np.argsort(model.coef_[category_id])\n",
    "  feature_names = np.array(tfidf.get_feature_names())[indices]\n",
    "  unigrams = [v for v in reversed(feature_names) if len(v.split(' ')) == 1][:N]\n",
    "  bigrams = [v for v in reversed(feature_names) if len(v.split(' ')) == 2][:N]\n",
    "  print(\"# '{}':\".format(category))\n",
    "  print(\"  . Top unigrams:\\n       . {}\".format('\\n       . '.join(unigrams)))\n",
    "  print(\"  . Top bigrams:\\n       . {}\".format('\\n       . '.join(bigrams)))"
   ]
  },
  {
   "cell_type": "code",
   "execution_count": 51,
   "metadata": {
    "colab": {
     "base_uri": "https://localhost:8080/",
     "height": 102
    },
    "colab_type": "code",
    "id": "QOyYF6fdRc18",
    "outputId": "2903e229-c003-4dc2-e3d3-965db3db627d"
   },
   "outputs": [
    {
     "data": {
      "text/plain": [
       "tech             69\n",
       "politics          8\n",
       "entertainment     7\n",
       "business          1\n",
       "Name: category, dtype: int64"
      ]
     },
     "execution_count": 51,
     "metadata": {},
     "output_type": "execute_result"
    }
   ],
   "source": [
    "df[df.text.str.lower().str.contains('news website')].category.value_counts()"
   ]
  },
  {
   "cell_type": "markdown",
   "metadata": {
    "colab_type": "text",
    "id": "KY7W_YW5s5Jw"
   },
   "source": [
    "What is most likely happening is that the editorial style of the **\"tech\"** section is different, and often includes ther terms **`\"bbc news\"`**  and **`\"news website\"`**, in the same way the sports section includes **`\"bbc sport\"`**.\n",
    "\n",
    "This is called a [**data leakage**](https://www.kaggle.com/wiki/Leakage), which is when information about the label we want to predict is accidentally added to the training set. In this specific case, our model still works equally good when excluding the leaky terms, but it's always good to be skeptical when a model performs unexpectedly well, hence the need for interpretable model instead of black-boxes that might work very well on the test set, but fail on real data.\n",
    "\n",
    "For the record, we can also confirm that the model works well on data unrelated to the BBC, as can be seen in the examples below:"
   ]
  },
  {
   "cell_type": "code",
   "execution_count": 52,
   "metadata": {
    "colab": {
     "base_uri": "https://localhost:8080/",
     "height": 272
    },
    "colab_type": "code",
    "id": "DvmxlZdJGITR",
    "outputId": "5cbf71b6-5604-47c8-9717-49f3cde38d0d"
   },
   "outputs": [
    {
     "name": "stdout",
     "output_type": "stream",
     "text": [
      "\"Hooli stock price soared after a dip in PiedPiper revenue growth.\"\n",
      "  - Predicted as: 'business'\n",
      "\n",
      "\"Captain Tsubasa scores a magnificent goal for the Japanese team.\"\n",
      "  - Predicted as: 'sport'\n",
      "\n",
      "\"Merryweather mercenaries are sent on another mission, as government oversight groups call for new sanctions.\"\n",
      "  - Predicted as: 'politics'\n",
      "\n",
      "\"Beyoncé releases a new album, tops the charts in all of south-east Asia!\"\n",
      "  - Predicted as: 'entertainment'\n",
      "\n",
      "\"You won't guess what the latest trend in data analysis is!\"\n",
      "  - Predicted as: 'tech'\n",
      "\n"
     ]
    }
   ],
   "source": [
    "texts = [\"Hooli stock price soared after a dip in PiedPiper revenue growth.\",\n",
    "         \"Captain Tsubasa scores a magnificent goal for the Japanese team.\",\n",
    "         \"Merryweather mercenaries are sent on another mission, as government oversight groups call for new sanctions.\",\n",
    "         \"Beyoncé releases a new album, tops the charts in all of south-east Asia!\",\n",
    "         \"You won't guess what the latest trend in data analysis is!\"]\n",
    "text_features = tfidf.transform(texts)\n",
    "predictions = model.predict(text_features)\n",
    "for text, predicted in zip(texts, predictions):\n",
    "  print('\"{}\"'.format(text))\n",
    "  print(\"  - Predicted as: '{}'\".format(id_to_category[predicted]))\n",
    "  print(\"\")"
   ]
  },
  {
   "cell_type": "code",
   "execution_count": null,
   "metadata": {},
   "outputs": [],
   "source": []
  }
 ],
 "metadata": {
  "colab": {
   "collapsed_sections": [],
   "name": "\"Automatic document classification\" notebook",
   "provenance": [],
   "toc_visible": true,
   "version": "0.3.2"
  },
  "kernelspec": {
   "display_name": "Python 3",
   "language": "python",
   "name": "python3"
  },
  "language_info": {
   "codemirror_mode": {
    "name": "ipython",
    "version": 3
   },
   "file_extension": ".py",
   "mimetype": "text/x-python",
   "name": "python",
   "nbconvert_exporter": "python",
   "pygments_lexer": "ipython3",
   "version": "3.6.6"
  },
  "latex_envs": {
   "LaTeX_envs_menu_present": true,
   "autoclose": false,
   "autocomplete": true,
   "bibliofile": "biblio.bib",
   "cite_by": "apalike",
   "current_citInitial": 1,
   "eqLabelWithNumbers": true,
   "eqNumInitial": 1,
   "hotkeys": {
    "equation": "Ctrl-E",
    "itemize": "Ctrl-I"
   },
   "labels_anchors": false,
   "latex_user_defs": false,
   "report_style_numbering": false,
   "user_envs_cfg": false
  },
  "varInspector": {
   "cols": {
    "lenName": 16,
    "lenType": 16,
    "lenVar": 40
   },
   "kernels_config": {
    "python": {
     "delete_cmd_postfix": "",
     "delete_cmd_prefix": "del ",
     "library": "var_list.py",
     "varRefreshCmd": "print(var_dic_list())"
    },
    "r": {
     "delete_cmd_postfix": ") ",
     "delete_cmd_prefix": "rm(",
     "library": "var_list.r",
     "varRefreshCmd": "cat(var_dic_list()) "
    }
   },
   "types_to_exclude": [
    "module",
    "function",
    "builtin_function_or_method",
    "instance",
    "_Feature"
   ],
   "window_display": false
  }
 },
 "nbformat": 4,
 "nbformat_minor": 1
}
