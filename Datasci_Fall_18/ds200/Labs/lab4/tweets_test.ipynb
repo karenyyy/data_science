{
 "cells": [
  {
   "cell_type": "markdown",
   "metadata": {
    "heading_collapsed": true
   },
   "source": [
    "### import necessary packages"
   ]
  },
  {
   "cell_type": "code",
   "execution_count": 645,
   "metadata": {
    "hidden": true
   },
   "outputs": [
    {
     "name": "stderr",
     "output_type": "stream",
     "text": [
      "/home/karen/.local/lib/python3.5/site-packages/h5py/__init__.py:36: FutureWarning: Conversion of the second argument of issubdtype from `float` to `np.floating` is deprecated. In future, it will be treated as `np.float64 == np.dtype(float).type`.\n",
      "  from ._conv import register_converters as _register_converters\n"
     ]
    }
   ],
   "source": [
    "import datascience\n",
    "import numpy as np\n",
    "import pandas as pd\n",
    "import re\n",
    "from datascience import *\n",
    "from sklearn.feature_extraction.text import CountVectorizer\n",
    "from sklearn.metrics import accuracy_score\n",
    "from sklearn.model_selection import train_test_split\n",
    "\n",
    "from sklearn.pipeline import Pipeline\n",
    "from sklearn import tree\n",
    "from sklearn.tree import DecisionTreeClassifier\n",
    "from sklearn.metrics import confusion_matrix\n",
    "\n",
    "import tensorflow as tf\n",
    "import tensorflow_hub as hub\n",
    "\n",
    "import matplotlib.pyplot as plt\n",
    "import seaborn as sns\n",
    "%matplotlib inline\n",
    "\n",
    "import graphviz"
   ]
  },
  {
   "cell_type": "markdown",
   "metadata": {
    "heading_collapsed": true
   },
   "source": [
    "### data preprocessing"
   ]
  },
  {
   "cell_type": "code",
   "execution_count": 656,
   "metadata": {
    "hidden": true
   },
   "outputs": [],
   "source": [
    "tagged = pd.read_csv(filepath_or_buffer='cleaned_tagged.csv', sep=',')"
   ]
  },
  {
   "cell_type": "code",
   "execution_count": 657,
   "metadata": {
    "hidden": true
   },
   "outputs": [],
   "source": [
    "tagged = tagged.iloc[tagged['text'].drop_duplicates().index]"
   ]
  },
  {
   "cell_type": "code",
   "execution_count": 658,
   "metadata": {
    "hidden": true
   },
   "outputs": [],
   "source": [
    "tagged = tagged.drop(tagged.columns[0], axis=1).reset_index(drop=True)"
   ]
  },
  {
   "cell_type": "code",
   "execution_count": 659,
   "metadata": {
    "hidden": true
   },
   "outputs": [
    {
     "data": {
      "text/plain": [
       "503"
      ]
     },
     "execution_count": 659,
     "metadata": {},
     "output_type": "execute_result"
    }
   ],
   "source": [
    "len(tagged)"
   ]
  },
  {
   "cell_type": "code",
   "execution_count": 660,
   "metadata": {
    "hidden": true
   },
   "outputs": [
    {
     "data": {
      "text/html": [
       "<div>\n",
       "<table border=\"1\" class=\"dataframe\">\n",
       "  <thead>\n",
       "    <tr style=\"text-align: right;\">\n",
       "      <th></th>\n",
       "      <th>user_id</th>\n",
       "      <th>user_name</th>\n",
       "      <th>tweet_time</th>\n",
       "      <th>location</th>\n",
       "      <th>text</th>\n",
       "      <th>sentiment</th>\n",
       "    </tr>\n",
       "  </thead>\n",
       "  <tbody>\n",
       "    <tr>\n",
       "      <th>0</th>\n",
       "      <td>2334231240</td>\n",
       "      <td>Debbi Matteucci</td>\n",
       "      <td>Tue Aug 28 19:56:09 +0000 2018</td>\n",
       "      <td>San Francisco CA</td>\n",
       "      <td>please dont loose the influence</td>\n",
       "      <td>negative</td>\n",
       "    </tr>\n",
       "    <tr>\n",
       "      <th>1</th>\n",
       "      <td>2593882602</td>\n",
       "      <td>Robert Nash</td>\n",
       "      <td>Tue Aug 28 19:56:10 +0000 2018</td>\n",
       "      <td>Maricopa AZ</td>\n",
       "      <td>agree he was deserving of a purple heart but n...</td>\n",
       "      <td>positive</td>\n",
       "    </tr>\n",
       "    <tr>\n",
       "      <th>2</th>\n",
       "      <td>999805424105803777</td>\n",
       "      <td>Dennis@millerd6</td>\n",
       "      <td>Tue Aug 28 19:56:10 +0000 2018</td>\n",
       "      <td>Ramona CA</td>\n",
       "      <td>it easy mccain didnt want there what would wan...</td>\n",
       "      <td>positive</td>\n",
       "    </tr>\n",
       "    <tr>\n",
       "      <th>3</th>\n",
       "      <td>759123137321693184</td>\n",
       "      <td>Crooked (Crypto) Pictures</td>\n",
       "      <td>Tue Aug 28 19:56:11 +0000 2018</td>\n",
       "      <td>None</td>\n",
       "      <td>shhh youll burst her bubble lol im sure sh</td>\n",
       "      <td>positive</td>\n",
       "    </tr>\n",
       "    <tr>\n",
       "      <th>4</th>\n",
       "      <td>43105114</td>\n",
       "      <td>Sandy {}{Q}</td>\n",
       "      <td>Tue Aug 28 19:56:12 +0000 2018</td>\n",
       "      <td>Louisiana</td>\n",
       "      <td>it would say hes respecting mccains wisheshe t...</td>\n",
       "      <td>neutral</td>\n",
       "    </tr>\n",
       "    <tr>\n",
       "      <th>5</th>\n",
       "      <td>968025172438634496</td>\n",
       "      <td>Spydercat</td>\n",
       "      <td>Tue Aug 28 19:56:13 +0000 2018</td>\n",
       "      <td>Nancy Pelosi's Fabulous San Franshithole USA.</td>\n",
       "      <td>cat sometimes we get it right sometimes we don...</td>\n",
       "      <td>negative</td>\n",
       "    </tr>\n",
       "    <tr>\n",
       "      <th>6</th>\n",
       "      <td>2766239923</td>\n",
       "      <td>pierce d'art</td>\n",
       "      <td>Tue Aug 28 19:56:14 +0000 2018</td>\n",
       "      <td>out 'n about</td>\n",
       "      <td>cat 2008 johnmccain is mentally unfit to be pr...</td>\n",
       "      <td>negative</td>\n",
       "    </tr>\n",
       "    <tr>\n",
       "      <th>7</th>\n",
       "      <td>1022622446665588737</td>\n",
       "      <td>@nc0615  MAGA SUPER ELITE</td>\n",
       "      <td>Tue Aug 28 19:56:15 +0000 2018</td>\n",
       "      <td>Austin AR</td>\n",
       "      <td>jkopp i thought specifically did not want pres...</td>\n",
       "      <td>irrelevant</td>\n",
       "    </tr>\n",
       "    <tr>\n",
       "      <th>8</th>\n",
       "      <td>3098633816</td>\n",
       "      <td>Robert M. Goldstein - American</td>\n",
       "      <td>Tue Aug 28 19:56:15 +0000 2018</td>\n",
       "      <td>San Francisco</td>\n",
       "      <td>the best way to honor legacy and apparently hi...</td>\n",
       "      <td>positive</td>\n",
       "    </tr>\n",
       "    <tr>\n",
       "      <th>9</th>\n",
       "      <td>1218485030</td>\n",
       "      <td>Christopher Raiola</td>\n",
       "      <td>Tue Aug 28 19:56:15 +0000 2018</td>\n",
       "      <td>NJ USA</td>\n",
       "      <td>that hes not a phony like you ms brazile</td>\n",
       "      <td>irrelevant</td>\n",
       "    </tr>\n",
       "    <tr>\n",
       "      <th>10</th>\n",
       "      <td>119740907</td>\n",
       "      <td>American Patriot  Q</td>\n",
       "      <td>Tue Aug 28 19:56:15 +0000 2018</td>\n",
       "      <td>None</td>\n",
       "      <td>johnmccain asked him not to attend remember if...</td>\n",
       "      <td>neutral</td>\n",
       "    </tr>\n",
       "    <tr>\n",
       "      <th>11</th>\n",
       "      <td>823688779147968512</td>\n",
       "      <td>Charlene Wooden</td>\n",
       "      <td>Tue Aug 28 19:56:15 +0000 2018</td>\n",
       "      <td>Massachusetts USA</td>\n",
       "      <td>watch powerful words the grief in the country ...</td>\n",
       "      <td>negative</td>\n",
       "    </tr>\n",
       "    <tr>\n",
       "      <th>12</th>\n",
       "      <td>761566897955418112</td>\n",
       "      <td>JonAntono</td>\n",
       "      <td>Tue Aug 28 19:56:15 +0000 2018</td>\n",
       "      <td>Sdost-Wisconsin USA</td>\n",
       "      <td>mb u should water it once in a while</td>\n",
       "      <td>irrelevant</td>\n",
       "    </tr>\n",
       "    <tr>\n",
       "      <th>13</th>\n",
       "      <td>574040527</td>\n",
       "      <td>Barbara Castro</td>\n",
       "      <td>Tue Aug 28 19:56:16 +0000 2018</td>\n",
       "      <td>None</td>\n",
       "      <td>cry me a river of those crocodile tears your p...</td>\n",
       "      <td>irrelevant</td>\n",
       "    </tr>\n",
       "    <tr>\n",
       "      <th>14</th>\n",
       "      <td>860832549337272321</td>\n",
       "      <td>Mary Jean Pompeo</td>\n",
       "      <td>Tue Aug 28 19:56:18 +0000 2018</td>\n",
       "      <td>None</td>\n",
       "      <td>the best way you can honor your friend is to s...</td>\n",
       "      <td>positive</td>\n",
       "    </tr>\n",
       "    <tr>\n",
       "      <th>15</th>\n",
       "      <td>4750192146</td>\n",
       "      <td>great grandma#FBR</td>\n",
       "      <td>Tue Aug 28 19:56:18 +0000 2018</td>\n",
       "      <td>BurlingtonOregon</td>\n",
       "      <td>very lovely tribute to by do you really want t...</td>\n",
       "      <td>positive</td>\n",
       "    </tr>\n",
       "    <tr>\n",
       "      <th>16</th>\n",
       "      <td>846120601299255297</td>\n",
       "      <td>CindyjintheOC</td>\n",
       "      <td>Tue Aug 28 19:56:19 +0000 2018</td>\n",
       "      <td>Tustin CA</td>\n",
       "      <td>kelli ward really how utterly stupid do you ha...</td>\n",
       "      <td>negative</td>\n",
       "    </tr>\n",
       "    <tr>\n",
       "      <th>17</th>\n",
       "      <td>824151785770196993</td>\n",
       "      <td>Elda Bruciaga</td>\n",
       "      <td>Tue Aug 28 19:56:19 +0000 2018</td>\n",
       "      <td>None</td>\n",
       "      <td>under pressure from american legion trump orde...</td>\n",
       "      <td>negative</td>\n",
       "    </tr>\n",
       "    <tr>\n",
       "      <th>18</th>\n",
       "      <td>27653517</td>\n",
       "      <td>A human in Phoenix - #Resist</td>\n",
       "      <td>Tue Aug 28 19:56:19 +0000 2018</td>\n",
       "      <td>Phoenix AZ</td>\n",
       "      <td>now cancelling the super bowl visit because th...</td>\n",
       "      <td>positive</td>\n",
       "    </tr>\n",
       "    <tr>\n",
       "      <th>19</th>\n",
       "      <td>464771557</td>\n",
       "      <td>Ana Ryan</td>\n",
       "      <td>Tue Aug 28 19:56:19 +0000 2018</td>\n",
       "      <td>None</td>\n",
       "      <td>maybe now we dont think it was a big deal but ...</td>\n",
       "      <td>neutral</td>\n",
       "    </tr>\n",
       "    <tr>\n",
       "      <th>20</th>\n",
       "      <td>2774593987</td>\n",
       "      <td>jenhen</td>\n",
       "      <td>Tue Aug 28 19:56:21 +0000 2018</td>\n",
       "      <td>White Rock British Columbia</td>\n",
       "      <td>at reagans funeral thatcher sat next to gorbac...</td>\n",
       "      <td>neutral</td>\n",
       "    </tr>\n",
       "    <tr>\n",
       "      <th>21</th>\n",
       "      <td>763468725370560513</td>\n",
       "      <td>MacKnowledge</td>\n",
       "      <td>Tue Aug 28 19:56:22 +0000 2018</td>\n",
       "      <td>USA</td>\n",
       "      <td>ive written to calling for the new headquarter...</td>\n",
       "      <td>negative</td>\n",
       "    </tr>\n",
       "    <tr>\n",
       "      <th>22</th>\n",
       "      <td>857991937</td>\n",
       "      <td>Joy Wilder</td>\n",
       "      <td>Tue Aug 28 19:56:22 +0000 2018</td>\n",
       "      <td>None</td>\n",
       "      <td>wow justwow</td>\n",
       "      <td>positive</td>\n",
       "    </tr>\n",
       "    <tr>\n",
       "      <th>23</th>\n",
       "      <td>71584155</td>\n",
       "      <td>Monica Alba</td>\n",
       "      <td>Tue Aug 28 19:56:23 +0000 2018</td>\n",
       "      <td>Washington DC</td>\n",
       "      <td>the desk of in the senate chamber draped in a ...</td>\n",
       "      <td>negative</td>\n",
       "    </tr>\n",
       "    <tr>\n",
       "      <th>24</th>\n",
       "      <td>948971016633626624</td>\n",
       "      <td>Growler45</td>\n",
       "      <td>Tue Aug 28 19:56:24 +0000 2018</td>\n",
       "      <td>None</td>\n",
       "      <td>mccain publicly asked that he not attend potus...</td>\n",
       "      <td>neutral</td>\n",
       "    </tr>\n",
       "    <tr>\n",
       "      <th>25</th>\n",
       "      <td>31731941</td>\n",
       "      <td>camille park</td>\n",
       "      <td>Tue Aug 28 19:56:24 +0000 2018</td>\n",
       "      <td>None</td>\n",
       "      <td>youre such a disgrace to america hilary</td>\n",
       "      <td>neutral</td>\n",
       "    </tr>\n",
       "    <tr>\n",
       "      <th>26</th>\n",
       "      <td>827154482265939968</td>\n",
       "      <td>Heather Millward</td>\n",
       "      <td>Tue Aug 28 19:56:25 +0000 2018</td>\n",
       "      <td>Seattle WA</td>\n",
       "      <td>girl please you were never a democrat nice try...</td>\n",
       "      <td>positive</td>\n",
       "    </tr>\n",
       "    <tr>\n",
       "      <th>27</th>\n",
       "      <td>1049403240</td>\n",
       "      <td>TT</td>\n",
       "      <td>Tue Aug 28 19:56:27 +0000 2018</td>\n",
       "      <td>United States</td>\n",
       "      <td>that your party has gone through great lengths...</td>\n",
       "      <td>positive</td>\n",
       "    </tr>\n",
       "    <tr>\n",
       "      <th>28</th>\n",
       "      <td>3351374110</td>\n",
       "      <td>LuvHaiden4Ever</td>\n",
       "      <td>Tue Aug 28 19:56:28 +0000 2018</td>\n",
       "      <td>None</td>\n",
       "      <td>im old enough to remember when lindseygraham w...</td>\n",
       "      <td>positive</td>\n",
       "    </tr>\n",
       "    <tr>\n",
       "      <th>29</th>\n",
       "      <td>1022622446665588737</td>\n",
       "      <td>@nc0615  MAGA SUPER ELITE</td>\n",
       "      <td>Tue Aug 28 19:56:29 +0000 2018</td>\n",
       "      <td>Austin AR</td>\n",
       "      <td>schwartz70 jkopp you can support som</td>\n",
       "      <td>irrelevant</td>\n",
       "    </tr>\n",
       "    <tr>\n",
       "      <th>...</th>\n",
       "      <td>...</td>\n",
       "      <td>...</td>\n",
       "      <td>...</td>\n",
       "      <td>...</td>\n",
       "      <td>...</td>\n",
       "      <td>...</td>\n",
       "    </tr>\n",
       "    <tr>\n",
       "      <th>473</th>\n",
       "      <td>829341798</td>\n",
       "      <td>Lauren Meier</td>\n",
       "      <td>Tue Aug 28 20:05:14 +0000 2018</td>\n",
       "      <td>Washington DC</td>\n",
       "      <td>on to those who are striving as a young person...</td>\n",
       "      <td>negative</td>\n",
       "    </tr>\n",
       "    <tr>\n",
       "      <th>474</th>\n",
       "      <td>971154171226460165</td>\n",
       "      <td>Black Trump</td>\n",
       "      <td>Tue Aug 28 20:05:16 +0000 2018</td>\n",
       "      <td>New York NY</td>\n",
       "      <td>they praise this dude but bash trump spare me</td>\n",
       "      <td>irrelevant</td>\n",
       "    </tr>\n",
       "    <tr>\n",
       "      <th>475</th>\n",
       "      <td>21910052</td>\n",
       "      <td>Maureen Osayi</td>\n",
       "      <td>Tue Aug 28 20:05:17 +0000 2018</td>\n",
       "      <td>England United Kingdom</td>\n",
       "      <td>sending you all love and prayers of strength a...</td>\n",
       "      <td>positive</td>\n",
       "    </tr>\n",
       "    <tr>\n",
       "      <th>476</th>\n",
       "      <td>350637209</td>\n",
       "      <td>Schadenfroyd</td>\n",
       "      <td>Tue Aug 28 20:05:17 +0000 2018</td>\n",
       "      <td>Inside your mind</td>\n",
       "      <td>because the guy who is supposed to do it is be...</td>\n",
       "      <td>irrelevant</td>\n",
       "    </tr>\n",
       "    <tr>\n",
       "      <th>477</th>\n",
       "      <td>427679559</td>\n",
       "      <td>iokea 17</td>\n",
       "      <td>Tue Aug 28 20:05:18 +0000 2018</td>\n",
       "      <td>Ola'a Hawai'i</td>\n",
       "      <td>thewife to be fair i ate french toast for brea...</td>\n",
       "      <td>positive</td>\n",
       "    </tr>\n",
       "    <tr>\n",
       "      <th>478</th>\n",
       "      <td>717384303093657600</td>\n",
       "      <td>Diligent Creative</td>\n",
       "      <td>Tue Aug 28 20:05:18 +0000 2018</td>\n",
       "      <td>New York USA</td>\n",
       "      <td>stop being a hypocrite</td>\n",
       "      <td>irrelevant</td>\n",
       "    </tr>\n",
       "    <tr>\n",
       "      <th>479</th>\n",
       "      <td>5746192</td>\n",
       "      <td>(((Ari Halbkram)))</td>\n",
       "      <td>Tue Aug 28 20:05:19 +0000 2018</td>\n",
       "      <td>Planet Earth</td>\n",
       "      <td>counter offer instead of rejecting the story o...</td>\n",
       "      <td>irrelevant</td>\n",
       "    </tr>\n",
       "    <tr>\n",
       "      <th>480</th>\n",
       "      <td>700012184689049600</td>\n",
       "      <td>Eva Durn</td>\n",
       "      <td>Tue Aug 28 20:05:20 +0000 2018</td>\n",
       "      <td"
      ],
      "text/plain": [
       "                 user_id                       user_name  \\\n",
       "0             2334231240                 Debbi Matteucci   \n",
       "1             2593882602                     Robert Nash   \n",
       "2     999805424105803777                 Dennis@millerd6   \n",
       "3     759123137321693184       Crooked (Crypto) Pictures   \n",
       "4               43105114                     Sandy {}{Q}   \n",
       "5     968025172438634496                       Spydercat   \n",
       "6             2766239923                    pierce d'art   \n",
       "7    1022622446665588737       @nc0615  MAGA SUPER ELITE   \n",
       "8             3098633816  Robert M. Goldstein - American   \n",
       "9             1218485030              Christopher Raiola   \n",
       "10             119740907            American Patriot  Q    \n",
       "11    823688779147968512                 Charlene Wooden   \n",
       "12    761566897955418112                      JonAntono    \n",
       "13             574040527                  Barbara Castro   \n",
       "14    860832549337272321                Mary Jean Pompeo   \n",
       "15            4750192146              great grandma#FBR    \n",
       "16    846120601299255297                   CindyjintheOC   \n",
       "17    824151785770196993                   Elda Bruciaga   \n",
       "18              27653517    A human in Phoenix - #Resist   \n",
       "19             464771557                        Ana Ryan   \n",
       "20            2774593987                          jenhen   \n",
       "21    763468725370560513                    MacKnowledge   \n",
       "22             857991937                      Joy Wilder   \n",
       "23              71584155                     Monica Alba   \n",
       "24    948971016633626624                       Growler45   \n",
       "25              31731941                    camille park   \n",
       "26    827154482265939968                Heather Millward   \n",
       "27            1049403240                              TT   \n",
       "28            3351374110                  LuvHaiden4Ever   \n",
       "29   1022622446665588737       @nc0615  MAGA SUPER ELITE   \n",
       "..                   ...                             ...   \n",
       "473            829341798                    Lauren Meier   \n",
       "474   971154171226460165                     Black Trump   \n",
       "475             21910052                  Maureen Osayi    \n",
       "476            350637209                    Schadenfroyd   \n",
       "477            427679559                        iokea 17   \n",
       "478   717384303093657600               Diligent Creative   \n",
       "479              5746192              (((Ari Halbkram)))   \n",
       "480   700012184689049600                        Eva Durn   \n",
       "481  1021426780647780353                     DENNIS HESS   \n",
       "482            751411076                patricia h cohen   \n",
       "483   833774753836048385            Rainaleigh Adamowicz   \n",
       "484   951156286221144064                     Spotted dog   \n",
       "485             23072931                  Rebecca Thomas   \n",
       "486           2178187816                         johnnie   \n",
       "487   700012184689049600                        Eva Durn   \n",
       "488   976929776748367872                  NOT Barry Bass   \n",
       "489           1431784561                       Antumbral   \n",
       "490            313273802                       coopyduke   \n",
       "491   996467139379892224   The Orange Menace Needs To Go   \n",
       "492  1029855486827364352                   2drinkminimum   \n",
       "493   750632568823963648                     Dan El Rojo   \n",
       "494           2429477720            Sean Campbell Videos   \n",
       "495   700012184689049600                        Eva Durn   \n",
       "496             39639586                            gary   \n",
       "497   963251408131641346                        Joanne C   \n",
       "498             29096702                  ESTHER WORKMAN   \n",
       "499             16051220                       cattiekit   \n",
       "500            715309583                    Joseph Stotz   \n",
       "501   890416271090741249                  Crimson Stylus   \n",
       "502            278661209                      Betsy Bugg   \n",
       "\n",
       "                         tweet_time  \\\n",
       "0    Tue Aug 28 19:56:09 +0000 2018   \n",
       "1    Tue Aug 28 19:56:10 +0000 2018   \n",
       "2    Tue Aug 28 19:56:10 +0000 2018   \n",
       "3    Tue Aug 28 19:56:11 +0000 2018   \n",
       "4    Tue Aug 28 19:56:12 +0000 2018   \n",
       "5    Tue Aug 28 19:56:13 +0000 2018   \n",
       "6    Tue Aug 28 19:56:14 +0000 2018   \n",
       "7    Tue Aug 28 19:56:15 +0000 2018   \n",
       "8    Tue Aug 28 19:56:15 +0000 2018   \n",
       "9    Tue Aug 28 19:56:15 +0000 2018   \n",
       "10   Tue Aug 28 19:56:15 +0000 2018   \n",
       "11   Tue Aug 28 19:56:15 +0000 2018   \n",
       "12   Tue Aug 28 19:56:15 +0000 2018   \n",
       "13   Tue Aug 28 19:56:16 +0000 2018   \n",
       "14   Tue Aug 28 19:56:18 +0000 2018   \n",
       "15   Tue Aug 28 19:56:18 +0000 2018   \n",
       "16   Tue Aug 28 19:56:19 +0000 2018   \n",
       "17   Tue Aug 28 19:56:19 +0000 2018   \n",
       "18   Tue Aug 28 19:56:19 +0000 2018   \n",
       "19   Tue Aug 28 19:56:19 +0000 2018   \n",
       "20   Tue Aug 28 19:56:21 +0000 2018   \n",
       "21   Tue Aug 28 19:56:22 +0000 2018   \n",
       "22   Tue Aug 28 19:56:22 +0000 2018   \n",
       "23   Tue Aug 28 19:56:23 +0000 2018   \n",
       "24   Tue Aug 28 19:56:24 +0000 2018   \n",
       "25   Tue Aug 28 19:56:24 +0000 2018   \n",
       "26   Tue Aug 28 19:56:25 +0000 2018   \n",
       "27   Tue Aug 28 19:56:27 +0000 2018   \n",
       "28   Tue Aug 28 19:56:28 +0000 2018   \n",
       "29   Tue Aug 28 19:56:29 +0000 2018   \n",
       "..                              ...   \n",
       "473  Tue Aug 28 20:05:14 +0000 2018   \n",
       "474  Tue Aug 28 20:05:16 +0000 2018   \n",
       "475  Tue Aug 28 20:05:17 +0000 2018   \n",
       "476  Tue Aug 28 20:05:17 +0000 2018   \n",
       "477  Tue Aug 28 20:05:18 +0000 2018   \n",
       "478  Tue Aug 28 20:05:18 +0000 2018   \n",
       "479  Tue Aug 28 20:05:19 +0000 2018   \n",
       "480  Tue Aug 28 20:05:20 +0000 2018   \n",
       "481  Tue Aug 28 20:05:24 +0000 2018   \n",
       "482  Tue Aug 28 20:05:25 +0000 2018   \n",
       "483  Tue Aug 28 20:05:26 +0000 2018   \n",
       "484  Tue Aug 28 20:05:26 +0000 2018   \n",
       "485  Tue Aug 28 20:05:27 +0000 2018   \n",
       "486  Tue Aug 28 20:05:27 +0000 2018   \n",
       "487  Tue Aug 28 20:05:28 +0000 2018   \n",
       "488  Tue Aug 28 20:05:32 +0000 2018   \n",
       "489  Tue Aug 28 20:05:33 +0000 2018   \n",
       "490  Tue Aug 28 20:05:33 +0000 2018   \n",
       "491  Tue Aug 28 20:05:35 +0000 2018   \n",
       "492  Tue Aug 28 20:05:36 +0000 2018   \n",
       "493  Tue Aug 28 20:05:37 +0000 2018   \n",
       "494  Tue Aug 28 20:05:43 +0000 2018   \n",
       "495  Tue Aug 28 20:05:44 +0000 2018   \n",
       "496  Tue Aug 28 20:05:45 +0000 2018   \n",
       "497  Tue Aug 28 20:05:51 +0000 2018   \n",
       "498  Tue Aug 28 20:05:52 +0000 2018   \n",
       "499  Tue Aug 28 20:05:54 +0000 2018   \n",
       "500  Tue Aug 28 20:05:59 +0000 2018   \n",
       "501  Tue Aug 28 20:05:59 +0000 2018   \n",
       "502  Tue Aug 28 20:06:00 +0000 2018   \n",
       "\n",
       "                                          location  \\\n",
       "0                                 San Francisco CA   \n",
       "1                                      Maricopa AZ   \n",
       "2                                        Ramona CA   \n",
       "3                                             None   \n",
       "4                                        Louisiana   \n",
       "5    Nancy Pelosi's Fabulous San Franshithole USA.   \n",
       "6                                     out 'n about   \n",
       "7                                        Austin AR   \n",
       "8                                    San Francisco   \n",
       "9                                           NJ USA   \n",
       "10                                            None   \n",
       "11                               Massachusetts USA   \n",
       "12                             Sdost-Wisconsin USA   \n",
       "13                                            None   \n",
       "14                                            None   \n",
       "15                               BurlingtonOregon    \n",
       "16                                       Tustin CA   \n",
       "17                                            None   \n",
       "18                                      Phoenix AZ   \n",
       "19                                            None   \n",
       "20                     White Rock British Columbia   \n",
       "21                                             USA   \n",
       "22                                            None   \n",
       "23                                   Washington DC   \n",
       "24                                            None   \n",
       "25                                            None   \n",
       "26                                      Seattle WA   \n",
       "27                                   United States   \n",
       "28                                            None   \n",
       "29                                       Austin AR   \n",
       "..                                             ...   \n",
       "473                                  Washington DC   \n",
       "474                                    New York NY   \n",
       "475                         England United Kingdom   \n",
       "476                               Inside your mind   \n",
       "477                                  Ola'a Hawai'i   \n",
       "478                                   New York USA   \n",
       "479                                   Planet Earth   \n",
       "480                                           None   \n",
       "481                                             AZ   \n",
       "482                                   connecticut.   \n",
       "483                                   Cleveland OH   \n",
       "484                                     Conover NC   \n",
       "485                                      Austin TX   \n",
       "486                                           None   \n",
       "487                                           None   \n",
       "488                                 Lincolnwood IL   \n",
       "489                                           None   \n",
       "490                                            USA   \n",
       "491                                           None   \n",
       "492                                           None   \n",
       "493                        Post-Industrial Britain   \n",
       "494                                  United States   \n",
       "495                                           None   \n",
       "496                                           None   \n",
       "497                                           None   \n",
       "498                                           None   \n",
       "499                                           None   \n",
       "500                                 Springfield VA   \n",
       "501                                Blissfull Logic   \n",
       "502                                           None   \n",
       "\n",
       "                                                  text   sentiment  \n",
       "0                      please dont loose the influence    negative  \n",
       "1    agree he was deserving of a purple heart but n...    positive  \n",
       "2    it easy mccain didnt want there what would wan...    positive  \n",
       "3           shhh youll burst her bubble lol im sure sh    positive  \n",
       "4    it would say hes respecting mccains wisheshe t...     neutral  \n",
       "5    cat sometimes we get it right sometimes we don...    negative  \n",
       "6    cat 2008 johnmccain is "
      ]
     },
     "execution_count": 660,
     "metadata": {},
     "output_type": "execute_result"
    },
    {
     "data": {
      "text/html": [
       "<b>limit_output extension: Maximum message size of 10000 exceeded with 15663 characters</b>"
      ]
     },
     "metadata": {},
     "output_type": "display_data"
    }
   ],
   "source": [
    "tagged"
   ]
  },
  {
   "cell_type": "code",
   "execution_count": 661,
   "metadata": {
    "hidden": true
   },
   "outputs": [],
   "source": [
    "nan_idx = tagged[list(map(lambda x: type(x) is np.float, list(tagged['text'])))].index"
   ]
  },
  {
   "cell_type": "code",
   "execution_count": 662,
   "metadata": {
    "hidden": true
   },
   "outputs": [],
   "source": [
    "tagged = tagged.drop(tagged.index[nan_idx.values])"
   ]
  },
  {
   "cell_type": "code",
   "execution_count": 663,
   "metadata": {
    "hidden": true
   },
   "outputs": [],
   "source": [
    "tagged = tagged.dropna(axis=0)"
   ]
  },
  {
   "cell_type": "code",
   "execution_count": 664,
   "metadata": {
    "hidden": true
   },
   "outputs": [],
   "source": [
    "tagged.to_csv('debug.csv', sep=',')"
   ]
  },
  {
   "cell_type": "code",
   "execution_count": 665,
   "metadata": {
    "hidden": true
   },
   "outputs": [
    {
     "name": "stdout",
     "output_type": "stream",
     "text": [
      "irrelevant 136\n",
      "samples: ...\n",
      "\n",
      "7     jkopp i thought specifically did not want pres...\n",
      "9              that hes not a phony like you ms brazile\n",
      "12                 mb u should water it once in a while\n",
      "13    cry me a river of those crocodile tears your p...\n",
      "29                 schwartz70 jkopp you can support som\n",
      "36    i urge my fellow governors to lower flags in h...\n",
      "42    kompromat lindsey what felony is it or just ne...\n",
      "50                                    he served himself\n",
      "55    in memory of the vietnam war hr299 for the sai...\n",
      "59    cat what does it say about your american icon ...\n",
      "61    so i have a story in december of 2003 my cousi...\n",
      "63    was a tireless advocate for americas values an...\n",
      "66    greer did you attend seth richs funeral or did...\n",
      "68                                        reform gov an\n",
      "70                       come on how do you expect to h\n",
      "73                      will you be doing it in russian\n",
      "74                 harbison and shes running for office\n",
      "77    lindsey graham was turned during his 2018 1st ...\n",
      "78                  crocodile tears as my dad would say\n",
      "79      insc spork if there is any truth to this i cann\n",
      "Name: text, dtype: object\n",
      ".....\n",
      "\n",
      "neutral 91\n",
      "samples: ...\n",
      "\n",
      "4      it would say hes respecting mccains wisheshe t...\n",
      "10     johnmccain asked him not to attend remember if...\n",
      "19     maybe now we dont think it was a big deal but ...\n",
      "20     at reagans funeral thatcher sat next to gorbac...\n",
      "24     mccain publicly asked that he not attend potus...\n",
      "25               youre such a disgrace to america hilary\n",
      "34     when received the steele dossier and saw manaf...\n",
      "35     i wasnt going to do this but the media and nev...\n",
      "39     our flag is at halfstaff honoring a veteran li...\n",
      "46     johnmccain never missed a chance to stab someo...\n",
      "47     followthewhiterabbit qanon greatawakening spyg...\n",
      "60     taibbi why did johnmccain continue to support ...\n",
      "72     rest in peace mr mccain hero soldier johnmccai...\n",
      "76     damnit rojo where the hell were you when assho...\n",
      "80     i thought i was the only one to feel he is bei...\n",
      "81     final thought on johnmccain see all the revere...\n",
      "84     nothing will erase your fawning over for last ...\n",
      "86                   the white house honoring johnmccain\n",
      "97         can you believe this fckery johnmccain resist\n",
      "102    john mccain said he didnt want president trump...\n",
      "Name: text, dtype: object\n",
      ".....\n",
      "\n",
      "positive 156\n",
      "samples: ...\n",
      "\n",
      "1     agree he was deserving of a purple heart but n...\n",
      "2     it easy mccain didnt want there what would wan...\n",
      "3            shhh youll burst her bubble lol im sure sh\n",
      "8     the best way to honor legacy and apparently hi...\n",
      "14    the best way you can honor your friend is to s...\n",
      "15    very lovely tribute to by do you really want t...\n",
      "18    now cancelling the super bowl visit because th...\n",
      "22                                          wow justwow\n",
      "26    girl please you were never a democrat nice try...\n",
      "27    that your party has gone through great lengths...\n",
      "28    im old enough to remember when lindseygraham w...\n",
      "30    thank you littlejerk would be proud sorry for ...\n",
      "32    i am laughing at all the angry replies from tr...\n",
      "37    thank you senator john mccain for being a true...\n",
      "40    sincere question how can republican senators s...\n",
      "43    what does it say trump is a great judge or cha...\n",
      "44    whyd this little fokker always look so god dam...\n",
      "45    when a person runs into a burning building and...\n",
      "53    if thats how you interpret it i see it more as...\n",
      "54    enough already many die and there are many heroes\n",
      "Name: text, dtype: object\n",
      ".....\n",
      "\n",
      "negative 117\n",
      "samples: ...\n",
      "\n",
      "0                       please dont loose the influence\n",
      "5     cat sometimes we get it right sometimes we don...\n",
      "6     cat 2008 johnmccain is mentally unfit to be pr...\n",
      "11    watch powerful words the grief in the country ...\n",
      "16    kelli ward really how utterly stupid do you ha...\n",
      "17    under pressure from american legion trump orde...\n",
      "21    ive written to calling for the new headquarter...\n",
      "23    the desk of in the senate chamber draped in a ...\n",
      "31    after failed even to pander to republicans suc...\n",
      "33    is says that johnmccain was bitter man who nev...\n",
      "38    you should read this up to four paragraphs tra...\n",
      "41    didnt affect my opinion s been a spineless rac...\n",
      "48    plora it says is respecting mccains wishes wha...\n",
      "49              i wish this was true but i am skeptical\n",
      "51    i can only imagine how awkward you must have f...\n",
      "52    unfortunately he doublecrossing stab johnmccai...\n",
      "56    someone got to amp made him lower the flag to ...\n",
      "57    cat cindymccain is not at all qualified to be ...\n",
      "58    james1 she dont know shit about our needsall t...\n",
      "62         im not crying youre crying goodbyejohnmccain\n",
      "Name: text, dtype: object\n",
      ".....\n",
      "\n"
     ]
    }
   ],
   "source": [
    "classes = ['irrelevant', 'neutral', 'positive', 'negative']\n",
    "for c in classes:\n",
    "    print(c, len(tagged[tagged['sentiment']==c]))\n",
    "    print('samples: ...\\n')\n",
    "    print(tagged['text'][tagged['sentiment']==c][:20])\n",
    "    print('.....\\n')"
   ]
  },
  {
   "cell_type": "markdown",
   "metadata": {},
   "source": [
    "### Model trials"
   ]
  },
  {
   "cell_type": "markdown",
   "metadata": {
    "heading_collapsed": true
   },
   "source": [
    "#### CountVector+Tfidf-Transformer+DTree"
   ]
  },
  {
   "cell_type": "code",
   "execution_count": 666,
   "metadata": {
    "hidden": true
   },
   "outputs": [],
   "source": [
    "from sklearn.linear_model import SGDClassifier\n",
    "from sklearn.feature_extraction.text import TfidfTransformer"
   ]
  },
  {
   "cell_type": "code",
   "execution_count": 667,
   "metadata": {
    "hidden": true,
    "scrolled": true
   },
   "outputs": [],
   "source": [
    "count_vect = CountVectorizer(max_df=0.95, min_df=2,\n",
    "                            stop_words='english')\n",
    "tfidf_vect = TfidfVectorizer(sublinear_tf=True, min_df=5, norm='l2', encoding='latin-1', ngram_range=(1,2), stop_words='english')\n",
    "\n",
    "tfidf = TfidfTransformer()\n",
    "clf = DecisionTreeClassifier(criterion = 'entropy', random_state = 100,\n",
    "                               max_depth=30, min_samples_leaf=2)"
   ]
  },
  {
   "cell_type": "code",
   "execution_count": 668,
   "metadata": {
    "hidden": true
   },
   "outputs": [
    {
     "data": {
      "text/plain": [
       "Pipeline(memory=None,\n",
       "     steps=[('vect', CountVectorizer(analyzer='word', binary=False, decode_error='strict',\n",
       "        dtype=<class 'numpy.int64'>, encoding='utf-8', input='content',\n",
       "        lowercase=True, max_df=0.95, max_features=None, min_df=2,\n",
       "        ngram_range=(1, 1), preprocessor=None, stop_words='english',\n",
       "       ...       min_weight_fraction_leaf=0.0, presort=False, random_state=100,\n",
       "            splitter='best'))])"
      ]
     },
     "execution_count": 668,
     "metadata": {},
     "output_type": "execute_result"
    }
   ],
   "source": [
    "text_clf = Pipeline([('vect', count_vect),\n",
    "                      ('tfidf', tfidf),\n",
    "                      ('clf', clf),])\n",
    "X_train, X_test, y_train, y_test = train_test_split(tagged['text'], tagged['sentiment'], test_size = 0.3, random_state = 100)\n",
    "text_clf.fit(X_train, y_train)"
   ]
  },
  {
   "cell_type": "code",
   "execution_count": 669,
   "metadata": {
    "hidden": true,
    "scrolled": true
   },
   "outputs": [],
   "source": [
    "y_pred = text_clf.predict(X_test)"
   ]
  },
  {
   "cell_type": "code",
   "execution_count": 670,
   "metadata": {
    "hidden": true
   },
   "outputs": [
    {
     "data": {
      "text/plain": [
       "0.42"
      ]
     },
     "execution_count": 670,
     "metadata": {},
     "output_type": "execute_result"
    }
   ],
   "source": [
    "accuracy_score(y_test, y_pred)"
   ]
  },
  {
   "cell_type": "code",
   "execution_count": 671,
   "metadata": {
    "hidden": true
   },
   "outputs": [
    {
     "data": {
      "text/plain": [
       "'tweet_tree.pdf'"
      ]
     },
     "execution_count": 671,
     "metadata": {},
     "output_type": "execute_result"
    }
   ],
   "source": [
    "dot_data= tree.export_graphviz(clf, out_file=None, feature_names=count_vect.get_feature_names())\n",
    "graph = graphviz.Source(dot_data)\n",
    "graph.render('tweet_tree')"
   ]
  },
  {
   "cell_type": "code",
   "execution_count": 672,
   "metadata": {
    "hidden": true
   },
   "outputs": [
    {
     "data": {
      "text/plain": [
       "<matplotlib.axes._subplots.AxesSubplot at 0x7fd0e0829cf8>"
      ]
     },
     "execution_count": 672,
     "metadata": {},
     "output_type": "execute_result"
    },
    {
     "data": {
      "image/png": "[encoded data removed]",
      "text/plain": [
       "<Figure size 432x288 with 2 Axes>"
      ]
     },
     "metadata": {},
     "output_type": "display_data"
    }
   ],
   "source": [
    "cm = confusion_matrix(y_test, y_pred)\n",
    "sns.heatmap(cm)"
   ]
  },
  {
   "cell_type": "markdown",
   "metadata": {
    "heading_collapsed": true
   },
   "source": [
    "#### TfidfVector+DTree"
   ]
  },
  {
   "cell_type": "code",
   "execution_count": 673,
   "metadata": {
    "hidden": true
   },
   "outputs": [
    {
     "data": {
      "text/plain": [
       "Pipeline(memory=None,\n",
       "     steps=[('tfidf', TfidfVectorizer(analyzer='word', binary=False, decode_error='strict',\n",
       "        dtype=<class 'numpy.int64'>, encoding='latin-1', input='content',\n",
       "        lowercase=True, max_df=1.0, max_features=None, min_df=5,\n",
       "        ngram_range=(1, 2), norm='l2', preprocessor=None, smooth_idf=True,...       min_weight_fraction_leaf=0.0, presort=False, random_state=100,\n",
       "            splitter='best'))])"
      ]
     },
     "execution_count": 673,
     "metadata": {},
     "output_type": "execute_result"
    }
   ],
   "source": [
    "from sklearn.feature_extraction.text import TfidfVectorizer\n",
    "\n",
    "tfidf = TfidfVectorizer(sublinear_tf=True, min_df=5, norm='l2', encoding='latin-1', ngram_range=(1,2), stop_words='english')\n",
    "\n",
    "text_clf2 = Pipeline([\n",
    "    ('tfidf', tfidf),\n",
    "    ('clf', clf)\n",
    "])\n",
    "text_clf2.fit(X_train, y_train)"
   ]
  },
  {
   "cell_type": "code",
   "execution_count": 674,
   "metadata": {
    "hidden": true
   },
   "outputs": [
    {
     "data": {
      "text/plain": [
       "<matplotlib.axes._subplots.AxesSubplot at 0x7fd0e07938d0>"
      ]
     },
     "execution_count": 674,
     "metadata": {},
     "output_type": "execute_result"
    },
    {
     "data": {
      "image/png": "[encoded data removed]",
      "text/plain": [
       "<Figure size 432x288 with 2 Axes>"
      ]
     },
     "metadata": {},
     "output_type": "display_data"
    }
   ],
   "source": [
    "cm = confusion_matrix(y_test, y_pred)\n",
    "sns.heatmap(cm)"
   ]
  },
  {
   "cell_type": "code",
   "execution_count": 675,
   "metadata": {
    "hidden": true
   },
   "outputs": [],
   "source": [
    "dot_data= tree.export_graphviz(clf, out_file=None, feature_names=tfidf.get_feature_names())\n",
    "graph = graphviz.Source(dot_data)"
   ]
  },
  {
   "cell_type": "code",
   "execution_count": 676,
   "metadata": {
    "hidden": true
   },
   "outputs": [
    {
     "data": {
      "text/plain": [
       "Pipeline(memory=None,\n",
       "     steps=[('tfidf', TfidfVectorizer(analyzer='word', binary=False, decode_error='strict',\n",
       "        dtype=<class 'numpy.int64'>, encoding='latin-1', input='content',\n",
       "        lowercase=True, max_df=1.0, max_features=None, min_df=5,\n",
       "        ngram_range=(1, 2), norm='l2', preprocessor=None, smooth_idf=True,...       min_weight_fraction_leaf=0.0, presort=False, random_state=100,\n",
       "            splitter='best'))])"
      ]
     },
     "execution_count": 676,
     "metadata": {},
     "output_type": "execute_result"
    }
   ],
   "source": [
    "text_clf2"
   ]
  },
  {
   "cell_type": "code",
   "execution_count": 677,
   "metadata": {
    "hidden": true
   },
   "outputs": [
    {
     "data": {
      "text/plain": [
       "'tweet_tree2.pdf'"
      ]
     },
     "execution_count": 677,
     "metadata": {},
     "output_type": "execute_result"
    }
   ],
   "source": [
    "graph.render(filename='tweet_tree2')"
   ]
  },
  {
   "cell_type": "code",
   "execution_count": 613,
   "metadata": {
    "hidden": true
   },
   "outputs": [],
   "source": [
    "y_pred = text_clf2.predict(X_test)"
   ]
  },
  {
   "cell_type": "code",
   "execution_count": 614,
   "metadata": {
    "hidden": true
   },
   "outputs": [
    {
     "data": {
      "text/plain": [
       "0.39869281045751637"
      ]
     },
     "execution_count": 614,
     "metadata": {},
     "output_type": "execute_result"
    }
   ],
   "source": [
    "accuracy_score(y_true=y_test, y_pred=y_pred)"
   ]
  },
  {
   "cell_type": "markdown",
   "metadata": {},
   "source": [
    "#### Tf-Hub+nnlm-128"
   ]
  },
  {
   "cell_type": "code",
   "execution_count": 678,
   "metadata": {},
   "outputs": [
    {
     "data": {
      "text/html": [
       "<div>\n",
       "<table border=\"1\" class=\"dataframe\">\n",
       "  <thead>\n",
       "    <tr style=\"text-align: right;\">\n",
       "      <th></th>\n",
       "      <th>text</th>\n",
       "      <th>sentiment</th>\n",
       "    </tr>\n",
       "  </thead>\n",
       "  <tbody>\n",
       "    <tr>\n",
       "      <th>0</th>\n",
       "      <td>please dont loose the influence</td>\n",
       "      <td>negative</td>\n",
       "    </tr>\n",
       "    <tr>\n",
       "      <th>1</th>\n",
       "      <td>agree he was deserving of a purple heart but n...</td>\n",
       "      <td>positive</td>\n",
       "    </tr>\n",
       "    <tr>\n",
       "      <th>2</th>\n",
       "      <td>it easy mccain didnt want there what would wan...</td>\n",
       "      <td>positive</td>\n",
       "    </tr>\n",
       "    <tr>\n",
       "      <th>3</th>\n",
       "      <td>shhh youll burst her bubble lol im sure sh</td>\n",
       "      <td>positive</td>\n",
       "    </tr>\n",
       "    <tr>\n",
       "      <th>4</th>\n",
       "      <td>it would say hes respecting mccains wisheshe t...</td>\n",
       "      <td>neutral</td>\n",
       "    </tr>\n",
       "    <tr>\n",
       "      <th>5</th>\n",
       "      <td>cat sometimes we get it right sometimes we don...</td>\n",
       "      <td>negative</td>\n",
       "    </tr>\n",
       "    <tr>\n",
       "      <th>6</th>\n",
       "      <td>cat 2008 johnmccain is mentally unfit to be pr...</td>\n",
       "      <td>negative</td>\n",
       "    </tr>\n",
       "    <tr>\n",
       "      <th>7</th>\n",
       "      <td>jkopp i thought specifically did not want pres...</td>\n",
       "      <td>irrelevant</td>\n",
       "    </tr>\n",
       "    <tr>\n",
       "      <th>8</th>\n",
       "      <td>the best way to honor legacy and apparently hi...</td>\n",
       "      <td>positive</td>\n",
       "    </tr>\n",
       "    <tr>\n",
       "      <th>9</th>\n",
       "      <td>that hes not a phony like you ms brazile</td>\n",
       "      <td>irrelevant</td>\n",
       "    </tr>\n",
       "    <tr>\n",
       "      <th>10</th>\n",
       "      <td>johnmccain asked him not to attend remember if...</td>\n",
       "      <td>neutral</td>\n",
       "    </tr>\n",
       "    <tr>\n",
       "      <th>11</th>\n",
       "      <td>watch powerful words the grief in the country ...</td>\n",
       "      <td>negative</td>\n",
       "    </tr>\n",
       "    <tr>\n",
       "      <th>12</th>\n",
       "      <td>mb u should water it once in a while</td>\n",
       "      <td>irrelevant</td>\n",
       "    </tr>\n",
       "    <tr>\n",
       "      <th>13</th>\n",
       "      <td>cry me a river of those crocodile tears your p...</td>\n",
       "      <td>irrelevant</td>\n",
       "    </tr>\n",
       "    <tr>\n",
       "      <th>14</th>\n",
       "      <td>the best way you can honor your friend is to s...</td>\n",
       "      <td>positive</td>\n",
       "    </tr>\n",
       "    <tr>\n",
       "      <th>15</th>\n",
       "      <td>very lovely tribute to by do you really want t...</td>\n",
       "      <td>positive</td>\n",
       "    </tr>\n",
       "    <tr>\n",
       "      <th>16</th>\n",
       "      <td>kelli ward really how utterly stupid do you ha...</td>\n",
       "      <td>negative</td>\n",
       "    </tr>\n",
       "    <tr>\n",
       "      <th>17</th>\n",
       "      <td>under pressure from american legion trump orde...</td>\n",
       "      <td>negative</td>\n",
       "    </tr>\n",
       "    <tr>\n",
       "      <th>18</th>\n",
       "      <td>now cancelling the super bowl visit because th...</td>\n",
       "      <td>positive</td>\n",
       "    </tr>\n",
       "    <tr>\n",
       "      <th>19</th>\n",
       "      <td>maybe now we dont think it was a big deal but ...</td>\n",
       "      <td>neutral</td>\n",
       "    </tr>\n",
       "    <tr>\n",
       "      <th>20</th>\n",
       "      <td>at reagans funeral thatcher sat next to gorbac...</td>\n",
       "      <td>neutral</td>\n",
       "    </tr>\n",
       "    <tr>\n",
       "      <th>21</th>\n",
       "      <td>ive written to calling for the new headquarter...</td>\n",
       "      <td>negative</td>\n",
       "    </tr>\n",
       "    <tr>\n",
       "      <th>22</th>\n",
       "      <td>wow justwow</td>\n",
       "      <td>positive</td>\n",
       "    </tr>\n",
       "    <tr>\n",
       "      <th>23</th>\n",
       "      <td>the desk of in the senate chamber draped in a ...</td>\n",
       "      <td>negative</td>\n",
       "    </tr>\n",
       "    <tr>\n",
       "      <th>24</th>\n",
       "      <td>mccain publicly asked that he not attend potus...</td>\n",
       "      <td>neutral</td>\n",
       "    </tr>\n",
       "    <tr>\n",
       "      <th>25</th>\n",
       "      <td>youre such a disgrace to america hilary</td>\n",
       "      <td>neutral</td>\n",
       "    </tr>\n",
       "    <tr>\n",
       "      <th>26</th>\n",
       "      <td>girl please you were never a democrat nice try...</td>\n",
       "      <td>positive</td>\n",
       "    </tr>\n",
       "    <tr>\n",
       "      <th>27</th>\n",
       "      <td>that your party has gone through great lengths...</td>\n",
       "      <td>positive</td>\n",
       "    </tr>\n",
       "    <tr>\n",
       "      <th>28</th>\n",
       "      <td>im old enough to remember when lindseygraham w...</td>\n",
       "      <td>positive</td>\n",
       "    </tr>\n",
       "    <tr>\n",
       "      <th>29</th>\n",
       "      <td>schwartz70 jkopp you can support som</td>\n",
       "      <td>irrelevant</td>\n",
       "    </tr>\n",
       "    <tr>\n",
       "      <th>...</th>\n",
       "      <td>...</td>\n",
       "      <td>...</td>\n",
       "    </tr>\n",
       "    <tr>\n",
       "      <th>473</th>\n",
       "      <td>on to those who are striving as a young person...</td>\n",
       "      <td>negative</td>\n",
       "    </tr>\n",
       "    <tr>\n",
       "      <th>474</th>\n",
       "      <td>they praise this dude but bash trump spare me</td>\n",
       "      <td>irrelevant</td>\n",
       "    </tr>\n",
       "    <tr>\n",
       "      <th>475</th>\n",
       "      <td>sending you all love and prayers of strength a...</td>\n",
       "      <td>positive</td>\n",
       "    </tr>\n",
       "    <tr>\n",
       "      <th>476</th>\n",
       "      <td>because the guy who is supposed to do it is be...</td>\n",
       "      <td>irrelevant</td>\n",
       "    </tr>\n",
       "    <tr>\n",
       "      <th>477</th>\n",
       "      <td>thewife to be fair i ate french toast for brea...</td>\n",
       "      <td>positive</td>\n",
       "    </tr>\n",
       "    <tr>\n",
       "      <th>478</th>\n",
       "      <td>stop being a hypocrite</td>\n",
       "      <td>irrelevant</td>\n",
       "    </tr>\n",
       "    <tr>\n",
       "      <th>479</th>\n",
       "      <td>counter offer instead of rejecting the story o...</td>\n",
       "      <td>irrelevant</td>\n",
       "    </tr>\n",
       "    <tr>\n",
       "      <th>480</th>\n",
       "      <td>rajavi his soul is happy senator john mccain w...</td>\n",
       "      <td>positive</td>\n",
       "    </tr>\n",
       "    <tr>\n",
       "      <th>481</th>\n",
       "      <td>he made a bad decision out of spitegt thats ju...</td>\n",
       "      <td>negative</td>\n",
       "    </tr>\n",
       "    <tr>\n",
       "      <th>482</th>\n",
       "      <td>this is what a vast majority of republicans in...</td>\n",
       "      <td>neutral</td>\n",
       "    </tr>\n",
       "    <tr>\n",
       "      <th>483</th>\n",
       "      <td>rogers trump tried to damage john mccains hero...</td>\n",
       "      <td>positive</td>\n",
       "    </tr>\n",
       "    <tr>\n",
       "      <th>484</th>\n",
       "      <td>it says hes respecting mccains wishes that he ...</td>\n",
       "      <td>neutral</td>\n",
       "    </tr>\n",
       "    <tr>\n",
       "      <th>485</th>\n",
       "      <td>whats the legacy that leaves behind dr brian s...</td>\n",
       "      <td>negative</td>\n",
       "    </tr>\n",
       "    <tr>\n",
       "      <th>486</th>\n",
       "      <td>are you sure its not too soon</td>\n",
       "      <td>positive</td>\n",
       "    </tr>\n",
       "    <tr>\n",
       "      <th>487</th>\n",
       "      <td>voice rajavi senator john mccain was a brave m...</td>\n",
       "      <td>positive</td>\n",
       "    </tr>\n",
       "    <tr>\n",
       "      <th>488</th>\n",
       "      <td>could someone tell if president trump ordered ...</td>\n",
       "      <td>neutral</td>\n",
       "    </tr>\n",
       "    <tr>\n",
       "      <th>489</th>\n",
       "      <td>a thoughtful suggestion and one that will drive</td>\n",
       "      <td>positive</td>\n",
       "    </tr>\n",
       "    <tr>\n",
       "      <th>490</th>\n",
       "      <td>beneath the dignity it requires hes intentiona...</td>\n",
       "      <td>irrelevant</td>\n",
       "    </tr>\n",
       "    <tr>\n",
       "      <th>491</th>\n",
       "      <td>tfw the is subtweeting cheeto von tweeto</td>\n",
       "      <td>irrelevant</td>\n",
       "    </tr>\n",
       "    <tr>\n",
       "      <th>492</th>\n",
       "      <td>petty very petty the selfinflicted wounds this...</td>\n",
       "      <td>positive</td>\n",
       "    </tr>\n",
       "    <tr>\n",
       "      <th>493</th>\n",
       "      <td>if john mccain is a hero the word is bankrupt ...</td>\n",
       "      <td>neutral</td>\n",
       "    </tr>\n",
       "    <tr>\n",
       "      <th>494</th>\n",
       "      <td>you had a sign out in honor of yet youve calle...</td>\n",
       "      <td>negative</td>\n",
       "    </tr>\n",
       "    <tr>\n",
       "      <th>495</th>\n",
       "      <td>noroz rajavi he is a memorable friend for the ...</td>\n",
       "      <td>positive</td>\n",
       "    </tr>\n",
       "    <tr>\n",
       "      <th>496</th>\n",
       "      <td>and you have done so much for mental health ad...</td>\n",
       "      <td>positive</td>\n",
       "    </tr>\n",
       "    <tr>\n",
       "      <th>497</th>\n",
       "      <td>country first johnmccain countryfirst</td>\n",
       "      <td>positive</td>\n",
       "    </tr>\n",
       "    <tr>\n",
       "      <th>498</th>\n",
       "      <td>sure didnt like him when he ran for president ...</td>\n",
       "      <td>positive</td>\n",
       "    </tr>\n",
       "    <tr>\n",
       "      <th>499</th>\n",
       "      <td>lets prove a point with a hypothetical questio...</td>\n",
       "      <td>neutral</td>\n",
       "    </tr>\n",
       "    <tr>\n",
       "      <th>500</th>\n",
       "      <td>with the brain cancer removed when did it recu...</td>\n",
       "      <td>irrelevant</td>\n",
       "    </tr>\n",
       "    <tr>\n",
       "      <th>501</th>\n",
       "      <td>hedges</td>\n",
       "      <td>irrelevant</td>\n",
       "    </tr>\n",
       "    <tr>\n",
       "      <th>502</th>\n",
       "      <td>honor him by being like him</td>\n",
       "      <td>irrelevant</td>\n",
       "    </tr>\n",
       "  </tbody>\n",
       "</table>\n",
       "<p>500 rows × 2 columns</p>\n",
       "</div>"
      ],
      "text/plain": [
       "                                                  text   sentiment\n",
       "0                      please dont loose the influence    negative\n",
       "1    agree he was deserving of a purple heart but n...    positive\n",
       "2    it easy mccain didnt want there what would wan...    positive\n",
       "3           shhh youll burst her bubble lol im sure sh    positive\n",
       "4    it would say hes respecting mccains wisheshe t...     neutral\n",
       "5    cat sometimes we get it right sometimes we don...    negative\n",
       "6    cat 2008 johnmccain is mentally unfit to be pr...    negative\n",
       "7    jkopp i thought specifically did not want pres...  irrelevant\n",
       "8    the best way to honor legacy and apparently hi...    positive\n",
       "9             that hes not a phony like you ms brazile  irrelevant\n",
       "10   johnmccain asked him not to attend remember if...     neutral\n",
       "11   watch powerful words the grief in the country ...    negative\n",
       "12                mb u should water it once in a while  irrelevant\n",
       "13   cry me a river of those crocodile tears your p...  irrelevant\n",
       "14   the best way you can honor your friend is to s...    positive\n",
       "15   very lovely tribute to by do you really want t...    positive\n",
       "16   kelli ward really how utterly stupid do you ha...    negative\n",
       "17   under pressure from american legion trump orde...    negative\n",
       "18   now cancelling the super bowl visit because th...    positive\n",
       "19   maybe now we dont think it was a big deal but ...     neutral\n",
       "20   at reagans funeral thatcher sat next to gorbac...     neutral\n",
       "21   ive written to calling for the new headquarter...    negative\n",
       "22                                         wow justwow    positive\n",
       "23   the desk of in the senate chamber draped in a ...    negative\n",
       "24   mccain publicly asked that he not attend potus...     neutral\n",
       "25             youre such a disgrace to america hilary     neutral\n",
       "26   girl please you were never a democrat nice try...    positive\n",
       "27   that your party has gone through great lengths...    positive\n",
       "28   im old enough to remember when lindseygraham w...    positive\n",
       "29                schwartz70 jkopp you can support som  irrelevant\n",
       "..                                                 ...         ...\n",
       "473  on to those who are striving as a young person...    negative\n",
       "474      they praise this dude but bash trump spare me  irrelevant\n",
       "475  sending you all love and prayers of strength a...    positive\n",
       "476  because the guy who is supposed to do it is be...  irrelevant\n",
       "477  thewife to be fair i ate french toast for brea...    positive\n",
       "478                             stop being a hypocrite  irrelevant\n",
       "479  counter offer instead of rejecting the story o...  irrelevant\n",
       "480  rajavi his soul is happy senator john mccain w...    positive\n",
       "481  he made a bad decision out of spitegt thats ju...    negative\n",
       "482  this is what a vast majority of republicans in...     neutral\n",
       "483  rogers trump tried to damage john mccains hero...    positive\n",
       "484  it says hes respecting mccains wishes that he ...     neutral\n",
       "485  whats the legacy that leaves behind dr brian s...    negative\n",
       "486                      are you sure its not too soon    positive\n",
       "487  voice rajavi senator john mccain was a brave m...    positive\n",
       "488  could someone tell if president trump ordered ...     neutral\n",
       "489    a thoughtful suggestion and one that will drive    positive\n",
       "490  beneath the dignity it requires hes intentiona...  irrelevant\n",
       "491           tfw the is subtweeting cheeto von tweeto  irrelevant\n",
       "492  petty very petty the selfinflicted wounds this...    positive\n",
       "493  if john mccain is a hero the word is bankrupt ...     neutral\n",
       "494  you had a sign out in honor of yet youve calle...    negative\n",
       "495  noroz rajavi he is a memorable friend for the ...    positive\n",
       "496  and you have done so much for mental health ad...    positive\n",
       "497              country first johnmccain countryfirst    positive\n",
       "498  sure didnt like him when he ran for president ...    positive\n",
       "499  lets prove a point with a hypothetical questio...     neutral\n",
       "500  with the brain cancer removed when did it recu...  irrelevant\n",
       "501                                             hedges  irrelevant\n",
       "502                        honor him by being like him  irrelevant\n",
       "\n",
       "[500 rows x 2 columns]"
      ]
     },
     "execution_count": 678,
     "metadata": {},
     "output_type": "execute_result"
    }
   ],
   "source": [
    "train_df = tagged[['text', 'sentiment']]\n",
    "train_df"
   ]
  },
  {
   "cell_type": "code",
   "execution_count": null,
   "metadata": {},
   "outputs": [],
   "source": [
    "train_input_fn = tf.estimator.inputs.pandas_input_fn(\n",
    "    train_df, train_df[\"polarity\"], num_epochs=None, shuffle=True)\n",
    "\n",
    "predict_train_input_fn = tf.estimator.inputs.pandas_input_fn(\n",
    "    train_df, train_df[\"polarity\"], shuffle=False)\n",
    "\n",
    "predict_test_input_fn = tf.estimator.inputs.pandas_input_fn(\n",
    "    test_df, test_df[\"polarity\"], shuffle=False)\n",
    "\n",
    "train_input_fn"
   ]
  },
  {
   "cell_type": "code",
   "execution_count": null,
   "metadata": {},
   "outputs": [],
   "source": [
    "def train_and_evaluate_with_module(hub_module, train_module=False):\n",
    "  embedded_text_feature_column = hub.text_embedding_column(\n",
    "      key=\"sentence\", module_spec=hub_module, trainable=train_module)\n",
    "\n",
    "  estimator = tf.estimator.DNNClassifier(\n",
    "      hidden_units=[500, 100],\n",
    "      feature_columns=[embedded_text_feature_column],\n",
    "      n_classes=4,\n",
    "      optimizer=tf.train.AdagradOptimizer(learning_rate=0.003))\n",
    "\n",
    "  estimator.train(input_fn=train_input_fn, steps=1000)\n",
    "\n",
    "  train_eval_result = estimator.evaluate(input_fn=predict_train_input_fn)\n",
    "  test_eval_result = estimator.evaluate(input_fn=predict_test_input_fn)\n",
    "\n",
    "  training_set_accuracy = train_eval_result[\"accuracy\"]\n",
    "  test_set_accuracy = test_eval_result[\"accuracy\"]\n",
    "\n",
    "  return {\n",
    "      \"Training accuracy\": training_set_accuracy,\n",
    "      \"Test accuracy\": test_set_accuracy\n",
    "  }\n",
    "\n",
    "\n",
    "results = {}\n",
    "results[\"nnlm-en-dim128\"] = train_and_evaluate_with_module(\n",
    "    \"https://tfhub.dev/google/nnlm-en-dim128/1\")\n",
    "results[\"nnlm-en-dim128-with-module-training\"] = train_and_evaluate_with_module(\n",
    "    \"https://tfhub.dev/google/nnlm-en-dim128/1\", True)\n",
    "results[\"random-nnlm-en-dim128\"] = train_and_evaluate_with_module(\n",
    "    \"https://tfhub.dev/google/random-nnlm-en-dim128/1\")\n",
    "results[\"random-nnlm-en-dim128-with-module-training\"] = train_and_evaluate_with_module(\n",
    "    \"https://tfhub.dev/google/random-nnlm-en-dim128/1\", True)"
   ]
  }
 ],
 "metadata": {
  "kernelspec": {
   "display_name": "Python 3",
   "language": "python",
   "name": "python3"
  },
  "language_info": {
   "codemirror_mode": {
    "name": "ipython",
    "version": 3
   },
   "file_extension": ".py",
   "mimetype": "text/x-python",
   "name": "python",
   "nbconvert_exporter": "python",
   "pygments_lexer": "ipython3",
   "version": "3.6.6"
  },
  "latex_envs": {
   "LaTeX_envs_menu_present": true,
   "autoclose": false,
   "autocomplete": true,
   "bibliofile": "biblio.bib",
   "cite_by": "apalike",
   "current_citInitial": 1,
   "eqLabelWithNumbers": true,
   "eqNumInitial": 1,
   "hotkeys": {
    "equation": "Ctrl-E",
    "itemize": "Ctrl-I"
   },
   "labels_anchors": false,
   "latex_user_defs": false,
   "report_style_numbering": false,
   "user_envs_cfg": false
  },
  "varInspector": {
   "cols": {
    "lenName": 16,
    "lenType": 16,
    "lenVar": 40
   },
   "kernels_config": {
    "python": {
     "delete_cmd_postfix": "",
     "delete_cmd_prefix": "del ",
     "library": "var_list.py",
     "varRefreshCmd": "print(var_dic_list())"
    },
    "r": {
     "delete_cmd_postfix": ") ",
     "delete_cmd_prefix": "rm(",
     "library": "var_list.r",
     "varRefreshCmd": "cat(var_dic_list()) "
    }
   },
   "types_to_exclude": [
    "module",
    "function",
    "builtin_function_or_method",
    "instance",
    "_Feature"
   ],
   "window_display": false
  }
 },
 "nbformat": 4,
 "nbformat_minor": 2
}
