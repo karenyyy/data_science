{
 "cells": [
  {
   "cell_type": "code",
   "execution_count": 2,
   "metadata": {},
   "outputs": [],
   "source": [
    "from datascience import *"
   ]
  },
  {
   "cell_type": "code",
   "execution_count": 9,
   "metadata": {},
   "outputs": [],
   "source": [
    "tweets = Table.read_table('text_2018-08-28_15-56-07.csv', sep='\\t')"
   ]
  },
  {
   "cell_type": "code",
   "execution_count": 6,
   "metadata": {},
   "outputs": [
    {
     "data": {
      "text/html": [
       "<table border=\"1\" class=\"dataframe\">\n",
       "    <thead>\n",
       "        <tr>\n",
       "            <th>text</th>\n",
       "        </tr>\n",
       "    </thead>\n",
       "    <tbody>\n",
       "        <tr>\n",
       "            <td>@LindseyGrahamSC please dont loose the @SenJohnMcCain in ...</td>\n",
       "        </tr>\n",
       "        <tr>\n",
       "            <td>RT @selbalp: Agree! He was deserving of a Purple Heart b ...</td>\n",
       "        </tr>\n",
       "        <tr>\n",
       "            <td>It easy McCain didnt want @POTUS there. What would want  ...</td>\n",
       "        </tr>\n",
       "        <tr>\n",
       "            <td>@Scifiscreen @patmcollis @Channel4News @realDonaldTrump  ...</td>\n",
       "        </tr>\n",
       "        <tr>\n",
       "            <td>RT @AnnaApp91838450: It Would Say He's Respecting McCain ...</td>\n",
       "        </tr>\n",
       "        <tr>\n",
       "            <td>RT @Jali_Cat: Sometimes we get it right sometimes we don ...</td>\n",
       "        </tr>\n",
       "        <tr>\n",
       "            <td>RT @Jali_Cat: @HuffPost 2008: #JohnMcCain is mentally un ...</td>\n",
       "        </tr>\n",
       "        <tr>\n",
       "            <td>RT @P_J_Kopp: @DrEtiquette @RedPillBlackMan I thought @S ...</td>\n",
       "        </tr>\n",
       "        <tr>\n",
       "            <td>RT @joncoopertweets: The best way to honor @SenJohnMcCai ...</td>\n",
       "        </tr>\n",
       "        <tr>\n",
       "            <td>That hes not a phony like you Ms Brazile !!                 </td>\n",
       "        </tr>\n",
       "    </tbody>\n",
       "</table>\n",
       "<p>... (990 rows omitted)</p>"
      ],
      "text/plain": [
       "text\n",
       "@LindseyGrahamSC please dont loose the @SenJohnMcCain in ...\n",
       "RT @selbalp: Agree! He was deserving of a Purple Heart b ...\n",
       "It easy McCain didnt want @POTUS there. What would want  ...\n",
       "@Scifiscreen @patmcollis @Channel4News @realDonaldTrump  ...\n",
       "RT @AnnaApp91838450: It Would Say He's Respecting McCain ...\n",
       "RT @Jali_Cat: Sometimes we get it right sometimes we don ...\n",
       "RT @Jali_Cat: @HuffPost 2008: #JohnMcCain is mentally un ...\n",
       "RT @P_J_Kopp: @DrEtiquette @RedPillBlackMan I thought @S ...\n",
       "RT @joncoopertweets: The best way to honor @SenJohnMcCai ...\n",
       "That hes not a phony like you Ms Brazile !!\n",
       "... (990 rows omitted)"
      ]
     },
     "execution_count": 6,
     "metadata": {},
     "output_type": "execute_result"
    }
   ],
   "source": [
    "tweets"
   ]
  },
  {
   "cell_type": "code",
   "execution_count": 4,
   "metadata": {
    "collapsed": true
   },
   "outputs": [],
   "source": [
    "import pandas as pd"
   ]
  },
  {
   "cell_type": "code",
   "execution_count": 6,
   "metadata": {},
   "outputs": [],
   "source": [
    "tweets = pd.DataFrame.from_csv('my_tweets_2017-09-06_14-44-03.csv', sep='\\t')"
   ]
  },
  {
   "cell_type": "code",
   "execution_count": 7,
   "metadata": {},
   "outputs": [
    {
     "data": {
      "text/html": [
       "<div>\n",
       "<style>\n",
       "    .dataframe thead tr:only-child th {\n",
       "        text-align: right;\n",
       "    }\n",
       "\n",
       "    .dataframe thead th {\n",
       "        text-align: left;\n",
       "    }\n",
       "\n",
       "    .dataframe tbody tr th {\n",
       "        vertical-align: top;\n",
       "    }\n",
       "</style>\n",
       "<table border=\"1\" class=\"dataframe\">\n",
       "  <thead>\n",
       "    <tr style=\"text-align: right;\">\n",
       "      <th></th>\n",
       "      <th>user_name</th>\n",
       "      <th>time</th>\n",
       "      <th>location</th>\n",
       "      <th>text</th>\n",
       "    </tr>\n",
       "    <tr>\n",
       "      <th>user_id</th>\n",
       "      <th></th>\n",
       "      <th></th>\n",
       "      <th></th>\n",
       "      <th></th>\n",
       "    </tr>\n",
       "  </thead>\n",
       "  <tbody>\n",
       "    <tr>\n",
       "      <th>904354157657776133</th>\n",
       "      <td>Alexandra Ramirez</td>\n",
       "      <td>Wed Sep 06 18:44:03 +0000 2017</td>\n",
       "      <td>NaN</td>\n",
       "      <td>nude nba naked free pics https://t.co/KFj1IIvbcI</td>\n",
       "    </tr>\n",
       "    <tr>\n",
       "      <th>4756631938</th>\n",
       "      <td>CheapHealthyDinners</td>\n",
       "      <td>Wed Sep 06 18:44:02 +0000 2017</td>\n",
       "      <td>Cheektowaga, NY</td>\n",
       "      <td>Green Bean Curry https://t.co/410WnfT9ee https...</td>\n",
       "    </tr>\n",
       "    <tr>\n",
       "      <th>3070594091</th>\n",
       "      <td>الكسيس</td>\n",
       "      <td>Wed Sep 06 18:44:04 +0000 2017</td>\n",
       "      <td>Gotham City</td>\n",
       "      <td>🙌🏾🙌🏾 https://t.co/PZ02sARmxF</td>\n",
       "    </tr>\n",
       "    <tr>\n",
       "      <th>2484655192</th>\n",
       "      <td>Barli</td>\n",
       "      <td>Wed Sep 06 18:44:04 +0000 2017</td>\n",
       "      <td>614</td>\n",
       "      <td>Talk that shit IT https://t.co/SssvqdiYds</td>\n",
       "    </tr>\n",
       "    <tr>\n",
       "      <th>3650217854</th>\n",
       "      <td>Respect My Blog</td>\n",
       "      <td>Wed Sep 06 18:44:05 +0000 2017</td>\n",
       "      <td>NaN</td>\n",
       "      <td>Isaiah Thomas: ‘Me on the Cavs Is a Match Made...</td>\n",
       "    </tr>\n",
       "  </tbody>\n",
       "</table>\n",
       "</div>"
      ],
      "text/plain": [
       "                              user_name                            time  \\\n",
       "user_id                                                                   \n",
       "904354157657776133    Alexandra Ramirez  Wed Sep 06 18:44:03 +0000 2017   \n",
       "4756631938          CheapHealthyDinners  Wed Sep 06 18:44:02 +0000 2017   \n",
       "3070594091                       الكسيس  Wed Sep 06 18:44:04 +0000 2017   \n",
       "2484655192                        Barli  Wed Sep 06 18:44:04 +0000 2017   \n",
       "3650217854              Respect My Blog  Wed Sep 06 18:44:05 +0000 2017   \n",
       "\n",
       "                           location  \\\n",
       "user_id                               \n",
       "904354157657776133              NaN   \n",
       "4756631938          Cheektowaga, NY   \n",
       "3070594091              Gotham City   \n",
       "2484655192                     614    \n",
       "3650217854                      NaN   \n",
       "\n",
       "                                                                 text  \n",
       "user_id                                                                \n",
       "904354157657776133   nude nba naked free pics https://t.co/KFj1IIvbcI  \n",
       "4756631938          Green Bean Curry https://t.co/410WnfT9ee https...  \n",
       "3070594091                               🙌🏾🙌🏾 https://t.co/PZ02sARmxF  \n",
       "2484655192                  Talk that shit IT https://t.co/SssvqdiYds  \n",
       "3650217854          Isaiah Thomas: ‘Me on the Cavs Is a Match Made...  "
      ]
     },
     "execution_count": 7,
     "metadata": {},
     "output_type": "execute_result"
    }
   ],
   "source": [
    "tweets.head()"
   ]
  },
  {
   "cell_type": "code",
   "execution_count": null,
   "metadata": {
    "collapsed": true
   },
   "outputs": [],
   "source": []
  }
 ],
 "metadata": {
  "kernelspec": {
   "display_name": "Python 3",
   "language": "python",
   "name": "python3"
  },
  "language_info": {
   "codemirror_mode": {
    "name": "ipython",
    "version": 3
   },
   "file_extension": ".py",
   "mimetype": "text/x-python",
   "name": "python",
   "nbconvert_exporter": "python",
   "pygments_lexer": "ipython3",
   "version": "3.5.2"
  },
  "latex_envs": {
   "LaTeX_envs_menu_present": true,
   "autoclose": false,
   "autocomplete": true,
   "bibliofile": "biblio.bib",
   "cite_by": "apalike",
   "current_citInitial": 1,
   "eqLabelWithNumbers": true,
   "eqNumInitial": 1,
   "hotkeys": {
    "equation": "Ctrl-E",
    "itemize": "Ctrl-I"
   },
   "labels_anchors": false,
   "latex_user_defs": false,
   "report_style_numbering": false,
   "user_envs_cfg": false
  }
 },
 "nbformat": 4,
 "nbformat_minor": 2
}
