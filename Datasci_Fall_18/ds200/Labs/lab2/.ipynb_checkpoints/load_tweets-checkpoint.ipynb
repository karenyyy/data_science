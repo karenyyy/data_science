{
 "cells": [
  {
   "cell_type": "code",
   "execution_count": 1,
   "metadata": {
    "collapsed": true
   },
   "outputs": [],
   "source": [
    "from datascience import *"
   ]
  },
  {
   "cell_type": "code",
   "execution_count": 8,
   "metadata": {},
   "outputs": [],
   "source": [
    "tweets = Table.read_table('my_tweets_2017-09-06_14-44-03.csv', sep='\\t')"
   ]
  },
  {
   "cell_type": "code",
   "execution_count": 9,
   "metadata": {},
   "outputs": [
    {
     "data": {
      "text/html": [
       "<table border=\"1\" class=\"dataframe\">\n",
       "    <thead>\n",
       "        <tr>\n",
       "            <th>user_id</th> <th>user_name</th> <th>time</th> <th>location</th> <th>text</th>\n",
       "        </tr>\n",
       "    </thead>\n",
       "    <tbody>\n",
       "        <tr>\n",
       "            <td>904354157657776133</td> <td>Alexandra Ramirez  </td> <td>Wed Sep 06 18:44:03 +0000 2017</td> <td>nan                         </td> <td>nude nba naked free pics https://t.co/KFj1IIvbcI            </td>\n",
       "        </tr>\n",
       "    </tbody>\n",
       "        <tr>\n",
       "            <td>4756631938        </td> <td>CheapHealthyDinners</td> <td>Wed Sep 06 18:44:02 +0000 2017</td> <td>Cheektowaga, NY             </td> <td>Green Bean Curry https://t.co/410WnfT9ee https://t.co/pp ...</td>\n",
       "        </tr>\n",
       "    </tbody>\n",
       "        <tr>\n",
       "            <td>3070594091        </td> <td>الكسيس             </td> <td>Wed Sep 06 18:44:04 +0000 2017</td> <td>Gotham City                 </td> <td>🙌🏾🙌🏾 https://t.co/PZ02sARmxF                                </td>\n",
       "        </tr>\n",
       "    </tbody>\n",
       "        <tr>\n",
       "            <td>2484655192        </td> <td>Barli              </td> <td>Wed Sep 06 18:44:04 +0000 2017</td> <td>614                         </td> <td>Talk that shit IT https://t.co/SssvqdiYds                   </td>\n",
       "        </tr>\n",
       "    </tbody>\n",
       "        <tr>\n",
       "            <td>3650217854        </td> <td>Respect My Blog    </td> <td>Wed Sep 06 18:44:05 +0000 2017</td> <td>nan                         </td> <td>Isaiah Thomas: ‘Me on the Cavs Is a Match Made in Heaven ...</td>\n",
       "        </tr>\n",
       "    </tbody>\n",
       "        <tr>\n",
       "            <td>4842614600        </td> <td>Roscoe Roy         </td> <td>Wed Sep 06 18:44:06 +0000 2017</td> <td>nan                         </td> <td>RT @NBATV: .@Bucks continue growth plan centered on Gian ...</td>\n",
       "        </tr>\n",
       "    </tbody>\n",
       "        <tr>\n",
       "            <td>55546877          </td> <td>Dmitry Planidin    </td> <td>Wed Sep 06 18:44:07 +0000 2017</td> <td>Volgograd, Russia           </td> <td>NBA watch at #EuroBasket2017: Pachulia vs ITA, 69-71 L ( ...</td>\n",
       "        </tr>\n",
       "    </tbody>\n",
       "        <tr>\n",
       "            <td>2170328889        </td> <td>⌚                  </td> <td>Wed Sep 06 18:44:07 +0000 2017</td> <td>Uganda                      </td> <td>RT @_mwes: That's no way to curry yourself considering t ...</td>\n",
       "        </tr>\n",
       "    </tbody>\n",
       "        <tr>\n",
       "            <td>747912187910324224</td> <td>THE GHOST          </td> <td>Wed Sep 06 18:44:07 +0000 2017</td> <td>Mia,Atl,Overtown,Carol City </td> <td>RT @NBA: #ADayWithThePacers \n",
       "\n",
       "@GRIII shows off the @Pace ...</td>\n",
       "        </tr>\n",
       "    </tbody>\n",
       "        <tr>\n",
       "            <td>33410854          </td> <td>Jermaine Spradley  </td> <td>Wed Sep 06 18:44:08 +0000 2017</td> <td>Wakanda                     </td> <td>Well reported piece right here. https://t.co/str5veoPUM     </td>\n",
       "        </tr>\n",
       "    </tbody>\n",
       "</table>\n",
       "<p>... (25 rows omitted)</p"
      ],
      "text/plain": [
       "user_id            | user_name           | time                           | location                     | text\n",
       "904354157657776133 | Alexandra Ramirez   | Wed Sep 06 18:44:03 +0000 2017 | nan                          | nude nba naked free pics https://t.co/KFj1IIvbcI\n",
       "4756631938         | CheapHealthyDinners | Wed Sep 06 18:44:02 +0000 2017 | Cheektowaga, NY              | Green Bean Curry https://t.co/410WnfT9ee https://t.co/pp ...\n",
       "3070594091         | الكسيس              | Wed Sep 06 18:44:04 +0000 2017 | Gotham City                  | 🙌🏾🙌🏾 https://t.co/PZ02sARmxF\n",
       "2484655192         | Barli               | Wed Sep 06 18:44:04 +0000 2017 | 614                          | Talk that shit IT https://t.co/SssvqdiYds\n",
       "3650217854         | Respect My Blog     | Wed Sep 06 18:44:05 +0000 2017 | nan                          | Isaiah Thomas: ‘Me on the Cavs Is a Match Made in Heaven ...\n",
       "4842614600         | Roscoe Roy          | Wed Sep 06 18:44:06 +0000 2017 | nan                          | RT @NBATV: .@Bucks continue growth plan centered on Gian ...\n",
       "55546877           | Dmitry Planidin     | Wed Sep 06 18:44:07 +0000 2017 | Volgograd, Russia            | NBA watch at #EuroBasket2017: Pachulia vs ITA, 69-71 L ( ...\n",
       "2170328889         | ⌚                   | Wed Sep 06 18:44:07 +0000 2017 | Uganda                       | RT @_mwes: That's no way to curry yourself considering t ...\n",
       "747912187910324224 | THE GHOST           | Wed Sep 06 18:44:07 +0000 2017 | Mia,Atl,Overtown,Carol City  | RT @NBA: #ADayWithThePacers \n",
       "\n",
       "@GRIII shows off the @Pace ...\n",
       "33410854           | Jermaine Spradley   | Wed Sep 06 18:44:08 +0000 2017 | Wakanda                      | Well reported piece right here. https://t.co/str5veoPUM\n",
       "... (25 rows omitted)"
      ]
     },
     "execution_count": 9,
     "metadata": {},
     "output_type": "execute_result"
    }
   ],
   "source": [
    "tweets"
   ]
  },
  {
   "cell_type": "code",
   "execution_count": 4,
   "metadata": {
    "collapsed": true
   },
   "outputs": [],
   "source": [
    "import pandas as pd"
   ]
  },
  {
   "cell_type": "code",
   "execution_count": 6,
   "metadata": {},
   "outputs": [],
   "source": [
    "tweets = pd.DataFrame.from_csv('my_tweets_2017-09-06_14-44-03.csv', sep='\\t')"
   ]
  },
  {
   "cell_type": "code",
   "execution_count": 7,
   "metadata": {},
   "outputs": [
    {
     "data": {
      "text/html": [
       "<div>\n",
       "<style>\n",
       "    .dataframe thead tr:only-child th {\n",
       "        text-align: right;\n",
       "    }\n",
       "\n",
       "    .dataframe thead th {\n",
       "        text-align: left;\n",
       "    }\n",
       "\n",
       "    .dataframe tbody tr th {\n",
       "        vertical-align: top;\n",
       "    }\n",
       "</style>\n",
       "<table border=\"1\" class=\"dataframe\">\n",
       "  <thead>\n",
       "    <tr style=\"text-align: right;\">\n",
       "      <th></th>\n",
       "      <th>user_name</th>\n",
       "      <th>time</th>\n",
       "      <th>location</th>\n",
       "      <th>text</th>\n",
       "    </tr>\n",
       "    <tr>\n",
       "      <th>user_id</th>\n",
       "      <th></th>\n",
       "      <th></th>\n",
       "      <th></th>\n",
       "      <th></th>\n",
       "    </tr>\n",
       "  </thead>\n",
       "  <tbody>\n",
       "    <tr>\n",
       "      <th>904354157657776133</th>\n",
       "      <td>Alexandra Ramirez</td>\n",
       "      <td>Wed Sep 06 18:44:03 +0000 2017</td>\n",
       "      <td>NaN</td>\n",
       "      <td>nude nba naked free pics https://t.co/KFj1IIvbcI</td>\n",
       "    </tr>\n",
       "    <tr>\n",
       "      <th>4756631938</th>\n",
       "      <td>CheapHealthyDinners</td>\n",
       "      <td>Wed Sep 06 18:44:02 +0000 2017</td>\n",
       "      <td>Cheektowaga, NY</td>\n",
       "      <td>Green Bean Curry https://t.co/410WnfT9ee https...</td>\n",
       "    </tr>\n",
       "    <tr>\n",
       "      <th>3070594091</th>\n",
       "      <td>الكسيس</td>\n",
       "      <td>Wed Sep 06 18:44:04 +0000 2017</td>\n",
       "      <td>Gotham City</td>\n",
       "      <td>🙌🏾🙌🏾 https://t.co/PZ02sARmxF</td>\n",
       "    </tr>\n",
       "    <tr>\n",
       "      <th>2484655192</th>\n",
       "      <td>Barli</td>\n",
       "      <td>Wed Sep 06 18:44:04 +0000 2017</td>\n",
       "      <td>614</td>\n",
       "      <td>Talk that shit IT https://t.co/SssvqdiYds</td>\n",
       "    </tr>\n",
       "    <tr>\n",
       "      <th>3650217854</th>\n",
       "      <td>Respect My Blog</td>\n",
       "      <td>Wed Sep 06 18:44:05 +0000 2017</td>\n",
       "      <td>NaN</td>\n",
       "      <td>Isaiah Thomas: ‘Me on the Cavs Is a Match Made...</td>\n",
       "    </tr>\n",
       "  </tbody>\n",
       "</table>\n",
       "</div>"
      ],
      "text/plain": [
       "                              user_name                            time  \\\n",
       "user_id                                                                   \n",
       "904354157657776133    Alexandra Ramirez  Wed Sep 06 18:44:03 +0000 2017   \n",
       "4756631938          CheapHealthyDinners  Wed Sep 06 18:44:02 +0000 2017   \n",
       "3070594091                       الكسيس  Wed Sep 06 18:44:04 +0000 2017   \n",
       "2484655192                        Barli  Wed Sep 06 18:44:04 +0000 2017   \n",
       "3650217854              Respect My Blog  Wed Sep 06 18:44:05 +0000 2017   \n",
       "\n",
       "                           location  \\\n",
       "user_id                               \n",
       "904354157657776133              NaN   \n",
       "4756631938          Cheektowaga, NY   \n",
       "3070594091              Gotham City   \n",
       "2484655192                     614    \n",
       "3650217854                      NaN   \n",
       "\n",
       "                                                                 text  \n",
       "user_id                                                                \n",
       "904354157657776133   nude nba naked free pics https://t.co/KFj1IIvbcI  \n",
       "4756631938          Green Bean Curry https://t.co/410WnfT9ee https...  \n",
       "3070594091                               🙌🏾🙌🏾 https://t.co/PZ02sARmxF  \n",
       "2484655192                  Talk that shit IT https://t.co/SssvqdiYds  \n",
       "3650217854          Isaiah Thomas: ‘Me on the Cavs Is a Match Made...  "
      ]
     },
     "execution_count": 7,
     "metadata": {},
     "output_type": "execute_result"
    }
   ],
   "source": [
    "tweets.head()"
   ]
  },
  {
   "cell_type": "code",
   "execution_count": null,
   "metadata": {
    "collapsed": true
   },
   "outputs": [],
   "source": []
  }
 ],
 "metadata": {
  "kernelspec": {
   "display_name": "Python 3",
   "language": "python",
   "name": "python3"
  },
  "language_info": {
   "codemirror_mode": {
    "name": "ipython",
    "version": 3
   },
   "file_extension": ".py",
   "mimetype": "text/x-python",
   "name": "python",
   "nbconvert_exporter": "python",
   "pygments_lexer": "ipython3",
   "version": "3.5.2"
  },
  "latex_envs": {
   "LaTeX_envs_menu_present": true,
   "autoclose": false,
   "autocomplete": true,
   "bibliofile": "biblio.bib",
   "cite_by": "apalike",
   "current_citInitial": 1,
   "eqLabelWithNumbers": true,
   "eqNumInitial": 1,
   "hotkeys": {
    "equation": "Ctrl-E",
    "itemize": "Ctrl-I"
   },
   "labels_anchors": false,
   "latex_user_defs": false,
   "report_style_numbering": false,
   "user_envs_cfg": false
  }
 },
 "nbformat": 4,
 "nbformat_minor": 2
}
