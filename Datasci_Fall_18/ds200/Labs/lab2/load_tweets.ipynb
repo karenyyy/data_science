{
 "cells": [
  {
   "cell_type": "code",
   "execution_count": 2,
   "metadata": {},
   "outputs": [],
   "source": [
    "from datascience import *"
   ]
  },
  {
   "cell_type": "code",
   "execution_count": 12,
   "metadata": {},
   "outputs": [],
   "source": [
    "tweets = Table.read_table('data_2018-08-28_15-56-07.csv', sep=',')"
   ]
  },
  {
   "cell_type": "code",
   "execution_count": 13,
   "metadata": {},
   "outputs": [
    {
     "data": {
      "text/html": [
       "<table border=\"1\" class=\"dataframe\">\n",
       "    <thead>\n",
       "        <tr>\n",
       "            <th>user_id</th> <th>user_name</th> <th>tweet_time</th> <th>location</th> <th>text</th>\n",
       "        </tr>\n",
       "    </thead>\n",
       "    <tbody>\n",
       "        <tr>\n",
       "            <td>2334231240         </td> <td>Debbi Matteucci               </td> <td>Tue Aug 28 19:56:09 +0000 2018</td> <td>San Francisco CA                             </td> <td>@LindseyGrahamSC please dont loose the @SenJohnMcCain in ...</td>\n",
       "        </tr>\n",
       "        <tr>\n",
       "            <td>2593882602         </td> <td>Robert Nash                   </td> <td>Tue Aug 28 19:56:10 +0000 2018</td> <td>Maricopa AZ                                  </td> <td>RT @selbalp: Agree! He was deserving of a Purple Heart b ...</td>\n",
       "        </tr>\n",
       "        <tr>\n",
       "            <td>999805424105803777 </td> <td>Dennis@millerd6               </td> <td>Tue Aug 28 19:56:10 +0000 2018</td> <td>Ramona CA                                    </td> <td>It easy McCain didnt want @POTUS there. What would want  ...</td>\n",
       "        </tr>\n",
       "        <tr>\n",
       "            <td>759123137321693184 </td> <td>Crooked (Crypto) Pictures     </td> <td>Tue Aug 28 19:56:11 +0000 2018</td> <td>None                                         </td> <td>@Scifiscreen @patmcollis @Channel4News @realDonaldTrump  ...</td>\n",
       "        </tr>\n",
       "        <tr>\n",
       "            <td>43105114           </td> <td>Sandy {}{Q}                   </td> <td>Tue Aug 28 19:56:12 +0000 2018</td> <td>Louisiana                                    </td> <td>RT @AnnaApp91838450: It Would Say He's Respecting McCain ...</td>\n",
       "        </tr>\n",
       "        <tr>\n",
       "            <td>968025172438634496 </td> <td>Spydercat                     </td> <td>Tue Aug 28 19:56:13 +0000 2018</td> <td>Nancy Pelosi's Fabulous San Franshithole USA.</td> <td>RT @Jali_Cat: Sometimes we get it right sometimes we don ...</td>\n",
       "        </tr>\n",
       "        <tr>\n",
       "            <td>2766239923         </td> <td>pierce d'art                  </td> <td>Tue Aug 28 19:56:14 +0000 2018</td> <td>out 'n about                                 </td> <td>RT @Jali_Cat: @HuffPost 2008: #JohnMcCain is mentally un ...</td>\n",
       "        </tr>\n",
       "        <tr>\n",
       "            <td>1022622446665588737</td> <td>@nc0615  MAGA SUPER ELITE     </td> <td>Tue Aug 28 19:56:15 +0000 2018</td> <td>Austin AR                                    </td> <td>RT @P_J_Kopp: @DrEtiquette @RedPillBlackMan I thought @S ...</td>\n",
       "        </tr>\n",
       "        <tr>\n",
       "            <td>3098633816         </td> <td>Robert M. Goldstein - American</td> <td>Tue Aug 28 19:56:15 +0000 2018</td> <td>San Francisco                                </td> <td>RT @joncoopertweets: The best way to honor @SenJohnMcCai ...</td>\n",
       "        </tr>\n",
       "        <tr>\n",
       "            <td>1218485030         </td> <td>Christopher Raiola            </td> <td>Tue Aug 28 19:56:15 +0000 2018</td> <td>NJ USA                                       </td> <td>That hes not a phony like you Ms Brazile !!                 </td>\n",
       "        </tr>\n",
       "    </tbody>\n",
       "</table>\n",
       "<p>... (990 rows omitted)</p>"
      ],
      "text/plain": [
       "user_id             | user_name                      | tweet_time                     | location                                      | text\n",
       "2334231240          | Debbi Matteucci                | Tue Aug 28 19:56:09 +0000 2018 | San Francisco CA                              | @LindseyGrahamSC please dont loose the @SenJohnMcCain in ...\n",
       "2593882602          | Robert Nash                    | Tue Aug 28 19:56:10 +0000 2018 | Maricopa AZ                                   | RT @selbalp: Agree! He was deserving of a Purple Heart b ...\n",
       "999805424105803777  | Dennis@millerd6                | Tue Aug 28 19:56:10 +0000 2018 | Ramona CA                                     | It easy McCain didnt want @POTUS there. What would want  ...\n",
       "759123137321693184  | Crooked (Crypto) Pictures      | Tue Aug 28 19:56:11 +0000 2018 | None                                          | @Scifiscreen @patmcollis @Channel4News @realDonaldTrump  ...\n",
       "43105114            | Sandy {}{Q}                    | Tue Aug 28 19:56:12 +0000 2018 | Louisiana                                     | RT @AnnaApp91838450: It Would Say He's Respecting McCain ...\n",
       "968025172438634496  | Spydercat                      | Tue Aug 28 19:56:13 +0000 2018 | Nancy Pelosi's Fabulous San Franshithole USA. | RT @Jali_Cat: Sometimes we get it right sometimes we don ...\n",
       "2766239923          | pierce d'art                   | Tue Aug 28 19:56:14 +0000 2018 | out 'n about                                  | RT @Jali_Cat: @HuffPost 2008: #JohnMcCain is mentally un ...\n",
       "1022622446665588737 | @nc0615  MAGA SUPER ELITE      | Tue Aug 28 19:56:15 +0000 2018 | Austin AR                                     | RT @P_J_Kopp: @DrEtiquette @RedPillBlackMan I thought @S ...\n",
       "3098633816          | Robert M. Goldstein - American | Tue Aug 28 19:56:15 +0000 2018 | San Francisco                                 | RT @joncoopertweets: The best way to honor @SenJohnMcCai ...\n",
       "1218485030          | Christopher Raiola             | Tue Aug 28 19:56:15 +0000 2018 | NJ USA                                        | That hes not a phony like you Ms Brazile !!\n",
       "... (990 rows omitted)"
      ]
     },
     "execution_count": 13,
     "metadata": {},
     "output_type": "execute_result"
    }
   ],
   "source": [
    "tweets"
   ]
  },
  {
   "cell_type": "code",
   "execution_count": null,
   "metadata": {
    "collapsed": true
   },
   "outputs": [],
   "source": []
  }
 ],
 "metadata": {
  "kernelspec": {
   "display_name": "Python 3",
   "language": "python",
   "name": "python3"
  },
  "language_info": {
   "codemirror_mode": {
    "name": "ipython",
    "version": 3
   },
   "file_extension": ".py",
   "mimetype": "text/x-python",
   "name": "python",
   "nbconvert_exporter": "python",
   "pygments_lexer": "ipython3",
   "version": "3.5.2"
  },
  "latex_envs": {
   "LaTeX_envs_menu_present": true,
   "autoclose": false,
   "autocomplete": true,
   "bibliofile": "biblio.bib",
   "cite_by": "apalike",
   "current_citInitial": 1,
   "eqLabelWithNumbers": true,
   "eqNumInitial": 1,
   "hotkeys": {
    "equation": "Ctrl-E",
    "itemize": "Ctrl-I"
   },
   "labels_anchors": false,
   "latex_user_defs": false,
   "report_style_numbering": false,
   "user_envs_cfg": false
  }
 },
 "nbformat": 4,
 "nbformat_minor": 2
}
