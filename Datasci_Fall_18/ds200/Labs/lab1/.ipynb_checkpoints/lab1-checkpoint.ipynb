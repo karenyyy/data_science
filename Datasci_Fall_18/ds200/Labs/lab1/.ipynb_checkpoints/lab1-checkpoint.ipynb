{
 "cells": [
  {
   "cell_type": "code",
   "execution_count": 14,
   "metadata": {},
   "outputs": [],
   "source": [
    "import datascience\n",
    "import numpy as np"
   ]
  },
  {
   "cell_type": "markdown",
   "metadata": {},
   "source": [
    "Example:"
   ]
  },
  {
   "cell_type": "code",
   "execution_count": 18,
   "metadata": {},
   "outputs": [],
   "source": [
    "normal_data = datascience.Table().with_columns([\n",
    "                'data1', np.random.normal(loc = 1, scale = 2, size = 100),\n",
    "                'data2', np.random.normal(loc = 4, scale = 3, size = 100)])"
   ]
  },
  {
   "cell_type": "code",
   "execution_count": 19,
   "metadata": {},
   "outputs": [
    {
     "data": {
      "text/html": [
       "<table border=\"1\" class=\"dataframe\">\n",
       "    <thead>\n",
       "        <tr>\n",
       "            <th>data1</th> <th>data2</th>\n",
       "        </tr>\n",
       "    </thead>\n",
       "    <tbody>\n",
       "        <tr>\n",
       "            <td>-0.395931</td> <td>6.82273 </td>\n",
       "        </tr>\n",
       "        <tr>\n",
       "            <td>-4.48398 </td> <td>4.98819 </td>\n",
       "        </tr>\n",
       "        <tr>\n",
       "            <td>1.42729  </td> <td>2.81808 </td>\n",
       "        </tr>\n",
       "        <tr>\n",
       "            <td>0.753138 </td> <td>6.65323 </td>\n",
       "        </tr>\n",
       "        <tr>\n",
       "            <td>-1.41563 </td> <td>-1.23104</td>\n",
       "        </tr>\n",
       "        <tr>\n",
       "            <td>0.23013  </td> <td>1.83823 </td>\n",
       "        </tr>\n",
       "        <tr>\n",
       "            <td>1.39196  </td> <td>8.17439 </td>\n",
       "        </tr>\n",
       "        <tr>\n",
       "            <td>-0.60491 </td> <td>0.752231</td>\n",
       "        </tr>\n",
       "        <tr>\n",
       "            <td>1.56995  </td> <td>10.7741 </td>\n",
       "        </tr>\n",
       "        <tr>\n",
       "            <td>-0.636651</td> <td>0.659314</td>\n",
       "        </tr>\n",
       "    </tbody>\n",
       "</table>\n",
       "<p>... (90 rows omitted)</p>"
      ],
      "text/plain": [
       "data1     | data2\n",
       "-0.395931 | 6.82273\n",
       "-4.48398  | 4.98819\n",
       "1.42729   | 2.81808\n",
       "0.753138  | 6.65323\n",
       "-1.41563  | -1.23104\n",
       "0.23013   | 1.83823\n",
       "1.39196   | 8.17439\n",
       "-0.60491  | 0.752231\n",
       "1.56995   | 10.7741\n",
       "-0.636651 | 0.659314\n",
       "... (90 rows omitted)"
      ]
     },
     "execution_count": 19,
     "metadata": {},
     "output_type": "execute_result"
    }
   ],
   "source": [
    "normal_data"
   ]
  },
  {
   "cell_type": "code",
   "execution_count": 20,
   "metadata": {},
   "outputs": [],
   "source": [
    "normal_data.sort('data1').plot('data1') "
   ]
  },
  {
   "cell_type": "code",
   "execution_count": null,
   "metadata": {},
   "outputs": [],
   "source": []
  }
 ],
 "metadata": {
  "kernelspec": {
   "display_name": "Python 3",
   "language": "python",
   "name": "python3"
  },
  "language_info": {
   "codemirror_mode": {
    "name": "ipython",
    "version": 3
   },
   "file_extension": ".py",
   "mimetype": "text/x-python",
   "name": "python",
   "nbconvert_exporter": "python",
   "pygments_lexer": "ipython3",
   "version": "3.5.2"
  },
  "latex_envs": {
   "LaTeX_envs_menu_present": true,
   "autoclose": false,
   "autocomplete": true,
   "bibliofile": "biblio.bib",
   "cite_by": "apalike",
   "current_citInitial": 1,
   "eqLabelWithNumbers": true,
   "eqNumInitial": 1,
   "hotkeys": {
    "equation": "Ctrl-E",
    "itemize": "Ctrl-I"
   },
   "labels_anchors": false,
   "latex_user_defs": false,
   "report_style_numbering": false,
   "user_envs_cfg": false
  }
 },
 "nbformat": 4,
 "nbformat_minor": 2
}
