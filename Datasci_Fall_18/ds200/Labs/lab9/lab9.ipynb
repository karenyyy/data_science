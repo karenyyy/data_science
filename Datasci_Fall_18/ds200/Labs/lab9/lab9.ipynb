{
 "cells": [
  {
   "cell_type": "markdown",
   "metadata": {},
   "source": [
    "### Import packages"
   ]
  },
  {
   "cell_type": "code",
   "execution_count": 23,
   "metadata": {},
   "outputs": [],
   "source": [
    "import datascience\n",
    "from datascience import *\n",
    "import numpy as np\n",
    "import pandas as pd\n",
    "import graphviz\n",
    "from sklearn.model_selection import train_test_split\n",
    "from sklearn.pipeline import Pipeline\n",
    "from sklearn import tree\n",
    "from sklearn.tree import DecisionTreeClassifier\n",
    "from sklearn import metrics\n",
    "\n",
    "import os"
   ]
  },
  {
   "cell_type": "markdown",
   "metadata": {},
   "source": [
    "### Read in the dataset with pandas"
   ]
  },
  {
   "cell_type": "markdown",
   "metadata": {},
   "source": [
    "#### check the data type of pd.DataFrame"
   ]
  },
  {
   "cell_type": "code",
   "execution_count": 63,
   "metadata": {},
   "outputs": [],
   "source": [
    "Ben_Pass= pd.read_csv('Ben-NE-9-10-2015-pass-6.csv', sep=\",\")\n",
    "Ben_Pass_2 = pd.read_csv('Ben-NE-9-10-2015-pass-4-1.csv', sep=',')"
   ]
  },
  {
   "cell_type": "code",
   "execution_count": 115,
   "metadata": {},
   "outputs": [
    {
     "name": "stdout",
     "output_type": "stream",
     "text": [
      "\\begin{tabular}{lrrrrrr}\n",
      "\\toprule\n",
      "{} &  down &  ydstogo &  Yards.Gained.PrevPlay &  AirYards &  PassLocation &  PassOutcome \\\\\n",
      "\\midrule\n",
      "0 &     1 &       10 &                     18 &        -4 &             1 &            1 \\\\\n",
      "1 &     1 &       10 &                      0 &         9 &             1 &            1 \\\\\n",
      "2 &     3 &       22 &                      6 &         1 &             1 &            1 \\\\\n",
      "3 &     1 &       10 &                      0 &         7 &            -1 &            1 \\\\\n",
      "4 &     1 &       10 &                     13 &         6 &            -1 &            1 \\\\\n",
      "\\bottomrule\n",
      "\\end{tabular}\n",
      "\n"
     ]
    }
   ],
   "source": [
    "print(Ben_Pass.head().to_latex())"
   ]
  },
  {
   "cell_type": "code",
   "execution_count": 116,
   "metadata": {},
   "outputs": [
    {
     "name": "stdout",
     "output_type": "stream",
     "text": [
      "\\begin{tabular}{lrrrrrrr}\n",
      "\\toprule\n",
      "{} &  down &  ydstogo &  Yards.Gained.PrevPlay &  Yards.Gained &  AirYards &  PassLocation &  PassOutcome \\\\\n",
      "\\midrule\n",
      "0 &     1 &       10 &                     18 &             9 &        -4 &             1 &            1 \\\\\n",
      "1 &     1 &       10 &                      0 &            14 &         9 &             1 &            1 \\\\\n",
      "2 &     3 &       22 &                      6 &            10 &         1 &             1 &            1 \\\\\n",
      "3 &     1 &       10 &                      0 &            13 &         7 &            -1 &            1 \\\\\n",
      "4 &     1 &       10 &                     13 &            12 &         6 &            -1 &            1 \\\\\n",
      "\\bottomrule\n",
      "\\end{tabular}\n",
      "\n"
     ]
    }
   ],
   "source": [
    "print(Ben_Pass_2.head().to_latex())"
   ]
  },
  {
   "cell_type": "markdown",
   "metadata": {},
   "source": [
    "### Conduct Correlation Analysis "
   ]
  },
  {
   "cell_type": "code",
   "execution_count": 117,
   "metadata": {},
   "outputs": [
    {
     "name": "stdout",
     "output_type": "stream",
     "text": [
      "\\begin{tabular}{lrrrrrr}\n",
      "\\toprule\n",
      "{} &      down &   ydstogo &  Yards.Gained.PrevPlay &  AirYards &  PassLocation &  PassOutcome \\\\\n",
      "\\midrule\n",
      "down                  &  1.000000 & -0.293906 &              -0.306207 & -0.032894 &     -0.060043 &    -0.076448 \\\\\n",
      "ydstogo               & -0.293906 &  1.000000 &              -0.060572 &  0.091813 &     -0.058176 &     0.249902 \\\\\n",
      "Yards.Gained.PrevPlay & -0.306207 & -0.060572 &               1.000000 &  0.022748 &     -0.081227 &     0.144037 \\\\\n",
      "AirYards              & -0.032894 &  0.091813 &               0.022748 &  1.000000 &      0.056054 &    -0.286445 \\\\\n",
      "PassLocation          & -0.060043 & -0.058176 &              -0.081227 &  0.056054 &      1.000000 &    -0.223061 \\\\\n",
      "PassOutcome           & -0.076448 &  0.249902 &               0.144037 & -0.286445 &     -0.223061 &     1.000000 \\\\\n",
      "\\bottomrule\n",
      "\\end{tabular}\n",
      "\n"
     ]
    }
   ],
   "source": [
    "print(Ben_Pass.corr(method='pearson').to_latex())"
   ]
  },
  {
   "cell_type": "code",
   "execution_count": 118,
   "metadata": {},
   "outputs": [
    {
     "name": "stdout",
     "output_type": "stream",
     "text": [
      "\\begin{tabular}{lrrrrrrr}\n",
      "\\toprule\n",
      "{} &      down &   ydstogo &  Yards.Gained.PrevPlay &  Yards.Gained &  AirYards &  PassLocation &  PassOutcome \\\\\n",
      "\\midrule\n",
      "down                  &  1.000000 & -0.293906 &              -0.306207 &     -0.054182 & -0.032894 &     -0.060043 &    -0.076448 \\\\\n",
      "ydstogo               & -0.293906 &  1.000000 &              -0.060572 &      0.222043 &  0.091813 &     -0.058176 &     0.249902 \\\\\n",
      "Yards.Gained.PrevPlay & -0.306207 & -0.060572 &               1.000000 &      0.131102 &  0.022748 &     -0.081227 &     0.144037 \\\\\n",
      "Yards.Gained          & -0.054182 &  0.222043 &               0.131102 &      1.000000 &  0.363336 &      0.019662 &     0.537075 \\\\\n",
      "AirYards              & -0.032894 &  0.091813 &               0.022748 &      0.363336 &  1.000000 &      0.056054 &    -0.286445 \\\\\n",
      "PassLocation          & -0.060043 & -0.058176 &              -0.081227 &      0.019662 &  0.056054 &      1.000000 &    -0.223061 \\\\\n",
      "PassOutcome           & -0.076448 &  0.249902 &               0.144037 &      0.537075 & -0.286445 &     -0.223061 &     1.000000 \\\\\n",
      "\\bottomrule\n",
      "\\end{tabular}\n",
      "\n"
     ]
    }
   ],
   "source": [
    "print(Ben_Pass_2.corr(method='pearson').to_latex())"
   ]
  },
  {
   "cell_type": "markdown",
   "metadata": {},
   "source": [
    "### Build Decision Trees"
   ]
  },
  {
   "cell_type": "code",
   "execution_count": 113,
   "metadata": {},
   "outputs": [],
   "source": [
    "def evaluate(dataset, seed, arg):\n",
    "    X = dataset.values[:, :-1]\n",
    "    y = dataset.values[:, -1]\n",
    "    X_train, X_test, y_train, y_test = train_test_split(X, y, test_size = 0.2, random_state = seed)\n",
    "    clf = DecisionTreeClassifier(criterion = 'entropy', random_state = 100,\n",
    "                               max_depth=5, min_samples_leaf=3)\n",
    "    clf.fit(X_train, y_train)\n",
    "    dot_data= tree.export_graphviz(clf, out_file=None, feature_names=dataset.columns[:-1])\n",
    "    graph = graphviz.Source(dot_data)\n",
    "    graph.render('BenPass{}'.format(str(arg)))\n",
    "    predicted_completion = clf.predict(X_test)\n",
    "    print('Ben Pass dataset {} classiification report: \\n'.format(str(arg)), metrics.classification_report(y_true=y_test, y_pred=predicted_completion))"
   ]
  },
  {
   "cell_type": "code",
   "execution_count": 114,
   "metadata": {
    "scrolled": true
   },
   "outputs": [
    {
     "name": "stdout",
     "output_type": "stream",
     "text": [
      "Ben Pass dataset 1 classiification report: \n",
      "               precision    recall  f1-score   support\n",
      "\n",
      "           0       0.75      0.75      0.75         4\n",
      "           1       0.90      0.90      0.90        10\n",
      "\n",
      "   micro avg       0.86      0.86      0.86        14\n",
      "   macro avg       0.82      0.82      0.82        14\n",
      "weighted avg       0.86      0.86      0.86        14\n",
      "\n",
      "Ben Pass dataset 2 classiification report: \n",
      "               precision    recall  f1-score   support\n",
      "\n",
      "           0       1.00      1.00      1.00         4\n",
      "           1       1.00      1.00      1.00        10\n",
      "\n",
      "   micro avg       1.00      1.00      1.00        14\n",
      "   macro avg       1.00      1.00      1.00        14\n",
      "weighted avg       1.00      1.00      1.00        14\n",
      "\n"
     ]
    }
   ],
   "source": [
    "evaluate(Ben_Pass, 2018, 1)\n",
    "evaluate(Ben_Pass_2, 2018, 2)"
   ]
  },
  {
   "cell_type": "markdown",
   "metadata": {},
   "source": [
    "So from the classification report we could see that the Decision Tree built for the second dataset (__with Yard.Gained__) has no misclassified instances, reaching 100% accuracy score."
   ]
  },
  {
   "cell_type": "markdown",
   "metadata": {},
   "source": [
    "### Performance "
   ]
  },
  {
   "cell_type": "code",
   "execution_count": 101,
   "metadata": {},
   "outputs": [
    {
     "name": "stdout",
     "output_type": "stream",
     "text": [
      "              precision    recall  f1-score   support\n",
      "\n",
      "           0       0.75      0.75      0.75         4\n",
      "           1       0.90      0.90      0.90        10\n",
      "\n",
      "   micro avg       0.86      0.86      0.86        14\n",
      "   macro avg       0.82      0.82      0.82        14\n",
      "weighted avg       0.86      0.86      0.86        14\n",
      "\n"
     ]
    }
   ],
   "source": [
    "print(acc_score_1)"
   ]
  },
  {
   "cell_type": "code",
   "execution_count": 86,
   "metadata": {},
   "outputs": [
    {
     "data": {
      "text/plain": [
       "1.0"
      ]
     },
     "execution_count": 86,
     "metadata": {},
     "output_type": "execute_result"
    }
   ],
   "source": [
    "acc_score_2"
   ]
  },
  {
   "cell_type": "markdown",
   "metadata": {},
   "source": [
    "### Discussion"
   ]
  },
  {
   "cell_type": "markdown",
   "metadata": {},
   "source": [
    "#### Ben_Pass_1 (Without the `Yard.Gained` variable)\n",
    "\n",
    "\n",
    "![](2.png)\n",
    "\n",
    "\n",
    "#### Ben_Pass_2 (With the `Yard.Gained` variable)\n",
    "\n",
    "\n",
    "![](1.png)\n",
    "\n",
    "\n",
    "\n",
    "\n",
    "\n"
   ]
  },
  {
   "cell_type": "markdown",
   "metadata": {},
   "source": [
    "The second Ben Pass dataset that includes the `Yards.Gained` variable stop after two splits (if the random state is changed to another number, then the tree actually stops after one single split), the reason for which is:"
   ]
  },
  {
   "cell_type": "code",
   "execution_count": 87,
   "metadata": {},
   "outputs": [
    {
     "data": {
      "text/html": [
       "<div>\n",
       "<style scoped>\n",
       "    .dataframe tbody tr th:only-of-type {\n",
       "        vertical-align: middle;\n",
       "    }\n",
       "\n",
       "    .dataframe tbody tr th {\n",
       "        vertical-align: top;\n",
       "    }\n",
       "\n",
       "    .dataframe thead th {\n",
       "        text-align: right;\n",
       "    }\n",
       "</style>\n",
       "<table border=\"1\" class=\"dataframe\">\n",
       "  <thead>\n",
       "    <tr style=\"text-align: right;\">\n",
       "      <th></th>\n",
       "      <th>down</th>\n",
       "      <th>ydstogo</th>\n",
       "      <th>Yards.Gained.PrevPlay</th>\n",
       "      <th>Yards.Gained</th>\n",
       "      <th>AirYards</th>\n",
       "      <th>PassLocation</th>\n",
       "      <th>PassOutcome</th>\n",
       "    </tr>\n",
       "  </thead>\n",
       "  <tbody>\n",
       "    <tr>\n",
       "      <th>down</th>\n",
       "      <td>1.000000</td>\n",
       "      <td>-0.293906</td>\n",
       "      <td>-0.306207</td>\n",
       "      <td>-0.054182</td>\n",
       "      <td>-0.032894</td>\n",
       "      <td>-0.060043</td>\n",
       "      <td>-0.076448</td>\n",
       "    </tr>\n",
       "    <tr>\n",
       "      <th>ydstogo</th>\n",
       "      <td>-0.293906</td>\n",
       "      <td>1.000000</td>\n",
       "      <td>-0.060572</td>\n",
       "      <td>0.222043</td>\n",
       "      <td>0.091813</td>\n",
       "      <td>-0.058176</td>\n",
       "      <td>0.249902</td>\n",
       "    </tr>\n",
       "    <tr>\n",
       "      <th>Yards.Gained.PrevPlay</th>\n",
       "      <td>-0.306207</td>\n",
       "      <td>-0.060572</td>\n",
       "      <td>1.000000</td>\n",
       "      <td>0.131102</td>\n",
       "      <td>0.022748</td>\n",
       "      <td>-0.081227</td>\n",
       "      <td>0.144037</td>\n",
       "    </tr>\n",
       "    <tr>\n",
       "      <th>Yards.Gained</th>\n",
       "      <td>-0.054182</td>\n",
       "      <td>0.222043</td>\n",
       "      <td>0.131102</td>\n",
       "      <td>1.000000</td>\n",
       "      <td>0.363336</td>\n",
       "      <td>0.019662</td>\n",
       "      <td>0.537075</td>\n",
       "    </tr>\n",
       "    <tr>\n",
       "      <th>AirYards</th>\n",
       "      <td>-0.032894</td>\n",
       "      <td>0.091813</td>\n",
       "      <td>0.022748</td>\n",
       "      <td>0.363336</td>\n",
       "      <td>1.000000</td>\n",
       "      <td>0.056054</td>\n",
       "      <td>-0.286445</td>\n",
       "    </tr>\n",
       "    <tr>\n",
       "      <th>PassLocation</th>\n",
       "      <td>-0.060043</td>\n",
       "      <td>-0.058176</td>\n",
       "      <td>-0.081227</td>\n",
       "      <td>0.019662</td>\n",
       "      <td>0.056054</td>\n",
       "      <td>1.000000</td>\n",
       "      <td>-0.223061</td>\n",
       "    </tr>\n",
       "    <tr>\n",
       "      <th>PassOutcome</th>\n",
       "      <td>-0.076448</td>\n",
       "      <td>0.249902</td>\n",
       "      <td>0.144037</td>\n",
       "      <td>0.537075</td>\n",
       "      <td>-0.286445</td>\n",
       "      <td>-0.223061</td>\n",
       "      <td>1.000000</td>\n",
       "    </tr>\n",
       "  </tbody>\n",
       "</table>\n",
       "</div>"
      ],
      "text/plain": [
       "                           down   ydstogo  Yards.Gained.PrevPlay  Yards.Gained  AirYards  PassLocation  PassOutcome\n",
       "down                   1.000000 -0.293906              -0.306207     -0.054182 -0.032894     -0.060043    -0.076448\n",
       "ydstogo               -0.293906  1.000000              -0.060572      0.222043  0.091813     -0.058176     0.249902\n",
       "Yards.Gained.PrevPlay -0.306207 -0.060572               1.000000      0.131102  0.022748     -0.081227     0.144037\n",
       "Yards.Gained          -0.054182  0.222043               0.131102      1.000000  0.363336      0.019662     0.537075\n",
       "AirYards              -0.032894  0.091813               0.022748      0.363336  1.000000      0.056054    -0.286445\n",
       "PassLocation          -0.060043 -0.058176              -0.081227      0.019662  0.056054      1.000000    -0.223061\n",
       "PassOutcome           -0.076448  0.249902               0.144037      0.537075 -0.286445     -0.223061     1.000000"
      ]
     },
     "execution_count": 87,
     "metadata": {},
     "output_type": "execute_result"
    }
   ],
   "source": [
    "Ben_Pass_2.corr(method='pearson')"
   ]
  },
  {
   "cell_type": "markdown",
   "metadata": {},
   "source": [
    "from the correlation matrix above, we could observe that the correlation coefficient between _Yards.Gained_ and _PassOutcome_ is 0.537075 (positively correlated), thus we should be able to conclude that _Yards.Gained_ has a significant influence on the _PassOutcome_. The more correlated a variable is to the target variable, the higher up it should be in the constructed Decision Tree, hence explains that the  _Yards.Gained_ is the root node, and the second largest correlation coefficient among the other variables to _PassOutcome_ is _AirYards_ as 0.286445 (negatively correlated), so the the first child right after the root node is _AirYards_."
   ]
  }
 ],
 "metadata": {
  "kernelspec": {
   "display_name": "Python 3",
   "language": "python",
   "name": "python3"
  },
  "language_info": {
   "codemirror_mode": {
    "name": "ipython",
    "version": 3
   },
   "file_extension": ".py",
   "mimetype": "text/x-python",
   "name": "python",
   "nbconvert_exporter": "python",
   "pygments_lexer": "ipython3",
   "version": "3.6.6"
  },
  "latex_envs": {
   "LaTeX_envs_menu_present": true,
   "autoclose": false,
   "autocomplete": true,
   "bibliofile": "biblio.bib",
   "cite_by": "apalike",
   "current_citInitial": 1,
   "eqLabelWithNumbers": true,
   "eqNumInitial": 1,
   "hotkeys": {
    "equation": "Ctrl-E",
    "itemize": "Ctrl-I"
   },
   "labels_anchors": false,
   "latex_user_defs": false,
   "report_style_numbering": false,
   "user_envs_cfg": false
  }
 },
 "nbformat": 4,
 "nbformat_minor": 2
}
