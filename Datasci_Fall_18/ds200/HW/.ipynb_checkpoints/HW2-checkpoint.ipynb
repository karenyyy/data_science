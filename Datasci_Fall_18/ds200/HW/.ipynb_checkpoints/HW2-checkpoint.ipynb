{
 "cells": [
  {
   "cell_type": "code",
   "execution_count": 1,
   "metadata": {},
   "outputs": [],
   "source": [
    "import pandas as pd\n",
    "import datascience as ds\n",
    "from datascience import *\n",
    "import numpy as np\n",
    "import re\n",
    "import string"
   ]
  },
  {
   "cell_type": "markdown",
   "metadata": {},
   "source": [
    "### Read the tagged tweets"
   ]
  },
  {
   "cell_type": "markdown",
   "metadata": {},
   "source": [
    "#### Sentiment "
   ]
  },
  {
   "cell_type": "markdown",
   "metadata": {},
   "source": [
    "- Irrelevant: -1\n",
    "- Neutral: 0\n",
    "- Positive: 1\n",
    "- Negative: 2"
   ]
  },
  {
   "cell_type": "markdown",
   "metadata": {},
   "source": [
    "#### Tagging Guideline"
   ]
  },
  {
   "cell_type": "markdown",
   "metadata": {},
   "source": [
    "- Irrelevant: does not include any content related to the president\n",
    "    - eg:\n",
    "        - `RT @SassyT_Joy: @BCMsolt @fightinirish109 @dybarb @Wolfie_V3 @KevinHu63682270 @CNS15141 @DogsBCool @Punkin682 @hirschA8720 @MrsGoodoz @MAGA`\n",
    "- Neutral: does not contain any obvious emotional markers towards the president\n",
    "    - eg:\n",
    "        - `2 lives were just lost in #Tennessee. #POTUS its time to do something. #BackfireTrump https://t.co/5AYAqUV2at`\n",
    "- Positive: contain obvious positive emotional markers towards the president\n",
    "    - eg:\n",
    "        - `RT @michaeljohns: .@POTUS' exceptional speech in #Shanksville: At this memorial on this sacred earth in the field beyond this wall and`\n",
    "- Negative: contain obvious negative emotional markers towards the president\n",
    "    - eg:\n",
    "        - `Whenever #potus opens his mouth he embarrasses his country and himself. #notpresidential`"
   ]
  },
  {
   "cell_type": "code",
   "execution_count": 3,
   "metadata": {},
   "outputs": [],
   "source": [
    "tagged= pd.read_csv('tagged.csv', sep= ',')\n",
    "tagged['sentiment'] = tagged['sentiment'].astype(dtype=int)"
   ]
  },
  {
   "cell_type": "markdown",
   "metadata": {},
   "source": [
    "### Clean the tweet text and remove nan"
   ]
  },
  {
   "cell_type": "code",
   "execution_count": 334,
   "metadata": {},
   "outputs": [],
   "source": [
    "def process_text(data):\n",
    "    cleaned_text = [\n",
    "        re.sub('\\s+', ' ', \n",
    "    re.sub(\"([^0-9A-Za-z \\t])|(\\w+:\\/\\/\\S+)|^rt|http.+?\", '',\n",
    "    tweets.lower()).strip(string.punctuation).strip()) for tweets in data\n",
    "    ]\n",
    "    return cleaned_text\n",
    "\n",
    "tagged['text'] = process_text(tagged['text'])\n",
    "tagged = tagged.drop(tagged.columns[0], axis=1).reset_index(drop=True)"
   ]
  },
  {
   "cell_type": "code",
   "execution_count": 335,
   "metadata": {},
   "outputs": [],
   "source": [
    "not_null_text = 1 ^ pd.isnull(tagged[\"text\"])\n",
    "not_null_sentiment = 1 ^ pd.isnull(tagged[\"sentiment\"])\n",
    "tagged = tagged.loc[not_null_sentiment & not_null_text, :]"
   ]
  },
  {
   "cell_type": "code",
   "execution_count": 336,
   "metadata": {},
   "outputs": [
    {
     "data": {
      "text/plain": [
       "4817"
      ]
     },
     "execution_count": 336,
     "metadata": {},
     "output_type": "execute_result"
    }
   ],
   "source": [
    "len(tagged)"
   ]
  },
  {
   "cell_type": "markdown",
   "metadata": {},
   "source": [
    "###  Remove duplicates"
   ]
  },
  {
   "cell_type": "code",
   "execution_count": 337,
   "metadata": {},
   "outputs": [
    {
     "data": {
      "text/html": [
       "<div>\n",
       "<table border=\"1\" class=\"dataframe\">\n",
       "  <thead>\n",
       "    <tr style=\"text-align: right;\">\n",
       "      <th></th>\n",
       "      <th>user_id</th>\n",
       "      <th>user_name</th>\n",
       "      <th>tweet_time</th>\n",
       "      <th>location</th>\n",
       "      <th>text</th>\n",
       "      <th>sentiment</th>\n",
       "    </tr>\n",
       "  </thead>\n",
       "  <tbody>\n",
       "    <tr>\n",
       "      <th>0</th>\n",
       "      <td>802657195661742080</td>\n",
       "      <td>Christine Warren</td>\n",
       "      <td>Wed Sep 12 01:38:14 +0000 2018</td>\n",
       "      <td>Fremont CA</td>\n",
       "      <td>2 american lives were just lost in tennessee p...</td>\n",
       "      <td>0</td>\n",
       "    </tr>\n",
       "    <tr>\n",
       "      <th>1</th>\n",
       "      <td>1039245812230893570</td>\n",
       "      <td>Trumpservative</td>\n",
       "      <td>Wed Sep 12 01:38:16 +0000 2018</td>\n",
       "      <td>Tulsa OK</td>\n",
       "      <td>realfarmacist realdonaldtrump tuckercarlson ou...</td>\n",
       "      <td>1</td>\n",
       "    </tr>\n",
       "    <tr>\n",
       "      <th>2</th>\n",
       "      <td>282084840</td>\n",
       "      <td>Darrel Sheldon #MAGAVETERAN</td>\n",
       "      <td>Wed Sep 12 01:38:18 +0000 2018</td>\n",
       "      <td>None</td>\n",
       "      <td>rightgottweets rev out the trumptrain for blue...</td>\n",
       "      <td>0</td>\n",
       "    </tr>\n",
       "    <tr>\n",
       "      <th>3</th>\n",
       "      <td>62315639</td>\n",
       "      <td>Queer Liberal Voting Snowflake</td>\n",
       "      <td>Wed Sep 12 01:38:18 +0000 2018</td>\n",
       "      <td>Big Sandy Texas</td>\n",
       "      <td>tennessee is suffering after shooting takes 2 ...</td>\n",
       "      <td>0</td>\n",
       "    </tr>\n",
       "    <tr>\n",
       "      <th>4</th>\n",
       "      <td>823307049266245633</td>\n",
       "      <td>don jones #veteran (K)</td>\n",
       "      <td>Wed Sep 12 01:38:19 +0000 2018</td>\n",
       "      <td>United States</td>\n",
       "      <td>sassytjoy bcmsolt fightinirish109 dybarb wolfi...</td>\n",
       "      <td>-1</td>\n",
       "    </tr>\n",
       "  </tbody>\n",
       "</table>\n",
       "</div>"
      ],
      "text/plain": [
       "               user_id                       user_name  \\\n",
       "0   802657195661742080                Christine Warren   \n",
       "1  1039245812230893570                  Trumpservative   \n",
       "2            282084840     Darrel Sheldon #MAGAVETERAN   \n",
       "3             62315639  Queer Liberal Voting Snowflake   \n",
       "4   823307049266245633          don jones #veteran (K)   \n",
       "\n",
       "                       tweet_time         location  \\\n",
       "0  Wed Sep 12 01:38:14 +0000 2018       Fremont CA   \n",
       "1  Wed Sep 12 01:38:16 +0000 2018         Tulsa OK   \n",
       "2  Wed Sep 12 01:38:18 +0000 2018             None   \n",
       "3  Wed Sep 12 01:38:18 +0000 2018  Big Sandy Texas   \n",
       "4  Wed Sep 12 01:38:19 +0000 2018    United States   \n",
       "\n",
       "                                                text  sentiment  \n",
       "0  2 american lives were just lost in tennessee p...          0  \n",
       "1  realfarmacist realdonaldtrump tuckercarlson ou...          1  \n",
       "2  rightgottweets rev out the trumptrain for blue...          0  \n",
       "3  tennessee is suffering after shooting takes 2 ...          0  \n",
       "4  sassytjoy bcmsolt fightinirish109 dybarb wolfi...         -1  "
      ]
     },
     "execution_count": 337,
     "metadata": {},
     "output_type": "execute_result"
    }
   ],
   "source": [
    "tagged = tagged.iloc[tagged['text'].drop_duplicates().index]\n",
    "tagged = tagged.reset_index(drop=True)\n",
    "tagged = tagged.drop(tagged.index[nan_idx.values])\n",
    "tagged = tagged.dropna(axis=0)\n",
    "tagged = tagged.reset_index(drop=True)\n",
    "tagged.to_csv('cleaned_tagged.csv', sep=',')\n",
    "tagged.head()"
   ]
  },
  {
   "cell_type": "markdown",
   "metadata": {},
   "source": [
    "### Count the tweets"
   ]
  },
  {
   "cell_type": "code",
   "execution_count": 341,
   "metadata": {},
   "outputs": [],
   "source": [
    "tagged = ds.Table.read_table('cleaned_tagged.csv', sep=',')"
   ]
  },
  {
   "cell_type": "code",
   "execution_count": 339,
   "metadata": {},
   "outputs": [],
   "source": [
    "def count_tweets(table):\n",
    "    classes = {\n",
    "               'irrelevant':-1, \n",
    "               'neutral':0, \n",
    "               'positive':1, \n",
    "               'negative':2\n",
    "              }\n",
    "    for i in classes:\n",
    "        c =  table.where('sentiment', are.equal_to(classes[i])).num_rows\n",
    "        print('There are {} {} tweets in the data'.format(c, i))"
   ]
  },
  {
   "cell_type": "code",
   "execution_count": 340,
   "metadata": {},
   "outputs": [
    {
     "name": "stdout",
     "output_type": "stream",
     "text": [
      "There are 417 neutral tweets in the data\n",
      "There are 247 negative tweets in the data\n",
      "There are 415 positive tweets in the data\n",
      "There are 217 irrelevant tweets in the data\n"
     ]
    }
   ],
   "source": [
    "count_tweets(tagged)"
   ]
  },
  {
   "cell_type": "code",
   "execution_count": null,
   "metadata": {},
   "outputs": [],
   "source": []
  }
 ],
 "metadata": {
  "kernelspec": {
   "display_name": "Python 3",
   "language": "python",
   "name": "python3"
  },
  "language_info": {
   "codemirror_mode": {
    "name": "ipython",
    "version": 3
   },
   "file_extension": ".py",
   "mimetype": "text/x-python",
   "name": "python",
   "nbconvert_exporter": "python",
   "pygments_lexer": "ipython3",
   "version": "3.6.5"
  },
  "latex_envs": {
   "LaTeX_envs_menu_present": true,
   "autoclose": false,
   "autocomplete": true,
   "bibliofile": "biblio.bib",
   "cite_by": "apalike",
   "current_citInitial": 1,
   "eqLabelWithNumbers": true,
   "eqNumInitial": 1,
   "hotkeys": {
    "equation": "Ctrl-E",
    "itemize": "Ctrl-I"
   },
   "labels_anchors": false,
   "latex_user_defs": false,
   "report_style_numbering": false,
   "user_envs_cfg": false
  },
  "nbTranslate": {
   "displayLangs": [
    "*"
   ],
   "hotkey": "alt-t",
   "langInMainMenu": true,
   "sourceLang": "en",
   "targetLang": "fr",
   "useGoogleTranslate": true
  },
  "varInspector": {
   "cols": {
    "lenName": 16,
    "lenType": 16,
    "lenVar": 40
   },
   "kernels_config": {
    "python": {
     "delete_cmd_postfix": "",
     "delete_cmd_prefix": "del ",
     "library": "var_list.py",
     "varRefreshCmd": "print(var_dic_list())"
    },
    "r": {
     "delete_cmd_postfix": ") ",
     "delete_cmd_prefix": "rm(",
     "library": "var_list.r",
     "varRefreshCmd": "cat(var_dic_list()) "
    }
   },
   "types_to_exclude": [
    "module",
    "function",
    "builtin_function_or_method",
    "instance",
    "_Feature"
   ],
   "window_display": false
  }
 },
 "nbformat": 4,
 "nbformat_minor": 2
}
