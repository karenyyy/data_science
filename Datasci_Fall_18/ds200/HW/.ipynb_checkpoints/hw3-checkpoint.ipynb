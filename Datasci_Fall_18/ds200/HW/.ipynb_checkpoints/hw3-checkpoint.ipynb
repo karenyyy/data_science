{
 "cells": [
  {
   "cell_type": "markdown",
   "metadata": {},
   "source": [
    "### Q1"
   ]
  },
  {
   "cell_type": "markdown",
   "metadata": {},
   "source": [
    "(1) (20 points) The figure below shows three possible feature test for the root\n",
    "node of a decision tree to predict spam e-mail messages (based on the\n",
    "example discussed in class). \n",
    "\n",
    "- (a) Calculate the expected information gain for\n",
    "each feature test (please show your formula). \n",
    "\n",
    "- (b) Which feature test will be\n",
    "selected by the Decision Tree Learning algorithm?\n",
    "\n",
    "\n",
    "![](1.png)"
   ]
  },
  {
   "cell_type": "markdown",
   "metadata": {},
   "source": [
    "(a)"
   ]
  },
  {
   "cell_type": "markdown",
   "metadata": {},
   "source": [
    "- entropy before split: $-\\frac{4}{9} \\log \\frac{4}{9} - \\frac{5}{9} \\log \\frac{5}{9} = 0.991$\n",
    "- entropy after split:\n",
    "    - feature set 1: `Sender in Contact`\n",
    "        - $-\\frac{4}{4} \\log \\frac{4}{4} - 0 - \\frac{4}{5} \\log \\frac{4}{5} - \\frac{1}{5} \\log \\frac{1}{5}= 0.722$\n",
    "        - info gain (entropy reduction) = $0.991 - 0.722 = 0.269$\n",
    "    - feature set 2: `Subject mentions 'free money'`\n",
    "        - entropy after split: $-\\frac{3}{5} \\log \\frac{3}{5} - \\frac{2}{5} \\log \\frac{2}{5} - \\frac{3}{4} \\log \\frac{3}{4} - \\frac{1}{4} \\log \\frac{1}{4}= 1.782$\n",
    "        - info gain (entropy reduction) = $0.991 - 1.782= -0.791$\n",
    "    - feature set 3: `Has Attachment`\n",
    "        - entropy after split: $-\\frac{2}{4} \\log \\frac{2}{4} - \\frac{2}{4} \\log \\frac{2}{4} - \\frac{3}{5} \\log \\frac{3}{5} - \\frac{2}{5} \\log \\frac{2}{5} = 1.971$\n",
    "        - info gain (entropy reduction) = $0.991 - 1.971 = -0.98$\n",
    "        \n"
   ]
  },
  {
   "cell_type": "markdown",
   "metadata": {},
   "source": [
    "(b)"
   ]
  },
  {
   "cell_type": "markdown",
   "metadata": {},
   "source": [
    "Therefore, the info gain:\n",
    "\n",
    "$$\\text{ Sender in Contact } > \\text{ Subject mentions 'free money' } > \\text{ Has Attachment }$$\n",
    "\n",
    "so the feature with largest info gain __Sender in Contact__ should be chosen"
   ]
  },
  {
   "cell_type": "markdown",
   "metadata": {},
   "source": [
    "### Q2"
   ]
  },
  {
   "cell_type": "markdown",
   "metadata": {},
   "source": [
    "(2) (20 points) Construct a regular expression as the value for the parameter\n",
    "token_pattern so that CountVectorizer can extract hashtags, twitter user\n",
    "names (e.g., @realDonalTrump), and words from tweets as tokens. Explain\n",
    "how you construct the regular expression. "
   ]
  },
  {
   "cell_type": "markdown",
   "metadata": {},
   "source": [
    "regular expression:\n",
    "\n",
    "- first clean the urls using: \n",
    "\n",
    "$$\\text{ (https?|ftp|file)://.+}$$\n",
    "\n",
    "![](2.png)\n",
    "\n",
    "\n",
    "- then extract the hashtags, usernames and words in tweets using:\n",
    "\n",
    "$$\\text{[@#][a-zA-Z0-9_]+|[a-zA-Z]+}$$\n",
    "\n",
    "![](3.png)\n",
    "\n",
    "\n",
    "Note:\n",
    "\n",
    "- I could not figure out a tidy way to extract hashtags, usernames and words in tweets all together while excluding the urls because if the urls do not get cleaned up first, it would break up as individual words that do not make sense at all, such as, 'https://t.co/' => 'https' as a word, 't' as a word, 'co' as word\n"
   ]
  }
 ],
 "metadata": {
  "kernelspec": {
   "display_name": "Python 3",
   "language": "python",
   "name": "python3"
  },
  "language_info": {
   "codemirror_mode": {
    "name": "ipython",
    "version": 3
   },
   "file_extension": ".py",
   "mimetype": "text/x-python",
   "name": "python",
   "nbconvert_exporter": "python",
   "pygments_lexer": "ipython3",
   "version": "3.6.6"
  },
  "latex_envs": {
   "LaTeX_envs_menu_present": true,
   "autoclose": false,
   "autocomplete": true,
   "bibliofile": "biblio.bib",
   "cite_by": "apalike",
   "current_citInitial": 1,
   "eqLabelWithNumbers": true,
   "eqNumInitial": 1,
   "hotkeys": {
    "equation": "Ctrl-E",
    "itemize": "Ctrl-I"
   },
   "labels_anchors": false,
   "latex_user_defs": false,
   "report_style_numbering": false,
   "user_envs_cfg": false
  }
 },
 "nbformat": 4,
 "nbformat_minor": 2
}
