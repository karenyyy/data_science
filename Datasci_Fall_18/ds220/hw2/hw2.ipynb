{
 "cells": [
  {
   "cell_type": "markdown",
   "metadata": {},
   "source": [
    "### import packages"
   ]
  },
  {
   "cell_type": "code",
   "execution_count": 157,
   "metadata": {},
   "outputs": [],
   "source": [
    "import redis\n",
    "from urllib.request import urlopen\n",
    "import pandas as pd\n",
    "import re\n",
    "from bs4 import BeautifulSoup"
   ]
  },
  {
   "cell_type": "markdown",
   "metadata": {},
   "source": [
    "### scrape car retail information from a chosen car dealer website"
   ]
  },
  {
   "cell_type": "markdown",
   "metadata": {
    "heading_collapsed": true
   },
   "source": [
    "#### Titles"
   ]
  },
  {
   "cell_type": "code",
   "execution_count": 3,
   "metadata": {
    "hidden": true
   },
   "outputs": [],
   "source": [
    "url = 'http://www.statecollege.com/auto/dealers/stocker-chevrolet,9803/'\n",
    "page = urlopen(url=url)\n",
    "soup = BeautifulSoup(page, 'html.parser')\n",
    "titles = soup.findAll('strong', {\"class\": \"title\"})\n",
    "titles_df = pd.DataFrame(list(map(lambda x: x.getText(), titles)), columns=['Title'])"
   ]
  },
  {
   "cell_type": "markdown",
   "metadata": {
    "heading_collapsed": true
   },
   "source": [
    "#### Embedded urls"
   ]
  },
  {
   "cell_type": "code",
   "execution_count": 4,
   "metadata": {
    "hidden": true
   },
   "outputs": [],
   "source": [
    "urls_df = pd.DataFrame(['http://www.statecollege.com/'+ a['href'] for i in soup.findAll('td', {'align': 'left'}) for a in i.findAll('a', href=True)], columns=['urls'])"
   ]
  },
  {
   "cell_type": "markdown",
   "metadata": {
    "heading_collapsed": true
   },
   "source": [
    "#### Addresses, phones of sellers & descriptions of cars"
   ]
  },
  {
   "cell_type": "code",
   "execution_count": 5,
   "metadata": {
    "hidden": true
   },
   "outputs": [],
   "source": [
    "addresses = []\n",
    "phones = []\n",
    "descriptions = []\n",
    "for url in urls_df.values:\n",
    "    page = urlopen(url=url[0])\n",
    "    soup = BeautifulSoup(page, 'html.parser')\n",
    "    for address in soup.findAll('p', {'class': 'business_address_address'}):\n",
    "        addresses.append(re.sub('\\s+', ' ', address.getText().replace('\\n', '')))\n",
    "    for phone in soup.find('p', {'class': 'business_address_phone'}):\n",
    "        phones.append(phone)\n",
    "    for i, c in enumerate(soup.findAll('p')):\n",
    "        if i==5:\n",
    "            descriptions.append(c.getText())\n",
    "address_df = pd.DataFrame(addresses, columns=['address'])\n",
    "phones_df = pd.DataFrame(phones, columns=['phone'])\n",
    "descriptions_df = pd.DataFrame(descriptions, columns=['description'])"
   ]
  },
  {
   "cell_type": "markdown",
   "metadata": {
    "heading_collapsed": true
   },
   "source": [
    "#### Other attributes"
   ]
  },
  {
   "cell_type": "code",
   "execution_count": 6,
   "metadata": {
    "hidden": true
   },
   "outputs": [],
   "source": [
    "tables = []\n",
    "for url in urls_df.values:\n",
    "    page = urlopen(url=url[0])\n",
    "    soup = BeautifulSoup(page, 'html.parser')\n",
    "    for table in soup.findAll('table', {'class': 'auto_detail_data_table'}):\n",
    "        table = pd.read_html(str(table)) \n",
    "        tables.append(table)"
   ]
  },
  {
   "cell_type": "code",
   "execution_count": 29,
   "metadata": {
    "hidden": true
   },
   "outputs": [],
   "source": [
    "attributes = ['Year', 'Mileage', 'Make', 'Model', 'Trim', 'Style', 'Engine', 'Exterior Color', 'Interior Color', 'VIN', 'Stock #']\n",
    "attributes_dict = {}\n",
    "for i in attributes:\n",
    "    attributes_dict[i] = []\n",
    "for table in tables:\n",
    "    table = table[0]\n",
    "    for attribute in attributes:\n",
    "        attributes_dict[attribute].append(table[table.iloc[:, 0]==attribute+':'].iloc[:, 1].values[0])\n",
    "cars = pd.concat([titles_df, pd.DataFrame(attributes_dict), descriptions_df], axis=1)"
   ]
  },
  {
   "cell_type": "markdown",
   "metadata": {},
   "source": [
    "#### Combine all attributes"
   ]
  },
  {
   "cell_type": "code",
   "execution_count": 30,
   "metadata": {},
   "outputs": [
    {
     "data": {
      "text/html": [
       "<div>\n",
       "<style scoped>\n",
       "    .dataframe tbody tr th:only-of-type {\n",
       "        vertical-align: middle;\n",
       "    }\n",
       "\n",
       "    .dataframe tbody tr th {\n",
       "        vertical-align: top;\n",
       "    }\n",
       "\n",
       "    .dataframe thead th {\n",
       "        text-align: right;\n",
       "    }\n",
       "</style>\n",
       "<table border=\"1\" class=\"dataframe\">\n",
       "  <thead>\n",
       "    <tr style=\"text-align: right;\">\n",
       "      <th></th>\n",
       "      <th>Title</th>\n",
       "      <th>Year</th>\n",
       "      <th>Mileage</th>\n",
       "      <th>Make</th>\n",
       "      <th>Model</th>\n",
       "      <th>Trim</th>\n",
       "      <th>Style</th>\n",
       "      <th>Engine</th>\n",
       "      <th>Exterior Color</th>\n",
       "      <th>Interior Color</th>\n",
       "      <th>VIN</th>\n",
       "      <th>Stock #</th>\n",
       "      <th>description</th>\n",
       "    </tr>\n",
       "  </thead>\n",
       "  <tbody>\n",
       "    <tr>\n",
       "      <th>0</th>\n",
       "      <td>2014 Subaru Outback</td>\n",
       "      <td>2014</td>\n",
       "      <td>75655</td>\n",
       "      <td>Subaru</td>\n",
       "      <td>Outback</td>\n",
       "      <td>2.5i Premium</td>\n",
       "      <td>Sport Utility</td>\n",
       "      <td>4 -</td>\n",
       "      <td>Twilight Blue Metall</td>\n",
       "      <td>Black</td>\n",
       "      <td>4S4BRBCC4E3219562</td>\n",
       "      <td>606614A</td>\n",
       "      <td>CARFAX One-Owner. Clean CARFAX. Blue 2014 Suba...</td>\n",
       "    </tr>\n",
       "    <tr>\n",
       "      <th>1</th>\n",
       "      <td>2013 Subaru XV Crosstrek</td>\n",
       "      <td>2013</td>\n",
       "      <td>69331</td>\n",
       "      <td>Subaru</td>\n",
       "      <td>XV Crosstrek</td>\n",
       "      <td>Premium</td>\n",
       "      <td>Station Wagon</td>\n",
       "      <td>4 -</td>\n",
       "      <td>Tangerine Orange Pea</td>\n",
       "      <td>Black</td>\n",
       "      <td>JF2GPACCXD1843307</td>\n",
       "      <td>204842B</td>\n",
       "      <td>Clean CARFAX. Orange 2013 Subaru XV Crosstrek ...</td>\n",
       "    </tr>\n",
       "    <tr>\n",
       "      <th>2</th>\n",
       "      <td>2014 Chevrolet Cruze</td>\n",
       "      <td>2014</td>\n",
       "      <td>61147</td>\n",
       "      <td>Chevrolet</td>\n",
       "      <td>Cruze</td>\n",
       "      <td>LS</td>\n",
       "      <td>4dr Car</td>\n",
       "      <td>4 -</td>\n",
       "      <td>Atlantis Blue Metall</td>\n",
       "      <td>Jet Black/Medium Tit</td>\n",
       "      <td>1G1PA5SG4E7343131</td>\n",
       "      <td>204275A</td>\n",
       "      <td>CARFAX One-Owner. Clean CARFAX. Blue 2014 Chev...</td>\n",
       "    </tr>\n",
       "    <tr>\n",
       "      <th>3</th>\n",
       "      <td>2015 Chevrolet Malibu</td>\n",
       "      <td>2015</td>\n",
       "      <td>25757</td>\n",
       "      <td>Chevrolet</td>\n",
       "      <td>Malibu</td>\n",
       "      <td>LS</td>\n",
       "      <td>4dr Car</td>\n",
       "      <td>4 -</td>\n",
       "      <td>Ashen Gray Metallic</td>\n",
       "      <td>Jet Black/Titanium</td>\n",
       "      <td>1G11B5SL2FF313357</td>\n",
       "      <td>204597A</td>\n",
       "      <td>CARFAX One-Owner. Clean CARFAX. Grey 2015 Chev...</td>\n",
       "    </tr>\n",
       "    <tr>\n",
       "      <th>4</th>\n",
       "      <td>2015 Chevrolet Silverado 1500</td>\n",
       "      <td>2015</td>\n",
       "      <td>41869</td>\n",
       "      <td>Chevrolet</td>\n",
       "      <td>Silverado 1500</td>\n",
       "      <td>High Country</td>\n",
       "      <td>Crew Cab Pickup</td>\n",
       "      <td>8 -</td>\n",
       "      <td>Deep Ruby Metallic</td>\n",
       "      <td>Saddle</td>\n",
       "      <td>3GCUKTEC9FG401065</td>\n",
       "      <td>204778A</td>\n",
       "      <td>CARFAX One-Owner. Clean CARFAX. Burgundy 2015 ...</td>\n",
       "    </tr>\n",
       "    <tr>\n",
       "      <th>5</th>\n",
       "      <td>2016 Chevrolet Malibu Limited</td>\n",
       "      <td>2016</td>\n",
       "      <td>52582</td>\n",
       "      <td>Chevrolet</td>\n",
       "      <td>Malibu Limited</td>\n",
       "      <td>LS</td>\n",
       "      <td>4dr Car</td>\n",
       "      <td>4 -</td>\n",
       "      <td>Champagne Silver Met</td>\n",
       "      <td>Jet Black/Titanium</td>\n",
       "      <td>1G11B5SAXGF135777</td>\n",
       "      <td>15498A</td>\n",
       "      <td>CARFAX One-Owner. Gold 2016 Chevrolet Malibu L...</td>\n",
       "    </tr>\n",
       "    <tr>\n",
       "      <th>6</th>\n",
       "      <td>2016 Subaru Forester</td>\n",
       "      <td>2016</td>\n",
       "      <td>16994</td>\n",
       "      <td>Subaru</td>\n",
       "      <td>Forester</td>\n",
       "      <td>2.5i</td>\n",
       "      <td>Sport Utility</td>\n",
       "      <td>4 -</td>\n",
       "      <td>Ice Silver Metallic</td>\n",
       "      <td>Black</td>\n",
       "      <td>JF2SJAAC3GG451169</td>\n",
       "      <td>606499A</td>\n",
       "      <td>CARFAX One-Owner. Clean CARFAX. Ice Silver Met...</td>\n",
       "    </tr>\n",
       "    <tr>\n",
       "      <th>7</th>\n",
       "      <td>2015 Chevrolet Silverado 1500</td>\n",
       "      <td>2015</td>\n",
       "      <td>49503</td>\n",
       "      <td>Chevrolet</td>\n",
       "      <td>Silverado 1500</td>\n",
       "      <td>LT</td>\n",
       "      <td>Crew Cab Pickup</td>\n",
       "      <td>8 -</td>\n",
       "      <td>Summit White</td>\n",
       "      <td>Jet Black</td>\n",
       "      <td>3GCUKREC9FG459437</td>\n",
       "      <td>204882A</td>\n",
       "      <td>CARFAX One-Owner. Clean CARFAX. White 2015 Che...</td>\n",
       "    </tr>\n",
       "    <tr>\n",
       "      <th>8</th>\n",
       "      <td>2017 Subaru Legacy</td>\n",
       "      <td>2017</td>\n",
       "      <td>2</td>\n",
       "      <td>Subaru</td>\n",
       "      <td>Legacy</td>\n",
       "      <td>Limited</td>\n",
       "      <td>4dr Car</td>\n",
       "      <td>6 -</td>\n",
       "      <td>Tungsten Metallic</td>\n",
       "      <td>Warm Ivory</td>\n",
       "      <td>4S3BNEN6XH3029939</td>\n",
       "      <td>604992</td>\n",
       "      <td>$750 off MSRP!We at Stocker Chevrolet apprecia...</td>\n",
       "    </tr>\n",
       "    <tr>\n",
       "      <th>9</th>\n",
       "      <td>2017 Subaru Outback</td>\n",
       "      <td>2017</td>\n",
       "      <td>3</td>\n",
       "      <td>Subaru</td>\n",
       "      <td>Outback</td>\n",
       "      <td>Limited</td>\n",
       "      <td>Sport Utility</td>\n",
       "      <td>4 -</td>\n",
       "      <td>Twilight Blue Metall</td>\n",
       "      <td>Slate Black</td>\n",
       "      <td>4S4BSANC0H3391975</td>\n",
       "      <td>605565</td>\n",
       "      <td>We at Stocker Chevrolet appreciate your time a...</td>\n",
       "    </tr>\n",
       "  </tbody>\n",
       "</table>\n",
       "</div>"
      ],
      "text/plain": [
       "                           Title  Year Mileage       Make           Model  \\\n",
       "0            2014 Subaru Outback  2014   75655     Subaru         Outback   \n",
       "1       2013 Subaru XV Crosstrek  2013   69331     Subaru    XV Crosstrek   \n",
       "2           2014 Chevrolet Cruze  2014   61147  Chevrolet           Cruze   \n",
       "3          2015 Chevrolet Malibu  2015   25757  Chevrolet          Malibu   \n",
       "4  2015 Chevrolet Silverado 1500  2015   41869  Chevrolet  Silverado 1500   \n",
       "5  2016 Chevrolet Malibu Limited  2016   52582  Chevrolet  Malibu Limited   \n",
       "6           2016 Subaru Forester  2016   16994     Subaru        Forester   \n",
       "7  2015 Chevrolet Silverado 1500  2015   49503  Chevrolet  Silverado 1500   \n",
       "8             2017 Subaru Legacy  2017       2     Subaru          Legacy   \n",
       "9            2017 Subaru Outback  2017       3     Subaru         Outback   \n",
       "\n",
       "           Trim            Style Engine        Exterior Color  \\\n",
       "0  2.5i Premium    Sport Utility    4 -  Twilight Blue Metall   \n",
       "1       Premium    Station Wagon    4 -  Tangerine Orange Pea   \n",
       "2            LS          4dr Car    4 -  Atlantis Blue Metall   \n",
       "3            LS          4dr Car    4 -   Ashen Gray Metallic   \n",
       "4  High Country  Crew Cab Pickup    8 -    Deep Ruby Metallic   \n",
       "5            LS          4dr Car    4 -  Champagne Silver Met   \n",
       "6          2.5i    Sport Utility    4 -   Ice Silver Metallic   \n",
       "7            LT  Crew Cab Pickup    8 -          Summit White   \n",
       "8       Limited          4dr Car    6 -     Tungsten Metallic   \n",
       "9       Limited    Sport Utility    4 -  Twilight Blue Metall   \n",
       "\n",
       "         Interior Color                VIN  Stock #  \\\n",
       "0                 Black  4S4BRBCC4E3219562  606614A   \n",
       "1                 Black  JF2GPACCXD1843307  204842B   \n",
       "2  Jet Black/Medium Tit  1G1PA5SG4E7343131  204275A   \n",
       "3    Jet Black/Titanium  1G11B5SL2FF313357  204597A   \n",
       "4                Saddle  3GCUKTEC9FG401065  204778A   \n",
       "5    Jet Black/Titanium  1G11B5SAXGF135777   15498A   \n",
       "6                 Black  JF2SJAAC3GG451169  606499A   \n",
       "7             Jet Black  3GCUKREC9FG459437  204882A   \n",
       "8            Warm Ivory  4S3BNEN6XH3029939   604992   \n",
       "9           Slate Black  4S4BSANC0H3391975   605565   \n",
       "\n",
       "                                         description  \n",
       "0  CARFAX One-Owner. Clean CARFAX. Blue 2014 Suba...  \n",
       "1  Clean CARFAX. Orange 2013 Subaru XV Crosstrek ...  \n",
       "2  CARFAX One-Owner. Clean CARFAX. Blue 2014 Chev...  \n",
       "3  CARFAX One-Owner. Clean CARFAX. Grey 2015 Chev...  \n",
       "4  CARFAX One-Owner. Clean CARFAX. Burgundy 2015 ...  \n",
       "5  CARFAX One-Owner. Gold 2016 Chevrolet Malibu L...  \n",
       "6  CARFAX One-Owner. Clean CARFAX. Ice Silver Met...  \n",
       "7  CARFAX One-Owner. Clean CARFAX. White 2015 Che...  \n",
       "8  $750 off MSRP!We at Stocker Chevrolet apprecia...  \n",
       "9  We at Stocker Chevrolet appreciate your time a...  "
      ]
     },
     "execution_count": 30,
     "metadata": {},
     "output_type": "execute_result"
    }
   ],
   "source": [
    "cars"
   ]
  },
  {
   "cell_type": "code",
   "execution_count": 32,
   "metadata": {},
   "outputs": [
    {
     "data": {
      "text/html": [
       "<div>\n",
       "<style scoped>\n",
       "    .dataframe tbody tr th:only-of-type {\n",
       "        vertical-align: middle;\n",
       "    }\n",
       "\n",
       "    .dataframe tbody tr th {\n",
       "        vertical-align: top;\n",
       "    }\n",
       "\n",
       "    .dataframe thead th {\n",
       "        text-align: right;\n",
       "    }\n",
       "</style>\n",
       "<table border=\"1\" class=\"dataframe\">\n",
       "  <thead>\n",
       "    <tr style=\"text-align: right;\">\n",
       "      <th></th>\n",
       "      <th>address</th>\n",
       "      <th>phone</th>\n",
       "    </tr>\n",
       "  </thead>\n",
       "  <tbody>\n",
       "    <tr>\n",
       "      <th>0</th>\n",
       "      <td>701 Benner Pike State College PA, 16801</td>\n",
       "      <td>(866) 235-0270</td>\n",
       "    </tr>\n",
       "    <tr>\n",
       "      <th>1</th>\n",
       "      <td>701 Benner Pike State College PA, 16801</td>\n",
       "      <td>(866) 235-0270</td>\n",
       "    </tr>\n",
       "    <tr>\n",
       "      <th>2</th>\n",
       "      <td>701 Benner Pike State College PA, 16801</td>\n",
       "      <td>(866) 235-0270</td>\n",
       "    </tr>\n",
       "    <tr>\n",
       "      <th>3</th>\n",
       "      <td>701 Benner Pike State College PA, 16801</td>\n",
       "      <td>(866) 235-0270</td>\n",
       "    </tr>\n",
       "    <tr>\n",
       "      <th>4</th>\n",
       "      <td>701 Benner Pike State College PA, 16801</td>\n",
       "      <td>(866) 235-0270</td>\n",
       "    </tr>\n",
       "    <tr>\n",
       "      <th>5</th>\n",
       "      <td>701 Benner Pike State College PA, 16801</td>\n",
       "      <td>(866) 235-0270</td>\n",
       "    </tr>\n",
       "    <tr>\n",
       "      <th>6</th>\n",
       "      <td>701 Benner Pike State College PA, 16801</td>\n",
       "      <td>(866) 235-0270</td>\n",
       "    </tr>\n",
       "    <tr>\n",
       "      <th>7</th>\n",
       "      <td>701 Benner Pike State College PA, 16801</td>\n",
       "      <td>(866) 235-0270</td>\n",
       "    </tr>\n",
       "    <tr>\n",
       "      <th>8</th>\n",
       "      <td>701 Benner Pike State College PA, 16801</td>\n",
       "      <td>(866) 235-0270</td>\n",
       "    </tr>\n",
       "    <tr>\n",
       "      <th>9</th>\n",
       "      <td>701 Benner Pike State College PA, 16801</td>\n",
       "      <td>(866) 235-0270</td>\n",
       "    </tr>\n",
       "  </tbody>\n",
       "</table>\n",
       "</div>"
      ],
      "text/plain": [
       "                                     address           phone\n",
       "0   701 Benner Pike State College PA, 16801   (866) 235-0270\n",
       "1   701 Benner Pike State College PA, 16801   (866) 235-0270\n",
       "2   701 Benner Pike State College PA, 16801   (866) 235-0270\n",
       "3   701 Benner Pike State College PA, 16801   (866) 235-0270\n",
       "4   701 Benner Pike State College PA, 16801   (866) 235-0270\n",
       "5   701 Benner Pike State College PA, 16801   (866) 235-0270\n",
       "6   701 Benner Pike State College PA, 16801   (866) 235-0270\n",
       "7   701 Benner Pike State College PA, 16801   (866) 235-0270\n",
       "8   701 Benner Pike State College PA, 16801   (866) 235-0270\n",
       "9   701 Benner Pike State College PA, 16801   (866) 235-0270"
      ]
     },
     "execution_count": 32,
     "metadata": {},
     "output_type": "execute_result"
    }
   ],
   "source": [
    "sellers = pd.concat([address_df, phones_df], axis=1)\n",
    "sellers"
   ]
  },
  {
   "cell_type": "markdown",
   "metadata": {},
   "source": [
    "#### Insert data into Redis"
   ]
  },
  {
   "cell_type": "code",
   "execution_count": 11,
   "metadata": {},
   "outputs": [],
   "source": [
    "# seller_address=''\n",
    "# seller_phone=''\n",
    "# for idx, t in enumerate(dataset.values):\n",
    "#     r = redis.StrictRedis(host='localhost', port=6379, db=idx)\n",
    "#     for i, attribute in enumerate(dataset.columns):\n",
    "#         if attribute=='address':\n",
    "#             seller_address = t[i]\n",
    "#         elif attribute=='phone':\n",
    "#             seller_phone = t[i]\n",
    "#         else:\n",
    "#             r.set(attribute, t[i])\n",
    "#         r.hmset('seller', {\n",
    "#             'address':seller_address,\n",
    "#             'phone':seller_phone\n",
    "#         })"
   ]
  },
  {
   "cell_type": "code",
   "execution_count": 158,
   "metadata": {},
   "outputs": [],
   "source": [
    "d = {}\n",
    "d['seller'] = dict(zip(sellers.columns,sellers.values[0]))\n",
    "dict(zip(cars.columns, cars.values[0])).update(d)\n",
    "v = dict(zip(cars.columns, cars.values[0]))\n",
    "v['seller'] = dict(zip(sellers.columns,sellers.values[0]))"
   ]
  },
  {
   "cell_type": "code",
   "execution_count": 105,
   "metadata": {},
   "outputs": [],
   "source": [
    "r = redis.StrictRedis(host='localhost', port=6379, db=0)\n",
    "for idx in range(len(cars)):\n",
    "    v = dict(zip(cars.columns, cars.values[idx]))\n",
    "    v['seller'] = dict(zip(sellers.columns,sellers.values[idx]))\n",
    "    #r.sadd('car_retail_dataset', v)\n",
    "    r.hmset(idx, v)"
   ]
  },
  {
   "cell_type": "markdown",
   "metadata": {},
   "source": [
    "#### Data model design"
   ]
  },
  {
   "cell_type": "markdown",
   "metadata": {},
   "source": [
    "- Attributes \n",
    "    - Title\n",
    "    - Year\n",
    "    - Engine\n",
    "    - Exterior Color\n",
    "    - Interior Color\n",
    "    - Make\n",
    "    - Mileage\n",
    "    - Model\n",
    "    - Stock \n",
    "    - Style\n",
    "    - Trim\n",
    "    - VIN\n",
    "    - Description\n",
    "    - Seller\n",
    "        - address\n",
    "        - phone\n",
    "        \n",
    "The data model covers all basic attributes of a car that could be found on the retail website and that buyers should be aware of."
   ]
  },
  {
   "cell_type": "markdown",
   "metadata": {},
   "source": [
    "#### Display the result"
   ]
  },
  {
   "cell_type": "markdown",
   "metadata": {},
   "source": [
    "![](7.png)\n",
    "\n",
    "![](8.png)\n",
    "\n",
    "![](9.png)\n",
    "\n",
    "![](10.png)\n",
    "\n",
    "\n",
    "\n",
    "\n"
   ]
  },
  {
   "cell_type": "markdown",
   "metadata": {},
   "source": [
    "#### Filter contents examples"
   ]
  },
  {
   "cell_type": "code",
   "execution_count": 155,
   "metadata": {},
   "outputs": [
    {
     "name": "stdout",
     "output_type": "stream",
     "text": [
      "b'2014 Subaru Outback'\n",
      "b'2013 Subaru XV Crosstrek'\n",
      "b'2016 Subaru Forester'\n",
      "b'2017 Subaru Legacy'\n",
      "b'2017 Subaru Outback'\n"
     ]
    }
   ],
   "source": [
    "for i in range(10):\n",
    "    # find 'Subaru' cars\n",
    "    if 'Subaru' in r.hget(name=i, key=b'Title').decode('utf-8'):\n",
    "        print(r.hget(name=i, key=b'Title'))"
   ]
  },
  {
   "cell_type": "code",
   "execution_count": 153,
   "metadata": {},
   "outputs": [
    {
     "name": "stdout",
     "output_type": "stream",
     "text": [
      "b'2015 Chevrolet Malibu'  :  b'Malibu'\n",
      "b'2016 Chevrolet Malibu Limited'  :  b'Malibu Limited'\n"
     ]
    }
   ],
   "source": [
    "for i in range(10):\n",
    "    # find cars with Malibu model:\n",
    "    if 'Malibu' in r.hget(name=i, key=b'Model').decode('utf-8'):\n",
    "        print(r.hget(name=i, key=b'Title'), ' : ', r.hget(name=i, key=b'Model'))"
   ]
  },
  {
   "cell_type": "code",
   "execution_count": 156,
   "metadata": {},
   "outputs": [
    {
     "name": "stdout",
     "output_type": "stream",
     "text": [
      "b'2013 Subaru XV Crosstrek'  :  b'JF2GPACCXD1843307'\n",
      "b'2015 Chevrolet Malibu'  :  b'1G11B5SL2FF313357'\n",
      "b'2016 Chevrolet Malibu Limited'  :  b'1G11B5SAXGF135777'\n",
      "b'2015 Chevrolet Silverado 1500'  :  b'3GCUKREC9FG459437'\n"
     ]
    }
   ],
   "source": [
    "for i in range(10):\n",
    "    # find VIN numbers ends with 7:\n",
    "    if r.hget(name=i, key=b'VIN').decode('utf-8').endswith('7'):\n",
    "        print(r.hget(name=i, key=b'Title'), ' : ', r.hget(name=i, key=b'VIN'))"
   ]
  }
 ],
 "metadata": {
  "kernelspec": {
   "display_name": "Python 3",
   "language": "python",
   "name": "python3"
  },
  "language_info": {
   "codemirror_mode": {
    "name": "ipython",
    "version": 3
   },
   "file_extension": ".py",
   "mimetype": "text/x-python",
   "name": "python",
   "nbconvert_exporter": "python",
   "pygments_lexer": "ipython3",
   "version": "3.6.6"
  },
  "latex_envs": {
   "LaTeX_envs_menu_present": true,
   "autoclose": false,
   "autocomplete": true,
   "bibliofile": "biblio.bib",
   "cite_by": "apalike",
   "current_citInitial": 1,
   "eqLabelWithNumbers": true,
   "eqNumInitial": 1,
   "hotkeys": {
    "equation": "Ctrl-E",
    "itemize": "Ctrl-I"
   },
   "labels_anchors": false,
   "latex_user_defs": false,
   "report_style_numbering": false,
   "user_envs_cfg": false
  }
 },
 "nbformat": 4,
 "nbformat_minor": 2
}
